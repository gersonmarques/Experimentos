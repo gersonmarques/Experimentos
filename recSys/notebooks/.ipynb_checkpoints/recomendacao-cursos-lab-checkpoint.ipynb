{
 "cells": [
  {
   "cell_type": "markdown",
   "metadata": {},
   "source": [
    "# Como construir um Sistema de Recomendação de cursos (passo a passo)\n",
    "* Descrição: Uma documentação sobre a construção de modelos de filtragem colaborativa para recomendar cursos para os alunos\n",
    "* Autor: Gerson Marques\n",
    "* Este script é baseado no estudo de Moorissa Tjokro: https://medium.com/datadriveninvestor/how-to-build-a-recommendation-system-for-purchase-data-step-by-step-d6d7a78800b6\n",
    "\n",
    "## Problema\n",
    "Neste desafio de dados, nós vamos construir modelos de filtragem colaboratica para recomendar cursos. Os passos abaixo tem como objetivo recomendar aos alunos 10 cursos para realizar ao entrar na plataforma de cursos da Universidade (Unisinos Lab). O resultado final será um arquivo csv na pasta `output`, e uma função que busca por uma lista de recomendações baseado em um aluno específico:\n",
    "\n",
    "* Entrada: usuário - Cliente ID\n",
    "* Retorna: ranking de uma lista de itens (ID do produto), provável que o usuário vai querer colocar em sua sacola de compras (que até então estava vazia)\n",
    "\n",
    "## 1. Modulos para importar\n",
    "* `pandas` e `numpy` para a manupulação de dados\n",
    "* `turicreate` para executar a seleção e avaliação do modelo\n",
    "* `sklearn` para dividir os dados em conjunto de trem e teste"
   ]
  },
  {
   "cell_type": "code",
   "execution_count": 55,
   "metadata": {},
   "outputs": [],
   "source": [
    "import pandas as pd\n",
    "import numpy as np\n",
    "import time\n",
    "import turicreate as tc\n",
    "from sklearn.model_selection import train_test_split"
   ]
  },
  {
   "cell_type": "markdown",
   "metadata": {},
   "source": [
    "## 2. Carregando os dados\n",
    "Dois conjuntos de dados são usados ​​neste exercício, que podem ser encontrados na pasta `data`: \n",
    "* `recommend_1.csv` consistindo em uma lista de 1000 IDs de clientes para recomendar, na pasta `output`\n",
    "* `trx_data.csv` consistindo em transações do usuário\n",
    "\n",
    "The format is as follows."
   ]
  },
  {
   "cell_type": "code",
   "execution_count": 2,
   "metadata": {},
   "outputs": [],
   "source": [
    "alunos = pd.read_csv('../data/alunos.csv')\n",
    "matriculas = pd.read_csv('../data/matriculas.csv')"
   ]
  },
  {
   "cell_type": "code",
   "execution_count": 3,
   "metadata": {},
   "outputs": [
    {
     "data": {
      "text/html": [
       "<div>\n",
       "<style scoped>\n",
       "    .dataframe tbody tr th:only-of-type {\n",
       "        vertical-align: middle;\n",
       "    }\n",
       "\n",
       "    .dataframe tbody tr th {\n",
       "        vertical-align: top;\n",
       "    }\n",
       "\n",
       "    .dataframe thead th {\n",
       "        text-align: right;\n",
       "    }\n",
       "</style>\n",
       "<table border=\"1\" class=\"dataframe\">\n",
       "  <thead>\n",
       "    <tr style=\"text-align: right;\">\n",
       "      <th></th>\n",
       "      <th>alunoId</th>\n",
       "      <th>cursos</th>\n",
       "    </tr>\n",
       "  </thead>\n",
       "  <tbody>\n",
       "    <tr>\n",
       "      <th>0</th>\n",
       "      <td>1076254</td>\n",
       "      <td>124321|920089|920083|920090|123465|123507</td>\n",
       "    </tr>\n",
       "    <tr>\n",
       "      <th>1</th>\n",
       "      <td>1268548</td>\n",
       "      <td>124321|122912</td>\n",
       "    </tr>\n",
       "    <tr>\n",
       "      <th>2</th>\n",
       "      <td>1709459</td>\n",
       "      <td>124321|124464|920089</td>\n",
       "    </tr>\n",
       "    <tr>\n",
       "      <th>3</th>\n",
       "      <td>1712393</td>\n",
       "      <td>124</td>\n",
       "    </tr>\n",
       "    <tr>\n",
       "      <th>4</th>\n",
       "      <td>1721053</td>\n",
       "      <td>124321|123661|124640</td>\n",
       "    </tr>\n",
       "  </tbody>\n",
       "</table>\n",
       "</div>"
      ],
      "text/plain": [
       "   alunoId                                     cursos\n",
       "0  1076254  124321|920089|920083|920090|123465|123507\n",
       "1  1268548                              124321|122912\n",
       "2  1709459                       124321|124464|920089\n",
       "3  1712393                                        124\n",
       "4  1721053                       124321|123661|124640"
      ]
     },
     "execution_count": 3,
     "metadata": {},
     "output_type": "execute_result"
    }
   ],
   "source": [
    "# print(alunos.shape)\n",
    "alunos.head()\n",
    "\n",
    "# print(matriculas.shape)\n",
    "matriculas.head()"
   ]
  },
  {
   "cell_type": "code",
   "execution_count": 391,
   "metadata": {},
   "outputs": [
    {
     "name": "stdout",
     "output_type": "stream",
     "text": [
      "(7987, 2)\n"
     ]
    },
    {
     "data": {
      "text/html": [
       "<div>\n",
       "<style scoped>\n",
       "    .dataframe tbody tr th:only-of-type {\n",
       "        vertical-align: middle;\n",
       "    }\n",
       "\n",
       "    .dataframe tbody tr th {\n",
       "        vertical-align: top;\n",
       "    }\n",
       "\n",
       "    .dataframe thead th {\n",
       "        text-align: right;\n",
       "    }\n",
       "</style>\n",
       "<table border=\"1\" class=\"dataframe\">\n",
       "  <thead>\n",
       "    <tr style=\"text-align: right;\">\n",
       "      <th></th>\n",
       "      <th>alunoId</th>\n",
       "      <th>cursos</th>\n",
       "    </tr>\n",
       "  </thead>\n",
       "  <tbody>\n",
       "    <tr>\n",
       "      <th>0</th>\n",
       "      <td>1076254</td>\n",
       "      <td>124321|920089|920083|920090|123465|123507</td>\n",
       "    </tr>\n",
       "    <tr>\n",
       "      <th>1</th>\n",
       "      <td>1268548</td>\n",
       "      <td>124321|122912</td>\n",
       "    </tr>\n",
       "    <tr>\n",
       "      <th>2</th>\n",
       "      <td>1709459</td>\n",
       "      <td>124321|124464|920089</td>\n",
       "    </tr>\n",
       "    <tr>\n",
       "      <th>3</th>\n",
       "      <td>1712393</td>\n",
       "      <td>124</td>\n",
       "    </tr>\n",
       "    <tr>\n",
       "      <th>4</th>\n",
       "      <td>1721053</td>\n",
       "      <td>124321|123661|124640</td>\n",
       "    </tr>\n",
       "  </tbody>\n",
       "</table>\n",
       "</div>"
      ],
      "text/plain": [
       "   alunoId                                     cursos\n",
       "0  1076254  124321|920089|920083|920090|123465|123507\n",
       "1  1268548                              124321|122912\n",
       "2  1709459                       124321|124464|920089\n",
       "3  1712393                                        124\n",
       "4  1721053                       124321|123661|124640"
      ]
     },
     "execution_count": 391,
     "metadata": {},
     "output_type": "execute_result"
    }
   ],
   "source": [
    "print(matriculas.shape)\n",
    "matriculas.head()"
   ]
  },
  {
   "cell_type": "markdown",
   "metadata": {},
   "source": [
    "## 3. Preparação dos dados\n",
    "* Nosso objetivo aqui é dividir cada lista de itens na coluna `cursos` em linhas e contar o número de produtos comprados por um usuário"
   ]
  },
  {
   "cell_type": "code",
   "execution_count": 4,
   "metadata": {},
   "outputs": [
    {
     "data": {
      "text/html": [
       "<div>\n",
       "<style scoped>\n",
       "    .dataframe tbody tr th:only-of-type {\n",
       "        vertical-align: middle;\n",
       "    }\n",
       "\n",
       "    .dataframe tbody tr th {\n",
       "        vertical-align: top;\n",
       "    }\n",
       "\n",
       "    .dataframe thead th {\n",
       "        text-align: right;\n",
       "    }\n",
       "</style>\n",
       "<table border=\"1\" class=\"dataframe\">\n",
       "  <thead>\n",
       "    <tr style=\"text-align: right;\">\n",
       "      <th></th>\n",
       "      <th>alunoId</th>\n",
       "      <th>cursoId</th>\n",
       "      <th>matricula_count</th>\n",
       "    </tr>\n",
       "  </thead>\n",
       "  <tbody>\n",
       "    <tr>\n",
       "      <th>0</th>\n",
       "      <td>1076254</td>\n",
       "      <td>123465.0</td>\n",
       "      <td>1</td>\n",
       "    </tr>\n",
       "    <tr>\n",
       "      <th>1</th>\n",
       "      <td>1076254</td>\n",
       "      <td>123507.0</td>\n",
       "      <td>1</td>\n",
       "    </tr>\n",
       "    <tr>\n",
       "      <th>2</th>\n",
       "      <td>1076254</td>\n",
       "      <td>124321.0</td>\n",
       "      <td>1</td>\n",
       "    </tr>\n",
       "    <tr>\n",
       "      <th>3</th>\n",
       "      <td>1076254</td>\n",
       "      <td>920083.0</td>\n",
       "      <td>1</td>\n",
       "    </tr>\n",
       "    <tr>\n",
       "      <th>4</th>\n",
       "      <td>1076254</td>\n",
       "      <td>920089.0</td>\n",
       "      <td>1</td>\n",
       "    </tr>\n",
       "    <tr>\n",
       "      <th>5</th>\n",
       "      <td>1076254</td>\n",
       "      <td>920090.0</td>\n",
       "      <td>1</td>\n",
       "    </tr>\n",
       "    <tr>\n",
       "      <th>6</th>\n",
       "      <td>1268548</td>\n",
       "      <td>122912.0</td>\n",
       "      <td>1</td>\n",
       "    </tr>\n",
       "    <tr>\n",
       "      <th>7</th>\n",
       "      <td>1268548</td>\n",
       "      <td>124321.0</td>\n",
       "      <td>1</td>\n",
       "    </tr>\n",
       "  </tbody>\n",
       "</table>\n",
       "</div>"
      ],
      "text/plain": [
       "   alunoId   cursoId  matricula_count\n",
       "0  1076254  123465.0                1\n",
       "1  1076254  123507.0                1\n",
       "2  1076254  124321.0                1\n",
       "3  1076254  920083.0                1\n",
       "4  1076254  920089.0                1\n",
       "5  1076254  920090.0                1\n",
       "6  1268548  122912.0                1\n",
       "7  1268548  124321.0                1"
      ]
     },
     "execution_count": 4,
     "metadata": {},
     "output_type": "execute_result"
    }
   ],
   "source": [
    "# etapa 1 da organizando dos cursos\n",
    "matriculas['cursos'] = matriculas['cursos'].apply(lambda x: [int(i) for i in x.split('|')])\n",
    "matriculas.head(2).set_index('alunoId')['cursos'].apply(pd.Series).reset_index()\n",
    "\n",
    "# etapa 2: criando um dataframe com os campos alunoId, cursoId, e matricula_count\n",
    "pd.melt(matriculas.head(2).set_index('alunoId')['cursos'].apply(pd.Series).reset_index(), \n",
    "             id_vars=['alunoId'],\n",
    "             value_name='cursos') \\\n",
    "    .dropna().drop(['variable'], axis=1) \\\n",
    "    .groupby(['alunoId', 'cursos']) \\\n",
    "    .agg({'cursos': 'count'}) \\\n",
    "    .rename(columns={'cursos': 'matricula_count'}) \\\n",
    "    .reset_index() \\\n",
    "    .rename(columns={'cursos': 'cursoId'})"
   ]
  },
  {
   "cell_type": "markdown",
   "metadata": {},
   "source": [
    "### 3.1. Crie dados com o usuário, item e campo de destino\n",
    "* Esta tabela será uma entrada para nossa modelagem posteriormente\n",
    "    * Nesse caso, nosso usuário é `alunoId`,` productId` e `contagem_matricula`"
   ]
  },
  {
   "cell_type": "code",
   "execution_count": 6,
   "metadata": {},
   "outputs": [
    {
     "name": "stdout",
     "output_type": "stream",
     "text": [
      "Execution time: 0.05 minutes\n"
     ]
    }
   ],
   "source": [
    "s=time.time()\n",
    "\n",
    "data = pd.melt(matriculas.set_index('alunoId')['cursos'].apply(pd.Series).reset_index(), \n",
    "             id_vars=['alunoId'],\n",
    "             value_name='cursos') \\\n",
    "    .dropna().drop(['variable'], axis=1) \\\n",
    "    .groupby(['alunoId', 'cursos']) \\\n",
    "    .agg({'cursos': 'count'}) \\\n",
    "    .rename(columns={'cursos': 'matricula_count'}) \\\n",
    "    .reset_index() \\\n",
    "    .rename(columns={'cursos': 'cursoId'})\n",
    "data['cursoId'] = data['cursoId'].astype(np.int64)\n",
    "\n",
    "print(\"Execution time:\", round((time.time()-s)/60,2), \"minutes\")"
   ]
  },
  {
   "cell_type": "code",
   "execution_count": 7,
   "metadata": {},
   "outputs": [
    {
     "name": "stdout",
     "output_type": "stream",
     "text": [
      "(24463, 3)\n"
     ]
    },
    {
     "data": {
      "text/html": [
       "<div>\n",
       "<style scoped>\n",
       "    .dataframe tbody tr th:only-of-type {\n",
       "        vertical-align: middle;\n",
       "    }\n",
       "\n",
       "    .dataframe tbody tr th {\n",
       "        vertical-align: top;\n",
       "    }\n",
       "\n",
       "    .dataframe thead th {\n",
       "        text-align: right;\n",
       "    }\n",
       "</style>\n",
       "<table border=\"1\" class=\"dataframe\">\n",
       "  <thead>\n",
       "    <tr style=\"text-align: right;\">\n",
       "      <th></th>\n",
       "      <th>alunoId</th>\n",
       "      <th>cursoId</th>\n",
       "      <th>matricula_count</th>\n",
       "    </tr>\n",
       "  </thead>\n",
       "  <tbody>\n",
       "    <tr>\n",
       "      <th>0</th>\n",
       "      <td>360153</td>\n",
       "      <td>123750</td>\n",
       "      <td>1</td>\n",
       "    </tr>\n",
       "    <tr>\n",
       "      <th>1</th>\n",
       "      <td>360153</td>\n",
       "      <td>920086</td>\n",
       "      <td>1</td>\n",
       "    </tr>\n",
       "    <tr>\n",
       "      <th>2</th>\n",
       "      <td>360478</td>\n",
       "      <td>1244</td>\n",
       "      <td>1</td>\n",
       "    </tr>\n",
       "    <tr>\n",
       "      <th>3</th>\n",
       "      <td>360714</td>\n",
       "      <td>1246</td>\n",
       "      <td>1</td>\n",
       "    </tr>\n",
       "    <tr>\n",
       "      <th>4</th>\n",
       "      <td>360847</td>\n",
       "      <td>1242</td>\n",
       "      <td>1</td>\n",
       "    </tr>\n",
       "  </tbody>\n",
       "</table>\n",
       "</div>"
      ],
      "text/plain": [
       "   alunoId  cursoId  matricula_count\n",
       "0   360153   123750                1\n",
       "1   360153   920086                1\n",
       "2   360478     1244                1\n",
       "3   360714     1246                1\n",
       "4   360847     1242                1"
      ]
     },
     "execution_count": 7,
     "metadata": {},
     "output_type": "execute_result"
    }
   ],
   "source": [
    "print(data.shape)\n",
    "data.head()"
   ]
  },
  {
   "cell_type": "markdown",
   "metadata": {},
   "source": [
    "### 3.2. Criando o dummy\n",
    "* Dummy para marcar se um cliente comprou ou não esse item.\n",
    "* Se alguém compra um item, o `purchase_dummy` é marcado como 1\n",
    "* Por que criar um dummyo em vez de normalizá-lo, você poderia perguntar?\n",
    "    * Normalizar a contagem de compras, digamos por cada usuário, não funcionaria porque os clientes podem ter diferentes frequências de compra e não têm o mesmo gosto\n",
    "    * No entanto, podemos normalizar itens pela frequência de compra em todos os usuários, o que é feito na seção 3.3. abaixo"
   ]
  },
  {
   "cell_type": "code",
   "execution_count": 10,
   "metadata": {},
   "outputs": [],
   "source": [
    "def create_data_dummy(data):\n",
    "    data_dummy = data.copy()\n",
    "    data_dummy['matricula_dummy'] = 1\n",
    "    return data_dummy"
   ]
  },
  {
   "cell_type": "code",
   "execution_count": 11,
   "metadata": {},
   "outputs": [],
   "source": [
    "data_dummy = create_data_dummy(data)"
   ]
  },
  {
   "cell_type": "markdown",
   "metadata": {},
   "source": [
    "### 3.3. Normalizar valores de itens entre usuários\n",
    "* Para fazer isso, normalizamos a frequência de compra de cada item entre os usuários criando primeiro uma matriz de itens do usuário da seguinte maneira"
   ]
  },
  {
   "cell_type": "code",
   "execution_count": 12,
   "metadata": {},
   "outputs": [
    {
     "data": {
      "text/html": [
       "<div>\n",
       "<style scoped>\n",
       "    .dataframe tbody tr th:only-of-type {\n",
       "        vertical-align: middle;\n",
       "    }\n",
       "\n",
       "    .dataframe tbody tr th {\n",
       "        vertical-align: top;\n",
       "    }\n",
       "\n",
       "    .dataframe thead th {\n",
       "        text-align: right;\n",
       "    }\n",
       "</style>\n",
       "<table border=\"1\" class=\"dataframe\">\n",
       "  <thead>\n",
       "    <tr style=\"text-align: right;\">\n",
       "      <th>cursoId</th>\n",
       "      <th>1</th>\n",
       "      <th>12</th>\n",
       "      <th>92</th>\n",
       "      <th>111</th>\n",
       "      <th>121</th>\n",
       "      <th>122</th>\n",
       "      <th>123</th>\n",
       "      <th>124</th>\n",
       "      <th>125</th>\n",
       "      <th>1001</th>\n",
       "      <th>...</th>\n",
       "      <th>920107</th>\n",
       "      <th>920113</th>\n",
       "      <th>920115</th>\n",
       "      <th>920121</th>\n",
       "      <th>920122</th>\n",
       "      <th>920128</th>\n",
       "      <th>920135</th>\n",
       "      <th>920137</th>\n",
       "      <th>920139</th>\n",
       "      <th>920140</th>\n",
       "    </tr>\n",
       "    <tr>\n",
       "      <th>alunoId</th>\n",
       "      <th></th>\n",
       "      <th></th>\n",
       "      <th></th>\n",
       "      <th></th>\n",
       "      <th></th>\n",
       "      <th></th>\n",
       "      <th></th>\n",
       "      <th></th>\n",
       "      <th></th>\n",
       "      <th></th>\n",
       "      <th></th>\n",
       "      <th></th>\n",
       "      <th></th>\n",
       "      <th></th>\n",
       "      <th></th>\n",
       "      <th></th>\n",
       "      <th></th>\n",
       "      <th></th>\n",
       "      <th></th>\n",
       "      <th></th>\n",
       "      <th></th>\n",
       "    </tr>\n",
       "  </thead>\n",
       "  <tbody>\n",
       "    <tr>\n",
       "      <th>360153</th>\n",
       "      <td>NaN</td>\n",
       "      <td>NaN</td>\n",
       "      <td>NaN</td>\n",
       "      <td>NaN</td>\n",
       "      <td>NaN</td>\n",
       "      <td>NaN</td>\n",
       "      <td>NaN</td>\n",
       "      <td>NaN</td>\n",
       "      <td>NaN</td>\n",
       "      <td>NaN</td>\n",
       "      <td>...</td>\n",
       "      <td>NaN</td>\n",
       "      <td>NaN</td>\n",
       "      <td>NaN</td>\n",
       "      <td>NaN</td>\n",
       "      <td>NaN</td>\n",
       "      <td>NaN</td>\n",
       "      <td>NaN</td>\n",
       "      <td>NaN</td>\n",
       "      <td>NaN</td>\n",
       "      <td>NaN</td>\n",
       "    </tr>\n",
       "    <tr>\n",
       "      <th>360478</th>\n",
       "      <td>NaN</td>\n",
       "      <td>NaN</td>\n",
       "      <td>NaN</td>\n",
       "      <td>NaN</td>\n",
       "      <td>NaN</td>\n",
       "      <td>NaN</td>\n",
       "      <td>NaN</td>\n",
       "      <td>NaN</td>\n",
       "      <td>NaN</td>\n",
       "      <td>NaN</td>\n",
       "      <td>...</td>\n",
       "      <td>NaN</td>\n",
       "      <td>NaN</td>\n",
       "      <td>NaN</td>\n",
       "      <td>NaN</td>\n",
       "      <td>NaN</td>\n",
       "      <td>NaN</td>\n",
       "      <td>NaN</td>\n",
       "      <td>NaN</td>\n",
       "      <td>NaN</td>\n",
       "      <td>NaN</td>\n",
       "    </tr>\n",
       "    <tr>\n",
       "      <th>360714</th>\n",
       "      <td>NaN</td>\n",
       "      <td>NaN</td>\n",
       "      <td>NaN</td>\n",
       "      <td>NaN</td>\n",
       "      <td>NaN</td>\n",
       "      <td>NaN</td>\n",
       "      <td>NaN</td>\n",
       "      <td>NaN</td>\n",
       "      <td>NaN</td>\n",
       "      <td>NaN</td>\n",
       "      <td>...</td>\n",
       "      <td>NaN</td>\n",
       "      <td>NaN</td>\n",
       "      <td>NaN</td>\n",
       "      <td>NaN</td>\n",
       "      <td>NaN</td>\n",
       "      <td>NaN</td>\n",
       "      <td>NaN</td>\n",
       "      <td>NaN</td>\n",
       "      <td>NaN</td>\n",
       "      <td>NaN</td>\n",
       "    </tr>\n",
       "    <tr>\n",
       "      <th>360847</th>\n",
       "      <td>NaN</td>\n",
       "      <td>NaN</td>\n",
       "      <td>NaN</td>\n",
       "      <td>NaN</td>\n",
       "      <td>NaN</td>\n",
       "      <td>NaN</td>\n",
       "      <td>NaN</td>\n",
       "      <td>NaN</td>\n",
       "      <td>NaN</td>\n",
       "      <td>NaN</td>\n",
       "      <td>...</td>\n",
       "      <td>NaN</td>\n",
       "      <td>NaN</td>\n",
       "      <td>NaN</td>\n",
       "      <td>NaN</td>\n",
       "      <td>NaN</td>\n",
       "      <td>NaN</td>\n",
       "      <td>NaN</td>\n",
       "      <td>NaN</td>\n",
       "      <td>NaN</td>\n",
       "      <td>NaN</td>\n",
       "    </tr>\n",
       "    <tr>\n",
       "      <th>361280</th>\n",
       "      <td>NaN</td>\n",
       "      <td>NaN</td>\n",
       "      <td>NaN</td>\n",
       "      <td>NaN</td>\n",
       "      <td>NaN</td>\n",
       "      <td>NaN</td>\n",
       "      <td>NaN</td>\n",
       "      <td>NaN</td>\n",
       "      <td>NaN</td>\n",
       "      <td>NaN</td>\n",
       "      <td>...</td>\n",
       "      <td>NaN</td>\n",
       "      <td>NaN</td>\n",
       "      <td>NaN</td>\n",
       "      <td>NaN</td>\n",
       "      <td>NaN</td>\n",
       "      <td>NaN</td>\n",
       "      <td>NaN</td>\n",
       "      <td>NaN</td>\n",
       "      <td>NaN</td>\n",
       "      <td>NaN</td>\n",
       "    </tr>\n",
       "  </tbody>\n",
       "</table>\n",
       "<p>5 rows × 740 columns</p>\n",
       "</div>"
      ],
      "text/plain": [
       "cursoId  1       12      92      111     121     122     123     124     \\\n",
       "alunoId                                                                   \n",
       "360153      NaN     NaN     NaN     NaN     NaN     NaN     NaN     NaN   \n",
       "360478      NaN     NaN     NaN     NaN     NaN     NaN     NaN     NaN   \n",
       "360714      NaN     NaN     NaN     NaN     NaN     NaN     NaN     NaN   \n",
       "360847      NaN     NaN     NaN     NaN     NaN     NaN     NaN     NaN   \n",
       "361280      NaN     NaN     NaN     NaN     NaN     NaN     NaN     NaN   \n",
       "\n",
       "cursoId  125     1001    ...  920107  920113  920115  920121  920122  920128  \\\n",
       "alunoId                  ...                                                   \n",
       "360153      NaN     NaN  ...     NaN     NaN     NaN     NaN     NaN     NaN   \n",
       "360478      NaN     NaN  ...     NaN     NaN     NaN     NaN     NaN     NaN   \n",
       "360714      NaN     NaN  ...     NaN     NaN     NaN     NaN     NaN     NaN   \n",
       "360847      NaN     NaN  ...     NaN     NaN     NaN     NaN     NaN     NaN   \n",
       "361280      NaN     NaN  ...     NaN     NaN     NaN     NaN     NaN     NaN   \n",
       "\n",
       "cursoId  920135  920137  920139  920140  \n",
       "alunoId                                  \n",
       "360153      NaN     NaN     NaN     NaN  \n",
       "360478      NaN     NaN     NaN     NaN  \n",
       "360714      NaN     NaN     NaN     NaN  \n",
       "360847      NaN     NaN     NaN     NaN  \n",
       "361280      NaN     NaN     NaN     NaN  \n",
       "\n",
       "[5 rows x 740 columns]"
      ]
     },
     "execution_count": 12,
     "metadata": {},
     "output_type": "execute_result"
    }
   ],
   "source": [
    "df_matrix = pd.pivot_table(data, values='matricula_count', index='alunoId', columns='cursoId')\n",
    "df_matrix.head()"
   ]
  },
  {
   "cell_type": "code",
   "execution_count": 14,
   "metadata": {},
   "outputs": [
    {
     "data": {
      "text/plain": [
       "(7987, 740)"
      ]
     },
     "execution_count": 14,
     "metadata": {},
     "output_type": "execute_result"
    }
   ],
   "source": [
    "(df_matrix.shape)"
   ]
  },
  {
   "cell_type": "code",
   "execution_count": 16,
   "metadata": {},
   "outputs": [
    {
     "name": "stdout",
     "output_type": "stream",
     "text": [
      "(7987, 740)\n"
     ]
    },
    {
     "data": {
      "text/html": [
       "<div>\n",
       "<style scoped>\n",
       "    .dataframe tbody tr th:only-of-type {\n",
       "        vertical-align: middle;\n",
       "    }\n",
       "\n",
       "    .dataframe tbody tr th {\n",
       "        vertical-align: top;\n",
       "    }\n",
       "\n",
       "    .dataframe thead th {\n",
       "        text-align: right;\n",
       "    }\n",
       "</style>\n",
       "<table border=\"1\" class=\"dataframe\">\n",
       "  <thead>\n",
       "    <tr style=\"text-align: right;\">\n",
       "      <th>cursoId</th>\n",
       "      <th>1</th>\n",
       "      <th>12</th>\n",
       "      <th>92</th>\n",
       "      <th>111</th>\n",
       "      <th>121</th>\n",
       "      <th>122</th>\n",
       "      <th>123</th>\n",
       "      <th>124</th>\n",
       "      <th>125</th>\n",
       "      <th>1001</th>\n",
       "      <th>...</th>\n",
       "      <th>920107</th>\n",
       "      <th>920113</th>\n",
       "      <th>920115</th>\n",
       "      <th>920121</th>\n",
       "      <th>920122</th>\n",
       "      <th>920128</th>\n",
       "      <th>920135</th>\n",
       "      <th>920137</th>\n",
       "      <th>920139</th>\n",
       "      <th>920140</th>\n",
       "    </tr>\n",
       "    <tr>\n",
       "      <th>alunoId</th>\n",
       "      <th></th>\n",
       "      <th></th>\n",
       "      <th></th>\n",
       "      <th></th>\n",
       "      <th></th>\n",
       "      <th></th>\n",
       "      <th></th>\n",
       "      <th></th>\n",
       "      <th></th>\n",
       "      <th></th>\n",
       "      <th></th>\n",
       "      <th></th>\n",
       "      <th></th>\n",
       "      <th></th>\n",
       "      <th></th>\n",
       "      <th></th>\n",
       "      <th></th>\n",
       "      <th></th>\n",
       "      <th></th>\n",
       "      <th></th>\n",
       "      <th></th>\n",
       "    </tr>\n",
       "  </thead>\n",
       "  <tbody>\n",
       "    <tr>\n",
       "      <th>360153</th>\n",
       "      <td>NaN</td>\n",
       "      <td>NaN</td>\n",
       "      <td>NaN</td>\n",
       "      <td>NaN</td>\n",
       "      <td>NaN</td>\n",
       "      <td>NaN</td>\n",
       "      <td>NaN</td>\n",
       "      <td>NaN</td>\n",
       "      <td>NaN</td>\n",
       "      <td>NaN</td>\n",
       "      <td>...</td>\n",
       "      <td>NaN</td>\n",
       "      <td>NaN</td>\n",
       "      <td>NaN</td>\n",
       "      <td>NaN</td>\n",
       "      <td>NaN</td>\n",
       "      <td>NaN</td>\n",
       "      <td>NaN</td>\n",
       "      <td>NaN</td>\n",
       "      <td>NaN</td>\n",
       "      <td>NaN</td>\n",
       "    </tr>\n",
       "    <tr>\n",
       "      <th>360478</th>\n",
       "      <td>NaN</td>\n",
       "      <td>NaN</td>\n",
       "      <td>NaN</td>\n",
       "      <td>NaN</td>\n",
       "      <td>NaN</td>\n",
       "      <td>NaN</td>\n",
       "      <td>NaN</td>\n",
       "      <td>NaN</td>\n",
       "      <td>NaN</td>\n",
       "      <td>NaN</td>\n",
       "      <td>...</td>\n",
       "      <td>NaN</td>\n",
       "      <td>NaN</td>\n",
       "      <td>NaN</td>\n",
       "      <td>NaN</td>\n",
       "      <td>NaN</td>\n",
       "      <td>NaN</td>\n",
       "      <td>NaN</td>\n",
       "      <td>NaN</td>\n",
       "      <td>NaN</td>\n",
       "      <td>NaN</td>\n",
       "    </tr>\n",
       "    <tr>\n",
       "      <th>360714</th>\n",
       "      <td>NaN</td>\n",
       "      <td>NaN</td>\n",
       "      <td>NaN</td>\n",
       "      <td>NaN</td>\n",
       "      <td>NaN</td>\n",
       "      <td>NaN</td>\n",
       "      <td>NaN</td>\n",
       "      <td>NaN</td>\n",
       "      <td>NaN</td>\n",
       "      <td>NaN</td>\n",
       "      <td>...</td>\n",
       "      <td>NaN</td>\n",
       "      <td>NaN</td>\n",
       "      <td>NaN</td>\n",
       "      <td>NaN</td>\n",
       "      <td>NaN</td>\n",
       "      <td>NaN</td>\n",
       "      <td>NaN</td>\n",
       "      <td>NaN</td>\n",
       "      <td>NaN</td>\n",
       "      <td>NaN</td>\n",
       "    </tr>\n",
       "    <tr>\n",
       "      <th>360847</th>\n",
       "      <td>NaN</td>\n",
       "      <td>NaN</td>\n",
       "      <td>NaN</td>\n",
       "      <td>NaN</td>\n",
       "      <td>NaN</td>\n",
       "      <td>NaN</td>\n",
       "      <td>NaN</td>\n",
       "      <td>NaN</td>\n",
       "      <td>NaN</td>\n",
       "      <td>NaN</td>\n",
       "      <td>...</td>\n",
       "      <td>NaN</td>\n",
       "      <td>NaN</td>\n",
       "      <td>NaN</td>\n",
       "      <td>NaN</td>\n",
       "      <td>NaN</td>\n",
       "      <td>NaN</td>\n",
       "      <td>NaN</td>\n",
       "      <td>NaN</td>\n",
       "      <td>NaN</td>\n",
       "      <td>NaN</td>\n",
       "    </tr>\n",
       "    <tr>\n",
       "      <th>361280</th>\n",
       "      <td>NaN</td>\n",
       "      <td>NaN</td>\n",
       "      <td>NaN</td>\n",
       "      <td>NaN</td>\n",
       "      <td>NaN</td>\n",
       "      <td>NaN</td>\n",
       "      <td>NaN</td>\n",
       "      <td>NaN</td>\n",
       "      <td>NaN</td>\n",
       "      <td>NaN</td>\n",
       "      <td>...</td>\n",
       "      <td>NaN</td>\n",
       "      <td>NaN</td>\n",
       "      <td>NaN</td>\n",
       "      <td>NaN</td>\n",
       "      <td>NaN</td>\n",
       "      <td>NaN</td>\n",
       "      <td>NaN</td>\n",
       "      <td>NaN</td>\n",
       "      <td>NaN</td>\n",
       "      <td>NaN</td>\n",
       "    </tr>\n",
       "  </tbody>\n",
       "</table>\n",
       "<p>5 rows × 740 columns</p>\n",
       "</div>"
      ],
      "text/plain": [
       "cursoId  1       12      92      111     121     122     123     124     \\\n",
       "alunoId                                                                   \n",
       "360153      NaN     NaN     NaN     NaN     NaN     NaN     NaN     NaN   \n",
       "360478      NaN     NaN     NaN     NaN     NaN     NaN     NaN     NaN   \n",
       "360714      NaN     NaN     NaN     NaN     NaN     NaN     NaN     NaN   \n",
       "360847      NaN     NaN     NaN     NaN     NaN     NaN     NaN     NaN   \n",
       "361280      NaN     NaN     NaN     NaN     NaN     NaN     NaN     NaN   \n",
       "\n",
       "cursoId  125     1001    ...  920107  920113  920115  920121  920122  920128  \\\n",
       "alunoId                  ...                                                   \n",
       "360153      NaN     NaN  ...     NaN     NaN     NaN     NaN     NaN     NaN   \n",
       "360478      NaN     NaN  ...     NaN     NaN     NaN     NaN     NaN     NaN   \n",
       "360714      NaN     NaN  ...     NaN     NaN     NaN     NaN     NaN     NaN   \n",
       "360847      NaN     NaN  ...     NaN     NaN     NaN     NaN     NaN     NaN   \n",
       "361280      NaN     NaN  ...     NaN     NaN     NaN     NaN     NaN     NaN   \n",
       "\n",
       "cursoId  920135  920137  920139  920140  \n",
       "alunoId                                  \n",
       "360153      NaN     NaN     NaN     NaN  \n",
       "360478      NaN     NaN     NaN     NaN  \n",
       "360714      NaN     NaN     NaN     NaN  \n",
       "360847      NaN     NaN     NaN     NaN  \n",
       "361280      NaN     NaN     NaN     NaN  \n",
       "\n",
       "[5 rows x 740 columns]"
      ]
     },
     "execution_count": 16,
     "metadata": {},
     "output_type": "execute_result"
    }
   ],
   "source": [
    "df_matrix_norm = (df_matrix-df_matrix.min())/(df_matrix.max()-df_matrix.min())\n",
    "print(df_matrix_norm.shape)\n",
    "df_matrix_norm.head()"
   ]
  },
  {
   "cell_type": "code",
   "execution_count": 17,
   "metadata": {},
   "outputs": [
    {
     "name": "stdout",
     "output_type": "stream",
     "text": [
      "(17800, 3)\n"
     ]
    },
    {
     "data": {
      "text/html": [
       "<div>\n",
       "<style scoped>\n",
       "    .dataframe tbody tr th:only-of-type {\n",
       "        vertical-align: middle;\n",
       "    }\n",
       "\n",
       "    .dataframe tbody tr th {\n",
       "        vertical-align: top;\n",
       "    }\n",
       "\n",
       "    .dataframe thead th {\n",
       "        text-align: right;\n",
       "    }\n",
       "</style>\n",
       "<table border=\"1\" class=\"dataframe\">\n",
       "  <thead>\n",
       "    <tr style=\"text-align: right;\">\n",
       "      <th></th>\n",
       "      <th>alunoId</th>\n",
       "      <th>cursoId</th>\n",
       "      <th>scaled_matricula_freq</th>\n",
       "    </tr>\n",
       "  </thead>\n",
       "  <tbody>\n",
       "    <tr>\n",
       "      <th>255611</th>\n",
       "      <td>397773</td>\n",
       "      <td>10004</td>\n",
       "      <td>0.0</td>\n",
       "    </tr>\n",
       "    <tr>\n",
       "      <th>255844</th>\n",
       "      <td>911508</td>\n",
       "      <td>10004</td>\n",
       "      <td>0.0</td>\n",
       "    </tr>\n",
       "    <tr>\n",
       "      <th>255888</th>\n",
       "      <td>934537</td>\n",
       "      <td>10004</td>\n",
       "      <td>0.0</td>\n",
       "    </tr>\n",
       "    <tr>\n",
       "      <th>256156</th>\n",
       "      <td>1075868</td>\n",
       "      <td>10004</td>\n",
       "      <td>0.0</td>\n",
       "    </tr>\n",
       "    <tr>\n",
       "      <th>256300</th>\n",
       "      <td>1124452</td>\n",
       "      <td>10004</td>\n",
       "      <td>0.0</td>\n",
       "    </tr>\n",
       "  </tbody>\n",
       "</table>\n",
       "</div>"
      ],
      "text/plain": [
       "        alunoId cursoId  scaled_matricula_freq\n",
       "255611   397773   10004                    0.0\n",
       "255844   911508   10004                    0.0\n",
       "255888   934537   10004                    0.0\n",
       "256156  1075868   10004                    0.0\n",
       "256300  1124452   10004                    0.0"
      ]
     },
     "execution_count": 17,
     "metadata": {},
     "output_type": "execute_result"
    }
   ],
   "source": [
    "# crie uma tabela para entrada na modelagem\n",
    "\n",
    "d = df_matrix_norm.reset_index()\n",
    "d.index.names = ['scaled_matricula_freq']\n",
    "data_norm = pd.melt(d, id_vars=['alunoId'], value_name='scaled_matricula_freq').dropna()\n",
    "print(data_norm.shape)\n",
    "data_norm.head()"
   ]
  },
  {
   "cell_type": "markdown",
   "metadata": {},
   "source": [
    "#### Definir uma função para normalizar dados"
   ]
  },
  {
   "cell_type": "code",
   "execution_count": 18,
   "metadata": {},
   "outputs": [],
   "source": [
    "def normalize_data(data):\n",
    "    df_matrix = pd.pivot_table(data, values='matricula_count', index='alunoId', columns='cursoId')\n",
    "    df_matrix_norm = (df_matrix-df_matrix.min())/(df_matrix.max()-df_matrix.min())\n",
    "    d = df_matrix_norm.reset_index()\n",
    "    d.index.names = ['scaled_matricula_freq']\n",
    "    return pd.melt(d, id_vars=['alunoId'], value_name='scaled_matricula_freq').dropna()"
   ]
  },
  {
   "cell_type": "markdown",
   "metadata": {},
   "source": [
    "* Podemos normalizar o histórico de compras deles, de 0 a 1 (sendo 1 o número de compras mais alto para um item e 0 sendo 0 a contagem de compras para esse item)."
   ]
  },
  {
   "cell_type": "markdown",
   "metadata": {},
   "source": [
    "# 4. Treinamento por partes e conjunto de testes\n",
    "* Dividir os dados em conjuntos de treinamento e teste é uma parte importante da avaliação da modelagem preditiva, neste caso, um modelo de filtragem colaborativa. Normalmente, usamos uma porção maior dos dados para treinamento e uma porção menor para teste. \n",
    "* Usamos a proporção 80:20 para o nosso conjunto de testes configurar o tamanho.\n",
    "* Nossa parte de treinamento será usada para desenvolver um modelo preditivo, enquanto a outra para avaliar o desempenho do modelo\n",
    "* Agora que temos três conjuntos de dados com contagens de compra, dummy de compra e contagens de compra em escala, gostaríamos de dividir cada um."
   ]
  },
  {
   "cell_type": "code",
   "execution_count": 19,
   "metadata": {},
   "outputs": [
    {
     "name": "stdout",
     "output_type": "stream",
     "text": [
      "(19570, 3) (4893, 3)\n"
     ]
    }
   ],
   "source": [
    "train, test = train_test_split(data, test_size = .2)\n",
    "print(train.shape, test.shape)"
   ]
  },
  {
   "cell_type": "code",
   "execution_count": 20,
   "metadata": {},
   "outputs": [],
   "source": [
    "# Usando a biblioteca turicreate, convertemos o dataframe em SFrame - isso será útil na parte de modelagem\n",
    "\n",
    "train_data = tc.SFrame(train)\n",
    "test_data = tc.SFrame(test)"
   ]
  },
  {
   "cell_type": "code",
   "execution_count": 21,
   "metadata": {},
   "outputs": [
    {
     "data": {
      "text/html": [
       "<div style=\"max-height:1000px;max-width:1500px;overflow:auto;\"><table frame=\"box\" rules=\"cols\">\n",
       "    <tr>\n",
       "        <th style=\"padding-left: 1em; padding-right: 1em; text-align: center\">alunoId</th>\n",
       "        <th style=\"padding-left: 1em; padding-right: 1em; text-align: center\">cursoId</th>\n",
       "        <th style=\"padding-left: 1em; padding-right: 1em; text-align: center\">matricula_count</th>\n",
       "    </tr>\n",
       "    <tr>\n",
       "        <td style=\"padding-left: 1em; padding-right: 1em; text-align: center; vertical-align: top\">1769155</td>\n",
       "        <td style=\"padding-left: 1em; padding-right: 1em; text-align: center; vertical-align: top\">920083</td>\n",
       "        <td style=\"padding-left: 1em; padding-right: 1em; text-align: center; vertical-align: top\">1</td>\n",
       "    </tr>\n",
       "    <tr>\n",
       "        <td style=\"padding-left: 1em; padding-right: 1em; text-align: center; vertical-align: top\">1773572</td>\n",
       "        <td style=\"padding-left: 1em; padding-right: 1em; text-align: center; vertical-align: top\">10006</td>\n",
       "        <td style=\"padding-left: 1em; padding-right: 1em; text-align: center; vertical-align: top\">1</td>\n",
       "    </tr>\n",
       "    <tr>\n",
       "        <td style=\"padding-left: 1em; padding-right: 1em; text-align: center; vertical-align: top\">1811641</td>\n",
       "        <td style=\"padding-left: 1em; padding-right: 1em; text-align: center; vertical-align: top\">920083</td>\n",
       "        <td style=\"padding-left: 1em; padding-right: 1em; text-align: center; vertical-align: top\">1</td>\n",
       "    </tr>\n",
       "    <tr>\n",
       "        <td style=\"padding-left: 1em; padding-right: 1em; text-align: center; vertical-align: top\">1090712</td>\n",
       "        <td style=\"padding-left: 1em; padding-right: 1em; text-align: center; vertical-align: top\">920088</td>\n",
       "        <td style=\"padding-left: 1em; padding-right: 1em; text-align: center; vertical-align: top\">1</td>\n",
       "    </tr>\n",
       "    <tr>\n",
       "        <td style=\"padding-left: 1em; padding-right: 1em; text-align: center; vertical-align: top\">1771137</td>\n",
       "        <td style=\"padding-left: 1em; padding-right: 1em; text-align: center; vertical-align: top\">123370</td>\n",
       "        <td style=\"padding-left: 1em; padding-right: 1em; text-align: center; vertical-align: top\">1</td>\n",
       "    </tr>\n",
       "    <tr>\n",
       "        <td style=\"padding-left: 1em; padding-right: 1em; text-align: center; vertical-align: top\">1713242</td>\n",
       "        <td style=\"padding-left: 1em; padding-right: 1em; text-align: center; vertical-align: top\">92</td>\n",
       "        <td style=\"padding-left: 1em; padding-right: 1em; text-align: center; vertical-align: top\">1</td>\n",
       "    </tr>\n",
       "    <tr>\n",
       "        <td style=\"padding-left: 1em; padding-right: 1em; text-align: center; vertical-align: top\">1768886</td>\n",
       "        <td style=\"padding-left: 1em; padding-right: 1em; text-align: center; vertical-align: top\">123691</td>\n",
       "        <td style=\"padding-left: 1em; padding-right: 1em; text-align: center; vertical-align: top\">1</td>\n",
       "    </tr>\n",
       "    <tr>\n",
       "        <td style=\"padding-left: 1em; padding-right: 1em; text-align: center; vertical-align: top\">1740993</td>\n",
       "        <td style=\"padding-left: 1em; padding-right: 1em; text-align: center; vertical-align: top\">92</td>\n",
       "        <td style=\"padding-left: 1em; padding-right: 1em; text-align: center; vertical-align: top\">1</td>\n",
       "    </tr>\n",
       "    <tr>\n",
       "        <td style=\"padding-left: 1em; padding-right: 1em; text-align: center; vertical-align: top\">1788908</td>\n",
       "        <td style=\"padding-left: 1em; padding-right: 1em; text-align: center; vertical-align: top\">124</td>\n",
       "        <td style=\"padding-left: 1em; padding-right: 1em; text-align: center; vertical-align: top\">1</td>\n",
       "    </tr>\n",
       "    <tr>\n",
       "        <td style=\"padding-left: 1em; padding-right: 1em; text-align: center; vertical-align: top\">1752750</td>\n",
       "        <td style=\"padding-left: 1em; padding-right: 1em; text-align: center; vertical-align: top\">920080</td>\n",
       "        <td style=\"padding-left: 1em; padding-right: 1em; text-align: center; vertical-align: top\">1</td>\n",
       "    </tr>\n",
       "</table>\n",
       "[19570 rows x 3 columns]<br/>Note: Only the head of the SFrame is printed.<br/>You can use print_rows(num_rows=m, num_columns=n) to print more rows and columns.\n",
       "</div>"
      ],
      "text/plain": [
       "Columns:\n",
       "\talunoId\tint\n",
       "\tcursoId\tint\n",
       "\tmatricula_count\tint\n",
       "\n",
       "Rows: 19570\n",
       "\n",
       "Data:\n",
       "+---------+---------+-----------------+\n",
       "| alunoId | cursoId | matricula_count |\n",
       "+---------+---------+-----------------+\n",
       "| 1769155 |  920083 |        1        |\n",
       "| 1773572 |  10006  |        1        |\n",
       "| 1811641 |  920083 |        1        |\n",
       "| 1090712 |  920088 |        1        |\n",
       "| 1771137 |  123370 |        1        |\n",
       "| 1713242 |    92   |        1        |\n",
       "| 1768886 |  123691 |        1        |\n",
       "| 1740993 |    92   |        1        |\n",
       "| 1788908 |   124   |        1        |\n",
       "| 1752750 |  920080 |        1        |\n",
       "+---------+---------+-----------------+\n",
       "[19570 rows x 3 columns]\n",
       "Note: Only the head of the SFrame is printed.\n",
       "You can use print_rows(num_rows=m, num_columns=n) to print more rows and columns."
      ]
     },
     "execution_count": 21,
     "metadata": {},
     "output_type": "execute_result"
    }
   ],
   "source": [
    "train_data"
   ]
  },
  {
   "cell_type": "code",
   "execution_count": 22,
   "metadata": {},
   "outputs": [
    {
     "data": {
      "text/html": [
       "<div style=\"max-height:1000px;max-width:1500px;overflow:auto;\"><table frame=\"box\" rules=\"cols\">\n",
       "    <tr>\n",
       "        <th style=\"padding-left: 1em; padding-right: 1em; text-align: center\">alunoId</th>\n",
       "        <th style=\"padding-left: 1em; padding-right: 1em; text-align: center\">cursoId</th>\n",
       "        <th style=\"padding-left: 1em; padding-right: 1em; text-align: center\">matricula_count</th>\n",
       "    </tr>\n",
       "    <tr>\n",
       "        <td style=\"padding-left: 1em; padding-right: 1em; text-align: center; vertical-align: top\">1120050</td>\n",
       "        <td style=\"padding-left: 1em; padding-right: 1em; text-align: center; vertical-align: top\">121</td>\n",
       "        <td style=\"padding-left: 1em; padding-right: 1em; text-align: center; vertical-align: top\">1</td>\n",
       "    </tr>\n",
       "    <tr>\n",
       "        <td style=\"padding-left: 1em; padding-right: 1em; text-align: center; vertical-align: top\">1716717</td>\n",
       "        <td style=\"padding-left: 1em; padding-right: 1em; text-align: center; vertical-align: top\">92</td>\n",
       "        <td style=\"padding-left: 1em; padding-right: 1em; text-align: center; vertical-align: top\">1</td>\n",
       "    </tr>\n",
       "    <tr>\n",
       "        <td style=\"padding-left: 1em; padding-right: 1em; text-align: center; vertical-align: top\">1759753</td>\n",
       "        <td style=\"padding-left: 1em; padding-right: 1em; text-align: center; vertical-align: top\">920091</td>\n",
       "        <td style=\"padding-left: 1em; padding-right: 1em; text-align: center; vertical-align: top\">2</td>\n",
       "    </tr>\n",
       "    <tr>\n",
       "        <td style=\"padding-left: 1em; padding-right: 1em; text-align: center; vertical-align: top\">1721921</td>\n",
       "        <td style=\"padding-left: 1em; padding-right: 1em; text-align: center; vertical-align: top\">124328</td>\n",
       "        <td style=\"padding-left: 1em; padding-right: 1em; text-align: center; vertical-align: top\">1</td>\n",
       "    </tr>\n",
       "    <tr>\n",
       "        <td style=\"padding-left: 1em; padding-right: 1em; text-align: center; vertical-align: top\">1703048</td>\n",
       "        <td style=\"padding-left: 1em; padding-right: 1em; text-align: center; vertical-align: top\">920084</td>\n",
       "        <td style=\"padding-left: 1em; padding-right: 1em; text-align: center; vertical-align: top\">1</td>\n",
       "    </tr>\n",
       "    <tr>\n",
       "        <td style=\"padding-left: 1em; padding-right: 1em; text-align: center; vertical-align: top\">1136615</td>\n",
       "        <td style=\"padding-left: 1em; padding-right: 1em; text-align: center; vertical-align: top\">92</td>\n",
       "        <td style=\"padding-left: 1em; padding-right: 1em; text-align: center; vertical-align: top\">1</td>\n",
       "    </tr>\n",
       "    <tr>\n",
       "        <td style=\"padding-left: 1em; padding-right: 1em; text-align: center; vertical-align: top\">1177434</td>\n",
       "        <td style=\"padding-left: 1em; padding-right: 1em; text-align: center; vertical-align: top\">920083</td>\n",
       "        <td style=\"padding-left: 1em; padding-right: 1em; text-align: center; vertical-align: top\">1</td>\n",
       "    </tr>\n",
       "    <tr>\n",
       "        <td style=\"padding-left: 1em; padding-right: 1em; text-align: center; vertical-align: top\">1801999</td>\n",
       "        <td style=\"padding-left: 1em; padding-right: 1em; text-align: center; vertical-align: top\">920084</td>\n",
       "        <td style=\"padding-left: 1em; padding-right: 1em; text-align: center; vertical-align: top\">1</td>\n",
       "    </tr>\n",
       "    <tr>\n",
       "        <td style=\"padding-left: 1em; padding-right: 1em; text-align: center; vertical-align: top\">1746026</td>\n",
       "        <td style=\"padding-left: 1em; padding-right: 1em; text-align: center; vertical-align: top\">920092</td>\n",
       "        <td style=\"padding-left: 1em; padding-right: 1em; text-align: center; vertical-align: top\">1</td>\n",
       "    </tr>\n",
       "    <tr>\n",
       "        <td style=\"padding-left: 1em; padding-right: 1em; text-align: center; vertical-align: top\">1782174</td>\n",
       "        <td style=\"padding-left: 1em; padding-right: 1em; text-align: center; vertical-align: top\">920082</td>\n",
       "        <td style=\"padding-left: 1em; padding-right: 1em; text-align: center; vertical-align: top\">1</td>\n",
       "    </tr>\n",
       "</table>\n",
       "[4893 rows x 3 columns]<br/>Note: Only the head of the SFrame is printed.<br/>You can use print_rows(num_rows=m, num_columns=n) to print more rows and columns.\n",
       "</div>"
      ],
      "text/plain": [
       "Columns:\n",
       "\talunoId\tint\n",
       "\tcursoId\tint\n",
       "\tmatricula_count\tint\n",
       "\n",
       "Rows: 4893\n",
       "\n",
       "Data:\n",
       "+---------+---------+-----------------+\n",
       "| alunoId | cursoId | matricula_count |\n",
       "+---------+---------+-----------------+\n",
       "| 1120050 |   121   |        1        |\n",
       "| 1716717 |    92   |        1        |\n",
       "| 1759753 |  920091 |        2        |\n",
       "| 1721921 |  124328 |        1        |\n",
       "| 1703048 |  920084 |        1        |\n",
       "| 1136615 |    92   |        1        |\n",
       "| 1177434 |  920083 |        1        |\n",
       "| 1801999 |  920084 |        1        |\n",
       "| 1746026 |  920092 |        1        |\n",
       "| 1782174 |  920082 |        1        |\n",
       "+---------+---------+-----------------+\n",
       "[4893 rows x 3 columns]\n",
       "Note: Only the head of the SFrame is printed.\n",
       "You can use print_rows(num_rows=m, num_columns=n) to print more rows and columns."
      ]
     },
     "execution_count": 22,
     "metadata": {},
     "output_type": "execute_result"
    }
   ],
   "source": [
    "test_data"
   ]
  },
  {
   "cell_type": "markdown",
   "metadata": {},
   "source": [
    "#### Defina uma função `split_data` para dividir dados no conjunto de treinamento e teste"
   ]
  },
  {
   "cell_type": "code",
   "execution_count": 23,
   "metadata": {},
   "outputs": [],
   "source": [
    "# Podemos definir uma função para esta etapa da seguinte maneira\n",
    "\n",
    "def split_data(data):\n",
    "    '''\n",
    "    Splits dataset into training and test set.\n",
    "    \n",
    "    Args:\n",
    "        data (pandas.DataFrame)\n",
    "        \n",
    "    Returns\n",
    "        train_data (tc.SFrame)\n",
    "        test_data (tc.SFrame)\n",
    "    '''\n",
    "    train, test = train_test_split(data, test_size = .2)\n",
    "    train_data = tc.SFrame(train)\n",
    "    test_data = tc.SFrame(test)\n",
    "    return train_data, test_data"
   ]
  },
  {
   "cell_type": "code",
   "execution_count": 24,
   "metadata": {},
   "outputs": [],
   "source": [
    "# Vamos tentar com tabela dummy e com a tabela de compra escalada/normalizada\n",
    "\n",
    "train_data_dummy, test_data_dummy = split_data(data_dummy)\n",
    "train_data_norm, test_data_norm = split_data(data_norm)"
   ]
  },
  {
   "cell_type": "markdown",
   "metadata": {},
   "source": [
    "## 5. Modelo Baseline\n",
    "Antes de executar uma abordagem mais complicada, como a filtragem colaborativa, gostaríamos de usar um modelo de linha de base para comparar e avaliar modelos. Como a linha de base geralmente usa uma abordagem muito simples, as técnicas usadas além dessa abordagem devem ser escolhidas se mostrarem uma precisão e complexidade relativamente melhores.\n",
    "\n",
    "### 5.1. Usando um modelo de popularidade como linha de base\n",
    "* O modelo de popularidade leva os itens mais populares para recomendação. Esses itens são produtos com o maior número de vendas entre clientes.\n",
    "* Usamos a biblioteca `turicreate` para executar e avaliar os modelos de filtragem de linha de base e de colaboração abaixo\n",
    "* Os dados de treinamento são usados para a seleção do modelo\n",
    "\n",
    "#### Usando contagens de compra"
   ]
  },
  {
   "cell_type": "code",
   "execution_count": 25,
   "metadata": {},
   "outputs": [],
   "source": [
    "# Variaveis para definir os nomes dos campos\n",
    "user_id = 'alunoId'\n",
    "item_id = 'cursoId'\n",
    "target = 'matricula_count'\n",
    "users_to_recommend = list(matriculas[user_id])\n",
    "n_rec = 10 # number of items to recommend\n",
    "n_display = 10"
   ]
  },
  {
   "cell_type": "code",
   "execution_count": 26,
   "metadata": {},
   "outputs": [
    {
     "data": {
      "text/html": [
       "<pre>Preparing data set.</pre>"
      ],
      "text/plain": [
       "Preparing data set."
      ]
     },
     "metadata": {},
     "output_type": "display_data"
    },
    {
     "data": {
      "text/html": [
       "<pre>    Data has 19570 observations with 7157 users and 718 items.</pre>"
      ],
      "text/plain": [
       "    Data has 19570 observations with 7157 users and 718 items."
      ]
     },
     "metadata": {},
     "output_type": "display_data"
    },
    {
     "data": {
      "text/html": [
       "<pre>    Data prepared in: 0.081068s</pre>"
      ],
      "text/plain": [
       "    Data prepared in: 0.081068s"
      ]
     },
     "metadata": {},
     "output_type": "display_data"
    },
    {
     "data": {
      "text/html": [
       "<pre>19570 observations to process; with 718 unique items.</pre>"
      ],
      "text/plain": [
       "19570 observations to process; with 718 unique items."
      ]
     },
     "metadata": {},
     "output_type": "display_data"
    }
   ],
   "source": [
    "popularity_model = tc.popularity_recommender.create(train_data, \n",
    "                                                    user_id=user_id, \n",
    "                                                    item_id=item_id, \n",
    "                                                    target=target)"
   ]
  },
  {
   "cell_type": "code",
   "execution_count": 384,
   "metadata": {},
   "outputs": [
    {
     "data": {
      "text/html": [
       "<pre>recommendations finished on 1000/7987 queries. users per second: 13899.1</pre>"
      ],
      "text/plain": [
       "recommendations finished on 1000/7987 queries. users per second: 13899.1"
      ]
     },
     "metadata": {},
     "output_type": "display_data"
    },
    {
     "data": {
      "text/html": [
       "<pre>recommendations finished on 2000/7987 queries. users per second: 19290.9</pre>"
      ],
      "text/plain": [
       "recommendations finished on 2000/7987 queries. users per second: 19290.9"
      ]
     },
     "metadata": {},
     "output_type": "display_data"
    },
    {
     "data": {
      "text/html": [
       "<pre>recommendations finished on 3000/7987 queries. users per second: 22001.7</pre>"
      ],
      "text/plain": [
       "recommendations finished on 3000/7987 queries. users per second: 22001.7"
      ]
     },
     "metadata": {},
     "output_type": "display_data"
    },
    {
     "data": {
      "text/html": [
       "<pre>recommendations finished on 4000/7987 queries. users per second: 24014.6</pre>"
      ],
      "text/plain": [
       "recommendations finished on 4000/7987 queries. users per second: 24014.6"
      ]
     },
     "metadata": {},
     "output_type": "display_data"
    },
    {
     "data": {
      "text/html": [
       "<pre>recommendations finished on 5000/7987 queries. users per second: 24669.4</pre>"
      ],
      "text/plain": [
       "recommendations finished on 5000/7987 queries. users per second: 24669.4"
      ]
     },
     "metadata": {},
     "output_type": "display_data"
    },
    {
     "data": {
      "text/html": [
       "<pre>recommendations finished on 6000/7987 queries. users per second: 25350.3</pre>"
      ],
      "text/plain": [
       "recommendations finished on 6000/7987 queries. users per second: 25350.3"
      ]
     },
     "metadata": {},
     "output_type": "display_data"
    },
    {
     "data": {
      "text/html": [
       "<pre>recommendations finished on 7000/7987 queries. users per second: 25657.8</pre>"
      ],
      "text/plain": [
       "recommendations finished on 7000/7987 queries. users per second: 25657.8"
      ]
     },
     "metadata": {},
     "output_type": "display_data"
    },
    {
     "name": "stdout",
     "output_type": "stream",
     "text": [
      "+---------+-------------------------------+-------+------+\n",
      "| alunoId |            cursoId            | score | rank |\n",
      "+---------+-------------------------------+-------+------+\n",
      "| 1076254 |  920094|920089|920082|920081  |  1.0  |  1   |\n",
      "| 1076254 |      920090|920091|920087     |  1.0  |  2   |\n",
      "| 1076254 |              125              |  1.0  |  3   |\n",
      "| 1076254 |               1               |  1.0  |  4   |\n",
      "| 1076254 |              1247             |  1.0  |  5   |\n",
      "| 1076254 |              124              |  1.0  |  6   |\n",
      "| 1076254 |      920083|920090|920090     |  1.0  |  7   |\n",
      "| 1076254 |      920089|920085|124603     |  1.0  |  8   |\n",
      "| 1076254 | 920089|920085|920090|92008... |  1.0  |  9   |\n",
      "| 1076254 |               92              |  1.0  |  10  |\n",
      "| 1268548 |  920094|920089|920082|920081  |  1.0  |  1   |\n",
      "| 1268548 |      920090|920091|920087     |  1.0  |  2   |\n",
      "| 1268548 |              125              |  1.0  |  3   |\n",
      "| 1268548 |               1               |  1.0  |  4   |\n",
      "| 1268548 |              1247             |  1.0  |  5   |\n",
      "| 1268548 |              124              |  1.0  |  6   |\n",
      "| 1268548 |      920083|920090|920090     |  1.0  |  7   |\n",
      "| 1268548 |      920089|920085|124603     |  1.0  |  8   |\n",
      "| 1268548 | 920089|920085|920090|92008... |  1.0  |  9   |\n",
      "| 1268548 |               92              |  1.0  |  10  |\n",
      "| 1709459 |  920094|920089|920082|920081  |  1.0  |  1   |\n",
      "| 1709459 |      920090|920091|920087     |  1.0  |  2   |\n",
      "| 1709459 |              125              |  1.0  |  3   |\n",
      "| 1709459 |               1               |  1.0  |  4   |\n",
      "| 1709459 |              1247             |  1.0  |  5   |\n",
      "| 1709459 |              124              |  1.0  |  6   |\n",
      "| 1709459 |      920083|920090|920090     |  1.0  |  7   |\n",
      "| 1709459 |      920089|920085|124603     |  1.0  |  8   |\n",
      "| 1709459 | 920089|920085|920090|92008... |  1.0  |  9   |\n",
      "| 1709459 |               92              |  1.0  |  10  |\n",
      "+---------+-------------------------------+-------+------+\n",
      "[79870 rows x 4 columns]\n",
      "\n"
     ]
    }
   ],
   "source": [
    "# Obtenha recomendações para uma lista de usuários a recomendar (do arquivo de clientes)\n",
    "# A seguir, estão impressas as principais / 30 principais linhas para os 3 primeiros clientes, com 10 recomendações cada\n",
    "\n",
    "popularity_recomm = popularity_model.recommend(users=users_to_recommend, k=n_rec)\n",
    "popularity_recomm.print_rows(n_display)"
   ]
  },
  {
   "cell_type": "markdown",
   "metadata": {},
   "source": [
    "#### Define a `model` function for model selection"
   ]
  },
  {
   "cell_type": "code",
   "execution_count": 31,
   "metadata": {},
   "outputs": [],
   "source": [
    "def model(train_data, name, user_id, item_id, target, users_to_recommend, n_rec, n_display):\n",
    "    if name == 'popularity':\n",
    "        model = tc.popularity_recommender.create(train_data, \n",
    "                                                    user_id=user_id, \n",
    "                                                    item_id=item_id, \n",
    "                                                    target=target)\n",
    "    elif name == 'cosine':\n",
    "        model = tc.item_similarity_recommender.create(train_data, \n",
    "                                                    user_id=user_id, \n",
    "                                                    item_id=item_id, \n",
    "                                                    target=target, \n",
    "                                                    similarity_type='cosine')\n",
    "    elif name == 'pearson':\n",
    "        model = tc.item_similarity_recommender.create(train_data, \n",
    "                                                    user_id=user_id, \n",
    "                                                    item_id=item_id, \n",
    "                                                    target=target, \n",
    "                                                    similarity_type='pearson')\n",
    "        \n",
    "    recom = model.recommend(users=users_to_recommend, k=n_rec)\n",
    "    recom.print_rows(n_display)\n",
    "    return model"
   ]
  },
  {
   "cell_type": "code",
   "execution_count": 32,
   "metadata": {},
   "outputs": [],
   "source": [
    "# variables to define field names\n",
    "# constant variables include:\n",
    "user_id = 'alunoId'\n",
    "item_id = 'cursoId'\n",
    "users_to_recommend = list(alunos[user_id])\n",
    "n_rec = 10 # number of items to recommend\n",
    "n_display = 30 # to print the head / first few rows in a defined dataset"
   ]
  },
  {
   "cell_type": "markdown",
   "metadata": {},
   "source": [
    "#### Usando as compras do dummy"
   ]
  },
  {
   "cell_type": "code",
   "execution_count": 34,
   "metadata": {},
   "outputs": [
    {
     "data": {
      "text/html": [
       "<pre>Warning: Ignoring columns matricula_count;</pre>"
      ],
      "text/plain": [
       "Warning: Ignoring columns matricula_count;"
      ]
     },
     "metadata": {},
     "output_type": "display_data"
    },
    {
     "data": {
      "text/html": [
       "<pre>    To use these columns in scoring predictions, use a model that allows the use of additional features.</pre>"
      ],
      "text/plain": [
       "    To use these columns in scoring predictions, use a model that allows the use of additional features."
      ]
     },
     "metadata": {},
     "output_type": "display_data"
    },
    {
     "data": {
      "text/html": [
       "<pre>Preparing data set.</pre>"
      ],
      "text/plain": [
       "Preparing data set."
      ]
     },
     "metadata": {},
     "output_type": "display_data"
    },
    {
     "data": {
      "text/html": [
       "<pre>    Data has 19570 observations with 7154 users and 718 items.</pre>"
      ],
      "text/plain": [
       "    Data has 19570 observations with 7154 users and 718 items."
      ]
     },
     "metadata": {},
     "output_type": "display_data"
    },
    {
     "data": {
      "text/html": [
       "<pre>    Data prepared in: 0.07931s</pre>"
      ],
      "text/plain": [
       "    Data prepared in: 0.07931s"
      ]
     },
     "metadata": {},
     "output_type": "display_data"
    },
    {
     "data": {
      "text/html": [
       "<pre>19570 observations to process; with 718 unique items.</pre>"
      ],
      "text/plain": [
       "19570 observations to process; with 718 unique items."
      ]
     },
     "metadata": {},
     "output_type": "display_data"
    },
    {
     "data": {
      "text/html": [
       "<pre>recommendations finished on 1000/7987 queries. users per second: 88841.5</pre>"
      ],
      "text/plain": [
       "recommendations finished on 1000/7987 queries. users per second: 88841.5"
      ]
     },
     "metadata": {},
     "output_type": "display_data"
    },
    {
     "data": {
      "text/html": [
       "<pre>recommendations finished on 2000/7987 queries. users per second: 114830</pre>"
      ],
      "text/plain": [
       "recommendations finished on 2000/7987 queries. users per second: 114830"
      ]
     },
     "metadata": {},
     "output_type": "display_data"
    },
    {
     "data": {
      "text/html": [
       "<pre>recommendations finished on 3000/7987 queries. users per second: 110709</pre>"
      ],
      "text/plain": [
       "recommendations finished on 3000/7987 queries. users per second: 110709"
      ]
     },
     "metadata": {},
     "output_type": "display_data"
    },
    {
     "data": {
      "text/html": [
       "<pre>recommendations finished on 4000/7987 queries. users per second: 92807.4</pre>"
      ],
      "text/plain": [
       "recommendations finished on 4000/7987 queries. users per second: 92807.4"
      ]
     },
     "metadata": {},
     "output_type": "display_data"
    },
    {
     "data": {
      "text/html": [
       "<pre>recommendations finished on 5000/7987 queries. users per second: 99443.1</pre>"
      ],
      "text/plain": [
       "recommendations finished on 5000/7987 queries. users per second: 99443.1"
      ]
     },
     "metadata": {},
     "output_type": "display_data"
    },
    {
     "data": {
      "text/html": [
       "<pre>recommendations finished on 6000/7987 queries. users per second: 103806</pre>"
      ],
      "text/plain": [
       "recommendations finished on 6000/7987 queries. users per second: 103806"
      ]
     },
     "metadata": {},
     "output_type": "display_data"
    },
    {
     "data": {
      "text/html": [
       "<pre>recommendations finished on 7000/7987 queries. users per second: 95334.1</pre>"
      ],
      "text/plain": [
       "recommendations finished on 7000/7987 queries. users per second: 95334.1"
      ]
     },
     "metadata": {},
     "output_type": "display_data"
    },
    {
     "name": "stdout",
     "output_type": "stream",
     "text": [
      "+---------+---------+-------+------+\n",
      "| alunoId | cursoId | score | rank |\n",
      "+---------+---------+-------+------+\n",
      "| 1076254 |    92   |  1.0  |  1   |\n",
      "| 1076254 |  120292 |  1.0  |  2   |\n",
      "| 1076254 |  123827 |  1.0  |  3   |\n",
      "| 1076254 |   9201  |  1.0  |  4   |\n",
      "| 1076254 |  920087 |  1.0  |  5   |\n",
      "| 1076254 |   125   |  1.0  |  6   |\n",
      "| 1076254 |  124354 |  1.0  |  7   |\n",
      "| 1076254 |  121439 |  1.0  |  8   |\n",
      "| 1076254 |  920081 |  1.0  |  9   |\n",
      "| 1076254 |  920094 |  1.0  |  10  |\n",
      "| 1268548 |  920089 |  1.0  |  1   |\n",
      "| 1268548 |  123827 |  1.0  |  2   |\n",
      "| 1268548 |   9201  |  1.0  |  3   |\n",
      "| 1268548 |  920087 |  1.0  |  4   |\n",
      "| 1268548 |   125   |  1.0  |  5   |\n",
      "| 1268548 |  920090 |  1.0  |  6   |\n",
      "| 1268548 |  124354 |  1.0  |  7   |\n",
      "| 1268548 |  121439 |  1.0  |  8   |\n",
      "| 1268548 |  920081 |  1.0  |  9   |\n",
      "| 1268548 |  920094 |  1.0  |  10  |\n",
      "| 1709459 |  920089 |  1.0  |  1   |\n",
      "| 1709459 |  123827 |  1.0  |  2   |\n",
      "| 1709459 |   9201  |  1.0  |  3   |\n",
      "| 1709459 |  920087 |  1.0  |  4   |\n",
      "| 1709459 |   125   |  1.0  |  5   |\n",
      "| 1709459 |  920090 |  1.0  |  6   |\n",
      "| 1709459 |  124354 |  1.0  |  7   |\n",
      "| 1709459 |  121439 |  1.0  |  8   |\n",
      "| 1709459 |  920081 |  1.0  |  9   |\n",
      "| 1709459 |  920094 |  1.0  |  10  |\n",
      "+---------+---------+-------+------+\n",
      "[79870 rows x 4 columns]\n",
      "\n"
     ]
    }
   ],
   "source": [
    "# these variables will change accordingly\n",
    "name = 'popularity'\n",
    "target = 'matricula_dummy'\n",
    "pop_dummy = model(train_data_dummy, name, user_id, item_id, target, users_to_recommend, n_rec, n_display)\n"
   ]
  },
  {
   "cell_type": "markdown",
   "metadata": {},
   "source": [
    "#### Usando a contagem normalizada de compras"
   ]
  },
  {
   "cell_type": "code",
   "execution_count": 35,
   "metadata": {},
   "outputs": [
    {
     "data": {
      "text/html": [
       "<pre>Warning: Ignoring columns matricula_count;</pre>"
      ],
      "text/plain": [
       "Warning: Ignoring columns matricula_count;"
      ]
     },
     "metadata": {},
     "output_type": "display_data"
    },
    {
     "data": {
      "text/html": [
       "<pre>    To use these columns in scoring predictions, use a model that allows the use of additional features.</pre>"
      ],
      "text/plain": [
       "    To use these columns in scoring predictions, use a model that allows the use of additional features."
      ]
     },
     "metadata": {},
     "output_type": "display_data"
    },
    {
     "data": {
      "text/html": [
       "<pre>Preparing data set.</pre>"
      ],
      "text/plain": [
       "Preparing data set."
      ]
     },
     "metadata": {},
     "output_type": "display_data"
    },
    {
     "data": {
      "text/html": [
       "<pre>    Data has 19570 observations with 7154 users and 718 items.</pre>"
      ],
      "text/plain": [
       "    Data has 19570 observations with 7154 users and 718 items."
      ]
     },
     "metadata": {},
     "output_type": "display_data"
    },
    {
     "data": {
      "text/html": [
       "<pre>    Data prepared in: 0.066967s</pre>"
      ],
      "text/plain": [
       "    Data prepared in: 0.066967s"
      ]
     },
     "metadata": {},
     "output_type": "display_data"
    },
    {
     "data": {
      "text/html": [
       "<pre>19570 observations to process; with 718 unique items.</pre>"
      ],
      "text/plain": [
       "19570 observations to process; with 718 unique items."
      ]
     },
     "metadata": {},
     "output_type": "display_data"
    },
    {
     "data": {
      "text/html": [
       "<pre>recommendations finished on 1000/7987 queries. users per second: 122026</pre>"
      ],
      "text/plain": [
       "recommendations finished on 1000/7987 queries. users per second: 122026"
      ]
     },
     "metadata": {},
     "output_type": "display_data"
    },
    {
     "data": {
      "text/html": [
       "<pre>recommendations finished on 2000/7987 queries. users per second: 109673</pre>"
      ],
      "text/plain": [
       "recommendations finished on 2000/7987 queries. users per second: 109673"
      ]
     },
     "metadata": {},
     "output_type": "display_data"
    },
    {
     "data": {
      "text/html": [
       "<pre>recommendations finished on 3000/7987 queries. users per second: 68073.5</pre>"
      ],
      "text/plain": [
       "recommendations finished on 3000/7987 queries. users per second: 68073.5"
      ]
     },
     "metadata": {},
     "output_type": "display_data"
    },
    {
     "data": {
      "text/html": [
       "<pre>recommendations finished on 4000/7987 queries. users per second: 76621</pre>"
      ],
      "text/plain": [
       "recommendations finished on 4000/7987 queries. users per second: 76621"
      ]
     },
     "metadata": {},
     "output_type": "display_data"
    },
    {
     "data": {
      "text/html": [
       "<pre>recommendations finished on 5000/7987 queries. users per second: 84339.8</pre>"
      ],
      "text/plain": [
       "recommendations finished on 5000/7987 queries. users per second: 84339.8"
      ]
     },
     "metadata": {},
     "output_type": "display_data"
    },
    {
     "data": {
      "text/html": [
       "<pre>recommendations finished on 6000/7987 queries. users per second: 89490.8</pre>"
      ],
      "text/plain": [
       "recommendations finished on 6000/7987 queries. users per second: 89490.8"
      ]
     },
     "metadata": {},
     "output_type": "display_data"
    },
    {
     "data": {
      "text/html": [
       "<pre>recommendations finished on 7000/7987 queries. users per second: 89655.1</pre>"
      ],
      "text/plain": [
       "recommendations finished on 7000/7987 queries. users per second: 89655.1"
      ]
     },
     "metadata": {},
     "output_type": "display_data"
    },
    {
     "name": "stdout",
     "output_type": "stream",
     "text": [
      "+---------+---------+-------+------+\n",
      "| alunoId | cursoId | score | rank |\n",
      "+---------+---------+-------+------+\n",
      "| 1076254 |    92   |  1.0  |  1   |\n",
      "| 1076254 |  120292 |  1.0  |  2   |\n",
      "| 1076254 |  123827 |  1.0  |  3   |\n",
      "| 1076254 |   9201  |  1.0  |  4   |\n",
      "| 1076254 |  920087 |  1.0  |  5   |\n",
      "| 1076254 |   125   |  1.0  |  6   |\n",
      "| 1076254 |  124354 |  1.0  |  7   |\n",
      "| 1076254 |  121439 |  1.0  |  8   |\n",
      "| 1076254 |  920081 |  1.0  |  9   |\n",
      "| 1076254 |  920094 |  1.0  |  10  |\n",
      "| 1268548 |  920089 |  1.0  |  1   |\n",
      "| 1268548 |  123827 |  1.0  |  2   |\n",
      "| 1268548 |   9201  |  1.0  |  3   |\n",
      "| 1268548 |  920087 |  1.0  |  4   |\n",
      "| 1268548 |   125   |  1.0  |  5   |\n",
      "| 1268548 |  920090 |  1.0  |  6   |\n",
      "| 1268548 |  124354 |  1.0  |  7   |\n",
      "| 1268548 |  121439 |  1.0  |  8   |\n",
      "| 1268548 |  920081 |  1.0  |  9   |\n",
      "| 1268548 |  920094 |  1.0  |  10  |\n",
      "| 1709459 |  920089 |  1.0  |  1   |\n",
      "| 1709459 |  123827 |  1.0  |  2   |\n",
      "| 1709459 |   9201  |  1.0  |  3   |\n",
      "| 1709459 |  920087 |  1.0  |  4   |\n",
      "| 1709459 |   125   |  1.0  |  5   |\n",
      "| 1709459 |  920090 |  1.0  |  6   |\n",
      "| 1709459 |  124354 |  1.0  |  7   |\n",
      "| 1709459 |  121439 |  1.0  |  8   |\n",
      "| 1709459 |  920081 |  1.0  |  9   |\n",
      "| 1709459 |  920094 |  1.0  |  10  |\n",
      "+---------+---------+-------+------+\n",
      "[79870 rows x 4 columns]\n",
      "\n"
     ]
    },
    {
     "data": {
      "text/html": [
       "<pre>Preparing data set.</pre>"
      ],
      "text/plain": [
       "Preparing data set."
      ]
     },
     "metadata": {},
     "output_type": "display_data"
    },
    {
     "data": {
      "text/html": [
       "<pre>    Data has 14240 observations with 4211 users and 243 items.</pre>"
      ],
      "text/plain": [
       "    Data has 14240 observations with 4211 users and 243 items."
      ]
     },
     "metadata": {},
     "output_type": "display_data"
    },
    {
     "data": {
      "text/html": [
       "<pre>    Data prepared in: 0.036709s</pre>"
      ],
      "text/plain": [
       "    Data prepared in: 0.036709s"
      ]
     },
     "metadata": {},
     "output_type": "display_data"
    },
    {
     "data": {
      "text/html": [
       "<pre>14240 observations to process; with 243 unique items.</pre>"
      ],
      "text/plain": [
       "14240 observations to process; with 243 unique items."
      ]
     },
     "metadata": {},
     "output_type": "display_data"
    },
    {
     "data": {
      "text/html": [
       "<pre>recommendations finished on 1000/7987 queries. users per second: 199402</pre>"
      ],
      "text/plain": [
       "recommendations finished on 1000/7987 queries. users per second: 199402"
      ]
     },
     "metadata": {},
     "output_type": "display_data"
    },
    {
     "data": {
      "text/html": [
       "<pre>recommendations finished on 2000/7987 queries. users per second: 220556</pre>"
      ],
      "text/plain": [
       "recommendations finished on 2000/7987 queries. users per second: 220556"
      ]
     },
     "metadata": {},
     "output_type": "display_data"
    },
    {
     "data": {
      "text/html": [
       "<pre>recommendations finished on 3000/7987 queries. users per second: 222750</pre>"
      ],
      "text/plain": [
       "recommendations finished on 3000/7987 queries. users per second: 222750"
      ]
     },
     "metadata": {},
     "output_type": "display_data"
    },
    {
     "data": {
      "text/html": [
       "<pre>recommendations finished on 4000/7987 queries. users per second: 223664</pre>"
      ],
      "text/plain": [
       "recommendations finished on 4000/7987 queries. users per second: 223664"
      ]
     },
     "metadata": {},
     "output_type": "display_data"
    },
    {
     "data": {
      "text/html": [
       "<pre>recommendations finished on 5000/7987 queries. users per second: 213602</pre>"
      ],
      "text/plain": [
       "recommendations finished on 5000/7987 queries. users per second: 213602"
      ]
     },
     "metadata": {},
     "output_type": "display_data"
    },
    {
     "data": {
      "text/html": [
       "<pre>recommendations finished on 6000/7987 queries. users per second: 223814</pre>"
      ],
      "text/plain": [
       "recommendations finished on 6000/7987 queries. users per second: 223814"
      ]
     },
     "metadata": {},
     "output_type": "display_data"
    },
    {
     "data": {
      "text/html": [
       "<pre>recommendations finished on 7000/7987 queries. users per second: 197735</pre>"
      ],
      "text/plain": [
       "recommendations finished on 7000/7987 queries. users per second: 197735"
      ]
     },
     "metadata": {},
     "output_type": "display_data"
    },
    {
     "name": "stdout",
     "output_type": "stream",
     "text": [
      "+---------+---------+--------------------+------+\n",
      "| alunoId | cursoId |       score        | rank |\n",
      "+---------+---------+--------------------+------+\n",
      "| 1076254 |  120386 |        1.0         |  1   |\n",
      "| 1076254 |  124074 | 0.6666666666666666 |  2   |\n",
      "| 1076254 |  123429 |        0.5         |  3   |\n",
      "| 1076254 |  124659 |        0.5         |  4   |\n",
      "| 1076254 |  124689 |        0.5         |  5   |\n",
      "| 1076254 |  123123 |        0.5         |  6   |\n",
      "| 1076254 |  124517 |        0.5         |  7   |\n",
      "| 1076254 |  124568 |        0.5         |  8   |\n",
      "| 1076254 |  124669 |        0.5         |  9   |\n",
      "| 1076254 |  124697 |        0.5         |  10  |\n",
      "| 1268548 |  120386 |        1.0         |  1   |\n",
      "| 1268548 |  124074 | 0.6666666666666666 |  2   |\n",
      "| 1268548 |  123429 |        0.5         |  3   |\n",
      "| 1268548 |  124659 |        0.5         |  4   |\n",
      "| 1268548 |  124689 |        0.5         |  5   |\n",
      "| 1268548 |  123123 |        0.5         |  6   |\n",
      "| 1268548 |  124517 |        0.5         |  7   |\n",
      "| 1268548 |  124568 |        0.5         |  8   |\n",
      "| 1268548 |  124669 |        0.5         |  9   |\n",
      "| 1268548 |  124697 |        0.5         |  10  |\n",
      "| 1709459 |  120386 |        1.0         |  1   |\n",
      "| 1709459 |  124074 | 0.6666666666666666 |  2   |\n",
      "| 1709459 |  123429 |        0.5         |  3   |\n",
      "| 1709459 |  124659 |        0.5         |  4   |\n",
      "| 1709459 |  124689 |        0.5         |  5   |\n",
      "| 1709459 |  123123 |        0.5         |  6   |\n",
      "| 1709459 |  124517 |        0.5         |  7   |\n",
      "| 1709459 |  124568 |        0.5         |  8   |\n",
      "| 1709459 |  124669 |        0.5         |  9   |\n",
      "| 1709459 |  124697 |        0.5         |  10  |\n",
      "+---------+---------+--------------------+------+\n",
      "[79870 rows x 4 columns]\n",
      "\n"
     ]
    }
   ],
   "source": [
    "# these variables will change accordingly\n",
    "name = 'popularity'\n",
    "target = 'matricula_dummy'\n",
    "pop_dummy = model(train_data_dummy, name, user_id, item_id, target, users_to_recommend, n_rec, n_display)\n",
    "\n",
    "name = 'popularity'\n",
    "target = 'scaled_matricula_freq'\n",
    "pop_norm = model(train_data_norm, name, user_id, item_id, target, users_to_recommend, n_rec, n_display)"
   ]
  },
  {
   "cell_type": "markdown",
   "metadata": {},
   "source": [
    "#### Notas\n",
    "* Depois de criar o modelo, previmos os itens de recomendação usando pontuações por popularidade. Como você pode dizer para os resultados de cada modelo acima, as linhas mostram os 30 primeiros registros de 1000 usuários com 10 recomendações. Esses 30 registros incluem 3 usuários e seus itens recomendados, além de classificações e classificações decrescentes. \n",
    "* No resultado, embora modelos diferentes tenham uma lista de recomendações diferente, cada usuário é recomendado com a mesma lista de 10 itens. Isso ocorre porque a popularidade é calculada levando os itens mais populares para todos os usuários.\n",
    "* Se um exemplo de agrupamento abaixo, os produtos 132, 248, 37 e 34 forem os mais populares (mais vendidos) entre os clientes. Usando as contagens de compras divididas pelo número de clientes, vemos que esses produtos são comprados pelo menos três vezes em média no conjunto de transações de treinamento (o mesmo que a primeira medida de popularidade na variável `contagem_matricula`)"
   ]
  },
  {
   "cell_type": "code",
   "execution_count": 36,
   "metadata": {},
   "outputs": [
    {
     "data": {
      "text/plain": [
       "cursoId\n",
       "123754    2.000000\n",
       "124738    2.000000\n",
       "124788    2.000000\n",
       "124136    2.000000\n",
       "124875    2.000000\n",
       "124838    2.000000\n",
       "123864    2.000000\n",
       "123123    1.500000\n",
       "123480    1.500000\n",
       "124669    1.500000\n",
       "124412    1.500000\n",
       "120976    1.428571\n",
       "123886    1.400000\n",
       "123553    1.333333\n",
       "123769    1.333333\n",
       "124290    1.333333\n",
       "124659    1.333333\n",
       "124366    1.333333\n",
       "124074    1.333333\n",
       "123700    1.333333\n",
       "Name: matricula_count, dtype: float64"
      ]
     },
     "execution_count": 36,
     "metadata": {},
     "output_type": "execute_result"
    }
   ],
   "source": [
    "train.groupby(by=item_id)['matricula_count'].mean().sort_values(ascending=False).head(20)"
   ]
  },
  {
   "cell_type": "markdown",
   "metadata": {},
   "source": [
    "## 6. Modelo de filtragem colaborativa\n",
    "\n",
    "* Na filtragem colaborativa, recomendamos itens com base em como usuários semelhantes compram itens. Por exemplo, se o cliente 1 e o cliente 2 compraram itens semelhantes, por exemplo, 1 comprou X, Y, Z e 2 comprou X, Y, recomendamos um item Z ao cliente 2.\n",
    "\n",
    "* Para definir semelhança entre os usuários, usamos as seguintes etapas:\n",
    "    1. Crie uma matriz de itens do usuário, em que os valores do índice representam IDs de clientes exclusivos e os valores da coluna representam IDs de produtos exclusivos\n",
    "    \n",
    "    2. Crie uma matriz de similaridade item a item. A idéia é calcular a semelhança entre um produto e outro. Existem várias maneiras de calcular isso. Nas etapas 6.1 e 6.2, usamos a medida de similaridade de cosseno e pearson, respectivamente. \n",
    "    \n",
    "        * Para calcular a semelhança entre os produtos X e Y, observe todos os clientes que classificaram esses dois itens. Por exemplo, X e Y foram classificados pelos clientes 1 e 2. \n",
    "        * Em seguida, criamos dois vetores de itens, v1 para o item X e v2 para o item Y, no espaço do usuário de (1, 2) e, em seguida, localizamos o ângulo / distância `coseno` ou` pearson` entre esses vetores. Um ângulo zero ou vetores sobrepostos com valor de cosseno de 1 significa similaridade total (ou por usuário, em todos os itens, há a mesma classificação) e um ângulo de 90 graus significaria cosseno de 0 ou nenhuma similaridade.\n",
    "        \n",
    "    3. Para cada cliente, prevemos sua probabilidade de comprar um produto (ou sua contagem de compra) para produtos que ele não comprou. \n",
    "    \n",
    "        * No nosso exemplo, calcularemos a classificação para o usuário 2 no caso do item Z (item de destino). Para calcular isso, pesamos a medida de similaridade recém-calculada entre o item de destino e outros itens que o cliente já comprou. O fator de pesagem é a contagem de compras dada pelo usuário aos itens já comprados por ele. \n",
    "        * Em seguida, escalamos essa soma ponderada com a soma das medidas de similaridade para que a classificação calculada permaneça dentro de limites predefinidos. Assim, a classificação prevista para o item Z para o usuário 2 seria calculada usando medidas de similaridade.\n",
    "\n",
    "* Embora eu tenha escrito scripts python para todo o processo, incluindo encontrar semelhança usando scripts python (que podem ser encontrados na pasta `scripts`, podemos usar a biblioteca` turicreate` por enquanto para capturar medidas diferentes, como usar distância `cosine` e` pearson`, e avaliar o melhor modelo"
   ]
  },
  {
   "cell_type": "markdown",
   "metadata": {},
   "source": [
    "### 6.1. Similaridade de `Cosine`\n",
    "* A semelhança é o cosseno do ângulo entre os 2 vetores dos itens de vetores de A e B\n",
    "* É definido pela seguinte fórmula\n",
    "![](https://encrypted-tbn0.gstatic.com/images?q=tbn:ANd9GcTnRHSAx1c084UXF2wIHYwaHJLmq2qKtNk_YIv3RjHUO00xwlkt)\n",
    "* Quanto mais próximos os vetores, menor será o ângulo e maior o cosseno"
   ]
  },
  {
   "cell_type": "markdown",
   "metadata": {},
   "source": [
    "#### Usando contagem de compras"
   ]
  },
  {
   "cell_type": "code",
   "execution_count": 37,
   "metadata": {},
   "outputs": [
    {
     "data": {
      "text/html": [
       "<pre>Preparing data set.</pre>"
      ],
      "text/plain": [
       "Preparing data set."
      ]
     },
     "metadata": {},
     "output_type": "display_data"
    },
    {
     "data": {
      "text/html": [
       "<pre>    Data has 19570 observations with 7157 users and 718 items.</pre>"
      ],
      "text/plain": [
       "    Data has 19570 observations with 7157 users and 718 items."
      ]
     },
     "metadata": {},
     "output_type": "display_data"
    },
    {
     "data": {
      "text/html": [
       "<pre>    Data prepared in: 0.067621s</pre>"
      ],
      "text/plain": [
       "    Data prepared in: 0.067621s"
      ]
     },
     "metadata": {},
     "output_type": "display_data"
    },
    {
     "data": {
      "text/html": [
       "<pre>Training model from provided data.</pre>"
      ],
      "text/plain": [
       "Training model from provided data."
      ]
     },
     "metadata": {},
     "output_type": "display_data"
    },
    {
     "data": {
      "text/html": [
       "<pre>Gathering per-item and per-user statistics.</pre>"
      ],
      "text/plain": [
       "Gathering per-item and per-user statistics."
      ]
     },
     "metadata": {},
     "output_type": "display_data"
    },
    {
     "data": {
      "text/html": [
       "<pre>+--------------------------------+------------+</pre>"
      ],
      "text/plain": [
       "+--------------------------------+------------+"
      ]
     },
     "metadata": {},
     "output_type": "display_data"
    },
    {
     "data": {
      "text/html": [
       "<pre>| Elapsed Time (Item Statistics) | % Complete |</pre>"
      ],
      "text/plain": [
       "| Elapsed Time (Item Statistics) | % Complete |"
      ]
     },
     "metadata": {},
     "output_type": "display_data"
    },
    {
     "data": {
      "text/html": [
       "<pre>+--------------------------------+------------+</pre>"
      ],
      "text/plain": [
       "+--------------------------------+------------+"
      ]
     },
     "metadata": {},
     "output_type": "display_data"
    },
    {
     "data": {
      "text/html": [
       "<pre>| 8.636ms                        | 27.75      |</pre>"
      ],
      "text/plain": [
       "| 8.636ms                        | 27.75      |"
      ]
     },
     "metadata": {},
     "output_type": "display_data"
    },
    {
     "data": {
      "text/html": [
       "<pre>| 11.491ms                       | 100        |</pre>"
      ],
      "text/plain": [
       "| 11.491ms                       | 100        |"
      ]
     },
     "metadata": {},
     "output_type": "display_data"
    },
    {
     "data": {
      "text/html": [
       "<pre>+--------------------------------+------------+</pre>"
      ],
      "text/plain": [
       "+--------------------------------+------------+"
      ]
     },
     "metadata": {},
     "output_type": "display_data"
    },
    {
     "data": {
      "text/html": [
       "<pre>Setting up lookup tables.</pre>"
      ],
      "text/plain": [
       "Setting up lookup tables."
      ]
     },
     "metadata": {},
     "output_type": "display_data"
    },
    {
     "data": {
      "text/html": [
       "<pre>Processing data in one pass using dense lookup tables.</pre>"
      ],
      "text/plain": [
       "Processing data in one pass using dense lookup tables."
      ]
     },
     "metadata": {},
     "output_type": "display_data"
    },
    {
     "data": {
      "text/html": [
       "<pre>+-------------------------------------+------------------+-----------------+</pre>"
      ],
      "text/plain": [
       "+-------------------------------------+------------------+-----------------+"
      ]
     },
     "metadata": {},
     "output_type": "display_data"
    },
    {
     "data": {
      "text/html": [
       "<pre>| Elapsed Time (Constructing Lookups) | Total % Complete | Items Processed |</pre>"
      ],
      "text/plain": [
       "| Elapsed Time (Constructing Lookups) | Total % Complete | Items Processed |"
      ]
     },
     "metadata": {},
     "output_type": "display_data"
    },
    {
     "data": {
      "text/html": [
       "<pre>+-------------------------------------+------------------+-----------------+</pre>"
      ],
      "text/plain": [
       "+-------------------------------------+------------------+-----------------+"
      ]
     },
     "metadata": {},
     "output_type": "display_data"
    },
    {
     "data": {
      "text/html": [
       "<pre>| 39.799ms                            | 0                | 0               |</pre>"
      ],
      "text/plain": [
       "| 39.799ms                            | 0                | 0               |"
      ]
     },
     "metadata": {},
     "output_type": "display_data"
    },
    {
     "data": {
      "text/html": [
       "<pre>| 57.77ms                             | 100              | 718             |</pre>"
      ],
      "text/plain": [
       "| 57.77ms                             | 100              | 718             |"
      ]
     },
     "metadata": {},
     "output_type": "display_data"
    },
    {
     "data": {
      "text/html": [
       "<pre>+-------------------------------------+------------------+-----------------+</pre>"
      ],
      "text/plain": [
       "+-------------------------------------+------------------+-----------------+"
      ]
     },
     "metadata": {},
     "output_type": "display_data"
    },
    {
     "data": {
      "text/html": [
       "<pre>Finalizing lookup tables.</pre>"
      ],
      "text/plain": [
       "Finalizing lookup tables."
      ]
     },
     "metadata": {},
     "output_type": "display_data"
    },
    {
     "data": {
      "text/html": [
       "<pre>Generating candidate set for working with new users.</pre>"
      ],
      "text/plain": [
       "Generating candidate set for working with new users."
      ]
     },
     "metadata": {},
     "output_type": "display_data"
    },
    {
     "data": {
      "text/html": [
       "<pre>Finished training in 1.09622s</pre>"
      ],
      "text/plain": [
       "Finished training in 1.09622s"
      ]
     },
     "metadata": {},
     "output_type": "display_data"
    },
    {
     "data": {
      "text/html": [
       "<pre>recommendations finished on 1000/7987 queries. users per second: 46659.2</pre>"
      ],
      "text/plain": [
       "recommendations finished on 1000/7987 queries. users per second: 46659.2"
      ]
     },
     "metadata": {},
     "output_type": "display_data"
    },
    {
     "data": {
      "text/html": [
       "<pre>recommendations finished on 2000/7987 queries. users per second: 49019.6</pre>"
      ],
      "text/plain": [
       "recommendations finished on 2000/7987 queries. users per second: 49019.6"
      ]
     },
     "metadata": {},
     "output_type": "display_data"
    },
    {
     "data": {
      "text/html": [
       "<pre>recommendations finished on 3000/7987 queries. users per second: 26233.4</pre>"
      ],
      "text/plain": [
       "recommendations finished on 3000/7987 queries. users per second: 26233.4"
      ]
     },
     "metadata": {},
     "output_type": "display_data"
    },
    {
     "data": {
      "text/html": [
       "<pre>recommendations finished on 4000/7987 queries. users per second: 27309.2</pre>"
      ],
      "text/plain": [
       "recommendations finished on 4000/7987 queries. users per second: 27309.2"
      ]
     },
     "metadata": {},
     "output_type": "display_data"
    },
    {
     "data": {
      "text/html": [
       "<pre>recommendations finished on 5000/7987 queries. users per second: 30257.9</pre>"
      ],
      "text/plain": [
       "recommendations finished on 5000/7987 queries. users per second: 30257.9"
      ]
     },
     "metadata": {},
     "output_type": "display_data"
    },
    {
     "data": {
      "text/html": [
       "<pre>recommendations finished on 6000/7987 queries. users per second: 30891.4</pre>"
      ],
      "text/plain": [
       "recommendations finished on 6000/7987 queries. users per second: 30891.4"
      ]
     },
     "metadata": {},
     "output_type": "display_data"
    },
    {
     "data": {
      "text/html": [
       "<pre>recommendations finished on 7000/7987 queries. users per second: 30418.1</pre>"
      ],
      "text/plain": [
       "recommendations finished on 7000/7987 queries. users per second: 30418.1"
      ]
     },
     "metadata": {},
     "output_type": "display_data"
    },
    {
     "name": "stdout",
     "output_type": "stream",
     "text": [
      "+---------+---------+---------------------+------+\n",
      "| alunoId | cursoId |        score        | rank |\n",
      "+---------+---------+---------------------+------+\n",
      "| 1076254 |  920085 | 0.18582082986831666 |  1   |\n",
      "| 1076254 |  920091 | 0.17988263368606566 |  2   |\n",
      "| 1076254 |  920080 | 0.16707290410995485 |  3   |\n",
      "| 1076254 |  920084 | 0.16399482488632203 |  4   |\n",
      "| 1076254 |  920087 | 0.15693517923355102 |  5   |\n",
      "| 1076254 |  920081 | 0.15062105655670166 |  6   |\n",
      "| 1076254 |  920082 |  0.1498955726623535 |  7   |\n",
      "| 1076254 |  920094 | 0.14053525924682617 |  8   |\n",
      "| 1076254 |  920088 | 0.13650453090667725 |  9   |\n",
      "| 1076254 |  920086 | 0.13146027326583862 |  10  |\n",
      "| 1268548 |  123822 | 0.17010042071342468 |  1   |\n",
      "| 1268548 |  124669 | 0.16064387559890747 |  2   |\n",
      "| 1268548 |  123547 | 0.15569978952407837 |  3   |\n",
      "| 1268548 |  123683 | 0.15075567364692688 |  4   |\n",
      "| 1268548 |  124725 | 0.15075567364692688 |  5   |\n",
      "| 1268548 |  123714 | 0.15075567364692688 |  6   |\n",
      "| 1268548 |  124533 |  0.1466471254825592 |  7   |\n",
      "| 1268548 |  123777 | 0.13888639211654663 |  8   |\n",
      "| 1268548 |  123434 | 0.11170029640197754 |  9   |\n",
      "| 1268548 |  122050 | 0.10758092999458313 |  10  |\n",
      "| 1709459 |  123864 | 0.17817415793736777 |  1   |\n",
      "| 1709459 |  123754 | 0.17817415793736777 |  2   |\n",
      "| 1709459 |  124074 | 0.14547858635584512 |  3   |\n",
      "| 1709459 |  920085 |  0.1327475110689799 |  4   |\n",
      "| 1709459 |  920084 | 0.12642693519592285 |  5   |\n",
      "| 1709459 |  124028 | 0.12598816553751627 |  6   |\n",
      "| 1709459 |  920091 | 0.12509238719940186 |  7   |\n",
      "| 1709459 |  920082 | 0.12192358573277791 |  8   |\n",
      "| 1709459 |  920080 | 0.11058266957600911 |  9   |\n",
      "| 1709459 |  920087 | 0.11000607411066692 |  10  |\n",
      "+---------+---------+---------------------+------+\n",
      "[79870 rows x 4 columns]\n",
      "\n"
     ]
    }
   ],
   "source": [
    "# essas variáveis vão mudar de acordo\n",
    "name = 'cosine'\n",
    "target = 'matricula_count'\n",
    "cos = model(train_data, name, user_id, item_id, target, users_to_recommend, n_rec, n_display)"
   ]
  },
  {
   "cell_type": "markdown",
   "metadata": {},
   "source": [
    "#### Usando dummy de compras"
   ]
  },
  {
   "cell_type": "code",
   "execution_count": 38,
   "metadata": {},
   "outputs": [
    {
     "data": {
      "text/html": [
       "<pre>Warning: Ignoring columns matricula_count;</pre>"
      ],
      "text/plain": [
       "Warning: Ignoring columns matricula_count;"
      ]
     },
     "metadata": {},
     "output_type": "display_data"
    },
    {
     "data": {
      "text/html": [
       "<pre>    To use these columns in scoring predictions, use a model that allows the use of additional features.</pre>"
      ],
      "text/plain": [
       "    To use these columns in scoring predictions, use a model that allows the use of additional features."
      ]
     },
     "metadata": {},
     "output_type": "display_data"
    },
    {
     "data": {
      "text/html": [
       "<pre>Preparing data set.</pre>"
      ],
      "text/plain": [
       "Preparing data set."
      ]
     },
     "metadata": {},
     "output_type": "display_data"
    },
    {
     "data": {
      "text/html": [
       "<pre>    Data has 19570 observations with 7154 users and 718 items.</pre>"
      ],
      "text/plain": [
       "    Data has 19570 observations with 7154 users and 718 items."
      ]
     },
     "metadata": {},
     "output_type": "display_data"
    },
    {
     "data": {
      "text/html": [
       "<pre>    Data prepared in: 0.079525s</pre>"
      ],
      "text/plain": [
       "    Data prepared in: 0.079525s"
      ]
     },
     "metadata": {},
     "output_type": "display_data"
    },
    {
     "data": {
      "text/html": [
       "<pre>Training model from provided data.</pre>"
      ],
      "text/plain": [
       "Training model from provided data."
      ]
     },
     "metadata": {},
     "output_type": "display_data"
    },
    {
     "data": {
      "text/html": [
       "<pre>Gathering per-item and per-user statistics.</pre>"
      ],
      "text/plain": [
       "Gathering per-item and per-user statistics."
      ]
     },
     "metadata": {},
     "output_type": "display_data"
    },
    {
     "data": {
      "text/html": [
       "<pre>+--------------------------------+------------+</pre>"
      ],
      "text/plain": [
       "+--------------------------------+------------+"
      ]
     },
     "metadata": {},
     "output_type": "display_data"
    },
    {
     "data": {
      "text/html": [
       "<pre>| Elapsed Time (Item Statistics) | % Complete |</pre>"
      ],
      "text/plain": [
       "| Elapsed Time (Item Statistics) | % Complete |"
      ]
     },
     "metadata": {},
     "output_type": "display_data"
    },
    {
     "data": {
      "text/html": [
       "<pre>+--------------------------------+------------+</pre>"
      ],
      "text/plain": [
       "+--------------------------------+------------+"
      ]
     },
     "metadata": {},
     "output_type": "display_data"
    },
    {
     "data": {
      "text/html": [
       "<pre>| 1.193ms                        | 13.75      |</pre>"
      ],
      "text/plain": [
       "| 1.193ms                        | 13.75      |"
      ]
     },
     "metadata": {},
     "output_type": "display_data"
    },
    {
     "data": {
      "text/html": [
       "<pre>| 3.085ms                        | 100        |</pre>"
      ],
      "text/plain": [
       "| 3.085ms                        | 100        |"
      ]
     },
     "metadata": {},
     "output_type": "display_data"
    },
    {
     "data": {
      "text/html": [
       "<pre>+--------------------------------+------------+</pre>"
      ],
      "text/plain": [
       "+--------------------------------+------------+"
      ]
     },
     "metadata": {},
     "output_type": "display_data"
    },
    {
     "data": {
      "text/html": [
       "<pre>Setting up lookup tables.</pre>"
      ],
      "text/plain": [
       "Setting up lookup tables."
      ]
     },
     "metadata": {},
     "output_type": "display_data"
    },
    {
     "data": {
      "text/html": [
       "<pre>Processing data in one pass using dense lookup tables.</pre>"
      ],
      "text/plain": [
       "Processing data in one pass using dense lookup tables."
      ]
     },
     "metadata": {},
     "output_type": "display_data"
    },
    {
     "data": {
      "text/html": [
       "<pre>+-------------------------------------+------------------+-----------------+</pre>"
      ],
      "text/plain": [
       "+-------------------------------------+------------------+-----------------+"
      ]
     },
     "metadata": {},
     "output_type": "display_data"
    },
    {
     "data": {
      "text/html": [
       "<pre>| Elapsed Time (Constructing Lookups) | Total % Complete | Items Processed |</pre>"
      ],
      "text/plain": [
       "| Elapsed Time (Constructing Lookups) | Total % Complete | Items Processed |"
      ]
     },
     "metadata": {},
     "output_type": "display_data"
    },
    {
     "data": {
      "text/html": [
       "<pre>+-------------------------------------+------------------+-----------------+</pre>"
      ],
      "text/plain": [
       "+-------------------------------------+------------------+-----------------+"
      ]
     },
     "metadata": {},
     "output_type": "display_data"
    },
    {
     "data": {
      "text/html": [
       "<pre>| 6.193ms                             | 0                | 0               |</pre>"
      ],
      "text/plain": [
       "| 6.193ms                             | 0                | 0               |"
      ]
     },
     "metadata": {},
     "output_type": "display_data"
    },
    {
     "data": {
      "text/html": [
       "<pre>| 13.956ms                            | 100              | 718             |</pre>"
      ],
      "text/plain": [
       "| 13.956ms                            | 100              | 718             |"
      ]
     },
     "metadata": {},
     "output_type": "display_data"
    },
    {
     "data": {
      "text/html": [
       "<pre>+-------------------------------------+------------------+-----------------+</pre>"
      ],
      "text/plain": [
       "+-------------------------------------+------------------+-----------------+"
      ]
     },
     "metadata": {},
     "output_type": "display_data"
    },
    {
     "data": {
      "text/html": [
       "<pre>Finalizing lookup tables.</pre>"
      ],
      "text/plain": [
       "Finalizing lookup tables."
      ]
     },
     "metadata": {},
     "output_type": "display_data"
    },
    {
     "data": {
      "text/html": [
       "<pre>Generating candidate set for working with new users.</pre>"
      ],
      "text/plain": [
       "Generating candidate set for working with new users."
      ]
     },
     "metadata": {},
     "output_type": "display_data"
    },
    {
     "data": {
      "text/html": [
       "<pre>Finished training in 0.023341s</pre>"
      ],
      "text/plain": [
       "Finished training in 0.023341s"
      ]
     },
     "metadata": {},
     "output_type": "display_data"
    },
    {
     "data": {
      "text/html": [
       "<pre>recommendations finished on 1000/7987 queries. users per second: 38210.2</pre>"
      ],
      "text/plain": [
       "recommendations finished on 1000/7987 queries. users per second: 38210.2"
      ]
     },
     "metadata": {},
     "output_type": "display_data"
    },
    {
     "data": {
      "text/html": [
       "<pre>recommendations finished on 2000/7987 queries. users per second: 25580.7</pre>"
      ],
      "text/plain": [
       "recommendations finished on 2000/7987 queries. users per second: 25580.7"
      ]
     },
     "metadata": {},
     "output_type": "display_data"
    },
    {
     "data": {
      "text/html": [
       "<pre>recommendations finished on 3000/7987 queries. users per second: 28958.9</pre>"
      ],
      "text/plain": [
       "recommendations finished on 3000/7987 queries. users per second: 28958.9"
      ]
     },
     "metadata": {},
     "output_type": "display_data"
    },
    {
     "data": {
      "text/html": [
       "<pre>recommendations finished on 4000/7987 queries. users per second: 33386.5</pre>"
      ],
      "text/plain": [
       "recommendations finished on 4000/7987 queries. users per second: 33386.5"
      ]
     },
     "metadata": {},
     "output_type": "display_data"
    },
    {
     "data": {
      "text/html": [
       "<pre>recommendations finished on 5000/7987 queries. users per second: 29485.3</pre>"
      ],
      "text/plain": [
       "recommendations finished on 5000/7987 queries. users per second: 29485.3"
      ]
     },
     "metadata": {},
     "output_type": "display_data"
    },
    {
     "data": {
      "text/html": [
       "<pre>recommendations finished on 6000/7987 queries. users per second: 30421</pre>"
      ],
      "text/plain": [
       "recommendations finished on 6000/7987 queries. users per second: 30421"
      ]
     },
     "metadata": {},
     "output_type": "display_data"
    },
    {
     "data": {
      "text/html": [
       "<pre>recommendations finished on 7000/7987 queries. users per second: 30588.3</pre>"
      ],
      "text/plain": [
       "recommendations finished on 7000/7987 queries. users per second: 30588.3"
      ]
     },
     "metadata": {},
     "output_type": "display_data"
    },
    {
     "name": "stdout",
     "output_type": "stream",
     "text": [
      "+---------+---------+---------------------+------+\n",
      "| alunoId | cursoId |        score        | rank |\n",
      "+---------+---------+---------------------+------+\n",
      "| 1076254 |  920085 | 0.19438000917434692 |  1   |\n",
      "| 1076254 |  920091 | 0.18332616090774537 |  2   |\n",
      "| 1076254 |  920080 |  0.1643500566482544 |  3   |\n",
      "| 1076254 |  920082 | 0.16141895055770875 |  4   |\n",
      "| 1076254 |  920087 | 0.15952242612838746 |  5   |\n",
      "| 1076254 |  920084 | 0.15896177291870117 |  6   |\n",
      "| 1076254 |  920081 |  0.1526973605155945 |  7   |\n",
      "| 1076254 |  920094 | 0.14954893589019774 |  8   |\n",
      "| 1076254 |  920086 | 0.13997145891189575 |  9   |\n",
      "| 1076254 |  920088 |  0.1294936180114746 |  10  |\n",
      "| 1268548 |  123579 | 0.38490015268325806 |  1   |\n",
      "| 1268548 |  123683 |  0.3333333134651184 |  2   |\n",
      "| 1268548 |  123714 |  0.3333333134651184 |  3   |\n",
      "| 1268548 |  123447 |  0.3333333134651184 |  4   |\n",
      "| 1268548 |  124725 |  0.3333333134651184 |  5   |\n",
      "| 1268548 |  122933 |  0.3333333134651184 |  6   |\n",
      "| 1268548 |  123547 |  0.3333333134651184 |  7   |\n",
      "| 1268548 |  124465 |  0.2357022762298584 |  8   |\n",
      "| 1268548 |  124727 |  0.2357022762298584 |  9   |\n",
      "| 1268548 |  124585 |  0.2357022762298584 |  10  |\n",
      "| 1709459 |  123754 | 0.10660034418106079 |  1   |\n",
      "| 1709459 |  124309 | 0.09449112415313721 |  2   |\n",
      "| 1709459 |  124683 | 0.09449112415313721 |  3   |\n",
      "| 1709459 |  123564 | 0.09449112415313721 |  4   |\n",
      "| 1709459 |  124475 | 0.08703881502151489 |  5   |\n",
      "| 1709459 |  124460 | 0.08670783042907715 |  6   |\n",
      "| 1709459 |  124074 | 0.07537782192230225 |  7   |\n",
      "| 1709459 |  123695 | 0.07537782192230225 |  8   |\n",
      "| 1709459 |  122248 | 0.07079663872718811 |  9   |\n",
      "| 1709459 |  124028 | 0.06741997599601746 |  10  |\n",
      "+---------+---------+---------------------+------+\n",
      "[79870 rows x 4 columns]\n",
      "\n"
     ]
    }
   ],
   "source": [
    "# Essas variáveis vão mudar de acordo\n",
    "name = 'cosine'\n",
    "target = 'matricula_dummy'\n",
    "cos_dummy = model(train_data_dummy, name, user_id, item_id, target, users_to_recommend, n_rec, n_display)"
   ]
  },
  {
   "cell_type": "markdown",
   "metadata": {},
   "source": [
    "#### Usando a contagem normalizada de compras"
   ]
  },
  {
   "cell_type": "code",
   "execution_count": 39,
   "metadata": {},
   "outputs": [
    {
     "data": {
      "text/html": [
       "<pre>Preparing data set.</pre>"
      ],
      "text/plain": [
       "Preparing data set."
      ]
     },
     "metadata": {},
     "output_type": "display_data"
    },
    {
     "data": {
      "text/html": [
       "<pre>    Data has 14240 observations with 4211 users and 243 items.</pre>"
      ],
      "text/plain": [
       "    Data has 14240 observations with 4211 users and 243 items."
      ]
     },
     "metadata": {},
     "output_type": "display_data"
    },
    {
     "data": {
      "text/html": [
       "<pre>    Data prepared in: 0.046312s</pre>"
      ],
      "text/plain": [
       "    Data prepared in: 0.046312s"
      ]
     },
     "metadata": {},
     "output_type": "display_data"
    },
    {
     "data": {
      "text/html": [
       "<pre>Training model from provided data.</pre>"
      ],
      "text/plain": [
       "Training model from provided data."
      ]
     },
     "metadata": {},
     "output_type": "display_data"
    },
    {
     "data": {
      "text/html": [
       "<pre>Gathering per-item and per-user statistics.</pre>"
      ],
      "text/plain": [
       "Gathering per-item and per-user statistics."
      ]
     },
     "metadata": {},
     "output_type": "display_data"
    },
    {
     "data": {
      "text/html": [
       "<pre>+--------------------------------+------------+</pre>"
      ],
      "text/plain": [
       "+--------------------------------+------------+"
      ]
     },
     "metadata": {},
     "output_type": "display_data"
    },
    {
     "data": {
      "text/html": [
       "<pre>| Elapsed Time (Item Statistics) | % Complete |</pre>"
      ],
      "text/plain": [
       "| Elapsed Time (Item Statistics) | % Complete |"
      ]
     },
     "metadata": {},
     "output_type": "display_data"
    },
    {
     "data": {
      "text/html": [
       "<pre>+--------------------------------+------------+</pre>"
      ],
      "text/plain": [
       "+--------------------------------+------------+"
      ]
     },
     "metadata": {},
     "output_type": "display_data"
    },
    {
     "data": {
      "text/html": [
       "<pre>| 10.397ms                       | 23.5       |</pre>"
      ],
      "text/plain": [
       "| 10.397ms                       | 23.5       |"
      ]
     },
     "metadata": {},
     "output_type": "display_data"
    },
    {
     "data": {
      "text/html": [
       "<pre>| 11.6ms                         | 100        |</pre>"
      ],
      "text/plain": [
       "| 11.6ms                         | 100        |"
      ]
     },
     "metadata": {},
     "output_type": "display_data"
    },
    {
     "data": {
      "text/html": [
       "<pre>+--------------------------------+------------+</pre>"
      ],
      "text/plain": [
       "+--------------------------------+------------+"
      ]
     },
     "metadata": {},
     "output_type": "display_data"
    },
    {
     "data": {
      "text/html": [
       "<pre>Setting up lookup tables.</pre>"
      ],
      "text/plain": [
       "Setting up lookup tables."
      ]
     },
     "metadata": {},
     "output_type": "display_data"
    },
    {
     "data": {
      "text/html": [
       "<pre>Processing data in one pass using dense lookup tables.</pre>"
      ],
      "text/plain": [
       "Processing data in one pass using dense lookup tables."
      ]
     },
     "metadata": {},
     "output_type": "display_data"
    },
    {
     "data": {
      "text/html": [
       "<pre>+-------------------------------------+------------------+-----------------+</pre>"
      ],
      "text/plain": [
       "+-------------------------------------+------------------+-----------------+"
      ]
     },
     "metadata": {},
     "output_type": "display_data"
    },
    {
     "data": {
      "text/html": [
       "<pre>| Elapsed Time (Constructing Lookups) | Total % Complete | Items Processed |</pre>"
      ],
      "text/plain": [
       "| Elapsed Time (Constructing Lookups) | Total % Complete | Items Processed |"
      ]
     },
     "metadata": {},
     "output_type": "display_data"
    },
    {
     "data": {
      "text/html": [
       "<pre>+-------------------------------------+------------------+-----------------+</pre>"
      ],
      "text/plain": [
       "+-------------------------------------+------------------+-----------------+"
      ]
     },
     "metadata": {},
     "output_type": "display_data"
    },
    {
     "data": {
      "text/html": [
       "<pre>| 12.934ms                            | 0                | 0               |</pre>"
      ],
      "text/plain": [
       "| 12.934ms                            | 0                | 0               |"
      ]
     },
     "metadata": {},
     "output_type": "display_data"
    },
    {
     "data": {
      "text/html": [
       "<pre>| 18.79ms                             | 100              | 243             |</pre>"
      ],
      "text/plain": [
       "| 18.79ms                             | 100              | 243             |"
      ]
     },
     "metadata": {},
     "output_type": "display_data"
    },
    {
     "data": {
      "text/html": [
       "<pre>+-------------------------------------+------------------+-----------------+</pre>"
      ],
      "text/plain": [
       "+-------------------------------------+------------------+-----------------+"
      ]
     },
     "metadata": {},
     "output_type": "display_data"
    },
    {
     "data": {
      "text/html": [
       "<pre>Finalizing lookup tables.</pre>"
      ],
      "text/plain": [
       "Finalizing lookup tables."
      ]
     },
     "metadata": {},
     "output_type": "display_data"
    },
    {
     "data": {
      "text/html": [
       "<pre>Generating candidate set for working with new users.</pre>"
      ],
      "text/plain": [
       "Generating candidate set for working with new users."
      ]
     },
     "metadata": {},
     "output_type": "display_data"
    },
    {
     "data": {
      "text/html": [
       "<pre>Finished training in 0.02853s</pre>"
      ],
      "text/plain": [
       "Finished training in 0.02853s"
      ]
     },
     "metadata": {},
     "output_type": "display_data"
    },
    {
     "data": {
      "text/html": [
       "<pre>recommendations finished on 1000/7987 queries. users per second: 56782.7</pre>"
      ],
      "text/plain": [
       "recommendations finished on 1000/7987 queries. users per second: 56782.7"
      ]
     },
     "metadata": {},
     "output_type": "display_data"
    },
    {
     "data": {
      "text/html": [
       "<pre>recommendations finished on 2000/7987 queries. users per second: 52390.3</pre>"
      ],
      "text/plain": [
       "recommendations finished on 2000/7987 queries. users per second: 52390.3"
      ]
     },
     "metadata": {},
     "output_type": "display_data"
    },
    {
     "data": {
      "text/html": [
       "<pre>recommendations finished on 3000/7987 queries. users per second: 55217.1</pre>"
      ],
      "text/plain": [
       "recommendations finished on 3000/7987 queries. users per second: 55217.1"
      ]
     },
     "metadata": {},
     "output_type": "display_data"
    },
    {
     "data": {
      "text/html": [
       "<pre>recommendations finished on 4000/7987 queries. users per second: 59480.4</pre>"
      ],
      "text/plain": [
       "recommendations finished on 4000/7987 queries. users per second: 59480.4"
      ]
     },
     "metadata": {},
     "output_type": "display_data"
    },
    {
     "data": {
      "text/html": [
       "<pre>recommendations finished on 5000/7987 queries. users per second: 66793.1</pre>"
      ],
      "text/plain": [
       "recommendations finished on 5000/7987 queries. users per second: 66793.1"
      ]
     },
     "metadata": {},
     "output_type": "display_data"
    },
    {
     "data": {
      "text/html": [
       "<pre>recommendations finished on 6000/7987 queries. users per second: 69411.5</pre>"
      ],
      "text/plain": [
       "recommendations finished on 6000/7987 queries. users per second: 69411.5"
      ]
     },
     "metadata": {},
     "output_type": "display_data"
    },
    {
     "data": {
      "text/html": [
       "<pre>recommendations finished on 7000/7987 queries. users per second: 67497.9</pre>"
      ],
      "text/plain": [
       "recommendations finished on 7000/7987 queries. users per second: 67497.9"
      ]
     },
     "metadata": {},
     "output_type": "display_data"
    },
    {
     "name": "stdout",
     "output_type": "stream",
     "text": [
      "+---------+---------+-------+------+\n",
      "| alunoId | cursoId | score | rank |\n",
      "+---------+---------+-------+------+\n",
      "| 1076254 |  920086 |  0.0  |  1   |\n",
      "| 1076254 |  122180 |  0.0  |  2   |\n",
      "| 1076254 |  124079 |  0.0  |  3   |\n",
      "| 1076254 |  920087 |  0.0  |  4   |\n",
      "| 1076254 |  124334 |  0.0  |  5   |\n",
      "| 1076254 |  920094 |  0.0  |  6   |\n",
      "| 1076254 |  920082 |  0.0  |  7   |\n",
      "| 1076254 |  124567 |  0.0  |  8   |\n",
      "| 1076254 |  920091 |  0.0  |  9   |\n",
      "| 1076254 |  123750 |  0.0  |  10  |\n",
      "| 1268548 |  920086 |  0.0  |  1   |\n",
      "| 1268548 |  122180 |  0.0  |  2   |\n",
      "| 1268548 |  124079 |  0.0  |  3   |\n",
      "| 1268548 |  920087 |  0.0  |  4   |\n",
      "| 1268548 |  124334 |  0.0  |  5   |\n",
      "| 1268548 |  920094 |  0.0  |  6   |\n",
      "| 1268548 |  920082 |  0.0  |  7   |\n",
      "| 1268548 |  124567 |  0.0  |  8   |\n",
      "| 1268548 |  920091 |  0.0  |  9   |\n",
      "| 1268548 |  123750 |  0.0  |  10  |\n",
      "| 1709459 |  920086 |  0.0  |  1   |\n",
      "| 1709459 |  122180 |  0.0  |  2   |\n",
      "| 1709459 |  124079 |  0.0  |  3   |\n",
      "| 1709459 |  920087 |  0.0  |  4   |\n",
      "| 1709459 |  124334 |  0.0  |  5   |\n",
      "| 1709459 |  920094 |  0.0  |  6   |\n",
      "| 1709459 |  920082 |  0.0  |  7   |\n",
      "| 1709459 |  124567 |  0.0  |  8   |\n",
      "| 1709459 |  920091 |  0.0  |  9   |\n",
      "| 1709459 |  123750 |  0.0  |  10  |\n",
      "+---------+---------+-------+------+\n",
      "[79870 rows x 4 columns]\n",
      "\n"
     ]
    }
   ],
   "source": [
    "name = 'cosine'\n",
    "target = 'scaled_matricula_freq'\n",
    "cos_norm = model(train_data_norm, name, user_id, item_id, target, users_to_recommend, n_rec, n_display)"
   ]
  },
  {
   "cell_type": "markdown",
   "metadata": {},
   "source": [
    "### 6.2. Similaridade de `Pearson` \n",
    "* A semelhança é o coeficiente de pearson entre os dois vetores.\n",
    "* É definido pela seguinte fórmula\n",
    "![](http://critical-numbers.group.shef.ac.uk/glossary/images/correlationKT1.png)"
   ]
  },
  {
   "cell_type": "markdown",
   "metadata": {},
   "source": [
    "#### Usando a contagem de compras"
   ]
  },
  {
   "cell_type": "code",
   "execution_count": 40,
   "metadata": {},
   "outputs": [
    {
     "data": {
      "text/html": [
       "<pre>Preparing data set.</pre>"
      ],
      "text/plain": [
       "Preparing data set."
      ]
     },
     "metadata": {},
     "output_type": "display_data"
    },
    {
     "data": {
      "text/html": [
       "<pre>    Data has 19570 observations with 7157 users and 718 items.</pre>"
      ],
      "text/plain": [
       "    Data has 19570 observations with 7157 users and 718 items."
      ]
     },
     "metadata": {},
     "output_type": "display_data"
    },
    {
     "data": {
      "text/html": [
       "<pre>    Data prepared in: 0.046432s</pre>"
      ],
      "text/plain": [
       "    Data prepared in: 0.046432s"
      ]
     },
     "metadata": {},
     "output_type": "display_data"
    },
    {
     "data": {
      "text/html": [
       "<pre>Training model from provided data.</pre>"
      ],
      "text/plain": [
       "Training model from provided data."
      ]
     },
     "metadata": {},
     "output_type": "display_data"
    },
    {
     "data": {
      "text/html": [
       "<pre>Gathering per-item and per-user statistics.</pre>"
      ],
      "text/plain": [
       "Gathering per-item and per-user statistics."
      ]
     },
     "metadata": {},
     "output_type": "display_data"
    },
    {
     "data": {
      "text/html": [
       "<pre>+--------------------------------+------------+</pre>"
      ],
      "text/plain": [
       "+--------------------------------+------------+"
      ]
     },
     "metadata": {},
     "output_type": "display_data"
    },
    {
     "data": {
      "text/html": [
       "<pre>| Elapsed Time (Item Statistics) | % Complete |</pre>"
      ],
      "text/plain": [
       "| Elapsed Time (Item Statistics) | % Complete |"
      ]
     },
     "metadata": {},
     "output_type": "display_data"
    },
    {
     "data": {
      "text/html": [
       "<pre>+--------------------------------+------------+</pre>"
      ],
      "text/plain": [
       "+--------------------------------+------------+"
      ]
     },
     "metadata": {},
     "output_type": "display_data"
    },
    {
     "data": {
      "text/html": [
       "<pre>| 1.134ms                        | 13.75      |</pre>"
      ],
      "text/plain": [
       "| 1.134ms                        | 13.75      |"
      ]
     },
     "metadata": {},
     "output_type": "display_data"
    },
    {
     "data": {
      "text/html": [
       "<pre>| 4.771ms                        | 100        |</pre>"
      ],
      "text/plain": [
       "| 4.771ms                        | 100        |"
      ]
     },
     "metadata": {},
     "output_type": "display_data"
    },
    {
     "data": {
      "text/html": [
       "<pre>+--------------------------------+------------+</pre>"
      ],
      "text/plain": [
       "+--------------------------------+------------+"
      ]
     },
     "metadata": {},
     "output_type": "display_data"
    },
    {
     "data": {
      "text/html": [
       "<pre>Setting up lookup tables.</pre>"
      ],
      "text/plain": [
       "Setting up lookup tables."
      ]
     },
     "metadata": {},
     "output_type": "display_data"
    },
    {
     "data": {
      "text/html": [
       "<pre>Processing data in one pass using dense lookup tables.</pre>"
      ],
      "text/plain": [
       "Processing data in one pass using dense lookup tables."
      ]
     },
     "metadata": {},
     "output_type": "display_data"
    },
    {
     "data": {
      "text/html": [
       "<pre>+-------------------------------------+------------------+-----------------+</pre>"
      ],
      "text/plain": [
       "+-------------------------------------+------------------+-----------------+"
      ]
     },
     "metadata": {},
     "output_type": "display_data"
    },
    {
     "data": {
      "text/html": [
       "<pre>| Elapsed Time (Constructing Lookups) | Total % Complete | Items Processed |</pre>"
      ],
      "text/plain": [
       "| Elapsed Time (Constructing Lookups) | Total % Complete | Items Processed |"
      ]
     },
     "metadata": {},
     "output_type": "display_data"
    },
    {
     "data": {
      "text/html": [
       "<pre>+-------------------------------------+------------------+-----------------+</pre>"
      ],
      "text/plain": [
       "+-------------------------------------+------------------+-----------------+"
      ]
     },
     "metadata": {},
     "output_type": "display_data"
    },
    {
     "data": {
      "text/html": [
       "<pre>| 8.709ms                             | 0                | 0               |</pre>"
      ],
      "text/plain": [
       "| 8.709ms                             | 0                | 0               |"
      ]
     },
     "metadata": {},
     "output_type": "display_data"
    },
    {
     "data": {
      "text/html": [
       "<pre>| 38.359ms                            | 100              | 718             |</pre>"
      ],
      "text/plain": [
       "| 38.359ms                            | 100              | 718             |"
      ]
     },
     "metadata": {},
     "output_type": "display_data"
    },
    {
     "data": {
      "text/html": [
       "<pre>+-------------------------------------+------------------+-----------------+</pre>"
      ],
      "text/plain": [
       "+-------------------------------------+------------------+-----------------+"
      ]
     },
     "metadata": {},
     "output_type": "display_data"
    },
    {
     "data": {
      "text/html": [
       "<pre>Finalizing lookup tables.</pre>"
      ],
      "text/plain": [
       "Finalizing lookup tables."
      ]
     },
     "metadata": {},
     "output_type": "display_data"
    },
    {
     "data": {
      "text/html": [
       "<pre>Generating candidate set for working with new users.</pre>"
      ],
      "text/plain": [
       "Generating candidate set for working with new users."
      ]
     },
     "metadata": {},
     "output_type": "display_data"
    },
    {
     "data": {
      "text/html": [
       "<pre>Finished training in 0.052409s</pre>"
      ],
      "text/plain": [
       "Finished training in 0.052409s"
      ]
     },
     "metadata": {},
     "output_type": "display_data"
    },
    {
     "data": {
      "text/html": [
       "<pre>recommendations finished on 1000/7987 queries. users per second: 26886.1</pre>"
      ],
      "text/plain": [
       "recommendations finished on 1000/7987 queries. users per second: 26886.1"
      ]
     },
     "metadata": {},
     "output_type": "display_data"
    },
    {
     "data": {
      "text/html": [
       "<pre>recommendations finished on 2000/7987 queries. users per second: 36551</pre>"
      ],
      "text/plain": [
       "recommendations finished on 2000/7987 queries. users per second: 36551"
      ]
     },
     "metadata": {},
     "output_type": "display_data"
    },
    {
     "data": {
      "text/html": [
       "<pre>recommendations finished on 3000/7987 queries. users per second: 39456</pre>"
      ],
      "text/plain": [
       "recommendations finished on 3000/7987 queries. users per second: 39456"
      ]
     },
     "metadata": {},
     "output_type": "display_data"
    },
    {
     "data": {
      "text/html": [
       "<pre>recommendations finished on 4000/7987 queries. users per second: 36794.8</pre>"
      ],
      "text/plain": [
       "recommendations finished on 4000/7987 queries. users per second: 36794.8"
      ]
     },
     "metadata": {},
     "output_type": "display_data"
    },
    {
     "data": {
      "text/html": [
       "<pre>recommendations finished on 5000/7987 queries. users per second: 40884.7</pre>"
      ],
      "text/plain": [
       "recommendations finished on 5000/7987 queries. users per second: 40884.7"
      ]
     },
     "metadata": {},
     "output_type": "display_data"
    },
    {
     "data": {
      "text/html": [
       "<pre>recommendations finished on 6000/7987 queries. users per second: 41346.2</pre>"
      ],
      "text/plain": [
       "recommendations finished on 6000/7987 queries. users per second: 41346.2"
      ]
     },
     "metadata": {},
     "output_type": "display_data"
    },
    {
     "data": {
      "text/html": [
       "<pre>recommendations finished on 7000/7987 queries. users per second: 40592.7</pre>"
      ],
      "text/plain": [
       "recommendations finished on 7000/7987 queries. users per second: 40592.7"
      ]
     },
     "metadata": {},
     "output_type": "display_data"
    },
    {
     "name": "stdout",
     "output_type": "stream",
     "text": [
      "+---------+---------+--------------------+------+\n",
      "| alunoId | cursoId |       score        | rank |\n",
      "+---------+---------+--------------------+------+\n",
      "| 1076254 |  123864 |        2.0         |  1   |\n",
      "| 1076254 |  124738 |        2.0         |  2   |\n",
      "| 1076254 |  124136 |        2.0         |  3   |\n",
      "| 1076254 |  124838 |        2.0         |  4   |\n",
      "| 1076254 |  123754 |        2.0         |  5   |\n",
      "| 1076254 |  124788 |        2.0         |  6   |\n",
      "| 1076254 |  124875 |        2.0         |  7   |\n",
      "| 1076254 |  123123 |        1.5         |  8   |\n",
      "| 1076254 |  123480 |        1.5         |  9   |\n",
      "| 1076254 |  124412 | 1.4996973276138306 |  10  |\n",
      "| 1268548 |  123864 |        2.0         |  1   |\n",
      "| 1268548 |  124738 |        2.0         |  2   |\n",
      "| 1268548 |  124136 |        2.0         |  3   |\n",
      "| 1268548 |  124838 |        2.0         |  4   |\n",
      "| 1268548 |  123754 |        2.0         |  5   |\n",
      "| 1268548 |  124788 |        2.0         |  6   |\n",
      "| 1268548 |  124875 |        2.0         |  7   |\n",
      "| 1268548 |  123123 |        1.5         |  8   |\n",
      "| 1268548 |  124412 |        1.5         |  9   |\n",
      "| 1268548 |  123480 |        1.5         |  10  |\n",
      "| 1709459 |  123864 |        2.0         |  1   |\n",
      "| 1709459 |  124738 |        2.0         |  2   |\n",
      "| 1709459 |  124136 |        2.0         |  3   |\n",
      "| 1709459 |  124838 |        2.0         |  4   |\n",
      "| 1709459 |  123754 |        2.0         |  5   |\n",
      "| 1709459 |  124788 |        2.0         |  6   |\n",
      "| 1709459 |  124875 |        2.0         |  7   |\n",
      "| 1709459 |  123123 |        1.5         |  8   |\n",
      "| 1709459 |  123480 |        1.5         |  9   |\n",
      "| 1709459 |  124412 | 1.4997959733009338 |  10  |\n",
      "+---------+---------+--------------------+------+\n",
      "[79870 rows x 4 columns]\n",
      "\n"
     ]
    }
   ],
   "source": [
    "# Essas variáveis irão mudar de acordo\n",
    "name = 'pearson'\n",
    "target = 'matricula_count'\n",
    "pear = model(train_data, name, user_id, item_id, target, users_to_recommend, n_rec, n_display)"
   ]
  },
  {
   "cell_type": "markdown",
   "metadata": {},
   "source": [
    "#### Usando as compras dummy"
   ]
  },
  {
   "cell_type": "code",
   "execution_count": 41,
   "metadata": {},
   "outputs": [
    {
     "data": {
      "text/html": [
       "<pre>Warning: Ignoring columns matricula_count;</pre>"
      ],
      "text/plain": [
       "Warning: Ignoring columns matricula_count;"
      ]
     },
     "metadata": {},
     "output_type": "display_data"
    },
    {
     "data": {
      "text/html": [
       "<pre>    To use these columns in scoring predictions, use a model that allows the use of additional features.</pre>"
      ],
      "text/plain": [
       "    To use these columns in scoring predictions, use a model that allows the use of additional features."
      ]
     },
     "metadata": {},
     "output_type": "display_data"
    },
    {
     "data": {
      "text/html": [
       "<pre>Preparing data set.</pre>"
      ],
      "text/plain": [
       "Preparing data set."
      ]
     },
     "metadata": {},
     "output_type": "display_data"
    },
    {
     "data": {
      "text/html": [
       "<pre>    Data has 19570 observations with 7154 users and 718 items.</pre>"
      ],
      "text/plain": [
       "    Data has 19570 observations with 7154 users and 718 items."
      ]
     },
     "metadata": {},
     "output_type": "display_data"
    },
    {
     "data": {
      "text/html": [
       "<pre>    Data prepared in: 0.063732s</pre>"
      ],
      "text/plain": [
       "    Data prepared in: 0.063732s"
      ]
     },
     "metadata": {},
     "output_type": "display_data"
    },
    {
     "data": {
      "text/html": [
       "<pre>Training model from provided data.</pre>"
      ],
      "text/plain": [
       "Training model from provided data."
      ]
     },
     "metadata": {},
     "output_type": "display_data"
    },
    {
     "data": {
      "text/html": [
       "<pre>Gathering per-item and per-user statistics.</pre>"
      ],
      "text/plain": [
       "Gathering per-item and per-user statistics."
      ]
     },
     "metadata": {},
     "output_type": "display_data"
    },
    {
     "data": {
      "text/html": [
       "<pre>+--------------------------------+------------+</pre>"
      ],
      "text/plain": [
       "+--------------------------------+------------+"
      ]
     },
     "metadata": {},
     "output_type": "display_data"
    },
    {
     "data": {
      "text/html": [
       "<pre>| Elapsed Time (Item Statistics) | % Complete |</pre>"
      ],
      "text/plain": [
       "| Elapsed Time (Item Statistics) | % Complete |"
      ]
     },
     "metadata": {},
     "output_type": "display_data"
    },
    {
     "data": {
      "text/html": [
       "<pre>+--------------------------------+------------+</pre>"
      ],
      "text/plain": [
       "+--------------------------------+------------+"
      ]
     },
     "metadata": {},
     "output_type": "display_data"
    },
    {
     "data": {
      "text/html": [
       "<pre>| 1.446ms                        | 13.75      |</pre>"
      ],
      "text/plain": [
       "| 1.446ms                        | 13.75      |"
      ]
     },
     "metadata": {},
     "output_type": "display_data"
    },
    {
     "data": {
      "text/html": [
       "<pre>| 6.979ms                        | 100        |</pre>"
      ],
      "text/plain": [
       "| 6.979ms                        | 100        |"
      ]
     },
     "metadata": {},
     "output_type": "display_data"
    },
    {
     "data": {
      "text/html": [
       "<pre>+--------------------------------+------------+</pre>"
      ],
      "text/plain": [
       "+--------------------------------+------------+"
      ]
     },
     "metadata": {},
     "output_type": "display_data"
    },
    {
     "data": {
      "text/html": [
       "<pre>Setting up lookup tables.</pre>"
      ],
      "text/plain": [
       "Setting up lookup tables."
      ]
     },
     "metadata": {},
     "output_type": "display_data"
    },
    {
     "data": {
      "text/html": [
       "<pre>Processing data in one pass using dense lookup tables.</pre>"
      ],
      "text/plain": [
       "Processing data in one pass using dense lookup tables."
      ]
     },
     "metadata": {},
     "output_type": "display_data"
    },
    {
     "data": {
      "text/html": [
       "<pre>+-------------------------------------+------------------+-----------------+</pre>"
      ],
      "text/plain": [
       "+-------------------------------------+------------------+-----------------+"
      ]
     },
     "metadata": {},
     "output_type": "display_data"
    },
    {
     "data": {
      "text/html": [
       "<pre>| Elapsed Time (Constructing Lookups) | Total % Complete | Items Processed |</pre>"
      ],
      "text/plain": [
       "| Elapsed Time (Constructing Lookups) | Total % Complete | Items Processed |"
      ]
     },
     "metadata": {},
     "output_type": "display_data"
    },
    {
     "data": {
      "text/html": [
       "<pre>+-------------------------------------+------------------+-----------------+</pre>"
      ],
      "text/plain": [
       "+-------------------------------------+------------------+-----------------+"
      ]
     },
     "metadata": {},
     "output_type": "display_data"
    },
    {
     "data": {
      "text/html": [
       "<pre>| 10.598ms                            | 0                | 0               |</pre>"
      ],
      "text/plain": [
       "| 10.598ms                            | 0                | 0               |"
      ]
     },
     "metadata": {},
     "output_type": "display_data"
    },
    {
     "data": {
      "text/html": [
       "<pre>| 33.314ms                            | 100              | 718             |</pre>"
      ],
      "text/plain": [
       "| 33.314ms                            | 100              | 718             |"
      ]
     },
     "metadata": {},
     "output_type": "display_data"
    },
    {
     "data": {
      "text/html": [
       "<pre>+-------------------------------------+------------------+-----------------+</pre>"
      ],
      "text/plain": [
       "+-------------------------------------+------------------+-----------------+"
      ]
     },
     "metadata": {},
     "output_type": "display_data"
    },
    {
     "data": {
      "text/html": [
       "<pre>Finalizing lookup tables.</pre>"
      ],
      "text/plain": [
       "Finalizing lookup tables."
      ]
     },
     "metadata": {},
     "output_type": "display_data"
    },
    {
     "data": {
      "text/html": [
       "<pre>Generating candidate set for working with new users.</pre>"
      ],
      "text/plain": [
       "Generating candidate set for working with new users."
      ]
     },
     "metadata": {},
     "output_type": "display_data"
    },
    {
     "data": {
      "text/html": [
       "<pre>Finished training in 0.047875s</pre>"
      ],
      "text/plain": [
       "Finished training in 0.047875s"
      ]
     },
     "metadata": {},
     "output_type": "display_data"
    },
    {
     "data": {
      "text/html": [
       "<pre>recommendations finished on 1000/7987 queries. users per second: 7571.17</pre>"
      ],
      "text/plain": [
       "recommendations finished on 1000/7987 queries. users per second: 7571.17"
      ]
     },
     "metadata": {},
     "output_type": "display_data"
    },
    {
     "data": {
      "text/html": [
       "<pre>recommendations finished on 2000/7987 queries. users per second: 12803.4</pre>"
      ],
      "text/plain": [
       "recommendations finished on 2000/7987 queries. users per second: 12803.4"
      ]
     },
     "metadata": {},
     "output_type": "display_data"
    },
    {
     "data": {
      "text/html": [
       "<pre>recommendations finished on 3000/7987 queries. users per second: 17423.3</pre>"
      ],
      "text/plain": [
       "recommendations finished on 3000/7987 queries. users per second: 17423.3"
      ]
     },
     "metadata": {},
     "output_type": "display_data"
    },
    {
     "data": {
      "text/html": [
       "<pre>recommendations finished on 4000/7987 queries. users per second: 20753.9</pre>"
      ],
      "text/plain": [
       "recommendations finished on 4000/7987 queries. users per second: 20753.9"
      ]
     },
     "metadata": {},
     "output_type": "display_data"
    },
    {
     "data": {
      "text/html": [
       "<pre>recommendations finished on 5000/7987 queries. users per second: 23185.5</pre>"
      ],
      "text/plain": [
       "recommendations finished on 5000/7987 queries. users per second: 23185.5"
      ]
     },
     "metadata": {},
     "output_type": "display_data"
    },
    {
     "data": {
      "text/html": [
       "<pre>recommendations finished on 6000/7987 queries. users per second: 24526</pre>"
      ],
      "text/plain": [
       "recommendations finished on 6000/7987 queries. users per second: 24526"
      ]
     },
     "metadata": {},
     "output_type": "display_data"
    },
    {
     "data": {
      "text/html": [
       "<pre>recommendations finished on 7000/7987 queries. users per second: 25989</pre>"
      ],
      "text/plain": [
       "recommendations finished on 7000/7987 queries. users per second: 25989"
      ]
     },
     "metadata": {},
     "output_type": "display_data"
    },
    {
     "name": "stdout",
     "output_type": "stream",
     "text": [
      "+---------+---------+-------+------+\n",
      "| alunoId | cursoId | score | rank |\n",
      "+---------+---------+-------+------+\n",
      "| 1076254 |    92   |  0.0  |  1   |\n",
      "| 1076254 |  120292 |  0.0  |  2   |\n",
      "| 1076254 |  123827 |  0.0  |  3   |\n",
      "| 1076254 |   9201  |  0.0  |  4   |\n",
      "| 1076254 |  920087 |  0.0  |  5   |\n",
      "| 1076254 |   125   |  0.0  |  6   |\n",
      "| 1076254 |  124354 |  0.0  |  7   |\n",
      "| 1076254 |  121439 |  0.0  |  8   |\n",
      "| 1076254 |  920081 |  0.0  |  9   |\n",
      "| 1076254 |  920094 |  0.0  |  10  |\n",
      "| 1268548 |  920089 |  0.0  |  1   |\n",
      "| 1268548 |  123827 |  0.0  |  2   |\n",
      "| 1268548 |   9201  |  0.0  |  3   |\n",
      "| 1268548 |  920087 |  0.0  |  4   |\n",
      "| 1268548 |   125   |  0.0  |  5   |\n",
      "| 1268548 |  920090 |  0.0  |  6   |\n",
      "| 1268548 |  124354 |  0.0  |  7   |\n",
      "| 1268548 |  121439 |  0.0  |  8   |\n",
      "| 1268548 |  920081 |  0.0  |  9   |\n",
      "| 1268548 |  920094 |  0.0  |  10  |\n",
      "| 1709459 |  920089 |  0.0  |  1   |\n",
      "| 1709459 |  123827 |  0.0  |  2   |\n",
      "| 1709459 |   9201  |  0.0  |  3   |\n",
      "| 1709459 |  920087 |  0.0  |  4   |\n",
      "| 1709459 |   125   |  0.0  |  5   |\n",
      "| 1709459 |  920090 |  0.0  |  6   |\n",
      "| 1709459 |  124354 |  0.0  |  7   |\n",
      "| 1709459 |  121439 |  0.0  |  8   |\n",
      "| 1709459 |  920081 |  0.0  |  9   |\n",
      "| 1709459 |  920094 |  0.0  |  10  |\n",
      "+---------+---------+-------+------+\n",
      "[79870 rows x 4 columns]\n",
      "\n"
     ]
    }
   ],
   "source": [
    "# Essas variáveis vão mudar de acordo\n",
    "name = 'pearson'\n",
    "target = 'matricula_dummy'\n",
    "pear_dummy = model(train_data_dummy, name, user_id, item_id, target, users_to_recommend, n_rec, n_display)"
   ]
  },
  {
   "cell_type": "markdown",
   "metadata": {},
   "source": [
    "#### Using normalized purchase count"
   ]
  },
  {
   "cell_type": "code",
   "execution_count": 42,
   "metadata": {},
   "outputs": [
    {
     "data": {
      "text/html": [
       "<pre>Preparing data set.</pre>"
      ],
      "text/plain": [
       "Preparing data set."
      ]
     },
     "metadata": {},
     "output_type": "display_data"
    },
    {
     "data": {
      "text/html": [
       "<pre>    Data has 14240 observations with 4211 users and 243 items.</pre>"
      ],
      "text/plain": [
       "    Data has 14240 observations with 4211 users and 243 items."
      ]
     },
     "metadata": {},
     "output_type": "display_data"
    },
    {
     "data": {
      "text/html": [
       "<pre>    Data prepared in: 0.06055s</pre>"
      ],
      "text/plain": [
       "    Data prepared in: 0.06055s"
      ]
     },
     "metadata": {},
     "output_type": "display_data"
    },
    {
     "data": {
      "text/html": [
       "<pre>Training model from provided data.</pre>"
      ],
      "text/plain": [
       "Training model from provided data."
      ]
     },
     "metadata": {},
     "output_type": "display_data"
    },
    {
     "data": {
      "text/html": [
       "<pre>Gathering per-item and per-user statistics.</pre>"
      ],
      "text/plain": [
       "Gathering per-item and per-user statistics."
      ]
     },
     "metadata": {},
     "output_type": "display_data"
    },
    {
     "data": {
      "text/html": [
       "<pre>+--------------------------------+------------+</pre>"
      ],
      "text/plain": [
       "+--------------------------------+------------+"
      ]
     },
     "metadata": {},
     "output_type": "display_data"
    },
    {
     "data": {
      "text/html": [
       "<pre>| Elapsed Time (Item Statistics) | % Complete |</pre>"
      ],
      "text/plain": [
       "| Elapsed Time (Item Statistics) | % Complete |"
      ]
     },
     "metadata": {},
     "output_type": "display_data"
    },
    {
     "data": {
      "text/html": [
       "<pre>+--------------------------------+------------+</pre>"
      ],
      "text/plain": [
       "+--------------------------------+------------+"
      ]
     },
     "metadata": {},
     "output_type": "display_data"
    },
    {
     "data": {
      "text/html": [
       "<pre>| 1.767ms                        | 23.5       |</pre>"
      ],
      "text/plain": [
       "| 1.767ms                        | 23.5       |"
      ]
     },
     "metadata": {},
     "output_type": "display_data"
    },
    {
     "data": {
      "text/html": [
       "<pre>| 7.358ms                        | 100        |</pre>"
      ],
      "text/plain": [
       "| 7.358ms                        | 100        |"
      ]
     },
     "metadata": {},
     "output_type": "display_data"
    },
    {
     "data": {
      "text/html": [
       "<pre>+--------------------------------+------------+</pre>"
      ],
      "text/plain": [
       "+--------------------------------+------------+"
      ]
     },
     "metadata": {},
     "output_type": "display_data"
    },
    {
     "data": {
      "text/html": [
       "<pre>Setting up lookup tables.</pre>"
      ],
      "text/plain": [
       "Setting up lookup tables."
      ]
     },
     "metadata": {},
     "output_type": "display_data"
    },
    {
     "data": {
      "text/html": [
       "<pre>Processing data in one pass using dense lookup tables.</pre>"
      ],
      "text/plain": [
       "Processing data in one pass using dense lookup tables."
      ]
     },
     "metadata": {},
     "output_type": "display_data"
    },
    {
     "data": {
      "text/html": [
       "<pre>+-------------------------------------+------------------+-----------------+</pre>"
      ],
      "text/plain": [
       "+-------------------------------------+------------------+-----------------+"
      ]
     },
     "metadata": {},
     "output_type": "display_data"
    },
    {
     "data": {
      "text/html": [
       "<pre>| Elapsed Time (Constructing Lookups) | Total % Complete | Items Processed |</pre>"
      ],
      "text/plain": [
       "| Elapsed Time (Constructing Lookups) | Total % Complete | Items Processed |"
      ]
     },
     "metadata": {},
     "output_type": "display_data"
    },
    {
     "data": {
      "text/html": [
       "<pre>+-------------------------------------+------------------+-----------------+</pre>"
      ],
      "text/plain": [
       "+-------------------------------------+------------------+-----------------+"
      ]
     },
     "metadata": {},
     "output_type": "display_data"
    },
    {
     "data": {
      "text/html": [
       "<pre>| 8.755ms                             | 0                | 0               |</pre>"
      ],
      "text/plain": [
       "| 8.755ms                             | 0                | 0               |"
      ]
     },
     "metadata": {},
     "output_type": "display_data"
    },
    {
     "data": {
      "text/html": [
       "<pre>| 19.322ms                            | 100              | 243             |</pre>"
      ],
      "text/plain": [
       "| 19.322ms                            | 100              | 243             |"
      ]
     },
     "metadata": {},
     "output_type": "display_data"
    },
    {
     "data": {
      "text/html": [
       "<pre>+-------------------------------------+------------------+-----------------+</pre>"
      ],
      "text/plain": [
       "+-------------------------------------+------------------+-----------------+"
      ]
     },
     "metadata": {},
     "output_type": "display_data"
    },
    {
     "data": {
      "text/html": [
       "<pre>Finalizing lookup tables.</pre>"
      ],
      "text/plain": [
       "Finalizing lookup tables."
      ]
     },
     "metadata": {},
     "output_type": "display_data"
    },
    {
     "data": {
      "text/html": [
       "<pre>Generating candidate set for working with new users.</pre>"
      ],
      "text/plain": [
       "Generating candidate set for working with new users."
      ]
     },
     "metadata": {},
     "output_type": "display_data"
    },
    {
     "data": {
      "text/html": [
       "<pre>Finished training in 0.027911s</pre>"
      ],
      "text/plain": [
       "Finished training in 0.027911s"
      ]
     },
     "metadata": {},
     "output_type": "display_data"
    },
    {
     "data": {
      "text/html": [
       "<pre>recommendations finished on 1000/7987 queries. users per second: 67240.5</pre>"
      ],
      "text/plain": [
       "recommendations finished on 1000/7987 queries. users per second: 67240.5"
      ]
     },
     "metadata": {},
     "output_type": "display_data"
    },
    {
     "data": {
      "text/html": [
       "<pre>recommendations finished on 2000/7987 queries. users per second: 30155</pre>"
      ],
      "text/plain": [
       "recommendations finished on 2000/7987 queries. users per second: 30155"
      ]
     },
     "metadata": {},
     "output_type": "display_data"
    },
    {
     "data": {
      "text/html": [
       "<pre>recommendations finished on 3000/7987 queries. users per second: 36061.6</pre>"
      ],
      "text/plain": [
       "recommendations finished on 3000/7987 queries. users per second: 36061.6"
      ]
     },
     "metadata": {},
     "output_type": "display_data"
    },
    {
     "data": {
      "text/html": [
       "<pre>recommendations finished on 4000/7987 queries. users per second: 35003.6</pre>"
      ],
      "text/plain": [
       "recommendations finished on 4000/7987 queries. users per second: 35003.6"
      ]
     },
     "metadata": {},
     "output_type": "display_data"
    },
    {
     "data": {
      "text/html": [
       "<pre>recommendations finished on 5000/7987 queries. users per second: 35486.7</pre>"
      ],
      "text/plain": [
       "recommendations finished on 5000/7987 queries. users per second: 35486.7"
      ]
     },
     "metadata": {},
     "output_type": "display_data"
    },
    {
     "data": {
      "text/html": [
       "<pre>recommendations finished on 6000/7987 queries. users per second: 34270</pre>"
      ],
      "text/plain": [
       "recommendations finished on 6000/7987 queries. users per second: 34270"
      ]
     },
     "metadata": {},
     "output_type": "display_data"
    },
    {
     "data": {
      "text/html": [
       "<pre>recommendations finished on 7000/7987 queries. users per second: 35011.7</pre>"
      ],
      "text/plain": [
       "recommendations finished on 7000/7987 queries. users per second: 35011.7"
      ]
     },
     "metadata": {},
     "output_type": "display_data"
    },
    {
     "name": "stdout",
     "output_type": "stream",
     "text": [
      "+---------+---------+---------------------+------+\n",
      "| alunoId | cursoId |        score        | rank |\n",
      "+---------+---------+---------------------+------+\n",
      "| 1076254 |  120386 |         1.0         |  1   |\n",
      "| 1076254 |  124074 |  0.6666666666666667 |  2   |\n",
      "| 1076254 |  123429 |         0.5         |  3   |\n",
      "| 1076254 |  124659 |         0.5         |  4   |\n",
      "| 1076254 |  123123 |         0.5         |  5   |\n",
      "| 1076254 |  124697 |         0.5         |  6   |\n",
      "| 1076254 |  120976 | 0.49997421105702716 |  7   |\n",
      "| 1076254 |  124568 |  0.4999334116776784 |  8   |\n",
      "| 1076254 |  124689 |  0.4997924168904622 |  9   |\n",
      "| 1076254 |  124475 |  0.4996318419774373 |  10  |\n",
      "| 1268548 |  120386 |         1.0         |  1   |\n",
      "| 1268548 |  124074 |  0.6666666666666667 |  2   |\n",
      "| 1268548 |  124475 |         0.5         |  3   |\n",
      "| 1268548 |  123429 |         0.5         |  4   |\n",
      "| 1268548 |  124659 |         0.5         |  5   |\n",
      "| 1268548 |  124689 |         0.5         |  6   |\n",
      "| 1268548 |  123123 |         0.5         |  7   |\n",
      "| 1268548 |  124568 |         0.5         |  8   |\n",
      "| 1268548 |  124697 |         0.5         |  9   |\n",
      "| 1268548 |  120976 |         0.5         |  10  |\n",
      "| 1709459 |  120386 |         1.0         |  1   |\n",
      "| 1709459 |  124074 |  0.6581790049870809 |  2   |\n",
      "| 1709459 |  123429 |         0.5         |  3   |\n",
      "| 1709459 |  124659 |         0.5         |  4   |\n",
      "| 1709459 |  123123 |         0.5         |  5   |\n",
      "| 1709459 |  124568 |         0.5         |  6   |\n",
      "| 1709459 |  124697 |         0.5         |  7   |\n",
      "| 1709459 |  120976 |  0.4999484221140544 |  8   |\n",
      "| 1709459 |  124689 |  0.4995848337809245 |  9   |\n",
      "| 1709459 |  124517 | 0.49334490299224854 |  10  |\n",
      "+---------+---------+---------------------+------+\n",
      "[79870 rows x 4 columns]\n",
      "\n"
     ]
    }
   ],
   "source": [
    "name = 'pearson'\n",
    "target = 'scaled_matricula_freq'\n",
    "pear_norm = model(train_data_norm, name, user_id, item_id, target, users_to_recommend, n_rec, n_display)"
   ]
  },
  {
   "cell_type": "markdown",
   "metadata": {},
   "source": [
    "#### Notas\n",
    "* Na filtragem colaborativa acima, usamos duas abordagens: distância cosseno e pearson. Também conseguimos aplicá-los a três conjuntos de dados de treinamento com contagens normais, fictícias ou contagens normalizadas de compra de itens.\n",
    "* Podemos ver que as recomendações são diferentes para cada usuário. Isso sugere que a personalização existe.\n",
    "* Mas quão bom é esse modelo comparado à linha de base e entre si? Precisamos de alguns meios de avaliar um mecanismo de recomendação. Vamos focar nisso na próxima seção."
   ]
  },
  {
   "cell_type": "markdown",
   "metadata": {},
   "source": [
    "## 7. Modelos de Avaliação\n",
    "Para avaliar os mecanismos de recomendação, podemos usar o conceito de recall de precisão.\n",
    "\n",
    "* RMSE (Root Mean Squared Errors)\n",
    "    * Mede o erro dos valores previstos\n",
    "    * Quanto menor o valor RMSE, melhor as recomendações\n",
    "* Recall\n",
    "    * Qual a porcentagem de produtos que um usuário compra é realmente recomendada?\n",
    "    * Se um cliente comprar 5 produtos e a recomendação decidir mostrar 3 deles, o recall será de 0,6\n",
    "* Precision\n",
    "    * De todos os itens recomendados, quantos o usuário realmente gostou?\n",
    "    * Se 5 produtos foram recomendados ao cliente, dos quais ele compra 4 deles, a precisão é 0,8\n",
    "    \n",
    "* Por que a recall e a precisão são importantes?\n",
    "    * Considere um caso em que recomendamos todos os produtos, para que nossos clientes certamente cubram os itens que eles gostaram e compraram. Nesse caso, temos 100% de recall! Isso significa que o nosso modelo é bom\n",
    "    * Temos que considerar a precisão. Se recomendamos 300 itens, mas o usuário gosta e compra apenas 3 deles, a precisão é de 0,1%! Essa precisão muito baixa indica que o modelo não é ótimo, apesar do excelente recall.\n",
    "    * Portanto, nosso objetivo deve otimizar a recuperação e a precisão (para ficar o mais próximo possível de 1).\n",
    "\n",
    "Vamos comparar todos os modelos que construímos com base nas características de recall de precisão:"
   ]
  },
  {
   "cell_type": "code",
   "execution_count": 43,
   "metadata": {},
   "outputs": [],
   "source": [
    "# create initial callable variables\n",
    "\n",
    "models_w_counts = [popularity_model, cos, pear]\n",
    "models_w_dummy = [pop_dummy, cos_dummy, pear_dummy]\n",
    "models_w_norm = [pop_norm, cos_norm, pear_norm]\n",
    "\n",
    "names_w_counts = ['Popularity Model on matricula Counts', 'Cosine Similarity on matricula Counts', 'Pearson Similarity on matricula Counts']\n",
    "names_w_dummy = ['Popularity Model on matricula Dummy', 'Cosine Similarity on matricula Dummy', 'Pearson Similarity on matricula Dummy']\n",
    "names_w_norm = ['Popularity Model on Scaled matricula Counts', 'Cosine Similarity on Scaled matricula Counts', 'Pearson Similarity on Scaled matricula Counts']"
   ]
  },
  {
   "cell_type": "markdown",
   "metadata": {},
   "source": [
    "#### Models on purchase counts"
   ]
  },
  {
   "cell_type": "code",
   "execution_count": 45,
   "metadata": {
    "scrolled": false
   },
   "outputs": [
    {
     "name": "stdout",
     "output_type": "stream",
     "text": [
      "PROGRESS: Evaluate model Popularity Model on matricula Dummy\n"
     ]
    },
    {
     "data": {
      "text/html": [
       "<pre>recommendations finished on 1000/3177 queries. users per second: 36071.1</pre>"
      ],
      "text/plain": [
       "recommendations finished on 1000/3177 queries. users per second: 36071.1"
      ]
     },
     "metadata": {},
     "output_type": "display_data"
    },
    {
     "data": {
      "text/html": [
       "<pre>recommendations finished on 2000/3177 queries. users per second: 43896.2</pre>"
      ],
      "text/plain": [
       "recommendations finished on 2000/3177 queries. users per second: 43896.2"
      ]
     },
     "metadata": {},
     "output_type": "display_data"
    },
    {
     "data": {
      "text/html": [
       "<pre>recommendations finished on 3000/3177 queries. users per second: 44052.2</pre>"
      ],
      "text/plain": [
       "recommendations finished on 3000/3177 queries. users per second: 44052.2"
      ]
     },
     "metadata": {},
     "output_type": "display_data"
    },
    {
     "name": "stdout",
     "output_type": "stream",
     "text": [
      "\n",
      "Precision and recall summary statistics by cutoff\n",
      "+--------+----------------------+---------------------+\n",
      "| cutoff |    mean_precision    |     mean_recall     |\n",
      "+--------+----------------------+---------------------+\n",
      "|   1    | 0.052250550834120224 | 0.02637778871688717 |\n",
      "|   2    |  0.0675165250236072  | 0.08517015048375318 |\n",
      "|   3    | 0.04752911551778408  | 0.09000557868283134 |\n",
      "|   4    | 0.03926660371419576  | 0.09572988183395233 |\n",
      "|   5    | 0.038967579477494595 | 0.11920590743462361 |\n",
      "|   6    | 0.042440457454621806 | 0.17041549419661844 |\n",
      "|   7    | 0.03992985296101446  | 0.18548286832914831 |\n",
      "|   8    | 0.037023921938936145 | 0.19705563089341233 |\n",
      "|   9    | 0.03574301402441163  |  0.2127810082335206 |\n",
      "|   10   | 0.03544224110796344  | 0.23464649978739738 |\n",
      "+--------+----------------------+---------------------+\n",
      "[10 rows x 3 columns]\n",
      "\n",
      "\n",
      "Overall RMSE: 0.0\n",
      "\n",
      "Per User RMSE (best)\n",
      "+---------+------+-------+\n",
      "| alunoId | rmse | count |\n",
      "+---------+------+-------+\n",
      "| 1276448 | 0.0  |   1   |\n",
      "+---------+------+-------+\n",
      "[1 rows x 3 columns]\n",
      "\n",
      "\n",
      "Per User RMSE (worst)\n",
      "+---------+------+-------+\n",
      "| alunoId | rmse | count |\n",
      "+---------+------+-------+\n",
      "|  514401 | 0.0  |   1   |\n",
      "+---------+------+-------+\n",
      "[1 rows x 3 columns]\n",
      "\n",
      "\n",
      "Per Item RMSE (best)\n",
      "+---------+------+-------+\n",
      "| cursoId | rmse | count |\n",
      "+---------+------+-------+\n",
      "|  124808 | 0.0  |   2   |\n",
      "+---------+------+-------+\n",
      "[1 rows x 3 columns]\n",
      "\n",
      "\n",
      "Per Item RMSE (worst)\n",
      "+---------+------+-------+\n",
      "| cursoId | rmse | count |\n",
      "+---------+------+-------+\n",
      "|  122925 | 0.0  |   1   |\n",
      "+---------+------+-------+\n",
      "[1 rows x 3 columns]\n",
      "\n",
      "PROGRESS: Evaluate model Cosine Similarity on matricula Dummy\n"
     ]
    },
    {
     "data": {
      "text/html": [
       "<pre>recommendations finished on 1000/3177 queries. users per second: 29983.2</pre>"
      ],
      "text/plain": [
       "recommendations finished on 1000/3177 queries. users per second: 29983.2"
      ]
     },
     "metadata": {},
     "output_type": "display_data"
    },
    {
     "data": {
      "text/html": [
       "<pre>recommendations finished on 2000/3177 queries. users per second: 28887.1</pre>"
      ],
      "text/plain": [
       "recommendations finished on 2000/3177 queries. users per second: 28887.1"
      ]
     },
     "metadata": {},
     "output_type": "display_data"
    },
    {
     "data": {
      "text/html": [
       "<pre>recommendations finished on 3000/3177 queries. users per second: 24188.9</pre>"
      ],
      "text/plain": [
       "recommendations finished on 3000/3177 queries. users per second: 24188.9"
      ]
     },
     "metadata": {},
     "output_type": "display_data"
    },
    {
     "name": "stdout",
     "output_type": "stream",
     "text": [
      "\n",
      "Precision and recall summary statistics by cutoff\n",
      "+--------+---------------------+---------------------+\n",
      "| cutoff |    mean_precision   |     mean_recall     |\n",
      "+--------+---------------------+---------------------+\n",
      "|   1    |  0.1759521561221278 |  0.1141942372982082 |\n",
      "|   2    | 0.14573497009757633 |  0.1839524448515055 |\n",
      "|   3    |  0.1281082782499214 |  0.2375764587210342 |\n",
      "|   4    | 0.11559647466163045 | 0.28219085380011794 |\n",
      "|   5    | 0.10538243626062319 |  0.3194532996009067 |\n",
      "|   6    | 0.10465848284545178 |  0.3975313046544592 |\n",
      "|   7    | 0.09604748414946707 | 0.42492911930439886 |\n",
      "|   8    | 0.08939250865596475 |  0.4521471946575072 |\n",
      "|   9    | 0.08225789528905672 | 0.46676952979447917 |\n",
      "|   10   | 0.07648725212464587 | 0.48261556603711603 |\n",
      "+--------+---------------------+---------------------+\n",
      "[10 rows x 3 columns]\n",
      "\n",
      "\n",
      "Overall RMSE: 0.8929606978863668\n",
      "\n",
      "Per User RMSE (best)\n",
      "+---------+--------------------+-------+\n",
      "| alunoId |        rmse        | count |\n",
      "+---------+--------------------+-------+\n",
      "| 1745500 | 0.5859606862068176 |   1   |\n",
      "+---------+--------------------+-------+\n",
      "[1 rows x 3 columns]\n",
      "\n",
      "\n",
      "Per User RMSE (worst)\n",
      "+---------+------+-------+\n",
      "| alunoId | rmse | count |\n",
      "+---------+------+-------+\n",
      "|  514401 | 1.0  |   1   |\n",
      "+---------+------+-------+\n",
      "[1 rows x 3 columns]\n",
      "\n",
      "\n",
      "Per Item RMSE (best)\n",
      "+---------+--------------------+-------+\n",
      "| cursoId |        rmse        | count |\n",
      "+---------+--------------------+-------+\n",
      "|  920085 | 0.7612638220708199 |  218  |\n",
      "+---------+--------------------+-------+\n",
      "[1 rows x 3 columns]\n",
      "\n",
      "\n",
      "Per Item RMSE (worst)\n",
      "+---------+------+-------+\n",
      "| cursoId | rmse | count |\n",
      "+---------+------+-------+\n",
      "|  122925 | 1.0  |   1   |\n",
      "+---------+------+-------+\n",
      "[1 rows x 3 columns]\n",
      "\n",
      "PROGRESS: Evaluate model Pearson Similarity on matricula Dummy\n"
     ]
    },
    {
     "data": {
      "text/html": [
       "<pre>recommendations finished on 1000/3177 queries. users per second: 58031.6</pre>"
      ],
      "text/plain": [
       "recommendations finished on 1000/3177 queries. users per second: 58031.6"
      ]
     },
     "metadata": {},
     "output_type": "display_data"
    },
    {
     "data": {
      "text/html": [
       "<pre>recommendations finished on 2000/3177 queries. users per second: 42061</pre>"
      ],
      "text/plain": [
       "recommendations finished on 2000/3177 queries. users per second: 42061"
      ]
     },
     "metadata": {},
     "output_type": "display_data"
    },
    {
     "data": {
      "text/html": [
       "<pre>recommendations finished on 3000/3177 queries. users per second: 29624.4</pre>"
      ],
      "text/plain": [
       "recommendations finished on 3000/3177 queries. users per second: 29624.4"
      ]
     },
     "metadata": {},
     "output_type": "display_data"
    },
    {
     "name": "stdout",
     "output_type": "stream",
     "text": [
      "\n",
      "Precision and recall summary statistics by cutoff\n",
      "+--------+----------------------+----------------------+\n",
      "| cutoff |    mean_precision    |     mean_recall      |\n",
      "+--------+----------------------+----------------------+\n",
      "|   1    | 0.052250550834120245 | 0.026377788716887188 |\n",
      "|   2    | 0.06751652502360714  | 0.08517015048375312  |\n",
      "|   3    | 0.04752911551778399  | 0.09000557868283131  |\n",
      "|   4    | 0.03926660371419577  | 0.09572988183395227  |\n",
      "|   5    | 0.03896757947749458  | 0.11920590743462366  |\n",
      "|   6    | 0.04244045745462177  |  0.1704154941966183  |\n",
      "|   7    | 0.03992985296101447  | 0.18548286832914834  |\n",
      "|   8    | 0.03702392193893611  | 0.19705563089341238  |\n",
      "|   9    | 0.03574301402441166  | 0.21278100823352072  |\n",
      "|   10   | 0.03544224110796345  |  0.2346464997873974  |\n",
      "+--------+----------------------+----------------------+\n",
      "[10 rows x 3 columns]\n",
      "\n",
      "\n",
      "Overall RMSE: 1.0\n",
      "\n",
      "Per User RMSE (best)\n",
      "+---------+------+-------+\n",
      "| alunoId | rmse | count |\n",
      "+---------+------+-------+\n",
      "| 1276448 | 1.0  |   1   |\n",
      "+---------+------+-------+\n",
      "[1 rows x 3 columns]\n",
      "\n",
      "\n",
      "Per User RMSE (worst)\n",
      "+---------+------+-------+\n",
      "| alunoId | rmse | count |\n",
      "+---------+------+-------+\n",
      "|  514401 | 1.0  |   1   |\n",
      "+---------+------+-------+\n",
      "[1 rows x 3 columns]\n",
      "\n",
      "\n",
      "Per Item RMSE (best)\n",
      "+---------+------+-------+\n",
      "| cursoId | rmse | count |\n",
      "+---------+------+-------+\n",
      "|  124808 | 1.0  |   2   |\n",
      "+---------+------+-------+\n",
      "[1 rows x 3 columns]\n",
      "\n",
      "\n",
      "Per Item RMSE (worst)\n",
      "+---------+------+-------+\n",
      "| cursoId | rmse | count |\n",
      "+---------+------+-------+\n",
      "|  122925 | 1.0  |   1   |\n",
      "+---------+------+-------+\n",
      "[1 rows x 3 columns]\n",
      "\n"
     ]
    }
   ],
   "source": [
    "eval_dummy = tc.recommender.util.compare_models(test_data_dummy, models_w_dummy, model_names=names_w_dummy)"
   ]
  },
  {
   "cell_type": "markdown",
   "metadata": {},
   "source": [
    "#### Models on purchase dummy"
   ]
  },
  {
   "cell_type": "code",
   "execution_count": 46,
   "metadata": {
    "scrolled": false
   },
   "outputs": [
    {
     "name": "stdout",
     "output_type": "stream",
     "text": [
      "PROGRESS: Evaluate model Popularity Model on Scaled matricula Counts\n"
     ]
    },
    {
     "data": {
      "text/html": [
       "<pre>recommendations finished on 1000/2238 queries. users per second: 64783.6</pre>"
      ],
      "text/plain": [
       "recommendations finished on 1000/2238 queries. users per second: 64783.6"
      ]
     },
     "metadata": {},
     "output_type": "display_data"
    },
    {
     "data": {
      "text/html": [
       "<pre>recommendations finished on 2000/2238 queries. users per second: 73759.9</pre>"
      ],
      "text/plain": [
       "recommendations finished on 2000/2238 queries. users per second: 73759.9"
      ]
     },
     "metadata": {},
     "output_type": "display_data"
    },
    {
     "name": "stdout",
     "output_type": "stream",
     "text": [
      "\n",
      "Precision and recall summary statistics by cutoff\n",
      "+--------+------------------------+------------------------+\n",
      "| cutoff |     mean_precision     |      mean_recall       |\n",
      "+--------+------------------------+------------------------+\n",
      "|   1    | 0.00044682752457551384 | 0.00011170688114387846 |\n",
      "|   2    | 0.0004468275245755136  | 0.0003351206434316353  |\n",
      "|   3    | 0.0004468275245755136  | 0.0005585344057193923  |\n",
      "|   4    | 0.00044682752457551395 |  0.000707476913911231  |\n",
      "|   5    | 0.00044682752457551384 | 0.0009308906761989874  |\n",
      "|   6    | 0.0004468275245755133  | 0.0010425975573428667  |\n",
      "|   7    | 0.0003829950210647263  |  0.001042597557342866  |\n",
      "|   8    | 0.0003351206434316353  | 0.0010425975573428658  |\n",
      "|   9    |  0.000297885016383676  |  0.001042597557342866  |\n",
      "|   10   | 0.00031277926720285956 | 0.0012660113196306226  |\n",
      "+--------+------------------------+------------------------+\n",
      "[10 rows x 3 columns]\n",
      "\n",
      "\n",
      "Overall RMSE: 0.19373515704536154\n",
      "\n",
      "Per User RMSE (best)\n",
      "+---------+------+-------+\n",
      "| alunoId | rmse | count |\n",
      "+---------+------+-------+\n",
      "| 1119897 | 0.0  |   1   |\n",
      "+---------+------+-------+\n",
      "[1 rows x 3 columns]\n",
      "\n",
      "\n",
      "Per User RMSE (worst)\n",
      "+---------+------+-------+\n",
      "| alunoId | rmse | count |\n",
      "+---------+------+-------+\n",
      "| 1828491 | 1.0  |   1   |\n",
      "+---------+------+-------+\n",
      "[1 rows x 3 columns]\n",
      "\n",
      "\n",
      "Per Item RMSE (best)\n",
      "+---------+----------------------+-------+\n",
      "| cursoId |         rmse         | count |\n",
      "+---------+----------------------+-------+\n",
      "|  123868 | 0.020833333333333336 |   16  |\n",
      "+---------+----------------------+-------+\n",
      "[1 rows x 3 columns]\n",
      "\n",
      "\n",
      "Per Item RMSE (worst)\n",
      "+---------+------+-------+\n",
      "| cursoId | rmse | count |\n",
      "+---------+------+-------+\n",
      "|  124152 | 1.0  |   1   |\n",
      "+---------+------+-------+\n",
      "[1 rows x 3 columns]\n",
      "\n",
      "PROGRESS: Evaluate model Cosine Similarity on Scaled matricula Counts\n"
     ]
    },
    {
     "data": {
      "text/html": [
       "<pre>recommendations finished on 1000/2238 queries. users per second: 51848.4</pre>"
      ],
      "text/plain": [
       "recommendations finished on 1000/2238 queries. users per second: 51848.4"
      ]
     },
     "metadata": {},
     "output_type": "display_data"
    },
    {
     "data": {
      "text/html": [
       "<pre>recommendations finished on 2000/2238 queries. users per second: 49552.8</pre>"
      ],
      "text/plain": [
       "recommendations finished on 2000/2238 queries. users per second: 49552.8"
      ]
     },
     "metadata": {},
     "output_type": "display_data"
    },
    {
     "name": "stdout",
     "output_type": "stream",
     "text": [
      "\n",
      "Precision and recall summary statistics by cutoff\n",
      "+--------+----------------------+----------------------+\n",
      "| cutoff |    mean_precision    |     mean_recall      |\n",
      "+--------+----------------------+----------------------+\n",
      "|   1    | 0.04915102770330653  | 0.028913996340269806 |\n",
      "|   2    | 0.07975871313672926  | 0.09787863313332489  |\n",
      "|   3    | 0.06732201370271071  | 0.12341482616281549  |\n",
      "|   4    | 0.06512511170688116  | 0.15925784075918115  |\n",
      "|   5    | 0.059338695263628345 | 0.17897782884378047  |\n",
      "|   6    | 0.055108728030980034 | 0.20065641091110245  |\n",
      "|   7    | 0.052278820375335155 | 0.22135197242435825  |\n",
      "|   8    | 0.04954200178731011  | 0.23746010468530557  |\n",
      "|   9    | 0.04954820772515147  | 0.26526447933954656  |\n",
      "|   10   | 0.05165326184092945  |  0.3099105281075789  |\n",
      "+--------+----------------------+----------------------+\n",
      "[10 rows x 3 columns]\n",
      "\n",
      "\n",
      "Overall RMSE: 0.19477202681126962\n",
      "\n",
      "Per User RMSE (best)\n",
      "+---------+------+-------+\n",
      "| alunoId | rmse | count |\n",
      "+---------+------+-------+\n",
      "| 1021060 | 0.0  |   1   |\n",
      "+---------+------+-------+\n",
      "[1 rows x 3 columns]\n",
      "\n",
      "\n",
      "Per User RMSE (worst)\n",
      "+---------+------+-------+\n",
      "| alunoId | rmse | count |\n",
      "+---------+------+-------+\n",
      "| 1156027 | 1.0  |   1   |\n",
      "+---------+------+-------+\n",
      "[1 rows x 3 columns]\n",
      "\n",
      "\n",
      "Per Item RMSE (best)\n",
      "+---------+------+-------+\n",
      "| cursoId | rmse | count |\n",
      "+---------+------+-------+\n",
      "|  124637 | 0.0  |   9   |\n",
      "+---------+------+-------+\n",
      "[1 rows x 3 columns]\n",
      "\n",
      "\n",
      "Per Item RMSE (worst)\n",
      "+---------+------+-------+\n",
      "| cursoId | rmse | count |\n",
      "+---------+------+-------+\n",
      "|  124152 | 1.0  |   1   |\n",
      "+---------+------+-------+\n",
      "[1 rows x 3 columns]\n",
      "\n",
      "PROGRESS: Evaluate model Pearson Similarity on Scaled matricula Counts\n"
     ]
    },
    {
     "data": {
      "text/html": [
       "<pre>recommendations finished on 1000/2238 queries. users per second: 34314.7</pre>"
      ],
      "text/plain": [
       "recommendations finished on 1000/2238 queries. users per second: 34314.7"
      ]
     },
     "metadata": {},
     "output_type": "display_data"
    },
    {
     "data": {
      "text/html": [
       "<pre>recommendations finished on 2000/2238 queries. users per second: 14160.5</pre>"
      ],
      "text/plain": [
       "recommendations finished on 2000/2238 queries. users per second: 14160.5"
      ]
     },
     "metadata": {},
     "output_type": "display_data"
    },
    {
     "name": "stdout",
     "output_type": "stream",
     "text": [
      "\n",
      "Precision and recall summary statistics by cutoff\n",
      "+--------+------------------------+------------------------+\n",
      "| cutoff |     mean_precision     |      mean_recall       |\n",
      "+--------+------------------------+------------------------+\n",
      "|   1    | 0.00044682752457551384 | 0.00011170688114387846 |\n",
      "|   2    | 0.00044682752457551384 | 0.00033512064343163545 |\n",
      "|   3    | 0.0002978850163836759  | 0.00033512064343163545 |\n",
      "|   4    | 0.00044682752457551395 | 0.0007074769139112305  |\n",
      "|   5    | 0.00044682752457551384 | 0.0009308906761989874  |\n",
      "|   6    | 0.0005212987786714322  | 0.0012660113196306232  |\n",
      "|   7    | 0.0005106600280863014  | 0.0014894250819183794  |\n",
      "|   8    | 0.00044682752457551395 | 0.0014894250819183809  |\n",
      "|   9    | 0.00039718002184490107 |  0.00148942508191838   |\n",
      "|   10   | 0.0004021447721179621  | 0.0019362526064938945  |\n",
      "+--------+------------------------+------------------------+\n",
      "[10 rows x 3 columns]\n",
      "\n",
      "\n",
      "Overall RMSE: 0.19220867924990212\n",
      "\n",
      "Per User RMSE (best)\n",
      "+---------+------+-------+\n",
      "| alunoId | rmse | count |\n",
      "+---------+------+-------+\n",
      "| 1119897 | 0.0  |   1   |\n",
      "+---------+------+-------+\n",
      "[1 rows x 3 columns]\n",
      "\n",
      "\n",
      "Per User RMSE (worst)\n",
      "+---------+------+-------+\n",
      "| alunoId | rmse | count |\n",
      "+---------+------+-------+\n",
      "| 1828491 | 1.0  |   1   |\n",
      "+---------+------+-------+\n",
      "[1 rows x 3 columns]\n",
      "\n",
      "\n",
      "Per Item RMSE (best)\n",
      "+---------+---------------------+-------+\n",
      "| cursoId |         rmse        | count |\n",
      "+---------+---------------------+-------+\n",
      "|  123868 | 0.02077238193635828 |   16  |\n",
      "+---------+---------------------+-------+\n",
      "[1 rows x 3 columns]\n",
      "\n",
      "\n",
      "Per Item RMSE (worst)\n",
      "+---------+------+-------+\n",
      "| cursoId | rmse | count |\n",
      "+---------+------+-------+\n",
      "|  124152 | 1.0  |   1   |\n",
      "+---------+------+-------+\n",
      "[1 rows x 3 columns]\n",
      "\n"
     ]
    }
   ],
   "source": [
    "eval_norm = tc.recommender.util.compare_models(test_data_norm, models_w_norm, model_names=names_w_norm)"
   ]
  },
  {
   "cell_type": "markdown",
   "metadata": {},
   "source": [
    "#### Models on normalized purchase frequency"
   ]
  },
  {
   "cell_type": "code",
   "execution_count": 47,
   "metadata": {
    "scrolled": false
   },
   "outputs": [
    {
     "name": "stdout",
     "output_type": "stream",
     "text": [
      "PROGRESS: Evaluate model Popularity Model on Scaled matricula Counts\n"
     ]
    },
    {
     "data": {
      "text/html": [
       "<pre>recommendations finished on 1000/2238 queries. users per second: 42504.4</pre>"
      ],
      "text/plain": [
       "recommendations finished on 1000/2238 queries. users per second: 42504.4"
      ]
     },
     "metadata": {},
     "output_type": "display_data"
    },
    {
     "data": {
      "text/html": [
       "<pre>recommendations finished on 2000/2238 queries. users per second: 31610.6</pre>"
      ],
      "text/plain": [
       "recommendations finished on 2000/2238 queries. users per second: 31610.6"
      ]
     },
     "metadata": {},
     "output_type": "display_data"
    },
    {
     "name": "stdout",
     "output_type": "stream",
     "text": [
      "\n",
      "Precision and recall summary statistics by cutoff\n",
      "+--------+------------------------+------------------------+\n",
      "| cutoff |     mean_precision     |      mean_recall       |\n",
      "+--------+------------------------+------------------------+\n",
      "|   1    | 0.00044682752457551384 | 0.00011170688114387846 |\n",
      "|   2    | 0.0004468275245755136  | 0.0003351206434316354  |\n",
      "|   3    | 0.00029788501638367584 | 0.0003351206434316354  |\n",
      "|   4    | 0.00022341376228775692 | 0.00033512064343163545 |\n",
      "|   5    |  0.000357462019660411  | 0.0007819481680071494  |\n",
      "|   6    | 0.00037235627047959484 | 0.0010053619302949066  |\n",
      "|   7    | 0.0003829950210647261  | 0.0011170688114387848  |\n",
      "|   8    | 0.0003909740840035747  | 0.0013404825737265418  |\n",
      "|   9    | 0.0003475325191142886  | 0.0013404825737265418  |\n",
      "|   10   | 0.00035746201966041117 | 0.0014894250819183794  |\n",
      "+--------+------------------------+------------------------+\n",
      "[10 rows x 3 columns]\n",
      "\n",
      "\n",
      "Overall RMSE: 0.19373515704536154\n",
      "\n",
      "Per User RMSE (best)\n",
      "+---------+------+-------+\n",
      "| alunoId | rmse | count |\n",
      "+---------+------+-------+\n",
      "| 1119897 | 0.0  |   1   |\n",
      "+---------+------+-------+\n",
      "[1 rows x 3 columns]\n",
      "\n",
      "\n",
      "Per User RMSE (worst)\n",
      "+---------+------+-------+\n",
      "| alunoId | rmse | count |\n",
      "+---------+------+-------+\n",
      "| 1828491 | 1.0  |   1   |\n",
      "+---------+------+-------+\n",
      "[1 rows x 3 columns]\n",
      "\n",
      "\n",
      "Per Item RMSE (best)\n",
      "+---------+----------------------+-------+\n",
      "| cursoId |         rmse         | count |\n",
      "+---------+----------------------+-------+\n",
      "|  123868 | 0.020833333333333336 |   16  |\n",
      "+---------+----------------------+-------+\n",
      "[1 rows x 3 columns]\n",
      "\n",
      "\n",
      "Per Item RMSE (worst)\n",
      "+---------+------+-------+\n",
      "| cursoId | rmse | count |\n",
      "+---------+------+-------+\n",
      "|  124152 | 1.0  |   1   |\n",
      "+---------+------+-------+\n",
      "[1 rows x 3 columns]\n",
      "\n",
      "PROGRESS: Evaluate model Cosine Similarity on Scaled matricula Counts\n"
     ]
    },
    {
     "data": {
      "text/html": [
       "<pre>recommendations finished on 1000/2238 queries. users per second: 46449</pre>"
      ],
      "text/plain": [
       "recommendations finished on 1000/2238 queries. users per second: 46449"
      ]
     },
     "metadata": {},
     "output_type": "display_data"
    },
    {
     "data": {
      "text/html": [
       "<pre>recommendations finished on 2000/2238 queries. users per second: 44145.2</pre>"
      ],
      "text/plain": [
       "recommendations finished on 2000/2238 queries. users per second: 44145.2"
      ]
     },
     "metadata": {},
     "output_type": "display_data"
    },
    {
     "name": "stdout",
     "output_type": "stream",
     "text": [
      "\n",
      "Precision and recall summary statistics by cutoff\n",
      "+--------+----------------------+----------------------+\n",
      "| cutoff |    mean_precision    |     mean_recall      |\n",
      "+--------+----------------------+----------------------+\n",
      "|   1    | 0.04915102770330652  | 0.028913996340269806 |\n",
      "|   2    | 0.07975871313672929  | 0.09787863313332484  |\n",
      "|   3    | 0.06732201370271075  | 0.12341482616281549  |\n",
      "|   4    | 0.06512511170688122  | 0.15925784075918115  |\n",
      "|   5    | 0.05933869526362825  | 0.17897782884378052  |\n",
      "|   6    | 0.05503425677688411  | 0.20054470402995855  |\n",
      "|   7    | 0.05227882037533523  |  0.2213519724243583  |\n",
      "|   8    | 0.049542001787310094 | 0.23746010468530557  |\n",
      "|   9    | 0.04954820772515145  |  0.2652644793395462  |\n",
      "|   10   | 0.051653261840929415 |  0.3099105281075789  |\n",
      "+--------+----------------------+----------------------+\n",
      "[10 rows x 3 columns]\n",
      "\n",
      "\n",
      "Overall RMSE: 0.19477202681126962\n",
      "\n",
      "Per User RMSE (best)\n",
      "+---------+------+-------+\n",
      "| alunoId | rmse | count |\n",
      "+---------+------+-------+\n",
      "| 1021060 | 0.0  |   1   |\n",
      "+---------+------+-------+\n",
      "[1 rows x 3 columns]\n",
      "\n",
      "\n",
      "Per User RMSE (worst)\n",
      "+---------+------+-------+\n",
      "| alunoId | rmse | count |\n",
      "+---------+------+-------+\n",
      "| 1156027 | 1.0  |   1   |\n",
      "+---------+------+-------+\n",
      "[1 rows x 3 columns]\n",
      "\n",
      "\n",
      "Per Item RMSE (best)\n",
      "+---------+------+-------+\n",
      "| cursoId | rmse | count |\n",
      "+---------+------+-------+\n",
      "|  124637 | 0.0  |   9   |\n",
      "+---------+------+-------+\n",
      "[1 rows x 3 columns]\n",
      "\n",
      "\n",
      "Per Item RMSE (worst)\n",
      "+---------+------+-------+\n",
      "| cursoId | rmse | count |\n",
      "+---------+------+-------+\n",
      "|  124152 | 1.0  |   1   |\n",
      "+---------+------+-------+\n",
      "[1 rows x 3 columns]\n",
      "\n",
      "PROGRESS: Evaluate model Pearson Similarity on Scaled matricula Counts\n"
     ]
    },
    {
     "data": {
      "text/html": [
       "<pre>recommendations finished on 1000/2238 queries. users per second: 31778.3</pre>"
      ],
      "text/plain": [
       "recommendations finished on 1000/2238 queries. users per second: 31778.3"
      ]
     },
     "metadata": {},
     "output_type": "display_data"
    },
    {
     "data": {
      "text/html": [
       "<pre>recommendations finished on 2000/2238 queries. users per second: 29544.3</pre>"
      ],
      "text/plain": [
       "recommendations finished on 2000/2238 queries. users per second: 29544.3"
      ]
     },
     "metadata": {},
     "output_type": "display_data"
    },
    {
     "name": "stdout",
     "output_type": "stream",
     "text": [
      "\n",
      "Precision and recall summary statistics by cutoff\n",
      "+--------+------------------------+------------------------+\n",
      "| cutoff |     mean_precision     |      mean_recall       |\n",
      "+--------+------------------------+------------------------+\n",
      "|   1    | 0.00044682752457551373 | 0.00011170688114387843 |\n",
      "|   2    | 0.00044682752457551384 | 0.00033512064343163545 |\n",
      "|   3    | 0.00029788501638367595 | 0.00033512064343163545 |\n",
      "|   4    | 0.00044682752457551406 | 0.0007074769139112306  |\n",
      "|   5    | 0.00044682752457551384 | 0.0008191837950551089  |\n",
      "|   6    | 0.0003723562704795948  | 0.0008191837950551085  |\n",
      "|   7    | 0.0003829950210647262  | 0.0010425975573428662  |\n",
      "|   8    | 0.00033512064343163534 | 0.0010425975573428656  |\n",
      "|   9    | 0.0003475325191142886  | 0.0012660113196306221  |\n",
      "|   10   | 0.00035746201966041106 | 0.0017128388442061366  |\n",
      "+--------+------------------------+------------------------+\n",
      "[10 rows x 3 columns]\n",
      "\n",
      "\n",
      "Overall RMSE: 0.19220867924990212\n",
      "\n",
      "Per User RMSE (best)\n",
      "+---------+------+-------+\n",
      "| alunoId | rmse | count |\n",
      "+---------+------+-------+\n",
      "| 1119897 | 0.0  |   1   |\n",
      "+---------+------+-------+\n",
      "[1 rows x 3 columns]\n",
      "\n",
      "\n",
      "Per User RMSE (worst)\n",
      "+---------+------+-------+\n",
      "| alunoId | rmse | count |\n",
      "+---------+------+-------+\n",
      "| 1828491 | 1.0  |   1   |\n",
      "+---------+------+-------+\n",
      "[1 rows x 3 columns]\n",
      "\n",
      "\n",
      "Per Item RMSE (best)\n",
      "+---------+---------------------+-------+\n",
      "| cursoId |         rmse        | count |\n",
      "+---------+---------------------+-------+\n",
      "|  123868 | 0.02077238193635828 |   16  |\n",
      "+---------+---------------------+-------+\n",
      "[1 rows x 3 columns]\n",
      "\n",
      "\n",
      "Per Item RMSE (worst)\n",
      "+---------+------+-------+\n",
      "| cursoId | rmse | count |\n",
      "+---------+------+-------+\n",
      "|  124152 | 1.0  |   1   |\n",
      "+---------+------+-------+\n",
      "[1 rows x 3 columns]\n",
      "\n"
     ]
    }
   ],
   "source": [
    "eval_norm = tc.recommender.util.compare_models(test_data_norm, models_w_norm, model_names=names_w_norm)"
   ]
  },
  {
   "cell_type": "markdown",
   "metadata": {},
   "source": [
    "## 8. Model Selection\n",
    "### 8.1. Evaluation summary\n",
    "* Based on RMSE\n",
    "\n",
    "\n",
    "    1. Popularity on purchase counts: 1.1111750034210488\n",
    "    2. Cosine similarity on purchase counts: 1.9230643981653215\n",
    "    3. Pearson similarity on purchase counts: 1.9231102838192284\n",
    "    \n",
    "    4. Popularity on purchase dummy: 0.9697374361161925\n",
    "    5. Cosine similarity on purchase dummy: 0.9697509978436404\n",
    "    6. Pearson similarity on purchase dummy: 0.9697745320187097\n",
    "    \n",
    "    7. Popularity on scaled purchase counts: 0.16230660626840343\n",
    "    8. Cosine similarity on scaled purchase counts: 0.16229800354111104\n",
    "    9. Pearson similarity on scaled purchase counts: 0.1622982668334026\n",
    "    \n",
    "* Based on Precision and Recall\n",
    "![](../images/model_comparisons.png)\n"
   ]
  },
  {
   "cell_type": "markdown",
   "metadata": {},
   "source": [
    "#### Notes\n",
    "\n",
    "* Popularidade v. Filtragem colaborativa: podemos ver que os algoritmos de filtragem colaborativa funcionam melhor que o modelo de popularidade para as contagens de compra. De fato, o modelo de popularidade não oferece personalizações, pois fornece apenas a mesma lista de itens recomendados para todos os usuários.\n",
    "* Precisão e recall: observando o resumo acima, vemos a precisão e o recall de Contagens de compra> Boneco de compra> Contagens normalizadas de compra. No entanto, como as pontuações da recomendação para os dados normalizados de compra são zero e constantes, escolhemos o modelo. De fato, o RMSE não é muito diferente entre modelos no manequim e modelos nos dados normalizados.\n",
    "* RMSE: Como o RMSE é maior usando a distância de Pearson do que o cosseno, escolheríamos modelar os erros quadráticos médios menores, que nesse caso seriam cosseno.\n",
    "Portanto, selecionamos a abordagem Semelhança cosseno no manequim de compra como nosso modelo final."
   ]
  },
  {
   "cell_type": "markdown",
   "metadata": {},
   "source": [
    "## 8. Final Output\n",
    "* Nesta etapa, gostaríamos de manipular o formato da saída de recomendação para um que possamos exportar para csv, e também uma função que retornará a lista de recomendações com um ID do cliente\n",
    "* Primeiro, precisamos executar novamente o modelo usando todo o conjunto de dados, pois chegamos a um modelo final usando dados de treinamento e avaliados com o conjunto de testes."
   ]
  },
  {
   "cell_type": "code",
   "execution_count": 48,
   "metadata": {},
   "outputs": [
    {
     "data": {
      "text/html": [
       "<pre>Warning: Ignoring columns matricula_count;</pre>"
      ],
      "text/plain": [
       "Warning: Ignoring columns matricula_count;"
      ]
     },
     "metadata": {},
     "output_type": "display_data"
    },
    {
     "data": {
      "text/html": [
       "<pre>    To use these columns in scoring predictions, use a model that allows the use of additional features.</pre>"
      ],
      "text/plain": [
       "    To use these columns in scoring predictions, use a model that allows the use of additional features."
      ]
     },
     "metadata": {},
     "output_type": "display_data"
    },
    {
     "data": {
      "text/html": [
       "<pre>Preparing data set.</pre>"
      ],
      "text/plain": [
       "Preparing data set."
      ]
     },
     "metadata": {},
     "output_type": "display_data"
    },
    {
     "data": {
      "text/html": [
       "<pre>    Data has 24463 observations with 7987 users and 740 items.</pre>"
      ],
      "text/plain": [
       "    Data has 24463 observations with 7987 users and 740 items."
      ]
     },
     "metadata": {},
     "output_type": "display_data"
    },
    {
     "data": {
      "text/html": [
       "<pre>    Data prepared in: 0.090378s</pre>"
      ],
      "text/plain": [
       "    Data prepared in: 0.090378s"
      ]
     },
     "metadata": {},
     "output_type": "display_data"
    },
    {
     "data": {
      "text/html": [
       "<pre>Training model from provided data.</pre>"
      ],
      "text/plain": [
       "Training model from provided data."
      ]
     },
     "metadata": {},
     "output_type": "display_data"
    },
    {
     "data": {
      "text/html": [
       "<pre>Gathering per-item and per-user statistics.</pre>"
      ],
      "text/plain": [
       "Gathering per-item and per-user statistics."
      ]
     },
     "metadata": {},
     "output_type": "display_data"
    },
    {
     "data": {
      "text/html": [
       "<pre>+--------------------------------+------------+</pre>"
      ],
      "text/plain": [
       "+--------------------------------+------------+"
      ]
     },
     "metadata": {},
     "output_type": "display_data"
    },
    {
     "data": {
      "text/html": [
       "<pre>| Elapsed Time (Item Statistics) | % Complete |</pre>"
      ],
      "text/plain": [
       "| Elapsed Time (Item Statistics) | % Complete |"
      ]
     },
     "metadata": {},
     "output_type": "display_data"
    },
    {
     "data": {
      "text/html": [
       "<pre>+--------------------------------+------------+</pre>"
      ],
      "text/plain": [
       "+--------------------------------+------------+"
      ]
     },
     "metadata": {},
     "output_type": "display_data"
    },
    {
     "data": {
      "text/html": [
       "<pre>| 1.95ms                         | 12.5       |</pre>"
      ],
      "text/plain": [
       "| 1.95ms                         | 12.5       |"
      ]
     },
     "metadata": {},
     "output_type": "display_data"
    },
    {
     "data": {
      "text/html": [
       "<pre>| 8.413ms                        | 100        |</pre>"
      ],
      "text/plain": [
       "| 8.413ms                        | 100        |"
      ]
     },
     "metadata": {},
     "output_type": "display_data"
    },
    {
     "data": {
      "text/html": [
       "<pre>+--------------------------------+------------+</pre>"
      ],
      "text/plain": [
       "+--------------------------------+------------+"
      ]
     },
     "metadata": {},
     "output_type": "display_data"
    },
    {
     "data": {
      "text/html": [
       "<pre>Setting up lookup tables.</pre>"
      ],
      "text/plain": [
       "Setting up lookup tables."
      ]
     },
     "metadata": {},
     "output_type": "display_data"
    },
    {
     "data": {
      "text/html": [
       "<pre>Processing data in one pass using dense lookup tables.</pre>"
      ],
      "text/plain": [
       "Processing data in one pass using dense lookup tables."
      ]
     },
     "metadata": {},
     "output_type": "display_data"
    },
    {
     "data": {
      "text/html": [
       "<pre>+-------------------------------------+------------------+-----------------+</pre>"
      ],
      "text/plain": [
       "+-------------------------------------+------------------+-----------------+"
      ]
     },
     "metadata": {},
     "output_type": "display_data"
    },
    {
     "data": {
      "text/html": [
       "<pre>| Elapsed Time (Constructing Lookups) | Total % Complete | Items Processed |</pre>"
      ],
      "text/plain": [
       "| Elapsed Time (Constructing Lookups) | Total % Complete | Items Processed |"
      ]
     },
     "metadata": {},
     "output_type": "display_data"
    },
    {
     "data": {
      "text/html": [
       "<pre>+-------------------------------------+------------------+-----------------+</pre>"
      ],
      "text/plain": [
       "+-------------------------------------+------------------+-----------------+"
      ]
     },
     "metadata": {},
     "output_type": "display_data"
    },
    {
     "data": {
      "text/html": [
       "<pre>| 14.45ms                             | 0                | 0               |</pre>"
      ],
      "text/plain": [
       "| 14.45ms                             | 0                | 0               |"
      ]
     },
     "metadata": {},
     "output_type": "display_data"
    },
    {
     "data": {
      "text/html": [
       "<pre>| 28.711ms                            | 100              | 740             |</pre>"
      ],
      "text/plain": [
       "| 28.711ms                            | 100              | 740             |"
      ]
     },
     "metadata": {},
     "output_type": "display_data"
    },
    {
     "data": {
      "text/html": [
       "<pre>+-------------------------------------+------------------+-----------------+</pre>"
      ],
      "text/plain": [
       "+-------------------------------------+------------------+-----------------+"
      ]
     },
     "metadata": {},
     "output_type": "display_data"
    },
    {
     "data": {
      "text/html": [
       "<pre>Finalizing lookup tables.</pre>"
      ],
      "text/plain": [
       "Finalizing lookup tables."
      ]
     },
     "metadata": {},
     "output_type": "display_data"
    },
    {
     "data": {
      "text/html": [
       "<pre>Generating candidate set for working with new users.</pre>"
      ],
      "text/plain": [
       "Generating candidate set for working with new users."
      ]
     },
     "metadata": {},
     "output_type": "display_data"
    },
    {
     "data": {
      "text/html": [
       "<pre>Finished training in 0.045299s</pre>"
      ],
      "text/plain": [
       "Finished training in 0.045299s"
      ]
     },
     "metadata": {},
     "output_type": "display_data"
    },
    {
     "data": {
      "text/html": [
       "<pre>recommendations finished on 1000/7987 queries. users per second: 49443.8</pre>"
      ],
      "text/plain": [
       "recommendations finished on 1000/7987 queries. users per second: 49443.8"
      ]
     },
     "metadata": {},
     "output_type": "display_data"
    },
    {
     "data": {
      "text/html": [
       "<pre>recommendations finished on 2000/7987 queries. users per second: 26487.6</pre>"
      ],
      "text/plain": [
       "recommendations finished on 2000/7987 queries. users per second: 26487.6"
      ]
     },
     "metadata": {},
     "output_type": "display_data"
    },
    {
     "data": {
      "text/html": [
       "<pre>recommendations finished on 3000/7987 queries. users per second: 29046.7</pre>"
      ],
      "text/plain": [
       "recommendations finished on 3000/7987 queries. users per second: 29046.7"
      ]
     },
     "metadata": {},
     "output_type": "display_data"
    },
    {
     "data": {
      "text/html": [
       "<pre>recommendations finished on 4000/7987 queries. users per second: 33533.4</pre>"
      ],
      "text/plain": [
       "recommendations finished on 4000/7987 queries. users per second: 33533.4"
      ]
     },
     "metadata": {},
     "output_type": "display_data"
    },
    {
     "data": {
      "text/html": [
       "<pre>recommendations finished on 5000/7987 queries. users per second: 36141.3</pre>"
      ],
      "text/plain": [
       "recommendations finished on 5000/7987 queries. users per second: 36141.3"
      ]
     },
     "metadata": {},
     "output_type": "display_data"
    },
    {
     "data": {
      "text/html": [
       "<pre>recommendations finished on 6000/7987 queries. users per second: 34714.6</pre>"
      ],
      "text/plain": [
       "recommendations finished on 6000/7987 queries. users per second: 34714.6"
      ]
     },
     "metadata": {},
     "output_type": "display_data"
    },
    {
     "data": {
      "text/html": [
       "<pre>recommendations finished on 7000/7987 queries. users per second: 35647.5</pre>"
      ],
      "text/plain": [
       "recommendations finished on 7000/7987 queries. users per second: 35647.5"
      ]
     },
     "metadata": {},
     "output_type": "display_data"
    },
    {
     "name": "stdout",
     "output_type": "stream",
     "text": [
      "+---------+---------+---------------------+------+\n",
      "| alunoId | cursoId |        score        | rank |\n",
      "+---------+---------+---------------------+------+\n",
      "| 1076254 |  920085 | 0.21001023054122925 |  1   |\n",
      "| 1076254 |  920091 | 0.18871456384658813 |  2   |\n",
      "| 1076254 |  920080 |  0.1764145791530609 |  3   |\n",
      "| 1076254 |  920081 | 0.16956405838330588 |  4   |\n",
      "| 1076254 |  920084 | 0.16414132714271545 |  5   |\n",
      "| 1076254 |  920082 | 0.16112694144248962 |  6   |\n",
      "| 1076254 |  920094 | 0.14960085352261862 |  7   |\n",
      "| 1076254 |  920086 | 0.13128461440404257 |  8   |\n",
      "| 1076254 |  920087 | 0.11897648374239604 |  9   |\n",
      "| 1076254 |  920088 | 0.09694211681683858 |  10  |\n",
      "| 1268548 |  123579 | 0.17407765984535217 |  1   |\n",
      "| 1268548 |  123822 | 0.16636177897453308 |  2   |\n",
      "| 1268548 |  123547 | 0.15569978952407837 |  3   |\n",
      "| 1268548 |  124725 | 0.15075567364692688 |  4   |\n",
      "| 1268548 |  123714 | 0.15075567364692688 |  5   |\n",
      "| 1268548 |  123683 | 0.15075567364692688 |  6   |\n",
      "| 1268548 |  123447 | 0.12309148907661438 |  7   |\n",
      "| 1268548 |  123915 | 0.11763554811477661 |  8   |\n",
      "| 1268548 |  123777 | 0.11763554811477661 |  9   |\n",
      "| 1268548 |  123913 | 0.10660034418106079 |  10  |\n",
      "| 1709459 |  920085 | 0.18239972988764444 |  1   |\n",
      "| 1709459 |  920082 |  0.1602250337600708 |  2   |\n",
      "| 1709459 |  920091 |  0.1550823450088501 |  3   |\n",
      "| 1709459 |  920084 | 0.15180246035257974 |  4   |\n",
      "| 1709459 |  920080 | 0.14548192421595255 |  5   |\n",
      "| 1709459 |  920090 |  0.1437780261039734 |  6   |\n",
      "| 1709459 |  920087 | 0.13675989707310995 |  7   |\n",
      "| 1709459 |  920081 | 0.11742550134658813 |  8   |\n",
      "| 1709459 |  920083 | 0.11602401733398438 |  9   |\n",
      "| 1709459 |  920088 | 0.10379600524902344 |  10  |\n",
      "+---------+---------+---------------------+------+\n",
      "[79870 rows x 4 columns]\n",
      "\n"
     ]
    }
   ],
   "source": [
    "users_to_recommend = list(alunos[user_id])\n",
    "\n",
    "final_model = tc.item_similarity_recommender.create(tc.SFrame(data_dummy), \n",
    "                                            user_id=user_id, \n",
    "                                            item_id=item_id, \n",
    "                                            target='matricula_dummy', \n",
    "                                            similarity_type='cosine')\n",
    "\n",
    "recom = final_model.recommend(users=users_to_recommend, k=n_rec)\n",
    "recom.print_rows(n_display)"
   ]
  },
  {
   "cell_type": "markdown",
   "metadata": {},
   "source": [
    "### 8.1. CSV output file"
   ]
  },
  {
   "cell_type": "code",
   "execution_count": 49,
   "metadata": {},
   "outputs": [
    {
     "name": "stdout",
     "output_type": "stream",
     "text": [
      "(79870, 4)\n"
     ]
    },
    {
     "data": {
      "text/html": [
       "<div>\n",
       "<style scoped>\n",
       "    .dataframe tbody tr th:only-of-type {\n",
       "        vertical-align: middle;\n",
       "    }\n",
       "\n",
       "    .dataframe tbody tr th {\n",
       "        vertical-align: top;\n",
       "    }\n",
       "\n",
       "    .dataframe thead th {\n",
       "        text-align: right;\n",
       "    }\n",
       "</style>\n",
       "<table border=\"1\" class=\"dataframe\">\n",
       "  <thead>\n",
       "    <tr style=\"text-align: right;\">\n",
       "      <th></th>\n",
       "      <th>alunoId</th>\n",
       "      <th>cursoId</th>\n",
       "      <th>score</th>\n",
       "      <th>rank</th>\n",
       "    </tr>\n",
       "  </thead>\n",
       "  <tbody>\n",
       "    <tr>\n",
       "      <th>0</th>\n",
       "      <td>1076254</td>\n",
       "      <td>920085</td>\n",
       "      <td>0.210010</td>\n",
       "      <td>1</td>\n",
       "    </tr>\n",
       "    <tr>\n",
       "      <th>1</th>\n",
       "      <td>1076254</td>\n",
       "      <td>920091</td>\n",
       "      <td>0.188715</td>\n",
       "      <td>2</td>\n",
       "    </tr>\n",
       "    <tr>\n",
       "      <th>2</th>\n",
       "      <td>1076254</td>\n",
       "      <td>920080</td>\n",
       "      <td>0.176415</td>\n",
       "      <td>3</td>\n",
       "    </tr>\n",
       "    <tr>\n",
       "      <th>3</th>\n",
       "      <td>1076254</td>\n",
       "      <td>920081</td>\n",
       "      <td>0.169564</td>\n",
       "      <td>4</td>\n",
       "    </tr>\n",
       "    <tr>\n",
       "      <th>4</th>\n",
       "      <td>1076254</td>\n",
       "      <td>920084</td>\n",
       "      <td>0.164141</td>\n",
       "      <td>5</td>\n",
       "    </tr>\n",
       "  </tbody>\n",
       "</table>\n",
       "</div>"
      ],
      "text/plain": [
       "   alunoId  cursoId     score  rank\n",
       "0  1076254   920085  0.210010     1\n",
       "1  1076254   920091  0.188715     2\n",
       "2  1076254   920080  0.176415     3\n",
       "3  1076254   920081  0.169564     4\n",
       "4  1076254   920084  0.164141     5"
      ]
     },
     "execution_count": 49,
     "metadata": {},
     "output_type": "execute_result"
    }
   ],
   "source": [
    "df_rec = recom.to_dataframe()\n",
    "print(df_rec.shape)\n",
    "df_rec.head()"
   ]
  },
  {
   "cell_type": "code",
   "execution_count": 50,
   "metadata": {},
   "outputs": [],
   "source": [
    "df_rec['cursosRecomendados'] = df_rec.groupby([user_id])[item_id].transform(lambda x: '|'.join(x.astype(str)))\n",
    "df_output = df_rec[['alunoId', 'cursosRecomendados']].drop_duplicates().sort_values('alunoId').set_index('alunoId')"
   ]
  },
  {
   "cell_type": "markdown",
   "metadata": {},
   "source": [
    "#### Defina uma função para criar os resultados"
   ]
  },
  {
   "cell_type": "code",
   "execution_count": 51,
   "metadata": {},
   "outputs": [],
   "source": [
    "def create_output(model, users_to_recommend, n_rec, print_csv=True):\n",
    "    recomendation = model.recommend(users=users_to_recommend, k=n_rec)\n",
    "    df_rec = recomendation.to_dataframe()\n",
    "    df_rec['cursosRecomendados'] = df_rec.groupby([user_id])[item_id] \\\n",
    "        .transform(lambda x: '|'.join(x.astype(str)))\n",
    "    df_output = df_rec[['alunoId', 'cursosRecomendados']].drop_duplicates() \\\n",
    "        .sort_values('alunoId').set_index('alunoId')\n",
    "    if print_csv:\n",
    "        df_output.to_csv('./output/cursosRecomedados.csv')\n",
    "        print(\"Arquivo com recomendacoes criado na pasta output\")\n",
    "    return df_output"
   ]
  },
  {
   "cell_type": "code",
   "execution_count": 351,
   "metadata": {},
   "outputs": [
    {
     "data": {
      "text/html": [
       "<pre>recommendations finished on 1000/7987 queries. users per second: 87260</pre>"
      ],
      "text/plain": [
       "recommendations finished on 1000/7987 queries. users per second: 87260"
      ]
     },
     "metadata": {},
     "output_type": "display_data"
    },
    {
     "data": {
      "text/html": [
       "<pre>recommendations finished on 2000/7987 queries. users per second: 75128.7</pre>"
      ],
      "text/plain": [
       "recommendations finished on 2000/7987 queries. users per second: 75128.7"
      ]
     },
     "metadata": {},
     "output_type": "display_data"
    },
    {
     "data": {
      "text/html": [
       "<pre>recommendations finished on 3000/7987 queries. users per second: 76927</pre>"
      ],
      "text/plain": [
       "recommendations finished on 3000/7987 queries. users per second: 76927"
      ]
     },
     "metadata": {},
     "output_type": "display_data"
    },
    {
     "data": {
      "text/html": [
       "<pre>recommendations finished on 4000/7987 queries. users per second: 77108.4</pre>"
      ],
      "text/plain": [
       "recommendations finished on 4000/7987 queries. users per second: 77108.4"
      ]
     },
     "metadata": {},
     "output_type": "display_data"
    },
    {
     "data": {
      "text/html": [
       "<pre>recommendations finished on 5000/7987 queries. users per second: 68735.1</pre>"
      ],
      "text/plain": [
       "recommendations finished on 5000/7987 queries. users per second: 68735.1"
      ]
     },
     "metadata": {},
     "output_type": "display_data"
    },
    {
     "data": {
      "text/html": [
       "<pre>recommendations finished on 6000/7987 queries. users per second: 63971.3</pre>"
      ],
      "text/plain": [
       "recommendations finished on 6000/7987 queries. users per second: 63971.3"
      ]
     },
     "metadata": {},
     "output_type": "display_data"
    },
    {
     "data": {
      "text/html": [
       "<pre>recommendations finished on 7000/7987 queries. users per second: 54343.2</pre>"
      ],
      "text/plain": [
       "recommendations finished on 7000/7987 queries. users per second: 54343.2"
      ]
     },
     "metadata": {},
     "output_type": "display_data"
    },
    {
     "name": "stdout",
     "output_type": "stream",
     "text": [
      "An output file can be found in 'output' folder with name 'option1_recommendation.csv'\n",
      "(7987, 1)\n"
     ]
    },
    {
     "data": {
      "text/html": [
       "<div>\n",
       "<style scoped>\n",
       "    .dataframe tbody tr th:only-of-type {\n",
       "        vertical-align: middle;\n",
       "    }\n",
       "\n",
       "    .dataframe tbody tr th {\n",
       "        vertical-align: top;\n",
       "    }\n",
       "\n",
       "    .dataframe thead th {\n",
       "        text-align: right;\n",
       "    }\n",
       "</style>\n",
       "<table border=\"1\" class=\"dataframe\">\n",
       "  <thead>\n",
       "    <tr style=\"text-align: right;\">\n",
       "      <th></th>\n",
       "      <th>cursosRecomendados</th>\n",
       "    </tr>\n",
       "    <tr>\n",
       "      <th>alunoId</th>\n",
       "      <th></th>\n",
       "    </tr>\n",
       "  </thead>\n",
       "  <tbody>\n",
       "    <tr>\n",
       "      <th>360153</th>\n",
       "      <td>123123|124669|123754|124412|123417|124590|1221...</td>\n",
       "    </tr>\n",
       "    <tr>\n",
       "      <th>360478</th>\n",
       "      <td>123123|124669|123754|124412|123429|123417|1203...</td>\n",
       "    </tr>\n",
       "    <tr>\n",
       "      <th>360714</th>\n",
       "      <td>123123|124669|123754|124412|123429|123417|1203...</td>\n",
       "    </tr>\n",
       "    <tr>\n",
       "      <th>360847</th>\n",
       "      <td>123123|124669|123754|124412|123429|123417|1203...</td>\n",
       "    </tr>\n",
       "    <tr>\n",
       "      <th>361280</th>\n",
       "      <td>123123|124669|123754|124412|123429|123417|1203...</td>\n",
       "    </tr>\n",
       "  </tbody>\n",
       "</table>\n",
       "</div>"
      ],
      "text/plain": [
       "                                        cursosRecomendados\n",
       "alunoId                                                   \n",
       "360153   123123|124669|123754|124412|123417|124590|1221...\n",
       "360478   123123|124669|123754|124412|123429|123417|1203...\n",
       "360714   123123|124669|123754|124412|123429|123417|1203...\n",
       "360847   123123|124669|123754|124412|123429|123417|1203...\n",
       "361280   123123|124669|123754|124412|123429|123417|1203..."
      ]
     },
     "execution_count": 351,
     "metadata": {},
     "output_type": "execute_result"
    }
   ],
   "source": [
    "df_output = create_output(pear_norm, users_to_recommend, n_rec, print_csv=True)\n",
    "print(df_output.shape)\n",
    "df_output.head()"
   ]
  },
  {
   "cell_type": "markdown",
   "metadata": {},
   "source": [
    "### 8.2. Função de recomendação do cliente"
   ]
  },
  {
   "cell_type": "code",
   "execution_count": 52,
   "metadata": {},
   "outputs": [],
   "source": [
    "def recomenda_cursos(customer_id):\n",
    "    if customer_id not in df_output.index:\n",
    "        print('Aluno não encontrado.')\n",
    "        return customer_id\n",
    "    return df_output.loc[customer_id]"
   ]
  },
  {
   "cell_type": "code",
   "execution_count": 54,
   "metadata": {},
   "outputs": [
    {
     "data": {
      "text/plain": [
       "cursosRecomendados    920094|920091|920082|920086|920085|920089|9200...\n",
       "Name: 1274206, dtype: object"
      ]
     },
     "execution_count": 54,
     "metadata": {},
     "output_type": "execute_result"
    }
   ],
   "source": [
    "recomenda_cursos(1274206)"
   ]
  },
  {
   "cell_type": "code",
   "execution_count": 354,
   "metadata": {},
   "outputs": [
    {
     "name": "stdout",
     "output_type": "stream",
     "text": [
      "Aluno não encontrado.\n"
     ]
    },
    {
     "data": {
      "text/plain": [
       "21"
      ]
     },
     "execution_count": 354,
     "metadata": {},
     "output_type": "execute_result"
    }
   ],
   "source": [
    "aluno_recomendacoes(21)"
   ]
  },
  {
   "cell_type": "markdown",
   "metadata": {
    "collapsed": true
   },
   "source": [
    "## Resumo\n",
    "Neste exercício, fomos capazes de percorrer um processo passo a passo para fazer recomendações aos clientes. Usamos as abordagens de filtragem colaborativa com as medidas `cosseno ` e ` pearson` e comparamos os modelos com o modelo de popularidade da linha de base. Também preparamos três conjuntos de dados que incluem contagem regular de compras, dummy de compra e frequência de compra normalizada como nossa variável-alvo. Usando RMSE, precisão e recall, avaliamos nossos modelos e observamos o impacto da personalização. Por fim, selecionamos a abordagem Cosine em dados fictícios de compra."
   ]
  },
  {
   "cell_type": "code",
   "execution_count": null,
   "metadata": {
    "collapsed": true
   },
   "outputs": [],
   "source": []
  },
  {
   "cell_type": "code",
   "execution_count": null,
   "metadata": {},
   "outputs": [],
   "source": []
  }
 ],
 "metadata": {
  "kernelspec": {
   "display_name": "Python 3",
   "language": "python",
   "name": "python3"
  },
  "language_info": {
   "codemirror_mode": {
    "name": "ipython",
    "version": 3
   },
   "file_extension": ".py",
   "mimetype": "text/x-python",
   "name": "python",
   "nbconvert_exporter": "python",
   "pygments_lexer": "ipython3",
   "version": "3.7.6"
  }
 },
 "nbformat": 4,
 "nbformat_minor": 2
}
