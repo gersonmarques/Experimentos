{
 "cells": [
  {
   "cell_type": "markdown",
   "metadata": {},
   "source": [
    "# Como construir um Sistema de Recomendação para compras (passo a passo)\n",
    "* Descrição: Uma documentação sobre a construção de modelos de filtragem colaborativa para recomendar produtos para clientes\n",
    "\n",
    "* Link: https://medium.com/datadriveninvestor/how-to-build-a-recommendation-system-for-purchase-data-step-by-step-d6d7a78800b6\n",
    "* Autora: Moorissa Tjokro\n",
    "\n",
    "## Problema\n",
    "Neste desafio de dados, nós vamos construir modelos de filtragem colaboratica para recomendar itens de produtos. Os passoas abaixo tem como objetivo recomendar aos usuários 10 itens para colocar na sua sacola de compras. O resultado final será um arquivo csv na pasta `output`, e uma função que busca por uma lista de recomendações baseado em um usuário específico:\n",
    "\n",
    "* Entrada: usuário - Cliente ID\n",
    "* Retorna: ranking de uma lista de itens (ID do produto), provável que o usuário vai querer colocar em sua sacola de compras (que até então estava vazia)\n",
    "\n",
    "## 1. Modulos para importr\n",
    "* `pandas` e `numpy` para a manupulação de dados\n",
    "* `turicreate` para executar a seleção e avaliação do modelo\n",
    "* `sklearn` para dividir os dados em conjunto de trem e teste"
   ]
  },
  {
   "cell_type": "code",
   "execution_count": 2,
   "metadata": {},
   "outputs": [],
   "source": [
    "#%load_ext autoreload\n",
    "#autoreload 2\n",
    "\n",
    "import pandas as pd\n",
    "import numpy as np\n",
    "import time\n",
    "import turicreate as tc\n",
    "from sklearn.model_selection import train_test_split\n",
    "import data_layer as data_layer"
   ]
  },
  {
   "cell_type": "markdown",
   "metadata": {},
   "source": [
    "## 2. Load data\n",
    "Dois conjuntos de dados são usados ​​neste exercício, que podem ser encontrados na pasta `data`: \n",
    "* `recommend_1.csv` consistindo em uma lista de 1000 IDs de clientes para recomendar, na pasta `output`\n",
    "* `trx_data.csv` consistindo em transações do usuário\n",
    "\n",
    "The format is as follows."
   ]
  },
  {
   "cell_type": "code",
   "execution_count": 3,
   "metadata": {},
   "outputs": [],
   "source": [
    "customers = pd.read_csv('../data/recommend_1.csv')\n",
    "transactions = pd.read_csv('../data/trx_data.csv')"
   ]
  },
  {
   "cell_type": "code",
   "execution_count": 4,
   "metadata": {},
   "outputs": [
    {
     "name": "stdout",
     "output_type": "stream",
     "text": [
      "(7987, 1)\n"
     ]
    },
    {
     "data": {
      "text/html": [
       "<div>\n",
       "<style scoped>\n",
       "    .dataframe tbody tr th:only-of-type {\n",
       "        vertical-align: middle;\n",
       "    }\n",
       "\n",
       "    .dataframe tbody tr th {\n",
       "        vertical-align: top;\n",
       "    }\n",
       "\n",
       "    .dataframe thead th {\n",
       "        text-align: right;\n",
       "    }\n",
       "</style>\n",
       "<table border=\"1\" class=\"dataframe\">\n",
       "  <thead>\n",
       "    <tr style=\"text-align: right;\">\n",
       "      <th></th>\n",
       "      <th>customerId</th>\n",
       "    </tr>\n",
       "  </thead>\n",
       "  <tbody>\n",
       "    <tr>\n",
       "      <th>0</th>\n",
       "      <td>1076254</td>\n",
       "    </tr>\n",
       "    <tr>\n",
       "      <th>1</th>\n",
       "      <td>1268548</td>\n",
       "    </tr>\n",
       "    <tr>\n",
       "      <th>2</th>\n",
       "      <td>1709459</td>\n",
       "    </tr>\n",
       "    <tr>\n",
       "      <th>3</th>\n",
       "      <td>1712393</td>\n",
       "    </tr>\n",
       "    <tr>\n",
       "      <th>4</th>\n",
       "      <td>1721053</td>\n",
       "    </tr>\n",
       "  </tbody>\n",
       "</table>\n",
       "</div>"
      ],
      "text/plain": [
       "   customerId\n",
       "0     1076254\n",
       "1     1268548\n",
       "2     1709459\n",
       "3     1712393\n",
       "4     1721053"
      ]
     },
     "execution_count": 4,
     "metadata": {},
     "output_type": "execute_result"
    }
   ],
   "source": [
    "print(customers.shape)\n",
    "customers.head()"
   ]
  },
  {
   "cell_type": "code",
   "execution_count": 27,
   "metadata": {},
   "outputs": [
    {
     "name": "stdout",
     "output_type": "stream",
     "text": [
      "(7987, 2)\n"
     ]
    },
    {
     "data": {
      "text/html": [
       "<div>\n",
       "<style scoped>\n",
       "    .dataframe tbody tr th:only-of-type {\n",
       "        vertical-align: middle;\n",
       "    }\n",
       "\n",
       "    .dataframe tbody tr th {\n",
       "        vertical-align: top;\n",
       "    }\n",
       "\n",
       "    .dataframe thead th {\n",
       "        text-align: right;\n",
       "    }\n",
       "</style>\n",
       "<table border=\"1\" class=\"dataframe\">\n",
       "  <thead>\n",
       "    <tr style=\"text-align: right;\">\n",
       "      <th></th>\n",
       "      <th>customerId</th>\n",
       "      <th>products</th>\n",
       "    </tr>\n",
       "  </thead>\n",
       "  <tbody>\n",
       "    <tr>\n",
       "      <th>0</th>\n",
       "      <td>1076254</td>\n",
       "      <td>124321|920089|920083|920090|123465|123507</td>\n",
       "    </tr>\n",
       "    <tr>\n",
       "      <th>1</th>\n",
       "      <td>1268548</td>\n",
       "      <td>124321|122912</td>\n",
       "    </tr>\n",
       "    <tr>\n",
       "      <th>2</th>\n",
       "      <td>1709459</td>\n",
       "      <td>124321|124464|920089</td>\n",
       "    </tr>\n",
       "    <tr>\n",
       "      <th>3</th>\n",
       "      <td>1712393</td>\n",
       "      <td>124321</td>\n",
       "    </tr>\n",
       "    <tr>\n",
       "      <th>4</th>\n",
       "      <td>1721053</td>\n",
       "      <td>124321|123661|124640</td>\n",
       "    </tr>\n",
       "  </tbody>\n",
       "</table>\n",
       "</div>"
      ],
      "text/plain": [
       "   customerId                                   products\n",
       "0     1076254  124321|920089|920083|920090|123465|123507\n",
       "1     1268548                              124321|122912\n",
       "2     1709459                       124321|124464|920089\n",
       "3     1712393                                     124321\n",
       "4     1721053                       124321|123661|124640"
      ]
     },
     "execution_count": 27,
     "metadata": {},
     "output_type": "execute_result"
    }
   ],
   "source": [
    "print(transactions.shape)\n",
    "transactions.head()"
   ]
  },
  {
   "cell_type": "markdown",
   "metadata": {},
   "source": [
    "## 3. Preparação dos dados\n",
    "* Nosso objetivo aqui é dividir cada lista de itens na coluna `products` em linhas e contar o número de produtos comprados por um usuário"
   ]
  },
  {
   "cell_type": "code",
   "execution_count": 5,
   "metadata": {},
   "outputs": [
    {
     "data": {
      "text/html": [
       "<div>\n",
       "<style scoped>\n",
       "    .dataframe tbody tr th:only-of-type {\n",
       "        vertical-align: middle;\n",
       "    }\n",
       "\n",
       "    .dataframe tbody tr th {\n",
       "        vertical-align: top;\n",
       "    }\n",
       "\n",
       "    .dataframe thead th {\n",
       "        text-align: right;\n",
       "    }\n",
       "</style>\n",
       "<table border=\"1\" class=\"dataframe\">\n",
       "  <thead>\n",
       "    <tr style=\"text-align: right;\">\n",
       "      <th></th>\n",
       "      <th>customerId</th>\n",
       "      <th>0</th>\n",
       "      <th>1</th>\n",
       "      <th>2</th>\n",
       "      <th>3</th>\n",
       "      <th>4</th>\n",
       "      <th>5</th>\n",
       "    </tr>\n",
       "  </thead>\n",
       "  <tbody>\n",
       "    <tr>\n",
       "      <th>0</th>\n",
       "      <td>1076254</td>\n",
       "      <td>124321.0</td>\n",
       "      <td>920089.0</td>\n",
       "      <td>920083.0</td>\n",
       "      <td>920090.0</td>\n",
       "      <td>123465.0</td>\n",
       "      <td>123507.0</td>\n",
       "    </tr>\n",
       "    <tr>\n",
       "      <th>1</th>\n",
       "      <td>1268548</td>\n",
       "      <td>124321.0</td>\n",
       "      <td>122912.0</td>\n",
       "      <td>NaN</td>\n",
       "      <td>NaN</td>\n",
       "      <td>NaN</td>\n",
       "      <td>NaN</td>\n",
       "    </tr>\n",
       "  </tbody>\n",
       "</table>\n",
       "</div>"
      ],
      "text/plain": [
       "   customerId         0         1         2         3         4         5\n",
       "0     1076254  124321.0  920089.0  920083.0  920090.0  123465.0  123507.0\n",
       "1     1268548  124321.0  122912.0       NaN       NaN       NaN       NaN"
      ]
     },
     "execution_count": 5,
     "metadata": {},
     "output_type": "execute_result"
    }
   ],
   "source": [
    "# example 1: split product items\n",
    "transactions['products'] = transactions['products'].apply(lambda x: [int(i) for i in x.split('|')])\n",
    "transactions.head(2).set_index('customerId')['products'].apply(pd.Series).reset_index()"
   ]
  },
  {
   "cell_type": "code",
   "execution_count": 6,
   "metadata": {},
   "outputs": [
    {
     "data": {
      "text/html": [
       "<div>\n",
       "<style scoped>\n",
       "    .dataframe tbody tr th:only-of-type {\n",
       "        vertical-align: middle;\n",
       "    }\n",
       "\n",
       "    .dataframe tbody tr th {\n",
       "        vertical-align: top;\n",
       "    }\n",
       "\n",
       "    .dataframe thead th {\n",
       "        text-align: right;\n",
       "    }\n",
       "</style>\n",
       "<table border=\"1\" class=\"dataframe\">\n",
       "  <thead>\n",
       "    <tr style=\"text-align: right;\">\n",
       "      <th></th>\n",
       "      <th>customerId</th>\n",
       "      <th>productId</th>\n",
       "      <th>purchase_count</th>\n",
       "    </tr>\n",
       "  </thead>\n",
       "  <tbody>\n",
       "    <tr>\n",
       "      <th>0</th>\n",
       "      <td>1076254</td>\n",
       "      <td>123465.0</td>\n",
       "      <td>1</td>\n",
       "    </tr>\n",
       "    <tr>\n",
       "      <th>1</th>\n",
       "      <td>1076254</td>\n",
       "      <td>123507.0</td>\n",
       "      <td>1</td>\n",
       "    </tr>\n",
       "    <tr>\n",
       "      <th>2</th>\n",
       "      <td>1076254</td>\n",
       "      <td>124321.0</td>\n",
       "      <td>1</td>\n",
       "    </tr>\n",
       "    <tr>\n",
       "      <th>3</th>\n",
       "      <td>1076254</td>\n",
       "      <td>920083.0</td>\n",
       "      <td>1</td>\n",
       "    </tr>\n",
       "    <tr>\n",
       "      <th>4</th>\n",
       "      <td>1076254</td>\n",
       "      <td>920089.0</td>\n",
       "      <td>1</td>\n",
       "    </tr>\n",
       "    <tr>\n",
       "      <th>5</th>\n",
       "      <td>1076254</td>\n",
       "      <td>920090.0</td>\n",
       "      <td>1</td>\n",
       "    </tr>\n",
       "    <tr>\n",
       "      <th>6</th>\n",
       "      <td>1268548</td>\n",
       "      <td>122912.0</td>\n",
       "      <td>1</td>\n",
       "    </tr>\n",
       "    <tr>\n",
       "      <th>7</th>\n",
       "      <td>1268548</td>\n",
       "      <td>124321.0</td>\n",
       "      <td>1</td>\n",
       "    </tr>\n",
       "  </tbody>\n",
       "</table>\n",
       "</div>"
      ],
      "text/plain": [
       "   customerId  productId  purchase_count\n",
       "0     1076254   123465.0               1\n",
       "1     1076254   123507.0               1\n",
       "2     1076254   124321.0               1\n",
       "3     1076254   920083.0               1\n",
       "4     1076254   920089.0               1\n",
       "5     1076254   920090.0               1\n",
       "6     1268548   122912.0               1\n",
       "7     1268548   124321.0               1"
      ]
     },
     "execution_count": 6,
     "metadata": {},
     "output_type": "execute_result"
    }
   ],
   "source": [
    "# exemplo 2: organizar uma determinada tabela em um dataframe com customerId, productId único e contagem de compras\n",
    "pd.melt(transactions.head(2).set_index('customerId')['products'].apply(pd.Series).reset_index(), \n",
    "             id_vars=['customerId'],\n",
    "             value_name='products') \\\n",
    "    .dropna().drop(['variable'], axis=1) \\\n",
    "    .groupby(['customerId', 'products']) \\\n",
    "    .agg({'products': 'count'}) \\\n",
    "    .rename(columns={'products': 'purchase_count'}) \\\n",
    "    .reset_index() \\\n",
    "    .rename(columns={'products': 'productId'})"
   ]
  },
  {
   "cell_type": "markdown",
   "metadata": {},
   "source": [
    "### 3.1. Crie dados com o usuário, item e campo de destino\n",
    "* Esta tabela será uma entrada para nossa modelagem posteriormente\n",
    "    * Nesse caso, nosso usuário é `customerId`,` productId` e `purchase_count`"
   ]
  },
  {
   "cell_type": "code",
   "execution_count": 7,
   "metadata": {},
   "outputs": [
    {
     "name": "stdout",
     "output_type": "stream",
     "text": [
      "Execution time: 0.08 minutes\n"
     ]
    }
   ],
   "source": [
    "s=time.time()\n",
    "\n",
    "data = pd.melt(transactions.set_index('customerId')['products'].apply(pd.Series).reset_index(), \n",
    "             id_vars=['customerId'],\n",
    "             value_name='products') \\\n",
    "    .dropna().drop(['variable'], axis=1) \\\n",
    "    .groupby(['customerId', 'products']) \\\n",
    "    .agg({'products': 'count'}) \\\n",
    "    .rename(columns={'products': 'purchase_count'}) \\\n",
    "    .reset_index() \\\n",
    "    .rename(columns={'products': 'productId'})\n",
    "data['productId'] = data['productId'].astype(np.int64)\n",
    "\n",
    "print(\"Execution time:\", round((time.time()-s)/60,2), \"minutes\")"
   ]
  },
  {
   "cell_type": "code",
   "execution_count": 31,
   "metadata": {},
   "outputs": [
    {
     "name": "stdout",
     "output_type": "stream",
     "text": [
      "(24463, 3)\n"
     ]
    },
    {
     "data": {
      "text/html": [
       "<div>\n",
       "<style scoped>\n",
       "    .dataframe tbody tr th:only-of-type {\n",
       "        vertical-align: middle;\n",
       "    }\n",
       "\n",
       "    .dataframe tbody tr th {\n",
       "        vertical-align: top;\n",
       "    }\n",
       "\n",
       "    .dataframe thead th {\n",
       "        text-align: right;\n",
       "    }\n",
       "</style>\n",
       "<table border=\"1\" class=\"dataframe\">\n",
       "  <thead>\n",
       "    <tr style=\"text-align: right;\">\n",
       "      <th></th>\n",
       "      <th>customerId</th>\n",
       "      <th>productId</th>\n",
       "      <th>purchase_count</th>\n",
       "    </tr>\n",
       "  </thead>\n",
       "  <tbody>\n",
       "    <tr>\n",
       "      <th>0</th>\n",
       "      <td>360153</td>\n",
       "      <td>123750</td>\n",
       "      <td>1</td>\n",
       "    </tr>\n",
       "    <tr>\n",
       "      <th>1</th>\n",
       "      <td>360153</td>\n",
       "      <td>920086</td>\n",
       "      <td>1</td>\n",
       "    </tr>\n",
       "    <tr>\n",
       "      <th>2</th>\n",
       "      <td>360478</td>\n",
       "      <td>124352</td>\n",
       "      <td>1</td>\n",
       "    </tr>\n",
       "    <tr>\n",
       "      <th>3</th>\n",
       "      <td>360714</td>\n",
       "      <td>124603</td>\n",
       "      <td>1</td>\n",
       "    </tr>\n",
       "    <tr>\n",
       "      <th>4</th>\n",
       "      <td>360847</td>\n",
       "      <td>124224</td>\n",
       "      <td>1</td>\n",
       "    </tr>\n",
       "  </tbody>\n",
       "</table>\n",
       "</div>"
      ],
      "text/plain": [
       "   customerId  productId  purchase_count\n",
       "0      360153     123750               1\n",
       "1      360153     920086               1\n",
       "2      360478     124352               1\n",
       "3      360714     124603               1\n",
       "4      360847     124224               1"
      ]
     },
     "execution_count": 31,
     "metadata": {},
     "output_type": "execute_result"
    }
   ],
   "source": [
    "print(data.shape)\n",
    "data.head()"
   ]
  },
  {
   "cell_type": "markdown",
   "metadata": {},
   "source": [
    "### 3.2. Criando o dummy\n",
    "* Dummy para marcar se um cliente comprou ou não esse item.\n",
    "* Se alguém compra um item, o `purchase_dummy` é marcado como 1\n",
    "* Por que criar um dummyo em vez de normalizá-lo, você poderia perguntar?\n",
    "    * Normalizar a contagem de compras, digamos por cada usuário, não funcionaria porque os clientes podem ter diferentes frequências de compra e não têm o mesmo gosto\n",
    "    * No entanto, podemos normalizar itens pela frequência de compra em todos os usuários, o que é feito na seção 3.3. abaixo"
   ]
  },
  {
   "cell_type": "code",
   "execution_count": 8,
   "metadata": {},
   "outputs": [],
   "source": [
    "def create_data_dummy(data):\n",
    "    data_dummy = data.copy()\n",
    "    data_dummy['purchase_dummy'] = 1\n",
    "    return data_dummy"
   ]
  },
  {
   "cell_type": "code",
   "execution_count": 9,
   "metadata": {},
   "outputs": [],
   "source": [
    "data_dummy = create_data_dummy(data)"
   ]
  },
  {
   "cell_type": "markdown",
   "metadata": {},
   "source": [
    "### 3.3. Normalizar valores de itens entre usuários\n",
    "* Para fazer isso, normalizamos a frequência de compra de cada item entre os usuários criando primeiro uma matriz de itens do usuário da seguinte maneira"
   ]
  },
  {
   "cell_type": "code",
   "execution_count": 10,
   "metadata": {},
   "outputs": [
    {
     "data": {
      "text/html": [
       "<div>\n",
       "<style scoped>\n",
       "    .dataframe tbody tr th:only-of-type {\n",
       "        vertical-align: middle;\n",
       "    }\n",
       "\n",
       "    .dataframe tbody tr th {\n",
       "        vertical-align: top;\n",
       "    }\n",
       "\n",
       "    .dataframe thead th {\n",
       "        text-align: right;\n",
       "    }\n",
       "</style>\n",
       "<table border=\"1\" class=\"dataframe\">\n",
       "  <thead>\n",
       "    <tr style=\"text-align: right;\">\n",
       "      <th>productId</th>\n",
       "      <th>10001</th>\n",
       "      <th>10004</th>\n",
       "      <th>10005</th>\n",
       "      <th>10006</th>\n",
       "      <th>10007</th>\n",
       "      <th>10008</th>\n",
       "      <th>11119</th>\n",
       "      <th>120014</th>\n",
       "      <th>120018</th>\n",
       "      <th>120192</th>\n",
       "      <th>...</th>\n",
       "      <th>920107</th>\n",
       "      <th>920113</th>\n",
       "      <th>920115</th>\n",
       "      <th>920121</th>\n",
       "      <th>920122</th>\n",
       "      <th>920128</th>\n",
       "      <th>920135</th>\n",
       "      <th>920137</th>\n",
       "      <th>920139</th>\n",
       "      <th>920140</th>\n",
       "    </tr>\n",
       "    <tr>\n",
       "      <th>customerId</th>\n",
       "      <th></th>\n",
       "      <th></th>\n",
       "      <th></th>\n",
       "      <th></th>\n",
       "      <th></th>\n",
       "      <th></th>\n",
       "      <th></th>\n",
       "      <th></th>\n",
       "      <th></th>\n",
       "      <th></th>\n",
       "      <th></th>\n",
       "      <th></th>\n",
       "      <th></th>\n",
       "      <th></th>\n",
       "      <th></th>\n",
       "      <th></th>\n",
       "      <th></th>\n",
       "      <th></th>\n",
       "      <th></th>\n",
       "      <th></th>\n",
       "      <th></th>\n",
       "    </tr>\n",
       "  </thead>\n",
       "  <tbody>\n",
       "    <tr>\n",
       "      <th>360153</th>\n",
       "      <td>NaN</td>\n",
       "      <td>NaN</td>\n",
       "      <td>NaN</td>\n",
       "      <td>NaN</td>\n",
       "      <td>NaN</td>\n",
       "      <td>NaN</td>\n",
       "      <td>NaN</td>\n",
       "      <td>NaN</td>\n",
       "      <td>NaN</td>\n",
       "      <td>NaN</td>\n",
       "      <td>...</td>\n",
       "      <td>NaN</td>\n",
       "      <td>NaN</td>\n",
       "      <td>NaN</td>\n",
       "      <td>NaN</td>\n",
       "      <td>NaN</td>\n",
       "      <td>NaN</td>\n",
       "      <td>NaN</td>\n",
       "      <td>NaN</td>\n",
       "      <td>NaN</td>\n",
       "      <td>NaN</td>\n",
       "    </tr>\n",
       "    <tr>\n",
       "      <th>360478</th>\n",
       "      <td>NaN</td>\n",
       "      <td>NaN</td>\n",
       "      <td>NaN</td>\n",
       "      <td>NaN</td>\n",
       "      <td>NaN</td>\n",
       "      <td>NaN</td>\n",
       "      <td>NaN</td>\n",
       "      <td>NaN</td>\n",
       "      <td>NaN</td>\n",
       "      <td>NaN</td>\n",
       "      <td>...</td>\n",
       "      <td>NaN</td>\n",
       "      <td>NaN</td>\n",
       "      <td>NaN</td>\n",
       "      <td>NaN</td>\n",
       "      <td>NaN</td>\n",
       "      <td>NaN</td>\n",
       "      <td>NaN</td>\n",
       "      <td>NaN</td>\n",
       "      <td>NaN</td>\n",
       "      <td>NaN</td>\n",
       "    </tr>\n",
       "    <tr>\n",
       "      <th>360714</th>\n",
       "      <td>NaN</td>\n",
       "      <td>NaN</td>\n",
       "      <td>NaN</td>\n",
       "      <td>NaN</td>\n",
       "      <td>NaN</td>\n",
       "      <td>NaN</td>\n",
       "      <td>NaN</td>\n",
       "      <td>NaN</td>\n",
       "      <td>NaN</td>\n",
       "      <td>NaN</td>\n",
       "      <td>...</td>\n",
       "      <td>NaN</td>\n",
       "      <td>NaN</td>\n",
       "      <td>NaN</td>\n",
       "      <td>NaN</td>\n",
       "      <td>NaN</td>\n",
       "      <td>NaN</td>\n",
       "      <td>NaN</td>\n",
       "      <td>NaN</td>\n",
       "      <td>NaN</td>\n",
       "      <td>NaN</td>\n",
       "    </tr>\n",
       "    <tr>\n",
       "      <th>360847</th>\n",
       "      <td>NaN</td>\n",
       "      <td>NaN</td>\n",
       "      <td>NaN</td>\n",
       "      <td>NaN</td>\n",
       "      <td>NaN</td>\n",
       "      <td>NaN</td>\n",
       "      <td>NaN</td>\n",
       "      <td>NaN</td>\n",
       "      <td>NaN</td>\n",
       "      <td>NaN</td>\n",
       "      <td>...</td>\n",
       "      <td>NaN</td>\n",
       "      <td>NaN</td>\n",
       "      <td>NaN</td>\n",
       "      <td>NaN</td>\n",
       "      <td>NaN</td>\n",
       "      <td>NaN</td>\n",
       "      <td>NaN</td>\n",
       "      <td>NaN</td>\n",
       "      <td>NaN</td>\n",
       "      <td>NaN</td>\n",
       "    </tr>\n",
       "    <tr>\n",
       "      <th>361280</th>\n",
       "      <td>NaN</td>\n",
       "      <td>NaN</td>\n",
       "      <td>NaN</td>\n",
       "      <td>NaN</td>\n",
       "      <td>NaN</td>\n",
       "      <td>NaN</td>\n",
       "      <td>NaN</td>\n",
       "      <td>NaN</td>\n",
       "      <td>NaN</td>\n",
       "      <td>NaN</td>\n",
       "      <td>...</td>\n",
       "      <td>NaN</td>\n",
       "      <td>NaN</td>\n",
       "      <td>NaN</td>\n",
       "      <td>NaN</td>\n",
       "      <td>NaN</td>\n",
       "      <td>NaN</td>\n",
       "      <td>NaN</td>\n",
       "      <td>NaN</td>\n",
       "      <td>NaN</td>\n",
       "      <td>NaN</td>\n",
       "    </tr>\n",
       "  </tbody>\n",
       "</table>\n",
       "<p>5 rows × 723 columns</p>\n",
       "</div>"
      ],
      "text/plain": [
       "productId   10001   10004   10005   10006   10007   10008   11119   120014  \\\n",
       "customerId                                                                   \n",
       "360153         NaN     NaN     NaN     NaN     NaN     NaN     NaN     NaN   \n",
       "360478         NaN     NaN     NaN     NaN     NaN     NaN     NaN     NaN   \n",
       "360714         NaN     NaN     NaN     NaN     NaN     NaN     NaN     NaN   \n",
       "360847         NaN     NaN     NaN     NaN     NaN     NaN     NaN     NaN   \n",
       "361280         NaN     NaN     NaN     NaN     NaN     NaN     NaN     NaN   \n",
       "\n",
       "productId   120018  120192  ...  920107  920113  920115  920121  920122  \\\n",
       "customerId                  ...                                           \n",
       "360153         NaN     NaN  ...     NaN     NaN     NaN     NaN     NaN   \n",
       "360478         NaN     NaN  ...     NaN     NaN     NaN     NaN     NaN   \n",
       "360714         NaN     NaN  ...     NaN     NaN     NaN     NaN     NaN   \n",
       "360847         NaN     NaN  ...     NaN     NaN     NaN     NaN     NaN   \n",
       "361280         NaN     NaN  ...     NaN     NaN     NaN     NaN     NaN   \n",
       "\n",
       "productId   920128  920135  920137  920139  920140  \n",
       "customerId                                          \n",
       "360153         NaN     NaN     NaN     NaN     NaN  \n",
       "360478         NaN     NaN     NaN     NaN     NaN  \n",
       "360714         NaN     NaN     NaN     NaN     NaN  \n",
       "360847         NaN     NaN     NaN     NaN     NaN  \n",
       "361280         NaN     NaN     NaN     NaN     NaN  \n",
       "\n",
       "[5 rows x 723 columns]"
      ]
     },
     "execution_count": 10,
     "metadata": {},
     "output_type": "execute_result"
    }
   ],
   "source": [
    "df_matrix = pd.pivot_table(data, values='purchase_count', index='customerId', columns='productId')\n",
    "df_matrix.head()"
   ]
  },
  {
   "cell_type": "code",
   "execution_count": 11,
   "metadata": {},
   "outputs": [
    {
     "data": {
      "text/plain": [
       "(7987, 723)"
      ]
     },
     "execution_count": 11,
     "metadata": {},
     "output_type": "execute_result"
    }
   ],
   "source": [
    "(df_matrix.shape)"
   ]
  },
  {
   "cell_type": "code",
   "execution_count": 12,
   "metadata": {},
   "outputs": [
    {
     "name": "stdout",
     "output_type": "stream",
     "text": [
      "(7987, 723)\n"
     ]
    },
    {
     "data": {
      "text/html": [
       "<div>\n",
       "<style scoped>\n",
       "    .dataframe tbody tr th:only-of-type {\n",
       "        vertical-align: middle;\n",
       "    }\n",
       "\n",
       "    .dataframe tbody tr th {\n",
       "        vertical-align: top;\n",
       "    }\n",
       "\n",
       "    .dataframe thead th {\n",
       "        text-align: right;\n",
       "    }\n",
       "</style>\n",
       "<table border=\"1\" class=\"dataframe\">\n",
       "  <thead>\n",
       "    <tr style=\"text-align: right;\">\n",
       "      <th>productId</th>\n",
       "      <th>10001</th>\n",
       "      <th>10004</th>\n",
       "      <th>10005</th>\n",
       "      <th>10006</th>\n",
       "      <th>10007</th>\n",
       "      <th>10008</th>\n",
       "      <th>11119</th>\n",
       "      <th>120014</th>\n",
       "      <th>120018</th>\n",
       "      <th>120192</th>\n",
       "      <th>...</th>\n",
       "      <th>920107</th>\n",
       "      <th>920113</th>\n",
       "      <th>920115</th>\n",
       "      <th>920121</th>\n",
       "      <th>920122</th>\n",
       "      <th>920128</th>\n",
       "      <th>920135</th>\n",
       "      <th>920137</th>\n",
       "      <th>920139</th>\n",
       "      <th>920140</th>\n",
       "    </tr>\n",
       "    <tr>\n",
       "      <th>customerId</th>\n",
       "      <th></th>\n",
       "      <th></th>\n",
       "      <th></th>\n",
       "      <th></th>\n",
       "      <th></th>\n",
       "      <th></th>\n",
       "      <th></th>\n",
       "      <th></th>\n",
       "      <th></th>\n",
       "      <th></th>\n",
       "      <th></th>\n",
       "      <th></th>\n",
       "      <th></th>\n",
       "      <th></th>\n",
       "      <th></th>\n",
       "      <th></th>\n",
       "      <th></th>\n",
       "      <th></th>\n",
       "      <th></th>\n",
       "      <th></th>\n",
       "      <th></th>\n",
       "    </tr>\n",
       "  </thead>\n",
       "  <tbody>\n",
       "    <tr>\n",
       "      <th>360153</th>\n",
       "      <td>NaN</td>\n",
       "      <td>NaN</td>\n",
       "      <td>NaN</td>\n",
       "      <td>NaN</td>\n",
       "      <td>NaN</td>\n",
       "      <td>NaN</td>\n",
       "      <td>NaN</td>\n",
       "      <td>NaN</td>\n",
       "      <td>NaN</td>\n",
       "      <td>NaN</td>\n",
       "      <td>...</td>\n",
       "      <td>NaN</td>\n",
       "      <td>NaN</td>\n",
       "      <td>NaN</td>\n",
       "      <td>NaN</td>\n",
       "      <td>NaN</td>\n",
       "      <td>NaN</td>\n",
       "      <td>NaN</td>\n",
       "      <td>NaN</td>\n",
       "      <td>NaN</td>\n",
       "      <td>NaN</td>\n",
       "    </tr>\n",
       "    <tr>\n",
       "      <th>360478</th>\n",
       "      <td>NaN</td>\n",
       "      <td>NaN</td>\n",
       "      <td>NaN</td>\n",
       "      <td>NaN</td>\n",
       "      <td>NaN</td>\n",
       "      <td>NaN</td>\n",
       "      <td>NaN</td>\n",
       "      <td>NaN</td>\n",
       "      <td>NaN</td>\n",
       "      <td>NaN</td>\n",
       "      <td>...</td>\n",
       "      <td>NaN</td>\n",
       "      <td>NaN</td>\n",
       "      <td>NaN</td>\n",
       "      <td>NaN</td>\n",
       "      <td>NaN</td>\n",
       "      <td>NaN</td>\n",
       "      <td>NaN</td>\n",
       "      <td>NaN</td>\n",
       "      <td>NaN</td>\n",
       "      <td>NaN</td>\n",
       "    </tr>\n",
       "    <tr>\n",
       "      <th>360714</th>\n",
       "      <td>NaN</td>\n",
       "      <td>NaN</td>\n",
       "      <td>NaN</td>\n",
       "      <td>NaN</td>\n",
       "      <td>NaN</td>\n",
       "      <td>NaN</td>\n",
       "      <td>NaN</td>\n",
       "      <td>NaN</td>\n",
       "      <td>NaN</td>\n",
       "      <td>NaN</td>\n",
       "      <td>...</td>\n",
       "      <td>NaN</td>\n",
       "      <td>NaN</td>\n",
       "      <td>NaN</td>\n",
       "      <td>NaN</td>\n",
       "      <td>NaN</td>\n",
       "      <td>NaN</td>\n",
       "      <td>NaN</td>\n",
       "      <td>NaN</td>\n",
       "      <td>NaN</td>\n",
       "      <td>NaN</td>\n",
       "    </tr>\n",
       "    <tr>\n",
       "      <th>360847</th>\n",
       "      <td>NaN</td>\n",
       "      <td>NaN</td>\n",
       "      <td>NaN</td>\n",
       "      <td>NaN</td>\n",
       "      <td>NaN</td>\n",
       "      <td>NaN</td>\n",
       "      <td>NaN</td>\n",
       "      <td>NaN</td>\n",
       "      <td>NaN</td>\n",
       "      <td>NaN</td>\n",
       "      <td>...</td>\n",
       "      <td>NaN</td>\n",
       "      <td>NaN</td>\n",
       "      <td>NaN</td>\n",
       "      <td>NaN</td>\n",
       "      <td>NaN</td>\n",
       "      <td>NaN</td>\n",
       "      <td>NaN</td>\n",
       "      <td>NaN</td>\n",
       "      <td>NaN</td>\n",
       "      <td>NaN</td>\n",
       "    </tr>\n",
       "    <tr>\n",
       "      <th>361280</th>\n",
       "      <td>NaN</td>\n",
       "      <td>NaN</td>\n",
       "      <td>NaN</td>\n",
       "      <td>NaN</td>\n",
       "      <td>NaN</td>\n",
       "      <td>NaN</td>\n",
       "      <td>NaN</td>\n",
       "      <td>NaN</td>\n",
       "      <td>NaN</td>\n",
       "      <td>NaN</td>\n",
       "      <td>...</td>\n",
       "      <td>NaN</td>\n",
       "      <td>NaN</td>\n",
       "      <td>NaN</td>\n",
       "      <td>NaN</td>\n",
       "      <td>NaN</td>\n",
       "      <td>NaN</td>\n",
       "      <td>NaN</td>\n",
       "      <td>NaN</td>\n",
       "      <td>NaN</td>\n",
       "      <td>NaN</td>\n",
       "    </tr>\n",
       "  </tbody>\n",
       "</table>\n",
       "<p>5 rows × 723 columns</p>\n",
       "</div>"
      ],
      "text/plain": [
       "productId   10001   10004   10005   10006   10007   10008   11119   120014  \\\n",
       "customerId                                                                   \n",
       "360153         NaN     NaN     NaN     NaN     NaN     NaN     NaN     NaN   \n",
       "360478         NaN     NaN     NaN     NaN     NaN     NaN     NaN     NaN   \n",
       "360714         NaN     NaN     NaN     NaN     NaN     NaN     NaN     NaN   \n",
       "360847         NaN     NaN     NaN     NaN     NaN     NaN     NaN     NaN   \n",
       "361280         NaN     NaN     NaN     NaN     NaN     NaN     NaN     NaN   \n",
       "\n",
       "productId   120018  120192  ...  920107  920113  920115  920121  920122  \\\n",
       "customerId                  ...                                           \n",
       "360153         NaN     NaN  ...     NaN     NaN     NaN     NaN     NaN   \n",
       "360478         NaN     NaN  ...     NaN     NaN     NaN     NaN     NaN   \n",
       "360714         NaN     NaN  ...     NaN     NaN     NaN     NaN     NaN   \n",
       "360847         NaN     NaN  ...     NaN     NaN     NaN     NaN     NaN   \n",
       "361280         NaN     NaN  ...     NaN     NaN     NaN     NaN     NaN   \n",
       "\n",
       "productId   920128  920135  920137  920139  920140  \n",
       "customerId                                          \n",
       "360153         NaN     NaN     NaN     NaN     NaN  \n",
       "360478         NaN     NaN     NaN     NaN     NaN  \n",
       "360714         NaN     NaN     NaN     NaN     NaN  \n",
       "360847         NaN     NaN     NaN     NaN     NaN  \n",
       "361280         NaN     NaN     NaN     NaN     NaN  \n",
       "\n",
       "[5 rows x 723 columns]"
      ]
     },
     "execution_count": 12,
     "metadata": {},
     "output_type": "execute_result"
    }
   ],
   "source": [
    "df_matrix_norm = (df_matrix-df_matrix.min())/(df_matrix.max()-df_matrix.min())\n",
    "print(df_matrix_norm.shape)\n",
    "df_matrix_norm.head()"
   ]
  },
  {
   "cell_type": "code",
   "execution_count": 13,
   "metadata": {},
   "outputs": [
    {
     "name": "stdout",
     "output_type": "stream",
     "text": [
      "(20746, 3)\n"
     ]
    },
    {
     "data": {
      "text/html": [
       "<div>\n",
       "<style scoped>\n",
       "    .dataframe tbody tr th:only-of-type {\n",
       "        vertical-align: middle;\n",
       "    }\n",
       "\n",
       "    .dataframe tbody tr th {\n",
       "        vertical-align: top;\n",
       "    }\n",
       "\n",
       "    .dataframe thead th {\n",
       "        text-align: right;\n",
       "    }\n",
       "</style>\n",
       "<table border=\"1\" class=\"dataframe\">\n",
       "  <thead>\n",
       "    <tr style=\"text-align: right;\">\n",
       "      <th></th>\n",
       "      <th>customerId</th>\n",
       "      <th>productId</th>\n",
       "      <th>scaled_purchase_freq</th>\n",
       "    </tr>\n",
       "  </thead>\n",
       "  <tbody>\n",
       "    <tr>\n",
       "      <th>8014</th>\n",
       "      <td>397773</td>\n",
       "      <td>10004</td>\n",
       "      <td>0.0</td>\n",
       "    </tr>\n",
       "    <tr>\n",
       "      <th>8247</th>\n",
       "      <td>911508</td>\n",
       "      <td>10004</td>\n",
       "      <td>0.0</td>\n",
       "    </tr>\n",
       "    <tr>\n",
       "      <th>8291</th>\n",
       "      <td>934537</td>\n",
       "      <td>10004</td>\n",
       "      <td>0.0</td>\n",
       "    </tr>\n",
       "    <tr>\n",
       "      <th>8410</th>\n",
       "      <td>1009947</td>\n",
       "      <td>10004</td>\n",
       "      <td>0.0</td>\n",
       "    </tr>\n",
       "    <tr>\n",
       "      <th>8559</th>\n",
       "      <td>1075868</td>\n",
       "      <td>10004</td>\n",
       "      <td>0.0</td>\n",
       "    </tr>\n",
       "  </tbody>\n",
       "</table>\n",
       "</div>"
      ],
      "text/plain": [
       "      customerId productId  scaled_purchase_freq\n",
       "8014      397773     10004                   0.0\n",
       "8247      911508     10004                   0.0\n",
       "8291      934537     10004                   0.0\n",
       "8410     1009947     10004                   0.0\n",
       "8559     1075868     10004                   0.0"
      ]
     },
     "execution_count": 13,
     "metadata": {},
     "output_type": "execute_result"
    }
   ],
   "source": [
    "# crie uma tabela para entrada na modelagem\n",
    "\n",
    "d = df_matrix_norm.reset_index()\n",
    "d.index.names = ['scaled_purchase_freq']\n",
    "data_norm = pd.melt(d, id_vars=['customerId'], value_name='scaled_purchase_freq').dropna()\n",
    "print(data_norm.shape)\n",
    "data_norm.head()"
   ]
  },
  {
   "cell_type": "markdown",
   "metadata": {},
   "source": [
    "#### Definir uma função para normalizar dados"
   ]
  },
  {
   "cell_type": "code",
   "execution_count": 20,
   "metadata": {},
   "outputs": [],
   "source": [
    "def normalize_data(data):\n",
    "    df_matrix = pd.pivot_table(data, values='purchase_count', index='customerId', columns='productId')\n",
    "    df_matrix_norm = (df_matrix-df_matrix.min())/(df_matrix.max()-df_matrix.min())\n",
    "    d = df_matrix_norm.reset_index()\n",
    "    d.index.names = ['scaled_purchase_freq']\n",
    "    return pd.melt(d, id_vars=['customerId'], value_name='scaled_purchase_freq').dropna()"
   ]
  },
  {
   "cell_type": "markdown",
   "metadata": {},
   "source": [
    "* Podemos normalizar o histórico de compras deles, de 0 a 1 (sendo 1 o número de compras mais alto para um item e 0 sendo 0 a contagem de compras para esse item)."
   ]
  },
  {
   "cell_type": "markdown",
   "metadata": {},
   "source": [
    "## 4. Treinamento po partes e conjunto de testes\n",
    "* Dividir os dados em conjuntos de treinamento e teste é uma parte importante da avaliação da modelagem preditiva, neste caso, um modelo de filtragem colaborativa. Normalmente, usamos uma porção maior dos dados para treinamento e uma porção menor para teste. \n",
    "* Usamos a proporção 80:20 para o nosso conjunto de testes configurar o tamanho.\n",
    "* Nossa parte de treinamento será usada para desenvolver um modelo preditivo, enquanto a outra para avaliar o desempenho do modelo\n",
    "* Agora que temos três conjuntos de dados com contagens de compra, dummy de compra e contagens de compra em escala, gostaríamos de dividir cada um."
   ]
  },
  {
   "cell_type": "code",
   "execution_count": 14,
   "metadata": {},
   "outputs": [
    {
     "name": "stdout",
     "output_type": "stream",
     "text": [
      "(19570, 3) (4893, 3)\n"
     ]
    }
   ],
   "source": [
    "train, test = train_test_split(data, test_size = .2)\n",
    "print(train.shape, test.shape)"
   ]
  },
  {
   "cell_type": "code",
   "execution_count": 17,
   "metadata": {},
   "outputs": [],
   "source": [
    "# Usando a biblioteca turicreate, convertemos o dataframe em SFrame - isso será útil na parte de modelagem\n",
    "\n",
    "train_data = tc.SFrame(train)\n",
    "test_data = tc.SFrame(test)"
   ]
  },
  {
   "cell_type": "code",
   "execution_count": 18,
   "metadata": {},
   "outputs": [
    {
     "data": {
      "text/html": [
       "<div style=\"max-height:1000px;max-width:1500px;overflow:auto;\"><table frame=\"box\" rules=\"cols\">\n",
       "    <tr>\n",
       "        <th style=\"padding-left: 1em; padding-right: 1em; text-align: center\">customerId</th>\n",
       "        <th style=\"padding-left: 1em; padding-right: 1em; text-align: center\">productId</th>\n",
       "        <th style=\"padding-left: 1em; padding-right: 1em; text-align: center\">purchase_count</th>\n",
       "    </tr>\n",
       "    <tr>\n",
       "        <td style=\"padding-left: 1em; padding-right: 1em; text-align: center; vertical-align: top\">1803867</td>\n",
       "        <td style=\"padding-left: 1em; padding-right: 1em; text-align: center; vertical-align: top\">124603</td>\n",
       "        <td style=\"padding-left: 1em; padding-right: 1em; text-align: center; vertical-align: top\">1</td>\n",
       "    </tr>\n",
       "    <tr>\n",
       "        <td style=\"padding-left: 1em; padding-right: 1em; text-align: center; vertical-align: top\">1713061</td>\n",
       "        <td style=\"padding-left: 1em; padding-right: 1em; text-align: center; vertical-align: top\">123678</td>\n",
       "        <td style=\"padding-left: 1em; padding-right: 1em; text-align: center; vertical-align: top\">1</td>\n",
       "    </tr>\n",
       "    <tr>\n",
       "        <td style=\"padding-left: 1em; padding-right: 1em; text-align: center; vertical-align: top\">1781784</td>\n",
       "        <td style=\"padding-left: 1em; padding-right: 1em; text-align: center; vertical-align: top\">920091</td>\n",
       "        <td style=\"padding-left: 1em; padding-right: 1em; text-align: center; vertical-align: top\">2</td>\n",
       "    </tr>\n",
       "    <tr>\n",
       "        <td style=\"padding-left: 1em; padding-right: 1em; text-align: center; vertical-align: top\">933401</td>\n",
       "        <td style=\"padding-left: 1em; padding-right: 1em; text-align: center; vertical-align: top\">121716</td>\n",
       "        <td style=\"padding-left: 1em; padding-right: 1em; text-align: center; vertical-align: top\">1</td>\n",
       "    </tr>\n",
       "    <tr>\n",
       "        <td style=\"padding-left: 1em; padding-right: 1em; text-align: center; vertical-align: top\">1806862</td>\n",
       "        <td style=\"padding-left: 1em; padding-right: 1em; text-align: center; vertical-align: top\">123434</td>\n",
       "        <td style=\"padding-left: 1em; padding-right: 1em; text-align: center; vertical-align: top\">2</td>\n",
       "    </tr>\n",
       "    <tr>\n",
       "        <td style=\"padding-left: 1em; padding-right: 1em; text-align: center; vertical-align: top\">1710364</td>\n",
       "        <td style=\"padding-left: 1em; padding-right: 1em; text-align: center; vertical-align: top\">920088</td>\n",
       "        <td style=\"padding-left: 1em; padding-right: 1em; text-align: center; vertical-align: top\">1</td>\n",
       "    </tr>\n",
       "    <tr>\n",
       "        <td style=\"padding-left: 1em; padding-right: 1em; text-align: center; vertical-align: top\">1749416</td>\n",
       "        <td style=\"padding-left: 1em; padding-right: 1em; text-align: center; vertical-align: top\">124411</td>\n",
       "        <td style=\"padding-left: 1em; padding-right: 1em; text-align: center; vertical-align: top\">1</td>\n",
       "    </tr>\n",
       "    <tr>\n",
       "        <td style=\"padding-left: 1em; padding-right: 1em; text-align: center; vertical-align: top\">1759753</td>\n",
       "        <td style=\"padding-left: 1em; padding-right: 1em; text-align: center; vertical-align: top\">920082</td>\n",
       "        <td style=\"padding-left: 1em; padding-right: 1em; text-align: center; vertical-align: top\">2</td>\n",
       "    </tr>\n",
       "    <tr>\n",
       "        <td style=\"padding-left: 1em; padding-right: 1em; text-align: center; vertical-align: top\">1747184</td>\n",
       "        <td style=\"padding-left: 1em; padding-right: 1em; text-align: center; vertical-align: top\">124411</td>\n",
       "        <td style=\"padding-left: 1em; padding-right: 1em; text-align: center; vertical-align: top\">1</td>\n",
       "    </tr>\n",
       "    <tr>\n",
       "        <td style=\"padding-left: 1em; padding-right: 1em; text-align: center; vertical-align: top\">1761096</td>\n",
       "        <td style=\"padding-left: 1em; padding-right: 1em; text-align: center; vertical-align: top\">124411</td>\n",
       "        <td style=\"padding-left: 1em; padding-right: 1em; text-align: center; vertical-align: top\">1</td>\n",
       "    </tr>\n",
       "</table>\n",
       "[19570 rows x 3 columns]<br/>Note: Only the head of the SFrame is printed.<br/>You can use print_rows(num_rows=m, num_columns=n) to print more rows and columns.\n",
       "</div>"
      ],
      "text/plain": [
       "Columns:\n",
       "\tcustomerId\tint\n",
       "\tproductId\tint\n",
       "\tpurchase_count\tint\n",
       "\n",
       "Rows: 19570\n",
       "\n",
       "Data:\n",
       "+------------+-----------+----------------+\n",
       "| customerId | productId | purchase_count |\n",
       "+------------+-----------+----------------+\n",
       "|  1803867   |   124603  |       1        |\n",
       "|  1713061   |   123678  |       1        |\n",
       "|  1781784   |   920091  |       2        |\n",
       "|   933401   |   121716  |       1        |\n",
       "|  1806862   |   123434  |       2        |\n",
       "|  1710364   |   920088  |       1        |\n",
       "|  1749416   |   124411  |       1        |\n",
       "|  1759753   |   920082  |       2        |\n",
       "|  1747184   |   124411  |       1        |\n",
       "|  1761096   |   124411  |       1        |\n",
       "+------------+-----------+----------------+\n",
       "[19570 rows x 3 columns]\n",
       "Note: Only the head of the SFrame is printed.\n",
       "You can use print_rows(num_rows=m, num_columns=n) to print more rows and columns."
      ]
     },
     "execution_count": 18,
     "metadata": {},
     "output_type": "execute_result"
    }
   ],
   "source": [
    "train_data"
   ]
  },
  {
   "cell_type": "code",
   "execution_count": 19,
   "metadata": {},
   "outputs": [
    {
     "data": {
      "text/html": [
       "<div style=\"max-height:1000px;max-width:1500px;overflow:auto;\"><table frame=\"box\" rules=\"cols\">\n",
       "    <tr>\n",
       "        <th style=\"padding-left: 1em; padding-right: 1em; text-align: center\">customerId</th>\n",
       "        <th style=\"padding-left: 1em; padding-right: 1em; text-align: center\">productId</th>\n",
       "        <th style=\"padding-left: 1em; padding-right: 1em; text-align: center\">purchase_count</th>\n",
       "    </tr>\n",
       "    <tr>\n",
       "        <td style=\"padding-left: 1em; padding-right: 1em; text-align: center; vertical-align: top\">1780259</td>\n",
       "        <td style=\"padding-left: 1em; padding-right: 1em; text-align: center; vertical-align: top\">920088</td>\n",
       "        <td style=\"padding-left: 1em; padding-right: 1em; text-align: center; vertical-align: top\">2</td>\n",
       "    </tr>\n",
       "    <tr>\n",
       "        <td style=\"padding-left: 1em; padding-right: 1em; text-align: center; vertical-align: top\">1792380</td>\n",
       "        <td style=\"padding-left: 1em; padding-right: 1em; text-align: center; vertical-align: top\">920081</td>\n",
       "        <td style=\"padding-left: 1em; padding-right: 1em; text-align: center; vertical-align: top\">1</td>\n",
       "    </tr>\n",
       "    <tr>\n",
       "        <td style=\"padding-left: 1em; padding-right: 1em; text-align: center; vertical-align: top\">1759157</td>\n",
       "        <td style=\"padding-left: 1em; padding-right: 1em; text-align: center; vertical-align: top\">10006</td>\n",
       "        <td style=\"padding-left: 1em; padding-right: 1em; text-align: center; vertical-align: top\">1</td>\n",
       "    </tr>\n",
       "    <tr>\n",
       "        <td style=\"padding-left: 1em; padding-right: 1em; text-align: center; vertical-align: top\">1832794</td>\n",
       "        <td style=\"padding-left: 1em; padding-right: 1em; text-align: center; vertical-align: top\">920094</td>\n",
       "        <td style=\"padding-left: 1em; padding-right: 1em; text-align: center; vertical-align: top\">1</td>\n",
       "    </tr>\n",
       "    <tr>\n",
       "        <td style=\"padding-left: 1em; padding-right: 1em; text-align: center; vertical-align: top\">1727817</td>\n",
       "        <td style=\"padding-left: 1em; padding-right: 1em; text-align: center; vertical-align: top\">124392</td>\n",
       "        <td style=\"padding-left: 1em; padding-right: 1em; text-align: center; vertical-align: top\">1</td>\n",
       "    </tr>\n",
       "    <tr>\n",
       "        <td style=\"padding-left: 1em; padding-right: 1em; text-align: center; vertical-align: top\">1763534</td>\n",
       "        <td style=\"padding-left: 1em; padding-right: 1em; text-align: center; vertical-align: top\">123743</td>\n",
       "        <td style=\"padding-left: 1em; padding-right: 1em; text-align: center; vertical-align: top\">1</td>\n",
       "    </tr>\n",
       "    <tr>\n",
       "        <td style=\"padding-left: 1em; padding-right: 1em; text-align: center; vertical-align: top\">1724764</td>\n",
       "        <td style=\"padding-left: 1em; padding-right: 1em; text-align: center; vertical-align: top\">920085</td>\n",
       "        <td style=\"padding-left: 1em; padding-right: 1em; text-align: center; vertical-align: top\">1</td>\n",
       "    </tr>\n",
       "    <tr>\n",
       "        <td style=\"padding-left: 1em; padding-right: 1em; text-align: center; vertical-align: top\">1795768</td>\n",
       "        <td style=\"padding-left: 1em; padding-right: 1em; text-align: center; vertical-align: top\">123487</td>\n",
       "        <td style=\"padding-left: 1em; padding-right: 1em; text-align: center; vertical-align: top\">1</td>\n",
       "    </tr>\n",
       "    <tr>\n",
       "        <td style=\"padding-left: 1em; padding-right: 1em; text-align: center; vertical-align: top\">1730200</td>\n",
       "        <td style=\"padding-left: 1em; padding-right: 1em; text-align: center; vertical-align: top\">120601</td>\n",
       "        <td style=\"padding-left: 1em; padding-right: 1em; text-align: center; vertical-align: top\">1</td>\n",
       "    </tr>\n",
       "    <tr>\n",
       "        <td style=\"padding-left: 1em; padding-right: 1em; text-align: center; vertical-align: top\">1252386</td>\n",
       "        <td style=\"padding-left: 1em; padding-right: 1em; text-align: center; vertical-align: top\">920080</td>\n",
       "        <td style=\"padding-left: 1em; padding-right: 1em; text-align: center; vertical-align: top\">1</td>\n",
       "    </tr>\n",
       "</table>\n",
       "[4893 rows x 3 columns]<br/>Note: Only the head of the SFrame is printed.<br/>You can use print_rows(num_rows=m, num_columns=n) to print more rows and columns.\n",
       "</div>"
      ],
      "text/plain": [
       "Columns:\n",
       "\tcustomerId\tint\n",
       "\tproductId\tint\n",
       "\tpurchase_count\tint\n",
       "\n",
       "Rows: 4893\n",
       "\n",
       "Data:\n",
       "+------------+-----------+----------------+\n",
       "| customerId | productId | purchase_count |\n",
       "+------------+-----------+----------------+\n",
       "|  1780259   |   920088  |       2        |\n",
       "|  1792380   |   920081  |       1        |\n",
       "|  1759157   |   10006   |       1        |\n",
       "|  1832794   |   920094  |       1        |\n",
       "|  1727817   |   124392  |       1        |\n",
       "|  1763534   |   123743  |       1        |\n",
       "|  1724764   |   920085  |       1        |\n",
       "|  1795768   |   123487  |       1        |\n",
       "|  1730200   |   120601  |       1        |\n",
       "|  1252386   |   920080  |       1        |\n",
       "+------------+-----------+----------------+\n",
       "[4893 rows x 3 columns]\n",
       "Note: Only the head of the SFrame is printed.\n",
       "You can use print_rows(num_rows=m, num_columns=n) to print more rows and columns."
      ]
     },
     "execution_count": 19,
     "metadata": {},
     "output_type": "execute_result"
    }
   ],
   "source": [
    "test_data"
   ]
  },
  {
   "cell_type": "markdown",
   "metadata": {},
   "source": [
    "#### Defina uma função `split_data` para dividir dados no conjunto de treinamento e teste"
   ]
  },
  {
   "cell_type": "code",
   "execution_count": 21,
   "metadata": {},
   "outputs": [],
   "source": [
    "# Podemos definir uma função para esta etapa da seguinte maneira\n",
    "\n",
    "def split_data(data):\n",
    "    '''\n",
    "    Splits dataset into training and test set.\n",
    "    \n",
    "    Args:\n",
    "        data (pandas.DataFrame)\n",
    "        \n",
    "    Returns\n",
    "        train_data (tc.SFrame)\n",
    "        test_data (tc.SFrame)\n",
    "    '''\n",
    "    train, test = train_test_split(data, test_size = .2)\n",
    "    train_data = tc.SFrame(train)\n",
    "    test_data = tc.SFrame(test)\n",
    "    return train_data, test_data"
   ]
  },
  {
   "cell_type": "code",
   "execution_count": 22,
   "metadata": {},
   "outputs": [],
   "source": [
    "# Vamos tentar com tabela dummy e com a tabela de compra escalada/normalizada\n",
    "\n",
    "train_data_dummy, test_data_dummy = split_data(data_dummy)\n",
    "train_data_norm, test_data_norm = split_data(data_norm)"
   ]
  },
  {
   "cell_type": "markdown",
   "metadata": {},
   "source": [
    "## 5. Modelo Baseline\n",
    "Antes de executar uma abordagem mais complicada, como a filtragem colaborativa, gostaríamos de usar um modelo de linha de base para comparar e avaliar modelos. Como a linha de base geralmente usa uma abordagem muito simples, as técnicas usadas além dessa abordagem devem ser escolhidas se mostrarem uma precisão e complexidade relativamente melhores.\n",
    "\n",
    "### 5.1. Usando um modelo de popularidade como linha de base\n",
    "* O modelo de popularidade leva os itens mais populares para recomendação. Esses itens são produtos com o maior número de vendas entre clientes.\n",
    "* Usamos a biblioteca `turicreate` para executar e avaliar os modelos de filtragem de linha de base e de colaboração abaixo\n",
    "* Os dados de treinamento são usados para a seleção do modelo\n",
    "\n",
    "#### Usando contagens de compra"
   ]
  },
  {
   "cell_type": "code",
   "execution_count": 23,
   "metadata": {},
   "outputs": [],
   "source": [
    "# Variaveis para definir os nomes dos campos\n",
    "user_id = 'customerId'\n",
    "item_id = 'productId'\n",
    "target = 'purchase_count'\n",
    "users_to_recommend = list(transactions[user_id])\n",
    "n_rec = 10 # número de ítens para recomendar\n",
    "n_display = 30"
   ]
  },
  {
   "cell_type": "code",
   "execution_count": 26,
   "metadata": {},
   "outputs": [
    {
     "data": {
      "text/html": [
       "<pre>Preparing data set.</pre>"
      ],
      "text/plain": [
       "Preparing data set."
      ]
     },
     "metadata": {},
     "output_type": "display_data"
    },
    {
     "data": {
      "text/html": [
       "<pre>    Data has 19570 observations with 7205 users and 708 items.</pre>"
      ],
      "text/plain": [
       "    Data has 19570 observations with 7205 users and 708 items."
      ]
     },
     "metadata": {},
     "output_type": "display_data"
    },
    {
     "data": {
      "text/html": [
       "<pre>    Data prepared in: 0.054189s</pre>"
      ],
      "text/plain": [
       "    Data prepared in: 0.054189s"
      ]
     },
     "metadata": {},
     "output_type": "display_data"
    },
    {
     "data": {
      "text/html": [
       "<pre>19570 observations to process; with 708 unique items.</pre>"
      ],
      "text/plain": [
       "19570 observations to process; with 708 unique items."
      ]
     },
     "metadata": {},
     "output_type": "display_data"
    }
   ],
   "source": [
    "popularity_model = tc.popularity_recommender.create(train_data, \n",
    "                                                    user_id=user_id, \n",
    "                                                    item_id=item_id, \n",
    "                                                    target=target)"
   ]
  },
  {
   "cell_type": "code",
   "execution_count": 28,
   "metadata": {},
   "outputs": [
    {
     "data": {
      "text/html": [
       "<pre>recommendations finished on 1000/7987 queries. users per second: 35272.1</pre>"
      ],
      "text/plain": [
       "recommendations finished on 1000/7987 queries. users per second: 35272.1"
      ]
     },
     "metadata": {},
     "output_type": "display_data"
    },
    {
     "data": {
      "text/html": [
       "<pre>recommendations finished on 2000/7987 queries. users per second: 59831.9</pre>"
      ],
      "text/plain": [
       "recommendations finished on 2000/7987 queries. users per second: 59831.9"
      ]
     },
     "metadata": {},
     "output_type": "display_data"
    },
    {
     "data": {
      "text/html": [
       "<pre>recommendations finished on 3000/7987 queries. users per second: 75924.4</pre>"
      ],
      "text/plain": [
       "recommendations finished on 3000/7987 queries. users per second: 75924.4"
      ]
     },
     "metadata": {},
     "output_type": "display_data"
    },
    {
     "name": "stdout",
     "output_type": "stream",
     "text": [
      "+------------+-----------+--------------------+------+\n",
      "| customerId | productId |       score        | rank |\n",
      "+------------+-----------+--------------------+------+\n",
      "|  1076254   |   124838  |        2.0         |  1   |\n",
      "|  1076254   |   124738  |        2.0         |  2   |\n",
      "|  1076254   |   123123  |        2.0         |  3   |\n",
      "|  1076254   |   124788  |        2.0         |  4   |\n",
      "|  1076254   |   124136  |        2.0         |  5   |\n",
      "|  1076254   |   124074  | 1.6666666666666667 |  6   |\n",
      "|  1076254   |   124568  | 1.6666666666666667 |  7   |\n",
      "|  1076254   |   123429  |        1.5         |  8   |\n",
      "|  1076254   |   124689  |        1.5         |  9   |\n",
      "|  1076254   |   124517  |        1.5         |  10  |\n",
      "|  1268548   |   124838  |        2.0         |  1   |\n",
      "|  1268548   |   124738  |        2.0         |  2   |\n",
      "|  1268548   |   123123  |        2.0         |  3   |\n",
      "|  1268548   |   124788  |        2.0         |  4   |\n",
      "|  1268548   |   124136  |        2.0         |  5   |\n",
      "|  1268548   |   124074  | 1.6666666666666667 |  6   |\n",
      "|  1268548   |   124568  | 1.6666666666666667 |  7   |\n",
      "|  1268548   |   123429  |        1.5         |  8   |\n",
      "|  1268548   |   124689  |        1.5         |  9   |\n",
      "|  1268548   |   124517  |        1.5         |  10  |\n",
      "|  1709459   |   124838  |        2.0         |  1   |\n",
      "|  1709459   |   124738  |        2.0         |  2   |\n",
      "|  1709459   |   123123  |        2.0         |  3   |\n",
      "|  1709459   |   124788  |        2.0         |  4   |\n",
      "|  1709459   |   124136  |        2.0         |  5   |\n",
      "|  1709459   |   124074  | 1.6666666666666667 |  6   |\n",
      "|  1709459   |   124568  | 1.6666666666666667 |  7   |\n",
      "|  1709459   |   123429  |        1.5         |  8   |\n",
      "|  1709459   |   124689  |        1.5         |  9   |\n",
      "|  1709459   |   124517  |        1.5         |  10  |\n",
      "+------------+-----------+--------------------+------+\n",
      "[79870 rows x 4 columns]\n",
      "\n"
     ]
    },
    {
     "data": {
      "text/html": [
       "<pre>recommendations finished on 4000/7987 queries. users per second: 89130.5</pre>"
      ],
      "text/plain": [
       "recommendations finished on 4000/7987 queries. users per second: 89130.5"
      ]
     },
     "metadata": {},
     "output_type": "display_data"
    },
    {
     "data": {
      "text/html": [
       "<pre>recommendations finished on 5000/7987 queries. users per second: 93040.6</pre>"
      ],
      "text/plain": [
       "recommendations finished on 5000/7987 queries. users per second: 93040.6"
      ]
     },
     "metadata": {},
     "output_type": "display_data"
    },
    {
     "data": {
      "text/html": [
       "<pre>recommendations finished on 6000/7987 queries. users per second: 100157</pre>"
      ],
      "text/plain": [
       "recommendations finished on 6000/7987 queries. users per second: 100157"
      ]
     },
     "metadata": {},
     "output_type": "display_data"
    },
    {
     "data": {
      "text/html": [
       "<pre>recommendations finished on 7000/7987 queries. users per second: 105414</pre>"
      ],
      "text/plain": [
       "recommendations finished on 7000/7987 queries. users per second: 105414"
      ]
     },
     "metadata": {},
     "output_type": "display_data"
    }
   ],
   "source": [
    "# Obtenha recomendações para uma lista de usuários a recomendar (do arquivo de clientes)\n",
    "# A seguir, estão impressas as principais / 30 principais linhas para os 3 primeiros clientes, com 10 recomendações cada\n",
    "\n",
    "popularity_recomm = popularity_model.recommend(users=users_to_recommend, k=n_rec)\n",
    "popularity_recomm.print_rows(n_display)"
   ]
  },
  {
   "cell_type": "markdown",
   "metadata": {},
   "source": [
    "#### Define a `model` function for model selection"
   ]
  },
  {
   "cell_type": "code",
   "execution_count": 33,
   "metadata": {},
   "outputs": [],
   "source": [
    "# Como turicreate é uma biblioteca muito acessível, podemos definir uma função de seleção de modelo como abaixo\n",
    "\n",
    "def model(train_data, name, user_id, item_id, target, users_to_recommend, n_rec, n_display):\n",
    "    if name == 'popularity':\n",
    "        model = tc.popularity_recommender.create(train_data, \n",
    "                                                    user_id=user_id, \n",
    "                                                    item_id=item_id, \n",
    "                                                    target=target)\n",
    "    elif name == 'cosine':\n",
    "        model = tc.item_similarity_recommender.create(train_data, \n",
    "                                                    user_id=user_id, \n",
    "                                                    item_id=item_id, \n",
    "                                                    target=target, \n",
    "                                                    similarity_type='cosine')\n",
    "    elif name == 'pearson':\n",
    "        model = tc.item_similarity_recommender.create(train_data, \n",
    "                                                    user_id=user_id, \n",
    "                                                    item_id=item_id, \n",
    "                                                    target=target, \n",
    "                                                    similarity_type='pearson')\n",
    "        \n",
    "    recom = model.recommend(users=users_to_recommend, k=n_rec)\n",
    "    recom.print_rows(n_display)\n",
    "    return model"
   ]
  },
  {
   "cell_type": "code",
   "execution_count": 34,
   "metadata": {},
   "outputs": [],
   "source": [
    "# variáveis para definir os nomes dos campos\n",
    "# variaveis constantes incluídas:\n",
    "user_id = 'customerId'\n",
    "item_id = 'productId'\n",
    "users_to_recommend = list(customers[user_id])\n",
    "n_rec = 10 # número da lista para recomendar\n",
    "n_display = 30 # para mostrar o cabeçalho / primeiras linhas em um conjunto de dados definido"
   ]
  },
  {
   "cell_type": "markdown",
   "metadata": {},
   "source": [
    "#### Usando as compras do dummy"
   ]
  },
  {
   "cell_type": "code",
   "execution_count": 35,
   "metadata": {},
   "outputs": [
    {
     "data": {
      "text/html": [
       "<pre>Warning: Ignoring columns purchase_count;</pre>"
      ],
      "text/plain": [
       "Warning: Ignoring columns purchase_count;"
      ]
     },
     "metadata": {},
     "output_type": "display_data"
    },
    {
     "data": {
      "text/html": [
       "<pre>    To use these columns in scoring predictions, use a model that allows the use of additional features.</pre>"
      ],
      "text/plain": [
       "    To use these columns in scoring predictions, use a model that allows the use of additional features."
      ]
     },
     "metadata": {},
     "output_type": "display_data"
    },
    {
     "data": {
      "text/html": [
       "<pre>Preparing data set.</pre>"
      ],
      "text/plain": [
       "Preparing data set."
      ]
     },
     "metadata": {},
     "output_type": "display_data"
    },
    {
     "data": {
      "text/html": [
       "<pre>    Data has 19570 observations with 7173 users and 701 items.</pre>"
      ],
      "text/plain": [
       "    Data has 19570 observations with 7173 users and 701 items."
      ]
     },
     "metadata": {},
     "output_type": "display_data"
    },
    {
     "data": {
      "text/html": [
       "<pre>    Data prepared in: 0.089739s</pre>"
      ],
      "text/plain": [
       "    Data prepared in: 0.089739s"
      ]
     },
     "metadata": {},
     "output_type": "display_data"
    },
    {
     "data": {
      "text/html": [
       "<pre>19570 observations to process; with 701 unique items.</pre>"
      ],
      "text/plain": [
       "19570 observations to process; with 701 unique items."
      ]
     },
     "metadata": {},
     "output_type": "display_data"
    },
    {
     "data": {
      "text/html": [
       "<pre>recommendations finished on 1000/7987 queries. users per second: 72353.7</pre>"
      ],
      "text/plain": [
       "recommendations finished on 1000/7987 queries. users per second: 72353.7"
      ]
     },
     "metadata": {},
     "output_type": "display_data"
    },
    {
     "data": {
      "text/html": [
       "<pre>recommendations finished on 2000/7987 queries. users per second: 97871.3</pre>"
      ],
      "text/plain": [
       "recommendations finished on 2000/7987 queries. users per second: 97871.3"
      ]
     },
     "metadata": {},
     "output_type": "display_data"
    },
    {
     "data": {
      "text/html": [
       "<pre>recommendations finished on 3000/7987 queries. users per second: 101238</pre>"
      ],
      "text/plain": [
       "recommendations finished on 3000/7987 queries. users per second: 101238"
      ]
     },
     "metadata": {},
     "output_type": "display_data"
    },
    {
     "data": {
      "text/html": [
       "<pre>recommendations finished on 4000/7987 queries. users per second: 84686.6</pre>"
      ],
      "text/plain": [
       "recommendations finished on 4000/7987 queries. users per second: 84686.6"
      ]
     },
     "metadata": {},
     "output_type": "display_data"
    },
    {
     "data": {
      "text/html": [
       "<pre>recommendations finished on 5000/7987 queries. users per second: 85844.3</pre>"
      ],
      "text/plain": [
       "recommendations finished on 5000/7987 queries. users per second: 85844.3"
      ]
     },
     "metadata": {},
     "output_type": "display_data"
    },
    {
     "data": {
      "text/html": [
       "<pre>recommendations finished on 6000/7987 queries. users per second: 89229.9</pre>"
      ],
      "text/plain": [
       "recommendations finished on 6000/7987 queries. users per second: 89229.9"
      ]
     },
     "metadata": {},
     "output_type": "display_data"
    },
    {
     "data": {
      "text/html": [
       "<pre>recommendations finished on 7000/7987 queries. users per second: 76799.9</pre>"
      ],
      "text/plain": [
       "recommendations finished on 7000/7987 queries. users per second: 76799.9"
      ]
     },
     "metadata": {},
     "output_type": "display_data"
    },
    {
     "name": "stdout",
     "output_type": "stream",
     "text": [
      "+------------+-----------+-------+------+\n",
      "| customerId | productId | score | rank |\n",
      "+------------+-----------+-------+------+\n",
      "|  1076254   |   121413  |  1.0  |  1   |\n",
      "|  1076254   |   121439  |  1.0  |  2   |\n",
      "|  1076254   |   920088  |  1.0  |  3   |\n",
      "|  1076254   |   122180  |  1.0  |  4   |\n",
      "|  1076254   |   920085  |  1.0  |  5   |\n",
      "|  1076254   |   124640  |  1.0  |  6   |\n",
      "|  1076254   |   920084  |  1.0  |  7   |\n",
      "|  1076254   |   920086  |  1.0  |  8   |\n",
      "|  1076254   |   123235  |  1.0  |  9   |\n",
      "|  1076254   |   124411  |  1.0  |  10  |\n",
      "|  1268548   |   121439  |  1.0  |  1   |\n",
      "|  1268548   |   920088  |  1.0  |  2   |\n",
      "|  1268548   |   122180  |  1.0  |  3   |\n",
      "|  1268548   |   920085  |  1.0  |  4   |\n",
      "|  1268548   |   124640  |  1.0  |  5   |\n",
      "|  1268548   |   920084  |  1.0  |  6   |\n",
      "|  1268548   |   920086  |  1.0  |  7   |\n",
      "|  1268548   |   123235  |  1.0  |  8   |\n",
      "|  1268548   |   920089  |  1.0  |  9   |\n",
      "|  1268548   |   124411  |  1.0  |  10  |\n",
      "|  1709459   |   121439  |  1.0  |  1   |\n",
      "|  1709459   |   920088  |  1.0  |  2   |\n",
      "|  1709459   |   122180  |  1.0  |  3   |\n",
      "|  1709459   |   920085  |  1.0  |  4   |\n",
      "|  1709459   |   124640  |  1.0  |  5   |\n",
      "|  1709459   |   920084  |  1.0  |  6   |\n",
      "|  1709459   |   920086  |  1.0  |  7   |\n",
      "|  1709459   |   123235  |  1.0  |  8   |\n",
      "|  1709459   |   920089  |  1.0  |  9   |\n",
      "|  1709459   |   124411  |  1.0  |  10  |\n",
      "+------------+-----------+-------+------+\n",
      "[79870 rows x 4 columns]\n",
      "\n"
     ]
    }
   ],
   "source": [
    "# essas variáveis mudarão de acordo\n",
    "name = 'popularity'\n",
    "target = 'purchase_dummy'\n",
    "pop_dummy = model(train_data_dummy, name, user_id, item_id, target, users_to_recommend, n_rec, n_display)"
   ]
  },
  {
   "cell_type": "markdown",
   "metadata": {},
   "source": [
    "#### Usando a contagem normalizada de compras"
   ]
  },
  {
   "cell_type": "code",
   "execution_count": 36,
   "metadata": {},
   "outputs": [
    {
     "data": {
      "text/html": [
       "<pre>Preparing data set.</pre>"
      ],
      "text/plain": [
       "Preparing data set."
      ]
     },
     "metadata": {},
     "output_type": "display_data"
    },
    {
     "data": {
      "text/html": [
       "<pre>    Data has 16596 observations with 6574 users and 244 items.</pre>"
      ],
      "text/plain": [
       "    Data has 16596 observations with 6574 users and 244 items."
      ]
     },
     "metadata": {},
     "output_type": "display_data"
    },
    {
     "data": {
      "text/html": [
       "<pre>    Data prepared in: 0.044321s</pre>"
      ],
      "text/plain": [
       "    Data prepared in: 0.044321s"
      ]
     },
     "metadata": {},
     "output_type": "display_data"
    },
    {
     "data": {
      "text/html": [
       "<pre>16596 observations to process; with 244 unique items.</pre>"
      ],
      "text/plain": [
       "16596 observations to process; with 244 unique items."
      ]
     },
     "metadata": {},
     "output_type": "display_data"
    },
    {
     "data": {
      "text/html": [
       "<pre>recommendations finished on 1000/7987 queries. users per second: 83619</pre>"
      ],
      "text/plain": [
       "recommendations finished on 1000/7987 queries. users per second: 83619"
      ]
     },
     "metadata": {},
     "output_type": "display_data"
    },
    {
     "data": {
      "text/html": [
       "<pre>recommendations finished on 2000/7987 queries. users per second: 115433</pre>"
      ],
      "text/plain": [
       "recommendations finished on 2000/7987 queries. users per second: 115433"
      ]
     },
     "metadata": {},
     "output_type": "display_data"
    },
    {
     "data": {
      "text/html": [
       "<pre>recommendations finished on 3000/7987 queries. users per second: 124693</pre>"
      ],
      "text/plain": [
       "recommendations finished on 3000/7987 queries. users per second: 124693"
      ]
     },
     "metadata": {},
     "output_type": "display_data"
    },
    {
     "data": {
      "text/html": [
       "<pre>recommendations finished on 4000/7987 queries. users per second: 141884</pre>"
      ],
      "text/plain": [
       "recommendations finished on 4000/7987 queries. users per second: 141884"
      ]
     },
     "metadata": {},
     "output_type": "display_data"
    },
    {
     "data": {
      "text/html": [
       "<pre>recommendations finished on 5000/7987 queries. users per second: 155145</pre>"
      ],
      "text/plain": [
       "recommendations finished on 5000/7987 queries. users per second: 155145"
      ]
     },
     "metadata": {},
     "output_type": "display_data"
    },
    {
     "data": {
      "text/html": [
       "<pre>recommendations finished on 6000/7987 queries. users per second: 161756</pre>"
      ],
      "text/plain": [
       "recommendations finished on 6000/7987 queries. users per second: 161756"
      ]
     },
     "metadata": {},
     "output_type": "display_data"
    },
    {
     "data": {
      "text/html": [
       "<pre>recommendations finished on 7000/7987 queries. users per second: 161588</pre>"
      ],
      "text/plain": [
       "recommendations finished on 7000/7987 queries. users per second: 161588"
      ]
     },
     "metadata": {},
     "output_type": "display_data"
    },
    {
     "name": "stdout",
     "output_type": "stream",
     "text": [
      "+------------+-----------+--------------------+------+\n",
      "| customerId | productId |       score        | rank |\n",
      "+------------+-----------+--------------------+------+\n",
      "|  1076254   |   124193  |        1.0         |  1   |\n",
      "|  1076254   |   123429  |        1.0         |  2   |\n",
      "|  1076254   |   120386  |        1.0         |  3   |\n",
      "|  1076254   |   124290  | 0.5714285714285714 |  4   |\n",
      "|  1076254   |   123123  |        0.5         |  5   |\n",
      "|  1076254   |   124517  |        0.5         |  6   |\n",
      "|  1076254   |   124669  |        0.5         |  7   |\n",
      "|  1076254   |   124074  |        0.5         |  8   |\n",
      "|  1076254   |   124412  |        0.5         |  9   |\n",
      "|  1076254   |   120976  | 0.3333333333333333 |  10  |\n",
      "|  1268548   |   124193  |        1.0         |  1   |\n",
      "|  1268548   |   123429  |        1.0         |  2   |\n",
      "|  1268548   |   120386  |        1.0         |  3   |\n",
      "|  1268548   |   124290  | 0.5714285714285714 |  4   |\n",
      "|  1268548   |   123123  |        0.5         |  5   |\n",
      "|  1268548   |   124517  |        0.5         |  6   |\n",
      "|  1268548   |   124669  |        0.5         |  7   |\n",
      "|  1268548   |   124074  |        0.5         |  8   |\n",
      "|  1268548   |   124412  |        0.5         |  9   |\n",
      "|  1268548   |   120976  | 0.3333333333333333 |  10  |\n",
      "|  1709459   |   124193  |        1.0         |  1   |\n",
      "|  1709459   |   123429  |        1.0         |  2   |\n",
      "|  1709459   |   120386  |        1.0         |  3   |\n",
      "|  1709459   |   124290  | 0.5714285714285714 |  4   |\n",
      "|  1709459   |   123123  |        0.5         |  5   |\n",
      "|  1709459   |   124517  |        0.5         |  6   |\n",
      "|  1709459   |   124669  |        0.5         |  7   |\n",
      "|  1709459   |   124074  |        0.5         |  8   |\n",
      "|  1709459   |   124412  |        0.5         |  9   |\n",
      "|  1709459   |   120976  | 0.3333333333333333 |  10  |\n",
      "+------------+-----------+--------------------+------+\n",
      "[79870 rows x 4 columns]\n",
      "\n"
     ]
    }
   ],
   "source": [
    "name = 'popularity'\n",
    "target = 'scaled_purchase_freq'\n",
    "pop_norm = model(train_data_norm, name, user_id, item_id, target, users_to_recommend, n_rec, n_display)"
   ]
  },
  {
   "cell_type": "markdown",
   "metadata": {},
   "source": [
    "#### Notas\n",
    "* Depois de criar o modelo, previmos os itens de recomendação usando pontuações por popularidade. Como você pode dizer para os resultados de cada modelo acima, as linhas mostram os 30 primeiros registros de 1000 usuários com 10 recomendações. Esses 30 registros incluem 3 usuários e seus itens recomendados, além de classificações e classificações decrescentes. \n",
    "* No resultado, embora modelos diferentes tenham uma lista de recomendações diferente, cada usuário é recomendado com a mesma lista de 10 itens. Isso ocorre porque a popularidade é calculada levando os itens mais populares para todos os usuários.\n",
    "* Se um exemplo de agrupamento abaixo, os produtos 132, 248, 37 e 34 forem os mais populares (mais vendidos) entre os clientes. Usando as contagens de compras divididas pelo número de clientes, vemos que esses produtos são comprados pelo menos três vezes em média no conjunto de transações de treinamento (o mesmo que a primeira medida de popularidade na variável `purchase_count`)"
   ]
  },
  {
   "cell_type": "code",
   "execution_count": 37,
   "metadata": {},
   "outputs": [
    {
     "data": {
      "text/plain": [
       "productId\n",
       "123123    2.000000\n",
       "124788    2.000000\n",
       "124738    2.000000\n",
       "124136    2.000000\n",
       "124838    2.000000\n",
       "124074    1.666667\n",
       "124568    1.666667\n",
       "123429    1.500000\n",
       "124517    1.500000\n",
       "124475    1.500000\n",
       "124689    1.500000\n",
       "124386    1.500000\n",
       "124290    1.444444\n",
       "124412    1.400000\n",
       "123553    1.333333\n",
       "124659    1.333333\n",
       "124693    1.333333\n",
       "123480    1.333333\n",
       "124859    1.333333\n",
       "124697    1.333333\n",
       "Name: purchase_count, dtype: float64"
      ]
     },
     "execution_count": 37,
     "metadata": {},
     "output_type": "execute_result"
    }
   ],
   "source": [
    "train.groupby(by=item_id)['purchase_count'].mean().sort_values(ascending=False).head(20)"
   ]
  },
  {
   "cell_type": "markdown",
   "metadata": {},
   "source": [
    "## 6. Modelo de filtragem colaborativa\n",
    "\n",
    "* Na filtragem colaborativa, recomendamos itens com base em como usuários semelhantes compram itens. Por exemplo, se o cliente 1 e o cliente 2 compraram itens semelhantes, por exemplo, 1 comprou X, Y, Z e 2 comprou X, Y, recomendamos um item Z ao cliente 2.\n",
    "\n",
    "* Para definir semelhança entre os usuários, usamos as seguintes etapas:\n",
    "    1. Crie uma matriz de itens do usuário, em que os valores do índice representam IDs de clientes exclusivos e os valores da coluna representam IDs de produtos exclusivos\n",
    "    \n",
    "    2. Crie uma matriz de similaridade item a item. A idéia é calcular a semelhança entre um produto e outro. Existem várias maneiras de calcular isso. Nas etapas 6.1 e 6.2, usamos a medida de similaridade de cosseno e pearson, respectivamente. \n",
    "    \n",
    "        * Para calcular a semelhança entre os produtos X e Y, observe todos os clientes que classificaram esses dois itens. Por exemplo, X e Y foram classificados pelos clientes 1 e 2. \n",
    "        * Em seguida, criamos dois vetores de itens, v1 para o item X e v2 para o item Y, no espaço do usuário de (1, 2) e, em seguida, localizamos o ângulo / distância `coseno` ou` pearson` entre esses vetores. Um ângulo zero ou vetores sobrepostos com valor de cosseno de 1 significa similaridade total (ou por usuário, em todos os itens, há a mesma classificação) e um ângulo de 90 graus significaria cosseno de 0 ou nenhuma similaridade.\n",
    "        \n",
    "    3. Para cada cliente, prevemos sua probabilidade de comprar um produto (ou sua contagem de compra) para produtos que ele não comprou. \n",
    "    \n",
    "        * No nosso exemplo, calcularemos a classificação para o usuário 2 no caso do item Z (item de destino). Para calcular isso, pesamos a medida de similaridade recém-calculada entre o item de destino e outros itens que o cliente já comprou. O fator de pesagem é a contagem de compras dada pelo usuário aos itens já comprados por ele. \n",
    "        * Em seguida, escalamos essa soma ponderada com a soma das medidas de similaridade para que a classificação calculada permaneça dentro de limites predefinidos. Assim, a classificação prevista para o item Z para o usuário 2 seria calculada usando medidas de similaridade.\n",
    "\n",
    "* Embora eu tenha escrito scripts python para todo o processo, incluindo encontrar semelhança usando scripts python (que podem ser encontrados na pasta `scripts`, podemos usar a biblioteca` turicreate` por enquanto para capturar medidas diferentes, como usar distância `cosine` e` pearson`, e avaliar o melhor modelo"
   ]
  },
  {
   "cell_type": "markdown",
   "metadata": {},
   "source": [
    "### 6.1. Similaridade de `Cosine`\n",
    "* A semelhança é o cosseno do ângulo entre os 2 vetores dos itens de vetores de A e B\n",
    "* É definido pela seguinte fórmula\n",
    "![](https://encrypted-tbn0.gstatic.com/images?q=tbn:ANd9GcTnRHSAx1c084UXF2wIHYwaHJLmq2qKtNk_YIv3RjHUO00xwlkt)\n",
    "* Quanto mais próximos os vetores, menor será o ângulo e maior o cosseno"
   ]
  },
  {
   "cell_type": "markdown",
   "metadata": {},
   "source": [
    "#### Usando contagem de compras"
   ]
  },
  {
   "cell_type": "code",
   "execution_count": 38,
   "metadata": {},
   "outputs": [
    {
     "data": {
      "text/html": [
       "<pre>Preparing data set.</pre>"
      ],
      "text/plain": [
       "Preparing data set."
      ]
     },
     "metadata": {},
     "output_type": "display_data"
    },
    {
     "data": {
      "text/html": [
       "<pre>    Data has 19570 observations with 7205 users and 708 items.</pre>"
      ],
      "text/plain": [
       "    Data has 19570 observations with 7205 users and 708 items."
      ]
     },
     "metadata": {},
     "output_type": "display_data"
    },
    {
     "data": {
      "text/html": [
       "<pre>    Data prepared in: 0.080464s</pre>"
      ],
      "text/plain": [
       "    Data prepared in: 0.080464s"
      ]
     },
     "metadata": {},
     "output_type": "display_data"
    },
    {
     "data": {
      "text/html": [
       "<pre>Training model from provided data.</pre>"
      ],
      "text/plain": [
       "Training model from provided data."
      ]
     },
     "metadata": {},
     "output_type": "display_data"
    },
    {
     "data": {
      "text/html": [
       "<pre>Gathering per-item and per-user statistics.</pre>"
      ],
      "text/plain": [
       "Gathering per-item and per-user statistics."
      ]
     },
     "metadata": {},
     "output_type": "display_data"
    },
    {
     "data": {
      "text/html": [
       "<pre>+--------------------------------+------------+</pre>"
      ],
      "text/plain": [
       "+--------------------------------+------------+"
      ]
     },
     "metadata": {},
     "output_type": "display_data"
    },
    {
     "data": {
      "text/html": [
       "<pre>| Elapsed Time (Item Statistics) | % Complete |</pre>"
      ],
      "text/plain": [
       "| Elapsed Time (Item Statistics) | % Complete |"
      ]
     },
     "metadata": {},
     "output_type": "display_data"
    },
    {
     "data": {
      "text/html": [
       "<pre>+--------------------------------+------------+</pre>"
      ],
      "text/plain": [
       "+--------------------------------+------------+"
      ]
     },
     "metadata": {},
     "output_type": "display_data"
    },
    {
     "data": {
      "text/html": [
       "<pre>| 8.266ms                        | 27.75      |</pre>"
      ],
      "text/plain": [
       "| 8.266ms                        | 27.75      |"
      ]
     },
     "metadata": {},
     "output_type": "display_data"
    },
    {
     "data": {
      "text/html": [
       "<pre>| 19.144ms                       | 100        |</pre>"
      ],
      "text/plain": [
       "| 19.144ms                       | 100        |"
      ]
     },
     "metadata": {},
     "output_type": "display_data"
    },
    {
     "data": {
      "text/html": [
       "<pre>+--------------------------------+------------+</pre>"
      ],
      "text/plain": [
       "+--------------------------------+------------+"
      ]
     },
     "metadata": {},
     "output_type": "display_data"
    },
    {
     "data": {
      "text/html": [
       "<pre>Setting up lookup tables.</pre>"
      ],
      "text/plain": [
       "Setting up lookup tables."
      ]
     },
     "metadata": {},
     "output_type": "display_data"
    },
    {
     "data": {
      "text/html": [
       "<pre>Processing data in one pass using dense lookup tables.</pre>"
      ],
      "text/plain": [
       "Processing data in one pass using dense lookup tables."
      ]
     },
     "metadata": {},
     "output_type": "display_data"
    },
    {
     "data": {
      "text/html": [
       "<pre>+-------------------------------------+------------------+-----------------+</pre>"
      ],
      "text/plain": [
       "+-------------------------------------+------------------+-----------------+"
      ]
     },
     "metadata": {},
     "output_type": "display_data"
    },
    {
     "data": {
      "text/html": [
       "<pre>| Elapsed Time (Constructing Lookups) | Total % Complete | Items Processed |</pre>"
      ],
      "text/plain": [
       "| Elapsed Time (Constructing Lookups) | Total % Complete | Items Processed |"
      ]
     },
     "metadata": {},
     "output_type": "display_data"
    },
    {
     "data": {
      "text/html": [
       "<pre>+-------------------------------------+------------------+-----------------+</pre>"
      ],
      "text/plain": [
       "+-------------------------------------+------------------+-----------------+"
      ]
     },
     "metadata": {},
     "output_type": "display_data"
    },
    {
     "data": {
      "text/html": [
       "<pre>| 45.155ms                            | 97.5             | 691             |</pre>"
      ],
      "text/plain": [
       "| 45.155ms                            | 97.5             | 691             |"
      ]
     },
     "metadata": {},
     "output_type": "display_data"
    },
    {
     "data": {
      "text/html": [
       "<pre>| 68.78ms                             | 100              | 708             |</pre>"
      ],
      "text/plain": [
       "| 68.78ms                             | 100              | 708             |"
      ]
     },
     "metadata": {},
     "output_type": "display_data"
    },
    {
     "data": {
      "text/html": [
       "<pre>+-------------------------------------+------------------+-----------------+</pre>"
      ],
      "text/plain": [
       "+-------------------------------------+------------------+-----------------+"
      ]
     },
     "metadata": {},
     "output_type": "display_data"
    },
    {
     "data": {
      "text/html": [
       "<pre>Finalizing lookup tables.</pre>"
      ],
      "text/plain": [
       "Finalizing lookup tables."
      ]
     },
     "metadata": {},
     "output_type": "display_data"
    },
    {
     "data": {
      "text/html": [
       "<pre>Generating candidate set for working with new users.</pre>"
      ],
      "text/plain": [
       "Generating candidate set for working with new users."
      ]
     },
     "metadata": {},
     "output_type": "display_data"
    },
    {
     "data": {
      "text/html": [
       "<pre>Finished training in 1.10517s</pre>"
      ],
      "text/plain": [
       "Finished training in 1.10517s"
      ]
     },
     "metadata": {},
     "output_type": "display_data"
    },
    {
     "data": {
      "text/html": [
       "<pre>recommendations finished on 1000/7987 queries. users per second: 13931.8</pre>"
      ],
      "text/plain": [
       "recommendations finished on 1000/7987 queries. users per second: 13931.8"
      ]
     },
     "metadata": {},
     "output_type": "display_data"
    },
    {
     "data": {
      "text/html": [
       "<pre>recommendations finished on 2000/7987 queries. users per second: 19859.2</pre>"
      ],
      "text/plain": [
       "recommendations finished on 2000/7987 queries. users per second: 19859.2"
      ]
     },
     "metadata": {},
     "output_type": "display_data"
    },
    {
     "data": {
      "text/html": [
       "<pre>recommendations finished on 3000/7987 queries. users per second: 23661.4</pre>"
      ],
      "text/plain": [
       "recommendations finished on 3000/7987 queries. users per second: 23661.4"
      ]
     },
     "metadata": {},
     "output_type": "display_data"
    },
    {
     "data": {
      "text/html": [
       "<pre>recommendations finished on 4000/7987 queries. users per second: 27458.4</pre>"
      ],
      "text/plain": [
       "recommendations finished on 4000/7987 queries. users per second: 27458.4"
      ]
     },
     "metadata": {},
     "output_type": "display_data"
    },
    {
     "data": {
      "text/html": [
       "<pre>recommendations finished on 5000/7987 queries. users per second: 30632.4</pre>"
      ],
      "text/plain": [
       "recommendations finished on 5000/7987 queries. users per second: 30632.4"
      ]
     },
     "metadata": {},
     "output_type": "display_data"
    },
    {
     "data": {
      "text/html": [
       "<pre>recommendations finished on 6000/7987 queries. users per second: 34094.4</pre>"
      ],
      "text/plain": [
       "recommendations finished on 6000/7987 queries. users per second: 34094.4"
      ]
     },
     "metadata": {},
     "output_type": "display_data"
    },
    {
     "data": {
      "text/html": [
       "<pre>recommendations finished on 7000/7987 queries. users per second: 36006.2</pre>"
      ],
      "text/plain": [
       "recommendations finished on 7000/7987 queries. users per second: 36006.2"
      ]
     },
     "metadata": {},
     "output_type": "display_data"
    },
    {
     "name": "stdout",
     "output_type": "stream",
     "text": [
      "+------------+-----------+---------------------+------+\n",
      "| customerId | productId |        score        | rank |\n",
      "+------------+-----------+---------------------+------+\n",
      "|  1076254   |   920085  |  0.2307756096124649 |  1   |\n",
      "|  1076254   |   920091  |  0.2058946192264557 |  2   |\n",
      "|  1076254   |   920087  |  0.1881573349237442 |  3   |\n",
      "|  1076254   |   920082  | 0.18326705694198608 |  4   |\n",
      "|  1076254   |   920080  |  0.1832437813282013 |  5   |\n",
      "|  1076254   |   920084  |  0.1694263219833374 |  6   |\n",
      "|  1076254   |   920094  |  0.1678241640329361 |  7   |\n",
      "|  1076254   |   920081  | 0.16380354762077332 |  8   |\n",
      "|  1076254   |   920086  | 0.15407314896583557 |  9   |\n",
      "|  1076254   |   920088  | 0.14044290781021118 |  10  |\n",
      "|  1268548   |   123683  |  0.1666666567325592 |  1   |\n",
      "|  1268548   |   123714  |  0.1666666567325592 |  2   |\n",
      "|  1268548   |   124517  |  0.1533930003643036 |  3   |\n",
      "|  1268548   |   124465  | 0.14573243260383606 |  4   |\n",
      "|  1268548   |   124533  |  0.1400279998779297 |  5   |\n",
      "|  1268548   |   123777  | 0.12620797753334045 |  6   |\n",
      "|  1268548   |   124496  | 0.12620797753334045 |  7   |\n",
      "|  1268548   |   123913  |  0.1178511381149292 |  8   |\n",
      "|  1268548   |   122760  |  0.1178511381149292 |  9   |\n",
      "|  1268548   |   122050  | 0.11288386583328247 |  10  |\n",
      "|  1709459   |   124475  | 0.15936380624771118 |  1   |\n",
      "|  1709459   |   123754  | 0.14547858635584512 |  2   |\n",
      "|  1709459   |   123695  | 0.13468700647354126 |  3   |\n",
      "|  1709459   |   124028  | 0.12598816553751627 |  4   |\n",
      "|  1709459   |   920085  | 0.12361045678456624 |  5   |\n",
      "|  1709459   |   124074  | 0.11878277858098348 |  6   |\n",
      "|  1709459   |   920091  | 0.11816759904225667 |  7   |\n",
      "|  1709459   |   920080  | 0.11768869558970134 |  8   |\n",
      "|  1709459   |   920082  |  0.1176731785138448 |  9   |\n",
      "|  1709459   |   124460  | 0.11468829711278279 |  10  |\n",
      "+------------+-----------+---------------------+------+\n",
      "[79870 rows x 4 columns]\n",
      "\n"
     ]
    }
   ],
   "source": [
    "# essas variáveis vão mudar de acordo\n",
    "name = 'cosine'\n",
    "target = 'purchase_count'\n",
    "cos = model(train_data, name, user_id, item_id, target, users_to_recommend, n_rec, n_display)"
   ]
  },
  {
   "cell_type": "markdown",
   "metadata": {},
   "source": [
    "#### Usando dummy de compras"
   ]
  },
  {
   "cell_type": "code",
   "execution_count": 39,
   "metadata": {},
   "outputs": [
    {
     "data": {
      "text/html": [
       "<pre>Warning: Ignoring columns purchase_count;</pre>"
      ],
      "text/plain": [
       "Warning: Ignoring columns purchase_count;"
      ]
     },
     "metadata": {},
     "output_type": "display_data"
    },
    {
     "data": {
      "text/html": [
       "<pre>    To use these columns in scoring predictions, use a model that allows the use of additional features.</pre>"
      ],
      "text/plain": [
       "    To use these columns in scoring predictions, use a model that allows the use of additional features."
      ]
     },
     "metadata": {},
     "output_type": "display_data"
    },
    {
     "data": {
      "text/html": [
       "<pre>Preparing data set.</pre>"
      ],
      "text/plain": [
       "Preparing data set."
      ]
     },
     "metadata": {},
     "output_type": "display_data"
    },
    {
     "data": {
      "text/html": [
       "<pre>    Data has 19570 observations with 7173 users and 701 items.</pre>"
      ],
      "text/plain": [
       "    Data has 19570 observations with 7173 users and 701 items."
      ]
     },
     "metadata": {},
     "output_type": "display_data"
    },
    {
     "data": {
      "text/html": [
       "<pre>    Data prepared in: 0.080726s</pre>"
      ],
      "text/plain": [
       "    Data prepared in: 0.080726s"
      ]
     },
     "metadata": {},
     "output_type": "display_data"
    },
    {
     "data": {
      "text/html": [
       "<pre>Training model from provided data.</pre>"
      ],
      "text/plain": [
       "Training model from provided data."
      ]
     },
     "metadata": {},
     "output_type": "display_data"
    },
    {
     "data": {
      "text/html": [
       "<pre>Gathering per-item and per-user statistics.</pre>"
      ],
      "text/plain": [
       "Gathering per-item and per-user statistics."
      ]
     },
     "metadata": {},
     "output_type": "display_data"
    },
    {
     "data": {
      "text/html": [
       "<pre>+--------------------------------+------------+</pre>"
      ],
      "text/plain": [
       "+--------------------------------+------------+"
      ]
     },
     "metadata": {},
     "output_type": "display_data"
    },
    {
     "data": {
      "text/html": [
       "<pre>| Elapsed Time (Item Statistics) | % Complete |</pre>"
      ],
      "text/plain": [
       "| Elapsed Time (Item Statistics) | % Complete |"
      ]
     },
     "metadata": {},
     "output_type": "display_data"
    },
    {
     "data": {
      "text/html": [
       "<pre>+--------------------------------+------------+</pre>"
      ],
      "text/plain": [
       "+--------------------------------+------------+"
      ]
     },
     "metadata": {},
     "output_type": "display_data"
    },
    {
     "data": {
      "text/html": [
       "<pre>| 5.841ms                        | 13.75      |</pre>"
      ],
      "text/plain": [
       "| 5.841ms                        | 13.75      |"
      ]
     },
     "metadata": {},
     "output_type": "display_data"
    },
    {
     "data": {
      "text/html": [
       "<pre>| 9.795ms                        | 100        |</pre>"
      ],
      "text/plain": [
       "| 9.795ms                        | 100        |"
      ]
     },
     "metadata": {},
     "output_type": "display_data"
    },
    {
     "data": {
      "text/html": [
       "<pre>+--------------------------------+------------+</pre>"
      ],
      "text/plain": [
       "+--------------------------------+------------+"
      ]
     },
     "metadata": {},
     "output_type": "display_data"
    },
    {
     "data": {
      "text/html": [
       "<pre>Setting up lookup tables.</pre>"
      ],
      "text/plain": [
       "Setting up lookup tables."
      ]
     },
     "metadata": {},
     "output_type": "display_data"
    },
    {
     "data": {
      "text/html": [
       "<pre>Processing data in one pass using dense lookup tables.</pre>"
      ],
      "text/plain": [
       "Processing data in one pass using dense lookup tables."
      ]
     },
     "metadata": {},
     "output_type": "display_data"
    },
    {
     "data": {
      "text/html": [
       "<pre>+-------------------------------------+------------------+-----------------+</pre>"
      ],
      "text/plain": [
       "+-------------------------------------+------------------+-----------------+"
      ]
     },
     "metadata": {},
     "output_type": "display_data"
    },
    {
     "data": {
      "text/html": [
       "<pre>| Elapsed Time (Constructing Lookups) | Total % Complete | Items Processed |</pre>"
      ],
      "text/plain": [
       "| Elapsed Time (Constructing Lookups) | Total % Complete | Items Processed |"
      ]
     },
     "metadata": {},
     "output_type": "display_data"
    },
    {
     "data": {
      "text/html": [
       "<pre>+-------------------------------------+------------------+-----------------+</pre>"
      ],
      "text/plain": [
       "+-------------------------------------+------------------+-----------------+"
      ]
     },
     "metadata": {},
     "output_type": "display_data"
    },
    {
     "data": {
      "text/html": [
       "<pre>| 14.313ms                            | 0                | 0               |</pre>"
      ],
      "text/plain": [
       "| 14.313ms                            | 0                | 0               |"
      ]
     },
     "metadata": {},
     "output_type": "display_data"
    },
    {
     "data": {
      "text/html": [
       "<pre>| 31.274ms                            | 100              | 701             |</pre>"
      ],
      "text/plain": [
       "| 31.274ms                            | 100              | 701             |"
      ]
     },
     "metadata": {},
     "output_type": "display_data"
    },
    {
     "data": {
      "text/html": [
       "<pre>+-------------------------------------+------------------+-----------------+</pre>"
      ],
      "text/plain": [
       "+-------------------------------------+------------------+-----------------+"
      ]
     },
     "metadata": {},
     "output_type": "display_data"
    },
    {
     "data": {
      "text/html": [
       "<pre>Finalizing lookup tables.</pre>"
      ],
      "text/plain": [
       "Finalizing lookup tables."
      ]
     },
     "metadata": {},
     "output_type": "display_data"
    },
    {
     "data": {
      "text/html": [
       "<pre>Generating candidate set for working with new users.</pre>"
      ],
      "text/plain": [
       "Generating candidate set for working with new users."
      ]
     },
     "metadata": {},
     "output_type": "display_data"
    },
    {
     "data": {
      "text/html": [
       "<pre>Finished training in 0.048823s</pre>"
      ],
      "text/plain": [
       "Finished training in 0.048823s"
      ]
     },
     "metadata": {},
     "output_type": "display_data"
    },
    {
     "data": {
      "text/html": [
       "<pre>recommendations finished on 1000/7987 queries. users per second: 31945.8</pre>"
      ],
      "text/plain": [
       "recommendations finished on 1000/7987 queries. users per second: 31945.8"
      ]
     },
     "metadata": {},
     "output_type": "display_data"
    },
    {
     "data": {
      "text/html": [
       "<pre>recommendations finished on 2000/7987 queries. users per second: 36160.5</pre>"
      ],
      "text/plain": [
       "recommendations finished on 2000/7987 queries. users per second: 36160.5"
      ]
     },
     "metadata": {},
     "output_type": "display_data"
    },
    {
     "data": {
      "text/html": [
       "<pre>recommendations finished on 3000/7987 queries. users per second: 40269</pre>"
      ],
      "text/plain": [
       "recommendations finished on 3000/7987 queries. users per second: 40269"
      ]
     },
     "metadata": {},
     "output_type": "display_data"
    },
    {
     "data": {
      "text/html": [
       "<pre>recommendations finished on 4000/7987 queries. users per second: 43972</pre>"
      ],
      "text/plain": [
       "recommendations finished on 4000/7987 queries. users per second: 43972"
      ]
     },
     "metadata": {},
     "output_type": "display_data"
    },
    {
     "data": {
      "text/html": [
       "<pre>recommendations finished on 5000/7987 queries. users per second: 42723.4</pre>"
      ],
      "text/plain": [
       "recommendations finished on 5000/7987 queries. users per second: 42723.4"
      ]
     },
     "metadata": {},
     "output_type": "display_data"
    },
    {
     "data": {
      "text/html": [
       "<pre>recommendations finished on 6000/7987 queries. users per second: 44898.8</pre>"
      ],
      "text/plain": [
       "recommendations finished on 6000/7987 queries. users per second: 44898.8"
      ]
     },
     "metadata": {},
     "output_type": "display_data"
    },
    {
     "data": {
      "text/html": [
       "<pre>recommendations finished on 7000/7987 queries. users per second: 46208.9</pre>"
      ],
      "text/plain": [
       "recommendations finished on 7000/7987 queries. users per second: 46208.9"
      ]
     },
     "metadata": {},
     "output_type": "display_data"
    },
    {
     "name": "stdout",
     "output_type": "stream",
     "text": [
      "+------------+-----------+---------------------+------+\n",
      "| customerId | productId |        score        | rank |\n",
      "+------------+-----------+---------------------+------+\n",
      "|  1076254   |   920085  | 0.15170197188854218 |  1   |\n",
      "|  1076254   |   920090  | 0.14905278384685516 |  2   |\n",
      "|  1076254   |   920091  | 0.13700975477695465 |  3   |\n",
      "|  1076254   |   920087  | 0.13589544594287872 |  4   |\n",
      "|  1076254   |   920082  | 0.12487626075744629 |  5   |\n",
      "|  1076254   |   920080  | 0.12451697885990143 |  6   |\n",
      "|  1076254   |   920084  | 0.12400156259536743 |  7   |\n",
      "|  1076254   |   920081  | 0.11594972014427185 |  8   |\n",
      "|  1076254   |   920086  | 0.11488708853721619 |  9   |\n",
      "|  1076254   |   920092  | 0.09793955087661743 |  10  |\n",
      "|  1268548   |   123579  | 0.19245007634162903 |  1   |\n",
      "|  1268548   |   124725  |  0.1666666567325592 |  2   |\n",
      "|  1268548   |   123714  |  0.1666666567325592 |  3   |\n",
      "|  1268548   |   123447  | 0.13608276844024658 |  4   |\n",
      "|  1268548   |   123915  |  0.1305789053440094 |  5   |\n",
      "|  1268548   |   123777  |  0.1305789053440094 |  6   |\n",
      "|  1268548   |   122050  |  0.1305789053440094 |  7   |\n",
      "|  1268548   |   124496  |  0.118549644947052  |  8   |\n",
      "|  1268548   |   123913  |  0.1178511381149292 |  9   |\n",
      "|  1268548   |   124727  |  0.1178511381149292 |  10  |\n",
      "|  1709459   |   124591  | 0.12909942865371704 |  1   |\n",
      "|  1709459   |   124501  | 0.11180341243743896 |  2   |\n",
      "|  1709459   |   124368  | 0.10540926456451416 |  3   |\n",
      "|  1709459   |   124682  | 0.09035080671310425 |  4   |\n",
      "|  1709459   |   124563  | 0.08451545238494873 |  5   |\n",
      "|  1709459   |   123916  | 0.08164966106414795 |  6   |\n",
      "|  1709459   |   124416  | 0.07669651508331299 |  7   |\n",
      "|  1709459   |   123231  | 0.05872201919555664 |  8   |\n",
      "|  1709459   |   124454  | 0.05872201919555664 |  9   |\n",
      "|  1709459   |   920082  |  0.047504723072052  |  10  |\n",
      "+------------+-----------+---------------------+------+\n",
      "[79870 rows x 4 columns]\n",
      "\n"
     ]
    }
   ],
   "source": [
    "# Essas variáveis vão mudar de acordo\n",
    "name = 'cosine'\n",
    "target = 'purchase_dummy'\n",
    "cos_dummy = model(train_data_dummy, name, user_id, item_id, target, users_to_recommend, n_rec, n_display)"
   ]
  },
  {
   "cell_type": "markdown",
   "metadata": {},
   "source": [
    "#### Using normalized purchase count"
   ]
  },
  {
   "cell_type": "code",
   "execution_count": 80,
   "metadata": {},
   "outputs": [
    {
     "data": {
      "text/html": [
       "<pre>Preparing data set.</pre>"
      ],
      "text/plain": [
       "Preparing data set."
      ]
     },
     "metadata": {},
     "output_type": "display_data"
    },
    {
     "data": {
      "text/html": [
       "<pre>    Data has 16596 observations with 6579 users and 244 items.</pre>"
      ],
      "text/plain": [
       "    Data has 16596 observations with 6579 users and 244 items."
      ]
     },
     "metadata": {},
     "output_type": "display_data"
    },
    {
     "data": {
      "text/html": [
       "<pre>    Data prepared in: 0.678789s</pre>"
      ],
      "text/plain": [
       "    Data prepared in: 0.678789s"
      ]
     },
     "metadata": {},
     "output_type": "display_data"
    },
    {
     "data": {
      "text/html": [
       "<pre>Training model from provided data.</pre>"
      ],
      "text/plain": [
       "Training model from provided data."
      ]
     },
     "metadata": {},
     "output_type": "display_data"
    },
    {
     "data": {
      "text/html": [
       "<pre>Gathering per-item and per-user statistics.</pre>"
      ],
      "text/plain": [
       "Gathering per-item and per-user statistics."
      ]
     },
     "metadata": {},
     "output_type": "display_data"
    },
    {
     "data": {
      "text/html": [
       "<pre>+--------------------------------+------------+</pre>"
      ],
      "text/plain": [
       "+--------------------------------+------------+"
      ]
     },
     "metadata": {},
     "output_type": "display_data"
    },
    {
     "data": {
      "text/html": [
       "<pre>| Elapsed Time (Item Statistics) | % Complete |</pre>"
      ],
      "text/plain": [
       "| Elapsed Time (Item Statistics) | % Complete |"
      ]
     },
     "metadata": {},
     "output_type": "display_data"
    },
    {
     "data": {
      "text/html": [
       "<pre>+--------------------------------+------------+</pre>"
      ],
      "text/plain": [
       "+--------------------------------+------------+"
      ]
     },
     "metadata": {},
     "output_type": "display_data"
    },
    {
     "data": {
      "text/html": [
       "<pre>| 153.094ms                      | 30.25      |</pre>"
      ],
      "text/plain": [
       "| 153.094ms                      | 30.25      |"
      ]
     },
     "metadata": {},
     "output_type": "display_data"
    },
    {
     "data": {
      "text/html": [
       "<pre>| 298.945ms                      | 100        |</pre>"
      ],
      "text/plain": [
       "| 298.945ms                      | 100        |"
      ]
     },
     "metadata": {},
     "output_type": "display_data"
    },
    {
     "data": {
      "text/html": [
       "<pre>+--------------------------------+------------+</pre>"
      ],
      "text/plain": [
       "+--------------------------------+------------+"
      ]
     },
     "metadata": {},
     "output_type": "display_data"
    },
    {
     "data": {
      "text/html": [
       "<pre>Setting up lookup tables.</pre>"
      ],
      "text/plain": [
       "Setting up lookup tables."
      ]
     },
     "metadata": {},
     "output_type": "display_data"
    },
    {
     "data": {
      "text/html": [
       "<pre>Processing data in one pass using dense lookup tables.</pre>"
      ],
      "text/plain": [
       "Processing data in one pass using dense lookup tables."
      ]
     },
     "metadata": {},
     "output_type": "display_data"
    },
    {
     "data": {
      "text/html": [
       "<pre>+-------------------------------------+------------------+-----------------+</pre>"
      ],
      "text/plain": [
       "+-------------------------------------+------------------+-----------------+"
      ]
     },
     "metadata": {},
     "output_type": "display_data"
    },
    {
     "data": {
      "text/html": [
       "<pre>| Elapsed Time (Constructing Lookups) | Total % Complete | Items Processed |</pre>"
      ],
      "text/plain": [
       "| Elapsed Time (Constructing Lookups) | Total % Complete | Items Processed |"
      ]
     },
     "metadata": {},
     "output_type": "display_data"
    },
    {
     "data": {
      "text/html": [
       "<pre>+-------------------------------------+------------------+-----------------+</pre>"
      ],
      "text/plain": [
       "+-------------------------------------+------------------+-----------------+"
      ]
     },
     "metadata": {},
     "output_type": "display_data"
    },
    {
     "data": {
      "text/html": [
       "<pre>| 346.508ms                           | 66.5             | 162             |</pre>"
      ],
      "text/plain": [
       "| 346.508ms                           | 66.5             | 162             |"
      ]
     },
     "metadata": {},
     "output_type": "display_data"
    },
    {
     "data": {
      "text/html": [
       "<pre>| 356.453ms                           | 100              | 244             |</pre>"
      ],
      "text/plain": [
       "| 356.453ms                           | 100              | 244             |"
      ]
     },
     "metadata": {},
     "output_type": "display_data"
    },
    {
     "data": {
      "text/html": [
       "<pre>+-------------------------------------+------------------+-----------------+</pre>"
      ],
      "text/plain": [
       "+-------------------------------------+------------------+-----------------+"
      ]
     },
     "metadata": {},
     "output_type": "display_data"
    },
    {
     "data": {
      "text/html": [
       "<pre>Finalizing lookup tables.</pre>"
      ],
      "text/plain": [
       "Finalizing lookup tables."
      ]
     },
     "metadata": {},
     "output_type": "display_data"
    },
    {
     "data": {
      "text/html": [
       "<pre>Generating candidate set for working with new users.</pre>"
      ],
      "text/plain": [
       "Generating candidate set for working with new users."
      ]
     },
     "metadata": {},
     "output_type": "display_data"
    },
    {
     "data": {
      "text/html": [
       "<pre>Finished training in 0.548323s</pre>"
      ],
      "text/plain": [
       "Finished training in 0.548323s"
      ]
     },
     "metadata": {},
     "output_type": "display_data"
    },
    {
     "data": {
      "text/html": [
       "<pre>recommendations finished on 1000/7987 queries. users per second: 5204.81</pre>"
      ],
      "text/plain": [
       "recommendations finished on 1000/7987 queries. users per second: 5204.81"
      ]
     },
     "metadata": {},
     "output_type": "display_data"
    },
    {
     "data": {
      "text/html": [
       "<pre>recommendations finished on 2000/7987 queries. users per second: 9067.42</pre>"
      ],
      "text/plain": [
       "recommendations finished on 2000/7987 queries. users per second: 9067.42"
      ]
     },
     "metadata": {},
     "output_type": "display_data"
    },
    {
     "data": {
      "text/html": [
       "<pre>recommendations finished on 3000/7987 queries. users per second: 13008.6</pre>"
      ],
      "text/plain": [
       "recommendations finished on 3000/7987 queries. users per second: 13008.6"
      ]
     },
     "metadata": {},
     "output_type": "display_data"
    },
    {
     "data": {
      "text/html": [
       "<pre>recommendations finished on 4000/7987 queries. users per second: 16441.1</pre>"
      ],
      "text/plain": [
       "recommendations finished on 4000/7987 queries. users per second: 16441.1"
      ]
     },
     "metadata": {},
     "output_type": "display_data"
    },
    {
     "data": {
      "text/html": [
       "<pre>recommendations finished on 5000/7987 queries. users per second: 17273.3</pre>"
      ],
      "text/plain": [
       "recommendations finished on 5000/7987 queries. users per second: 17273.3"
      ]
     },
     "metadata": {},
     "output_type": "display_data"
    },
    {
     "data": {
      "text/html": [
       "<pre>recommendations finished on 6000/7987 queries. users per second: 20103.8</pre>"
      ],
      "text/plain": [
       "recommendations finished on 6000/7987 queries. users per second: 20103.8"
      ]
     },
     "metadata": {},
     "output_type": "display_data"
    },
    {
     "data": {
      "text/html": [
       "<pre>recommendations finished on 7000/7987 queries. users per second: 22605</pre>"
      ],
      "text/plain": [
       "recommendations finished on 7000/7987 queries. users per second: 22605"
      ]
     },
     "metadata": {},
     "output_type": "display_data"
    },
    {
     "name": "stdout",
     "output_type": "stream",
     "text": [
      "+------------+-----------+-------+------+\n",
      "| customerId | productId | score | rank |\n",
      "+------------+-----------+-------+------+\n",
      "|  1076254   |   123584  |  0.0  |  1   |\n",
      "|  1076254   |   920088  |  0.0  |  2   |\n",
      "|  1076254   |   122392  |  0.0  |  3   |\n",
      "|  1076254   |   122180  |  0.0  |  4   |\n",
      "|  1076254   |   124603  |  0.0  |  5   |\n",
      "|  1076254   |   124248  |  0.0  |  6   |\n",
      "|  1076254   |   920080  |  0.0  |  7   |\n",
      "|  1076254   |   920089  |  0.0  |  8   |\n",
      "|  1076254   |   920091  |  0.0  |  9   |\n",
      "|  1076254   |   123086  |  0.0  |  10  |\n",
      "|  1268548   |   920088  |  0.0  |  1   |\n",
      "|  1268548   |   122392  |  0.0  |  2   |\n",
      "|  1268548   |   122180  |  0.0  |  3   |\n",
      "|  1268548   |   124603  |  0.0  |  4   |\n",
      "|  1268548   |   124248  |  0.0  |  5   |\n",
      "|  1268548   |   920080  |  0.0  |  6   |\n",
      "|  1268548   |   920089  |  0.0  |  7   |\n",
      "|  1268548   |   920090  |  0.0  |  8   |\n",
      "|  1268548   |   920091  |  0.0  |  9   |\n",
      "|  1268548   |   123086  |  0.0  |  10  |\n",
      "|  1709459   |   123584  |  0.0  |  1   |\n",
      "|  1709459   |   920088  |  0.0  |  2   |\n",
      "|  1709459   |   122392  |  0.0  |  3   |\n",
      "|  1709459   |   122180  |  0.0  |  4   |\n",
      "|  1709459   |   124603  |  0.0  |  5   |\n",
      "|  1709459   |   124248  |  0.0  |  6   |\n",
      "|  1709459   |   920080  |  0.0  |  7   |\n",
      "|  1709459   |   920090  |  0.0  |  8   |\n",
      "|  1709459   |   920091  |  0.0  |  9   |\n",
      "|  1709459   |   123086  |  0.0  |  10  |\n",
      "+------------+-----------+-------+------+\n",
      "[79870 rows x 4 columns]\n",
      "\n"
     ]
    }
   ],
   "source": [
    "name = 'cosine'\n",
    "target = 'scaled_purchase_freq'\n",
    "cos_norm = model(train_data_norm, name, user_id, item_id, target, users_to_recommend, n_rec, n_display)"
   ]
  },
  {
   "cell_type": "markdown",
   "metadata": {},
   "source": [
    "### 6.2. `Pearson` similarity\n",
    "* Similarity is the pearson coefficient between the two vectors.\n",
    "* It is defined by the following formula\n",
    "![](http://critical-numbers.group.shef.ac.uk/glossary/images/correlationKT1.png)"
   ]
  },
  {
   "cell_type": "markdown",
   "metadata": {},
   "source": [
    "#### Using purchase count"
   ]
  },
  {
   "cell_type": "code",
   "execution_count": 63,
   "metadata": {},
   "outputs": [
    {
     "data": {
      "text/html": [
       "<pre>Preparing data set.</pre>"
      ],
      "text/plain": [
       "Preparing data set."
      ]
     },
     "metadata": {},
     "output_type": "display_data"
    },
    {
     "data": {
      "text/html": [
       "<pre>    Data has 19570 observations with 7167 users and 701 items.</pre>"
      ],
      "text/plain": [
       "    Data has 19570 observations with 7167 users and 701 items."
      ]
     },
     "metadata": {},
     "output_type": "display_data"
    },
    {
     "data": {
      "text/html": [
       "<pre>    Data prepared in: 0.058774s</pre>"
      ],
      "text/plain": [
       "    Data prepared in: 0.058774s"
      ]
     },
     "metadata": {},
     "output_type": "display_data"
    },
    {
     "data": {
      "text/html": [
       "<pre>Training model from provided data.</pre>"
      ],
      "text/plain": [
       "Training model from provided data."
      ]
     },
     "metadata": {},
     "output_type": "display_data"
    },
    {
     "data": {
      "text/html": [
       "<pre>Gathering per-item and per-user statistics.</pre>"
      ],
      "text/plain": [
       "Gathering per-item and per-user statistics."
      ]
     },
     "metadata": {},
     "output_type": "display_data"
    },
    {
     "data": {
      "text/html": [
       "<pre>+--------------------------------+------------+</pre>"
      ],
      "text/plain": [
       "+--------------------------------+------------+"
      ]
     },
     "metadata": {},
     "output_type": "display_data"
    },
    {
     "data": {
      "text/html": [
       "<pre>| Elapsed Time (Item Statistics) | % Complete |</pre>"
      ],
      "text/plain": [
       "| Elapsed Time (Item Statistics) | % Complete |"
      ]
     },
     "metadata": {},
     "output_type": "display_data"
    },
    {
     "data": {
      "text/html": [
       "<pre>+--------------------------------+------------+</pre>"
      ],
      "text/plain": [
       "+--------------------------------+------------+"
      ]
     },
     "metadata": {},
     "output_type": "display_data"
    },
    {
     "data": {
      "text/html": [
       "<pre>| 1.375ms                        | 13.75      |</pre>"
      ],
      "text/plain": [
       "| 1.375ms                        | 13.75      |"
      ]
     },
     "metadata": {},
     "output_type": "display_data"
    },
    {
     "data": {
      "text/html": [
       "<pre>| 16.089ms                       | 100        |</pre>"
      ],
      "text/plain": [
       "| 16.089ms                       | 100        |"
      ]
     },
     "metadata": {},
     "output_type": "display_data"
    },
    {
     "data": {
      "text/html": [
       "<pre>+--------------------------------+------------+</pre>"
      ],
      "text/plain": [
       "+--------------------------------+------------+"
      ]
     },
     "metadata": {},
     "output_type": "display_data"
    },
    {
     "data": {
      "text/html": [
       "<pre>Setting up lookup tables.</pre>"
      ],
      "text/plain": [
       "Setting up lookup tables."
      ]
     },
     "metadata": {},
     "output_type": "display_data"
    },
    {
     "data": {
      "text/html": [
       "<pre>Processing data in one pass using dense lookup tables.</pre>"
      ],
      "text/plain": [
       "Processing data in one pass using dense lookup tables."
      ]
     },
     "metadata": {},
     "output_type": "display_data"
    },
    {
     "data": {
      "text/html": [
       "<pre>+-------------------------------------+------------------+-----------------+</pre>"
      ],
      "text/plain": [
       "+-------------------------------------+------------------+-----------------+"
      ]
     },
     "metadata": {},
     "output_type": "display_data"
    },
    {
     "data": {
      "text/html": [
       "<pre>| Elapsed Time (Constructing Lookups) | Total % Complete | Items Processed |</pre>"
      ],
      "text/plain": [
       "| Elapsed Time (Constructing Lookups) | Total % Complete | Items Processed |"
      ]
     },
     "metadata": {},
     "output_type": "display_data"
    },
    {
     "data": {
      "text/html": [
       "<pre>+-------------------------------------+------------------+-----------------+</pre>"
      ],
      "text/plain": [
       "+-------------------------------------+------------------+-----------------+"
      ]
     },
     "metadata": {},
     "output_type": "display_data"
    },
    {
     "data": {
      "text/html": [
       "<pre>| 20.53ms                             | 0                | 0               |</pre>"
      ],
      "text/plain": [
       "| 20.53ms                             | 0                | 0               |"
      ]
     },
     "metadata": {},
     "output_type": "display_data"
    },
    {
     "data": {
      "text/html": [
       "<pre>| 43.676ms                            | 100              | 701             |</pre>"
      ],
      "text/plain": [
       "| 43.676ms                            | 100              | 701             |"
      ]
     },
     "metadata": {},
     "output_type": "display_data"
    },
    {
     "data": {
      "text/html": [
       "<pre>+-------------------------------------+------------------+-----------------+</pre>"
      ],
      "text/plain": [
       "+-------------------------------------+------------------+-----------------+"
      ]
     },
     "metadata": {},
     "output_type": "display_data"
    },
    {
     "data": {
      "text/html": [
       "<pre>Finalizing lookup tables.</pre>"
      ],
      "text/plain": [
       "Finalizing lookup tables."
      ]
     },
     "metadata": {},
     "output_type": "display_data"
    },
    {
     "data": {
      "text/html": [
       "<pre>Generating candidate set for working with new users.</pre>"
      ],
      "text/plain": [
       "Generating candidate set for working with new users."
      ]
     },
     "metadata": {},
     "output_type": "display_data"
    },
    {
     "data": {
      "text/html": [
       "<pre>Finished training in 0.061537s</pre>"
      ],
      "text/plain": [
       "Finished training in 0.061537s"
      ]
     },
     "metadata": {},
     "output_type": "display_data"
    },
    {
     "data": {
      "text/html": [
       "<pre>recommendations finished on 1000/7987 queries. users per second: 34479.2</pre>"
      ],
      "text/plain": [
       "recommendations finished on 1000/7987 queries. users per second: 34479.2"
      ]
     },
     "metadata": {},
     "output_type": "display_data"
    },
    {
     "data": {
      "text/html": [
       "<pre>recommendations finished on 2000/7987 queries. users per second: 39000.8</pre>"
      ],
      "text/plain": [
       "recommendations finished on 2000/7987 queries. users per second: 39000.8"
      ]
     },
     "metadata": {},
     "output_type": "display_data"
    },
    {
     "data": {
      "text/html": [
       "<pre>recommendations finished on 3000/7987 queries. users per second: 22016.6</pre>"
      ],
      "text/plain": [
       "recommendations finished on 3000/7987 queries. users per second: 22016.6"
      ]
     },
     "metadata": {},
     "output_type": "display_data"
    },
    {
     "data": {
      "text/html": [
       "<pre>recommendations finished on 4000/7987 queries. users per second: 22639.3</pre>"
      ],
      "text/plain": [
       "recommendations finished on 4000/7987 queries. users per second: 22639.3"
      ]
     },
     "metadata": {},
     "output_type": "display_data"
    },
    {
     "data": {
      "text/html": [
       "<pre>recommendations finished on 5000/7987 queries. users per second: 20669.9</pre>"
      ],
      "text/plain": [
       "recommendations finished on 5000/7987 queries. users per second: 20669.9"
      ]
     },
     "metadata": {},
     "output_type": "display_data"
    },
    {
     "data": {
      "text/html": [
       "<pre>recommendations finished on 6000/7987 queries. users per second: 21641.4</pre>"
      ],
      "text/plain": [
       "recommendations finished on 6000/7987 queries. users per second: 21641.4"
      ]
     },
     "metadata": {},
     "output_type": "display_data"
    },
    {
     "data": {
      "text/html": [
       "<pre>recommendations finished on 7000/7987 queries. users per second: 22197.9</pre>"
      ],
      "text/plain": [
       "recommendations finished on 7000/7987 queries. users per second: 22197.9"
      ]
     },
     "metadata": {},
     "output_type": "display_data"
    },
    {
     "name": "stdout",
     "output_type": "stream",
     "text": [
      "+------------+-----------+--------------------+------+\n",
      "| customerId | productId |       score        | rank |\n",
      "+------------+-----------+--------------------+------+\n",
      "|  1076254   |   124136  |        2.0         |  1   |\n",
      "|  1076254   |   124838  |        2.0         |  2   |\n",
      "|  1076254   |   124738  |        2.0         |  3   |\n",
      "|  1076254   |   123864  |        2.0         |  4   |\n",
      "|  1076254   |   123553  |        1.5         |  5   |\n",
      "|  1076254   |   123123  |        1.5         |  6   |\n",
      "|  1076254   |   124519  |        1.5         |  7   |\n",
      "|  1076254   |   124074  |        1.5         |  8   |\n",
      "|  1076254   |   120386  | 1.4998991191387177 |  9   |\n",
      "|  1076254   |   124517  | 1.4976870715618134 |  10  |\n",
      "|  1268548   |   124136  |        2.0         |  1   |\n",
      "|  1268548   |   124838  |        2.0         |  2   |\n",
      "|  1268548   |   124738  |        2.0         |  3   |\n",
      "|  1268548   |   123864  |        2.0         |  4   |\n",
      "|  1268548   |   123553  |        1.5         |  5   |\n",
      "|  1268548   |   120386  |        1.5         |  6   |\n",
      "|  1268548   |   123123  |        1.5         |  7   |\n",
      "|  1268548   |   124519  |        1.5         |  8   |\n",
      "|  1268548   |   124074  |        1.5         |  9   |\n",
      "|  1268548   |   124517  |  1.49306121468544  |  10  |\n",
      "|  1709459   |   124136  |        2.0         |  1   |\n",
      "|  1709459   |   124838  |        2.0         |  2   |\n",
      "|  1709459   |   124738  |        2.0         |  3   |\n",
      "|  1709459   |   123864  |        2.0         |  4   |\n",
      "|  1709459   |   123553  |        1.5         |  5   |\n",
      "|  1709459   |   123123  |        1.5         |  6   |\n",
      "|  1709459   |   124519  |        1.5         |  7   |\n",
      "|  1709459   |   124074  |        1.5         |  8   |\n",
      "|  1709459   |   120386  | 1.4997982382774353 |  9   |\n",
      "|  1709459   |   124517  | 1.4953741431236267 |  10  |\n",
      "+------------+-----------+--------------------+------+\n",
      "[79870 rows x 4 columns]\n",
      "\n"
     ]
    }
   ],
   "source": [
    "# these variables will change accordingly\n",
    "name = 'pearson'\n",
    "target = 'purchase_count'\n",
    "pear = model(train_data, name, user_id, item_id, target, users_to_recommend, n_rec, n_display)"
   ]
  },
  {
   "cell_type": "markdown",
   "metadata": {},
   "source": [
    "#### Using purchase dummy"
   ]
  },
  {
   "cell_type": "code",
   "execution_count": 64,
   "metadata": {},
   "outputs": [
    {
     "data": {
      "text/html": [
       "<pre>Warning: Ignoring columns purchase_count;</pre>"
      ],
      "text/plain": [
       "Warning: Ignoring columns purchase_count;"
      ]
     },
     "metadata": {},
     "output_type": "display_data"
    },
    {
     "data": {
      "text/html": [
       "<pre>    To use these columns in scoring predictions, use a model that allows the use of additional features.</pre>"
      ],
      "text/plain": [
       "    To use these columns in scoring predictions, use a model that allows the use of additional features."
      ]
     },
     "metadata": {},
     "output_type": "display_data"
    },
    {
     "data": {
      "text/html": [
       "<pre>Preparing data set.</pre>"
      ],
      "text/plain": [
       "Preparing data set."
      ]
     },
     "metadata": {},
     "output_type": "display_data"
    },
    {
     "data": {
      "text/html": [
       "<pre>    Data has 19570 observations with 7222 users and 706 items.</pre>"
      ],
      "text/plain": [
       "    Data has 19570 observations with 7222 users and 706 items."
      ]
     },
     "metadata": {},
     "output_type": "display_data"
    },
    {
     "data": {
      "text/html": [
       "<pre>    Data prepared in: 0.055659s</pre>"
      ],
      "text/plain": [
       "    Data prepared in: 0.055659s"
      ]
     },
     "metadata": {},
     "output_type": "display_data"
    },
    {
     "data": {
      "text/html": [
       "<pre>Training model from provided data.</pre>"
      ],
      "text/plain": [
       "Training model from provided data."
      ]
     },
     "metadata": {},
     "output_type": "display_data"
    },
    {
     "data": {
      "text/html": [
       "<pre>Gathering per-item and per-user statistics.</pre>"
      ],
      "text/plain": [
       "Gathering per-item and per-user statistics."
      ]
     },
     "metadata": {},
     "output_type": "display_data"
    },
    {
     "data": {
      "text/html": [
       "<pre>+--------------------------------+------------+</pre>"
      ],
      "text/plain": [
       "+--------------------------------+------------+"
      ]
     },
     "metadata": {},
     "output_type": "display_data"
    },
    {
     "data": {
      "text/html": [
       "<pre>| Elapsed Time (Item Statistics) | % Complete |</pre>"
      ],
      "text/plain": [
       "| Elapsed Time (Item Statistics) | % Complete |"
      ]
     },
     "metadata": {},
     "output_type": "display_data"
    },
    {
     "data": {
      "text/html": [
       "<pre>+--------------------------------+------------+</pre>"
      ],
      "text/plain": [
       "+--------------------------------+------------+"
      ]
     },
     "metadata": {},
     "output_type": "display_data"
    },
    {
     "data": {
      "text/html": [
       "<pre>| 1.334ms                        | 13.75      |</pre>"
      ],
      "text/plain": [
       "| 1.334ms                        | 13.75      |"
      ]
     },
     "metadata": {},
     "output_type": "display_data"
    },
    {
     "data": {
      "text/html": [
       "<pre>| 2.606ms                        | 100        |</pre>"
      ],
      "text/plain": [
       "| 2.606ms                        | 100        |"
      ]
     },
     "metadata": {},
     "output_type": "display_data"
    },
    {
     "data": {
      "text/html": [
       "<pre>+--------------------------------+------------+</pre>"
      ],
      "text/plain": [
       "+--------------------------------+------------+"
      ]
     },
     "metadata": {},
     "output_type": "display_data"
    },
    {
     "data": {
      "text/html": [
       "<pre>Setting up lookup tables.</pre>"
      ],
      "text/plain": [
       "Setting up lookup tables."
      ]
     },
     "metadata": {},
     "output_type": "display_data"
    },
    {
     "data": {
      "text/html": [
       "<pre>Processing data in one pass using dense lookup tables.</pre>"
      ],
      "text/plain": [
       "Processing data in one pass using dense lookup tables."
      ]
     },
     "metadata": {},
     "output_type": "display_data"
    },
    {
     "data": {
      "text/html": [
       "<pre>+-------------------------------------+------------------+-----------------+</pre>"
      ],
      "text/plain": [
       "+-------------------------------------+------------------+-----------------+"
      ]
     },
     "metadata": {},
     "output_type": "display_data"
    },
    {
     "data": {
      "text/html": [
       "<pre>| Elapsed Time (Constructing Lookups) | Total % Complete | Items Processed |</pre>"
      ],
      "text/plain": [
       "| Elapsed Time (Constructing Lookups) | Total % Complete | Items Processed |"
      ]
     },
     "metadata": {},
     "output_type": "display_data"
    },
    {
     "data": {
      "text/html": [
       "<pre>+-------------------------------------+------------------+-----------------+</pre>"
      ],
      "text/plain": [
       "+-------------------------------------+------------------+-----------------+"
      ]
     },
     "metadata": {},
     "output_type": "display_data"
    },
    {
     "data": {
      "text/html": [
       "<pre>| 5.515ms                             | 0                | 0               |</pre>"
      ],
      "text/plain": [
       "| 5.515ms                             | 0                | 0               |"
      ]
     },
     "metadata": {},
     "output_type": "display_data"
    },
    {
     "data": {
      "text/html": [
       "<pre>| 12.802ms                            | 100              | 706             |</pre>"
      ],
      "text/plain": [
       "| 12.802ms                            | 100              | 706             |"
      ]
     },
     "metadata": {},
     "output_type": "display_data"
    },
    {
     "data": {
      "text/html": [
       "<pre>+-------------------------------------+------------------+-----------------+</pre>"
      ],
      "text/plain": [
       "+-------------------------------------+------------------+-----------------+"
      ]
     },
     "metadata": {},
     "output_type": "display_data"
    },
    {
     "data": {
      "text/html": [
       "<pre>Finalizing lookup tables.</pre>"
      ],
      "text/plain": [
       "Finalizing lookup tables."
      ]
     },
     "metadata": {},
     "output_type": "display_data"
    },
    {
     "data": {
      "text/html": [
       "<pre>Generating candidate set for working with new users.</pre>"
      ],
      "text/plain": [
       "Generating candidate set for working with new users."
      ]
     },
     "metadata": {},
     "output_type": "display_data"
    },
    {
     "data": {
      "text/html": [
       "<pre>Finished training in 0.023683s</pre>"
      ],
      "text/plain": [
       "Finished training in 0.023683s"
      ]
     },
     "metadata": {},
     "output_type": "display_data"
    },
    {
     "data": {
      "text/html": [
       "<pre>recommendations finished on 1000/7987 queries. users per second: 64491.2</pre>"
      ],
      "text/plain": [
       "recommendations finished on 1000/7987 queries. users per second: 64491.2"
      ]
     },
     "metadata": {},
     "output_type": "display_data"
    },
    {
     "data": {
      "text/html": [
       "<pre>recommendations finished on 2000/7987 queries. users per second: 76458.4</pre>"
      ],
      "text/plain": [
       "recommendations finished on 2000/7987 queries. users per second: 76458.4"
      ]
     },
     "metadata": {},
     "output_type": "display_data"
    },
    {
     "data": {
      "text/html": [
       "<pre>recommendations finished on 3000/7987 queries. users per second: 82126.5</pre>"
      ],
      "text/plain": [
       "recommendations finished on 3000/7987 queries. users per second: 82126.5"
      ]
     },
     "metadata": {},
     "output_type": "display_data"
    },
    {
     "data": {
      "text/html": [
       "<pre>recommendations finished on 4000/7987 queries. users per second: 85510.3</pre>"
      ],
      "text/plain": [
       "recommendations finished on 4000/7987 queries. users per second: 85510.3"
      ]
     },
     "metadata": {},
     "output_type": "display_data"
    },
    {
     "data": {
      "text/html": [
       "<pre>recommendations finished on 5000/7987 queries. users per second: 89631.4</pre>"
      ],
      "text/plain": [
       "recommendations finished on 5000/7987 queries. users per second: 89631.4"
      ]
     },
     "metadata": {},
     "output_type": "display_data"
    },
    {
     "data": {
      "text/html": [
       "<pre>recommendations finished on 6000/7987 queries. users per second: 90041.4</pre>"
      ],
      "text/plain": [
       "recommendations finished on 6000/7987 queries. users per second: 90041.4"
      ]
     },
     "metadata": {},
     "output_type": "display_data"
    },
    {
     "data": {
      "text/html": [
       "<pre>recommendations finished on 7000/7987 queries. users per second: 86976</pre>"
      ],
      "text/plain": [
       "recommendations finished on 7000/7987 queries. users per second: 86976"
      ]
     },
     "metadata": {},
     "output_type": "display_data"
    },
    {
     "name": "stdout",
     "output_type": "stream",
     "text": [
      "+------------+-----------+-------+------+\n",
      "| customerId | productId | score | rank |\n",
      "+------------+-----------+-------+------+\n",
      "|  1076254   |   920084  |  0.0  |  1   |\n",
      "|  1076254   |   124489  |  0.0  |  2   |\n",
      "|  1076254   |   123507  |  0.0  |  3   |\n",
      "|  1076254   |   123597  |  0.0  |  4   |\n",
      "|  1076254   |   920080  |  0.0  |  5   |\n",
      "|  1076254   |   121413  |  0.0  |  6   |\n",
      "|  1076254   |   920086  |  0.0  |  7   |\n",
      "|  1076254   |   123919  |  0.0  |  8   |\n",
      "|  1076254   |   122181  |  0.0  |  9   |\n",
      "|  1076254   |   920091  |  0.0  |  10  |\n",
      "|  1268548   |   124489  |  0.0  |  1   |\n",
      "|  1268548   |   123507  |  0.0  |  2   |\n",
      "|  1268548   |   123597  |  0.0  |  3   |\n",
      "|  1268548   |   920080  |  0.0  |  4   |\n",
      "|  1268548   |   121413  |  0.0  |  5   |\n",
      "|  1268548   |   920086  |  0.0  |  6   |\n",
      "|  1268548   |   920089  |  0.0  |  7   |\n",
      "|  1268548   |   123919  |  0.0  |  8   |\n",
      "|  1268548   |   122181  |  0.0  |  9   |\n",
      "|  1268548   |   920091  |  0.0  |  10  |\n",
      "|  1709459   |   124489  |  0.0  |  1   |\n",
      "|  1709459   |   123507  |  0.0  |  2   |\n",
      "|  1709459   |   123597  |  0.0  |  3   |\n",
      "|  1709459   |   920080  |  0.0  |  4   |\n",
      "|  1709459   |   121413  |  0.0  |  5   |\n",
      "|  1709459   |   920086  |  0.0  |  6   |\n",
      "|  1709459   |   920089  |  0.0  |  7   |\n",
      "|  1709459   |   123919  |  0.0  |  8   |\n",
      "|  1709459   |   122181  |  0.0  |  9   |\n",
      "|  1709459   |   920091  |  0.0  |  10  |\n",
      "+------------+-----------+-------+------+\n",
      "[79870 rows x 4 columns]\n",
      "\n"
     ]
    }
   ],
   "source": [
    "# these variables will change accordingly\n",
    "name = 'pearson'\n",
    "target = 'purchase_dummy'\n",
    "pear_dummy = model(train_data_dummy, name, user_id, item_id, target, users_to_recommend, n_rec, n_display)"
   ]
  },
  {
   "cell_type": "markdown",
   "metadata": {},
   "source": [
    "#### Using normalized purchase count"
   ]
  },
  {
   "cell_type": "code",
   "execution_count": 65,
   "metadata": {},
   "outputs": [
    {
     "data": {
      "text/html": [
       "<pre>Preparing data set.</pre>"
      ],
      "text/plain": [
       "Preparing data set."
      ]
     },
     "metadata": {},
     "output_type": "display_data"
    },
    {
     "data": {
      "text/html": [
       "<pre>    Data has 16596 observations with 6579 users and 244 items.</pre>"
      ],
      "text/plain": [
       "    Data has 16596 observations with 6579 users and 244 items."
      ]
     },
     "metadata": {},
     "output_type": "display_data"
    },
    {
     "data": {
      "text/html": [
       "<pre>    Data prepared in: 0.047512s</pre>"
      ],
      "text/plain": [
       "    Data prepared in: 0.047512s"
      ]
     },
     "metadata": {},
     "output_type": "display_data"
    },
    {
     "data": {
      "text/html": [
       "<pre>Training model from provided data.</pre>"
      ],
      "text/plain": [
       "Training model from provided data."
      ]
     },
     "metadata": {},
     "output_type": "display_data"
    },
    {
     "data": {
      "text/html": [
       "<pre>Gathering per-item and per-user statistics.</pre>"
      ],
      "text/plain": [
       "Gathering per-item and per-user statistics."
      ]
     },
     "metadata": {},
     "output_type": "display_data"
    },
    {
     "data": {
      "text/html": [
       "<pre>+--------------------------------+------------+</pre>"
      ],
      "text/plain": [
       "+--------------------------------+------------+"
      ]
     },
     "metadata": {},
     "output_type": "display_data"
    },
    {
     "data": {
      "text/html": [
       "<pre>| Elapsed Time (Item Statistics) | % Complete |</pre>"
      ],
      "text/plain": [
       "| Elapsed Time (Item Statistics) | % Complete |"
      ]
     },
     "metadata": {},
     "output_type": "display_data"
    },
    {
     "data": {
      "text/html": [
       "<pre>+--------------------------------+------------+</pre>"
      ],
      "text/plain": [
       "+--------------------------------+------------+"
      ]
     },
     "metadata": {},
     "output_type": "display_data"
    },
    {
     "data": {
      "text/html": [
       "<pre>| 1.092ms                        | 15         |</pre>"
      ],
      "text/plain": [
       "| 1.092ms                        | 15         |"
      ]
     },
     "metadata": {},
     "output_type": "display_data"
    },
    {
     "data": {
      "text/html": [
       "<pre>| 2.941ms                        | 100        |</pre>"
      ],
      "text/plain": [
       "| 2.941ms                        | 100        |"
      ]
     },
     "metadata": {},
     "output_type": "display_data"
    },
    {
     "data": {
      "text/html": [
       "<pre>+--------------------------------+------------+</pre>"
      ],
      "text/plain": [
       "+--------------------------------+------------+"
      ]
     },
     "metadata": {},
     "output_type": "display_data"
    },
    {
     "data": {
      "text/html": [
       "<pre>Setting up lookup tables.</pre>"
      ],
      "text/plain": [
       "Setting up lookup tables."
      ]
     },
     "metadata": {},
     "output_type": "display_data"
    },
    {
     "data": {
      "text/html": [
       "<pre>Processing data in one pass using dense lookup tables.</pre>"
      ],
      "text/plain": [
       "Processing data in one pass using dense lookup tables."
      ]
     },
     "metadata": {},
     "output_type": "display_data"
    },
    {
     "data": {
      "text/html": [
       "<pre>+-------------------------------------+------------------+-----------------+</pre>"
      ],
      "text/plain": [
       "+-------------------------------------+------------------+-----------------+"
      ]
     },
     "metadata": {},
     "output_type": "display_data"
    },
    {
     "data": {
      "text/html": [
       "<pre>| Elapsed Time (Constructing Lookups) | Total % Complete | Items Processed |</pre>"
      ],
      "text/plain": [
       "| Elapsed Time (Constructing Lookups) | Total % Complete | Items Processed |"
      ]
     },
     "metadata": {},
     "output_type": "display_data"
    },
    {
     "data": {
      "text/html": [
       "<pre>+-------------------------------------+------------------+-----------------+</pre>"
      ],
      "text/plain": [
       "+-------------------------------------+------------------+-----------------+"
      ]
     },
     "metadata": {},
     "output_type": "display_data"
    },
    {
     "data": {
      "text/html": [
       "<pre>| 4.048ms                             | 0                | 0               |</pre>"
      ],
      "text/plain": [
       "| 4.048ms                             | 0                | 0               |"
      ]
     },
     "metadata": {},
     "output_type": "display_data"
    },
    {
     "data": {
      "text/html": [
       "<pre>| 8.854ms                             | 100              | 244             |</pre>"
      ],
      "text/plain": [
       "| 8.854ms                             | 100              | 244             |"
      ]
     },
     "metadata": {},
     "output_type": "display_data"
    },
    {
     "data": {
      "text/html": [
       "<pre>+-------------------------------------+------------------+-----------------+</pre>"
      ],
      "text/plain": [
       "+-------------------------------------+------------------+-----------------+"
      ]
     },
     "metadata": {},
     "output_type": "display_data"
    },
    {
     "data": {
      "text/html": [
       "<pre>Finalizing lookup tables.</pre>"
      ],
      "text/plain": [
       "Finalizing lookup tables."
      ]
     },
     "metadata": {},
     "output_type": "display_data"
    },
    {
     "data": {
      "text/html": [
       "<pre>Generating candidate set for working with new users.</pre>"
      ],
      "text/plain": [
       "Generating candidate set for working with new users."
      ]
     },
     "metadata": {},
     "output_type": "display_data"
    },
    {
     "data": {
      "text/html": [
       "<pre>Finished training in 0.011634s</pre>"
      ],
      "text/plain": [
       "Finished training in 0.011634s"
      ]
     },
     "metadata": {},
     "output_type": "display_data"
    },
    {
     "data": {
      "text/html": [
       "<pre>recommendations finished on 1000/7987 queries. users per second: 115300</pre>"
      ],
      "text/plain": [
       "recommendations finished on 1000/7987 queries. users per second: 115300"
      ]
     },
     "metadata": {},
     "output_type": "display_data"
    },
    {
     "data": {
      "text/html": [
       "<pre>recommendations finished on 2000/7987 queries. users per second: 28053.2</pre>"
      ],
      "text/plain": [
       "recommendations finished on 2000/7987 queries. users per second: 28053.2"
      ]
     },
     "metadata": {},
     "output_type": "display_data"
    },
    {
     "data": {
      "text/html": [
       "<pre>recommendations finished on 3000/7987 queries. users per second: 37184.9</pre>"
      ],
      "text/plain": [
       "recommendations finished on 3000/7987 queries. users per second: 37184.9"
      ]
     },
     "metadata": {},
     "output_type": "display_data"
    },
    {
     "data": {
      "text/html": [
       "<pre>recommendations finished on 4000/7987 queries. users per second: 41215</pre>"
      ],
      "text/plain": [
       "recommendations finished on 4000/7987 queries. users per second: 41215"
      ]
     },
     "metadata": {},
     "output_type": "display_data"
    },
    {
     "data": {
      "text/html": [
       "<pre>recommendations finished on 5000/7987 queries. users per second: 44105.3</pre>"
      ],
      "text/plain": [
       "recommendations finished on 5000/7987 queries. users per second: 44105.3"
      ]
     },
     "metadata": {},
     "output_type": "display_data"
    },
    {
     "data": {
      "text/html": [
       "<pre>recommendations finished on 6000/7987 queries. users per second: 46042.3</pre>"
      ],
      "text/plain": [
       "recommendations finished on 6000/7987 queries. users per second: 46042.3"
      ]
     },
     "metadata": {},
     "output_type": "display_data"
    },
    {
     "data": {
      "text/html": [
       "<pre>recommendations finished on 7000/7987 queries. users per second: 47520.8</pre>"
      ],
      "text/plain": [
       "recommendations finished on 7000/7987 queries. users per second: 47520.8"
      ]
     },
     "metadata": {},
     "output_type": "display_data"
    },
    {
     "name": "stdout",
     "output_type": "stream",
     "text": [
      "+------------+-----------+---------------------+------+\n",
      "| customerId | productId |        score        | rank |\n",
      "+------------+-----------+---------------------+------+\n",
      "|  1076254   |   123429  |         1.0         |  1   |\n",
      "|  1076254   |   124533  |         1.0         |  2   |\n",
      "|  1076254   |   123123  |         0.5         |  3   |\n",
      "|  1076254   |   120386  |         0.5         |  4   |\n",
      "|  1076254   |   124074  |         0.5         |  5   |\n",
      "|  1076254   |   124697  |         0.5         |  6   |\n",
      "|  1076254   |   124568  |         0.5         |  7   |\n",
      "|  1076254   |   124517  |  0.4970615267753601 |  8   |\n",
      "|  1076254   |   124669  |  0.4970615267753601 |  9   |\n",
      "|  1076254   |   120976  | 0.42853447369166786 |  10  |\n",
      "|  1268548   |   123429  |         1.0         |  1   |\n",
      "|  1268548   |   124533  |         1.0         |  2   |\n",
      "|  1268548   |   123123  |         0.5         |  3   |\n",
      "|  1268548   |   120386  |         0.5         |  4   |\n",
      "|  1268548   |   124074  |         0.5         |  5   |\n",
      "|  1268548   |   124697  |         0.5         |  6   |\n",
      "|  1268548   |   124568  |         0.5         |  7   |\n",
      "|  1268548   |   124517  | 0.48530763387680054 |  8   |\n",
      "|  1268548   |   124669  | 0.48530763387680054 |  9   |\n",
      "|  1268548   |   120976  |  0.4285714285714286 |  10  |\n",
      "|  1709459   |   123429  |         1.0         |  1   |\n",
      "|  1709459   |   124533  |         1.0         |  2   |\n",
      "|  1709459   |   123123  |         0.5         |  3   |\n",
      "|  1709459   |   124074  |         0.5         |  4   |\n",
      "|  1709459   |   124697  |         0.5         |  5   |\n",
      "|  1709459   |   120386  |  0.4999123513698578 |  6   |\n",
      "|  1709459   |   124568  | 0.49950775504112244 |  7   |\n",
      "|  1709459   |   124517  | 0.49265381693840027 |  8   |\n",
      "|  1709459   |   124669  | 0.49265381693840027 |  9   |\n",
      "|  1709459   |   120976  |  0.4285714285714286 |  10  |\n",
      "+------------+-----------+---------------------+------+\n",
      "[79870 rows x 4 columns]\n",
      "\n"
     ]
    }
   ],
   "source": [
    "name = 'pearson'\n",
    "target = 'scaled_purchase_freq'\n",
    "pear_norm = model(train_data_norm, name, user_id, item_id, target, users_to_recommend, n_rec, n_display)"
   ]
  },
  {
   "cell_type": "markdown",
   "metadata": {},
   "source": [
    "#### Note\n",
    "* In collaborative filtering above, we used two approaches: cosine and pearson distance. We also got to apply them to three training datasets with normal counts, dummy, or normalized counts of items purchase.\n",
    "* We can see that the recommendations are different for each user. This suggests that personalization does exist. \n",
    "* But how good is this model compared to the baseline, and to each other? We need some means of evaluating a recommendation engine. Lets focus on that in the next section."
   ]
  },
  {
   "cell_type": "markdown",
   "metadata": {},
   "source": [
    "## 7. Model Evaluation\n",
    "For evaluating recommendation engines, we can use the concept of precision-recall.\n",
    "\n",
    "* RMSE (Root Mean Squared Errors)\n",
    "    * Measures the error of predicted values\n",
    "    * Lesser the RMSE value, better the recommendations\n",
    "* Recall\n",
    "    * What percentage of products that a user buys are actually recommended?\n",
    "    * If a customer buys 5 products and the recommendation decided to show 3 of them, then the recall is 0.6\n",
    "* Precision\n",
    "    * Out of all the recommended items, how many the user actually liked?\n",
    "    * If 5 products were recommended to the customer out of which he buys 4 of them, then precision is 0.8\n",
    "    \n",
    "* Why are both recall and precision important?\n",
    "    * Consider a case where we recommend all products, so our customers will surely cover the items that they liked and bought. In this case, we have 100% recall! Does this mean our model is good?\n",
    "    * We have to consider precision. If we recommend 300 items but user likes and buys only 3 of them, then precision is 0.1%! This very low precision indicates that the model is not great, despite their excellent recall.\n",
    "    * So our aim has to be optimizing both recall and precision (to be close to 1 as possible).\n",
    "\n",
    "Lets compare all the models we have built based on precision-recall characteristics:"
   ]
  },
  {
   "cell_type": "code",
   "execution_count": 66,
   "metadata": {},
   "outputs": [],
   "source": [
    "# create initial callable variables\n",
    "\n",
    "models_w_counts = [popularity_model, cos, pear]\n",
    "models_w_dummy = [pop_dummy, cos_dummy, pear_dummy]\n",
    "models_w_norm = [pop_norm, cos_norm, pear_norm]\n",
    "\n",
    "names_w_counts = ['Popularity Model on Purchase Counts', 'Cosine Similarity on Purchase Counts', 'Pearson Similarity on Purchase Counts']\n",
    "names_w_dummy = ['Popularity Model on Purchase Dummy', 'Cosine Similarity on Purchase Dummy', 'Pearson Similarity on Purchase Dummy']\n",
    "names_w_norm = ['Popularity Model on Scaled Purchase Counts', 'Cosine Similarity on Scaled Purchase Counts', 'Pearson Similarity on Scaled Purchase Counts']"
   ]
  },
  {
   "cell_type": "markdown",
   "metadata": {},
   "source": [
    "#### Models on purchase counts"
   ]
  },
  {
   "cell_type": "code",
   "execution_count": 89,
   "metadata": {
    "scrolled": false
   },
   "outputs": [
    {
     "name": "stdout",
     "output_type": "stream",
     "text": [
      "PROGRESS: Evaluate model Popularity Model on Purchase Counts\n"
     ]
    },
    {
     "data": {
      "text/html": [
       "<pre>recommendations finished on 1000/13890 queries. users per second: 43512.3</pre>"
      ],
      "text/plain": [
       "recommendations finished on 1000/13890 queries. users per second: 43512.3"
      ]
     },
     "metadata": {},
     "output_type": "display_data"
    },
    {
     "data": {
      "text/html": [
       "<pre>recommendations finished on 2000/13890 queries. users per second: 54665.7</pre>"
      ],
      "text/plain": [
       "recommendations finished on 2000/13890 queries. users per second: 54665.7"
      ]
     },
     "metadata": {},
     "output_type": "display_data"
    },
    {
     "data": {
      "text/html": [
       "<pre>recommendations finished on 3000/13890 queries. users per second: 58828.1</pre>"
      ],
      "text/plain": [
       "recommendations finished on 3000/13890 queries. users per second: 58828.1"
      ]
     },
     "metadata": {},
     "output_type": "display_data"
    },
    {
     "data": {
      "text/html": [
       "<pre>recommendations finished on 4000/13890 queries. users per second: 59864.1</pre>"
      ],
      "text/plain": [
       "recommendations finished on 4000/13890 queries. users per second: 59864.1"
      ]
     },
     "metadata": {},
     "output_type": "display_data"
    },
    {
     "data": {
      "text/html": [
       "<pre>recommendations finished on 5000/13890 queries. users per second: 58179.4</pre>"
      ],
      "text/plain": [
       "recommendations finished on 5000/13890 queries. users per second: 58179.4"
      ]
     },
     "metadata": {},
     "output_type": "display_data"
    },
    {
     "data": {
      "text/html": [
       "<pre>recommendations finished on 6000/13890 queries. users per second: 59434.8</pre>"
      ],
      "text/plain": [
       "recommendations finished on 6000/13890 queries. users per second: 59434.8"
      ]
     },
     "metadata": {},
     "output_type": "display_data"
    },
    {
     "data": {
      "text/html": [
       "<pre>recommendations finished on 7000/13890 queries. users per second: 61126.3</pre>"
      ],
      "text/plain": [
       "recommendations finished on 7000/13890 queries. users per second: 61126.3"
      ]
     },
     "metadata": {},
     "output_type": "display_data"
    },
    {
     "data": {
      "text/html": [
       "<pre>recommendations finished on 8000/13890 queries. users per second: 62199.2</pre>"
      ],
      "text/plain": [
       "recommendations finished on 8000/13890 queries. users per second: 62199.2"
      ]
     },
     "metadata": {},
     "output_type": "display_data"
    },
    {
     "data": {
      "text/html": [
       "<pre>recommendations finished on 9000/13890 queries. users per second: 59719.3</pre>"
      ],
      "text/plain": [
       "recommendations finished on 9000/13890 queries. users per second: 59719.3"
      ]
     },
     "metadata": {},
     "output_type": "display_data"
    },
    {
     "data": {
      "text/html": [
       "<pre>recommendations finished on 10000/13890 queries. users per second: 61775.7</pre>"
      ],
      "text/plain": [
       "recommendations finished on 10000/13890 queries. users per second: 61775.7"
      ]
     },
     "metadata": {},
     "output_type": "display_data"
    },
    {
     "data": {
      "text/html": [
       "<pre>recommendations finished on 11000/13890 queries. users per second: 56748.1</pre>"
      ],
      "text/plain": [
       "recommendations finished on 11000/13890 queries. users per second: 56748.1"
      ]
     },
     "metadata": {},
     "output_type": "display_data"
    },
    {
     "data": {
      "text/html": [
       "<pre>recommendations finished on 12000/13890 queries. users per second: 56597.9</pre>"
      ],
      "text/plain": [
       "recommendations finished on 12000/13890 queries. users per second: 56597.9"
      ]
     },
     "metadata": {},
     "output_type": "display_data"
    },
    {
     "data": {
      "text/html": [
       "<pre>recommendations finished on 13000/13890 queries. users per second: 51507.8</pre>"
      ],
      "text/plain": [
       "recommendations finished on 13000/13890 queries. users per second: 51507.8"
      ]
     },
     "metadata": {},
     "output_type": "display_data"
    },
    {
     "name": "stdout",
     "output_type": "stream",
     "text": [
      "\n",
      "Precision and recall summary statistics by cutoff\n",
      "+--------+-----------------------+------------------------+\n",
      "| cutoff |     mean_precision    |      mean_recall       |\n",
      "+--------+-----------------------+------------------------+\n",
      "|   1    | 0.0007199424046076297 | 0.00029346223730672953 |\n",
      "|   2    |  0.003167746580273574 | 0.0031647468202543752  |\n",
      "|   3    | 0.0034317254619630373 |  0.005225953352303244  |\n",
      "|   4    | 0.0029157667386609147 |  0.005793716226204202  |\n",
      "|   5    |  0.006133909287257029 |  0.01590833513184247   |\n",
      "|   6    |  0.00643148548116152  |  0.020268614880891146  |\n",
      "|   7    | 0.0059035277177825855 |  0.021857490368254646  |\n",
      "|   8    | 0.0055795536357091365 |  0.023666719655885578  |\n",
      "|   9    |  0.005391568674506037 |  0.02583266066631922   |\n",
      "|   10   |  0.005363570914326852 |  0.028737828252912132  |\n",
      "+--------+-----------------------+------------------------+\n",
      "[10 rows x 3 columns]\n",
      "\n",
      "\n",
      "Overall RMSE: 1.1111750034210488\n",
      "\n",
      "Per User RMSE (best)\n",
      "+------------+----------------------+-------+\n",
      "| customerId |         rmse         | count |\n",
      "+------------+----------------------+-------+\n",
      "|   24961    | 0.005494505494505475 |   1   |\n",
      "+------------+----------------------+-------+\n",
      "[1 rows x 3 columns]\n",
      "\n",
      "\n",
      "Per User RMSE (worst)\n",
      "+------------+--------------------+-------+\n",
      "| customerId |        rmse        | count |\n",
      "+------------+--------------------+-------+\n",
      "|    1734    | 31.494913748997938 |   2   |\n",
      "+------------+--------------------+-------+\n",
      "[1 rows x 3 columns]\n",
      "\n",
      "\n",
      "Per Item RMSE (best)\n",
      "+-----------+---------------------+-------+\n",
      "| productId |         rmse        | count |\n",
      "+-----------+---------------------+-------+\n",
      "|    285    | 0.30586091556610745 |   81  |\n",
      "+-----------+---------------------+-------+\n",
      "[1 rows x 3 columns]\n",
      "\n",
      "\n",
      "Per Item RMSE (worst)\n",
      "+-----------+--------------------+-------+\n",
      "| productId |        rmse        | count |\n",
      "+-----------+--------------------+-------+\n",
      "|    173    | 15.625124386107311 |   22  |\n",
      "+-----------+--------------------+-------+\n",
      "[1 rows x 3 columns]\n",
      "\n",
      "PROGRESS: Evaluate model Cosine Similarity on Purchase Counts\n"
     ]
    },
    {
     "data": {
      "text/html": [
       "<pre>recommendations finished on 1000/13890 queries. users per second: 30611.9</pre>"
      ],
      "text/plain": [
       "recommendations finished on 1000/13890 queries. users per second: 30611.9"
      ]
     },
     "metadata": {},
     "output_type": "display_data"
    },
    {
     "data": {
      "text/html": [
       "<pre>recommendations finished on 2000/13890 queries. users per second: 39265.7</pre>"
      ],
      "text/plain": [
       "recommendations finished on 2000/13890 queries. users per second: 39265.7"
      ]
     },
     "metadata": {},
     "output_type": "display_data"
    },
    {
     "data": {
      "text/html": [
       "<pre>recommendations finished on 3000/13890 queries. users per second: 41076.2</pre>"
      ],
      "text/plain": [
       "recommendations finished on 3000/13890 queries. users per second: 41076.2"
      ]
     },
     "metadata": {},
     "output_type": "display_data"
    },
    {
     "data": {
      "text/html": [
       "<pre>recommendations finished on 4000/13890 queries. users per second: 42872</pre>"
      ],
      "text/plain": [
       "recommendations finished on 4000/13890 queries. users per second: 42872"
      ]
     },
     "metadata": {},
     "output_type": "display_data"
    },
    {
     "data": {
      "text/html": [
       "<pre>recommendations finished on 5000/13890 queries. users per second: 45739.4</pre>"
      ],
      "text/plain": [
       "recommendations finished on 5000/13890 queries. users per second: 45739.4"
      ]
     },
     "metadata": {},
     "output_type": "display_data"
    },
    {
     "data": {
      "text/html": [
       "<pre>recommendations finished on 6000/13890 queries. users per second: 48359.4</pre>"
      ],
      "text/plain": [
       "recommendations finished on 6000/13890 queries. users per second: 48359.4"
      ]
     },
     "metadata": {},
     "output_type": "display_data"
    },
    {
     "data": {
      "text/html": [
       "<pre>recommendations finished on 7000/13890 queries. users per second: 46662.3</pre>"
      ],
      "text/plain": [
       "recommendations finished on 7000/13890 queries. users per second: 46662.3"
      ]
     },
     "metadata": {},
     "output_type": "display_data"
    },
    {
     "data": {
      "text/html": [
       "<pre>recommendations finished on 8000/13890 queries. users per second: 45680.1</pre>"
      ],
      "text/plain": [
       "recommendations finished on 8000/13890 queries. users per second: 45680.1"
      ]
     },
     "metadata": {},
     "output_type": "display_data"
    },
    {
     "data": {
      "text/html": [
       "<pre>recommendations finished on 9000/13890 queries. users per second: 45810.2</pre>"
      ],
      "text/plain": [
       "recommendations finished on 9000/13890 queries. users per second: 45810.2"
      ]
     },
     "metadata": {},
     "output_type": "display_data"
    },
    {
     "data": {
      "text/html": [
       "<pre>recommendations finished on 10000/13890 queries. users per second: 46602.7</pre>"
      ],
      "text/plain": [
       "recommendations finished on 10000/13890 queries. users per second: 46602.7"
      ]
     },
     "metadata": {},
     "output_type": "display_data"
    },
    {
     "data": {
      "text/html": [
       "<pre>recommendations finished on 11000/13890 queries. users per second: 46719.6</pre>"
      ],
      "text/plain": [
       "recommendations finished on 11000/13890 queries. users per second: 46719.6"
      ]
     },
     "metadata": {},
     "output_type": "display_data"
    },
    {
     "data": {
      "text/html": [
       "<pre>recommendations finished on 12000/13890 queries. users per second: 46547.4</pre>"
      ],
      "text/plain": [
       "recommendations finished on 12000/13890 queries. users per second: 46547.4"
      ]
     },
     "metadata": {},
     "output_type": "display_data"
    },
    {
     "data": {
      "text/html": [
       "<pre>recommendations finished on 13000/13890 queries. users per second: 46695.7</pre>"
      ],
      "text/plain": [
       "recommendations finished on 13000/13890 queries. users per second: 46695.7"
      ]
     },
     "metadata": {},
     "output_type": "display_data"
    },
    {
     "name": "stdout",
     "output_type": "stream",
     "text": [
      "\n",
      "Precision and recall summary statistics by cutoff\n",
      "+--------+----------------------+---------------------+\n",
      "| cutoff |    mean_precision    |     mean_recall     |\n",
      "+--------+----------------------+---------------------+\n",
      "|   1    | 0.06335493160547198  | 0.03506211424106219 |\n",
      "|   2    | 0.06263498920086356  | 0.07230791509969706 |\n",
      "|   3    | 0.05097192224622066  | 0.08726852084863941 |\n",
      "|   4    | 0.04321454283657309  | 0.09728549302056154 |\n",
      "|   5    | 0.03832973362131041  | 0.10678978981967435 |\n",
      "|   6    | 0.034641228701704024 |  0.1143935243780528 |\n",
      "|   7    | 0.032150570811478006 | 0.12289104457643715 |\n",
      "|   8    | 0.030192584593232753 |  0.1315870411077297 |\n",
      "|   9    | 0.02850971922246227  | 0.13891659760035277 |\n",
      "|   10   | 0.027048236141108645 |  0.1465656410215347 |\n",
      "+--------+----------------------+---------------------+\n",
      "[10 rows x 3 columns]\n",
      "\n",
      "\n",
      "Overall RMSE: 1.9230643981653215\n",
      "\n",
      "Per User RMSE (best)\n",
      "+------------+---------------------+-------+\n",
      "| customerId |         rmse        | count |\n",
      "+------------+---------------------+-------+\n",
      "|   19062    | 0.08789730072021484 |   1   |\n",
      "+------------+---------------------+-------+\n",
      "[1 rows x 3 columns]\n",
      "\n",
      "\n",
      "Per User RMSE (worst)\n",
      "+------------+--------------------+-------+\n",
      "| customerId |        rmse        | count |\n",
      "+------------+--------------------+-------+\n",
      "|    1734    | 32.479967392712155 |   2   |\n",
      "+------------+--------------------+-------+\n",
      "[1 rows x 3 columns]\n",
      "\n",
      "\n",
      "Per Item RMSE (best)\n",
      "+-----------+--------------------+-------+\n",
      "| productId |        rmse        | count |\n",
      "+-----------+--------------------+-------+\n",
      "|    221    | 1.0367742069892645 |   71  |\n",
      "+-----------+--------------------+-------+\n",
      "[1 rows x 3 columns]\n",
      "\n",
      "\n",
      "Per Item RMSE (worst)\n",
      "+-----------+--------------------+-------+\n",
      "| productId |        rmse        | count |\n",
      "+-----------+--------------------+-------+\n",
      "|    173    | 15.908946208920582 |   22  |\n",
      "+-----------+--------------------+-------+\n",
      "[1 rows x 3 columns]\n",
      "\n",
      "PROGRESS: Evaluate model Pearson Similarity on Purchase Counts\n"
     ]
    },
    {
     "data": {
      "text/html": [
       "<pre>recommendations finished on 1000/13890 queries. users per second: 28400.2</pre>"
      ],
      "text/plain": [
       "recommendations finished on 1000/13890 queries. users per second: 28400.2"
      ]
     },
     "metadata": {},
     "output_type": "display_data"
    },
    {
     "data": {
      "text/html": [
       "<pre>recommendations finished on 2000/13890 queries. users per second: 36702.6</pre>"
      ],
      "text/plain": [
       "recommendations finished on 2000/13890 queries. users per second: 36702.6"
      ]
     },
     "metadata": {},
     "output_type": "display_data"
    },
    {
     "data": {
      "text/html": [
       "<pre>recommendations finished on 3000/13890 queries. users per second: 34415.9</pre>"
      ],
      "text/plain": [
       "recommendations finished on 3000/13890 queries. users per second: 34415.9"
      ]
     },
     "metadata": {},
     "output_type": "display_data"
    },
    {
     "data": {
      "text/html": [
       "<pre>recommendations finished on 4000/13890 queries. users per second: 37464.1</pre>"
      ],
      "text/plain": [
       "recommendations finished on 4000/13890 queries. users per second: 37464.1"
      ]
     },
     "metadata": {},
     "output_type": "display_data"
    },
    {
     "data": {
      "text/html": [
       "<pre>recommendations finished on 5000/13890 queries. users per second: 38070.6</pre>"
      ],
      "text/plain": [
       "recommendations finished on 5000/13890 queries. users per second: 38070.6"
      ]
     },
     "metadata": {},
     "output_type": "display_data"
    },
    {
     "data": {
      "text/html": [
       "<pre>recommendations finished on 6000/13890 queries. users per second: 39102</pre>"
      ],
      "text/plain": [
       "recommendations finished on 6000/13890 queries. users per second: 39102"
      ]
     },
     "metadata": {},
     "output_type": "display_data"
    },
    {
     "data": {
      "text/html": [
       "<pre>recommendations finished on 7000/13890 queries. users per second: 41005.2</pre>"
      ],
      "text/plain": [
       "recommendations finished on 7000/13890 queries. users per second: 41005.2"
      ]
     },
     "metadata": {},
     "output_type": "display_data"
    },
    {
     "data": {
      "text/html": [
       "<pre>recommendations finished on 8000/13890 queries. users per second: 42008.6</pre>"
      ],
      "text/plain": [
       "recommendations finished on 8000/13890 queries. users per second: 42008.6"
      ]
     },
     "metadata": {},
     "output_type": "display_data"
    },
    {
     "data": {
      "text/html": [
       "<pre>recommendations finished on 9000/13890 queries. users per second: 43266.1</pre>"
      ],
      "text/plain": [
       "recommendations finished on 9000/13890 queries. users per second: 43266.1"
      ]
     },
     "metadata": {},
     "output_type": "display_data"
    },
    {
     "data": {
      "text/html": [
       "<pre>recommendations finished on 10000/13890 queries. users per second: 40582.4</pre>"
      ],
      "text/plain": [
       "recommendations finished on 10000/13890 queries. users per second: 40582.4"
      ]
     },
     "metadata": {},
     "output_type": "display_data"
    },
    {
     "data": {
      "text/html": [
       "<pre>recommendations finished on 11000/13890 queries. users per second: 40487.5</pre>"
      ],
      "text/plain": [
       "recommendations finished on 11000/13890 queries. users per second: 40487.5"
      ]
     },
     "metadata": {},
     "output_type": "display_data"
    },
    {
     "data": {
      "text/html": [
       "<pre>recommendations finished on 12000/13890 queries. users per second: 40891.7</pre>"
      ],
      "text/plain": [
       "recommendations finished on 12000/13890 queries. users per second: 40891.7"
      ]
     },
     "metadata": {},
     "output_type": "display_data"
    },
    {
     "data": {
      "text/html": [
       "<pre>recommendations finished on 13000/13890 queries. users per second: 41214.9</pre>"
      ],
      "text/plain": [
       "recommendations finished on 13000/13890 queries. users per second: 41214.9"
      ]
     },
     "metadata": {},
     "output_type": "display_data"
    },
    {
     "name": "stdout",
     "output_type": "stream",
     "text": [
      "\n",
      "Precision and recall summary statistics by cutoff\n",
      "+--------+----------------------+----------------------+\n",
      "| cutoff |    mean_precision    |     mean_recall      |\n",
      "+--------+----------------------+----------------------+\n",
      "|   1    | 0.06357091432685413  | 0.035144393373017405 |\n",
      "|   2    |  0.0624910007199426  | 0.07222392181915947  |\n",
      "|   3    | 0.051091912646988306 | 0.08727520602811081  |\n",
      "|   4    | 0.043178545716342755 |  0.0968562746107815  |\n",
      "|   5    | 0.03832973362131065  | 0.10616781100655155  |\n",
      "|   6    | 0.034569234461243395 | 0.11430058895574437  |\n",
      "|   7    | 0.03175974493469068  | 0.12174051064512559  |\n",
      "|   8    | 0.030039596832253546 | 0.13105989027280296  |\n",
      "|   9    | 0.028413726901847833 | 0.13911332731652126  |\n",
      "|   10   | 0.027041036717062584 | 0.14659112729432097  |\n",
      "+--------+----------------------+----------------------+\n",
      "[10 rows x 3 columns]\n",
      "\n",
      "\n",
      "Overall RMSE: 1.9231102838192284\n",
      "\n",
      "Per User RMSE (best)\n",
      "+------------+---------------------+-------+\n",
      "| customerId |         rmse        | count |\n",
      "+------------+---------------------+-------+\n",
      "|   19062    | 0.08789730072021484 |   1   |\n",
      "+------------+---------------------+-------+\n",
      "[1 rows x 3 columns]\n",
      "\n",
      "\n",
      "Per User RMSE (worst)\n",
      "+------------+--------------------+-------+\n",
      "| customerId |        rmse        | count |\n",
      "+------------+--------------------+-------+\n",
      "|    1734    | 32.479967392712155 |   2   |\n",
      "+------------+--------------------+-------+\n",
      "[1 rows x 3 columns]\n",
      "\n",
      "\n",
      "Per Item RMSE (best)\n",
      "+-----------+--------------------+-------+\n",
      "| productId |        rmse        | count |\n",
      "+-----------+--------------------+-------+\n",
      "|    221    | 1.0367742069892645 |   71  |\n",
      "+-----------+--------------------+-------+\n",
      "[1 rows x 3 columns]\n",
      "\n",
      "\n",
      "Per Item RMSE (worst)\n",
      "+-----------+--------------------+-------+\n",
      "| productId |        rmse        | count |\n",
      "+-----------+--------------------+-------+\n",
      "|    173    | 15.909412058124065 |   22  |\n",
      "+-----------+--------------------+-------+\n",
      "[1 rows x 3 columns]\n",
      "\n"
     ]
    }
   ],
   "source": [
    "eval_counts = tc.recommender.util.compare_models(test_data, models_w_counts, model_names=names_w_counts)"
   ]
  },
  {
   "cell_type": "markdown",
   "metadata": {},
   "source": [
    "#### Models on purchase dummy"
   ]
  },
  {
   "cell_type": "code",
   "execution_count": 91,
   "metadata": {
    "scrolled": false
   },
   "outputs": [
    {
     "name": "stdout",
     "output_type": "stream",
     "text": [
      "PROGRESS: Evaluate model Popularity Model on Purchase Dummy\n"
     ]
    },
    {
     "data": {
      "text/html": [
       "<pre>recommendations finished on 1000/13921 queries. users per second: 50289.2</pre>"
      ],
      "text/plain": [
       "recommendations finished on 1000/13921 queries. users per second: 50289.2"
      ]
     },
     "metadata": {},
     "output_type": "display_data"
    },
    {
     "data": {
      "text/html": [
       "<pre>recommendations finished on 2000/13921 queries. users per second: 52588.7</pre>"
      ],
      "text/plain": [
       "recommendations finished on 2000/13921 queries. users per second: 52588.7"
      ]
     },
     "metadata": {},
     "output_type": "display_data"
    },
    {
     "data": {
      "text/html": [
       "<pre>recommendations finished on 3000/13921 queries. users per second: 58364.6</pre>"
      ],
      "text/plain": [
       "recommendations finished on 3000/13921 queries. users per second: 58364.6"
      ]
     },
     "metadata": {},
     "output_type": "display_data"
    },
    {
     "data": {
      "text/html": [
       "<pre>recommendations finished on 4000/13921 queries. users per second: 55436.2</pre>"
      ],
      "text/plain": [
       "recommendations finished on 4000/13921 queries. users per second: 55436.2"
      ]
     },
     "metadata": {},
     "output_type": "display_data"
    },
    {
     "data": {
      "text/html": [
       "<pre>recommendations finished on 5000/13921 queries. users per second: 50708.4</pre>"
      ],
      "text/plain": [
       "recommendations finished on 5000/13921 queries. users per second: 50708.4"
      ]
     },
     "metadata": {},
     "output_type": "display_data"
    },
    {
     "data": {
      "text/html": [
       "<pre>recommendations finished on 6000/13921 queries. users per second: 45501.1</pre>"
      ],
      "text/plain": [
       "recommendations finished on 6000/13921 queries. users per second: 45501.1"
      ]
     },
     "metadata": {},
     "output_type": "display_data"
    },
    {
     "data": {
      "text/html": [
       "<pre>recommendations finished on 7000/13921 queries. users per second: 46072.9</pre>"
      ],
      "text/plain": [
       "recommendations finished on 7000/13921 queries. users per second: 46072.9"
      ]
     },
     "metadata": {},
     "output_type": "display_data"
    },
    {
     "data": {
      "text/html": [
       "<pre>recommendations finished on 8000/13921 queries. users per second: 48406.2</pre>"
      ],
      "text/plain": [
       "recommendations finished on 8000/13921 queries. users per second: 48406.2"
      ]
     },
     "metadata": {},
     "output_type": "display_data"
    },
    {
     "data": {
      "text/html": [
       "<pre>recommendations finished on 9000/13921 queries. users per second: 49760.3</pre>"
      ],
      "text/plain": [
       "recommendations finished on 9000/13921 queries. users per second: 49760.3"
      ]
     },
     "metadata": {},
     "output_type": "display_data"
    },
    {
     "data": {
      "text/html": [
       "<pre>recommendations finished on 10000/13921 queries. users per second: 51320.7</pre>"
      ],
      "text/plain": [
       "recommendations finished on 10000/13921 queries. users per second: 51320.7"
      ]
     },
     "metadata": {},
     "output_type": "display_data"
    },
    {
     "data": {
      "text/html": [
       "<pre>recommendations finished on 11000/13921 queries. users per second: 52507</pre>"
      ],
      "text/plain": [
       "recommendations finished on 11000/13921 queries. users per second: 52507"
      ]
     },
     "metadata": {},
     "output_type": "display_data"
    },
    {
     "data": {
      "text/html": [
       "<pre>recommendations finished on 12000/13921 queries. users per second: 50865.6</pre>"
      ],
      "text/plain": [
       "recommendations finished on 12000/13921 queries. users per second: 50865.6"
      ]
     },
     "metadata": {},
     "output_type": "display_data"
    },
    {
     "data": {
      "text/html": [
       "<pre>recommendations finished on 13000/13921 queries. users per second: 50216.7</pre>"
      ],
      "text/plain": [
       "recommendations finished on 13000/13921 queries. users per second: 50216.7"
      ]
     },
     "metadata": {},
     "output_type": "display_data"
    },
    {
     "name": "stdout",
     "output_type": "stream",
     "text": [
      "\n",
      "Precision and recall summary statistics by cutoff\n",
      "+--------+----------------------+----------------------+\n",
      "| cutoff |    mean_precision    |     mean_recall      |\n",
      "+--------+----------------------+----------------------+\n",
      "|   1    | 0.05430644350262212  | 0.030314648895390185 |\n",
      "|   2    | 0.054521945262552975 | 0.06031738893404705  |\n",
      "|   3    | 0.04575820702535739  | 0.07481887179538214  |\n",
      "|   4    | 0.03837727174771911  | 0.08234835646340455  |\n",
      "|   5    | 0.03409237842109061  |  0.0905290880664835  |\n",
      "|   6    | 0.03139142302995476  | 0.09898045781970626  |\n",
      "|   7    | 0.029534003099120503 |  0.108245485128516   |\n",
      "|   8    | 0.027835643991092555 | 0.11626777864484733  |\n",
      "|   9    | 0.026482771831525472 | 0.12401884389627199  |\n",
      "|   10   | 0.025623159255800585 |  0.1343114499883889  |\n",
      "+--------+----------------------+----------------------+\n",
      "[10 rows x 3 columns]\n",
      "\n",
      "\n",
      "Overall RMSE: 0.9697374361161925\n",
      "\n",
      "Per User RMSE (best)\n",
      "+------------+--------------------+-------+\n",
      "| customerId |        rmse        | count |\n",
      "+------------+--------------------+-------+\n",
      "|   16533    | 0.5217012166976929 |   1   |\n",
      "+------------+--------------------+-------+\n",
      "[1 rows x 3 columns]\n",
      "\n",
      "\n",
      "Per User RMSE (worst)\n",
      "+------------+------+-------+\n",
      "| customerId | rmse | count |\n",
      "+------------+------+-------+\n",
      "|   21855    | 1.0  |   1   |\n",
      "+------------+------+-------+\n",
      "[1 rows x 3 columns]\n",
      "\n",
      "\n",
      "Per Item RMSE (best)\n",
      "+-----------+--------------------+-------+\n",
      "| productId |        rmse        | count |\n",
      "+-----------+--------------------+-------+\n",
      "|     48    | 0.8757537138128805 |  126  |\n",
      "+-----------+--------------------+-------+\n",
      "[1 rows x 3 columns]\n",
      "\n",
      "\n",
      "Per Item RMSE (worst)\n",
      "+-----------+--------------------+-------+\n",
      "| productId |        rmse        | count |\n",
      "+-----------+--------------------+-------+\n",
      "|    125    | 0.9998055760386703 |   30  |\n",
      "+-----------+--------------------+-------+\n",
      "[1 rows x 3 columns]\n",
      "\n",
      "PROGRESS: Evaluate model Cosine Similarity on Purchase Dummy\n"
     ]
    },
    {
     "data": {
      "text/html": [
       "<pre>recommendations finished on 1000/13921 queries. users per second: 24396.2</pre>"
      ],
      "text/plain": [
       "recommendations finished on 1000/13921 queries. users per second: 24396.2"
      ]
     },
     "metadata": {},
     "output_type": "display_data"
    },
    {
     "data": {
      "text/html": [
       "<pre>recommendations finished on 2000/13921 queries. users per second: 31791.4</pre>"
      ],
      "text/plain": [
       "recommendations finished on 2000/13921 queries. users per second: 31791.4"
      ]
     },
     "metadata": {},
     "output_type": "display_data"
    },
    {
     "data": {
      "text/html": [
       "<pre>recommendations finished on 3000/13921 queries. users per second: 38362.7</pre>"
      ],
      "text/plain": [
       "recommendations finished on 3000/13921 queries. users per second: 38362.7"
      ]
     },
     "metadata": {},
     "output_type": "display_data"
    },
    {
     "data": {
      "text/html": [
       "<pre>recommendations finished on 4000/13921 queries. users per second: 41134.9</pre>"
      ],
      "text/plain": [
       "recommendations finished on 4000/13921 queries. users per second: 41134.9"
      ]
     },
     "metadata": {},
     "output_type": "display_data"
    },
    {
     "data": {
      "text/html": [
       "<pre>recommendations finished on 5000/13921 queries. users per second: 43943.3</pre>"
      ],
      "text/plain": [
       "recommendations finished on 5000/13921 queries. users per second: 43943.3"
      ]
     },
     "metadata": {},
     "output_type": "display_data"
    },
    {
     "data": {
      "text/html": [
       "<pre>recommendations finished on 6000/13921 queries. users per second: 45530.8</pre>"
      ],
      "text/plain": [
       "recommendations finished on 6000/13921 queries. users per second: 45530.8"
      ]
     },
     "metadata": {},
     "output_type": "display_data"
    },
    {
     "data": {
      "text/html": [
       "<pre>recommendations finished on 7000/13921 queries. users per second: 46417.6</pre>"
      ],
      "text/plain": [
       "recommendations finished on 7000/13921 queries. users per second: 46417.6"
      ]
     },
     "metadata": {},
     "output_type": "display_data"
    },
    {
     "data": {
      "text/html": [
       "<pre>recommendations finished on 8000/13921 queries. users per second: 47997.9</pre>"
      ],
      "text/plain": [
       "recommendations finished on 8000/13921 queries. users per second: 47997.9"
      ]
     },
     "metadata": {},
     "output_type": "display_data"
    },
    {
     "data": {
      "text/html": [
       "<pre>recommendations finished on 9000/13921 queries. users per second: 49044.7</pre>"
      ],
      "text/plain": [
       "recommendations finished on 9000/13921 queries. users per second: 49044.7"
      ]
     },
     "metadata": {},
     "output_type": "display_data"
    },
    {
     "data": {
      "text/html": [
       "<pre>recommendations finished on 10000/13921 queries. users per second: 49695.9</pre>"
      ],
      "text/plain": [
       "recommendations finished on 10000/13921 queries. users per second: 49695.9"
      ]
     },
     "metadata": {},
     "output_type": "display_data"
    },
    {
     "data": {
      "text/html": [
       "<pre>recommendations finished on 11000/13921 queries. users per second: 48252.6</pre>"
      ],
      "text/plain": [
       "recommendations finished on 11000/13921 queries. users per second: 48252.6"
      ]
     },
     "metadata": {},
     "output_type": "display_data"
    },
    {
     "data": {
      "text/html": [
       "<pre>recommendations finished on 12000/13921 queries. users per second: 49291.8</pre>"
      ],
      "text/plain": [
       "recommendations finished on 12000/13921 queries. users per second: 49291.8"
      ]
     },
     "metadata": {},
     "output_type": "display_data"
    },
    {
     "data": {
      "text/html": [
       "<pre>recommendations finished on 13000/13921 queries. users per second: 50438</pre>"
      ],
      "text/plain": [
       "recommendations finished on 13000/13921 queries. users per second: 50438"
      ]
     },
     "metadata": {},
     "output_type": "display_data"
    },
    {
     "name": "stdout",
     "output_type": "stream",
     "text": [
      "\n",
      "Precision and recall summary statistics by cutoff\n",
      "+--------+----------------------+---------------------+\n",
      "| cutoff |    mean_precision    |     mean_recall     |\n",
      "+--------+----------------------+---------------------+\n",
      "|   1    |  0.0549529487824151  | 0.03061267414672341 |\n",
      "|   2    | 0.05448602830256436  | 0.06034552388603806 |\n",
      "|   3    | 0.045758207025357586 | 0.07498768562309908 |\n",
      "|   4    | 0.037784641907909054 |  0.0815998700808042 |\n",
      "|   5    | 0.03356080741326061  | 0.09043569918636968 |\n",
      "|   6    | 0.03131958910997786  | 0.09997398456210141 |\n",
      "|   7    | 0.029585313041961357 | 0.10916704060613812 |\n",
      "|   8    | 0.02803318727102923  | 0.11750801162579602 |\n",
      "|   9    | 0.026913775351387562 | 0.12632150625478447 |\n",
      "|   10   | 0.025759643703756923 | 0.13419136827664874 |\n",
      "+--------+----------------------+---------------------+\n",
      "[10 rows x 3 columns]\n",
      "\n",
      "\n",
      "Overall RMSE: 0.9697509978436404\n",
      "\n",
      "Per User RMSE (best)\n",
      "+------------+--------------------+-------+\n",
      "| customerId |        rmse        | count |\n",
      "+------------+--------------------+-------+\n",
      "|   16533    | 0.5217012166976929 |   1   |\n",
      "+------------+--------------------+-------+\n",
      "[1 rows x 3 columns]\n",
      "\n",
      "\n",
      "Per User RMSE (worst)\n",
      "+------------+------+-------+\n",
      "| customerId | rmse | count |\n",
      "+------------+------+-------+\n",
      "|   21855    | 1.0  |   1   |\n",
      "+------------+------+-------+\n",
      "[1 rows x 3 columns]\n",
      "\n",
      "\n",
      "Per Item RMSE (best)\n",
      "+-----------+--------------------+-------+\n",
      "| productId |        rmse        | count |\n",
      "+-----------+--------------------+-------+\n",
      "|     48    | 0.8763500764913853 |  126  |\n",
      "+-----------+--------------------+-------+\n",
      "[1 rows x 3 columns]\n",
      "\n",
      "\n",
      "Per Item RMSE (worst)\n",
      "+-----------+-------------------+-------+\n",
      "| productId |        rmse       | count |\n",
      "+-----------+-------------------+-------+\n",
      "|    125    | 0.999784349388279 |   30  |\n",
      "+-----------+-------------------+-------+\n",
      "[1 rows x 3 columns]\n",
      "\n",
      "PROGRESS: Evaluate model Pearson Similarity on Purchase Dummy\n"
     ]
    },
    {
     "data": {
      "text/html": [
       "<pre>recommendations finished on 1000/13921 queries. users per second: 43133.2</pre>"
      ],
      "text/plain": [
       "recommendations finished on 1000/13921 queries. users per second: 43133.2"
      ]
     },
     "metadata": {},
     "output_type": "display_data"
    },
    {
     "data": {
      "text/html": [
       "<pre>recommendations finished on 2000/13921 queries. users per second: 37999</pre>"
      ],
      "text/plain": [
       "recommendations finished on 2000/13921 queries. users per second: 37999"
      ]
     },
     "metadata": {},
     "output_type": "display_data"
    },
    {
     "data": {
      "text/html": [
       "<pre>recommendations finished on 3000/13921 queries. users per second: 41703.2</pre>"
      ],
      "text/plain": [
       "recommendations finished on 3000/13921 queries. users per second: 41703.2"
      ]
     },
     "metadata": {},
     "output_type": "display_data"
    },
    {
     "data": {
      "text/html": [
       "<pre>recommendations finished on 4000/13921 queries. users per second: 44229.2</pre>"
      ],
      "text/plain": [
       "recommendations finished on 4000/13921 queries. users per second: 44229.2"
      ]
     },
     "metadata": {},
     "output_type": "display_data"
    },
    {
     "data": {
      "text/html": [
       "<pre>recommendations finished on 5000/13921 queries. users per second: 40839.7</pre>"
      ],
      "text/plain": [
       "recommendations finished on 5000/13921 queries. users per second: 40839.7"
      ]
     },
     "metadata": {},
     "output_type": "display_data"
    },
    {
     "data": {
      "text/html": [
       "<pre>recommendations finished on 6000/13921 queries. users per second: 39561.4</pre>"
      ],
      "text/plain": [
       "recommendations finished on 6000/13921 queries. users per second: 39561.4"
      ]
     },
     "metadata": {},
     "output_type": "display_data"
    },
    {
     "data": {
      "text/html": [
       "<pre>recommendations finished on 7000/13921 queries. users per second: 41149.4</pre>"
      ],
      "text/plain": [
       "recommendations finished on 7000/13921 queries. users per second: 41149.4"
      ]
     },
     "metadata": {},
     "output_type": "display_data"
    },
    {
     "data": {
      "text/html": [
       "<pre>recommendations finished on 8000/13921 queries. users per second: 43333.4</pre>"
      ],
      "text/plain": [
       "recommendations finished on 8000/13921 queries. users per second: 43333.4"
      ]
     },
     "metadata": {},
     "output_type": "display_data"
    },
    {
     "data": {
      "text/html": [
       "<pre>recommendations finished on 9000/13921 queries. users per second: 44855.1</pre>"
      ],
      "text/plain": [
       "recommendations finished on 9000/13921 queries. users per second: 44855.1"
      ]
     },
     "metadata": {},
     "output_type": "display_data"
    },
    {
     "data": {
      "text/html": [
       "<pre>recommendations finished on 10000/13921 queries. users per second: 45889.5</pre>"
      ],
      "text/plain": [
       "recommendations finished on 10000/13921 queries. users per second: 45889.5"
      ]
     },
     "metadata": {},
     "output_type": "display_data"
    },
    {
     "data": {
      "text/html": [
       "<pre>recommendations finished on 11000/13921 queries. users per second: 45760.7</pre>"
      ],
      "text/plain": [
       "recommendations finished on 11000/13921 queries. users per second: 45760.7"
      ]
     },
     "metadata": {},
     "output_type": "display_data"
    },
    {
     "data": {
      "text/html": [
       "<pre>recommendations finished on 12000/13921 queries. users per second: 45468.3</pre>"
      ],
      "text/plain": [
       "recommendations finished on 12000/13921 queries. users per second: 45468.3"
      ]
     },
     "metadata": {},
     "output_type": "display_data"
    },
    {
     "data": {
      "text/html": [
       "<pre>recommendations finished on 13000/13921 queries. users per second: 45588</pre>"
      ],
      "text/plain": [
       "recommendations finished on 13000/13921 queries. users per second: 45588"
      ]
     },
     "metadata": {},
     "output_type": "display_data"
    },
    {
     "name": "stdout",
     "output_type": "stream",
     "text": [
      "\n",
      "Precision and recall summary statistics by cutoff\n",
      "+--------+----------------------+---------------------+\n",
      "| cutoff |    mean_precision    |     mean_recall     |\n",
      "+--------+----------------------+---------------------+\n",
      "|   1    | 0.054881114862438046 | 0.03059300533530103 |\n",
      "|   2    | 0.054737447022484356 | 0.06055703487263677 |\n",
      "|   3    | 0.04575820702535712  | 0.07499666486309599 |\n",
      "|   4    | 0.03778464190790865  | 0.08163578704079291 |\n",
      "|   5    | 0.03364700811723305  | 0.09059373381031925 |\n",
      "|   6    | 0.03131958910997744  | 0.09999963953352173 |\n",
      "|   7    | 0.029605837019097744 | 0.10925854333753758 |\n",
      "|   8    | 0.028140938150995002 | 0.11805506113304967 |\n",
      "|   9    | 0.026953683084708142 |  0.1265609526547087 |\n",
      "|   10   | 0.025716543351770624 | 0.13383989516818834 |\n",
      "+--------+----------------------+---------------------+\n",
      "[10 rows x 3 columns]\n",
      "\n",
      "\n",
      "Overall RMSE: 0.9697745320187097\n",
      "\n",
      "Per User RMSE (best)\n",
      "+------------+--------------------+-------+\n",
      "| customerId |        rmse        | count |\n",
      "+------------+--------------------+-------+\n",
      "|   16533    | 0.5217012166976929 |   1   |\n",
      "+------------+--------------------+-------+\n",
      "[1 rows x 3 columns]\n",
      "\n",
      "\n",
      "Per User RMSE (worst)\n",
      "+------------+------+-------+\n",
      "| customerId | rmse | count |\n",
      "+------------+------+-------+\n",
      "|   21855    | 1.0  |   1   |\n",
      "+------------+------+-------+\n",
      "[1 rows x 3 columns]\n",
      "\n",
      "\n",
      "Per Item RMSE (best)\n",
      "+-----------+--------------------+-------+\n",
      "| productId |        rmse        | count |\n",
      "+-----------+--------------------+-------+\n",
      "|     48    | 0.8762349122687674 |  126  |\n",
      "+-----------+--------------------+-------+\n",
      "[1 rows x 3 columns]\n",
      "\n",
      "\n",
      "Per Item RMSE (worst)\n",
      "+-----------+-------------------+-------+\n",
      "| productId |        rmse       | count |\n",
      "+-----------+-------------------+-------+\n",
      "|    125    | 0.999784349388279 |   30  |\n",
      "+-----------+-------------------+-------+\n",
      "[1 rows x 3 columns]\n",
      "\n"
     ]
    }
   ],
   "source": [
    "eval_dummy = tc.recommender.util.compare_models(test_data_dummy, models_w_dummy, model_names=names_w_dummy)"
   ]
  },
  {
   "cell_type": "markdown",
   "metadata": {},
   "source": [
    "#### Models on normalized purchase frequency"
   ]
  },
  {
   "cell_type": "code",
   "execution_count": 67,
   "metadata": {
    "scrolled": false
   },
   "outputs": [
    {
     "name": "stdout",
     "output_type": "stream",
     "text": [
      "PROGRESS: Evaluate model Popularity Model on Scaled Purchase Counts\n"
     ]
    },
    {
     "data": {
      "text/html": [
       "<pre>recommendations finished on 1000/2869 queries. users per second: 54451.4</pre>"
      ],
      "text/plain": [
       "recommendations finished on 1000/2869 queries. users per second: 54451.4"
      ]
     },
     "metadata": {},
     "output_type": "display_data"
    },
    {
     "data": {
      "text/html": [
       "<pre>recommendations finished on 2000/2869 queries. users per second: 62674.3</pre>"
      ],
      "text/plain": [
       "recommendations finished on 2000/2869 queries. users per second: 62674.3"
      ]
     },
     "metadata": {},
     "output_type": "display_data"
    },
    {
     "name": "stdout",
     "output_type": "stream",
     "text": [
      "\n",
      "Precision and recall summary statistics by cutoff\n",
      "+--------+------------------------+------------------------+\n",
      "| cutoff |     mean_precision     |      mean_recall       |\n",
      "+--------+------------------------+------------------------+\n",
      "|   1    | 0.00034855350296270483 | 0.00034855350296270483 |\n",
      "|   2    | 0.0006971070059254097  | 0.0007668177065179508  |\n",
      "|   3    | 0.00046473800395027264 | 0.0007668177065179507  |\n",
      "|   4    | 0.0004356918787033807  | 0.0008103868943882889  |\n",
      "|   5    |  0.000348553502962705  | 0.0008103868943882889  |\n",
      "|   6    | 0.0002904612524689207  | 0.0008103868943882887  |\n",
      "|   7    | 0.0002987601453966041  | 0.0009846636458696416  |\n",
      "|   8    | 0.0003049843150923669  |  0.001071802021610318  |\n",
      "|   9    | 0.0002710971689709925  |  0.001071802021610317  |\n",
      "|   10   | 0.00024398745207389325 | 0.0010718020216103174  |\n",
      "+--------+------------------------+------------------------+\n",
      "[10 rows x 3 columns]\n",
      "\n",
      "\n",
      "Overall RMSE: 0.1829517031486069\n",
      "\n",
      "Per User RMSE (best)\n",
      "+------------+------+-------+\n",
      "| customerId | rmse | count |\n",
      "+------------+------+-------+\n",
      "|  1813285   | 0.0  |   1   |\n",
      "+------------+------+-------+\n",
      "[1 rows x 3 columns]\n",
      "\n",
      "\n",
      "Per User RMSE (worst)\n",
      "+------------+------+-------+\n",
      "| customerId | rmse | count |\n",
      "+------------+------+-------+\n",
      "|  1792398   | 1.0  |   2   |\n",
      "+------------+------+-------+\n",
      "[1 rows x 3 columns]\n",
      "\n",
      "\n",
      "Per Item RMSE (best)\n",
      "+-----------+----------------------+-------+\n",
      "| productId |         rmse         | count |\n",
      "+-----------+----------------------+-------+\n",
      "|   123868  | 0.012195121951219513 |   39  |\n",
      "+-----------+----------------------+-------+\n",
      "[1 rows x 3 columns]\n",
      "\n",
      "\n",
      "Per Item RMSE (worst)\n",
      "+-----------+------+-------+\n",
      "| productId | rmse | count |\n",
      "+-----------+------+-------+\n",
      "|   123769  | 1.0  |   1   |\n",
      "+-----------+------+-------+\n",
      "[1 rows x 3 columns]\n",
      "\n",
      "PROGRESS: Evaluate model Cosine Similarity on Scaled Purchase Counts\n"
     ]
    },
    {
     "data": {
      "text/html": [
       "<pre>recommendations finished on 1000/2869 queries. users per second: 48188.1</pre>"
      ],
      "text/plain": [
       "recommendations finished on 1000/2869 queries. users per second: 48188.1"
      ]
     },
     "metadata": {},
     "output_type": "display_data"
    },
    {
     "data": {
      "text/html": [
       "<pre>recommendations finished on 2000/2869 queries. users per second: 48585</pre>"
      ],
      "text/plain": [
       "recommendations finished on 2000/2869 queries. users per second: 48585"
      ]
     },
     "metadata": {},
     "output_type": "display_data"
    },
    {
     "name": "stdout",
     "output_type": "stream",
     "text": [
      "\n",
      "Precision and recall summary statistics by cutoff\n",
      "+--------+----------------------+----------------------+\n",
      "| cutoff |    mean_precision    |     mean_recall      |\n",
      "+--------+----------------------+----------------------+\n",
      "|   1    | 0.03415824329034508  | 0.019168921199245376 |\n",
      "|   2    | 0.06831648658069009  | 0.08458079525524628  |\n",
      "|   3    | 0.06610898106192642  | 0.12268101268624093  |\n",
      "|   4    | 0.06099686301847333  | 0.15334542205403118  |\n",
      "|   5    | 0.05472289996514461  | 0.17187104073649886  |\n",
      "|   6    | 0.04966887417218542  |  0.186859671253188   |\n",
      "|   7    | 0.04556092217298217  | 0.20144760355635213  |\n",
      "|   8    | 0.042479958173579656 |  0.2141388238808943  |\n",
      "|   9    | 0.04163277952054531  | 0.23612882799010368  |\n",
      "|   10   | 0.041930986406413365 | 0.26619156762063734  |\n",
      "+--------+----------------------+----------------------+\n",
      "[10 rows x 3 columns]\n",
      "\n",
      "\n",
      "Overall RMSE: 0.18127024350106974\n",
      "\n",
      "Per User RMSE (best)\n",
      "+------------+------+-------+\n",
      "| customerId | rmse | count |\n",
      "+------------+------+-------+\n",
      "|  1813285   | 0.0  |   1   |\n",
      "+------------+------+-------+\n",
      "[1 rows x 3 columns]\n",
      "\n",
      "\n",
      "Per User RMSE (worst)\n",
      "+------------+------+-------+\n",
      "| customerId | rmse | count |\n",
      "+------------+------+-------+\n",
      "|  1792398   | 1.0  |   2   |\n",
      "+------------+------+-------+\n",
      "[1 rows x 3 columns]\n",
      "\n",
      "\n",
      "Per Item RMSE (best)\n",
      "+-----------+------+-------+\n",
      "| productId | rmse | count |\n",
      "+-----------+------+-------+\n",
      "|   124597  | 0.0  |   4   |\n",
      "+-----------+------+-------+\n",
      "[1 rows x 3 columns]\n",
      "\n",
      "\n",
      "Per Item RMSE (worst)\n",
      "+-----------+------+-------+\n",
      "| productId | rmse | count |\n",
      "+-----------+------+-------+\n",
      "|   123769  | 1.0  |   1   |\n",
      "+-----------+------+-------+\n",
      "[1 rows x 3 columns]\n",
      "\n",
      "PROGRESS: Evaluate model Pearson Similarity on Scaled Purchase Counts\n"
     ]
    },
    {
     "data": {
      "text/html": [
       "<pre>recommendations finished on 1000/2869 queries. users per second: 35360.7</pre>"
      ],
      "text/plain": [
       "recommendations finished on 1000/2869 queries. users per second: 35360.7"
      ]
     },
     "metadata": {},
     "output_type": "display_data"
    },
    {
     "data": {
      "text/html": [
       "<pre>recommendations finished on 2000/2869 queries. users per second: 35615.1</pre>"
      ],
      "text/plain": [
       "recommendations finished on 2000/2869 queries. users per second: 35615.1"
      ]
     },
     "metadata": {},
     "output_type": "display_data"
    },
    {
     "name": "stdout",
     "output_type": "stream",
     "text": [
      "\n",
      "Precision and recall summary statistics by cutoff\n",
      "+--------+------------------------+-----------------------+\n",
      "| cutoff |     mean_precision     |      mean_recall      |\n",
      "+--------+------------------------+-----------------------+\n",
      "|   1    |  0.001394214011850819  | 0.0007668177065179508 |\n",
      "|   2    | 0.0006971070059254102  | 0.0007668177065179504 |\n",
      "|   3    | 0.0004647380039502731  | 0.0007668177065179508 |\n",
      "|   4    | 0.0005228302544440568  | 0.0008975252701289651 |\n",
      "|   5    | 0.0004182642035552457  | 0.0008975252701289664 |\n",
      "|   6    | 0.0003485535029627048  | 0.0008975252701289647 |\n",
      "|   7    | 0.0003485535029627048  | 0.0010718020216103183 |\n",
      "|   8    | 0.00030498431509236654 | 0.0010718020216103168 |\n",
      "|   9    | 0.00027109716897099267 | 0.0010718020216103177 |\n",
      "|   10   | 0.0002439874520738937  | 0.0010718020216103177 |\n",
      "+--------+------------------------+-----------------------+\n",
      "[10 rows x 3 columns]\n",
      "\n",
      "\n",
      "Overall RMSE: 0.18116752092705057\n",
      "\n",
      "Per User RMSE (best)\n",
      "+------------+------+-------+\n",
      "| customerId | rmse | count |\n",
      "+------------+------+-------+\n",
      "|  1813285   | 0.0  |   1   |\n",
      "+------------+------+-------+\n",
      "[1 rows x 3 columns]\n",
      "\n",
      "\n",
      "Per User RMSE (worst)\n",
      "+------------+------+-------+\n",
      "| customerId | rmse | count |\n",
      "+------------+------+-------+\n",
      "|  1792398   | 1.0  |   2   |\n",
      "+------------+------+-------+\n",
      "[1 rows x 3 columns]\n",
      "\n",
      "\n",
      "Per Item RMSE (best)\n",
      "+-----------+----------------------+-------+\n",
      "| productId |         rmse         | count |\n",
      "+-----------+----------------------+-------+\n",
      "|   123868  | 0.012141387678315184 |   39  |\n",
      "+-----------+----------------------+-------+\n",
      "[1 rows x 3 columns]\n",
      "\n",
      "\n",
      "Per Item RMSE (worst)\n",
      "+-----------+------+-------+\n",
      "| productId | rmse | count |\n",
      "+-----------+------+-------+\n",
      "|   123769  | 1.0  |   1   |\n",
      "+-----------+------+-------+\n",
      "[1 rows x 3 columns]\n",
      "\n"
     ]
    }
   ],
   "source": [
    "eval_norm = tc.recommender.util.compare_models(test_data_norm, models_w_norm, model_names=names_w_norm)"
   ]
  },
  {
   "cell_type": "markdown",
   "metadata": {},
   "source": [
    "## 8. Model Selection\n",
    "### 8.1. Evaluation summary\n",
    "* Based on RMSE\n",
    "\n",
    "\n",
    "    1. Popularity on purchase counts: 1.1111750034210488\n",
    "    2. Cosine similarity on purchase counts: 1.9230643981653215\n",
    "    3. Pearson similarity on purchase counts: 1.9231102838192284\n",
    "    \n",
    "    4. Popularity on purchase dummy: 0.9697374361161925\n",
    "    5. Cosine similarity on purchase dummy: 0.9697509978436404\n",
    "    6. Pearson similarity on purchase dummy: 0.9697745320187097\n",
    "    \n",
    "    7. Popularity on scaled purchase counts: 0.16230660626840343\n",
    "    8. Cosine similarity on scaled purchase counts: 0.16229800354111104\n",
    "    9. Pearson similarity on scaled purchase counts: 0.1622982668334026\n",
    "    \n",
    "* Based on Precision and Recall\n",
    "![](../images/model_comparisons.png)\n"
   ]
  },
  {
   "cell_type": "markdown",
   "metadata": {},
   "source": [
    "#### Notes\n",
    "\n",
    "* Popularity v. Collaborative Filtering: We can see that the collaborative filtering algorithms work better than popularity model for purchase counts. Indeed, popularity model doesn’t give any personalizations as it only gives the same list of recommended items to every user.\n",
    "* Precision and recall: Looking at the summary above, we see that the precision and recall for Purchase Counts > Purchase Dummy > Normalized Purchase Counts. However, because the recommendation scores for the normalized purchase data is zero and constant, we choose the dummy. In fact, the RMSE isn’t much different between models on the dummy and those on the normalized data.\n",
    "* RMSE: Since RMSE is higher using pearson distance thancosine, we would choose model the smaller mean squared errors, which in this case would be cosine.\n",
    "Therefore, we select the Cosine similarity on Purchase Dummy approach as our final model."
   ]
  },
  {
   "cell_type": "markdown",
   "metadata": {},
   "source": [
    "## 8. Final Output\n",
    "* In this step, we would like to manipulate format for recommendation output to one we can export to csv, and also a function that will return recommendation list given a customer ID.\n",
    "* We need to first rerun the model using the whole dataset, as we came to a final model using train data and evaluated with test set."
   ]
  },
  {
   "cell_type": "code",
   "execution_count": 68,
   "metadata": {},
   "outputs": [
    {
     "data": {
      "text/html": [
       "<pre>Warning: Ignoring columns purchase_count;</pre>"
      ],
      "text/plain": [
       "Warning: Ignoring columns purchase_count;"
      ]
     },
     "metadata": {},
     "output_type": "display_data"
    },
    {
     "data": {
      "text/html": [
       "<pre>    To use these columns in scoring predictions, use a model that allows the use of additional features.</pre>"
      ],
      "text/plain": [
       "    To use these columns in scoring predictions, use a model that allows the use of additional features."
      ]
     },
     "metadata": {},
     "output_type": "display_data"
    },
    {
     "data": {
      "text/html": [
       "<pre>Preparing data set.</pre>"
      ],
      "text/plain": [
       "Preparing data set."
      ]
     },
     "metadata": {},
     "output_type": "display_data"
    },
    {
     "data": {
      "text/html": [
       "<pre>    Data has 24463 observations with 7987 users and 723 items.</pre>"
      ],
      "text/plain": [
       "    Data has 24463 observations with 7987 users and 723 items."
      ]
     },
     "metadata": {},
     "output_type": "display_data"
    },
    {
     "data": {
      "text/html": [
       "<pre>    Data prepared in: 0.053171s</pre>"
      ],
      "text/plain": [
       "    Data prepared in: 0.053171s"
      ]
     },
     "metadata": {},
     "output_type": "display_data"
    },
    {
     "data": {
      "text/html": [
       "<pre>Training model from provided data.</pre>"
      ],
      "text/plain": [
       "Training model from provided data."
      ]
     },
     "metadata": {},
     "output_type": "display_data"
    },
    {
     "data": {
      "text/html": [
       "<pre>Gathering per-item and per-user statistics.</pre>"
      ],
      "text/plain": [
       "Gathering per-item and per-user statistics."
      ]
     },
     "metadata": {},
     "output_type": "display_data"
    },
    {
     "data": {
      "text/html": [
       "<pre>+--------------------------------+------------+</pre>"
      ],
      "text/plain": [
       "+--------------------------------+------------+"
      ]
     },
     "metadata": {},
     "output_type": "display_data"
    },
    {
     "data": {
      "text/html": [
       "<pre>| Elapsed Time (Item Statistics) | % Complete |</pre>"
      ],
      "text/plain": [
       "| Elapsed Time (Item Statistics) | % Complete |"
      ]
     },
     "metadata": {},
     "output_type": "display_data"
    },
    {
     "data": {
      "text/html": [
       "<pre>+--------------------------------+------------+</pre>"
      ],
      "text/plain": [
       "+--------------------------------+------------+"
      ]
     },
     "metadata": {},
     "output_type": "display_data"
    },
    {
     "data": {
      "text/html": [
       "<pre>| 3.565ms                        | 12.5       |</pre>"
      ],
      "text/plain": [
       "| 3.565ms                        | 12.5       |"
      ]
     },
     "metadata": {},
     "output_type": "display_data"
    },
    {
     "data": {
      "text/html": [
       "<pre>| 29.448ms                       | 100        |</pre>"
      ],
      "text/plain": [
       "| 29.448ms                       | 100        |"
      ]
     },
     "metadata": {},
     "output_type": "display_data"
    },
    {
     "data": {
      "text/html": [
       "<pre>+--------------------------------+------------+</pre>"
      ],
      "text/plain": [
       "+--------------------------------+------------+"
      ]
     },
     "metadata": {},
     "output_type": "display_data"
    },
    {
     "data": {
      "text/html": [
       "<pre>Setting up lookup tables.</pre>"
      ],
      "text/plain": [
       "Setting up lookup tables."
      ]
     },
     "metadata": {},
     "output_type": "display_data"
    },
    {
     "data": {
      "text/html": [
       "<pre>Processing data in one pass using dense lookup tables.</pre>"
      ],
      "text/plain": [
       "Processing data in one pass using dense lookup tables."
      ]
     },
     "metadata": {},
     "output_type": "display_data"
    },
    {
     "data": {
      "text/html": [
       "<pre>+-------------------------------------+------------------+-----------------+</pre>"
      ],
      "text/plain": [
       "+-------------------------------------+------------------+-----------------+"
      ]
     },
     "metadata": {},
     "output_type": "display_data"
    },
    {
     "data": {
      "text/html": [
       "<pre>| Elapsed Time (Constructing Lookups) | Total % Complete | Items Processed |</pre>"
      ],
      "text/plain": [
       "| Elapsed Time (Constructing Lookups) | Total % Complete | Items Processed |"
      ]
     },
     "metadata": {},
     "output_type": "display_data"
    },
    {
     "data": {
      "text/html": [
       "<pre>+-------------------------------------+------------------+-----------------+</pre>"
      ],
      "text/plain": [
       "+-------------------------------------+------------------+-----------------+"
      ]
     },
     "metadata": {},
     "output_type": "display_data"
    },
    {
     "data": {
      "text/html": [
       "<pre>| 73.173ms                            | 0                | 0               |</pre>"
      ],
      "text/plain": [
       "| 73.173ms                            | 0                | 0               |"
      ]
     },
     "metadata": {},
     "output_type": "display_data"
    },
    {
     "data": {
      "text/html": [
       "<pre>| 88.258ms                            | 100              | 723             |</pre>"
      ],
      "text/plain": [
       "| 88.258ms                            | 100              | 723             |"
      ]
     },
     "metadata": {},
     "output_type": "display_data"
    },
    {
     "data": {
      "text/html": [
       "<pre>+-------------------------------------+------------------+-----------------+</pre>"
      ],
      "text/plain": [
       "+-------------------------------------+------------------+-----------------+"
      ]
     },
     "metadata": {},
     "output_type": "display_data"
    },
    {
     "data": {
      "text/html": [
       "<pre>Finalizing lookup tables.</pre>"
      ],
      "text/plain": [
       "Finalizing lookup tables."
      ]
     },
     "metadata": {},
     "output_type": "display_data"
    },
    {
     "data": {
      "text/html": [
       "<pre>Generating candidate set for working with new users.</pre>"
      ],
      "text/plain": [
       "Generating candidate set for working with new users."
      ]
     },
     "metadata": {},
     "output_type": "display_data"
    },
    {
     "data": {
      "text/html": [
       "<pre>Finished training in 0.119476s</pre>"
      ],
      "text/plain": [
       "Finished training in 0.119476s"
      ]
     },
     "metadata": {},
     "output_type": "display_data"
    },
    {
     "data": {
      "text/html": [
       "<pre>recommendations finished on 1000/7987 queries. users per second: 95574.9</pre>"
      ],
      "text/plain": [
       "recommendations finished on 1000/7987 queries. users per second: 95574.9"
      ]
     },
     "metadata": {},
     "output_type": "display_data"
    },
    {
     "data": {
      "text/html": [
       "<pre>recommendations finished on 2000/7987 queries. users per second: 114012</pre>"
      ],
      "text/plain": [
       "recommendations finished on 2000/7987 queries. users per second: 114012"
      ]
     },
     "metadata": {},
     "output_type": "display_data"
    },
    {
     "data": {
      "text/html": [
       "<pre>recommendations finished on 3000/7987 queries. users per second: 113169</pre>"
      ],
      "text/plain": [
       "recommendations finished on 3000/7987 queries. users per second: 113169"
      ]
     },
     "metadata": {},
     "output_type": "display_data"
    },
    {
     "data": {
      "text/html": [
       "<pre>recommendations finished on 4000/7987 queries. users per second: 115644</pre>"
      ],
      "text/plain": [
       "recommendations finished on 4000/7987 queries. users per second: 115644"
      ]
     },
     "metadata": {},
     "output_type": "display_data"
    },
    {
     "data": {
      "text/html": [
       "<pre>recommendations finished on 5000/7987 queries. users per second: 121969</pre>"
      ],
      "text/plain": [
       "recommendations finished on 5000/7987 queries. users per second: 121969"
      ]
     },
     "metadata": {},
     "output_type": "display_data"
    },
    {
     "data": {
      "text/html": [
       "<pre>recommendations finished on 6000/7987 queries. users per second: 122727</pre>"
      ],
      "text/plain": [
       "recommendations finished on 6000/7987 queries. users per second: 122727"
      ]
     },
     "metadata": {},
     "output_type": "display_data"
    },
    {
     "data": {
      "text/html": [
       "<pre>recommendations finished on 7000/7987 queries. users per second: 117849</pre>"
      ],
      "text/plain": [
       "recommendations finished on 7000/7987 queries. users per second: 117849"
      ]
     },
     "metadata": {},
     "output_type": "display_data"
    },
    {
     "name": "stdout",
     "output_type": "stream",
     "text": [
      "+------------+-----------+---------------------+------+\n",
      "| customerId | productId |        score        | rank |\n",
      "+------------+-----------+---------------------+------+\n",
      "|  1076254   |   920085  | 0.18169118960698447 |  1   |\n",
      "|  1076254   |   920091  | 0.16958407560984293 |  2   |\n",
      "|  1076254   |   920080  | 0.16082884867986044 |  3   |\n",
      "|  1076254   |   920087  | 0.15267975131670633 |  4   |\n",
      "|  1076254   |   920086  | 0.15144169330596924 |  5   |\n",
      "|  1076254   |   920084  | 0.14886762698491415 |  6   |\n",
      "|  1076254   |   920082  |  0.1461706260840098 |  7   |\n",
      "|  1076254   |   920094  |  0.1380960444609324 |  8   |\n",
      "|  1076254   |   920081  | 0.13615799943606058 |  9   |\n",
      "|  1076254   |   920092  | 0.12598830461502075 |  10  |\n",
      "|  1268548   |   123579  |  0.1666666567325592 |  1   |\n",
      "|  1268548   |   123822  |  0.1586759388446808 |  2   |\n",
      "|  1268548   |   123547  | 0.14907118678092957 |  3   |\n",
      "|  1268548   |   124725  | 0.14433756470680237 |  4   |\n",
      "|  1268548   |   123714  | 0.14433756470680237 |  5   |\n",
      "|  1268548   |   123683  | 0.14433756470680237 |  6   |\n",
      "|  1268548   |   124465  | 0.12955835461616516 |  7   |\n",
      "|  1268548   |   123447  |  0.1178511381149292 |  8   |\n",
      "|  1268548   |   123915  | 0.11220082640647888 |  9   |\n",
      "|  1268548   |   123913  | 0.10206207633018494 |  10  |\n",
      "|  1709459   |   920085  |  0.148100475470225  |  1   |\n",
      "|  1709459   |   920082  | 0.14502845207850137 |  2   |\n",
      "|  1709459   |   920091  |  0.1386280655860901 |  3   |\n",
      "|  1709459   |   920084  |  0.1369916796684265 |  4   |\n",
      "|  1709459   |   920087  | 0.13568230470021567 |  5   |\n",
      "|  1709459   |   920080  | 0.13205997149149576 |  6   |\n",
      "|  1709459   |   920090  |  0.1296456257502238 |  7   |\n",
      "|  1709459   |   920094  | 0.09237756331761678 |  8   |\n",
      "|  1709459   |   920088  | 0.08818227052688599 |  9   |\n",
      "|  1709459   |   920083  |  0.0868802269299825 |  10  |\n",
      "+------------+-----------+---------------------+------+\n",
      "[79870 rows x 4 columns]\n",
      "\n"
     ]
    }
   ],
   "source": [
    "users_to_recommend = list(customers[user_id])\n",
    "\n",
    "final_model = tc.item_similarity_recommender.create(tc.SFrame(data_dummy), \n",
    "                                            user_id=user_id, \n",
    "                                            item_id=item_id, \n",
    "                                            target='purchase_dummy', \n",
    "                                            similarity_type='cosine')\n",
    "\n",
    "recom = final_model.recommend(users=users_to_recommend, k=n_rec)\n",
    "recom.print_rows(n_display)"
   ]
  },
  {
   "cell_type": "markdown",
   "metadata": {},
   "source": [
    "### 8.1. CSV output file"
   ]
  },
  {
   "cell_type": "code",
   "execution_count": 69,
   "metadata": {},
   "outputs": [
    {
     "name": "stdout",
     "output_type": "stream",
     "text": [
      "(79870, 4)\n"
     ]
    },
    {
     "data": {
      "text/html": [
       "<div>\n",
       "<style scoped>\n",
       "    .dataframe tbody tr th:only-of-type {\n",
       "        vertical-align: middle;\n",
       "    }\n",
       "\n",
       "    .dataframe tbody tr th {\n",
       "        vertical-align: top;\n",
       "    }\n",
       "\n",
       "    .dataframe thead th {\n",
       "        text-align: right;\n",
       "    }\n",
       "</style>\n",
       "<table border=\"1\" class=\"dataframe\">\n",
       "  <thead>\n",
       "    <tr style=\"text-align: right;\">\n",
       "      <th></th>\n",
       "      <th>customerId</th>\n",
       "      <th>productId</th>\n",
       "      <th>score</th>\n",
       "      <th>rank</th>\n",
       "    </tr>\n",
       "  </thead>\n",
       "  <tbody>\n",
       "    <tr>\n",
       "      <th>0</th>\n",
       "      <td>1076254</td>\n",
       "      <td>920085</td>\n",
       "      <td>0.181691</td>\n",
       "      <td>1</td>\n",
       "    </tr>\n",
       "    <tr>\n",
       "      <th>1</th>\n",
       "      <td>1076254</td>\n",
       "      <td>920091</td>\n",
       "      <td>0.169584</td>\n",
       "      <td>2</td>\n",
       "    </tr>\n",
       "    <tr>\n",
       "      <th>2</th>\n",
       "      <td>1076254</td>\n",
       "      <td>920080</td>\n",
       "      <td>0.160829</td>\n",
       "      <td>3</td>\n",
       "    </tr>\n",
       "    <tr>\n",
       "      <th>3</th>\n",
       "      <td>1076254</td>\n",
       "      <td>920087</td>\n",
       "      <td>0.152680</td>\n",
       "      <td>4</td>\n",
       "    </tr>\n",
       "    <tr>\n",
       "      <th>4</th>\n",
       "      <td>1076254</td>\n",
       "      <td>920086</td>\n",
       "      <td>0.151442</td>\n",
       "      <td>5</td>\n",
       "    </tr>\n",
       "  </tbody>\n",
       "</table>\n",
       "</div>"
      ],
      "text/plain": [
       "   customerId  productId     score  rank\n",
       "0     1076254     920085  0.181691     1\n",
       "1     1076254     920091  0.169584     2\n",
       "2     1076254     920080  0.160829     3\n",
       "3     1076254     920087  0.152680     4\n",
       "4     1076254     920086  0.151442     5"
      ]
     },
     "execution_count": 69,
     "metadata": {},
     "output_type": "execute_result"
    }
   ],
   "source": [
    "df_rec = recom.to_dataframe()\n",
    "print(df_rec.shape)\n",
    "df_rec.head()"
   ]
  },
  {
   "cell_type": "code",
   "execution_count": 71,
   "metadata": {},
   "outputs": [],
   "source": [
    "df_rec['recommendedProducts'] = df_rec.groupby([user_id])[item_id].transform(lambda x: '|'.join(x.astype(str)))\n",
    "df_output = df_rec[['customerId', 'recommendedProducts']].drop_duplicates().sort_values('customerId').set_index('customerId')"
   ]
  },
  {
   "cell_type": "markdown",
   "metadata": {},
   "source": [
    "#### Define a function to create a desired output"
   ]
  },
  {
   "cell_type": "code",
   "execution_count": 72,
   "metadata": {},
   "outputs": [],
   "source": [
    "def create_output(model, users_to_recommend, n_rec, print_csv=True):\n",
    "    recomendation = model.recommend(users=users_to_recommend, k=n_rec)\n",
    "    df_rec = recomendation.to_dataframe()\n",
    "    df_rec['recommendedProducts'] = df_rec.groupby([user_id])[item_id] \\\n",
    "        .transform(lambda x: '|'.join(x.astype(str)))\n",
    "    df_output = df_rec[['customerId', 'recommendedProducts']].drop_duplicates() \\\n",
    "        .sort_values('customerId').set_index('customerId')\n",
    "    if print_csv:\n",
    "        df_output.to_csv('../output/option1_recommendation.csv')\n",
    "        print(\"An output file can be found in 'output' folder with name 'option1_recommendation.csv'\")\n",
    "    return df_output"
   ]
  },
  {
   "cell_type": "code",
   "execution_count": 126,
   "metadata": {},
   "outputs": [
    {
     "data": {
      "text/html": [
       "<pre>recommendations finished on 1000/1000 queries. users per second: 38980.3</pre>"
      ],
      "text/plain": [
       "recommendations finished on 1000/1000 queries. users per second: 38980.3"
      ]
     },
     "metadata": {},
     "output_type": "display_data"
    },
    {
     "name": "stdout",
     "output_type": "stream",
     "text": [
      "An output file can be found in 'output' folder with name 'option1_recommendation.csv'\n",
      "(1000, 1)\n"
     ]
    },
    {
     "data": {
      "text/html": [
       "<div>\n",
       "<style>\n",
       "    .dataframe thead tr:only-child th {\n",
       "        text-align: right;\n",
       "    }\n",
       "\n",
       "    .dataframe thead th {\n",
       "        text-align: left;\n",
       "    }\n",
       "\n",
       "    .dataframe tbody tr th {\n",
       "        vertical-align: top;\n",
       "    }\n",
       "</style>\n",
       "<table border=\"1\" class=\"dataframe\">\n",
       "  <thead>\n",
       "    <tr style=\"text-align: right;\">\n",
       "      <th></th>\n",
       "      <th>recommendedProducts</th>\n",
       "    </tr>\n",
       "    <tr>\n",
       "      <th>customerId</th>\n",
       "      <th></th>\n",
       "    </tr>\n",
       "  </thead>\n",
       "  <tbody>\n",
       "    <tr>\n",
       "      <th>4</th>\n",
       "      <td>2|82|249|14|86|215|39|194|111|8</td>\n",
       "    </tr>\n",
       "    <tr>\n",
       "      <th>11</th>\n",
       "      <td>0|51|2|103|31|169|13|226|11|271</td>\n",
       "    </tr>\n",
       "    <tr>\n",
       "      <th>12</th>\n",
       "      <td>44|109|170|1|82|2|19|276|118|47</td>\n",
       "    </tr>\n",
       "    <tr>\n",
       "      <th>16</th>\n",
       "      <td>14|162|1|47|17|105|21|223|118|0</td>\n",
       "    </tr>\n",
       "    <tr>\n",
       "      <th>21</th>\n",
       "      <td>48|38|93|36|79|2|50|144|1|0</td>\n",
       "    </tr>\n",
       "  </tbody>\n",
       "</table>\n",
       "</div>"
      ],
      "text/plain": [
       "                        recommendedProducts\n",
       "customerId                                 \n",
       "4           2|82|249|14|86|215|39|194|111|8\n",
       "11          0|51|2|103|31|169|13|226|11|271\n",
       "12          44|109|170|1|82|2|19|276|118|47\n",
       "16          14|162|1|47|17|105|21|223|118|0\n",
       "21              48|38|93|36|79|2|50|144|1|0"
      ]
     },
     "execution_count": 126,
     "metadata": {},
     "output_type": "execute_result"
    }
   ],
   "source": [
    "df_output = create_output(pear_norm, users_to_recommend, n_rec, print_csv=True)\n",
    "print(df_output.shape)\n",
    "df_output.head()"
   ]
  },
  {
   "cell_type": "markdown",
   "metadata": {},
   "source": [
    "### 8.2. Customer recommendation function"
   ]
  },
  {
   "cell_type": "code",
   "execution_count": 73,
   "metadata": {},
   "outputs": [],
   "source": [
    "def customer_recomendation(customer_id):\n",
    "    if customer_id not in df_output.index:\n",
    "        print('Customer not found.')\n",
    "        return customer_id\n",
    "    return df_output.loc[customer_id]"
   ]
  },
  {
   "cell_type": "code",
   "execution_count": 79,
   "metadata": {},
   "outputs": [
    {
     "data": {
      "text/plain": [
       "recommendedProducts    124213|123784|123770|124358|920091|920089|1241...\n",
       "Name: 1782386, dtype: object"
      ]
     },
     "execution_count": 79,
     "metadata": {},
     "output_type": "execute_result"
    }
   ],
   "source": [
    "customer_recomendation(1782386)"
   ]
  },
  {
   "cell_type": "code",
   "execution_count": 129,
   "metadata": {},
   "outputs": [
    {
     "data": {
      "text/plain": [
       "recommendedProducts    48|38|93|36|79|2|50|144|1|0\n",
       "Name: 21, dtype: object"
      ]
     },
     "execution_count": 129,
     "metadata": {},
     "output_type": "execute_result"
    }
   ],
   "source": [
    "customer_recomendation(21)"
   ]
  },
  {
   "cell_type": "markdown",
   "metadata": {
    "collapsed": true
   },
   "source": [
    "## Summary\n",
    "In this exercise, we were able to traverse a step-by-step process for making recommendations to customers. We used Collaborative Filtering approaches with `cosine` and `pearson` measure and compare the models with our baseline popularity model. We also prepared three sets of data that include regular buying count, buying dummy, as well as normalized purchase frequency as our target variable. Using RMSE, precision and recall, we evaluated our models and observed the impact of personalization. Finally, we selected the Cosine approach in dummy purchase data. "
   ]
  },
  {
   "cell_type": "code",
   "execution_count": null,
   "metadata": {
    "collapsed": true
   },
   "outputs": [],
   "source": []
  },
  {
   "cell_type": "code",
   "execution_count": null,
   "metadata": {},
   "outputs": [],
   "source": []
  }
 ],
 "metadata": {
  "kernelspec": {
   "display_name": "Python 3",
   "language": "python",
   "name": "python3"
  },
  "language_info": {
   "codemirror_mode": {
    "name": "ipython",
    "version": 3
   },
   "file_extension": ".py",
   "mimetype": "text/x-python",
   "name": "python",
   "nbconvert_exporter": "python",
   "pygments_lexer": "ipython3",
   "version": "3.7.6"
  }
 },
 "nbformat": 4,
 "nbformat_minor": 2
}
