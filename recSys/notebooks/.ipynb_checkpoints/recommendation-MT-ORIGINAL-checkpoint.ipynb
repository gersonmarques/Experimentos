{
 "cells": [
  {
   "cell_type": "markdown",
   "metadata": {},
   "source": [
    "# How to Build a Recommendation System for Purchase Data (Step-by-Step)\n",
    "* Description: A documentation on building collaborative filtering models for recommending products to customers\n",
    "* Link: https://medium.com/datadriveninvestor/how-to-build-a-recommendation-system-for-purchase-data-step-by-step-d6d7a78800b6\n",
    "* Author: Moorissa Tjokro\n",
    "\n",
    "## Problem statement\n",
    "In this data challenge, we are building collaborative filtering models for recommending product items. The steps below aim to recommend users their top 10 items to place into their basket. The final output will be a csv file in the `output` folder, and a function that searches for a recommendation list based on a speficied user:\n",
    "* Input: user - customer ID\n",
    "* Returns: ranked list of items (product IDs), that the user is most likely to want to put in his/her (empty) \"basket\"\n",
    "\n",
    "## 1. Import modules\n",
    "* `pandas` and `numpy` for data manipulation\n",
    "* `turicreate` for performing model selection and evaluation\n",
    "* `sklearn` for splitting the data into train and test set"
   ]
  },
  {
   "cell_type": "code",
   "execution_count": 4,
   "metadata": {},
   "outputs": [],
   "source": [
    "#%load_ext autoreload\n",
    "#autoreload 2\n",
    "\n",
    "import pandas as pd\n",
    "import numpy as np\n",
    "import time\n",
    "import turicreate as tc\n",
    "from sklearn.model_selection import train_test_split\n",
    "import data_layer as data_layer"
   ]
  },
  {
   "cell_type": "markdown",
   "metadata": {},
   "source": [
    "## 2. Load data\n",
    "Two datasets are used in this exercise, which can be found in `data` folder: \n",
    "* `recommend_1.csv` consisting of a list of 1000 customer IDs to recommend as output\n",
    "* `trx_data.csv` consisting of user transactions\n",
    "\n",
    "The format is as follows."
   ]
  },
  {
   "cell_type": "code",
   "execution_count": 5,
   "metadata": {},
   "outputs": [],
   "source": [
    "customers = pd.read_csv('../data/recommend_1.csv')\n",
    "transactions = pd.read_csv('../data/trx_data.csv')"
   ]
  },
  {
   "cell_type": "code",
   "execution_count": 6,
   "metadata": {},
   "outputs": [
    {
     "name": "stdout",
     "output_type": "stream",
     "text": [
      "(7987, 1)\n"
     ]
    },
    {
     "data": {
      "text/html": [
       "<div>\n",
       "<style scoped>\n",
       "    .dataframe tbody tr th:only-of-type {\n",
       "        vertical-align: middle;\n",
       "    }\n",
       "\n",
       "    .dataframe tbody tr th {\n",
       "        vertical-align: top;\n",
       "    }\n",
       "\n",
       "    .dataframe thead th {\n",
       "        text-align: right;\n",
       "    }\n",
       "</style>\n",
       "<table border=\"1\" class=\"dataframe\">\n",
       "  <thead>\n",
       "    <tr style=\"text-align: right;\">\n",
       "      <th></th>\n",
       "      <th>customerId</th>\n",
       "    </tr>\n",
       "  </thead>\n",
       "  <tbody>\n",
       "    <tr>\n",
       "      <th>0</th>\n",
       "      <td>1076254</td>\n",
       "    </tr>\n",
       "    <tr>\n",
       "      <th>1</th>\n",
       "      <td>1268548</td>\n",
       "    </tr>\n",
       "    <tr>\n",
       "      <th>2</th>\n",
       "      <td>1709459</td>\n",
       "    </tr>\n",
       "    <tr>\n",
       "      <th>3</th>\n",
       "      <td>1712393</td>\n",
       "    </tr>\n",
       "    <tr>\n",
       "      <th>4</th>\n",
       "      <td>1721053</td>\n",
       "    </tr>\n",
       "  </tbody>\n",
       "</table>\n",
       "</div>"
      ],
      "text/plain": [
       "   customerId\n",
       "0     1076254\n",
       "1     1268548\n",
       "2     1709459\n",
       "3     1712393\n",
       "4     1721053"
      ]
     },
     "execution_count": 6,
     "metadata": {},
     "output_type": "execute_result"
    }
   ],
   "source": [
    "print(customers.shape)\n",
    "customers.head()"
   ]
  },
  {
   "cell_type": "code",
   "execution_count": 7,
   "metadata": {},
   "outputs": [
    {
     "name": "stdout",
     "output_type": "stream",
     "text": [
      "(7987, 2)\n"
     ]
    },
    {
     "data": {
      "text/html": [
       "<div>\n",
       "<style scoped>\n",
       "    .dataframe tbody tr th:only-of-type {\n",
       "        vertical-align: middle;\n",
       "    }\n",
       "\n",
       "    .dataframe tbody tr th {\n",
       "        vertical-align: top;\n",
       "    }\n",
       "\n",
       "    .dataframe thead th {\n",
       "        text-align: right;\n",
       "    }\n",
       "</style>\n",
       "<table border=\"1\" class=\"dataframe\">\n",
       "  <thead>\n",
       "    <tr style=\"text-align: right;\">\n",
       "      <th></th>\n",
       "      <th>customerId</th>\n",
       "      <th>products</th>\n",
       "    </tr>\n",
       "  </thead>\n",
       "  <tbody>\n",
       "    <tr>\n",
       "      <th>0</th>\n",
       "      <td>1076254</td>\n",
       "      <td>124321|920089|920083|920090|123465|123507</td>\n",
       "    </tr>\n",
       "    <tr>\n",
       "      <th>1</th>\n",
       "      <td>1268548</td>\n",
       "      <td>124321|122912</td>\n",
       "    </tr>\n",
       "    <tr>\n",
       "      <th>2</th>\n",
       "      <td>1709459</td>\n",
       "      <td>124321|124464|920089</td>\n",
       "    </tr>\n",
       "    <tr>\n",
       "      <th>3</th>\n",
       "      <td>1712393</td>\n",
       "      <td>124321</td>\n",
       "    </tr>\n",
       "    <tr>\n",
       "      <th>4</th>\n",
       "      <td>1721053</td>\n",
       "      <td>124321|123661|124640</td>\n",
       "    </tr>\n",
       "  </tbody>\n",
       "</table>\n",
       "</div>"
      ],
      "text/plain": [
       "   customerId                                   products\n",
       "0     1076254  124321|920089|920083|920090|123465|123507\n",
       "1     1268548                              124321|122912\n",
       "2     1709459                       124321|124464|920089\n",
       "3     1712393                                     124321\n",
       "4     1721053                       124321|123661|124640"
      ]
     },
     "execution_count": 7,
     "metadata": {},
     "output_type": "execute_result"
    }
   ],
   "source": [
    "print(transactions.shape)\n",
    "transactions.head()"
   ]
  },
  {
   "cell_type": "markdown",
   "metadata": {},
   "source": [
    "## 3. Data preparation\n",
    "* Our goal here is to break down each list of items in the `products` column into rows and count the number of products bought by a user"
   ]
  },
  {
   "cell_type": "code",
   "execution_count": 8,
   "metadata": {},
   "outputs": [
    {
     "data": {
      "text/html": [
       "<div>\n",
       "<style scoped>\n",
       "    .dataframe tbody tr th:only-of-type {\n",
       "        vertical-align: middle;\n",
       "    }\n",
       "\n",
       "    .dataframe tbody tr th {\n",
       "        vertical-align: top;\n",
       "    }\n",
       "\n",
       "    .dataframe thead th {\n",
       "        text-align: right;\n",
       "    }\n",
       "</style>\n",
       "<table border=\"1\" class=\"dataframe\">\n",
       "  <thead>\n",
       "    <tr style=\"text-align: right;\">\n",
       "      <th></th>\n",
       "      <th>customerId</th>\n",
       "      <th>0</th>\n",
       "      <th>1</th>\n",
       "      <th>2</th>\n",
       "      <th>3</th>\n",
       "      <th>4</th>\n",
       "      <th>5</th>\n",
       "    </tr>\n",
       "  </thead>\n",
       "  <tbody>\n",
       "    <tr>\n",
       "      <th>0</th>\n",
       "      <td>1076254</td>\n",
       "      <td>124321.0</td>\n",
       "      <td>920089.0</td>\n",
       "      <td>920083.0</td>\n",
       "      <td>920090.0</td>\n",
       "      <td>123465.0</td>\n",
       "      <td>123507.0</td>\n",
       "    </tr>\n",
       "    <tr>\n",
       "      <th>1</th>\n",
       "      <td>1268548</td>\n",
       "      <td>124321.0</td>\n",
       "      <td>122912.0</td>\n",
       "      <td>NaN</td>\n",
       "      <td>NaN</td>\n",
       "      <td>NaN</td>\n",
       "      <td>NaN</td>\n",
       "    </tr>\n",
       "  </tbody>\n",
       "</table>\n",
       "</div>"
      ],
      "text/plain": [
       "   customerId         0         1         2         3         4         5\n",
       "0     1076254  124321.0  920089.0  920083.0  920090.0  123465.0  123507.0\n",
       "1     1268548  124321.0  122912.0       NaN       NaN       NaN       NaN"
      ]
     },
     "execution_count": 8,
     "metadata": {},
     "output_type": "execute_result"
    }
   ],
   "source": [
    "# example 1: split product items\n",
    "transactions['products'] = transactions['products'].apply(lambda x: [int(i) for i in x.split('|')])\n",
    "transactions.head(2).set_index('customerId')['products'].apply(pd.Series).reset_index()"
   ]
  },
  {
   "cell_type": "code",
   "execution_count": 9,
   "metadata": {},
   "outputs": [
    {
     "data": {
      "text/html": [
       "<div>\n",
       "<style scoped>\n",
       "    .dataframe tbody tr th:only-of-type {\n",
       "        vertical-align: middle;\n",
       "    }\n",
       "\n",
       "    .dataframe tbody tr th {\n",
       "        vertical-align: top;\n",
       "    }\n",
       "\n",
       "    .dataframe thead th {\n",
       "        text-align: right;\n",
       "    }\n",
       "</style>\n",
       "<table border=\"1\" class=\"dataframe\">\n",
       "  <thead>\n",
       "    <tr style=\"text-align: right;\">\n",
       "      <th></th>\n",
       "      <th>customerId</th>\n",
       "      <th>productId</th>\n",
       "      <th>purchase_count</th>\n",
       "    </tr>\n",
       "  </thead>\n",
       "  <tbody>\n",
       "    <tr>\n",
       "      <th>0</th>\n",
       "      <td>1076254</td>\n",
       "      <td>123465.0</td>\n",
       "      <td>1</td>\n",
       "    </tr>\n",
       "    <tr>\n",
       "      <th>1</th>\n",
       "      <td>1076254</td>\n",
       "      <td>123507.0</td>\n",
       "      <td>1</td>\n",
       "    </tr>\n",
       "    <tr>\n",
       "      <th>2</th>\n",
       "      <td>1076254</td>\n",
       "      <td>124321.0</td>\n",
       "      <td>1</td>\n",
       "    </tr>\n",
       "    <tr>\n",
       "      <th>3</th>\n",
       "      <td>1076254</td>\n",
       "      <td>920083.0</td>\n",
       "      <td>1</td>\n",
       "    </tr>\n",
       "    <tr>\n",
       "      <th>4</th>\n",
       "      <td>1076254</td>\n",
       "      <td>920089.0</td>\n",
       "      <td>1</td>\n",
       "    </tr>\n",
       "    <tr>\n",
       "      <th>5</th>\n",
       "      <td>1076254</td>\n",
       "      <td>920090.0</td>\n",
       "      <td>1</td>\n",
       "    </tr>\n",
       "    <tr>\n",
       "      <th>6</th>\n",
       "      <td>1268548</td>\n",
       "      <td>122912.0</td>\n",
       "      <td>1</td>\n",
       "    </tr>\n",
       "    <tr>\n",
       "      <th>7</th>\n",
       "      <td>1268548</td>\n",
       "      <td>124321.0</td>\n",
       "      <td>1</td>\n",
       "    </tr>\n",
       "  </tbody>\n",
       "</table>\n",
       "</div>"
      ],
      "text/plain": [
       "   customerId  productId  purchase_count\n",
       "0     1076254   123465.0               1\n",
       "1     1076254   123507.0               1\n",
       "2     1076254   124321.0               1\n",
       "3     1076254   920083.0               1\n",
       "4     1076254   920089.0               1\n",
       "5     1076254   920090.0               1\n",
       "6     1268548   122912.0               1\n",
       "7     1268548   124321.0               1"
      ]
     },
     "execution_count": 9,
     "metadata": {},
     "output_type": "execute_result"
    }
   ],
   "source": [
    "# example 2: organize a given table into a dataframe with customerId, single productId, and purchase count\n",
    "pd.melt(transactions.head(2).set_index('customerId')['products'].apply(pd.Series).reset_index(), \n",
    "             id_vars=['customerId'],\n",
    "             value_name='products') \\\n",
    "    .dropna().drop(['variable'], axis=1) \\\n",
    "    .groupby(['customerId', 'products']) \\\n",
    "    .agg({'products': 'count'}) \\\n",
    "    .rename(columns={'products': 'purchase_count'}) \\\n",
    "    .reset_index() \\\n",
    "    .rename(columns={'products': 'productId'})"
   ]
  },
  {
   "cell_type": "markdown",
   "metadata": {},
   "source": [
    "### 3.1. Create data with user, item, and target field\n",
    "* This table will be an input for our modeling later\n",
    "    * In this case, our user is `customerId`, `productId`, and `purchase_count`"
   ]
  },
  {
   "cell_type": "code",
   "execution_count": 10,
   "metadata": {},
   "outputs": [
    {
     "name": "stdout",
     "output_type": "stream",
     "text": [
      "Execution time: 0.04 minutes\n"
     ]
    }
   ],
   "source": [
    "s=time.time()\n",
    "\n",
    "data = pd.melt(transactions.set_index('customerId')['products'].apply(pd.Series).reset_index(), \n",
    "             id_vars=['customerId'],\n",
    "             value_name='products') \\\n",
    "    .dropna().drop(['variable'], axis=1) \\\n",
    "    .groupby(['customerId', 'products']) \\\n",
    "    .agg({'products': 'count'}) \\\n",
    "    .rename(columns={'products': 'purchase_count'}) \\\n",
    "    .reset_index() \\\n",
    "    .rename(columns={'products': 'productId'})\n",
    "data['productId'] = data['productId'].astype(np.int64)\n",
    "\n",
    "print(\"Execution time:\", round((time.time()-s)/60,2), \"minutes\")"
   ]
  },
  {
   "cell_type": "code",
   "execution_count": 11,
   "metadata": {},
   "outputs": [
    {
     "name": "stdout",
     "output_type": "stream",
     "text": [
      "(24463, 3)\n"
     ]
    },
    {
     "data": {
      "text/html": [
       "<div>\n",
       "<style scoped>\n",
       "    .dataframe tbody tr th:only-of-type {\n",
       "        vertical-align: middle;\n",
       "    }\n",
       "\n",
       "    .dataframe tbody tr th {\n",
       "        vertical-align: top;\n",
       "    }\n",
       "\n",
       "    .dataframe thead th {\n",
       "        text-align: right;\n",
       "    }\n",
       "</style>\n",
       "<table border=\"1\" class=\"dataframe\">\n",
       "  <thead>\n",
       "    <tr style=\"text-align: right;\">\n",
       "      <th></th>\n",
       "      <th>customerId</th>\n",
       "      <th>productId</th>\n",
       "      <th>purchase_count</th>\n",
       "    </tr>\n",
       "  </thead>\n",
       "  <tbody>\n",
       "    <tr>\n",
       "      <th>0</th>\n",
       "      <td>360153</td>\n",
       "      <td>123750</td>\n",
       "      <td>1</td>\n",
       "    </tr>\n",
       "    <tr>\n",
       "      <th>1</th>\n",
       "      <td>360153</td>\n",
       "      <td>920086</td>\n",
       "      <td>1</td>\n",
       "    </tr>\n",
       "    <tr>\n",
       "      <th>2</th>\n",
       "      <td>360478</td>\n",
       "      <td>124352</td>\n",
       "      <td>1</td>\n",
       "    </tr>\n",
       "    <tr>\n",
       "      <th>3</th>\n",
       "      <td>360714</td>\n",
       "      <td>124603</td>\n",
       "      <td>1</td>\n",
       "    </tr>\n",
       "    <tr>\n",
       "      <th>4</th>\n",
       "      <td>360847</td>\n",
       "      <td>124224</td>\n",
       "      <td>1</td>\n",
       "    </tr>\n",
       "  </tbody>\n",
       "</table>\n",
       "</div>"
      ],
      "text/plain": [
       "   customerId  productId  purchase_count\n",
       "0      360153     123750               1\n",
       "1      360153     920086               1\n",
       "2      360478     124352               1\n",
       "3      360714     124603               1\n",
       "4      360847     124224               1"
      ]
     },
     "execution_count": 11,
     "metadata": {},
     "output_type": "execute_result"
    }
   ],
   "source": [
    "print(data.shape)\n",
    "data.head()"
   ]
  },
  {
   "cell_type": "markdown",
   "metadata": {},
   "source": [
    "### 3.2. Create dummy\n",
    "* Dummy for marking whether a customer bought that item or not.\n",
    "* If one buys an item, then `purchase_dummy` are marked as 1\n",
    "* Why create a dummy instead of normalizing it, you ask?\n",
    "    * Normalizing the purchase count, say by each user, would not work because customers may have different buying frequency don't have the same taste\n",
    "    * However, we can normalize items by purchase frequency across all users, which is done in section 3.3. below."
   ]
  },
  {
   "cell_type": "code",
   "execution_count": 12,
   "metadata": {},
   "outputs": [],
   "source": [
    "def create_data_dummy(data):\n",
    "    data_dummy = data.copy()\n",
    "    data_dummy['purchase_dummy'] = 1\n",
    "    return data_dummy"
   ]
  },
  {
   "cell_type": "code",
   "execution_count": 13,
   "metadata": {},
   "outputs": [],
   "source": [
    "data_dummy = create_data_dummy(data)"
   ]
  },
  {
   "cell_type": "markdown",
   "metadata": {},
   "source": [
    "### 3.3. Normalize item values across users\n",
    "* To do this, we normalize purchase frequency of each item across users by first creating a user-item matrix as follows"
   ]
  },
  {
   "cell_type": "code",
   "execution_count": 14,
   "metadata": {},
   "outputs": [
    {
     "data": {
      "text/html": [
       "<div>\n",
       "<style scoped>\n",
       "    .dataframe tbody tr th:only-of-type {\n",
       "        vertical-align: middle;\n",
       "    }\n",
       "\n",
       "    .dataframe tbody tr th {\n",
       "        vertical-align: top;\n",
       "    }\n",
       "\n",
       "    .dataframe thead th {\n",
       "        text-align: right;\n",
       "    }\n",
       "</style>\n",
       "<table border=\"1\" class=\"dataframe\">\n",
       "  <thead>\n",
       "    <tr style=\"text-align: right;\">\n",
       "      <th>productId</th>\n",
       "      <th>10001</th>\n",
       "      <th>10004</th>\n",
       "      <th>10005</th>\n",
       "      <th>10006</th>\n",
       "      <th>10007</th>\n",
       "      <th>10008</th>\n",
       "      <th>11119</th>\n",
       "      <th>120014</th>\n",
       "      <th>120018</th>\n",
       "      <th>120192</th>\n",
       "      <th>...</th>\n",
       "      <th>920107</th>\n",
       "      <th>920113</th>\n",
       "      <th>920115</th>\n",
       "      <th>920121</th>\n",
       "      <th>920122</th>\n",
       "      <th>920128</th>\n",
       "      <th>920135</th>\n",
       "      <th>920137</th>\n",
       "      <th>920139</th>\n",
       "      <th>920140</th>\n",
       "    </tr>\n",
       "    <tr>\n",
       "      <th>customerId</th>\n",
       "      <th></th>\n",
       "      <th></th>\n",
       "      <th></th>\n",
       "      <th></th>\n",
       "      <th></th>\n",
       "      <th></th>\n",
       "      <th></th>\n",
       "      <th></th>\n",
       "      <th></th>\n",
       "      <th></th>\n",
       "      <th></th>\n",
       "      <th></th>\n",
       "      <th></th>\n",
       "      <th></th>\n",
       "      <th></th>\n",
       "      <th></th>\n",
       "      <th></th>\n",
       "      <th></th>\n",
       "      <th></th>\n",
       "      <th></th>\n",
       "      <th></th>\n",
       "    </tr>\n",
       "  </thead>\n",
       "  <tbody>\n",
       "    <tr>\n",
       "      <th>360153</th>\n",
       "      <td>NaN</td>\n",
       "      <td>NaN</td>\n",
       "      <td>NaN</td>\n",
       "      <td>NaN</td>\n",
       "      <td>NaN</td>\n",
       "      <td>NaN</td>\n",
       "      <td>NaN</td>\n",
       "      <td>NaN</td>\n",
       "      <td>NaN</td>\n",
       "      <td>NaN</td>\n",
       "      <td>...</td>\n",
       "      <td>NaN</td>\n",
       "      <td>NaN</td>\n",
       "      <td>NaN</td>\n",
       "      <td>NaN</td>\n",
       "      <td>NaN</td>\n",
       "      <td>NaN</td>\n",
       "      <td>NaN</td>\n",
       "      <td>NaN</td>\n",
       "      <td>NaN</td>\n",
       "      <td>NaN</td>\n",
       "    </tr>\n",
       "    <tr>\n",
       "      <th>360478</th>\n",
       "      <td>NaN</td>\n",
       "      <td>NaN</td>\n",
       "      <td>NaN</td>\n",
       "      <td>NaN</td>\n",
       "      <td>NaN</td>\n",
       "      <td>NaN</td>\n",
       "      <td>NaN</td>\n",
       "      <td>NaN</td>\n",
       "      <td>NaN</td>\n",
       "      <td>NaN</td>\n",
       "      <td>...</td>\n",
       "      <td>NaN</td>\n",
       "      <td>NaN</td>\n",
       "      <td>NaN</td>\n",
       "      <td>NaN</td>\n",
       "      <td>NaN</td>\n",
       "      <td>NaN</td>\n",
       "      <td>NaN</td>\n",
       "      <td>NaN</td>\n",
       "      <td>NaN</td>\n",
       "      <td>NaN</td>\n",
       "    </tr>\n",
       "    <tr>\n",
       "      <th>360714</th>\n",
       "      <td>NaN</td>\n",
       "      <td>NaN</td>\n",
       "      <td>NaN</td>\n",
       "      <td>NaN</td>\n",
       "      <td>NaN</td>\n",
       "      <td>NaN</td>\n",
       "      <td>NaN</td>\n",
       "      <td>NaN</td>\n",
       "      <td>NaN</td>\n",
       "      <td>NaN</td>\n",
       "      <td>...</td>\n",
       "      <td>NaN</td>\n",
       "      <td>NaN</td>\n",
       "      <td>NaN</td>\n",
       "      <td>NaN</td>\n",
       "      <td>NaN</td>\n",
       "      <td>NaN</td>\n",
       "      <td>NaN</td>\n",
       "      <td>NaN</td>\n",
       "      <td>NaN</td>\n",
       "      <td>NaN</td>\n",
       "    </tr>\n",
       "    <tr>\n",
       "      <th>360847</th>\n",
       "      <td>NaN</td>\n",
       "      <td>NaN</td>\n",
       "      <td>NaN</td>\n",
       "      <td>NaN</td>\n",
       "      <td>NaN</td>\n",
       "      <td>NaN</td>\n",
       "      <td>NaN</td>\n",
       "      <td>NaN</td>\n",
       "      <td>NaN</td>\n",
       "      <td>NaN</td>\n",
       "      <td>...</td>\n",
       "      <td>NaN</td>\n",
       "      <td>NaN</td>\n",
       "      <td>NaN</td>\n",
       "      <td>NaN</td>\n",
       "      <td>NaN</td>\n",
       "      <td>NaN</td>\n",
       "      <td>NaN</td>\n",
       "      <td>NaN</td>\n",
       "      <td>NaN</td>\n",
       "      <td>NaN</td>\n",
       "    </tr>\n",
       "    <tr>\n",
       "      <th>361280</th>\n",
       "      <td>NaN</td>\n",
       "      <td>NaN</td>\n",
       "      <td>NaN</td>\n",
       "      <td>NaN</td>\n",
       "      <td>NaN</td>\n",
       "      <td>NaN</td>\n",
       "      <td>NaN</td>\n",
       "      <td>NaN</td>\n",
       "      <td>NaN</td>\n",
       "      <td>NaN</td>\n",
       "      <td>...</td>\n",
       "      <td>NaN</td>\n",
       "      <td>NaN</td>\n",
       "      <td>NaN</td>\n",
       "      <td>NaN</td>\n",
       "      <td>NaN</td>\n",
       "      <td>NaN</td>\n",
       "      <td>NaN</td>\n",
       "      <td>NaN</td>\n",
       "      <td>NaN</td>\n",
       "      <td>NaN</td>\n",
       "    </tr>\n",
       "  </tbody>\n",
       "</table>\n",
       "<p>5 rows × 723 columns</p>\n",
       "</div>"
      ],
      "text/plain": [
       "productId   10001   10004   10005   10006   10007   10008   11119   120014  \\\n",
       "customerId                                                                   \n",
       "360153         NaN     NaN     NaN     NaN     NaN     NaN     NaN     NaN   \n",
       "360478         NaN     NaN     NaN     NaN     NaN     NaN     NaN     NaN   \n",
       "360714         NaN     NaN     NaN     NaN     NaN     NaN     NaN     NaN   \n",
       "360847         NaN     NaN     NaN     NaN     NaN     NaN     NaN     NaN   \n",
       "361280         NaN     NaN     NaN     NaN     NaN     NaN     NaN     NaN   \n",
       "\n",
       "productId   120018  120192  ...  920107  920113  920115  920121  920122  \\\n",
       "customerId                  ...                                           \n",
       "360153         NaN     NaN  ...     NaN     NaN     NaN     NaN     NaN   \n",
       "360478         NaN     NaN  ...     NaN     NaN     NaN     NaN     NaN   \n",
       "360714         NaN     NaN  ...     NaN     NaN     NaN     NaN     NaN   \n",
       "360847         NaN     NaN  ...     NaN     NaN     NaN     NaN     NaN   \n",
       "361280         NaN     NaN  ...     NaN     NaN     NaN     NaN     NaN   \n",
       "\n",
       "productId   920128  920135  920137  920139  920140  \n",
       "customerId                                          \n",
       "360153         NaN     NaN     NaN     NaN     NaN  \n",
       "360478         NaN     NaN     NaN     NaN     NaN  \n",
       "360714         NaN     NaN     NaN     NaN     NaN  \n",
       "360847         NaN     NaN     NaN     NaN     NaN  \n",
       "361280         NaN     NaN     NaN     NaN     NaN  \n",
       "\n",
       "[5 rows x 723 columns]"
      ]
     },
     "execution_count": 14,
     "metadata": {},
     "output_type": "execute_result"
    }
   ],
   "source": [
    "df_matrix = pd.pivot_table(data, values='purchase_count', index='customerId', columns='productId')\n",
    "df_matrix.head()"
   ]
  },
  {
   "cell_type": "code",
   "execution_count": 16,
   "metadata": {},
   "outputs": [
    {
     "data": {
      "text/plain": [
       "(7987, 723)"
      ]
     },
     "execution_count": 16,
     "metadata": {},
     "output_type": "execute_result"
    }
   ],
   "source": [
    "(df_matrix.shape)"
   ]
  },
  {
   "cell_type": "code",
   "execution_count": 17,
   "metadata": {},
   "outputs": [
    {
     "name": "stdout",
     "output_type": "stream",
     "text": [
      "(7987, 723)\n"
     ]
    },
    {
     "data": {
      "text/html": [
       "<div>\n",
       "<style scoped>\n",
       "    .dataframe tbody tr th:only-of-type {\n",
       "        vertical-align: middle;\n",
       "    }\n",
       "\n",
       "    .dataframe tbody tr th {\n",
       "        vertical-align: top;\n",
       "    }\n",
       "\n",
       "    .dataframe thead th {\n",
       "        text-align: right;\n",
       "    }\n",
       "</style>\n",
       "<table border=\"1\" class=\"dataframe\">\n",
       "  <thead>\n",
       "    <tr style=\"text-align: right;\">\n",
       "      <th>productId</th>\n",
       "      <th>10001</th>\n",
       "      <th>10004</th>\n",
       "      <th>10005</th>\n",
       "      <th>10006</th>\n",
       "      <th>10007</th>\n",
       "      <th>10008</th>\n",
       "      <th>11119</th>\n",
       "      <th>120014</th>\n",
       "      <th>120018</th>\n",
       "      <th>120192</th>\n",
       "      <th>...</th>\n",
       "      <th>920107</th>\n",
       "      <th>920113</th>\n",
       "      <th>920115</th>\n",
       "      <th>920121</th>\n",
       "      <th>920122</th>\n",
       "      <th>920128</th>\n",
       "      <th>920135</th>\n",
       "      <th>920137</th>\n",
       "      <th>920139</th>\n",
       "      <th>920140</th>\n",
       "    </tr>\n",
       "    <tr>\n",
       "      <th>customerId</th>\n",
       "      <th></th>\n",
       "      <th></th>\n",
       "      <th></th>\n",
       "      <th></th>\n",
       "      <th></th>\n",
       "      <th></th>\n",
       "      <th></th>\n",
       "      <th></th>\n",
       "      <th></th>\n",
       "      <th></th>\n",
       "      <th></th>\n",
       "      <th></th>\n",
       "      <th></th>\n",
       "      <th></th>\n",
       "      <th></th>\n",
       "      <th></th>\n",
       "      <th></th>\n",
       "      <th></th>\n",
       "      <th></th>\n",
       "      <th></th>\n",
       "      <th></th>\n",
       "    </tr>\n",
       "  </thead>\n",
       "  <tbody>\n",
       "    <tr>\n",
       "      <th>360153</th>\n",
       "      <td>NaN</td>\n",
       "      <td>NaN</td>\n",
       "      <td>NaN</td>\n",
       "      <td>NaN</td>\n",
       "      <td>NaN</td>\n",
       "      <td>NaN</td>\n",
       "      <td>NaN</td>\n",
       "      <td>NaN</td>\n",
       "      <td>NaN</td>\n",
       "      <td>NaN</td>\n",
       "      <td>...</td>\n",
       "      <td>NaN</td>\n",
       "      <td>NaN</td>\n",
       "      <td>NaN</td>\n",
       "      <td>NaN</td>\n",
       "      <td>NaN</td>\n",
       "      <td>NaN</td>\n",
       "      <td>NaN</td>\n",
       "      <td>NaN</td>\n",
       "      <td>NaN</td>\n",
       "      <td>NaN</td>\n",
       "    </tr>\n",
       "    <tr>\n",
       "      <th>360478</th>\n",
       "      <td>NaN</td>\n",
       "      <td>NaN</td>\n",
       "      <td>NaN</td>\n",
       "      <td>NaN</td>\n",
       "      <td>NaN</td>\n",
       "      <td>NaN</td>\n",
       "      <td>NaN</td>\n",
       "      <td>NaN</td>\n",
       "      <td>NaN</td>\n",
       "      <td>NaN</td>\n",
       "      <td>...</td>\n",
       "      <td>NaN</td>\n",
       "      <td>NaN</td>\n",
       "      <td>NaN</td>\n",
       "      <td>NaN</td>\n",
       "      <td>NaN</td>\n",
       "      <td>NaN</td>\n",
       "      <td>NaN</td>\n",
       "      <td>NaN</td>\n",
       "      <td>NaN</td>\n",
       "      <td>NaN</td>\n",
       "    </tr>\n",
       "    <tr>\n",
       "      <th>360714</th>\n",
       "      <td>NaN</td>\n",
       "      <td>NaN</td>\n",
       "      <td>NaN</td>\n",
       "      <td>NaN</td>\n",
       "      <td>NaN</td>\n",
       "      <td>NaN</td>\n",
       "      <td>NaN</td>\n",
       "      <td>NaN</td>\n",
       "      <td>NaN</td>\n",
       "      <td>NaN</td>\n",
       "      <td>...</td>\n",
       "      <td>NaN</td>\n",
       "      <td>NaN</td>\n",
       "      <td>NaN</td>\n",
       "      <td>NaN</td>\n",
       "      <td>NaN</td>\n",
       "      <td>NaN</td>\n",
       "      <td>NaN</td>\n",
       "      <td>NaN</td>\n",
       "      <td>NaN</td>\n",
       "      <td>NaN</td>\n",
       "    </tr>\n",
       "    <tr>\n",
       "      <th>360847</th>\n",
       "      <td>NaN</td>\n",
       "      <td>NaN</td>\n",
       "      <td>NaN</td>\n",
       "      <td>NaN</td>\n",
       "      <td>NaN</td>\n",
       "      <td>NaN</td>\n",
       "      <td>NaN</td>\n",
       "      <td>NaN</td>\n",
       "      <td>NaN</td>\n",
       "      <td>NaN</td>\n",
       "      <td>...</td>\n",
       "      <td>NaN</td>\n",
       "      <td>NaN</td>\n",
       "      <td>NaN</td>\n",
       "      <td>NaN</td>\n",
       "      <td>NaN</td>\n",
       "      <td>NaN</td>\n",
       "      <td>NaN</td>\n",
       "      <td>NaN</td>\n",
       "      <td>NaN</td>\n",
       "      <td>NaN</td>\n",
       "    </tr>\n",
       "    <tr>\n",
       "      <th>361280</th>\n",
       "      <td>NaN</td>\n",
       "      <td>NaN</td>\n",
       "      <td>NaN</td>\n",
       "      <td>NaN</td>\n",
       "      <td>NaN</td>\n",
       "      <td>NaN</td>\n",
       "      <td>NaN</td>\n",
       "      <td>NaN</td>\n",
       "      <td>NaN</td>\n",
       "      <td>NaN</td>\n",
       "      <td>...</td>\n",
       "      <td>NaN</td>\n",
       "      <td>NaN</td>\n",
       "      <td>NaN</td>\n",
       "      <td>NaN</td>\n",
       "      <td>NaN</td>\n",
       "      <td>NaN</td>\n",
       "      <td>NaN</td>\n",
       "      <td>NaN</td>\n",
       "      <td>NaN</td>\n",
       "      <td>NaN</td>\n",
       "    </tr>\n",
       "  </tbody>\n",
       "</table>\n",
       "<p>5 rows × 723 columns</p>\n",
       "</div>"
      ],
      "text/plain": [
       "productId   10001   10004   10005   10006   10007   10008   11119   120014  \\\n",
       "customerId                                                                   \n",
       "360153         NaN     NaN     NaN     NaN     NaN     NaN     NaN     NaN   \n",
       "360478         NaN     NaN     NaN     NaN     NaN     NaN     NaN     NaN   \n",
       "360714         NaN     NaN     NaN     NaN     NaN     NaN     NaN     NaN   \n",
       "360847         NaN     NaN     NaN     NaN     NaN     NaN     NaN     NaN   \n",
       "361280         NaN     NaN     NaN     NaN     NaN     NaN     NaN     NaN   \n",
       "\n",
       "productId   120018  120192  ...  920107  920113  920115  920121  920122  \\\n",
       "customerId                  ...                                           \n",
       "360153         NaN     NaN  ...     NaN     NaN     NaN     NaN     NaN   \n",
       "360478         NaN     NaN  ...     NaN     NaN     NaN     NaN     NaN   \n",
       "360714         NaN     NaN  ...     NaN     NaN     NaN     NaN     NaN   \n",
       "360847         NaN     NaN  ...     NaN     NaN     NaN     NaN     NaN   \n",
       "361280         NaN     NaN  ...     NaN     NaN     NaN     NaN     NaN   \n",
       "\n",
       "productId   920128  920135  920137  920139  920140  \n",
       "customerId                                          \n",
       "360153         NaN     NaN     NaN     NaN     NaN  \n",
       "360478         NaN     NaN     NaN     NaN     NaN  \n",
       "360714         NaN     NaN     NaN     NaN     NaN  \n",
       "360847         NaN     NaN     NaN     NaN     NaN  \n",
       "361280         NaN     NaN     NaN     NaN     NaN  \n",
       "\n",
       "[5 rows x 723 columns]"
      ]
     },
     "execution_count": 17,
     "metadata": {},
     "output_type": "execute_result"
    }
   ],
   "source": [
    "df_matrix_norm = (df_matrix-df_matrix.min())/(df_matrix.max()-df_matrix.min())\n",
    "print(df_matrix_norm.shape)\n",
    "df_matrix_norm.head()"
   ]
  },
  {
   "cell_type": "code",
   "execution_count": 18,
   "metadata": {},
   "outputs": [
    {
     "name": "stdout",
     "output_type": "stream",
     "text": [
      "(20746, 3)\n"
     ]
    },
    {
     "data": {
      "text/html": [
       "<div>\n",
       "<style scoped>\n",
       "    .dataframe tbody tr th:only-of-type {\n",
       "        vertical-align: middle;\n",
       "    }\n",
       "\n",
       "    .dataframe tbody tr th {\n",
       "        vertical-align: top;\n",
       "    }\n",
       "\n",
       "    .dataframe thead th {\n",
       "        text-align: right;\n",
       "    }\n",
       "</style>\n",
       "<table border=\"1\" class=\"dataframe\">\n",
       "  <thead>\n",
       "    <tr style=\"text-align: right;\">\n",
       "      <th></th>\n",
       "      <th>customerId</th>\n",
       "      <th>productId</th>\n",
       "      <th>scaled_purchase_freq</th>\n",
       "    </tr>\n",
       "  </thead>\n",
       "  <tbody>\n",
       "    <tr>\n",
       "      <th>8014</th>\n",
       "      <td>397773</td>\n",
       "      <td>10004</td>\n",
       "      <td>0.0</td>\n",
       "    </tr>\n",
       "    <tr>\n",
       "      <th>8247</th>\n",
       "      <td>911508</td>\n",
       "      <td>10004</td>\n",
       "      <td>0.0</td>\n",
       "    </tr>\n",
       "    <tr>\n",
       "      <th>8291</th>\n",
       "      <td>934537</td>\n",
       "      <td>10004</td>\n",
       "      <td>0.0</td>\n",
       "    </tr>\n",
       "    <tr>\n",
       "      <th>8410</th>\n",
       "      <td>1009947</td>\n",
       "      <td>10004</td>\n",
       "      <td>0.0</td>\n",
       "    </tr>\n",
       "    <tr>\n",
       "      <th>8559</th>\n",
       "      <td>1075868</td>\n",
       "      <td>10004</td>\n",
       "      <td>0.0</td>\n",
       "    </tr>\n",
       "  </tbody>\n",
       "</table>\n",
       "</div>"
      ],
      "text/plain": [
       "      customerId productId  scaled_purchase_freq\n",
       "8014      397773     10004                   0.0\n",
       "8247      911508     10004                   0.0\n",
       "8291      934537     10004                   0.0\n",
       "8410     1009947     10004                   0.0\n",
       "8559     1075868     10004                   0.0"
      ]
     },
     "execution_count": 18,
     "metadata": {},
     "output_type": "execute_result"
    }
   ],
   "source": [
    "# create a table for input to the modeling\n",
    "\n",
    "d = df_matrix_norm.reset_index()\n",
    "d.index.names = ['scaled_purchase_freq']\n",
    "data_norm = pd.melt(d, id_vars=['customerId'], value_name='scaled_purchase_freq').dropna()\n",
    "print(data_norm.shape)\n",
    "data_norm.head()"
   ]
  },
  {
   "cell_type": "markdown",
   "metadata": {},
   "source": [
    "#### Define a function for normalizing data"
   ]
  },
  {
   "cell_type": "code",
   "execution_count": 19,
   "metadata": {},
   "outputs": [],
   "source": [
    "def normalize_data(data):\n",
    "    df_matrix = pd.pivot_table(data, values='purchase_count', index='customerId', columns='productId')\n",
    "    df_matrix_norm = (df_matrix-df_matrix.min())/(df_matrix.max()-df_matrix.min())\n",
    "    d = df_matrix_norm.reset_index()\n",
    "    d.index.names = ['scaled_purchase_freq']\n",
    "    return pd.melt(d, id_vars=['customerId'], value_name='scaled_purchase_freq').dropna()"
   ]
  },
  {
   "cell_type": "markdown",
   "metadata": {},
   "source": [
    "* We can normalize the their purchase history, from 0-1 (with 1 being the most number of purchase for an item and 0 being 0 purchase count for that item)."
   ]
  },
  {
   "cell_type": "markdown",
   "metadata": {},
   "source": [
    "## 4. Split train and test set\n",
    "* Splitting the data into training and testing sets is an important part of evaluating predictive modeling, in this case a collaborative filtering model. Typically, we use a larger portion of the data for training and a smaller portion for testing. \n",
    "* We use 80:20 ratio for our train-test set size.\n",
    "* Our training portion will be used to develop a predictive model, while the other to evaluate the model's performance.\n",
    "* Now that we have three datasets with purchase counts, purchase dummy, and scaled purchase counts, we would like to split each."
   ]
  },
  {
   "cell_type": "code",
   "execution_count": 20,
   "metadata": {},
   "outputs": [
    {
     "name": "stdout",
     "output_type": "stream",
     "text": [
      "(19570, 3) (4893, 3)\n"
     ]
    }
   ],
   "source": [
    "train, test = train_test_split(data, test_size = .2)\n",
    "print(train.shape, test.shape)"
   ]
  },
  {
   "cell_type": "code",
   "execution_count": 21,
   "metadata": {},
   "outputs": [],
   "source": [
    "# Using turicreate library, we convert dataframe to SFrame - this will be useful in the modeling part\n",
    "\n",
    "train_data = tc.SFrame(train)\n",
    "test_data = tc.SFrame(test)"
   ]
  },
  {
   "cell_type": "code",
   "execution_count": 22,
   "metadata": {},
   "outputs": [
    {
     "data": {
      "text/html": [
       "<div style=\"max-height:1000px;max-width:1500px;overflow:auto;\"><table frame=\"box\" rules=\"cols\">\n",
       "    <tr>\n",
       "        <th style=\"padding-left: 1em; padding-right: 1em; text-align: center\">customerId</th>\n",
       "        <th style=\"padding-left: 1em; padding-right: 1em; text-align: center\">productId</th>\n",
       "        <th style=\"padding-left: 1em; padding-right: 1em; text-align: center\">purchase_count</th>\n",
       "    </tr>\n",
       "    <tr>\n",
       "        <td style=\"padding-left: 1em; padding-right: 1em; text-align: center; vertical-align: top\">1823684</td>\n",
       "        <td style=\"padding-left: 1em; padding-right: 1em; text-align: center; vertical-align: top\">123279</td>\n",
       "        <td style=\"padding-left: 1em; padding-right: 1em; text-align: center; vertical-align: top\">2</td>\n",
       "    </tr>\n",
       "    <tr>\n",
       "        <td style=\"padding-left: 1em; padding-right: 1em; text-align: center; vertical-align: top\">1703920</td>\n",
       "        <td style=\"padding-left: 1em; padding-right: 1em; text-align: center; vertical-align: top\">123122</td>\n",
       "        <td style=\"padding-left: 1em; padding-right: 1em; text-align: center; vertical-align: top\">1</td>\n",
       "    </tr>\n",
       "    <tr>\n",
       "        <td style=\"padding-left: 1em; padding-right: 1em; text-align: center; vertical-align: top\">1770012</td>\n",
       "        <td style=\"padding-left: 1em; padding-right: 1em; text-align: center; vertical-align: top\">920081</td>\n",
       "        <td style=\"padding-left: 1em; padding-right: 1em; text-align: center; vertical-align: top\">1</td>\n",
       "    </tr>\n",
       "    <tr>\n",
       "        <td style=\"padding-left: 1em; padding-right: 1em; text-align: center; vertical-align: top\">1787146</td>\n",
       "        <td style=\"padding-left: 1em; padding-right: 1em; text-align: center; vertical-align: top\">920081</td>\n",
       "        <td style=\"padding-left: 1em; padding-right: 1em; text-align: center; vertical-align: top\">1</td>\n",
       "    </tr>\n",
       "    <tr>\n",
       "        <td style=\"padding-left: 1em; padding-right: 1em; text-align: center; vertical-align: top\">1769688</td>\n",
       "        <td style=\"padding-left: 1em; padding-right: 1em; text-align: center; vertical-align: top\">920085</td>\n",
       "        <td style=\"padding-left: 1em; padding-right: 1em; text-align: center; vertical-align: top\">1</td>\n",
       "    </tr>\n",
       "    <tr>\n",
       "        <td style=\"padding-left: 1em; padding-right: 1em; text-align: center; vertical-align: top\">1727679</td>\n",
       "        <td style=\"padding-left: 1em; padding-right: 1em; text-align: center; vertical-align: top\">920091</td>\n",
       "        <td style=\"padding-left: 1em; padding-right: 1em; text-align: center; vertical-align: top\">2</td>\n",
       "    </tr>\n",
       "    <tr>\n",
       "        <td style=\"padding-left: 1em; padding-right: 1em; text-align: center; vertical-align: top\">1267352</td>\n",
       "        <td style=\"padding-left: 1em; padding-right: 1em; text-align: center; vertical-align: top\">124368</td>\n",
       "        <td style=\"padding-left: 1em; padding-right: 1em; text-align: center; vertical-align: top\">1</td>\n",
       "    </tr>\n",
       "    <tr>\n",
       "        <td style=\"padding-left: 1em; padding-right: 1em; text-align: center; vertical-align: top\">1728322</td>\n",
       "        <td style=\"padding-left: 1em; padding-right: 1em; text-align: center; vertical-align: top\">123920</td>\n",
       "        <td style=\"padding-left: 1em; padding-right: 1em; text-align: center; vertical-align: top\">1</td>\n",
       "    </tr>\n",
       "    <tr>\n",
       "        <td style=\"padding-left: 1em; padding-right: 1em; text-align: center; vertical-align: top\">1721100</td>\n",
       "        <td style=\"padding-left: 1em; padding-right: 1em; text-align: center; vertical-align: top\">124347</td>\n",
       "        <td style=\"padding-left: 1em; padding-right: 1em; text-align: center; vertical-align: top\">1</td>\n",
       "    </tr>\n",
       "    <tr>\n",
       "        <td style=\"padding-left: 1em; padding-right: 1em; text-align: center; vertical-align: top\">1705816</td>\n",
       "        <td style=\"padding-left: 1em; padding-right: 1em; text-align: center; vertical-align: top\">920087</td>\n",
       "        <td style=\"padding-left: 1em; padding-right: 1em; text-align: center; vertical-align: top\">1</td>\n",
       "    </tr>\n",
       "</table>\n",
       "[19570 rows x 3 columns]<br/>Note: Only the head of the SFrame is printed.<br/>You can use print_rows(num_rows=m, num_columns=n) to print more rows and columns.\n",
       "</div>"
      ],
      "text/plain": [
       "Columns:\n",
       "\tcustomerId\tint\n",
       "\tproductId\tint\n",
       "\tpurchase_count\tint\n",
       "\n",
       "Rows: 19570\n",
       "\n",
       "Data:\n",
       "+------------+-----------+----------------+\n",
       "| customerId | productId | purchase_count |\n",
       "+------------+-----------+----------------+\n",
       "|  1823684   |   123279  |       2        |\n",
       "|  1703920   |   123122  |       1        |\n",
       "|  1770012   |   920081  |       1        |\n",
       "|  1787146   |   920081  |       1        |\n",
       "|  1769688   |   920085  |       1        |\n",
       "|  1727679   |   920091  |       2        |\n",
       "|  1267352   |   124368  |       1        |\n",
       "|  1728322   |   123920  |       1        |\n",
       "|  1721100   |   124347  |       1        |\n",
       "|  1705816   |   920087  |       1        |\n",
       "+------------+-----------+----------------+\n",
       "[19570 rows x 3 columns]\n",
       "Note: Only the head of the SFrame is printed.\n",
       "You can use print_rows(num_rows=m, num_columns=n) to print more rows and columns."
      ]
     },
     "execution_count": 22,
     "metadata": {},
     "output_type": "execute_result"
    }
   ],
   "source": [
    "train_data"
   ]
  },
  {
   "cell_type": "code",
   "execution_count": 23,
   "metadata": {},
   "outputs": [
    {
     "data": {
      "text/html": [
       "<div style=\"max-height:1000px;max-width:1500px;overflow:auto;\"><table frame=\"box\" rules=\"cols\">\n",
       "    <tr>\n",
       "        <th style=\"padding-left: 1em; padding-right: 1em; text-align: center\">customerId</th>\n",
       "        <th style=\"padding-left: 1em; padding-right: 1em; text-align: center\">productId</th>\n",
       "        <th style=\"padding-left: 1em; padding-right: 1em; text-align: center\">purchase_count</th>\n",
       "    </tr>\n",
       "    <tr>\n",
       "        <td style=\"padding-left: 1em; padding-right: 1em; text-align: center; vertical-align: top\">1780283</td>\n",
       "        <td style=\"padding-left: 1em; padding-right: 1em; text-align: center; vertical-align: top\">920094</td>\n",
       "        <td style=\"padding-left: 1em; padding-right: 1em; text-align: center; vertical-align: top\">1</td>\n",
       "    </tr>\n",
       "    <tr>\n",
       "        <td style=\"padding-left: 1em; padding-right: 1em; text-align: center; vertical-align: top\">1722416</td>\n",
       "        <td style=\"padding-left: 1em; padding-right: 1em; text-align: center; vertical-align: top\">920081</td>\n",
       "        <td style=\"padding-left: 1em; padding-right: 1em; text-align: center; vertical-align: top\">1</td>\n",
       "    </tr>\n",
       "    <tr>\n",
       "        <td style=\"padding-left: 1em; padding-right: 1em; text-align: center; vertical-align: top\">1729604</td>\n",
       "        <td style=\"padding-left: 1em; padding-right: 1em; text-align: center; vertical-align: top\">124724</td>\n",
       "        <td style=\"padding-left: 1em; padding-right: 1em; text-align: center; vertical-align: top\">1</td>\n",
       "    </tr>\n",
       "    <tr>\n",
       "        <td style=\"padding-left: 1em; padding-right: 1em; text-align: center; vertical-align: top\">1804190</td>\n",
       "        <td style=\"padding-left: 1em; padding-right: 1em; text-align: center; vertical-align: top\">123787</td>\n",
       "        <td style=\"padding-left: 1em; padding-right: 1em; text-align: center; vertical-align: top\">1</td>\n",
       "    </tr>\n",
       "    <tr>\n",
       "        <td style=\"padding-left: 1em; padding-right: 1em; text-align: center; vertical-align: top\">1730553</td>\n",
       "        <td style=\"padding-left: 1em; padding-right: 1em; text-align: center; vertical-align: top\">920089</td>\n",
       "        <td style=\"padding-left: 1em; padding-right: 1em; text-align: center; vertical-align: top\">1</td>\n",
       "    </tr>\n",
       "    <tr>\n",
       "        <td style=\"padding-left: 1em; padding-right: 1em; text-align: center; vertical-align: top\">1803976</td>\n",
       "        <td style=\"padding-left: 1em; padding-right: 1em; text-align: center; vertical-align: top\">124603</td>\n",
       "        <td style=\"padding-left: 1em; padding-right: 1em; text-align: center; vertical-align: top\">1</td>\n",
       "    </tr>\n",
       "    <tr>\n",
       "        <td style=\"padding-left: 1em; padding-right: 1em; text-align: center; vertical-align: top\">1828981</td>\n",
       "        <td style=\"padding-left: 1em; padding-right: 1em; text-align: center; vertical-align: top\">124464</td>\n",
       "        <td style=\"padding-left: 1em; padding-right: 1em; text-align: center; vertical-align: top\">1</td>\n",
       "    </tr>\n",
       "    <tr>\n",
       "        <td style=\"padding-left: 1em; padding-right: 1em; text-align: center; vertical-align: top\">1789170</td>\n",
       "        <td style=\"padding-left: 1em; padding-right: 1em; text-align: center; vertical-align: top\">920083</td>\n",
       "        <td style=\"padding-left: 1em; padding-right: 1em; text-align: center; vertical-align: top\">1</td>\n",
       "    </tr>\n",
       "    <tr>\n",
       "        <td style=\"padding-left: 1em; padding-right: 1em; text-align: center; vertical-align: top\">1770925</td>\n",
       "        <td style=\"padding-left: 1em; padding-right: 1em; text-align: center; vertical-align: top\">124099</td>\n",
       "        <td style=\"padding-left: 1em; padding-right: 1em; text-align: center; vertical-align: top\">1</td>\n",
       "    </tr>\n",
       "    <tr>\n",
       "        <td style=\"padding-left: 1em; padding-right: 1em; text-align: center; vertical-align: top\">1221209</td>\n",
       "        <td style=\"padding-left: 1em; padding-right: 1em; text-align: center; vertical-align: top\">123895</td>\n",
       "        <td style=\"padding-left: 1em; padding-right: 1em; text-align: center; vertical-align: top\">1</td>\n",
       "    </tr>\n",
       "</table>\n",
       "[4893 rows x 3 columns]<br/>Note: Only the head of the SFrame is printed.<br/>You can use print_rows(num_rows=m, num_columns=n) to print more rows and columns.\n",
       "</div>"
      ],
      "text/plain": [
       "Columns:\n",
       "\tcustomerId\tint\n",
       "\tproductId\tint\n",
       "\tpurchase_count\tint\n",
       "\n",
       "Rows: 4893\n",
       "\n",
       "Data:\n",
       "+------------+-----------+----------------+\n",
       "| customerId | productId | purchase_count |\n",
       "+------------+-----------+----------------+\n",
       "|  1780283   |   920094  |       1        |\n",
       "|  1722416   |   920081  |       1        |\n",
       "|  1729604   |   124724  |       1        |\n",
       "|  1804190   |   123787  |       1        |\n",
       "|  1730553   |   920089  |       1        |\n",
       "|  1803976   |   124603  |       1        |\n",
       "|  1828981   |   124464  |       1        |\n",
       "|  1789170   |   920083  |       1        |\n",
       "|  1770925   |   124099  |       1        |\n",
       "|  1221209   |   123895  |       1        |\n",
       "+------------+-----------+----------------+\n",
       "[4893 rows x 3 columns]\n",
       "Note: Only the head of the SFrame is printed.\n",
       "You can use print_rows(num_rows=m, num_columns=n) to print more rows and columns."
      ]
     },
     "execution_count": 23,
     "metadata": {},
     "output_type": "execute_result"
    }
   ],
   "source": [
    "test_data"
   ]
  },
  {
   "cell_type": "markdown",
   "metadata": {},
   "source": [
    "#### Define a `split_data` function for splitting data to training and test set"
   ]
  },
  {
   "cell_type": "code",
   "execution_count": 24,
   "metadata": {},
   "outputs": [],
   "source": [
    "# We can define a function for this step as follows\n",
    "\n",
    "def split_data(data):\n",
    "    '''\n",
    "    Splits dataset into training and test set.\n",
    "    \n",
    "    Args:\n",
    "        data (pandas.DataFrame)\n",
    "        \n",
    "    Returns\n",
    "        train_data (tc.SFrame)\n",
    "        test_data (tc.SFrame)\n",
    "    '''\n",
    "    train, test = train_test_split(data, test_size = .2)\n",
    "    train_data = tc.SFrame(train)\n",
    "    test_data = tc.SFrame(test)\n",
    "    return train_data, test_data"
   ]
  },
  {
   "cell_type": "code",
   "execution_count": 25,
   "metadata": {},
   "outputs": [],
   "source": [
    "# lets try with both dummy table and scaled/normalized purchase table\n",
    "\n",
    "train_data_dummy, test_data_dummy = split_data(data_dummy)\n",
    "train_data_norm, test_data_norm = split_data(data_norm)"
   ]
  },
  {
   "cell_type": "markdown",
   "metadata": {},
   "source": [
    "## 5. Baseline Model\n",
    "Before running a more complicated approach such as collaborative filtering, we would like to use a baseline model to compare and evaluate models. Since baseline typically uses a very simple approach, techniques used beyond this approach should be chosen if they show relatively better accuracy and complexity.\n",
    "\n",
    "### 5.1. Using a Popularity model as a baseline\n",
    "* The popularity model takes the most popular items for recommendation. These items are products with the highest number of sells across customers.\n",
    "* We use `turicreate` library for running and evaluating both baseline and collaborative filtering models below\n",
    "* Training data is used for model selection\n",
    "\n",
    "#### Using purchase counts"
   ]
  },
  {
   "cell_type": "code",
   "execution_count": 26,
   "metadata": {},
   "outputs": [],
   "source": [
    "# variables to define field names\n",
    "user_id = 'customerId'\n",
    "item_id = 'productId'\n",
    "target = 'purchase_count'\n",
    "users_to_recommend = list(transactions[user_id])\n",
    "n_rec = 10 # number of items to recommend\n",
    "n_display = 30"
   ]
  },
  {
   "cell_type": "code",
   "execution_count": 27,
   "metadata": {},
   "outputs": [
    {
     "data": {
      "text/html": [
       "<pre>Preparing data set.</pre>"
      ],
      "text/plain": [
       "Preparing data set."
      ]
     },
     "metadata": {},
     "output_type": "display_data"
    },
    {
     "data": {
      "text/html": [
       "<pre>    Data has 19570 observations with 7158 users and 703 items.</pre>"
      ],
      "text/plain": [
       "    Data has 19570 observations with 7158 users and 703 items."
      ]
     },
     "metadata": {},
     "output_type": "display_data"
    },
    {
     "data": {
      "text/html": [
       "<pre>    Data prepared in: 0.053199s</pre>"
      ],
      "text/plain": [
       "    Data prepared in: 0.053199s"
      ]
     },
     "metadata": {},
     "output_type": "display_data"
    },
    {
     "data": {
      "text/html": [
       "<pre>19570 observations to process; with 703 unique items.</pre>"
      ],
      "text/plain": [
       "19570 observations to process; with 703 unique items."
      ]
     },
     "metadata": {},
     "output_type": "display_data"
    }
   ],
   "source": [
    "popularity_model = tc.popularity_recommender.create(train_data, \n",
    "                                                    user_id=user_id, \n",
    "                                                    item_id=item_id, \n",
    "                                                    target=target)"
   ]
  },
  {
   "cell_type": "code",
   "execution_count": 28,
   "metadata": {},
   "outputs": [
    {
     "data": {
      "text/html": [
       "<pre>recommendations finished on 1000/7987 queries. users per second: 126582</pre>"
      ],
      "text/plain": [
       "recommendations finished on 1000/7987 queries. users per second: 126582"
      ]
     },
     "metadata": {},
     "output_type": "display_data"
    },
    {
     "data": {
      "text/html": [
       "<pre>recommendations finished on 2000/7987 queries. users per second: 140311</pre>"
      ],
      "text/plain": [
       "recommendations finished on 2000/7987 queries. users per second: 140311"
      ]
     },
     "metadata": {},
     "output_type": "display_data"
    },
    {
     "data": {
      "text/html": [
       "<pre>recommendations finished on 3000/7987 queries. users per second: 154147</pre>"
      ],
      "text/plain": [
       "recommendations finished on 3000/7987 queries. users per second: 154147"
      ]
     },
     "metadata": {},
     "output_type": "display_data"
    },
    {
     "data": {
      "text/html": [
       "<pre>recommendations finished on 4000/7987 queries. users per second: 161610</pre>"
      ],
      "text/plain": [
       "recommendations finished on 4000/7987 queries. users per second: 161610"
      ]
     },
     "metadata": {},
     "output_type": "display_data"
    },
    {
     "data": {
      "text/html": [
       "<pre>recommendations finished on 5000/7987 queries. users per second: 168799</pre>"
      ],
      "text/plain": [
       "recommendations finished on 5000/7987 queries. users per second: 168799"
      ]
     },
     "metadata": {},
     "output_type": "display_data"
    },
    {
     "data": {
      "text/html": [
       "<pre>recommendations finished on 6000/7987 queries. users per second: 173065</pre>"
      ],
      "text/plain": [
       "recommendations finished on 6000/7987 queries. users per second: 173065"
      ]
     },
     "metadata": {},
     "output_type": "display_data"
    },
    {
     "data": {
      "text/html": [
       "<pre>recommendations finished on 7000/7987 queries. users per second: 172720</pre>"
      ],
      "text/plain": [
       "recommendations finished on 7000/7987 queries. users per second: 172720"
      ]
     },
     "metadata": {},
     "output_type": "display_data"
    },
    {
     "name": "stdout",
     "output_type": "stream",
     "text": [
      "+------------+-----------+--------------------+------+\n",
      "| customerId | productId |       score        | rank |\n",
      "+------------+-----------+--------------------+------+\n",
      "|  1076254   |   124838  |        2.0         |  1   |\n",
      "|  1076254   |   124136  |        2.0         |  2   |\n",
      "|  1076254   |   124875  |        2.0         |  3   |\n",
      "|  1076254   |   123864  |        2.0         |  4   |\n",
      "|  1076254   |   124788  |        2.0         |  5   |\n",
      "|  1076254   |   123553  |        2.0         |  6   |\n",
      "|  1076254   |   124738  |        2.0         |  7   |\n",
      "|  1076254   |   124517  |        2.0         |  8   |\n",
      "|  1076254   |   124074  | 1.6666666666666667 |  9   |\n",
      "|  1076254   |   124290  | 1.5714285714285714 |  10  |\n",
      "|  1268548   |   124838  |        2.0         |  1   |\n",
      "|  1268548   |   124136  |        2.0         |  2   |\n",
      "|  1268548   |   124875  |        2.0         |  3   |\n",
      "|  1268548   |   123864  |        2.0         |  4   |\n",
      "|  1268548   |   124788  |        2.0         |  5   |\n",
      "|  1268548   |   123553  |        2.0         |  6   |\n",
      "|  1268548   |   124738  |        2.0         |  7   |\n",
      "|  1268548   |   124517  |        2.0         |  8   |\n",
      "|  1268548   |   124074  | 1.6666666666666667 |  9   |\n",
      "|  1268548   |   124290  | 1.5714285714285714 |  10  |\n",
      "|  1709459   |   124838  |        2.0         |  1   |\n",
      "|  1709459   |   124136  |        2.0         |  2   |\n",
      "|  1709459   |   124875  |        2.0         |  3   |\n",
      "|  1709459   |   123864  |        2.0         |  4   |\n",
      "|  1709459   |   124788  |        2.0         |  5   |\n",
      "|  1709459   |   123553  |        2.0         |  6   |\n",
      "|  1709459   |   124738  |        2.0         |  7   |\n",
      "|  1709459   |   124517  |        2.0         |  8   |\n",
      "|  1709459   |   124074  | 1.6666666666666667 |  9   |\n",
      "|  1709459   |   124290  | 1.5714285714285714 |  10  |\n",
      "+------------+-----------+--------------------+------+\n",
      "[79870 rows x 4 columns]\n",
      "\n"
     ]
    }
   ],
   "source": [
    "# Get recommendations for a list of users to recommend (from customers file)\n",
    "# Printed below is head / top 30 rows for first 3 customers with 10 recommendations each\n",
    "\n",
    "popularity_recomm = popularity_model.recommend(users=users_to_recommend, k=n_rec)\n",
    "popularity_recomm.print_rows(n_display)"
   ]
  },
  {
   "cell_type": "markdown",
   "metadata": {},
   "source": [
    "#### Define a `model` function for model selection"
   ]
  },
  {
   "cell_type": "code",
   "execution_count": 29,
   "metadata": {},
   "outputs": [],
   "source": [
    "# Since turicreate is very accessible library, we can define a model selection function as below\n",
    "\n",
    "def model(train_data, name, user_id, item_id, target, users_to_recommend, n_rec, n_display):\n",
    "    if name == 'popularity':\n",
    "        model = tc.popularity_recommender.create(train_data, \n",
    "                                                    user_id=user_id, \n",
    "                                                    item_id=item_id, \n",
    "                                                    target=target)\n",
    "    elif name == 'cosine':\n",
    "        model = tc.item_similarity_recommender.create(train_data, \n",
    "                                                    user_id=user_id, \n",
    "                                                    item_id=item_id, \n",
    "                                                    target=target, \n",
    "                                                    similarity_type='cosine')\n",
    "    elif name == 'pearson':\n",
    "        model = tc.item_similarity_recommender.create(train_data, \n",
    "                                                    user_id=user_id, \n",
    "                                                    item_id=item_id, \n",
    "                                                    target=target, \n",
    "                                                    similarity_type='pearson')\n",
    "        \n",
    "    recom = model.recommend(users=users_to_recommend, k=n_rec)\n",
    "    recom.print_rows(n_display)\n",
    "    return model"
   ]
  },
  {
   "cell_type": "code",
   "execution_count": 30,
   "metadata": {},
   "outputs": [],
   "source": [
    "# variables to define field names\n",
    "# constant variables include:\n",
    "user_id = 'customerId'\n",
    "item_id = 'productId'\n",
    "users_to_recommend = list(customers[user_id])\n",
    "n_rec = 10 # number of items to recommend\n",
    "n_display = 30 # to print the head / first few rows in a defined dataset"
   ]
  },
  {
   "cell_type": "markdown",
   "metadata": {},
   "source": [
    "#### Using purchase dummy"
   ]
  },
  {
   "cell_type": "code",
   "execution_count": 31,
   "metadata": {},
   "outputs": [
    {
     "data": {
      "text/html": [
       "<pre>Warning: Ignoring columns purchase_count;</pre>"
      ],
      "text/plain": [
       "Warning: Ignoring columns purchase_count;"
      ]
     },
     "metadata": {},
     "output_type": "display_data"
    },
    {
     "data": {
      "text/html": [
       "<pre>    To use these columns in scoring predictions, use a model that allows the use of additional features.</pre>"
      ],
      "text/plain": [
       "    To use these columns in scoring predictions, use a model that allows the use of additional features."
      ]
     },
     "metadata": {},
     "output_type": "display_data"
    },
    {
     "data": {
      "text/html": [
       "<pre>Preparing data set.</pre>"
      ],
      "text/plain": [
       "Preparing data set."
      ]
     },
     "metadata": {},
     "output_type": "display_data"
    },
    {
     "data": {
      "text/html": [
       "<pre>    Data has 19570 observations with 7179 users and 699 items.</pre>"
      ],
      "text/plain": [
       "    Data has 19570 observations with 7179 users and 699 items."
      ]
     },
     "metadata": {},
     "output_type": "display_data"
    },
    {
     "data": {
      "text/html": [
       "<pre>    Data prepared in: 0.05636s</pre>"
      ],
      "text/plain": [
       "    Data prepared in: 0.05636s"
      ]
     },
     "metadata": {},
     "output_type": "display_data"
    },
    {
     "data": {
      "text/html": [
       "<pre>19570 observations to process; with 699 unique items.</pre>"
      ],
      "text/plain": [
       "19570 observations to process; with 699 unique items."
      ]
     },
     "metadata": {},
     "output_type": "display_data"
    },
    {
     "data": {
      "text/html": [
       "<pre>recommendations finished on 1000/7987 queries. users per second: 82665.1</pre>"
      ],
      "text/plain": [
       "recommendations finished on 1000/7987 queries. users per second: 82665.1"
      ]
     },
     "metadata": {},
     "output_type": "display_data"
    },
    {
     "data": {
      "text/html": [
       "<pre>recommendations finished on 2000/7987 queries. users per second: 114266</pre>"
      ],
      "text/plain": [
       "recommendations finished on 2000/7987 queries. users per second: 114266"
      ]
     },
     "metadata": {},
     "output_type": "display_data"
    },
    {
     "data": {
      "text/html": [
       "<pre>recommendations finished on 3000/7987 queries. users per second: 124668</pre>"
      ],
      "text/plain": [
       "recommendations finished on 3000/7987 queries. users per second: 124668"
      ]
     },
     "metadata": {},
     "output_type": "display_data"
    },
    {
     "data": {
      "text/html": [
       "<pre>recommendations finished on 4000/7987 queries. users per second: 95263</pre>"
      ],
      "text/plain": [
       "recommendations finished on 4000/7987 queries. users per second: 95263"
      ]
     },
     "metadata": {},
     "output_type": "display_data"
    },
    {
     "data": {
      "text/html": [
       "<pre>recommendations finished on 5000/7987 queries. users per second: 101858</pre>"
      ],
      "text/plain": [
       "recommendations finished on 5000/7987 queries. users per second: 101858"
      ]
     },
     "metadata": {},
     "output_type": "display_data"
    },
    {
     "data": {
      "text/html": [
       "<pre>recommendations finished on 6000/7987 queries. users per second: 99848.6</pre>"
      ],
      "text/plain": [
       "recommendations finished on 6000/7987 queries. users per second: 99848.6"
      ]
     },
     "metadata": {},
     "output_type": "display_data"
    },
    {
     "data": {
      "text/html": [
       "<pre>recommendations finished on 7000/7987 queries. users per second: 96633</pre>"
      ],
      "text/plain": [
       "recommendations finished on 7000/7987 queries. users per second: 96633"
      ]
     },
     "metadata": {},
     "output_type": "display_data"
    },
    {
     "name": "stdout",
     "output_type": "stream",
     "text": [
      "+------------+-----------+-------+------+\n",
      "| customerId | productId | score | rank |\n",
      "+------------+-----------+-------+------+\n",
      "|  1076254   |   123231  |  1.0  |  1   |\n",
      "|  1076254   |   920086  |  1.0  |  2   |\n",
      "|  1076254   |   920107  |  1.0  |  3   |\n",
      "|  1076254   |   920085  |  1.0  |  4   |\n",
      "|  1076254   |   920090  |  1.0  |  5   |\n",
      "|  1076254   |   920087  |  1.0  |  6   |\n",
      "|  1076254   |   920091  |  1.0  |  7   |\n",
      "|  1076254   |   920081  |  1.0  |  8   |\n",
      "|  1076254   |   920084  |  1.0  |  9   |\n",
      "|  1076254   |   920082  |  1.0  |  10  |\n",
      "|  1268548   |   920086  |  1.0  |  1   |\n",
      "|  1268548   |   920089  |  1.0  |  2   |\n",
      "|  1268548   |   920107  |  1.0  |  3   |\n",
      "|  1268548   |   920085  |  1.0  |  4   |\n",
      "|  1268548   |   920090  |  1.0  |  5   |\n",
      "|  1268548   |   920087  |  1.0  |  6   |\n",
      "|  1268548   |   920091  |  1.0  |  7   |\n",
      "|  1268548   |   920081  |  1.0  |  8   |\n",
      "|  1268548   |   920084  |  1.0  |  9   |\n",
      "|  1268548   |   920082  |  1.0  |  10  |\n",
      "|  1709459   |   123231  |  1.0  |  1   |\n",
      "|  1709459   |   920086  |  1.0  |  2   |\n",
      "|  1709459   |   920107  |  1.0  |  3   |\n",
      "|  1709459   |   920085  |  1.0  |  4   |\n",
      "|  1709459   |   920090  |  1.0  |  5   |\n",
      "|  1709459   |   920087  |  1.0  |  6   |\n",
      "|  1709459   |   920091  |  1.0  |  7   |\n",
      "|  1709459   |   920081  |  1.0  |  8   |\n",
      "|  1709459   |   920084  |  1.0  |  9   |\n",
      "|  1709459   |   920082  |  1.0  |  10  |\n",
      "+------------+-----------+-------+------+\n",
      "[79870 rows x 4 columns]\n",
      "\n"
     ]
    }
   ],
   "source": [
    "# these variables will change accordingly\n",
    "name = 'popularity'\n",
    "target = 'purchase_dummy'\n",
    "pop_dummy = model(train_data_dummy, name, user_id, item_id, target, users_to_recommend, n_rec, n_display)"
   ]
  },
  {
   "cell_type": "markdown",
   "metadata": {},
   "source": [
    "#### Using normalized purchase count"
   ]
  },
  {
   "cell_type": "code",
   "execution_count": 32,
   "metadata": {},
   "outputs": [
    {
     "data": {
      "text/html": [
       "<pre>Preparing data set.</pre>"
      ],
      "text/plain": [
       "Preparing data set."
      ]
     },
     "metadata": {},
     "output_type": "display_data"
    },
    {
     "data": {
      "text/html": [
       "<pre>    Data has 16596 observations with 6548 users and 243 items.</pre>"
      ],
      "text/plain": [
       "    Data has 16596 observations with 6548 users and 243 items."
      ]
     },
     "metadata": {},
     "output_type": "display_data"
    },
    {
     "data": {
      "text/html": [
       "<pre>    Data prepared in: 0.045684s</pre>"
      ],
      "text/plain": [
       "    Data prepared in: 0.045684s"
      ]
     },
     "metadata": {},
     "output_type": "display_data"
    },
    {
     "data": {
      "text/html": [
       "<pre>16596 observations to process; with 243 unique items.</pre>"
      ],
      "text/plain": [
       "16596 observations to process; with 243 unique items."
      ]
     },
     "metadata": {},
     "output_type": "display_data"
    },
    {
     "data": {
      "text/html": [
       "<pre>recommendations finished on 1000/7987 queries. users per second: 84810.4</pre>"
      ],
      "text/plain": [
       "recommendations finished on 1000/7987 queries. users per second: 84810.4"
      ]
     },
     "metadata": {},
     "output_type": "display_data"
    },
    {
     "data": {
      "text/html": [
       "<pre>recommendations finished on 2000/7987 queries. users per second: 126326</pre>"
      ],
      "text/plain": [
       "recommendations finished on 2000/7987 queries. users per second: 126326"
      ]
     },
     "metadata": {},
     "output_type": "display_data"
    },
    {
     "data": {
      "text/html": [
       "<pre>recommendations finished on 3000/7987 queries. users per second: 134892</pre>"
      ],
      "text/plain": [
       "recommendations finished on 3000/7987 queries. users per second: 134892"
      ]
     },
     "metadata": {},
     "output_type": "display_data"
    },
    {
     "data": {
      "text/html": [
       "<pre>recommendations finished on 4000/7987 queries. users per second: 143766</pre>"
      ],
      "text/plain": [
       "recommendations finished on 4000/7987 queries. users per second: 143766"
      ]
     },
     "metadata": {},
     "output_type": "display_data"
    },
    {
     "data": {
      "text/html": [
       "<pre>recommendations finished on 5000/7987 queries. users per second: 145484</pre>"
      ],
      "text/plain": [
       "recommendations finished on 5000/7987 queries. users per second: 145484"
      ]
     },
     "metadata": {},
     "output_type": "display_data"
    },
    {
     "data": {
      "text/html": [
       "<pre>recommendations finished on 6000/7987 queries. users per second: 155332</pre>"
      ],
      "text/plain": [
       "recommendations finished on 6000/7987 queries. users per second: 155332"
      ]
     },
     "metadata": {},
     "output_type": "display_data"
    },
    {
     "data": {
      "text/html": [
       "<pre>recommendations finished on 7000/7987 queries. users per second: 148844</pre>"
      ],
      "text/plain": [
       "recommendations finished on 7000/7987 queries. users per second: 148844"
      ]
     },
     "metadata": {},
     "output_type": "display_data"
    },
    {
     "name": "stdout",
     "output_type": "stream",
     "text": [
      "+------------+-----------+---------------------+------+\n",
      "| customerId | productId |        score        | rank |\n",
      "+------------+-----------+---------------------+------+\n",
      "|  1076254   |   124859  |         0.5         |  1   |\n",
      "|  1076254   |   124517  |         0.5         |  2   |\n",
      "|  1076254   |   123123  |         0.5         |  3   |\n",
      "|  1076254   |   124669  |         0.5         |  4   |\n",
      "|  1076254   |   124074  |         0.5         |  5   |\n",
      "|  1076254   |   120386  |         0.5         |  6   |\n",
      "|  1076254   |   124689  |         0.5         |  7   |\n",
      "|  1076254   |   120976  | 0.42857142857142855 |  8   |\n",
      "|  1076254   |   124475  |  0.3333333333333333 |  9   |\n",
      "|  1076254   |   123553  |  0.3333333333333333 |  10  |\n",
      "|  1268548   |   124859  |         0.5         |  1   |\n",
      "|  1268548   |   124517  |         0.5         |  2   |\n",
      "|  1268548   |   123123  |         0.5         |  3   |\n",
      "|  1268548   |   124669  |         0.5         |  4   |\n",
      "|  1268548   |   124074  |         0.5         |  5   |\n",
      "|  1268548   |   120386  |         0.5         |  6   |\n",
      "|  1268548   |   124689  |         0.5         |  7   |\n",
      "|  1268548   |   120976  | 0.42857142857142855 |  8   |\n",
      "|  1268548   |   124475  |  0.3333333333333333 |  9   |\n",
      "|  1268548   |   123553  |  0.3333333333333333 |  10  |\n",
      "|  1709459   |   124859  |         0.5         |  1   |\n",
      "|  1709459   |   124517  |         0.5         |  2   |\n",
      "|  1709459   |   123123  |         0.5         |  3   |\n",
      "|  1709459   |   124669  |         0.5         |  4   |\n",
      "|  1709459   |   124074  |         0.5         |  5   |\n",
      "|  1709459   |   120386  |         0.5         |  6   |\n",
      "|  1709459   |   124689  |         0.5         |  7   |\n",
      "|  1709459   |   120976  | 0.42857142857142855 |  8   |\n",
      "|  1709459   |   124475  |  0.3333333333333333 |  9   |\n",
      "|  1709459   |   123553  |  0.3333333333333333 |  10  |\n",
      "+------------+-----------+---------------------+------+\n",
      "[79870 rows x 4 columns]\n",
      "\n"
     ]
    }
   ],
   "source": [
    "name = 'popularity'\n",
    "target = 'scaled_purchase_freq'\n",
    "pop_norm = model(train_data_norm, name, user_id, item_id, target, users_to_recommend, n_rec, n_display)"
   ]
  },
  {
   "cell_type": "markdown",
   "metadata": {},
   "source": [
    "#### Notes\n",
    "* Once we created the model, we predicted the recommendation items using scores by popularity. As you can tell for each model results above, the rows show the first 30 records from 1000 users with 10 recommendations. These 30 records include 3 users and their recommended items, along with score and descending ranks. \n",
    "* In the result, although different models have different recommendation list, each user is recommended the same list of 10 items. This is because popularity is calculated by taking the most popular items across all users.\n",
    "* If a grouping example below, products 132, 248, 37, and 34 are the most popular (best-selling) across customers. Using their purchase counts divided by the number of customers, we see that these products are at least bought 3 times on average in the training set of transactions (same as the first popularity measure on `purchase_count` variable)"
   ]
  },
  {
   "cell_type": "code",
   "execution_count": 33,
   "metadata": {},
   "outputs": [
    {
     "data": {
      "text/plain": [
       "productId\n",
       "124875    2.000000\n",
       "124517    2.000000\n",
       "124136    2.000000\n",
       "124788    2.000000\n",
       "123864    2.000000\n",
       "124838    2.000000\n",
       "123553    2.000000\n",
       "124738    2.000000\n",
       "124074    1.666667\n",
       "124290    1.571429\n",
       "120386    1.500000\n",
       "123480    1.500000\n",
       "124697    1.500000\n",
       "124568    1.500000\n",
       "123123    1.500000\n",
       "124366    1.500000\n",
       "124412    1.400000\n",
       "124475    1.333333\n",
       "124386    1.333333\n",
       "122129    1.333333\n",
       "Name: purchase_count, dtype: float64"
      ]
     },
     "execution_count": 33,
     "metadata": {},
     "output_type": "execute_result"
    }
   ],
   "source": [
    "train.groupby(by=item_id)['purchase_count'].mean().sort_values(ascending=False).head(20)"
   ]
  },
  {
   "cell_type": "markdown",
   "metadata": {},
   "source": [
    "## 6. Collaborative Filtering Model\n",
    "\n",
    "* In collaborative filtering, we would recommend items based on how similar users purchase items. For instance, if customer 1 and customer 2 bought similar items, e.g. 1 bought X, Y, Z and 2 bought X, Y, we would recommend an item Z to customer 2.\n",
    "\n",
    "* To define similarity across users, we use the following steps:\n",
    "    1. Create a user-item matrix, where index values represent unique customer IDs and column values represent unique product IDs\n",
    "    \n",
    "    2. Create an item-to-item similarity matrix. The idea is to calculate how similar a product is to another product. There are a number of ways of calculating this. In steps 6.1 and 6.2, we use cosine and pearson similarity measure, respectively.  \n",
    "    \n",
    "        * To calculate similarity between products X and Y, look at all customers who have rated both these items. For example, both X and Y have been rated by customers 1 and 2. \n",
    "        * We then create two item-vectors, v1 for item X and v2 for item Y, in the user-space of (1, 2) and then find the `cosine` or `pearson` angle/distance between these vectors. A zero angle or overlapping vectors with cosine value of 1 means total similarity (or per user, across all items, there is same rating) and an angle of 90 degree would mean cosine of 0 or no similarity.\n",
    "        \n",
    "    3. For each customer, we then predict his likelihood to buy a product (or his purchase counts) for products that he had not bought. \n",
    "    \n",
    "        * For our example, we will calculate rating for user 2 in the case of item Z (target item). To calculate this we weigh the just-calculated similarity-measure between the target item and other items that customer has already bought. The weighing factor is the purchase counts given by the user to items already bought by him. \n",
    "        * We then scale this weighted sum with the sum of similarity-measures so that the calculated rating remains within a predefined limits. Thus, the predicted rating for item Z for user 2 would be calculated using similarity measures.\n",
    "\n",
    "* While I wrote python scripts for all the process including finding similarity using python scripts (which can be found in `scripts` folder, we can use `turicreate` library for now to capture different measures like using `cosine` and `pearson` distance, and evaluate the best model."
   ]
  },
  {
   "cell_type": "markdown",
   "metadata": {},
   "source": [
    "### 6.1. `Cosine` similarity\n",
    "* Similarity is the cosine of the angle between the 2 vectors of the item vectors of A and B\n",
    "* It is defined by the following formula\n",
    "![](https://encrypted-tbn0.gstatic.com/images?q=tbn:ANd9GcTnRHSAx1c084UXF2wIHYwaHJLmq2qKtNk_YIv3RjHUO00xwlkt)\n",
    "* Closer the vectors, smaller will be the angle and larger the cosine"
   ]
  },
  {
   "cell_type": "markdown",
   "metadata": {},
   "source": [
    "#### Using purchase count"
   ]
  },
  {
   "cell_type": "code",
   "execution_count": 34,
   "metadata": {},
   "outputs": [
    {
     "data": {
      "text/html": [
       "<pre>Preparing data set.</pre>"
      ],
      "text/plain": [
       "Preparing data set."
      ]
     },
     "metadata": {},
     "output_type": "display_data"
    },
    {
     "data": {
      "text/html": [
       "<pre>    Data has 19570 observations with 7158 users and 703 items.</pre>"
      ],
      "text/plain": [
       "    Data has 19570 observations with 7158 users and 703 items."
      ]
     },
     "metadata": {},
     "output_type": "display_data"
    },
    {
     "data": {
      "text/html": [
       "<pre>    Data prepared in: 0.0466s</pre>"
      ],
      "text/plain": [
       "    Data prepared in: 0.0466s"
      ]
     },
     "metadata": {},
     "output_type": "display_data"
    },
    {
     "data": {
      "text/html": [
       "<pre>Training model from provided data.</pre>"
      ],
      "text/plain": [
       "Training model from provided data."
      ]
     },
     "metadata": {},
     "output_type": "display_data"
    },
    {
     "data": {
      "text/html": [
       "<pre>Gathering per-item and per-user statistics.</pre>"
      ],
      "text/plain": [
       "Gathering per-item and per-user statistics."
      ]
     },
     "metadata": {},
     "output_type": "display_data"
    },
    {
     "data": {
      "text/html": [
       "<pre>+--------------------------------+------------+</pre>"
      ],
      "text/plain": [
       "+--------------------------------+------------+"
      ]
     },
     "metadata": {},
     "output_type": "display_data"
    },
    {
     "data": {
      "text/html": [
       "<pre>| Elapsed Time (Item Statistics) | % Complete |</pre>"
      ],
      "text/plain": [
       "| Elapsed Time (Item Statistics) | % Complete |"
      ]
     },
     "metadata": {},
     "output_type": "display_data"
    },
    {
     "data": {
      "text/html": [
       "<pre>+--------------------------------+------------+</pre>"
      ],
      "text/plain": [
       "+--------------------------------+------------+"
      ]
     },
     "metadata": {},
     "output_type": "display_data"
    },
    {
     "data": {
      "text/html": [
       "<pre>| 5.338ms                        | 13.75      |</pre>"
      ],
      "text/plain": [
       "| 5.338ms                        | 13.75      |"
      ]
     },
     "metadata": {},
     "output_type": "display_data"
    },
    {
     "data": {
      "text/html": [
       "<pre>| 7.718ms                        | 100        |</pre>"
      ],
      "text/plain": [
       "| 7.718ms                        | 100        |"
      ]
     },
     "metadata": {},
     "output_type": "display_data"
    },
    {
     "data": {
      "text/html": [
       "<pre>+--------------------------------+------------+</pre>"
      ],
      "text/plain": [
       "+--------------------------------+------------+"
      ]
     },
     "metadata": {},
     "output_type": "display_data"
    },
    {
     "data": {
      "text/html": [
       "<pre>Setting up lookup tables.</pre>"
      ],
      "text/plain": [
       "Setting up lookup tables."
      ]
     },
     "metadata": {},
     "output_type": "display_data"
    },
    {
     "data": {
      "text/html": [
       "<pre>Processing data in one pass using dense lookup tables.</pre>"
      ],
      "text/plain": [
       "Processing data in one pass using dense lookup tables."
      ]
     },
     "metadata": {},
     "output_type": "display_data"
    },
    {
     "data": {
      "text/html": [
       "<pre>+-------------------------------------+------------------+-----------------+</pre>"
      ],
      "text/plain": [
       "+-------------------------------------+------------------+-----------------+"
      ]
     },
     "metadata": {},
     "output_type": "display_data"
    },
    {
     "data": {
      "text/html": [
       "<pre>| Elapsed Time (Constructing Lookups) | Total % Complete | Items Processed |</pre>"
      ],
      "text/plain": [
       "| Elapsed Time (Constructing Lookups) | Total % Complete | Items Processed |"
      ]
     },
     "metadata": {},
     "output_type": "display_data"
    },
    {
     "data": {
      "text/html": [
       "<pre>+-------------------------------------+------------------+-----------------+</pre>"
      ],
      "text/plain": [
       "+-------------------------------------+------------------+-----------------+"
      ]
     },
     "metadata": {},
     "output_type": "display_data"
    },
    {
     "data": {
      "text/html": [
       "<pre>| 16.658ms                            | 82.5             | 580             |</pre>"
      ],
      "text/plain": [
       "| 16.658ms                            | 82.5             | 580             |"
      ]
     },
     "metadata": {},
     "output_type": "display_data"
    },
    {
     "data": {
      "text/html": [
       "<pre>| 25.401ms                            | 100              | 703             |</pre>"
      ],
      "text/plain": [
       "| 25.401ms                            | 100              | 703             |"
      ]
     },
     "metadata": {},
     "output_type": "display_data"
    },
    {
     "data": {
      "text/html": [
       "<pre>+-------------------------------------+------------------+-----------------+</pre>"
      ],
      "text/plain": [
       "+-------------------------------------+------------------+-----------------+"
      ]
     },
     "metadata": {},
     "output_type": "display_data"
    },
    {
     "data": {
      "text/html": [
       "<pre>Finalizing lookup tables.</pre>"
      ],
      "text/plain": [
       "Finalizing lookup tables."
      ]
     },
     "metadata": {},
     "output_type": "display_data"
    },
    {
     "data": {
      "text/html": [
       "<pre>Generating candidate set for working with new users.</pre>"
      ],
      "text/plain": [
       "Generating candidate set for working with new users."
      ]
     },
     "metadata": {},
     "output_type": "display_data"
    },
    {
     "data": {
      "text/html": [
       "<pre>Finished training in 1.04223s</pre>"
      ],
      "text/plain": [
       "Finished training in 1.04223s"
      ]
     },
     "metadata": {},
     "output_type": "display_data"
    },
    {
     "data": {
      "text/html": [
       "<pre>recommendations finished on 1000/7987 queries. users per second: 93179.3</pre>"
      ],
      "text/plain": [
       "recommendations finished on 1000/7987 queries. users per second: 93179.3"
      ]
     },
     "metadata": {},
     "output_type": "display_data"
    },
    {
     "data": {
      "text/html": [
       "<pre>recommendations finished on 2000/7987 queries. users per second: 49392.5</pre>"
      ],
      "text/plain": [
       "recommendations finished on 2000/7987 queries. users per second: 49392.5"
      ]
     },
     "metadata": {},
     "output_type": "display_data"
    },
    {
     "data": {
      "text/html": [
       "<pre>recommendations finished on 3000/7987 queries. users per second: 59848</pre>"
      ],
      "text/plain": [
       "recommendations finished on 3000/7987 queries. users per second: 59848"
      ]
     },
     "metadata": {},
     "output_type": "display_data"
    },
    {
     "data": {
      "text/html": [
       "<pre>recommendations finished on 4000/7987 queries. users per second: 57591.2</pre>"
      ],
      "text/plain": [
       "recommendations finished on 4000/7987 queries. users per second: 57591.2"
      ]
     },
     "metadata": {},
     "output_type": "display_data"
    },
    {
     "data": {
      "text/html": [
       "<pre>recommendations finished on 5000/7987 queries. users per second: 62175.1</pre>"
      ],
      "text/plain": [
       "recommendations finished on 5000/7987 queries. users per second: 62175.1"
      ]
     },
     "metadata": {},
     "output_type": "display_data"
    },
    {
     "data": {
      "text/html": [
       "<pre>recommendations finished on 6000/7987 queries. users per second: 54682.2</pre>"
      ],
      "text/plain": [
       "recommendations finished on 6000/7987 queries. users per second: 54682.2"
      ]
     },
     "metadata": {},
     "output_type": "display_data"
    },
    {
     "data": {
      "text/html": [
       "<pre>recommendations finished on 7000/7987 queries. users per second: 54783.8</pre>"
      ],
      "text/plain": [
       "recommendations finished on 7000/7987 queries. users per second: 54783.8"
      ]
     },
     "metadata": {},
     "output_type": "display_data"
    },
    {
     "name": "stdout",
     "output_type": "stream",
     "text": [
      "+------------+-----------+---------------------+------+\n",
      "| customerId | productId |        score        | rank |\n",
      "+------------+-----------+---------------------+------+\n",
      "|  1076254   |   920085  |  0.1769944190979004 |  1   |\n",
      "|  1076254   |   920080  |  0.1631953477859497 |  2   |\n",
      "|  1076254   |   920091  | 0.15853840112686157 |  3   |\n",
      "|  1076254   |   920087  | 0.14828885793685914 |  4   |\n",
      "|  1076254   |   920084  | 0.14169504642486572 |  5   |\n",
      "|  1076254   |   920082  |  0.1391890525817871 |  6   |\n",
      "|  1076254   |   920081  | 0.13605512380599977 |  7   |\n",
      "|  1076254   |   920088  | 0.11835978031158448 |  8   |\n",
      "|  1076254   |   920092  | 0.11719305515289306 |  9   |\n",
      "|  1076254   |   920094  | 0.09688299894332886 |  10  |\n",
      "|  1268548   |   124683  | 0.18257421255111694 |  1   |\n",
      "|  1268548   |   124441  |  0.1632993221282959 |  2   |\n",
      "|  1268548   |   124075  |  0.1154700517654419 |  3   |\n",
      "|  1268548   |   124642  | 0.11009639501571655 |  4   |\n",
      "|  1268548   |   124430  | 0.11009639501571655 |  5   |\n",
      "|  1268548   |   124309  | 0.10540926456451416 |  6   |\n",
      "|  1268548   |   124314  | 0.10540926456451416 |  7   |\n",
      "|  1268548   |   124465  | 0.10540926456451416 |  8   |\n",
      "|  1268548   |   123901  |  0.0942808985710144 |  9   |\n",
      "|  1268548   |   123777  | 0.09128707647323608 |  10  |\n",
      "|  1709459   |   123864  |  0.2773500978946686 |  1   |\n",
      "|  1709459   |   124475  |  0.226455420255661  |  2   |\n",
      "|  1709459   |   124028  |  0.2096569538116455 |  3   |\n",
      "|  1709459   |   123754  |  0.1961161494255066 |  4   |\n",
      "|  1709459   |   123695  |  0.1961161494255066 |  5   |\n",
      "|  1709459   |   124074  | 0.18490007519721985 |  6   |\n",
      "|  1709459   |   124482  | 0.17541161179542542 |  7   |\n",
      "|  1709459   |   122877  | 0.17541161179542542 |  8   |\n",
      "|  1709459   |   124124  | 0.16724839806556702 |  9   |\n",
      "|  1709459   |   124460  | 0.16724839806556702 |  10  |\n",
      "+------------+-----------+---------------------+------+\n",
      "[79870 rows x 4 columns]\n",
      "\n"
     ]
    }
   ],
   "source": [
    "# these variables will change accordingly\n",
    "name = 'cosine'\n",
    "target = 'purchase_count'\n",
    "cos = model(train_data, name, user_id, item_id, target, users_to_recommend, n_rec, n_display)"
   ]
  },
  {
   "cell_type": "markdown",
   "metadata": {},
   "source": [
    "#### Using purchase dummy"
   ]
  },
  {
   "cell_type": "code",
   "execution_count": 35,
   "metadata": {},
   "outputs": [
    {
     "data": {
      "text/html": [
       "<pre>Warning: Ignoring columns purchase_count;</pre>"
      ],
      "text/plain": [
       "Warning: Ignoring columns purchase_count;"
      ]
     },
     "metadata": {},
     "output_type": "display_data"
    },
    {
     "data": {
      "text/html": [
       "<pre>    To use these columns in scoring predictions, use a model that allows the use of additional features.</pre>"
      ],
      "text/plain": [
       "    To use these columns in scoring predictions, use a model that allows the use of additional features."
      ]
     },
     "metadata": {},
     "output_type": "display_data"
    },
    {
     "data": {
      "text/html": [
       "<pre>Preparing data set.</pre>"
      ],
      "text/plain": [
       "Preparing data set."
      ]
     },
     "metadata": {},
     "output_type": "display_data"
    },
    {
     "data": {
      "text/html": [
       "<pre>    Data has 19570 observations with 7179 users and 699 items.</pre>"
      ],
      "text/plain": [
       "    Data has 19570 observations with 7179 users and 699 items."
      ]
     },
     "metadata": {},
     "output_type": "display_data"
    },
    {
     "data": {
      "text/html": [
       "<pre>    Data prepared in: 0.049875s</pre>"
      ],
      "text/plain": [
       "    Data prepared in: 0.049875s"
      ]
     },
     "metadata": {},
     "output_type": "display_data"
    },
    {
     "data": {
      "text/html": [
       "<pre>Training model from provided data.</pre>"
      ],
      "text/plain": [
       "Training model from provided data."
      ]
     },
     "metadata": {},
     "output_type": "display_data"
    },
    {
     "data": {
      "text/html": [
       "<pre>Gathering per-item and per-user statistics.</pre>"
      ],
      "text/plain": [
       "Gathering per-item and per-user statistics."
      ]
     },
     "metadata": {},
     "output_type": "display_data"
    },
    {
     "data": {
      "text/html": [
       "<pre>+--------------------------------+------------+</pre>"
      ],
      "text/plain": [
       "+--------------------------------+------------+"
      ]
     },
     "metadata": {},
     "output_type": "display_data"
    },
    {
     "data": {
      "text/html": [
       "<pre>| Elapsed Time (Item Statistics) | % Complete |</pre>"
      ],
      "text/plain": [
       "| Elapsed Time (Item Statistics) | % Complete |"
      ]
     },
     "metadata": {},
     "output_type": "display_data"
    },
    {
     "data": {
      "text/html": [
       "<pre>+--------------------------------+------------+</pre>"
      ],
      "text/plain": [
       "+--------------------------------+------------+"
      ]
     },
     "metadata": {},
     "output_type": "display_data"
    },
    {
     "data": {
      "text/html": [
       "<pre>| 1.119ms                        | 13.75      |</pre>"
      ],
      "text/plain": [
       "| 1.119ms                        | 13.75      |"
      ]
     },
     "metadata": {},
     "output_type": "display_data"
    },
    {
     "data": {
      "text/html": [
       "<pre>| 3.33ms                         | 100        |</pre>"
      ],
      "text/plain": [
       "| 3.33ms                         | 100        |"
      ]
     },
     "metadata": {},
     "output_type": "display_data"
    },
    {
     "data": {
      "text/html": [
       "<pre>+--------------------------------+------------+</pre>"
      ],
      "text/plain": [
       "+--------------------------------+------------+"
      ]
     },
     "metadata": {},
     "output_type": "display_data"
    },
    {
     "data": {
      "text/html": [
       "<pre>Setting up lookup tables.</pre>"
      ],
      "text/plain": [
       "Setting up lookup tables."
      ]
     },
     "metadata": {},
     "output_type": "display_data"
    },
    {
     "data": {
      "text/html": [
       "<pre>Processing data in one pass using dense lookup tables.</pre>"
      ],
      "text/plain": [
       "Processing data in one pass using dense lookup tables."
      ]
     },
     "metadata": {},
     "output_type": "display_data"
    },
    {
     "data": {
      "text/html": [
       "<pre>+-------------------------------------+------------------+-----------------+</pre>"
      ],
      "text/plain": [
       "+-------------------------------------+------------------+-----------------+"
      ]
     },
     "metadata": {},
     "output_type": "display_data"
    },
    {
     "data": {
      "text/html": [
       "<pre>| Elapsed Time (Constructing Lookups) | Total % Complete | Items Processed |</pre>"
      ],
      "text/plain": [
       "| Elapsed Time (Constructing Lookups) | Total % Complete | Items Processed |"
      ]
     },
     "metadata": {},
     "output_type": "display_data"
    },
    {
     "data": {
      "text/html": [
       "<pre>+-------------------------------------+------------------+-----------------+</pre>"
      ],
      "text/plain": [
       "+-------------------------------------+------------------+-----------------+"
      ]
     },
     "metadata": {},
     "output_type": "display_data"
    },
    {
     "data": {
      "text/html": [
       "<pre>| 5.711ms                             | 0                | 0               |</pre>"
      ],
      "text/plain": [
       "| 5.711ms                             | 0                | 0               |"
      ]
     },
     "metadata": {},
     "output_type": "display_data"
    },
    {
     "data": {
      "text/html": [
       "<pre>| 18.157ms                            | 100              | 699             |</pre>"
      ],
      "text/plain": [
       "| 18.157ms                            | 100              | 699             |"
      ]
     },
     "metadata": {},
     "output_type": "display_data"
    },
    {
     "data": {
      "text/html": [
       "<pre>+-------------------------------------+------------------+-----------------+</pre>"
      ],
      "text/plain": [
       "+-------------------------------------+------------------+-----------------+"
      ]
     },
     "metadata": {},
     "output_type": "display_data"
    },
    {
     "data": {
      "text/html": [
       "<pre>Finalizing lookup tables.</pre>"
      ],
      "text/plain": [
       "Finalizing lookup tables."
      ]
     },
     "metadata": {},
     "output_type": "display_data"
    },
    {
     "data": {
      "text/html": [
       "<pre>Generating candidate set for working with new users.</pre>"
      ],
      "text/plain": [
       "Generating candidate set for working with new users."
      ]
     },
     "metadata": {},
     "output_type": "display_data"
    },
    {
     "data": {
      "text/html": [
       "<pre>Finished training in 0.031995s</pre>"
      ],
      "text/plain": [
       "Finished training in 0.031995s"
      ]
     },
     "metadata": {},
     "output_type": "display_data"
    },
    {
     "data": {
      "text/html": [
       "<pre>recommendations finished on 1000/7987 queries. users per second: 61042.6</pre>"
      ],
      "text/plain": [
       "recommendations finished on 1000/7987 queries. users per second: 61042.6"
      ]
     },
     "metadata": {},
     "output_type": "display_data"
    },
    {
     "data": {
      "text/html": [
       "<pre>recommendations finished on 2000/7987 queries. users per second: 70804</pre>"
      ],
      "text/plain": [
       "recommendations finished on 2000/7987 queries. users per second: 70804"
      ]
     },
     "metadata": {},
     "output_type": "display_data"
    },
    {
     "data": {
      "text/html": [
       "<pre>recommendations finished on 3000/7987 queries. users per second: 76659.7</pre>"
      ],
      "text/plain": [
       "recommendations finished on 3000/7987 queries. users per second: 76659.7"
      ]
     },
     "metadata": {},
     "output_type": "display_data"
    },
    {
     "data": {
      "text/html": [
       "<pre>recommendations finished on 4000/7987 queries. users per second: 82906.7</pre>"
      ],
      "text/plain": [
       "recommendations finished on 4000/7987 queries. users per second: 82906.7"
      ]
     },
     "metadata": {},
     "output_type": "display_data"
    },
    {
     "data": {
      "text/html": [
       "<pre>recommendations finished on 5000/7987 queries. users per second: 82800.6</pre>"
      ],
      "text/plain": [
       "recommendations finished on 5000/7987 queries. users per second: 82800.6"
      ]
     },
     "metadata": {},
     "output_type": "display_data"
    },
    {
     "data": {
      "text/html": [
       "<pre>recommendations finished on 6000/7987 queries. users per second: 85192.2</pre>"
      ],
      "text/plain": [
       "recommendations finished on 6000/7987 queries. users per second: 85192.2"
      ]
     },
     "metadata": {},
     "output_type": "display_data"
    },
    {
     "data": {
      "text/html": [
       "<pre>recommendations finished on 7000/7987 queries. users per second: 77023.8</pre>"
      ],
      "text/plain": [
       "recommendations finished on 7000/7987 queries. users per second: 77023.8"
      ]
     },
     "metadata": {},
     "output_type": "display_data"
    },
    {
     "name": "stdout",
     "output_type": "stream",
     "text": [
      "+------------+-----------+---------------------+------+\n",
      "| customerId | productId |        score        | rank |\n",
      "+------------+-----------+---------------------+------+\n",
      "|  1076254   |   920085  | 0.14838825166225433 |  1   |\n",
      "|  1076254   |   920090  | 0.14481747150421143 |  2   |\n",
      "|  1076254   |   920091  | 0.14368703961372375 |  3   |\n",
      "|  1076254   |   920082  | 0.13298368453979492 |  4   |\n",
      "|  1076254   |   920084  | 0.12792551517486572 |  5   |\n",
      "|  1076254   |   920080  |  0.1252458393573761 |  6   |\n",
      "|  1076254   |   920087  | 0.12210296094417572 |  7   |\n",
      "|  1076254   |   920081  | 0.11771373450756073 |  8   |\n",
      "|  1076254   |   920086  | 0.11158908903598785 |  9   |\n",
      "|  1076254   |   920094  | 0.11113883554935455 |  10  |\n",
      "|  1268548   |   123547  |  0.1666666567325592 |  1   |\n",
      "|  1268548   |   123714  | 0.14433756470680237 |  2   |\n",
      "|  1268548   |   124465  | 0.13518092036247253 |  3   |\n",
      "|  1268548   |   122050  | 0.11707010865211487 |  4   |\n",
      "|  1268548   |   123777  | 0.11707010865211487 |  5   |\n",
      "|  1268548   |   121579  | 0.11037474870681763 |  6   |\n",
      "|  1268548   |   124358  | 0.10497087240219116 |  7   |\n",
      "|  1268548   |   123579  | 0.10206207633018494 |  8   |\n",
      "|  1268548   |   123410  | 0.10206207633018494 |  9   |\n",
      "|  1268548   |   124727  | 0.10206207633018494 |  10  |\n",
      "|  1709459   |   920085  | 0.12620675563812256 |  1   |\n",
      "|  1709459   |   920091  |  0.1216554045677185 |  2   |\n",
      "|  1709459   |   920082  | 0.11346439520517985 |  3   |\n",
      "|  1709459   |   920084  | 0.11199925343195598 |  4   |\n",
      "|  1709459   |   920080  | 0.11193517843882243 |  5   |\n",
      "|  1709459   |   920087  | 0.10911935567855835 |  6   |\n",
      "|  1709459   |   920090  | 0.09793192148208618 |  7   |\n",
      "|  1709459   |   123864  | 0.08606630563735962 |  8   |\n",
      "|  1709459   |   124680  | 0.08606630563735962 |  9   |\n",
      "|  1709459   |   920094  |  0.082333505153656  |  10  |\n",
      "+------------+-----------+---------------------+------+\n",
      "[79870 rows x 4 columns]\n",
      "\n"
     ]
    }
   ],
   "source": [
    "# these variables will change accordingly\n",
    "name = 'cosine'\n",
    "target = 'purchase_dummy'\n",
    "cos_dummy = model(train_data_dummy, name, user_id, item_id, target, users_to_recommend, n_rec, n_display)"
   ]
  },
  {
   "cell_type": "markdown",
   "metadata": {},
   "source": [
    "#### Using normalized purchase count"
   ]
  },
  {
   "cell_type": "code",
   "execution_count": 36,
   "metadata": {},
   "outputs": [
    {
     "data": {
      "text/html": [
       "<pre>Preparing data set.</pre>"
      ],
      "text/plain": [
       "Preparing data set."
      ]
     },
     "metadata": {},
     "output_type": "display_data"
    },
    {
     "data": {
      "text/html": [
       "<pre>    Data has 16596 observations with 6548 users and 243 items.</pre>"
      ],
      "text/plain": [
       "    Data has 16596 observations with 6548 users and 243 items."
      ]
     },
     "metadata": {},
     "output_type": "display_data"
    },
    {
     "data": {
      "text/html": [
       "<pre>    Data prepared in: 0.096482s</pre>"
      ],
      "text/plain": [
       "    Data prepared in: 0.096482s"
      ]
     },
     "metadata": {},
     "output_type": "display_data"
    },
    {
     "data": {
      "text/html": [
       "<pre>Training model from provided data.</pre>"
      ],
      "text/plain": [
       "Training model from provided data."
      ]
     },
     "metadata": {},
     "output_type": "display_data"
    },
    {
     "data": {
      "text/html": [
       "<pre>Gathering per-item and per-user statistics.</pre>"
      ],
      "text/plain": [
       "Gathering per-item and per-user statistics."
      ]
     },
     "metadata": {},
     "output_type": "display_data"
    },
    {
     "data": {
      "text/html": [
       "<pre>+--------------------------------+------------+</pre>"
      ],
      "text/plain": [
       "+--------------------------------+------------+"
      ]
     },
     "metadata": {},
     "output_type": "display_data"
    },
    {
     "data": {
      "text/html": [
       "<pre>| Elapsed Time (Item Statistics) | % Complete |</pre>"
      ],
      "text/plain": [
       "| Elapsed Time (Item Statistics) | % Complete |"
      ]
     },
     "metadata": {},
     "output_type": "display_data"
    },
    {
     "data": {
      "text/html": [
       "<pre>+--------------------------------+------------+</pre>"
      ],
      "text/plain": [
       "+--------------------------------+------------+"
      ]
     },
     "metadata": {},
     "output_type": "display_data"
    },
    {
     "data": {
      "text/html": [
       "<pre>| 1.176ms                        | 15.25      |</pre>"
      ],
      "text/plain": [
       "| 1.176ms                        | 15.25      |"
      ]
     },
     "metadata": {},
     "output_type": "display_data"
    },
    {
     "data": {
      "text/html": [
       "<pre>| 2.961ms                        | 100        |</pre>"
      ],
      "text/plain": [
       "| 2.961ms                        | 100        |"
      ]
     },
     "metadata": {},
     "output_type": "display_data"
    },
    {
     "data": {
      "text/html": [
       "<pre>+--------------------------------+------------+</pre>"
      ],
      "text/plain": [
       "+--------------------------------+------------+"
      ]
     },
     "metadata": {},
     "output_type": "display_data"
    },
    {
     "data": {
      "text/html": [
       "<pre>Setting up lookup tables.</pre>"
      ],
      "text/plain": [
       "Setting up lookup tables."
      ]
     },
     "metadata": {},
     "output_type": "display_data"
    },
    {
     "data": {
      "text/html": [
       "<pre>Processing data in one pass using dense lookup tables.</pre>"
      ],
      "text/plain": [
       "Processing data in one pass using dense lookup tables."
      ]
     },
     "metadata": {},
     "output_type": "display_data"
    },
    {
     "data": {
      "text/html": [
       "<pre>+-------------------------------------+------------------+-----------------+</pre>"
      ],
      "text/plain": [
       "+-------------------------------------+------------------+-----------------+"
      ]
     },
     "metadata": {},
     "output_type": "display_data"
    },
    {
     "data": {
      "text/html": [
       "<pre>| Elapsed Time (Constructing Lookups) | Total % Complete | Items Processed |</pre>"
      ],
      "text/plain": [
       "| Elapsed Time (Constructing Lookups) | Total % Complete | Items Processed |"
      ]
     },
     "metadata": {},
     "output_type": "display_data"
    },
    {
     "data": {
      "text/html": [
       "<pre>+-------------------------------------+------------------+-----------------+</pre>"
      ],
      "text/plain": [
       "+-------------------------------------+------------------+-----------------+"
      ]
     },
     "metadata": {},
     "output_type": "display_data"
    },
    {
     "data": {
      "text/html": [
       "<pre>| 3.738ms                             | 0                | 0               |</pre>"
      ],
      "text/plain": [
       "| 3.738ms                             | 0                | 0               |"
      ]
     },
     "metadata": {},
     "output_type": "display_data"
    },
    {
     "data": {
      "text/html": [
       "<pre>| 15.042ms                            | 100              | 243             |</pre>"
      ],
      "text/plain": [
       "| 15.042ms                            | 100              | 243             |"
      ]
     },
     "metadata": {},
     "output_type": "display_data"
    },
    {
     "data": {
      "text/html": [
       "<pre>+-------------------------------------+------------------+-----------------+</pre>"
      ],
      "text/plain": [
       "+-------------------------------------+------------------+-----------------+"
      ]
     },
     "metadata": {},
     "output_type": "display_data"
    },
    {
     "data": {
      "text/html": [
       "<pre>Finalizing lookup tables.</pre>"
      ],
      "text/plain": [
       "Finalizing lookup tables."
      ]
     },
     "metadata": {},
     "output_type": "display_data"
    },
    {
     "data": {
      "text/html": [
       "<pre>Generating candidate set for working with new users.</pre>"
      ],
      "text/plain": [
       "Generating candidate set for working with new users."
      ]
     },
     "metadata": {},
     "output_type": "display_data"
    },
    {
     "data": {
      "text/html": [
       "<pre>Finished training in 0.02759s</pre>"
      ],
      "text/plain": [
       "Finished training in 0.02759s"
      ]
     },
     "metadata": {},
     "output_type": "display_data"
    },
    {
     "data": {
      "text/html": [
       "<pre>recommendations finished on 1000/7987 queries. users per second: 66546.9</pre>"
      ],
      "text/plain": [
       "recommendations finished on 1000/7987 queries. users per second: 66546.9"
      ]
     },
     "metadata": {},
     "output_type": "display_data"
    },
    {
     "data": {
      "text/html": [
       "<pre>recommendations finished on 2000/7987 queries. users per second: 96450.6</pre>"
      ],
      "text/plain": [
       "recommendations finished on 2000/7987 queries. users per second: 96450.6"
      ]
     },
     "metadata": {},
     "output_type": "display_data"
    },
    {
     "data": {
      "text/html": [
       "<pre>recommendations finished on 3000/7987 queries. users per second: 120666</pre>"
      ],
      "text/plain": [
       "recommendations finished on 3000/7987 queries. users per second: 120666"
      ]
     },
     "metadata": {},
     "output_type": "display_data"
    },
    {
     "data": {
      "text/html": [
       "<pre>recommendations finished on 4000/7987 queries. users per second: 119339</pre>"
      ],
      "text/plain": [
       "recommendations finished on 4000/7987 queries. users per second: 119339"
      ]
     },
     "metadata": {},
     "output_type": "display_data"
    },
    {
     "data": {
      "text/html": [
       "<pre>recommendations finished on 5000/7987 queries. users per second: 55682.4</pre>"
      ],
      "text/plain": [
       "recommendations finished on 5000/7987 queries. users per second: 55682.4"
      ]
     },
     "metadata": {},
     "output_type": "display_data"
    },
    {
     "data": {
      "text/html": [
       "<pre>recommendations finished on 6000/7987 queries. users per second: 50846.2</pre>"
      ],
      "text/plain": [
       "recommendations finished on 6000/7987 queries. users per second: 50846.2"
      ]
     },
     "metadata": {},
     "output_type": "display_data"
    },
    {
     "data": {
      "text/html": [
       "<pre>recommendations finished on 7000/7987 queries. users per second: 53321.1</pre>"
      ],
      "text/plain": [
       "recommendations finished on 7000/7987 queries. users per second: 53321.1"
      ]
     },
     "metadata": {},
     "output_type": "display_data"
    },
    {
     "name": "stdout",
     "output_type": "stream",
     "text": [
      "+------------+-----------+-----------------------+------+\n",
      "| customerId | productId |         score         | rank |\n",
      "+------------+-----------+-----------------------+------+\n",
      "|  1076254   |   124183  |          0.0          |  1   |\n",
      "|  1076254   |   121440  |          0.0          |  2   |\n",
      "|  1076254   |   124458  |          0.0          |  3   |\n",
      "|  1076254   |   124303  |          0.0          |  4   |\n",
      "|  1076254   |   920087  |          0.0          |  5   |\n",
      "|  1076254   |   920085  |          0.0          |  6   |\n",
      "|  1076254   |   920091  |          0.0          |  7   |\n",
      "|  1076254   |   123617  |          0.0          |  8   |\n",
      "|  1076254   |   920081  |          0.0          |  9   |\n",
      "|  1076254   |   920084  |          0.0          |  10  |\n",
      "|  1268548   |   124303  |          0.0          |  1   |\n",
      "|  1268548   |   920087  |          0.0          |  2   |\n",
      "|  1268548   |   920085  |          0.0          |  3   |\n",
      "|  1268548   |   920091  |          0.0          |  4   |\n",
      "|  1268548   |   920083  |          0.0          |  5   |\n",
      "|  1268548   |   920090  |          0.0          |  6   |\n",
      "|  1268548   |   123617  |          0.0          |  7   |\n",
      "|  1268548   |   920089  |          0.0          |  8   |\n",
      "|  1268548   |   920081  |          0.0          |  9   |\n",
      "|  1268548   |   920084  |          0.0          |  10  |\n",
      "|  1709459   |   121440  | 0.0033813810348510744 |  1   |\n",
      "|  1709459   |   124531  | 0.0032125043869018553 |  2   |\n",
      "|  1709459   |   121166  |  0.002890959978103638 |  3   |\n",
      "|  1709459   |   124214  |  0.002890959978103638 |  4   |\n",
      "|  1709459   |   920091  | 0.0027013468742370607 |  5   |\n",
      "|  1709459   |   920090  |  0.002309795618057251 |  6   |\n",
      "|  1709459   |   920094  | 0.0022764289379119873 |  7   |\n",
      "|  1709459   |   124124  |  0.002083749771118164 |  8   |\n",
      "|  1709459   |   123674  |  0.002083749771118164 |  9   |\n",
      "|  1709459   |   124482  |  0.002083749771118164 |  10  |\n",
      "+------------+-----------+-----------------------+------+\n",
      "[79870 rows x 4 columns]\n",
      "\n"
     ]
    }
   ],
   "source": [
    "name = 'cosine'\n",
    "target = 'scaled_purchase_freq'\n",
    "cos_norm = model(train_data_norm, name, user_id, item_id, target, users_to_recommend, n_rec, n_display)"
   ]
  },
  {
   "cell_type": "markdown",
   "metadata": {},
   "source": [
    "### 6.2. `Pearson` similarity\n",
    "* Similarity is the pearson coefficient between the two vectors.\n",
    "* It is defined by the following formula\n",
    "![](http://critical-numbers.group.shef.ac.uk/glossary/images/correlationKT1.png)"
   ]
  },
  {
   "cell_type": "markdown",
   "metadata": {},
   "source": [
    "#### Using purchase count"
   ]
  },
  {
   "cell_type": "code",
   "execution_count": 37,
   "metadata": {},
   "outputs": [
    {
     "data": {
      "text/html": [
       "<pre>Preparing data set.</pre>"
      ],
      "text/plain": [
       "Preparing data set."
      ]
     },
     "metadata": {},
     "output_type": "display_data"
    },
    {
     "data": {
      "text/html": [
       "<pre>    Data has 19570 observations with 7158 users and 703 items.</pre>"
      ],
      "text/plain": [
       "    Data has 19570 observations with 7158 users and 703 items."
      ]
     },
     "metadata": {},
     "output_type": "display_data"
    },
    {
     "data": {
      "text/html": [
       "<pre>    Data prepared in: 0.050373s</pre>"
      ],
      "text/plain": [
       "    Data prepared in: 0.050373s"
      ]
     },
     "metadata": {},
     "output_type": "display_data"
    },
    {
     "data": {
      "text/html": [
       "<pre>Training model from provided data.</pre>"
      ],
      "text/plain": [
       "Training model from provided data."
      ]
     },
     "metadata": {},
     "output_type": "display_data"
    },
    {
     "data": {
      "text/html": [
       "<pre>Gathering per-item and per-user statistics.</pre>"
      ],
      "text/plain": [
       "Gathering per-item and per-user statistics."
      ]
     },
     "metadata": {},
     "output_type": "display_data"
    },
    {
     "data": {
      "text/html": [
       "<pre>+--------------------------------+------------+</pre>"
      ],
      "text/plain": [
       "+--------------------------------+------------+"
      ]
     },
     "metadata": {},
     "output_type": "display_data"
    },
    {
     "data": {
      "text/html": [
       "<pre>| Elapsed Time (Item Statistics) | % Complete |</pre>"
      ],
      "text/plain": [
       "| Elapsed Time (Item Statistics) | % Complete |"
      ]
     },
     "metadata": {},
     "output_type": "display_data"
    },
    {
     "data": {
      "text/html": [
       "<pre>+--------------------------------+------------+</pre>"
      ],
      "text/plain": [
       "+--------------------------------+------------+"
      ]
     },
     "metadata": {},
     "output_type": "display_data"
    },
    {
     "data": {
      "text/html": [
       "<pre>| 1.44ms                         | 13.75      |</pre>"
      ],
      "text/plain": [
       "| 1.44ms                         | 13.75      |"
      ]
     },
     "metadata": {},
     "output_type": "display_data"
    },
    {
     "data": {
      "text/html": [
       "<pre>| 4.087ms                        | 100        |</pre>"
      ],
      "text/plain": [
       "| 4.087ms                        | 100        |"
      ]
     },
     "metadata": {},
     "output_type": "display_data"
    },
    {
     "data": {
      "text/html": [
       "<pre>+--------------------------------+------------+</pre>"
      ],
      "text/plain": [
       "+--------------------------------+------------+"
      ]
     },
     "metadata": {},
     "output_type": "display_data"
    },
    {
     "data": {
      "text/html": [
       "<pre>Setting up lookup tables.</pre>"
      ],
      "text/plain": [
       "Setting up lookup tables."
      ]
     },
     "metadata": {},
     "output_type": "display_data"
    },
    {
     "data": {
      "text/html": [
       "<pre>Processing data in one pass using dense lookup tables.</pre>"
      ],
      "text/plain": [
       "Processing data in one pass using dense lookup tables."
      ]
     },
     "metadata": {},
     "output_type": "display_data"
    },
    {
     "data": {
      "text/html": [
       "<pre>+-------------------------------------+------------------+-----------------+</pre>"
      ],
      "text/plain": [
       "+-------------------------------------+------------------+-----------------+"
      ]
     },
     "metadata": {},
     "output_type": "display_data"
    },
    {
     "data": {
      "text/html": [
       "<pre>| Elapsed Time (Constructing Lookups) | Total % Complete | Items Processed |</pre>"
      ],
      "text/plain": [
       "| Elapsed Time (Constructing Lookups) | Total % Complete | Items Processed |"
      ]
     },
     "metadata": {},
     "output_type": "display_data"
    },
    {
     "data": {
      "text/html": [
       "<pre>+-------------------------------------+------------------+-----------------+</pre>"
      ],
      "text/plain": [
       "+-------------------------------------+------------------+-----------------+"
      ]
     },
     "metadata": {},
     "output_type": "display_data"
    },
    {
     "data": {
      "text/html": [
       "<pre>| 7.899ms                             | 0                | 0               |</pre>"
      ],
      "text/plain": [
       "| 7.899ms                             | 0                | 0               |"
      ]
     },
     "metadata": {},
     "output_type": "display_data"
    },
    {
     "data": {
      "text/html": [
       "<pre>| 16.181ms                            | 100              | 703             |</pre>"
      ],
      "text/plain": [
       "| 16.181ms                            | 100              | 703             |"
      ]
     },
     "metadata": {},
     "output_type": "display_data"
    },
    {
     "data": {
      "text/html": [
       "<pre>+-------------------------------------+------------------+-----------------+</pre>"
      ],
      "text/plain": [
       "+-------------------------------------+------------------+-----------------+"
      ]
     },
     "metadata": {},
     "output_type": "display_data"
    },
    {
     "data": {
      "text/html": [
       "<pre>Finalizing lookup tables.</pre>"
      ],
      "text/plain": [
       "Finalizing lookup tables."
      ]
     },
     "metadata": {},
     "output_type": "display_data"
    },
    {
     "data": {
      "text/html": [
       "<pre>Generating candidate set for working with new users.</pre>"
      ],
      "text/plain": [
       "Generating candidate set for working with new users."
      ]
     },
     "metadata": {},
     "output_type": "display_data"
    },
    {
     "data": {
      "text/html": [
       "<pre>Finished training in 0.044446s</pre>"
      ],
      "text/plain": [
       "Finished training in 0.044446s"
      ]
     },
     "metadata": {},
     "output_type": "display_data"
    },
    {
     "data": {
      "text/html": [
       "<pre>recommendations finished on 1000/7987 queries. users per second: 49321.8</pre>"
      ],
      "text/plain": [
       "recommendations finished on 1000/7987 queries. users per second: 49321.8"
      ]
     },
     "metadata": {},
     "output_type": "display_data"
    },
    {
     "data": {
      "text/html": [
       "<pre>recommendations finished on 2000/7987 queries. users per second: 50076.4</pre>"
      ],
      "text/plain": [
       "recommendations finished on 2000/7987 queries. users per second: 50076.4"
      ]
     },
     "metadata": {},
     "output_type": "display_data"
    },
    {
     "data": {
      "text/html": [
       "<pre>recommendations finished on 3000/7987 queries. users per second: 49727.3</pre>"
      ],
      "text/plain": [
       "recommendations finished on 3000/7987 queries. users per second: 49727.3"
      ]
     },
     "metadata": {},
     "output_type": "display_data"
    },
    {
     "data": {
      "text/html": [
       "<pre>recommendations finished on 4000/7987 queries. users per second: 44328.7</pre>"
      ],
      "text/plain": [
       "recommendations finished on 4000/7987 queries. users per second: 44328.7"
      ]
     },
     "metadata": {},
     "output_type": "display_data"
    },
    {
     "data": {
      "text/html": [
       "<pre>recommendations finished on 5000/7987 queries. users per second: 48146.4</pre>"
      ],
      "text/plain": [
       "recommendations finished on 5000/7987 queries. users per second: 48146.4"
      ]
     },
     "metadata": {},
     "output_type": "display_data"
    },
    {
     "data": {
      "text/html": [
       "<pre>recommendations finished on 6000/7987 queries. users per second: 49931.3</pre>"
      ],
      "text/plain": [
       "recommendations finished on 6000/7987 queries. users per second: 49931.3"
      ]
     },
     "metadata": {},
     "output_type": "display_data"
    },
    {
     "data": {
      "text/html": [
       "<pre>recommendations finished on 7000/7987 queries. users per second: 48369.6</pre>"
      ],
      "text/plain": [
       "recommendations finished on 7000/7987 queries. users per second: 48369.6"
      ]
     },
     "metadata": {},
     "output_type": "display_data"
    },
    {
     "name": "stdout",
     "output_type": "stream",
     "text": [
      "+------------+-----------+--------------------+------+\n",
      "| customerId | productId |       score        | rank |\n",
      "+------------+-----------+--------------------+------+\n",
      "|  1076254   |   124838  |        2.0         |  1   |\n",
      "|  1076254   |   124136  |        2.0         |  2   |\n",
      "|  1076254   |   124875  |        2.0         |  3   |\n",
      "|  1076254   |   123864  |        2.0         |  4   |\n",
      "|  1076254   |   124788  |        2.0         |  5   |\n",
      "|  1076254   |   123553  |        2.0         |  6   |\n",
      "|  1076254   |   124738  |        2.0         |  7   |\n",
      "|  1076254   |   124517  |        2.0         |  8   |\n",
      "|  1076254   |   124074  | 1.6666666666666667 |  9   |\n",
      "|  1076254   |   124290  | 1.5714285714285714 |  10  |\n",
      "|  1268548   |   124838  |        2.0         |  1   |\n",
      "|  1268548   |   124136  |        2.0         |  2   |\n",
      "|  1268548   |   124875  |        2.0         |  3   |\n",
      "|  1268548   |   123864  |        2.0         |  4   |\n",
      "|  1268548   |   124788  |        2.0         |  5   |\n",
      "|  1268548   |   123553  |        2.0         |  6   |\n",
      "|  1268548   |   124738  |        2.0         |  7   |\n",
      "|  1268548   |   124517  |        2.0         |  8   |\n",
      "|  1268548   |   124074  | 1.6563534406820934 |  9   |\n",
      "|  1268548   |   124290  | 1.5652446729796272 |  10  |\n",
      "|  1709459   |   124838  |        2.0         |  1   |\n",
      "|  1709459   |   124136  |        2.0         |  2   |\n",
      "|  1709459   |   124875  |        2.0         |  3   |\n",
      "|  1709459   |   123864  |        2.0         |  4   |\n",
      "|  1709459   |   124788  |        2.0         |  5   |\n",
      "|  1709459   |   123553  |        2.0         |  6   |\n",
      "|  1709459   |   124738  |        2.0         |  7   |\n",
      "|  1709459   |   124517  |        2.0         |  8   |\n",
      "|  1709459   |   124074  | 1.6666666666666667 |  9   |\n",
      "|  1709459   |   124290  | 1.5714285714285714 |  10  |\n",
      "+------------+-----------+--------------------+------+\n",
      "[79870 rows x 4 columns]\n",
      "\n"
     ]
    }
   ],
   "source": [
    "# these variables will change accordingly\n",
    "name = 'pearson'\n",
    "target = 'purchase_count'\n",
    "pear = model(train_data, name, user_id, item_id, target, users_to_recommend, n_rec, n_display)"
   ]
  },
  {
   "cell_type": "markdown",
   "metadata": {},
   "source": [
    "#### Using purchase dummy"
   ]
  },
  {
   "cell_type": "code",
   "execution_count": 38,
   "metadata": {},
   "outputs": [
    {
     "data": {
      "text/html": [
       "<pre>Warning: Ignoring columns purchase_count;</pre>"
      ],
      "text/plain": [
       "Warning: Ignoring columns purchase_count;"
      ]
     },
     "metadata": {},
     "output_type": "display_data"
    },
    {
     "data": {
      "text/html": [
       "<pre>    To use these columns in scoring predictions, use a model that allows the use of additional features.</pre>"
      ],
      "text/plain": [
       "    To use these columns in scoring predictions, use a model that allows the use of additional features."
      ]
     },
     "metadata": {},
     "output_type": "display_data"
    },
    {
     "data": {
      "text/html": [
       "<pre>Preparing data set.</pre>"
      ],
      "text/plain": [
       "Preparing data set."
      ]
     },
     "metadata": {},
     "output_type": "display_data"
    },
    {
     "data": {
      "text/html": [
       "<pre>    Data has 19570 observations with 7179 users and 699 items.</pre>"
      ],
      "text/plain": [
       "    Data has 19570 observations with 7179 users and 699 items."
      ]
     },
     "metadata": {},
     "output_type": "display_data"
    },
    {
     "data": {
      "text/html": [
       "<pre>    Data prepared in: 0.06s</pre>"
      ],
      "text/plain": [
       "    Data prepared in: 0.06s"
      ]
     },
     "metadata": {},
     "output_type": "display_data"
    },
    {
     "data": {
      "text/html": [
       "<pre>Training model from provided data.</pre>"
      ],
      "text/plain": [
       "Training model from provided data."
      ]
     },
     "metadata": {},
     "output_type": "display_data"
    },
    {
     "data": {
      "text/html": [
       "<pre>Gathering per-item and per-user statistics.</pre>"
      ],
      "text/plain": [
       "Gathering per-item and per-user statistics."
      ]
     },
     "metadata": {},
     "output_type": "display_data"
    },
    {
     "data": {
      "text/html": [
       "<pre>+--------------------------------+------------+</pre>"
      ],
      "text/plain": [
       "+--------------------------------+------------+"
      ]
     },
     "metadata": {},
     "output_type": "display_data"
    },
    {
     "data": {
      "text/html": [
       "<pre>| Elapsed Time (Item Statistics) | % Complete |</pre>"
      ],
      "text/plain": [
       "| Elapsed Time (Item Statistics) | % Complete |"
      ]
     },
     "metadata": {},
     "output_type": "display_data"
    },
    {
     "data": {
      "text/html": [
       "<pre>+--------------------------------+------------+</pre>"
      ],
      "text/plain": [
       "+--------------------------------+------------+"
      ]
     },
     "metadata": {},
     "output_type": "display_data"
    },
    {
     "data": {
      "text/html": [
       "<pre>| 1.131ms                        | 13.75      |</pre>"
      ],
      "text/plain": [
       "| 1.131ms                        | 13.75      |"
      ]
     },
     "metadata": {},
     "output_type": "display_data"
    },
    {
     "data": {
      "text/html": [
       "<pre>| 4.028ms                        | 100        |</pre>"
      ],
      "text/plain": [
       "| 4.028ms                        | 100        |"
      ]
     },
     "metadata": {},
     "output_type": "display_data"
    },
    {
     "data": {
      "text/html": [
       "<pre>+--------------------------------+------------+</pre>"
      ],
      "text/plain": [
       "+--------------------------------+------------+"
      ]
     },
     "metadata": {},
     "output_type": "display_data"
    },
    {
     "data": {
      "text/html": [
       "<pre>Setting up lookup tables.</pre>"
      ],
      "text/plain": [
       "Setting up lookup tables."
      ]
     },
     "metadata": {},
     "output_type": "display_data"
    },
    {
     "data": {
      "text/html": [
       "<pre>Processing data in one pass using dense lookup tables.</pre>"
      ],
      "text/plain": [
       "Processing data in one pass using dense lookup tables."
      ]
     },
     "metadata": {},
     "output_type": "display_data"
    },
    {
     "data": {
      "text/html": [
       "<pre>+-------------------------------------+------------------+-----------------+</pre>"
      ],
      "text/plain": [
       "+-------------------------------------+------------------+-----------------+"
      ]
     },
     "metadata": {},
     "output_type": "display_data"
    },
    {
     "data": {
      "text/html": [
       "<pre>| Elapsed Time (Constructing Lookups) | Total % Complete | Items Processed |</pre>"
      ],
      "text/plain": [
       "| Elapsed Time (Constructing Lookups) | Total % Complete | Items Processed |"
      ]
     },
     "metadata": {},
     "output_type": "display_data"
    },
    {
     "data": {
      "text/html": [
       "<pre>+-------------------------------------+------------------+-----------------+</pre>"
      ],
      "text/plain": [
       "+-------------------------------------+------------------+-----------------+"
      ]
     },
     "metadata": {},
     "output_type": "display_data"
    },
    {
     "data": {
      "text/html": [
       "<pre>| 6.765ms                             | 0                | 0               |</pre>"
      ],
      "text/plain": [
       "| 6.765ms                             | 0                | 0               |"
      ]
     },
     "metadata": {},
     "output_type": "display_data"
    },
    {
     "data": {
      "text/html": [
       "<pre>| 21.616ms                            | 100              | 699             |</pre>"
      ],
      "text/plain": [
       "| 21.616ms                            | 100              | 699             |"
      ]
     },
     "metadata": {},
     "output_type": "display_data"
    },
    {
     "data": {
      "text/html": [
       "<pre>+-------------------------------------+------------------+-----------------+</pre>"
      ],
      "text/plain": [
       "+-------------------------------------+------------------+-----------------+"
      ]
     },
     "metadata": {},
     "output_type": "display_data"
    },
    {
     "data": {
      "text/html": [
       "<pre>Finalizing lookup tables.</pre>"
      ],
      "text/plain": [
       "Finalizing lookup tables."
      ]
     },
     "metadata": {},
     "output_type": "display_data"
    },
    {
     "data": {
      "text/html": [
       "<pre>Generating candidate set for working with new users.</pre>"
      ],
      "text/plain": [
       "Generating candidate set for working with new users."
      ]
     },
     "metadata": {},
     "output_type": "display_data"
    },
    {
     "data": {
      "text/html": [
       "<pre>Finished training in 0.033325s</pre>"
      ],
      "text/plain": [
       "Finished training in 0.033325s"
      ]
     },
     "metadata": {},
     "output_type": "display_data"
    },
    {
     "data": {
      "text/html": [
       "<pre>recommendations finished on 1000/7987 queries. users per second: 75803.5</pre>"
      ],
      "text/plain": [
       "recommendations finished on 1000/7987 queries. users per second: 75803.5"
      ]
     },
     "metadata": {},
     "output_type": "display_data"
    },
    {
     "data": {
      "text/html": [
       "<pre>recommendations finished on 2000/7987 queries. users per second: 80922.5</pre>"
      ],
      "text/plain": [
       "recommendations finished on 2000/7987 queries. users per second: 80922.5"
      ]
     },
     "metadata": {},
     "output_type": "display_data"
    },
    {
     "data": {
      "text/html": [
       "<pre>recommendations finished on 3000/7987 queries. users per second: 59137.8</pre>"
      ],
      "text/plain": [
       "recommendations finished on 3000/7987 queries. users per second: 59137.8"
      ]
     },
     "metadata": {},
     "output_type": "display_data"
    },
    {
     "data": {
      "text/html": [
       "<pre>recommendations finished on 4000/7987 queries. users per second: 59965.5</pre>"
      ],
      "text/plain": [
       "recommendations finished on 4000/7987 queries. users per second: 59965.5"
      ]
     },
     "metadata": {},
     "output_type": "display_data"
    },
    {
     "data": {
      "text/html": [
       "<pre>recommendations finished on 5000/7987 queries. users per second: 65891.8</pre>"
      ],
      "text/plain": [
       "recommendations finished on 5000/7987 queries. users per second: 65891.8"
      ]
     },
     "metadata": {},
     "output_type": "display_data"
    },
    {
     "data": {
      "text/html": [
       "<pre>recommendations finished on 6000/7987 queries. users per second: 64020.5</pre>"
      ],
      "text/plain": [
       "recommendations finished on 6000/7987 queries. users per second: 64020.5"
      ]
     },
     "metadata": {},
     "output_type": "display_data"
    },
    {
     "data": {
      "text/html": [
       "<pre>recommendations finished on 7000/7987 queries. users per second: 61114</pre>"
      ],
      "text/plain": [
       "recommendations finished on 7000/7987 queries. users per second: 61114"
      ]
     },
     "metadata": {},
     "output_type": "display_data"
    },
    {
     "name": "stdout",
     "output_type": "stream",
     "text": [
      "+------------+-----------+-------+------+\n",
      "| customerId | productId | score | rank |\n",
      "+------------+-----------+-------+------+\n",
      "|  1076254   |   123231  |  0.0  |  1   |\n",
      "|  1076254   |   920086  |  0.0  |  2   |\n",
      "|  1076254   |   920107  |  0.0  |  3   |\n",
      "|  1076254   |   920085  |  0.0  |  4   |\n",
      "|  1076254   |   920090  |  0.0  |  5   |\n",
      "|  1076254   |   920087  |  0.0  |  6   |\n",
      "|  1076254   |   920091  |  0.0  |  7   |\n",
      "|  1076254   |   920081  |  0.0  |  8   |\n",
      "|  1076254   |   920084  |  0.0  |  9   |\n",
      "|  1076254   |   920082  |  0.0  |  10  |\n",
      "|  1268548   |   920086  |  0.0  |  1   |\n",
      "|  1268548   |   920089  |  0.0  |  2   |\n",
      "|  1268548   |   920107  |  0.0  |  3   |\n",
      "|  1268548   |   920085  |  0.0  |  4   |\n",
      "|  1268548   |   920090  |  0.0  |  5   |\n",
      "|  1268548   |   920087  |  0.0  |  6   |\n",
      "|  1268548   |   920091  |  0.0  |  7   |\n",
      "|  1268548   |   920081  |  0.0  |  8   |\n",
      "|  1268548   |   920084  |  0.0  |  9   |\n",
      "|  1268548   |   920082  |  0.0  |  10  |\n",
      "|  1709459   |   123231  |  0.0  |  1   |\n",
      "|  1709459   |   920086  |  0.0  |  2   |\n",
      "|  1709459   |   920107  |  0.0  |  3   |\n",
      "|  1709459   |   920085  |  0.0  |  4   |\n",
      "|  1709459   |   920090  |  0.0  |  5   |\n",
      "|  1709459   |   920087  |  0.0  |  6   |\n",
      "|  1709459   |   920091  |  0.0  |  7   |\n",
      "|  1709459   |   920081  |  0.0  |  8   |\n",
      "|  1709459   |   920084  |  0.0  |  9   |\n",
      "|  1709459   |   920082  |  0.0  |  10  |\n",
      "+------------+-----------+-------+------+\n",
      "[79870 rows x 4 columns]\n",
      "\n"
     ]
    }
   ],
   "source": [
    "# these variables will change accordingly\n",
    "name = 'pearson'\n",
    "target = 'purchase_dummy'\n",
    "pear_dummy = model(train_data_dummy, name, user_id, item_id, target, users_to_recommend, n_rec, n_display)"
   ]
  },
  {
   "cell_type": "markdown",
   "metadata": {},
   "source": [
    "#### Using normalized purchase count"
   ]
  },
  {
   "cell_type": "code",
   "execution_count": 39,
   "metadata": {},
   "outputs": [
    {
     "data": {
      "text/html": [
       "<pre>Preparing data set.</pre>"
      ],
      "text/plain": [
       "Preparing data set."
      ]
     },
     "metadata": {},
     "output_type": "display_data"
    },
    {
     "data": {
      "text/html": [
       "<pre>    Data has 16596 observations with 6548 users and 243 items.</pre>"
      ],
      "text/plain": [
       "    Data has 16596 observations with 6548 users and 243 items."
      ]
     },
     "metadata": {},
     "output_type": "display_data"
    },
    {
     "data": {
      "text/html": [
       "<pre>    Data prepared in: 0.043833s</pre>"
      ],
      "text/plain": [
       "    Data prepared in: 0.043833s"
      ]
     },
     "metadata": {},
     "output_type": "display_data"
    },
    {
     "data": {
      "text/html": [
       "<pre>Training model from provided data.</pre>"
      ],
      "text/plain": [
       "Training model from provided data."
      ]
     },
     "metadata": {},
     "output_type": "display_data"
    },
    {
     "data": {
      "text/html": [
       "<pre>Gathering per-item and per-user statistics.</pre>"
      ],
      "text/plain": [
       "Gathering per-item and per-user statistics."
      ]
     },
     "metadata": {},
     "output_type": "display_data"
    },
    {
     "data": {
      "text/html": [
       "<pre>+--------------------------------+------------+</pre>"
      ],
      "text/plain": [
       "+--------------------------------+------------+"
      ]
     },
     "metadata": {},
     "output_type": "display_data"
    },
    {
     "data": {
      "text/html": [
       "<pre>| Elapsed Time (Item Statistics) | % Complete |</pre>"
      ],
      "text/plain": [
       "| Elapsed Time (Item Statistics) | % Complete |"
      ]
     },
     "metadata": {},
     "output_type": "display_data"
    },
    {
     "data": {
      "text/html": [
       "<pre>+--------------------------------+------------+</pre>"
      ],
      "text/plain": [
       "+--------------------------------+------------+"
      ]
     },
     "metadata": {},
     "output_type": "display_data"
    },
    {
     "data": {
      "text/html": [
       "<pre>| 1.216ms                        | 15.25      |</pre>"
      ],
      "text/plain": [
       "| 1.216ms                        | 15.25      |"
      ]
     },
     "metadata": {},
     "output_type": "display_data"
    },
    {
     "name": "stdout",
     "output_type": "stream",
     "text": [
      "+------------+-----------+---------------------+------+\n",
      "| customerId | productId |        score        | rank |\n",
      "+------------+-----------+---------------------+------+\n",
      "|  1076254   |   123123  |         0.5         |  1   |\n",
      "|  1076254   |   120386  | 0.49989205598831177 |  2   |\n",
      "|  1076254   |   124689  | 0.49977362155914307 |  3   |\n",
      "|  1076254   |   124074  | 0.49964566230773927 |  4   |\n",
      "|  1076254   |   124859  |  0.4995908498764038 |  5   |\n",
      "|  1076254   |   124517  |  0.4963017702102661 |  6   |\n",
      "|  1076254   |   124669  |  0.4963017702102661 |  7   |\n",
      "|  1076254   |   120976  |  0.4285246031624931 |  8   |\n",
      "|  1076254   |   124697  | 0.33333333333333337 |  9   |\n",
      "|  1076254   |   123553  |  0.3333333333333333 |  10  |\n",
      "|  1268548   |   124859  |         0.5         |  1   |\n",
      "|  1268548   |   123123  |         0.5         |  2   |\n",
      "|  1268548   |   124074  |         0.5         |  3   |\n",
      "|  1268548   |   120386  |         0.5         |  4   |\n",
      "|  1268548   |   124689  |         0.5         |  5   |\n",
      "|  1268548   |   124517  | 0.48150885105133057 |  6   |\n",
      "|  1268548   |   124669  | 0.48150885105133057 |  7   |\n",
      "|  1268548   |   120976  |  0.4285714285714286 |  8   |\n",
      "|  1268548   |   124568  | 0.33333333333333337 |  9   |\n",
      "|  1268548   |   124475  | 0.33333333333333337 |  10  |\n",
      "|  1709459   |   124859  |         0.5         |  1   |\n",
      "|  1709459   |   124517  |         0.5         |  2   |\n",
      "|  1709459   |   123123  |         0.5         |  3   |\n",
      "|  1709459   |   124669  |         0.5         |  4   |\n",
      "|  1709459   |   124074  |         0.5         |  5   |\n",
      "|  1709459   |   120386  |         0.5         |  6   |\n",
      "|  1709459   |   124689  |         0.5         |  7   |\n",
      "|  1709459   |   120976  |  0.4285714285714286 |  8   |\n",
      "|  1709459   |   124568  | 0.33333333333333337 |  9   |\n",
      "|  1709459   |   124475  | 0.33333333333333337 |  10  |\n",
      "+------------+-----------+---------------------+------+\n",
      "[79870 rows x 4 columns]\n",
      "\n"
     ]
    },
    {
     "data": {
      "text/html": [
       "<pre>| 2.972ms                        | 100        |</pre>"
      ],
      "text/plain": [
       "| 2.972ms                        | 100        |"
      ]
     },
     "metadata": {},
     "output_type": "display_data"
    },
    {
     "data": {
      "text/html": [
       "<pre>+--------------------------------+------------+</pre>"
      ],
      "text/plain": [
       "+--------------------------------+------------+"
      ]
     },
     "metadata": {},
     "output_type": "display_data"
    },
    {
     "data": {
      "text/html": [
       "<pre>Setting up lookup tables.</pre>"
      ],
      "text/plain": [
       "Setting up lookup tables."
      ]
     },
     "metadata": {},
     "output_type": "display_data"
    },
    {
     "data": {
      "text/html": [
       "<pre>Processing data in one pass using dense lookup tables.</pre>"
      ],
      "text/plain": [
       "Processing data in one pass using dense lookup tables."
      ]
     },
     "metadata": {},
     "output_type": "display_data"
    },
    {
     "data": {
      "text/html": [
       "<pre>+-------------------------------------+------------------+-----------------+</pre>"
      ],
      "text/plain": [
       "+-------------------------------------+------------------+-----------------+"
      ]
     },
     "metadata": {},
     "output_type": "display_data"
    },
    {
     "data": {
      "text/html": [
       "<pre>| Elapsed Time (Constructing Lookups) | Total % Complete | Items Processed |</pre>"
      ],
      "text/plain": [
       "| Elapsed Time (Constructing Lookups) | Total % Complete | Items Processed |"
      ]
     },
     "metadata": {},
     "output_type": "display_data"
    },
    {
     "data": {
      "text/html": [
       "<pre>+-------------------------------------+------------------+-----------------+</pre>"
      ],
      "text/plain": [
       "+-------------------------------------+------------------+-----------------+"
      ]
     },
     "metadata": {},
     "output_type": "display_data"
    },
    {
     "data": {
      "text/html": [
       "<pre>| 3.779ms                             | 0                | 0               |</pre>"
      ],
      "text/plain": [
       "| 3.779ms                             | 0                | 0               |"
      ]
     },
     "metadata": {},
     "output_type": "display_data"
    },
    {
     "data": {
      "text/html": [
       "<pre>| 8.2ms                               | 100              | 243             |</pre>"
      ],
      "text/plain": [
       "| 8.2ms                               | 100              | 243             |"
      ]
     },
     "metadata": {},
     "output_type": "display_data"
    },
    {
     "data": {
      "text/html": [
       "<pre>+-------------------------------------+------------------+-----------------+</pre>"
      ],
      "text/plain": [
       "+-------------------------------------+------------------+-----------------+"
      ]
     },
     "metadata": {},
     "output_type": "display_data"
    },
    {
     "data": {
      "text/html": [
       "<pre>Finalizing lookup tables.</pre>"
      ],
      "text/plain": [
       "Finalizing lookup tables."
      ]
     },
     "metadata": {},
     "output_type": "display_data"
    },
    {
     "data": {
      "text/html": [
       "<pre>Generating candidate set for working with new users.</pre>"
      ],
      "text/plain": [
       "Generating candidate set for working with new users."
      ]
     },
     "metadata": {},
     "output_type": "display_data"
    },
    {
     "data": {
      "text/html": [
       "<pre>Finished training in 0.010347s</pre>"
      ],
      "text/plain": [
       "Finished training in 0.010347s"
      ]
     },
     "metadata": {},
     "output_type": "display_data"
    },
    {
     "data": {
      "text/html": [
       "<pre>recommendations finished on 1000/7987 queries. users per second: 75238.9</pre>"
      ],
      "text/plain": [
       "recommendations finished on 1000/7987 queries. users per second: 75238.9"
      ]
     },
     "metadata": {},
     "output_type": "display_data"
    },
    {
     "data": {
      "text/html": [
       "<pre>recommendations finished on 2000/7987 queries. users per second: 81238.1</pre>"
      ],
      "text/plain": [
       "recommendations finished on 2000/7987 queries. users per second: 81238.1"
      ]
     },
     "metadata": {},
     "output_type": "display_data"
    },
    {
     "data": {
      "text/html": [
       "<pre>recommendations finished on 3000/7987 queries. users per second: 91614.2</pre>"
      ],
      "text/plain": [
       "recommendations finished on 3000/7987 queries. users per second: 91614.2"
      ]
     },
     "metadata": {},
     "output_type": "display_data"
    },
    {
     "data": {
      "text/html": [
       "<pre>recommendations finished on 4000/7987 queries. users per second: 93868.1</pre>"
      ],
      "text/plain": [
       "recommendations finished on 4000/7987 queries. users per second: 93868.1"
      ]
     },
     "metadata": {},
     "output_type": "display_data"
    },
    {
     "data": {
      "text/html": [
       "<pre>recommendations finished on 5000/7987 queries. users per second: 93819.2</pre>"
      ],
      "text/plain": [
       "recommendations finished on 5000/7987 queries. users per second: 93819.2"
      ]
     },
     "metadata": {},
     "output_type": "display_data"
    },
    {
     "data": {
      "text/html": [
       "<pre>recommendations finished on 6000/7987 queries. users per second: 94960.7</pre>"
      ],
      "text/plain": [
       "recommendations finished on 6000/7987 queries. users per second: 94960.7"
      ]
     },
     "metadata": {},
     "output_type": "display_data"
    },
    {
     "data": {
      "text/html": [
       "<pre>recommendations finished on 7000/7987 queries. users per second: 96428</pre>"
      ],
      "text/plain": [
       "recommendations finished on 7000/7987 queries. users per second: 96428"
      ]
     },
     "metadata": {},
     "output_type": "display_data"
    }
   ],
   "source": [
    "name = 'pearson'\n",
    "target = 'scaled_purchase_freq'\n",
    "pear_norm = model(train_data_norm, name, user_id, item_id, target, users_to_recommend, n_rec, n_display)"
   ]
  },
  {
   "cell_type": "markdown",
   "metadata": {},
   "source": [
    "#### Note\n",
    "* In collaborative filtering above, we used two approaches: cosine and pearson distance. We also got to apply them to three training datasets with normal counts, dummy, or normalized counts of items purchase.\n",
    "* We can see that the recommendations are different for each user. This suggests that personalization does exist. \n",
    "* But how good is this model compared to the baseline, and to each other? We need some means of evaluating a recommendation engine. Lets focus on that in the next section."
   ]
  },
  {
   "cell_type": "markdown",
   "metadata": {},
   "source": [
    "## 7. Model Evaluation\n",
    "For evaluating recommendation engines, we can use the concept of precision-recall.\n",
    "\n",
    "* RMSE (Root Mean Squared Errors)\n",
    "    * Measures the error of predicted values\n",
    "    * Lesser the RMSE value, better the recommendations\n",
    "* Recall\n",
    "    * What percentage of products that a user buys are actually recommended?\n",
    "    * If a customer buys 5 products and the recommendation decided to show 3 of them, then the recall is 0.6\n",
    "* Precision\n",
    "    * Out of all the recommended items, how many the user actually liked?\n",
    "    * If 5 products were recommended to the customer out of which he buys 4 of them, then precision is 0.8\n",
    "    \n",
    "* Why are both recall and precision important?\n",
    "    * Consider a case where we recommend all products, so our customers will surely cover the items that they liked and bought. In this case, we have 100% recall! Does this mean our model is good?\n",
    "    * We have to consider precision. If we recommend 300 items but user likes and buys only 3 of them, then precision is 0.1%! This very low precision indicates that the model is not great, despite their excellent recall.\n",
    "    * So our aim has to be optimizing both recall and precision (to be close to 1 as possible).\n",
    "\n",
    "Lets compare all the models we have built based on precision-recall characteristics:"
   ]
  },
  {
   "cell_type": "code",
   "execution_count": 40,
   "metadata": {},
   "outputs": [],
   "source": [
    "# create initial callable variables\n",
    "\n",
    "models_w_counts = [popularity_model, cos, pear]\n",
    "models_w_dummy = [pop_dummy, cos_dummy, pear_dummy]\n",
    "models_w_norm = [pop_norm, cos_norm, pear_norm]\n",
    "\n",
    "names_w_counts = ['Popularity Model on Purchase Counts', 'Cosine Similarity on Purchase Counts', 'Pearson Similarity on Purchase Counts']\n",
    "names_w_dummy = ['Popularity Model on Purchase Dummy', 'Cosine Similarity on Purchase Dummy', 'Pearson Similarity on Purchase Dummy']\n",
    "names_w_norm = ['Popularity Model on Scaled Purchase Counts', 'Cosine Similarity on Scaled Purchase Counts', 'Pearson Similarity on Scaled Purchase Counts']"
   ]
  },
  {
   "cell_type": "markdown",
   "metadata": {},
   "source": [
    "#### Models on purchase counts"
   ]
  },
  {
   "cell_type": "code",
   "execution_count": 41,
   "metadata": {
    "scrolled": false
   },
   "outputs": [
    {
     "name": "stdout",
     "output_type": "stream",
     "text": [
      "PROGRESS: Evaluate model Popularity Model on Purchase Counts\n"
     ]
    },
    {
     "data": {
      "text/html": [
       "<pre>recommendations finished on 1000/3213 queries. users per second: 64362.5</pre>"
      ],
      "text/plain": [
       "recommendations finished on 1000/3213 queries. users per second: 64362.5"
      ]
     },
     "metadata": {},
     "output_type": "display_data"
    },
    {
     "data": {
      "text/html": [
       "<pre>recommendations finished on 2000/3213 queries. users per second: 70001.1</pre>"
      ],
      "text/plain": [
       "recommendations finished on 2000/3213 queries. users per second: 70001.1"
      ]
     },
     "metadata": {},
     "output_type": "display_data"
    },
    {
     "data": {
      "text/html": [
       "<pre>recommendations finished on 3000/3213 queries. users per second: 70738</pre>"
      ],
      "text/plain": [
       "recommendations finished on 3000/3213 queries. users per second: 70738"
      ]
     },
     "metadata": {},
     "output_type": "display_data"
    },
    {
     "name": "stdout",
     "output_type": "stream",
     "text": [
      "\n",
      "Precision and recall summary statistics by cutoff\n",
      "+--------+------------------------+------------------------+\n",
      "| cutoff |     mean_precision     |      mean_recall       |\n",
      "+--------+------------------------+------------------------+\n",
      "|   1    | 0.0003112356053532525  | 6.224712107065048e-05  |\n",
      "|   2    | 0.00015561780267662624 | 6.224712107065041e-05  |\n",
      "|   3    | 0.0002074904035688348  | 0.0003734827264239029  |\n",
      "|   4    | 0.00015561780267662624 | 0.00037348272642390287 |\n",
      "|   5    | 0.00018674136321195143 | 0.0006847183317771556  |\n",
      "|   6    | 0.00015561780267662616 | 0.0006847183317771554  |\n",
      "|   7    | 0.00013338668800853677 | 0.0006847183317771554  |\n",
      "|   8    | 0.0001167133520074697  | 0.0006847183317771552  |\n",
      "|   9    | 0.00013832693571255673 | 0.0008403361344537811  |\n",
      "|   10   | 0.0002178649237472766  | 0.0017740429505135394  |\n",
      "+--------+------------------------+------------------------+\n",
      "[10 rows x 3 columns]\n",
      "\n",
      "\n",
      "Overall RMSE: 0.31684210985358413\n",
      "\n",
      "Per User RMSE (best)\n",
      "+------------+------+-------+\n",
      "| customerId | rmse | count |\n",
      "+------------+------+-------+\n",
      "|  1727950   | 0.0  |   3   |\n",
      "+------------+------+-------+\n",
      "[1 rows x 3 columns]\n",
      "\n",
      "\n",
      "Per User RMSE (worst)\n",
      "+------------+--------------------+-------+\n",
      "| customerId |        rmse        | count |\n",
      "+------------+--------------------+-------+\n",
      "|  1739072   | 2.8577981651376145 |   1   |\n",
      "+------------+--------------------+-------+\n",
      "[1 rows x 3 columns]\n",
      "\n",
      "\n",
      "Per Item RMSE (best)\n",
      "+-----------+------+-------+\n",
      "| productId | rmse | count |\n",
      "+-----------+------+-------+\n",
      "|   124808  | 0.0  |   4   |\n",
      "+-----------+------+-------+\n",
      "[1 rows x 3 columns]\n",
      "\n",
      "\n",
      "Per Item RMSE (worst)\n",
      "+-----------+------+-------+\n",
      "| productId | rmse | count |\n",
      "+-----------+------+-------+\n",
      "|   124659  | 1.0  |   1   |\n",
      "+-----------+------+-------+\n",
      "[1 rows x 3 columns]\n",
      "\n",
      "PROGRESS: Evaluate model Cosine Similarity on Purchase Counts\n"
     ]
    },
    {
     "data": {
      "text/html": [
       "<pre>recommendations finished on 1000/3213 queries. users per second: 29206.5</pre>"
      ],
      "text/plain": [
       "recommendations finished on 1000/3213 queries. users per second: 29206.5"
      ]
     },
     "metadata": {},
     "output_type": "display_data"
    },
    {
     "data": {
      "text/html": [
       "<pre>recommendations finished on 2000/3213 queries. users per second: 24242.1</pre>"
      ],
      "text/plain": [
       "recommendations finished on 2000/3213 queries. users per second: 24242.1"
      ]
     },
     "metadata": {},
     "output_type": "display_data"
    },
    {
     "data": {
      "text/html": [
       "<pre>recommendations finished on 3000/3213 queries. users per second: 21998.7</pre>"
      ],
      "text/plain": [
       "recommendations finished on 3000/3213 queries. users per second: 21998.7"
      ]
     },
     "metadata": {},
     "output_type": "display_data"
    },
    {
     "name": "stdout",
     "output_type": "stream",
     "text": [
      "\n",
      "Precision and recall summary statistics by cutoff\n",
      "+--------+---------------------+---------------------+\n",
      "| cutoff |    mean_precision   |     mean_recall     |\n",
      "+--------+---------------------+---------------------+\n",
      "|   1    | 0.16775599128540306 | 0.11201012391488575 |\n",
      "|   2    | 0.14363523187052601 | 0.18715448365308296 |\n",
      "|   3    | 0.13020022823944388 | 0.25256226292640843 |\n",
      "|   4    | 0.11577964519140985 | 0.29557636315339403 |\n",
      "|   5    | 0.10519763460939942 |  0.3336286210936071 |\n",
      "|   6    | 0.09840232389251992 | 0.37568371473600204 |\n",
      "|   7    | 0.09074741007514127 | 0.40144735352485156 |\n",
      "|   8    | 0.08434484905073136 | 0.42775787773453494 |\n",
      "|   9    | 0.08123249299719881 |  0.4727028927775895 |\n",
      "|   10   | 0.07696856520385933 |  0.4998344861556813 |\n",
      "+--------+---------------------+---------------------+\n",
      "[10 rows x 3 columns]\n",
      "\n",
      "\n",
      "Overall RMSE: 1.0305441241396007\n",
      "\n",
      "Per User RMSE (best)\n",
      "+------------+---------------------+-------+\n",
      "| customerId |         rmse        | count |\n",
      "+------------+---------------------+-------+\n",
      "|  1780283   | 0.17671287059783936 |   1   |\n",
      "+------------+---------------------+-------+\n",
      "[1 rows x 3 columns]\n",
      "\n",
      "\n",
      "Per User RMSE (worst)\n",
      "+------------+--------------------+-------+\n",
      "| customerId |        rmse        | count |\n",
      "+------------+--------------------+-------+\n",
      "|  1739072   | 3.3343382120132445 |   1   |\n",
      "+------------+--------------------+-------+\n",
      "[1 rows x 3 columns]\n",
      "\n",
      "\n",
      "Per Item RMSE (best)\n",
      "+-----------+--------------------+-------+\n",
      "| productId |        rmse        | count |\n",
      "+-----------+--------------------+-------+\n",
      "|   123616  | 0.8286926233042892 |   4   |\n",
      "+-----------+--------------------+-------+\n",
      "[1 rows x 3 columns]\n",
      "\n",
      "\n",
      "Per Item RMSE (worst)\n",
      "+-----------+------+-------+\n",
      "| productId | rmse | count |\n",
      "+-----------+------+-------+\n",
      "|   124659  | 2.0  |   1   |\n",
      "+-----------+------+-------+\n",
      "[1 rows x 3 columns]\n",
      "\n",
      "PROGRESS: Evaluate model Pearson Similarity on Purchase Counts\n"
     ]
    },
    {
     "data": {
      "text/html": [
       "<pre>recommendations finished on 1000/3213 queries. users per second: 51161.4</pre>"
      ],
      "text/plain": [
       "recommendations finished on 1000/3213 queries. users per second: 51161.4"
      ]
     },
     "metadata": {},
     "output_type": "display_data"
    },
    {
     "data": {
      "text/html": [
       "<pre>recommendations finished on 2000/3213 queries. users per second: 27023.7</pre>"
      ],
      "text/plain": [
       "recommendations finished on 2000/3213 queries. users per second: 27023.7"
      ]
     },
     "metadata": {},
     "output_type": "display_data"
    },
    {
     "data": {
      "text/html": [
       "<pre>recommendations finished on 3000/3213 queries. users per second: 26565.1</pre>"
      ],
      "text/plain": [
       "recommendations finished on 3000/3213 queries. users per second: 26565.1"
      ]
     },
     "metadata": {},
     "output_type": "display_data"
    },
    {
     "name": "stdout",
     "output_type": "stream",
     "text": [
      "\n",
      "Precision and recall summary statistics by cutoff\n",
      "+--------+------------------------+------------------------+\n",
      "| cutoff |     mean_precision     |      mean_recall       |\n",
      "+--------+------------------------+------------------------+\n",
      "|   1    | 0.0003112356053532525  | 6.224712107065051e-05  |\n",
      "|   2    | 0.00015561780267662624 | 6.224712107065051e-05  |\n",
      "|   3    | 0.00010374520178441743 | 6.224712107065051e-05  |\n",
      "|   4    | 7.780890133831312e-05  | 6.224712107065051e-05  |\n",
      "|   5    | 0.00012449424214130064 | 0.0003734827264239028  |\n",
      "|   6    | 0.00010374520178441748 | 0.0003734827264239029  |\n",
      "|   7    | 8.892445867235783e-05  | 0.00037348272642390287 |\n",
      "|   8    | 0.00011671335200746969 | 0.0006847183317771554  |\n",
      "|   9    | 0.00013832693571255654 | 0.0008403361344537812  |\n",
      "|   10   | 0.00021786492374727682 | 0.0017740429505135394  |\n",
      "+--------+------------------------+------------------------+\n",
      "[10 rows x 3 columns]\n",
      "\n",
      "\n",
      "Overall RMSE: 0.3199002251700951\n",
      "\n",
      "Per User RMSE (best)\n",
      "+------------+------+-------+\n",
      "| customerId | rmse | count |\n",
      "+------------+------+-------+\n",
      "|  1727950   | 0.0  |   3   |\n",
      "+------------+------+-------+\n",
      "[1 rows x 3 columns]\n",
      "\n",
      "\n",
      "Per User RMSE (worst)\n",
      "+------------+-------------------+-------+\n",
      "| customerId |        rmse       | count |\n",
      "+------------+-------------------+-------+\n",
      "|  1739072   | 2.630491679961529 |   1   |\n",
      "+------------+-------------------+-------+\n",
      "[1 rows x 3 columns]\n",
      "\n",
      "\n",
      "Per Item RMSE (best)\n",
      "+-----------+------+-------+\n",
      "| productId | rmse | count |\n",
      "+-----------+------+-------+\n",
      "|   124808  | 0.0  |   4   |\n",
      "+-----------+------+-------+\n",
      "[1 rows x 3 columns]\n",
      "\n",
      "\n",
      "Per Item RMSE (worst)\n",
      "+-----------+--------------------+-------+\n",
      "| productId |        rmse        | count |\n",
      "+-----------+--------------------+-------+\n",
      "|   124669  | 1.5811388300841898 |   2   |\n",
      "+-----------+--------------------+-------+\n",
      "[1 rows x 3 columns]\n",
      "\n"
     ]
    }
   ],
   "source": [
    "eval_counts = tc.recommender.util.compare_models(test_data, models_w_counts, model_names=names_w_counts)"
   ]
  },
  {
   "cell_type": "markdown",
   "metadata": {},
   "source": [
    "#### Models on purchase dummy"
   ]
  },
  {
   "cell_type": "code",
   "execution_count": 42,
   "metadata": {
    "scrolled": false
   },
   "outputs": [
    {
     "name": "stdout",
     "output_type": "stream",
     "text": [
      "PROGRESS: Evaluate model Popularity Model on Purchase Dummy\n"
     ]
    },
    {
     "data": {
      "text/html": [
       "<pre>recommendations finished on 1000/3210 queries. users per second: 67727.7</pre>"
      ],
      "text/plain": [
       "recommendations finished on 1000/3210 queries. users per second: 67727.7"
      ]
     },
     "metadata": {},
     "output_type": "display_data"
    },
    {
     "data": {
      "text/html": [
       "<pre>recommendations finished on 2000/3210 queries. users per second: 69300.1</pre>"
      ],
      "text/plain": [
       "recommendations finished on 2000/3210 queries. users per second: 69300.1"
      ]
     },
     "metadata": {},
     "output_type": "display_data"
    },
    {
     "data": {
      "text/html": [
       "<pre>recommendations finished on 3000/3210 queries. users per second: 66804.7</pre>"
      ],
      "text/plain": [
       "recommendations finished on 3000/3210 queries. users per second: 66804.7"
      ]
     },
     "metadata": {},
     "output_type": "display_data"
    },
    {
     "name": "stdout",
     "output_type": "stream",
     "text": [
      "\n",
      "Precision and recall summary statistics by cutoff\n",
      "+--------+---------------------+---------------------+\n",
      "| cutoff |    mean_precision   |     mean_recall     |\n",
      "+--------+---------------------+---------------------+\n",
      "|   1    | 0.07694704049844248 |  0.0473301438955645 |\n",
      "|   2    | 0.08457943925233652 | 0.10254431835039315 |\n",
      "|   3    | 0.10550363447559712 | 0.20897089281435094 |\n",
      "|   4    | 0.09719626168224295 |  0.2586262167220118 |\n",
      "|   5    | 0.08903426791277255 |  0.2939433061746151 |\n",
      "|   6    | 0.08271028037383167 |  0.3303581556034827 |\n",
      "|   7    | 0.07730307076101467 | 0.36224808291397087 |\n",
      "|   8    |  0.0714563862928349 |  0.3818540817956706 |\n",
      "|   9    | 0.06832814122533754 | 0.41203135519724315 |\n",
      "|   10   | 0.06401869158878519 |  0.4279295898805244 |\n",
      "+--------+---------------------+---------------------+\n",
      "[10 rows x 3 columns]\n",
      "\n",
      "\n",
      "Overall RMSE: 0.0\n",
      "\n",
      "Per User RMSE (best)\n",
      "+------------+------+-------+\n",
      "| customerId | rmse | count |\n",
      "+------------+------+-------+\n",
      "|  1021060   | 0.0  |   1   |\n",
      "+------------+------+-------+\n",
      "[1 rows x 3 columns]\n",
      "\n",
      "\n",
      "Per User RMSE (worst)\n",
      "+------------+------+-------+\n",
      "| customerId | rmse | count |\n",
      "+------------+------+-------+\n",
      "|  1787778   | 0.0  |   1   |\n",
      "+------------+------+-------+\n",
      "[1 rows x 3 columns]\n",
      "\n",
      "\n",
      "Per Item RMSE (best)\n",
      "+-----------+------+-------+\n",
      "| productId | rmse | count |\n",
      "+-----------+------+-------+\n",
      "|   124808  | 0.0  |   3   |\n",
      "+-----------+------+-------+\n",
      "[1 rows x 3 columns]\n",
      "\n",
      "\n",
      "Per Item RMSE (worst)\n",
      "+-----------+------+-------+\n",
      "| productId | rmse | count |\n",
      "+-----------+------+-------+\n",
      "|   122925  | 0.0  |   1   |\n",
      "+-----------+------+-------+\n",
      "[1 rows x 3 columns]\n",
      "\n",
      "PROGRESS: Evaluate model Cosine Similarity on Purchase Dummy\n"
     ]
    },
    {
     "data": {
      "text/html": [
       "<pre>recommendations finished on 1000/3210 queries. users per second: 48706.8</pre>"
      ],
      "text/plain": [
       "recommendations finished on 1000/3210 queries. users per second: 48706.8"
      ]
     },
     "metadata": {},
     "output_type": "display_data"
    },
    {
     "data": {
      "text/html": [
       "<pre>recommendations finished on 2000/3210 queries. users per second: 25751.3</pre>"
      ],
      "text/plain": [
       "recommendations finished on 2000/3210 queries. users per second: 25751.3"
      ]
     },
     "metadata": {},
     "output_type": "display_data"
    },
    {
     "data": {
      "text/html": [
       "<pre>recommendations finished on 3000/3210 queries. users per second: 23984.3</pre>"
      ],
      "text/plain": [
       "recommendations finished on 3000/3210 queries. users per second: 23984.3"
      ]
     },
     "metadata": {},
     "output_type": "display_data"
    },
    {
     "name": "stdout",
     "output_type": "stream",
     "text": [
      "\n",
      "Precision and recall summary statistics by cutoff\n",
      "+--------+---------------------+---------------------+\n",
      "| cutoff |    mean_precision   |     mean_recall     |\n",
      "+--------+---------------------+---------------------+\n",
      "|   1    | 0.16884735202492204 | 0.11510310043020325 |\n",
      "|   2    | 0.14330218068535816 | 0.18873646343272513 |\n",
      "|   3    |  0.1355140186915888 | 0.26892059783414934 |\n",
      "|   4    | 0.12133956386292828 | 0.31833945260347146 |\n",
      "|   5    | 0.11040498442367591 | 0.35906746031746056 |\n",
      "|   6    | 0.10067497403945995 |  0.3938481365467347 |\n",
      "|   7    | 0.09399198931909217 | 0.43065076797553437 |\n",
      "|   8    | 0.08703271028037379 |  0.4555664390127007 |\n",
      "|   9    | 0.08200069228106605 | 0.48584977976333077 |\n",
      "|   10   | 0.07651090342679112 |  0.5019901891981328 |\n",
      "+--------+---------------------+---------------------+\n",
      "[10 rows x 3 columns]\n",
      "\n",
      "\n",
      "Overall RMSE: 0.9045397177326483\n",
      "\n",
      "Per User RMSE (best)\n",
      "+------------+--------------------+-------+\n",
      "| customerId |        rmse        | count |\n",
      "+------------+--------------------+-------+\n",
      "|  1179172   | 0.6185146570205688 |   1   |\n",
      "+------------+--------------------+-------+\n",
      "[1 rows x 3 columns]\n",
      "\n",
      "\n",
      "Per User RMSE (worst)\n",
      "+------------+------+-------+\n",
      "| customerId | rmse | count |\n",
      "+------------+------+-------+\n",
      "|  1834139   | 1.0  |   1   |\n",
      "+------------+------+-------+\n",
      "[1 rows x 3 columns]\n",
      "\n",
      "\n",
      "Per Item RMSE (best)\n",
      "+-----------+-------------------+-------+\n",
      "| productId |        rmse       | count |\n",
      "+-----------+-------------------+-------+\n",
      "|   124180  | 0.665503203868866 |   1   |\n",
      "+-----------+-------------------+-------+\n",
      "[1 rows x 3 columns]\n",
      "\n",
      "\n",
      "Per Item RMSE (worst)\n",
      "+-----------+------+-------+\n",
      "| productId | rmse | count |\n",
      "+-----------+------+-------+\n",
      "|   122925  | 1.0  |   1   |\n",
      "+-----------+------+-------+\n",
      "[1 rows x 3 columns]\n",
      "\n",
      "PROGRESS: Evaluate model Pearson Similarity on Purchase Dummy\n"
     ]
    },
    {
     "data": {
      "text/html": [
       "<pre>recommendations finished on 1000/3210 queries. users per second: 54383.3</pre>"
      ],
      "text/plain": [
       "recommendations finished on 1000/3210 queries. users per second: 54383.3"
      ]
     },
     "metadata": {},
     "output_type": "display_data"
    },
    {
     "data": {
      "text/html": [
       "<pre>recommendations finished on 2000/3210 queries. users per second: 34429.3</pre>"
      ],
      "text/plain": [
       "recommendations finished on 2000/3210 queries. users per second: 34429.3"
      ]
     },
     "metadata": {},
     "output_type": "display_data"
    },
    {
     "data": {
      "text/html": [
       "<pre>recommendations finished on 3000/3210 queries. users per second: 31625.9</pre>"
      ],
      "text/plain": [
       "recommendations finished on 3000/3210 queries. users per second: 31625.9"
      ]
     },
     "metadata": {},
     "output_type": "display_data"
    },
    {
     "name": "stdout",
     "output_type": "stream",
     "text": [
      "\n",
      "Precision and recall summary statistics by cutoff\n",
      "+--------+---------------------+----------------------+\n",
      "| cutoff |    mean_precision   |     mean_recall      |\n",
      "+--------+---------------------+----------------------+\n",
      "|   1    | 0.07694704049844248 | 0.047330143895564426 |\n",
      "|   2    |  0.0845794392523365 | 0.10254431835039302  |\n",
      "|   3    | 0.10550363447559703 | 0.20897089281435083  |\n",
      "|   4    | 0.09719626168224295 |  0.2586262167220112  |\n",
      "|   5    | 0.08903426791277248 |  0.2939433061746145  |\n",
      "|   6    |  0.0827102803738317 |  0.3303581556034828  |\n",
      "|   7    | 0.07730307076101467 |  0.3622480829139711  |\n",
      "|   8    | 0.07145638629283486 | 0.38185408179567065  |\n",
      "|   9    | 0.06832814122533747 |  0.412031355197243   |\n",
      "|   10   | 0.06401869158878512 |  0.4279295898805244  |\n",
      "+--------+---------------------+----------------------+\n",
      "[10 rows x 3 columns]\n",
      "\n",
      "\n",
      "Overall RMSE: 1.0\n",
      "\n",
      "Per User RMSE (best)\n",
      "+------------+------+-------+\n",
      "| customerId | rmse | count |\n",
      "+------------+------+-------+\n",
      "|  1021060   | 1.0  |   1   |\n",
      "+------------+------+-------+\n",
      "[1 rows x 3 columns]\n",
      "\n",
      "\n",
      "Per User RMSE (worst)\n",
      "+------------+------+-------+\n",
      "| customerId | rmse | count |\n",
      "+------------+------+-------+\n",
      "|  1787778   | 1.0  |   1   |\n",
      "+------------+------+-------+\n",
      "[1 rows x 3 columns]\n",
      "\n",
      "\n",
      "Per Item RMSE (best)\n",
      "+-----------+------+-------+\n",
      "| productId | rmse | count |\n",
      "+-----------+------+-------+\n",
      "|   124808  | 1.0  |   3   |\n",
      "+-----------+------+-------+\n",
      "[1 rows x 3 columns]\n",
      "\n",
      "\n",
      "Per Item RMSE (worst)\n",
      "+-----------+------+-------+\n",
      "| productId | rmse | count |\n",
      "+-----------+------+-------+\n",
      "|   122925  | 1.0  |   1   |\n",
      "+-----------+------+-------+\n",
      "[1 rows x 3 columns]\n",
      "\n"
     ]
    }
   ],
   "source": [
    "eval_dummy = tc.recommender.util.compare_models(test_data_dummy, models_w_dummy, model_names=names_w_dummy)"
   ]
  },
  {
   "cell_type": "markdown",
   "metadata": {},
   "source": [
    "#### Models on normalized purchase frequency"
   ]
  },
  {
   "cell_type": "code",
   "execution_count": 43,
   "metadata": {
    "scrolled": false
   },
   "outputs": [
    {
     "name": "stdout",
     "output_type": "stream",
     "text": [
      "PROGRESS: Evaluate model Popularity Model on Scaled Purchase Counts\n"
     ]
    },
    {
     "data": {
      "text/html": [
       "<pre>recommendations finished on 1000/2853 queries. users per second: 77285.7</pre>"
      ],
      "text/plain": [
       "recommendations finished on 1000/2853 queries. users per second: 77285.7"
      ]
     },
     "metadata": {},
     "output_type": "display_data"
    },
    {
     "data": {
      "text/html": [
       "<pre>recommendations finished on 2000/2853 queries. users per second: 40092.2</pre>"
      ],
      "text/plain": [
       "recommendations finished on 2000/2853 queries. users per second: 40092.2"
      ]
     },
     "metadata": {},
     "output_type": "display_data"
    },
    {
     "name": "stdout",
     "output_type": "stream",
     "text": [
      "\n",
      "Precision and recall summary statistics by cutoff\n",
      "+--------+------------------------+------------------------+\n",
      "| cutoff |     mean_precision     |      mean_recall       |\n",
      "+--------+------------------------+------------------------+\n",
      "|   1    | 0.0007010164738871365  | 0.0004673443159247576  |\n",
      "|   2    | 0.00035050823694356825 | 0.0004673443159247576  |\n",
      "|   3    | 0.00023367215796237884 | 0.00046734431592475767 |\n",
      "|   4    | 0.00017525411847178413 | 0.00046734431592475767 |\n",
      "|   5    | 0.0002103049421661408  |  0.000817852552868326  |\n",
      "|   6    | 0.00017525411847178396 |  0.000817852552868325  |\n",
      "|   7    | 0.0001502178158329577  | 0.0008178525528683263  |\n",
      "|   8    | 0.00013144058885383833 | 0.0008178525528683264  |\n",
      "|   9    | 0.00015578143864158583 | 0.0009346886318495162  |\n",
      "|   10   | 0.00014020329477742733 | 0.0009346886318495153  |\n",
      "+--------+------------------------+------------------------+\n",
      "[10 rows x 3 columns]\n",
      "\n",
      "\n",
      "Overall RMSE: 0.18209326391824382\n",
      "\n",
      "Per User RMSE (best)\n",
      "+------------+------+-------+\n",
      "| customerId | rmse | count |\n",
      "+------------+------+-------+\n",
      "|  1789945   | 0.0  |   1   |\n",
      "+------------+------+-------+\n",
      "[1 rows x 3 columns]\n",
      "\n",
      "\n",
      "Per User RMSE (worst)\n",
      "+------------+------+-------+\n",
      "| customerId | rmse | count |\n",
      "+------------+------+-------+\n",
      "|  1076219   | 1.0  |   1   |\n",
      "+------------+------+-------+\n",
      "[1 rows x 3 columns]\n",
      "\n",
      "\n",
      "Per Item RMSE (best)\n",
      "+-----------+----------------------+-------+\n",
      "| productId |         rmse         | count |\n",
      "+-----------+----------------------+-------+\n",
      "|   124411  | 0.009174311926605505 |   26  |\n",
      "+-----------+----------------------+-------+\n",
      "[1 rows x 3 columns]\n",
      "\n",
      "\n",
      "Per Item RMSE (worst)\n",
      "+-----------+------+-------+\n",
      "| productId | rmse | count |\n",
      "+-----------+------+-------+\n",
      "|   124659  | 1.0  |   1   |\n",
      "+-----------+------+-------+\n",
      "[1 rows x 3 columns]\n",
      "\n",
      "PROGRESS: Evaluate model Cosine Similarity on Scaled Purchase Counts\n"
     ]
    },
    {
     "data": {
      "text/html": [
       "<pre>recommendations finished on 1000/2853 queries. users per second: 55035.8</pre>"
      ],
      "text/plain": [
       "recommendations finished on 1000/2853 queries. users per second: 55035.8"
      ]
     },
     "metadata": {},
     "output_type": "display_data"
    },
    {
     "data": {
      "text/html": [
       "<pre>recommendations finished on 2000/2853 queries. users per second: 49061.7</pre>"
      ],
      "text/plain": [
       "recommendations finished on 2000/2853 queries. users per second: 49061.7"
      ]
     },
     "metadata": {},
     "output_type": "display_data"
    },
    {
     "name": "stdout",
     "output_type": "stream",
     "text": [
      "\n",
      "Precision and recall summary statistics by cutoff\n",
      "+--------+----------------------+---------------------+\n",
      "| cutoff |    mean_precision    |     mean_recall     |\n",
      "+--------+----------------------+---------------------+\n",
      "|   1    |  0.0960392569225377  | 0.06031412214377515 |\n",
      "|   2    | 0.10375043813529614  | 0.13610610385058336 |\n",
      "|   3    | 0.08809440355181686  |  0.1709441189725101 |\n",
      "|   4    |  0.0779004556607081  | 0.19970916161767893 |\n",
      "|   5    | 0.08131791097090782  |  0.2620533106337521 |\n",
      "|   6    | 0.07997429606262411  | 0.31166524794285044 |\n",
      "|   7    | 0.07616043262730965  | 0.34992614290721546 |\n",
      "|   8    | 0.06953207150368036  |  0.362743060771452  |\n",
      "|   9    | 0.06351988160610669  | 0.37152955118254793 |\n",
      "|   10   | 0.058604977216964595 |  0.3799359070652449 |\n",
      "+--------+----------------------+---------------------+\n",
      "[10 rows x 3 columns]\n",
      "\n",
      "\n",
      "Overall RMSE: 0.18452347923366505\n",
      "\n",
      "Per User RMSE (best)\n",
      "+------------+------+-------+\n",
      "| customerId | rmse | count |\n",
      "+------------+------+-------+\n",
      "|  1177697   | 0.0  |   1   |\n",
      "+------------+------+-------+\n",
      "[1 rows x 3 columns]\n",
      "\n",
      "\n",
      "Per User RMSE (worst)\n",
      "+------------+------+-------+\n",
      "| customerId | rmse | count |\n",
      "+------------+------+-------+\n",
      "|  1748652   | 1.0  |   1   |\n",
      "+------------+------+-------+\n",
      "[1 rows x 3 columns]\n",
      "\n",
      "\n",
      "Per Item RMSE (best)\n",
      "+-----------+------+-------+\n",
      "| productId | rmse | count |\n",
      "+-----------+------+-------+\n",
      "|   124637  | 0.0  |   4   |\n",
      "+-----------+------+-------+\n",
      "[1 rows x 3 columns]\n",
      "\n",
      "\n",
      "Per Item RMSE (worst)\n",
      "+-----------+------+-------+\n",
      "| productId | rmse | count |\n",
      "+-----------+------+-------+\n",
      "|   124659  | 1.0  |   1   |\n",
      "+-----------+------+-------+\n",
      "[1 rows x 3 columns]\n",
      "\n",
      "PROGRESS: Evaluate model Pearson Similarity on Scaled Purchase Counts\n"
     ]
    },
    {
     "data": {
      "text/html": [
       "<pre>recommendations finished on 1000/2853 queries. users per second: 16287.4</pre>"
      ],
      "text/plain": [
       "recommendations finished on 1000/2853 queries. users per second: 16287.4"
      ]
     },
     "metadata": {},
     "output_type": "display_data"
    },
    {
     "data": {
      "text/html": [
       "<pre>recommendations finished on 2000/2853 queries. users per second: 18161</pre>"
      ],
      "text/plain": [
       "recommendations finished on 2000/2853 queries. users per second: 18161"
      ]
     },
     "metadata": {},
     "output_type": "display_data"
    },
    {
     "name": "stdout",
     "output_type": "stream",
     "text": [
      "\n",
      "Precision and recall summary statistics by cutoff\n",
      "+--------+------------------------+------------------------+\n",
      "| cutoff |     mean_precision     |      mean_recall       |\n",
      "+--------+------------------------+------------------------+\n",
      "|   1    | 0.00035050823694356825 | 0.00035050823694356825 |\n",
      "|   2    | 0.00017525411847178413 | 0.00035050823694356825 |\n",
      "|   3    | 0.0002336721579623788  | 0.0005257623554153518  |\n",
      "|   4    | 0.00017525411847178413 | 0.0005257623554153527  |\n",
      "|   5    | 0.00021030494216614087 | 0.0008762705923589212  |\n",
      "|   6    |  0.000175254118471784  | 0.0008762705923589208  |\n",
      "|   7    | 0.0002002904211106104  | 0.0009931066713401086  |\n",
      "|   8    | 0.00017525411847178415 |  0.00099310667134011   |\n",
      "|   9    | 0.00015578143864158588 | 0.0009931066713401093  |\n",
      "|   10   | 0.00014020329477742723 | 0.0009931066713401097  |\n",
      "+--------+------------------------+------------------------+\n",
      "[10 rows x 3 columns]\n",
      "\n",
      "\n",
      "Overall RMSE: 0.18069031570529304\n",
      "\n",
      "Per User RMSE (best)\n",
      "+------------+------+-------+\n",
      "| customerId | rmse | count |\n",
      "+------------+------+-------+\n",
      "|  1789945   | 0.0  |   1   |\n",
      "+------------+------+-------+\n",
      "[1 rows x 3 columns]\n",
      "\n",
      "\n",
      "Per User RMSE (worst)\n",
      "+------------+------+-------+\n",
      "| customerId | rmse | count |\n",
      "+------------+------+-------+\n",
      "|  1076219   | 1.0  |   1   |\n",
      "+------------+------+-------+\n",
      "[1 rows x 3 columns]\n",
      "\n",
      "\n",
      "Per Item RMSE (best)\n",
      "+-----------+----------------------+-------+\n",
      "| productId |         rmse         | count |\n",
      "+-----------+----------------------+-------+\n",
      "|   124411  | 0.009173563049312555 |   26  |\n",
      "+-----------+----------------------+-------+\n",
      "[1 rows x 3 columns]\n",
      "\n",
      "\n",
      "Per Item RMSE (worst)\n",
      "+-----------+------+-------+\n",
      "| productId | rmse | count |\n",
      "+-----------+------+-------+\n",
      "|   124659  | 1.0  |   1   |\n",
      "+-----------+------+-------+\n",
      "[1 rows x 3 columns]\n",
      "\n"
     ]
    }
   ],
   "source": [
    "eval_norm = tc.recommender.util.compare_models(test_data_norm, models_w_norm, model_names=names_w_norm)"
   ]
  },
  {
   "cell_type": "markdown",
   "metadata": {},
   "source": [
    "## 8. Model Selection\n",
    "### 8.1. Evaluation summary\n",
    "* Based on RMSE\n",
    "\n",
    "\n",
    "    1. Popularity on purchase counts: 1.1111750034210488\n",
    "    2. Cosine similarity on purchase counts: 1.9230643981653215\n",
    "    3. Pearson similarity on purchase counts: 1.9231102838192284\n",
    "    \n",
    "    4. Popularity on purchase dummy: 0.9697374361161925\n",
    "    5. Cosine similarity on purchase dummy: 0.9697509978436404\n",
    "    6. Pearson similarity on purchase dummy: 0.9697745320187097\n",
    "    \n",
    "    7. Popularity on scaled purchase counts: 0.16230660626840343\n",
    "    8. Cosine similarity on scaled purchase counts: 0.16229800354111104\n",
    "    9. Pearson similarity on scaled purchase counts: 0.1622982668334026\n",
    "    \n",
    "* Based on Precision and Recall\n",
    "![](../images/model_comparisons.png)\n"
   ]
  },
  {
   "cell_type": "markdown",
   "metadata": {},
   "source": [
    "#### Notes\n",
    "\n",
    "* Popularity v. Collaborative Filtering: We can see that the collaborative filtering algorithms work better than popularity model for purchase counts. Indeed, popularity model doesn’t give any personalizations as it only gives the same list of recommended items to every user.\n",
    "* Precision and recall: Looking at the summary above, we see that the precision and recall for Purchase Counts > Purchase Dummy > Normalized Purchase Counts. However, because the recommendation scores for the normalized purchase data is zero and constant, we choose the dummy. In fact, the RMSE isn’t much different between models on the dummy and those on the normalized data.\n",
    "* RMSE: Since RMSE is higher using pearson distance thancosine, we would choose model the smaller mean squared errors, which in this case would be cosine.\n",
    "Therefore, we select the Cosine similarity on Purchase Dummy approach as our final model."
   ]
  },
  {
   "cell_type": "markdown",
   "metadata": {},
   "source": [
    "## 8. Final Output\n",
    "* In this step, we would like to manipulate format for recommendation output to one we can export to csv, and also a function that will return recommendation list given a customer ID.\n",
    "* We need to first rerun the model using the whole dataset, as we came to a final model using train data and evaluated with test set."
   ]
  },
  {
   "cell_type": "code",
   "execution_count": 44,
   "metadata": {},
   "outputs": [
    {
     "data": {
      "text/html": [
       "<pre>Warning: Ignoring columns purchase_count;</pre>"
      ],
      "text/plain": [
       "Warning: Ignoring columns purchase_count;"
      ]
     },
     "metadata": {},
     "output_type": "display_data"
    },
    {
     "data": {
      "text/html": [
       "<pre>    To use these columns in scoring predictions, use a model that allows the use of additional features.</pre>"
      ],
      "text/plain": [
       "    To use these columns in scoring predictions, use a model that allows the use of additional features."
      ]
     },
     "metadata": {},
     "output_type": "display_data"
    },
    {
     "data": {
      "text/html": [
       "<pre>Preparing data set.</pre>"
      ],
      "text/plain": [
       "Preparing data set."
      ]
     },
     "metadata": {},
     "output_type": "display_data"
    },
    {
     "data": {
      "text/html": [
       "<pre>    Data has 24463 observations with 7987 users and 723 items.</pre>"
      ],
      "text/plain": [
       "    Data has 24463 observations with 7987 users and 723 items."
      ]
     },
     "metadata": {},
     "output_type": "display_data"
    },
    {
     "data": {
      "text/html": [
       "<pre>    Data prepared in: 0.058028s</pre>"
      ],
      "text/plain": [
       "    Data prepared in: 0.058028s"
      ]
     },
     "metadata": {},
     "output_type": "display_data"
    },
    {
     "data": {
      "text/html": [
       "<pre>Training model from provided data.</pre>"
      ],
      "text/plain": [
       "Training model from provided data."
      ]
     },
     "metadata": {},
     "output_type": "display_data"
    },
    {
     "data": {
      "text/html": [
       "<pre>Gathering per-item and per-user statistics.</pre>"
      ],
      "text/plain": [
       "Gathering per-item and per-user statistics."
      ]
     },
     "metadata": {},
     "output_type": "display_data"
    },
    {
     "data": {
      "text/html": [
       "<pre>+--------------------------------+------------+</pre>"
      ],
      "text/plain": [
       "+--------------------------------+------------+"
      ]
     },
     "metadata": {},
     "output_type": "display_data"
    },
    {
     "data": {
      "text/html": [
       "<pre>| Elapsed Time (Item Statistics) | % Complete |</pre>"
      ],
      "text/plain": [
       "| Elapsed Time (Item Statistics) | % Complete |"
      ]
     },
     "metadata": {},
     "output_type": "display_data"
    },
    {
     "data": {
      "text/html": [
       "<pre>+--------------------------------+------------+</pre>"
      ],
      "text/plain": [
       "+--------------------------------+------------+"
      ]
     },
     "metadata": {},
     "output_type": "display_data"
    },
    {
     "data": {
      "text/html": [
       "<pre>| 1.921ms                        | 12.5       |</pre>"
      ],
      "text/plain": [
       "| 1.921ms                        | 12.5       |"
      ]
     },
     "metadata": {},
     "output_type": "display_data"
    },
    {
     "data": {
      "text/html": [
       "<pre>| 6.71ms                         | 100        |</pre>"
      ],
      "text/plain": [
       "| 6.71ms                         | 100        |"
      ]
     },
     "metadata": {},
     "output_type": "display_data"
    },
    {
     "data": {
      "text/html": [
       "<pre>+--------------------------------+------------+</pre>"
      ],
      "text/plain": [
       "+--------------------------------+------------+"
      ]
     },
     "metadata": {},
     "output_type": "display_data"
    },
    {
     "data": {
      "text/html": [
       "<pre>Setting up lookup tables.</pre>"
      ],
      "text/plain": [
       "Setting up lookup tables."
      ]
     },
     "metadata": {},
     "output_type": "display_data"
    },
    {
     "data": {
      "text/html": [
       "<pre>Processing data in one pass using dense lookup tables.</pre>"
      ],
      "text/plain": [
       "Processing data in one pass using dense lookup tables."
      ]
     },
     "metadata": {},
     "output_type": "display_data"
    },
    {
     "data": {
      "text/html": [
       "<pre>+-------------------------------------+------------------+-----------------+</pre>"
      ],
      "text/plain": [
       "+-------------------------------------+------------------+-----------------+"
      ]
     },
     "metadata": {},
     "output_type": "display_data"
    },
    {
     "data": {
      "text/html": [
       "<pre>| Elapsed Time (Constructing Lookups) | Total % Complete | Items Processed |</pre>"
      ],
      "text/plain": [
       "| Elapsed Time (Constructing Lookups) | Total % Complete | Items Processed |"
      ]
     },
     "metadata": {},
     "output_type": "display_data"
    },
    {
     "data": {
      "text/html": [
       "<pre>+-------------------------------------+------------------+-----------------+</pre>"
      ],
      "text/plain": [
       "+-------------------------------------+------------------+-----------------+"
      ]
     },
     "metadata": {},
     "output_type": "display_data"
    },
    {
     "data": {
      "text/html": [
       "<pre>| 20.508ms                            | 0                | 0               |</pre>"
      ],
      "text/plain": [
       "| 20.508ms                            | 0                | 0               |"
      ]
     },
     "metadata": {},
     "output_type": "display_data"
    },
    {
     "data": {
      "text/html": [
       "<pre>| 44.378ms                            | 100              | 723             |</pre>"
      ],
      "text/plain": [
       "| 44.378ms                            | 100              | 723             |"
      ]
     },
     "metadata": {},
     "output_type": "display_data"
    },
    {
     "data": {
      "text/html": [
       "<pre>+-------------------------------------+------------------+-----------------+</pre>"
      ],
      "text/plain": [
       "+-------------------------------------+------------------+-----------------+"
      ]
     },
     "metadata": {},
     "output_type": "display_data"
    },
    {
     "data": {
      "text/html": [
       "<pre>Finalizing lookup tables.</pre>"
      ],
      "text/plain": [
       "Finalizing lookup tables."
      ]
     },
     "metadata": {},
     "output_type": "display_data"
    },
    {
     "data": {
      "text/html": [
       "<pre>Generating candidate set for working with new users.</pre>"
      ],
      "text/plain": [
       "Generating candidate set for working with new users."
      ]
     },
     "metadata": {},
     "output_type": "display_data"
    },
    {
     "data": {
      "text/html": [
       "<pre>Finished training in 0.061558s</pre>"
      ],
      "text/plain": [
       "Finished training in 0.061558s"
      ]
     },
     "metadata": {},
     "output_type": "display_data"
    },
    {
     "data": {
      "text/html": [
       "<pre>recommendations finished on 1000/7987 queries. users per second: 54024.9</pre>"
      ],
      "text/plain": [
       "recommendations finished on 1000/7987 queries. users per second: 54024.9"
      ]
     },
     "metadata": {},
     "output_type": "display_data"
    },
    {
     "data": {
      "text/html": [
       "<pre>recommendations finished on 2000/7987 queries. users per second: 67387.7</pre>"
      ],
      "text/plain": [
       "recommendations finished on 2000/7987 queries. users per second: 67387.7"
      ]
     },
     "metadata": {},
     "output_type": "display_data"
    },
    {
     "data": {
      "text/html": [
       "<pre>recommendations finished on 3000/7987 queries. users per second: 67267.6</pre>"
      ],
      "text/plain": [
       "recommendations finished on 3000/7987 queries. users per second: 67267.6"
      ]
     },
     "metadata": {},
     "output_type": "display_data"
    },
    {
     "data": {
      "text/html": [
       "<pre>recommendations finished on 4000/7987 queries. users per second: 73471.3</pre>"
      ],
      "text/plain": [
       "recommendations finished on 4000/7987 queries. users per second: 73471.3"
      ]
     },
     "metadata": {},
     "output_type": "display_data"
    },
    {
     "data": {
      "text/html": [
       "<pre>recommendations finished on 5000/7987 queries. users per second: 75129.2</pre>"
      ],
      "text/plain": [
       "recommendations finished on 5000/7987 queries. users per second: 75129.2"
      ]
     },
     "metadata": {},
     "output_type": "display_data"
    },
    {
     "data": {
      "text/html": [
       "<pre>recommendations finished on 6000/7987 queries. users per second: 75478.3</pre>"
      ],
      "text/plain": [
       "recommendations finished on 6000/7987 queries. users per second: 75478.3"
      ]
     },
     "metadata": {},
     "output_type": "display_data"
    },
    {
     "data": {
      "text/html": [
       "<pre>recommendations finished on 7000/7987 queries. users per second: 79554.5</pre>"
      ],
      "text/plain": [
       "recommendations finished on 7000/7987 queries. users per second: 79554.5"
      ]
     },
     "metadata": {},
     "output_type": "display_data"
    },
    {
     "name": "stdout",
     "output_type": "stream",
     "text": [
      "+------------+-----------+---------------------+------+\n",
      "| customerId | productId |        score        | rank |\n",
      "+------------+-----------+---------------------+------+\n",
      "|  1076254   |   920085  | 0.18959896763165793 |  1   |\n",
      "|  1076254   |   920091  | 0.16958407560984293 |  2   |\n",
      "|  1076254   |   920080  | 0.16082884867986044 |  3   |\n",
      "|  1076254   |   920087  | 0.15945183237393698 |  4   |\n",
      "|  1076254   |   920084  | 0.14886762698491415 |  5   |\n",
      "|  1076254   |   920082  |  0.1461706260840098 |  6   |\n",
      "|  1076254   |   920081  |  0.1430205206076304 |  7   |\n",
      "|  1076254   |   920086  |  0.1426027516523997 |  8   |\n",
      "|  1076254   |   920094  |  0.1380960444609324 |  9   |\n",
      "|  1076254   |   920088  |  0.1195736825466156 |  10  |\n",
      "|  1268548   |   123579  |  0.1666666567325592 |  1   |\n",
      "|  1268548   |   123822  |  0.1586759388446808 |  2   |\n",
      "|  1268548   |   123547  | 0.14907118678092957 |  3   |\n",
      "|  1268548   |   124725  | 0.14433756470680237 |  4   |\n",
      "|  1268548   |   123714  | 0.14433756470680237 |  5   |\n",
      "|  1268548   |   123683  | 0.14433756470680237 |  6   |\n",
      "|  1268548   |   123447  |  0.1178511381149292 |  7   |\n",
      "|  1268548   |   123915  | 0.11220082640647888 |  8   |\n",
      "|  1268548   |   124727  | 0.10206207633018494 |  9   |\n",
      "|  1268548   |   123913  | 0.10206207633018494 |  10  |\n",
      "|  1709459   |   920085  |  0.1715665856997172 |  1   |\n",
      "|  1709459   |   920087  |  0.1492264668146769 |  2   |\n",
      "|  1709459   |   920082  | 0.14502845207850137 |  3   |\n",
      "|  1709459   |   920091  |  0.1386280655860901 |  4   |\n",
      "|  1709459   |   920084  |  0.1369916796684265 |  5   |\n",
      "|  1709459   |   920080  | 0.13205997149149576 |  6   |\n",
      "|  1709459   |   920090  |  0.1296456257502238 |  7   |\n",
      "|  1709459   |   920081  | 0.10738277435302734 |  8   |\n",
      "|  1709459   |   920083  | 0.10192165772120158 |  9   |\n",
      "|  1709459   |   920094  | 0.09237756331761678 |  10  |\n",
      "+------------+-----------+---------------------+------+\n",
      "[79870 rows x 4 columns]\n",
      "\n"
     ]
    }
   ],
   "source": [
    "users_to_recommend = list(customers[user_id])\n",
    "\n",
    "final_model = tc.item_similarity_recommender.create(tc.SFrame(data_dummy), \n",
    "                                            user_id=user_id, \n",
    "                                            item_id=item_id, \n",
    "                                            target='purchase_dummy', \n",
    "                                            similarity_type='pearson')\n",
    "\n",
    "recom = final_model.recommend(users=users_to_recommend, k=n_rec)\n",
    "recom.print_rows(n_display)"
   ]
  },
  {
   "cell_type": "markdown",
   "metadata": {},
   "source": [
    "### 8.1. CSV output file"
   ]
  },
  {
   "cell_type": "code",
   "execution_count": 45,
   "metadata": {},
   "outputs": [
    {
     "name": "stdout",
     "output_type": "stream",
     "text": [
      "(79870, 4)\n"
     ]
    },
    {
     "data": {
      "text/html": [
       "<div>\n",
       "<style scoped>\n",
       "    .dataframe tbody tr th:only-of-type {\n",
       "        vertical-align: middle;\n",
       "    }\n",
       "\n",
       "    .dataframe tbody tr th {\n",
       "        vertical-align: top;\n",
       "    }\n",
       "\n",
       "    .dataframe thead th {\n",
       "        text-align: right;\n",
       "    }\n",
       "</style>\n",
       "<table border=\"1\" class=\"dataframe\">\n",
       "  <thead>\n",
       "    <tr style=\"text-align: right;\">\n",
       "      <th></th>\n",
       "      <th>customerId</th>\n",
       "      <th>productId</th>\n",
       "      <th>score</th>\n",
       "      <th>rank</th>\n",
       "    </tr>\n",
       "  </thead>\n",
       "  <tbody>\n",
       "    <tr>\n",
       "      <th>0</th>\n",
       "      <td>1076254</td>\n",
       "      <td>920085</td>\n",
       "      <td>0.189599</td>\n",
       "      <td>1</td>\n",
       "    </tr>\n",
       "    <tr>\n",
       "      <th>1</th>\n",
       "      <td>1076254</td>\n",
       "      <td>920091</td>\n",
       "      <td>0.169584</td>\n",
       "      <td>2</td>\n",
       "    </tr>\n",
       "    <tr>\n",
       "      <th>2</th>\n",
       "      <td>1076254</td>\n",
       "      <td>920080</td>\n",
       "      <td>0.160829</td>\n",
       "      <td>3</td>\n",
       "    </tr>\n",
       "    <tr>\n",
       "      <th>3</th>\n",
       "      <td>1076254</td>\n",
       "      <td>920087</td>\n",
       "      <td>0.159452</td>\n",
       "      <td>4</td>\n",
       "    </tr>\n",
       "    <tr>\n",
       "      <th>4</th>\n",
       "      <td>1076254</td>\n",
       "      <td>920084</td>\n",
       "      <td>0.148868</td>\n",
       "      <td>5</td>\n",
       "    </tr>\n",
       "  </tbody>\n",
       "</table>\n",
       "</div>"
      ],
      "text/plain": [
       "   customerId  productId     score  rank\n",
       "0     1076254     920085  0.189599     1\n",
       "1     1076254     920091  0.169584     2\n",
       "2     1076254     920080  0.160829     3\n",
       "3     1076254     920087  0.159452     4\n",
       "4     1076254     920084  0.148868     5"
      ]
     },
     "execution_count": 45,
     "metadata": {},
     "output_type": "execute_result"
    }
   ],
   "source": [
    "df_rec = recom.to_dataframe()\n",
    "print(df_rec.shape)\n",
    "df_rec.head()"
   ]
  },
  {
   "cell_type": "code",
   "execution_count": 46,
   "metadata": {},
   "outputs": [],
   "source": [
    "df_rec['recommendedProducts'] = df_rec.groupby([user_id])[item_id].transform(lambda x: '|'.join(x.astype(str)))\n",
    "df_output = df_rec[['customerId', 'recommendedProducts']].drop_duplicates().sort_values('customerId').set_index('customerId')"
   ]
  },
  {
   "cell_type": "markdown",
   "metadata": {},
   "source": [
    "#### Define a function to create a desired output"
   ]
  },
  {
   "cell_type": "code",
   "execution_count": 47,
   "metadata": {},
   "outputs": [],
   "source": [
    "def create_output(model, users_to_recommend, n_rec, print_csv=True):\n",
    "    recomendation = model.recommend(users=users_to_recommend, k=n_rec)\n",
    "    df_rec = recomendation.to_dataframe()\n",
    "    df_rec['recommendedProducts'] = df_rec.groupby([user_id])[item_id] \\\n",
    "        .transform(lambda x: '|'.join(x.astype(str)))\n",
    "    df_output = df_rec[['customerId', 'recommendedProducts']].drop_duplicates() \\\n",
    "        .sort_values('customerId').set_index('customerId')\n",
    "    if print_csv:\n",
    "        df_output.to_csv('../output/option1_recommendation.csv')\n",
    "        print(\"An output file can be found in 'output' folder with name 'option1_recommendation.csv'\")\n",
    "    return df_output"
   ]
  },
  {
   "cell_type": "code",
   "execution_count": 48,
   "metadata": {},
   "outputs": [
    {
     "data": {
      "text/html": [
       "<pre>recommendations finished on 1000/7987 queries. users per second: 103210</pre>"
      ],
      "text/plain": [
       "recommendations finished on 1000/7987 queries. users per second: 103210"
      ]
     },
     "metadata": {},
     "output_type": "display_data"
    },
    {
     "data": {
      "text/html": [
       "<pre>recommendations finished on 2000/7987 queries. users per second: 107486</pre>"
      ],
      "text/plain": [
       "recommendations finished on 2000/7987 queries. users per second: 107486"
      ]
     },
     "metadata": {},
     "output_type": "display_data"
    },
    {
     "data": {
      "text/html": [
       "<pre>recommendations finished on 3000/7987 queries. users per second: 112267</pre>"
      ],
      "text/plain": [
       "recommendations finished on 3000/7987 queries. users per second: 112267"
      ]
     },
     "metadata": {},
     "output_type": "display_data"
    },
    {
     "data": {
      "text/html": [
       "<pre>recommendations finished on 4000/7987 queries. users per second: 118085</pre>"
      ],
      "text/plain": [
       "recommendations finished on 4000/7987 queries. users per second: 118085"
      ]
     },
     "metadata": {},
     "output_type": "display_data"
    },
    {
     "data": {
      "text/html": [
       "<pre>recommendations finished on 5000/7987 queries. users per second: 121130</pre>"
      ],
      "text/plain": [
       "recommendations finished on 5000/7987 queries. users per second: 121130"
      ]
     },
     "metadata": {},
     "output_type": "display_data"
    },
    {
     "data": {
      "text/html": [
       "<pre>recommendations finished on 6000/7987 queries. users per second: 124185</pre>"
      ],
      "text/plain": [
       "recommendations finished on 6000/7987 queries. users per second: 124185"
      ]
     },
     "metadata": {},
     "output_type": "display_data"
    },
    {
     "data": {
      "text/html": [
       "<pre>recommendations finished on 7000/7987 queries. users per second: 119001</pre>"
      ],
      "text/plain": [
       "recommendations finished on 7000/7987 queries. users per second: 119001"
      ]
     },
     "metadata": {},
     "output_type": "display_data"
    },
    {
     "name": "stdout",
     "output_type": "stream",
     "text": [
      "An output file can be found in 'output' folder with name 'option1_recommendation.csv'\n",
      "(7987, 1)\n"
     ]
    },
    {
     "data": {
      "text/html": [
       "<div>\n",
       "<style scoped>\n",
       "    .dataframe tbody tr th:only-of-type {\n",
       "        vertical-align: middle;\n",
       "    }\n",
       "\n",
       "    .dataframe tbody tr th {\n",
       "        vertical-align: top;\n",
       "    }\n",
       "\n",
       "    .dataframe thead th {\n",
       "        text-align: right;\n",
       "    }\n",
       "</style>\n",
       "<table border=\"1\" class=\"dataframe\">\n",
       "  <thead>\n",
       "    <tr style=\"text-align: right;\">\n",
       "      <th></th>\n",
       "      <th>recommendedProducts</th>\n",
       "    </tr>\n",
       "    <tr>\n",
       "      <th>customerId</th>\n",
       "      <th></th>\n",
       "    </tr>\n",
       "  </thead>\n",
       "  <tbody>\n",
       "    <tr>\n",
       "      <th>360153</th>\n",
       "      <td>124517|123123|124669|124074|120386|124689|1248...</td>\n",
       "    </tr>\n",
       "    <tr>\n",
       "      <th>360478</th>\n",
       "      <td>124859|124517|123123|124669|124074|120386|1246...</td>\n",
       "    </tr>\n",
       "    <tr>\n",
       "      <th>360714</th>\n",
       "      <td>124859|124517|123123|124669|120386|124689|1240...</td>\n",
       "    </tr>\n",
       "    <tr>\n",
       "      <th>360847</th>\n",
       "      <td>124859|124517|123123|124669|124074|120386|1246...</td>\n",
       "    </tr>\n",
       "    <tr>\n",
       "      <th>361280</th>\n",
       "      <td>124859|124517|123123|124669|124074|120386|1246...</td>\n",
       "    </tr>\n",
       "  </tbody>\n",
       "</table>\n",
       "</div>"
      ],
      "text/plain": [
       "                                          recommendedProducts\n",
       "customerId                                                   \n",
       "360153      124517|123123|124669|124074|120386|124689|1248...\n",
       "360478      124859|124517|123123|124669|124074|120386|1246...\n",
       "360714      124859|124517|123123|124669|120386|124689|1240...\n",
       "360847      124859|124517|123123|124669|124074|120386|1246...\n",
       "361280      124859|124517|123123|124669|124074|120386|1246..."
      ]
     },
     "execution_count": 48,
     "metadata": {},
     "output_type": "execute_result"
    }
   ],
   "source": [
    "df_output = create_output(pear_norm, users_to_recommend, n_rec, print_csv=True)\n",
    "print(df_output.shape)\n",
    "df_output.head()"
   ]
  },
  {
   "cell_type": "markdown",
   "metadata": {},
   "source": [
    "### 8.2. Customer recommendation function"
   ]
  },
  {
   "cell_type": "code",
   "execution_count": 49,
   "metadata": {},
   "outputs": [],
   "source": [
    "def customer_recomendation(customer_id):\n",
    "    if customer_id not in df_output.index:\n",
    "        print('Customer not found.')\n",
    "        return customer_id\n",
    "    return df_output.loc[customer_id]"
   ]
  },
  {
   "cell_type": "code",
   "execution_count": 50,
   "metadata": {},
   "outputs": [
    {
     "name": "stdout",
     "output_type": "stream",
     "text": [
      "Customer not found.\n"
     ]
    },
    {
     "data": {
      "text/plain": [
       "4"
      ]
     },
     "execution_count": 50,
     "metadata": {},
     "output_type": "execute_result"
    }
   ],
   "source": [
    "customer_recomendation(4)"
   ]
  },
  {
   "cell_type": "code",
   "execution_count": 51,
   "metadata": {},
   "outputs": [
    {
     "name": "stdout",
     "output_type": "stream",
     "text": [
      "Customer not found.\n"
     ]
    },
    {
     "data": {
      "text/plain": [
       "21"
      ]
     },
     "execution_count": 51,
     "metadata": {},
     "output_type": "execute_result"
    }
   ],
   "source": [
    "customer_recomendation(21)"
   ]
  },
  {
   "cell_type": "markdown",
   "metadata": {
    "collapsed": true
   },
   "source": [
    "## Summary\n",
    "In this exercise, we were able to traverse a step-by-step process for making recommendations to customers. We used Collaborative Filtering approaches with `cosine` and `pearson` measure and compare the models with our baseline popularity model. We also prepared three sets of data that include regular buying count, buying dummy, as well as normalized purchase frequency as our target variable. Using RMSE, precision and recall, we evaluated our models and observed the impact of personalization. Finally, we selected the Cosine approach in dummy purchase data. "
   ]
  },
  {
   "cell_type": "code",
   "execution_count": null,
   "metadata": {
    "collapsed": true
   },
   "outputs": [],
   "source": []
  }
 ],
 "metadata": {
  "kernelspec": {
   "display_name": "Python 3",
   "language": "python",
   "name": "python3"
  },
  "language_info": {
   "codemirror_mode": {
    "name": "ipython",
    "version": 3
   },
   "file_extension": ".py",
   "mimetype": "text/x-python",
   "name": "python",
   "nbconvert_exporter": "python",
   "pygments_lexer": "ipython3",
   "version": "3.7.6"
  }
 },
 "nbformat": 4,
 "nbformat_minor": 2
}
