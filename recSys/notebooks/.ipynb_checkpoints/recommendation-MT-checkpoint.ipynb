{
 "cells": [
  {
   "cell_type": "markdown",
   "metadata": {},
   "source": [
    "# How to Build a Recommendation System for Purchase Data (Step-by-Step)\n",
    "* Description: A documentation on building collaborative filtering models for recommending products to customers\n",
    "* Link: https://medium.com/datadriveninvestor/how-to-build-a-recommendation-system-for-purchase-data-step-by-step-d6d7a78800b6\n",
    "* Author: Moorissa Tjokro\n",
    "\n",
    "## Problem statement\n",
    "In this data challenge, we are building collaborative filtering models for recommending product items. The steps below aim to recommend users their top 10 items to place into their basket. The final output will be a csv file in the `output` folder, and a function that searches for a recommendation list based on a speficied user:\n",
    "* Input: user - customer ID\n",
    "* Returns: ranked list of items (product IDs), that the user is most likely to want to put in his/her (empty) \"basket\"\n",
    "\n",
    "## 1. Import modules\n",
    "* `pandas` and `numpy` for data manipulation\n",
    "* `turicreate` for performing model selection and evaluation\n",
    "* `sklearn` for splitting the data into train and test set"
   ]
  },
  {
   "cell_type": "code",
   "execution_count": 15,
   "metadata": {},
   "outputs": [],
   "source": [
    "#%load_ext autoreload\n",
    "#autoreload 2\n",
    "\n",
    "import pandas as pd\n",
    "import numpy as np\n",
    "import time\n",
    "import turicreate as tc\n",
    "from sklearn.model_selection import train_test_split\n",
    "import data_layer as data_layer"
   ]
  },
  {
   "cell_type": "markdown",
   "metadata": {},
   "source": [
    "## 2. Load data\n",
    "Two datasets are used in this exercise, which can be found in `data` folder: \n",
    "* `recommend_1.csv` consisting of a list of 1000 customer IDs to recommend as output\n",
    "* `trx_data.csv` consisting of user transactions\n",
    "\n",
    "The format is as follows."
   ]
  },
  {
   "cell_type": "code",
   "execution_count": 25,
   "metadata": {},
   "outputs": [],
   "source": [
    "customers = pd.read_csv('../data/recommend_1.csv')\n",
    "transactions = pd.read_csv('../data/trx_data.csv')"
   ]
  },
  {
   "cell_type": "code",
   "execution_count": 26,
   "metadata": {},
   "outputs": [
    {
     "name": "stdout",
     "output_type": "stream",
     "text": [
      "(7987, 1)\n"
     ]
    },
    {
     "data": {
      "text/html": [
       "<div>\n",
       "<style scoped>\n",
       "    .dataframe tbody tr th:only-of-type {\n",
       "        vertical-align: middle;\n",
       "    }\n",
       "\n",
       "    .dataframe tbody tr th {\n",
       "        vertical-align: top;\n",
       "    }\n",
       "\n",
       "    .dataframe thead th {\n",
       "        text-align: right;\n",
       "    }\n",
       "</style>\n",
       "<table border=\"1\" class=\"dataframe\">\n",
       "  <thead>\n",
       "    <tr style=\"text-align: right;\">\n",
       "      <th></th>\n",
       "      <th>customerId</th>\n",
       "    </tr>\n",
       "  </thead>\n",
       "  <tbody>\n",
       "    <tr>\n",
       "      <th>0</th>\n",
       "      <td>1076254</td>\n",
       "    </tr>\n",
       "    <tr>\n",
       "      <th>1</th>\n",
       "      <td>1268548</td>\n",
       "    </tr>\n",
       "    <tr>\n",
       "      <th>2</th>\n",
       "      <td>1709459</td>\n",
       "    </tr>\n",
       "    <tr>\n",
       "      <th>3</th>\n",
       "      <td>1712393</td>\n",
       "    </tr>\n",
       "    <tr>\n",
       "      <th>4</th>\n",
       "      <td>1721053</td>\n",
       "    </tr>\n",
       "  </tbody>\n",
       "</table>\n",
       "</div>"
      ],
      "text/plain": [
       "   customerId\n",
       "0     1076254\n",
       "1     1268548\n",
       "2     1709459\n",
       "3     1712393\n",
       "4     1721053"
      ]
     },
     "execution_count": 26,
     "metadata": {},
     "output_type": "execute_result"
    }
   ],
   "source": [
    "print(customers.shape)\n",
    "customers.head()"
   ]
  },
  {
   "cell_type": "code",
   "execution_count": 27,
   "metadata": {},
   "outputs": [
    {
     "name": "stdout",
     "output_type": "stream",
     "text": [
      "(7987, 2)\n"
     ]
    },
    {
     "data": {
      "text/html": [
       "<div>\n",
       "<style scoped>\n",
       "    .dataframe tbody tr th:only-of-type {\n",
       "        vertical-align: middle;\n",
       "    }\n",
       "\n",
       "    .dataframe tbody tr th {\n",
       "        vertical-align: top;\n",
       "    }\n",
       "\n",
       "    .dataframe thead th {\n",
       "        text-align: right;\n",
       "    }\n",
       "</style>\n",
       "<table border=\"1\" class=\"dataframe\">\n",
       "  <thead>\n",
       "    <tr style=\"text-align: right;\">\n",
       "      <th></th>\n",
       "      <th>customerId</th>\n",
       "      <th>products</th>\n",
       "    </tr>\n",
       "  </thead>\n",
       "  <tbody>\n",
       "    <tr>\n",
       "      <th>0</th>\n",
       "      <td>1076254</td>\n",
       "      <td>124321|920089|920083|920090|123465|123507</td>\n",
       "    </tr>\n",
       "    <tr>\n",
       "      <th>1</th>\n",
       "      <td>1268548</td>\n",
       "      <td>124321|122912</td>\n",
       "    </tr>\n",
       "    <tr>\n",
       "      <th>2</th>\n",
       "      <td>1709459</td>\n",
       "      <td>124321|124464|920089</td>\n",
       "    </tr>\n",
       "    <tr>\n",
       "      <th>3</th>\n",
       "      <td>1712393</td>\n",
       "      <td>124321</td>\n",
       "    </tr>\n",
       "    <tr>\n",
       "      <th>4</th>\n",
       "      <td>1721053</td>\n",
       "      <td>124321|123661|124640</td>\n",
       "    </tr>\n",
       "  </tbody>\n",
       "</table>\n",
       "</div>"
      ],
      "text/plain": [
       "   customerId                                   products\n",
       "0     1076254  124321|920089|920083|920090|123465|123507\n",
       "1     1268548                              124321|122912\n",
       "2     1709459                       124321|124464|920089\n",
       "3     1712393                                     124321\n",
       "4     1721053                       124321|123661|124640"
      ]
     },
     "execution_count": 27,
     "metadata": {},
     "output_type": "execute_result"
    }
   ],
   "source": [
    "print(transactions.shape)\n",
    "transactions.head()"
   ]
  },
  {
   "cell_type": "markdown",
   "metadata": {},
   "source": [
    "## 3. Data preparation\n",
    "* Our goal here is to break down each list of items in the `products` column into rows and count the number of products bought by a user"
   ]
  },
  {
   "cell_type": "code",
   "execution_count": 28,
   "metadata": {},
   "outputs": [
    {
     "data": {
      "text/html": [
       "<div>\n",
       "<style scoped>\n",
       "    .dataframe tbody tr th:only-of-type {\n",
       "        vertical-align: middle;\n",
       "    }\n",
       "\n",
       "    .dataframe tbody tr th {\n",
       "        vertical-align: top;\n",
       "    }\n",
       "\n",
       "    .dataframe thead th {\n",
       "        text-align: right;\n",
       "    }\n",
       "</style>\n",
       "<table border=\"1\" class=\"dataframe\">\n",
       "  <thead>\n",
       "    <tr style=\"text-align: right;\">\n",
       "      <th></th>\n",
       "      <th>customerId</th>\n",
       "      <th>0</th>\n",
       "      <th>1</th>\n",
       "      <th>2</th>\n",
       "      <th>3</th>\n",
       "      <th>4</th>\n",
       "      <th>5</th>\n",
       "    </tr>\n",
       "  </thead>\n",
       "  <tbody>\n",
       "    <tr>\n",
       "      <th>0</th>\n",
       "      <td>1076254</td>\n",
       "      <td>124321.0</td>\n",
       "      <td>920089.0</td>\n",
       "      <td>920083.0</td>\n",
       "      <td>920090.0</td>\n",
       "      <td>123465.0</td>\n",
       "      <td>123507.0</td>\n",
       "    </tr>\n",
       "    <tr>\n",
       "      <th>1</th>\n",
       "      <td>1268548</td>\n",
       "      <td>124321.0</td>\n",
       "      <td>122912.0</td>\n",
       "      <td>NaN</td>\n",
       "      <td>NaN</td>\n",
       "      <td>NaN</td>\n",
       "      <td>NaN</td>\n",
       "    </tr>\n",
       "  </tbody>\n",
       "</table>\n",
       "</div>"
      ],
      "text/plain": [
       "   customerId         0         1         2         3         4         5\n",
       "0     1076254  124321.0  920089.0  920083.0  920090.0  123465.0  123507.0\n",
       "1     1268548  124321.0  122912.0       NaN       NaN       NaN       NaN"
      ]
     },
     "execution_count": 28,
     "metadata": {},
     "output_type": "execute_result"
    }
   ],
   "source": [
    "# example 1: split product items\n",
    "transactions['products'] = transactions['products'].apply(lambda x: [int(i) for i in x.split('|')])\n",
    "transactions.head(2).set_index('customerId')['products'].apply(pd.Series).reset_index()"
   ]
  },
  {
   "cell_type": "code",
   "execution_count": 7,
   "metadata": {},
   "outputs": [
    {
     "data": {
      "text/html": [
       "<div>\n",
       "<style scoped>\n",
       "    .dataframe tbody tr th:only-of-type {\n",
       "        vertical-align: middle;\n",
       "    }\n",
       "\n",
       "    .dataframe tbody tr th {\n",
       "        vertical-align: top;\n",
       "    }\n",
       "\n",
       "    .dataframe thead th {\n",
       "        text-align: right;\n",
       "    }\n",
       "</style>\n",
       "<table border=\"1\" class=\"dataframe\">\n",
       "  <thead>\n",
       "    <tr style=\"text-align: right;\">\n",
       "      <th></th>\n",
       "      <th>customerId</th>\n",
       "      <th>productId</th>\n",
       "      <th>purchase_count</th>\n",
       "    </tr>\n",
       "  </thead>\n",
       "  <tbody>\n",
       "    <tr>\n",
       "      <th>0</th>\n",
       "      <td>1076254</td>\n",
       "      <td>EX123465</td>\n",
       "      <td>1</td>\n",
       "    </tr>\n",
       "    <tr>\n",
       "      <th>1</th>\n",
       "      <td>1076254</td>\n",
       "      <td>EX123507</td>\n",
       "      <td>1</td>\n",
       "    </tr>\n",
       "    <tr>\n",
       "      <th>2</th>\n",
       "      <td>1076254</td>\n",
       "      <td>EX124321</td>\n",
       "      <td>1</td>\n",
       "    </tr>\n",
       "    <tr>\n",
       "      <th>3</th>\n",
       "      <td>1076254</td>\n",
       "      <td>EX920083</td>\n",
       "      <td>1</td>\n",
       "    </tr>\n",
       "    <tr>\n",
       "      <th>4</th>\n",
       "      <td>1076254</td>\n",
       "      <td>EX920089</td>\n",
       "      <td>1</td>\n",
       "    </tr>\n",
       "    <tr>\n",
       "      <th>5</th>\n",
       "      <td>1076254</td>\n",
       "      <td>EX920090</td>\n",
       "      <td>1</td>\n",
       "    </tr>\n",
       "    <tr>\n",
       "      <th>6</th>\n",
       "      <td>1268548</td>\n",
       "      <td>EX122912</td>\n",
       "      <td>1</td>\n",
       "    </tr>\n",
       "    <tr>\n",
       "      <th>7</th>\n",
       "      <td>1268548</td>\n",
       "      <td>EX124321</td>\n",
       "      <td>1</td>\n",
       "    </tr>\n",
       "  </tbody>\n",
       "</table>\n",
       "</div>"
      ],
      "text/plain": [
       "   customerId productId  purchase_count\n",
       "0     1076254  EX123465               1\n",
       "1     1076254  EX123507               1\n",
       "2     1076254  EX124321               1\n",
       "3     1076254  EX920083               1\n",
       "4     1076254  EX920089               1\n",
       "5     1076254  EX920090               1\n",
       "6     1268548  EX122912               1\n",
       "7     1268548  EX124321               1"
      ]
     },
     "execution_count": 7,
     "metadata": {},
     "output_type": "execute_result"
    }
   ],
   "source": [
    "# example 2: organize a given table into a dataframe with customerId, single productId, and purchase count\n",
    "pd.melt(transactions.head(2).set_index('customerId')['products'].apply(pd.Series).reset_index(), \n",
    "             id_vars=['customerId'],\n",
    "             value_name='products') \\\n",
    "    .dropna().drop(['variable'], axis=1) \\\n",
    "    .groupby(['customerId', 'products']) \\\n",
    "    .agg({'products': 'count'}) \\\n",
    "    .rename(columns={'products': 'purchase_count'}) \\\n",
    "    .reset_index() \\\n",
    "    .rename(columns={'products': 'productId'})"
   ]
  },
  {
   "cell_type": "markdown",
   "metadata": {},
   "source": [
    "### 3.1. Create data with user, item, and target field\n",
    "* This table will be an input for our modeling later\n",
    "    * In this case, our user is `customerId`, `productId`, and `purchase_count`"
   ]
  },
  {
   "cell_type": "code",
   "execution_count": 29,
   "metadata": {},
   "outputs": [
    {
     "name": "stdout",
     "output_type": "stream",
     "text": [
      "Execution time: 0.06 minutes\n"
     ]
    }
   ],
   "source": [
    "s=time.time()\n",
    "\n",
    "data = pd.melt(transactions.set_index('customerId')['products'].apply(pd.Series).reset_index(), \n",
    "             id_vars=['customerId'],\n",
    "             value_name='products') \\\n",
    "    .dropna().drop(['variable'], axis=1) \\\n",
    "    .groupby(['customerId', 'products']) \\\n",
    "    .agg({'products': 'count'}) \\\n",
    "    .rename(columns={'products': 'purchase_count'}) \\\n",
    "    .reset_index() \\\n",
    "    .rename(columns={'products': 'productId'})\n",
    "data['productId'] = data['productId'].astype(np.int64)\n",
    "\n",
    "print(\"Execution time:\", round((time.time()-s)/60,2), \"minutes\")"
   ]
  },
  {
   "cell_type": "code",
   "execution_count": 31,
   "metadata": {},
   "outputs": [
    {
     "name": "stdout",
     "output_type": "stream",
     "text": [
      "(24463, 3)\n"
     ]
    },
    {
     "data": {
      "text/html": [
       "<div>\n",
       "<style scoped>\n",
       "    .dataframe tbody tr th:only-of-type {\n",
       "        vertical-align: middle;\n",
       "    }\n",
       "\n",
       "    .dataframe tbody tr th {\n",
       "        vertical-align: top;\n",
       "    }\n",
       "\n",
       "    .dataframe thead th {\n",
       "        text-align: right;\n",
       "    }\n",
       "</style>\n",
       "<table border=\"1\" class=\"dataframe\">\n",
       "  <thead>\n",
       "    <tr style=\"text-align: right;\">\n",
       "      <th></th>\n",
       "      <th>customerId</th>\n",
       "      <th>productId</th>\n",
       "      <th>purchase_count</th>\n",
       "    </tr>\n",
       "  </thead>\n",
       "  <tbody>\n",
       "    <tr>\n",
       "      <th>0</th>\n",
       "      <td>360153</td>\n",
       "      <td>123750</td>\n",
       "      <td>1</td>\n",
       "    </tr>\n",
       "    <tr>\n",
       "      <th>1</th>\n",
       "      <td>360153</td>\n",
       "      <td>920086</td>\n",
       "      <td>1</td>\n",
       "    </tr>\n",
       "    <tr>\n",
       "      <th>2</th>\n",
       "      <td>360478</td>\n",
       "      <td>124352</td>\n",
       "      <td>1</td>\n",
       "    </tr>\n",
       "    <tr>\n",
       "      <th>3</th>\n",
       "      <td>360714</td>\n",
       "      <td>124603</td>\n",
       "      <td>1</td>\n",
       "    </tr>\n",
       "    <tr>\n",
       "      <th>4</th>\n",
       "      <td>360847</td>\n",
       "      <td>124224</td>\n",
       "      <td>1</td>\n",
       "    </tr>\n",
       "  </tbody>\n",
       "</table>\n",
       "</div>"
      ],
      "text/plain": [
       "   customerId  productId  purchase_count\n",
       "0      360153     123750               1\n",
       "1      360153     920086               1\n",
       "2      360478     124352               1\n",
       "3      360714     124603               1\n",
       "4      360847     124224               1"
      ]
     },
     "execution_count": 31,
     "metadata": {},
     "output_type": "execute_result"
    }
   ],
   "source": [
    "print(data.shape)\n",
    "data.head()"
   ]
  },
  {
   "cell_type": "markdown",
   "metadata": {},
   "source": [
    "### 3.2. Create dummy\n",
    "* Dummy for marking whether a customer bought that item or not.\n",
    "* If one buys an item, then `purchase_dummy` are marked as 1\n",
    "* Why create a dummy instead of normalizing it, you ask?\n",
    "    * Normalizing the purchase count, say by each user, would not work because customers may have different buying frequency don't have the same taste\n",
    "    * However, we can normalize items by purchase frequency across all users, which is done in section 3.3. below."
   ]
  },
  {
   "cell_type": "code",
   "execution_count": 32,
   "metadata": {},
   "outputs": [],
   "source": [
    "def create_data_dummy(data):\n",
    "    data_dummy = data.copy()\n",
    "    data_dummy['purchase_dummy'] = 1\n",
    "    return data_dummy"
   ]
  },
  {
   "cell_type": "code",
   "execution_count": 33,
   "metadata": {},
   "outputs": [],
   "source": [
    "data_dummy = create_data_dummy(data)"
   ]
  },
  {
   "cell_type": "markdown",
   "metadata": {},
   "source": [
    "### 3.3. Normalize item values across users\n",
    "* To do this, we normalize purchase frequency of each item across users by first creating a user-item matrix as follows"
   ]
  },
  {
   "cell_type": "code",
   "execution_count": 34,
   "metadata": {},
   "outputs": [
    {
     "data": {
      "text/html": [
       "<div>\n",
       "<style scoped>\n",
       "    .dataframe tbody tr th:only-of-type {\n",
       "        vertical-align: middle;\n",
       "    }\n",
       "\n",
       "    .dataframe tbody tr th {\n",
       "        vertical-align: top;\n",
       "    }\n",
       "\n",
       "    .dataframe thead th {\n",
       "        text-align: right;\n",
       "    }\n",
       "</style>\n",
       "<table border=\"1\" class=\"dataframe\">\n",
       "  <thead>\n",
       "    <tr style=\"text-align: right;\">\n",
       "      <th>productId</th>\n",
       "      <th>10001</th>\n",
       "      <th>10004</th>\n",
       "      <th>10005</th>\n",
       "      <th>10006</th>\n",
       "      <th>10007</th>\n",
       "      <th>10008</th>\n",
       "      <th>11119</th>\n",
       "      <th>120014</th>\n",
       "      <th>120018</th>\n",
       "      <th>120192</th>\n",
       "      <th>...</th>\n",
       "      <th>920107</th>\n",
       "      <th>920113</th>\n",
       "      <th>920115</th>\n",
       "      <th>920121</th>\n",
       "      <th>920122</th>\n",
       "      <th>920128</th>\n",
       "      <th>920135</th>\n",
       "      <th>920137</th>\n",
       "      <th>920139</th>\n",
       "      <th>920140</th>\n",
       "    </tr>\n",
       "    <tr>\n",
       "      <th>customerId</th>\n",
       "      <th></th>\n",
       "      <th></th>\n",
       "      <th></th>\n",
       "      <th></th>\n",
       "      <th></th>\n",
       "      <th></th>\n",
       "      <th></th>\n",
       "      <th></th>\n",
       "      <th></th>\n",
       "      <th></th>\n",
       "      <th></th>\n",
       "      <th></th>\n",
       "      <th></th>\n",
       "      <th></th>\n",
       "      <th></th>\n",
       "      <th></th>\n",
       "      <th></th>\n",
       "      <th></th>\n",
       "      <th></th>\n",
       "      <th></th>\n",
       "      <th></th>\n",
       "    </tr>\n",
       "  </thead>\n",
       "  <tbody>\n",
       "    <tr>\n",
       "      <th>360153</th>\n",
       "      <td>NaN</td>\n",
       "      <td>NaN</td>\n",
       "      <td>NaN</td>\n",
       "      <td>NaN</td>\n",
       "      <td>NaN</td>\n",
       "      <td>NaN</td>\n",
       "      <td>NaN</td>\n",
       "      <td>NaN</td>\n",
       "      <td>NaN</td>\n",
       "      <td>NaN</td>\n",
       "      <td>...</td>\n",
       "      <td>NaN</td>\n",
       "      <td>NaN</td>\n",
       "      <td>NaN</td>\n",
       "      <td>NaN</td>\n",
       "      <td>NaN</td>\n",
       "      <td>NaN</td>\n",
       "      <td>NaN</td>\n",
       "      <td>NaN</td>\n",
       "      <td>NaN</td>\n",
       "      <td>NaN</td>\n",
       "    </tr>\n",
       "    <tr>\n",
       "      <th>360478</th>\n",
       "      <td>NaN</td>\n",
       "      <td>NaN</td>\n",
       "      <td>NaN</td>\n",
       "      <td>NaN</td>\n",
       "      <td>NaN</td>\n",
       "      <td>NaN</td>\n",
       "      <td>NaN</td>\n",
       "      <td>NaN</td>\n",
       "      <td>NaN</td>\n",
       "      <td>NaN</td>\n",
       "      <td>...</td>\n",
       "      <td>NaN</td>\n",
       "      <td>NaN</td>\n",
       "      <td>NaN</td>\n",
       "      <td>NaN</td>\n",
       "      <td>NaN</td>\n",
       "      <td>NaN</td>\n",
       "      <td>NaN</td>\n",
       "      <td>NaN</td>\n",
       "      <td>NaN</td>\n",
       "      <td>NaN</td>\n",
       "    </tr>\n",
       "    <tr>\n",
       "      <th>360714</th>\n",
       "      <td>NaN</td>\n",
       "      <td>NaN</td>\n",
       "      <td>NaN</td>\n",
       "      <td>NaN</td>\n",
       "      <td>NaN</td>\n",
       "      <td>NaN</td>\n",
       "      <td>NaN</td>\n",
       "      <td>NaN</td>\n",
       "      <td>NaN</td>\n",
       "      <td>NaN</td>\n",
       "      <td>...</td>\n",
       "      <td>NaN</td>\n",
       "      <td>NaN</td>\n",
       "      <td>NaN</td>\n",
       "      <td>NaN</td>\n",
       "      <td>NaN</td>\n",
       "      <td>NaN</td>\n",
       "      <td>NaN</td>\n",
       "      <td>NaN</td>\n",
       "      <td>NaN</td>\n",
       "      <td>NaN</td>\n",
       "    </tr>\n",
       "    <tr>\n",
       "      <th>360847</th>\n",
       "      <td>NaN</td>\n",
       "      <td>NaN</td>\n",
       "      <td>NaN</td>\n",
       "      <td>NaN</td>\n",
       "      <td>NaN</td>\n",
       "      <td>NaN</td>\n",
       "      <td>NaN</td>\n",
       "      <td>NaN</td>\n",
       "      <td>NaN</td>\n",
       "      <td>NaN</td>\n",
       "      <td>...</td>\n",
       "      <td>NaN</td>\n",
       "      <td>NaN</td>\n",
       "      <td>NaN</td>\n",
       "      <td>NaN</td>\n",
       "      <td>NaN</td>\n",
       "      <td>NaN</td>\n",
       "      <td>NaN</td>\n",
       "      <td>NaN</td>\n",
       "      <td>NaN</td>\n",
       "      <td>NaN</td>\n",
       "    </tr>\n",
       "    <tr>\n",
       "      <th>361280</th>\n",
       "      <td>NaN</td>\n",
       "      <td>NaN</td>\n",
       "      <td>NaN</td>\n",
       "      <td>NaN</td>\n",
       "      <td>NaN</td>\n",
       "      <td>NaN</td>\n",
       "      <td>NaN</td>\n",
       "      <td>NaN</td>\n",
       "      <td>NaN</td>\n",
       "      <td>NaN</td>\n",
       "      <td>...</td>\n",
       "      <td>NaN</td>\n",
       "      <td>NaN</td>\n",
       "      <td>NaN</td>\n",
       "      <td>NaN</td>\n",
       "      <td>NaN</td>\n",
       "      <td>NaN</td>\n",
       "      <td>NaN</td>\n",
       "      <td>NaN</td>\n",
       "      <td>NaN</td>\n",
       "      <td>NaN</td>\n",
       "    </tr>\n",
       "  </tbody>\n",
       "</table>\n",
       "<p>5 rows × 723 columns</p>\n",
       "</div>"
      ],
      "text/plain": [
       "productId   10001   10004   10005   10006   10007   10008   11119   120014  \\\n",
       "customerId                                                                   \n",
       "360153         NaN     NaN     NaN     NaN     NaN     NaN     NaN     NaN   \n",
       "360478         NaN     NaN     NaN     NaN     NaN     NaN     NaN     NaN   \n",
       "360714         NaN     NaN     NaN     NaN     NaN     NaN     NaN     NaN   \n",
       "360847         NaN     NaN     NaN     NaN     NaN     NaN     NaN     NaN   \n",
       "361280         NaN     NaN     NaN     NaN     NaN     NaN     NaN     NaN   \n",
       "\n",
       "productId   120018  120192  ...  920107  920113  920115  920121  920122  \\\n",
       "customerId                  ...                                           \n",
       "360153         NaN     NaN  ...     NaN     NaN     NaN     NaN     NaN   \n",
       "360478         NaN     NaN  ...     NaN     NaN     NaN     NaN     NaN   \n",
       "360714         NaN     NaN  ...     NaN     NaN     NaN     NaN     NaN   \n",
       "360847         NaN     NaN  ...     NaN     NaN     NaN     NaN     NaN   \n",
       "361280         NaN     NaN  ...     NaN     NaN     NaN     NaN     NaN   \n",
       "\n",
       "productId   920128  920135  920137  920139  920140  \n",
       "customerId                                          \n",
       "360153         NaN     NaN     NaN     NaN     NaN  \n",
       "360478         NaN     NaN     NaN     NaN     NaN  \n",
       "360714         NaN     NaN     NaN     NaN     NaN  \n",
       "360847         NaN     NaN     NaN     NaN     NaN  \n",
       "361280         NaN     NaN     NaN     NaN     NaN  \n",
       "\n",
       "[5 rows x 723 columns]"
      ]
     },
     "execution_count": 34,
     "metadata": {},
     "output_type": "execute_result"
    }
   ],
   "source": [
    "df_matrix = pd.pivot_table(data, values='purchase_count', index='customerId', columns='productId')\n",
    "df_matrix.head()"
   ]
  },
  {
   "cell_type": "code",
   "execution_count": 35,
   "metadata": {},
   "outputs": [
    {
     "data": {
      "text/plain": [
       "(7987, 723)"
      ]
     },
     "execution_count": 35,
     "metadata": {},
     "output_type": "execute_result"
    }
   ],
   "source": [
    "(df_matrix.shape)"
   ]
  },
  {
   "cell_type": "code",
   "execution_count": 36,
   "metadata": {},
   "outputs": [
    {
     "name": "stdout",
     "output_type": "stream",
     "text": [
      "(7987, 723)\n"
     ]
    },
    {
     "data": {
      "text/html": [
       "<div>\n",
       "<style scoped>\n",
       "    .dataframe tbody tr th:only-of-type {\n",
       "        vertical-align: middle;\n",
       "    }\n",
       "\n",
       "    .dataframe tbody tr th {\n",
       "        vertical-align: top;\n",
       "    }\n",
       "\n",
       "    .dataframe thead th {\n",
       "        text-align: right;\n",
       "    }\n",
       "</style>\n",
       "<table border=\"1\" class=\"dataframe\">\n",
       "  <thead>\n",
       "    <tr style=\"text-align: right;\">\n",
       "      <th>productId</th>\n",
       "      <th>10001</th>\n",
       "      <th>10004</th>\n",
       "      <th>10005</th>\n",
       "      <th>10006</th>\n",
       "      <th>10007</th>\n",
       "      <th>10008</th>\n",
       "      <th>11119</th>\n",
       "      <th>120014</th>\n",
       "      <th>120018</th>\n",
       "      <th>120192</th>\n",
       "      <th>...</th>\n",
       "      <th>920107</th>\n",
       "      <th>920113</th>\n",
       "      <th>920115</th>\n",
       "      <th>920121</th>\n",
       "      <th>920122</th>\n",
       "      <th>920128</th>\n",
       "      <th>920135</th>\n",
       "      <th>920137</th>\n",
       "      <th>920139</th>\n",
       "      <th>920140</th>\n",
       "    </tr>\n",
       "    <tr>\n",
       "      <th>customerId</th>\n",
       "      <th></th>\n",
       "      <th></th>\n",
       "      <th></th>\n",
       "      <th></th>\n",
       "      <th></th>\n",
       "      <th></th>\n",
       "      <th></th>\n",
       "      <th></th>\n",
       "      <th></th>\n",
       "      <th></th>\n",
       "      <th></th>\n",
       "      <th></th>\n",
       "      <th></th>\n",
       "      <th></th>\n",
       "      <th></th>\n",
       "      <th></th>\n",
       "      <th></th>\n",
       "      <th></th>\n",
       "      <th></th>\n",
       "      <th></th>\n",
       "      <th></th>\n",
       "    </tr>\n",
       "  </thead>\n",
       "  <tbody>\n",
       "    <tr>\n",
       "      <th>360153</th>\n",
       "      <td>NaN</td>\n",
       "      <td>NaN</td>\n",
       "      <td>NaN</td>\n",
       "      <td>NaN</td>\n",
       "      <td>NaN</td>\n",
       "      <td>NaN</td>\n",
       "      <td>NaN</td>\n",
       "      <td>NaN</td>\n",
       "      <td>NaN</td>\n",
       "      <td>NaN</td>\n",
       "      <td>...</td>\n",
       "      <td>NaN</td>\n",
       "      <td>NaN</td>\n",
       "      <td>NaN</td>\n",
       "      <td>NaN</td>\n",
       "      <td>NaN</td>\n",
       "      <td>NaN</td>\n",
       "      <td>NaN</td>\n",
       "      <td>NaN</td>\n",
       "      <td>NaN</td>\n",
       "      <td>NaN</td>\n",
       "    </tr>\n",
       "    <tr>\n",
       "      <th>360478</th>\n",
       "      <td>NaN</td>\n",
       "      <td>NaN</td>\n",
       "      <td>NaN</td>\n",
       "      <td>NaN</td>\n",
       "      <td>NaN</td>\n",
       "      <td>NaN</td>\n",
       "      <td>NaN</td>\n",
       "      <td>NaN</td>\n",
       "      <td>NaN</td>\n",
       "      <td>NaN</td>\n",
       "      <td>...</td>\n",
       "      <td>NaN</td>\n",
       "      <td>NaN</td>\n",
       "      <td>NaN</td>\n",
       "      <td>NaN</td>\n",
       "      <td>NaN</td>\n",
       "      <td>NaN</td>\n",
       "      <td>NaN</td>\n",
       "      <td>NaN</td>\n",
       "      <td>NaN</td>\n",
       "      <td>NaN</td>\n",
       "    </tr>\n",
       "    <tr>\n",
       "      <th>360714</th>\n",
       "      <td>NaN</td>\n",
       "      <td>NaN</td>\n",
       "      <td>NaN</td>\n",
       "      <td>NaN</td>\n",
       "      <td>NaN</td>\n",
       "      <td>NaN</td>\n",
       "      <td>NaN</td>\n",
       "      <td>NaN</td>\n",
       "      <td>NaN</td>\n",
       "      <td>NaN</td>\n",
       "      <td>...</td>\n",
       "      <td>NaN</td>\n",
       "      <td>NaN</td>\n",
       "      <td>NaN</td>\n",
       "      <td>NaN</td>\n",
       "      <td>NaN</td>\n",
       "      <td>NaN</td>\n",
       "      <td>NaN</td>\n",
       "      <td>NaN</td>\n",
       "      <td>NaN</td>\n",
       "      <td>NaN</td>\n",
       "    </tr>\n",
       "    <tr>\n",
       "      <th>360847</th>\n",
       "      <td>NaN</td>\n",
       "      <td>NaN</td>\n",
       "      <td>NaN</td>\n",
       "      <td>NaN</td>\n",
       "      <td>NaN</td>\n",
       "      <td>NaN</td>\n",
       "      <td>NaN</td>\n",
       "      <td>NaN</td>\n",
       "      <td>NaN</td>\n",
       "      <td>NaN</td>\n",
       "      <td>...</td>\n",
       "      <td>NaN</td>\n",
       "      <td>NaN</td>\n",
       "      <td>NaN</td>\n",
       "      <td>NaN</td>\n",
       "      <td>NaN</td>\n",
       "      <td>NaN</td>\n",
       "      <td>NaN</td>\n",
       "      <td>NaN</td>\n",
       "      <td>NaN</td>\n",
       "      <td>NaN</td>\n",
       "    </tr>\n",
       "    <tr>\n",
       "      <th>361280</th>\n",
       "      <td>NaN</td>\n",
       "      <td>NaN</td>\n",
       "      <td>NaN</td>\n",
       "      <td>NaN</td>\n",
       "      <td>NaN</td>\n",
       "      <td>NaN</td>\n",
       "      <td>NaN</td>\n",
       "      <td>NaN</td>\n",
       "      <td>NaN</td>\n",
       "      <td>NaN</td>\n",
       "      <td>...</td>\n",
       "      <td>NaN</td>\n",
       "      <td>NaN</td>\n",
       "      <td>NaN</td>\n",
       "      <td>NaN</td>\n",
       "      <td>NaN</td>\n",
       "      <td>NaN</td>\n",
       "      <td>NaN</td>\n",
       "      <td>NaN</td>\n",
       "      <td>NaN</td>\n",
       "      <td>NaN</td>\n",
       "    </tr>\n",
       "  </tbody>\n",
       "</table>\n",
       "<p>5 rows × 723 columns</p>\n",
       "</div>"
      ],
      "text/plain": [
       "productId   10001   10004   10005   10006   10007   10008   11119   120014  \\\n",
       "customerId                                                                   \n",
       "360153         NaN     NaN     NaN     NaN     NaN     NaN     NaN     NaN   \n",
       "360478         NaN     NaN     NaN     NaN     NaN     NaN     NaN     NaN   \n",
       "360714         NaN     NaN     NaN     NaN     NaN     NaN     NaN     NaN   \n",
       "360847         NaN     NaN     NaN     NaN     NaN     NaN     NaN     NaN   \n",
       "361280         NaN     NaN     NaN     NaN     NaN     NaN     NaN     NaN   \n",
       "\n",
       "productId   120018  120192  ...  920107  920113  920115  920121  920122  \\\n",
       "customerId                  ...                                           \n",
       "360153         NaN     NaN  ...     NaN     NaN     NaN     NaN     NaN   \n",
       "360478         NaN     NaN  ...     NaN     NaN     NaN     NaN     NaN   \n",
       "360714         NaN     NaN  ...     NaN     NaN     NaN     NaN     NaN   \n",
       "360847         NaN     NaN  ...     NaN     NaN     NaN     NaN     NaN   \n",
       "361280         NaN     NaN  ...     NaN     NaN     NaN     NaN     NaN   \n",
       "\n",
       "productId   920128  920135  920137  920139  920140  \n",
       "customerId                                          \n",
       "360153         NaN     NaN     NaN     NaN     NaN  \n",
       "360478         NaN     NaN     NaN     NaN     NaN  \n",
       "360714         NaN     NaN     NaN     NaN     NaN  \n",
       "360847         NaN     NaN     NaN     NaN     NaN  \n",
       "361280         NaN     NaN     NaN     NaN     NaN  \n",
       "\n",
       "[5 rows x 723 columns]"
      ]
     },
     "execution_count": 36,
     "metadata": {},
     "output_type": "execute_result"
    }
   ],
   "source": [
    "df_matrix_norm = (df_matrix-df_matrix.min())/(df_matrix.max()-df_matrix.min())\n",
    "print(df_matrix_norm.shape)\n",
    "df_matrix_norm.head()"
   ]
  },
  {
   "cell_type": "code",
   "execution_count": 37,
   "metadata": {},
   "outputs": [
    {
     "name": "stdout",
     "output_type": "stream",
     "text": [
      "(20746, 3)\n"
     ]
    },
    {
     "data": {
      "text/html": [
       "<div>\n",
       "<style scoped>\n",
       "    .dataframe tbody tr th:only-of-type {\n",
       "        vertical-align: middle;\n",
       "    }\n",
       "\n",
       "    .dataframe tbody tr th {\n",
       "        vertical-align: top;\n",
       "    }\n",
       "\n",
       "    .dataframe thead th {\n",
       "        text-align: right;\n",
       "    }\n",
       "</style>\n",
       "<table border=\"1\" class=\"dataframe\">\n",
       "  <thead>\n",
       "    <tr style=\"text-align: right;\">\n",
       "      <th></th>\n",
       "      <th>customerId</th>\n",
       "      <th>productId</th>\n",
       "      <th>scaled_purchase_freq</th>\n",
       "    </tr>\n",
       "  </thead>\n",
       "  <tbody>\n",
       "    <tr>\n",
       "      <th>8014</th>\n",
       "      <td>397773</td>\n",
       "      <td>10004</td>\n",
       "      <td>0.0</td>\n",
       "    </tr>\n",
       "    <tr>\n",
       "      <th>8247</th>\n",
       "      <td>911508</td>\n",
       "      <td>10004</td>\n",
       "      <td>0.0</td>\n",
       "    </tr>\n",
       "    <tr>\n",
       "      <th>8291</th>\n",
       "      <td>934537</td>\n",
       "      <td>10004</td>\n",
       "      <td>0.0</td>\n",
       "    </tr>\n",
       "    <tr>\n",
       "      <th>8410</th>\n",
       "      <td>1009947</td>\n",
       "      <td>10004</td>\n",
       "      <td>0.0</td>\n",
       "    </tr>\n",
       "    <tr>\n",
       "      <th>8559</th>\n",
       "      <td>1075868</td>\n",
       "      <td>10004</td>\n",
       "      <td>0.0</td>\n",
       "    </tr>\n",
       "  </tbody>\n",
       "</table>\n",
       "</div>"
      ],
      "text/plain": [
       "      customerId productId  scaled_purchase_freq\n",
       "8014      397773     10004                   0.0\n",
       "8247      911508     10004                   0.0\n",
       "8291      934537     10004                   0.0\n",
       "8410     1009947     10004                   0.0\n",
       "8559     1075868     10004                   0.0"
      ]
     },
     "execution_count": 37,
     "metadata": {},
     "output_type": "execute_result"
    }
   ],
   "source": [
    "# create a table for input to the modeling\n",
    "\n",
    "d = df_matrix_norm.reset_index()\n",
    "d.index.names = ['scaled_purchase_freq']\n",
    "data_norm = pd.melt(d, id_vars=['customerId'], value_name='scaled_purchase_freq').dropna()\n",
    "print(data_norm.shape)\n",
    "data_norm.head()"
   ]
  },
  {
   "cell_type": "markdown",
   "metadata": {},
   "source": [
    "#### Define a function for normalizing data"
   ]
  },
  {
   "cell_type": "code",
   "execution_count": 39,
   "metadata": {},
   "outputs": [],
   "source": [
    "def normalize_data(data):\n",
    "    df_matrix = pd.pivot_table(data, values='purchase_count', index='customerId', columns='productId')\n",
    "    df_matrix_norm = (df_matrix-df_matrix.min())/(df_matrix.max()-df_matrix.min())\n",
    "    d = df_matrix_norm.reset_index()\n",
    "    d.index.names = ['scaled_purchase_freq']\n",
    "    return pd.melt(d, id_vars=['customerId'], value_name='scaled_purchase_freq').dropna()"
   ]
  },
  {
   "cell_type": "markdown",
   "metadata": {},
   "source": [
    "* We can normalize the their purchase history, from 0-1 (with 1 being the most number of purchase for an item and 0 being 0 purchase count for that item)."
   ]
  },
  {
   "cell_type": "markdown",
   "metadata": {},
   "source": [
    "## 4. Split train and test set\n",
    "* Splitting the data into training and testing sets is an important part of evaluating predictive modeling, in this case a collaborative filtering model. Typically, we use a larger portion of the data for training and a smaller portion for testing. \n",
    "* We use 80:20 ratio for our train-test set size.\n",
    "* Our training portion will be used to develop a predictive model, while the other to evaluate the model's performance.\n",
    "* Now that we have three datasets with purchase counts, purchase dummy, and scaled purchase counts, we would like to split each."
   ]
  },
  {
   "cell_type": "code",
   "execution_count": 40,
   "metadata": {},
   "outputs": [
    {
     "name": "stdout",
     "output_type": "stream",
     "text": [
      "(19570, 3) (4893, 3)\n"
     ]
    }
   ],
   "source": [
    "train, test = train_test_split(data, test_size = .2)\n",
    "print(train.shape, test.shape)"
   ]
  },
  {
   "cell_type": "code",
   "execution_count": 41,
   "metadata": {},
   "outputs": [],
   "source": [
    "# Using turicreate library, we convert dataframe to SFrame - this will be useful in the modeling part\n",
    "\n",
    "train_data = tc.SFrame(train)\n",
    "test_data = tc.SFrame(test)"
   ]
  },
  {
   "cell_type": "code",
   "execution_count": 42,
   "metadata": {},
   "outputs": [
    {
     "data": {
      "text/html": [
       "<div style=\"max-height:1000px;max-width:1500px;overflow:auto;\"><table frame=\"box\" rules=\"cols\">\n",
       "    <tr>\n",
       "        <th style=\"padding-left: 1em; padding-right: 1em; text-align: center\">customerId</th>\n",
       "        <th style=\"padding-left: 1em; padding-right: 1em; text-align: center\">productId</th>\n",
       "        <th style=\"padding-left: 1em; padding-right: 1em; text-align: center\">purchase_count</th>\n",
       "    </tr>\n",
       "    <tr>\n",
       "        <td style=\"padding-left: 1em; padding-right: 1em; text-align: center; vertical-align: top\">1731529</td>\n",
       "        <td style=\"padding-left: 1em; padding-right: 1em; text-align: center; vertical-align: top\">120976</td>\n",
       "        <td style=\"padding-left: 1em; padding-right: 1em; text-align: center; vertical-align: top\">2</td>\n",
       "    </tr>\n",
       "    <tr>\n",
       "        <td style=\"padding-left: 1em; padding-right: 1em; text-align: center; vertical-align: top\">1732022</td>\n",
       "        <td style=\"padding-left: 1em; padding-right: 1em; text-align: center; vertical-align: top\">920092</td>\n",
       "        <td style=\"padding-left: 1em; padding-right: 1em; text-align: center; vertical-align: top\">1</td>\n",
       "    </tr>\n",
       "    <tr>\n",
       "        <td style=\"padding-left: 1em; padding-right: 1em; text-align: center; vertical-align: top\">1752767</td>\n",
       "        <td style=\"padding-left: 1em; padding-right: 1em; text-align: center; vertical-align: top\">124655</td>\n",
       "        <td style=\"padding-left: 1em; padding-right: 1em; text-align: center; vertical-align: top\">1</td>\n",
       "    </tr>\n",
       "    <tr>\n",
       "        <td style=\"padding-left: 1em; padding-right: 1em; text-align: center; vertical-align: top\">1783978</td>\n",
       "        <td style=\"padding-left: 1em; padding-right: 1em; text-align: center; vertical-align: top\">123231</td>\n",
       "        <td style=\"padding-left: 1em; padding-right: 1em; text-align: center; vertical-align: top\">1</td>\n",
       "    </tr>\n",
       "    <tr>\n",
       "        <td style=\"padding-left: 1em; padding-right: 1em; text-align: center; vertical-align: top\">1274994</td>\n",
       "        <td style=\"padding-left: 1em; padding-right: 1em; text-align: center; vertical-align: top\">920086</td>\n",
       "        <td style=\"padding-left: 1em; padding-right: 1em; text-align: center; vertical-align: top\">1</td>\n",
       "    </tr>\n",
       "    <tr>\n",
       "        <td style=\"padding-left: 1em; padding-right: 1em; text-align: center; vertical-align: top\">1796289</td>\n",
       "        <td style=\"padding-left: 1em; padding-right: 1em; text-align: center; vertical-align: top\">124688</td>\n",
       "        <td style=\"padding-left: 1em; padding-right: 1em; text-align: center; vertical-align: top\">1</td>\n",
       "    </tr>\n",
       "    <tr>\n",
       "        <td style=\"padding-left: 1em; padding-right: 1em; text-align: center; vertical-align: top\">1787579</td>\n",
       "        <td style=\"padding-left: 1em; padding-right: 1em; text-align: center; vertical-align: top\">920085</td>\n",
       "        <td style=\"padding-left: 1em; padding-right: 1em; text-align: center; vertical-align: top\">1</td>\n",
       "    </tr>\n",
       "    <tr>\n",
       "        <td style=\"padding-left: 1em; padding-right: 1em; text-align: center; vertical-align: top\">1743575</td>\n",
       "        <td style=\"padding-left: 1em; padding-right: 1em; text-align: center; vertical-align: top\">124129</td>\n",
       "        <td style=\"padding-left: 1em; padding-right: 1em; text-align: center; vertical-align: top\">1</td>\n",
       "    </tr>\n",
       "    <tr>\n",
       "        <td style=\"padding-left: 1em; padding-right: 1em; text-align: center; vertical-align: top\">1710182</td>\n",
       "        <td style=\"padding-left: 1em; padding-right: 1em; text-align: center; vertical-align: top\">920089</td>\n",
       "        <td style=\"padding-left: 1em; padding-right: 1em; text-align: center; vertical-align: top\">1</td>\n",
       "    </tr>\n",
       "    <tr>\n",
       "        <td style=\"padding-left: 1em; padding-right: 1em; text-align: center; vertical-align: top\">1787777</td>\n",
       "        <td style=\"padding-left: 1em; padding-right: 1em; text-align: center; vertical-align: top\">920085</td>\n",
       "        <td style=\"padding-left: 1em; padding-right: 1em; text-align: center; vertical-align: top\">3</td>\n",
       "    </tr>\n",
       "</table>\n",
       "[19570 rows x 3 columns]<br/>Note: Only the head of the SFrame is printed.<br/>You can use print_rows(num_rows=m, num_columns=n) to print more rows and columns.\n",
       "</div>"
      ],
      "text/plain": [
       "Columns:\n",
       "\tcustomerId\tint\n",
       "\tproductId\tint\n",
       "\tpurchase_count\tint\n",
       "\n",
       "Rows: 19570\n",
       "\n",
       "Data:\n",
       "+------------+-----------+----------------+\n",
       "| customerId | productId | purchase_count |\n",
       "+------------+-----------+----------------+\n",
       "|  1731529   |   120976  |       2        |\n",
       "|  1732022   |   920092  |       1        |\n",
       "|  1752767   |   124655  |       1        |\n",
       "|  1783978   |   123231  |       1        |\n",
       "|  1274994   |   920086  |       1        |\n",
       "|  1796289   |   124688  |       1        |\n",
       "|  1787579   |   920085  |       1        |\n",
       "|  1743575   |   124129  |       1        |\n",
       "|  1710182   |   920089  |       1        |\n",
       "|  1787777   |   920085  |       3        |\n",
       "+------------+-----------+----------------+\n",
       "[19570 rows x 3 columns]\n",
       "Note: Only the head of the SFrame is printed.\n",
       "You can use print_rows(num_rows=m, num_columns=n) to print more rows and columns."
      ]
     },
     "execution_count": 42,
     "metadata": {},
     "output_type": "execute_result"
    }
   ],
   "source": [
    "train_data"
   ]
  },
  {
   "cell_type": "code",
   "execution_count": 43,
   "metadata": {},
   "outputs": [
    {
     "data": {
      "text/html": [
       "<div style=\"max-height:1000px;max-width:1500px;overflow:auto;\"><table frame=\"box\" rules=\"cols\">\n",
       "    <tr>\n",
       "        <th style=\"padding-left: 1em; padding-right: 1em; text-align: center\">customerId</th>\n",
       "        <th style=\"padding-left: 1em; padding-right: 1em; text-align: center\">productId</th>\n",
       "        <th style=\"padding-left: 1em; padding-right: 1em; text-align: center\">purchase_count</th>\n",
       "    </tr>\n",
       "    <tr>\n",
       "        <td style=\"padding-left: 1em; padding-right: 1em; text-align: center; vertical-align: top\">1711896</td>\n",
       "        <td style=\"padding-left: 1em; padding-right: 1em; text-align: center; vertical-align: top\">123719</td>\n",
       "        <td style=\"padding-left: 1em; padding-right: 1em; text-align: center; vertical-align: top\">1</td>\n",
       "    </tr>\n",
       "    <tr>\n",
       "        <td style=\"padding-left: 1em; padding-right: 1em; text-align: center; vertical-align: top\">1795942</td>\n",
       "        <td style=\"padding-left: 1em; padding-right: 1em; text-align: center; vertical-align: top\">920083</td>\n",
       "        <td style=\"padding-left: 1em; padding-right: 1em; text-align: center; vertical-align: top\">3</td>\n",
       "    </tr>\n",
       "    <tr>\n",
       "        <td style=\"padding-left: 1em; padding-right: 1em; text-align: center; vertical-align: top\">1807570</td>\n",
       "        <td style=\"padding-left: 1em; padding-right: 1em; text-align: center; vertical-align: top\">920086</td>\n",
       "        <td style=\"padding-left: 1em; padding-right: 1em; text-align: center; vertical-align: top\">1</td>\n",
       "    </tr>\n",
       "    <tr>\n",
       "        <td style=\"padding-left: 1em; padding-right: 1em; text-align: center; vertical-align: top\">1773497</td>\n",
       "        <td style=\"padding-left: 1em; padding-right: 1em; text-align: center; vertical-align: top\">124140</td>\n",
       "        <td style=\"padding-left: 1em; padding-right: 1em; text-align: center; vertical-align: top\">1</td>\n",
       "    </tr>\n",
       "    <tr>\n",
       "        <td style=\"padding-left: 1em; padding-right: 1em; text-align: center; vertical-align: top\">1803407</td>\n",
       "        <td style=\"padding-left: 1em; padding-right: 1em; text-align: center; vertical-align: top\">10004</td>\n",
       "        <td style=\"padding-left: 1em; padding-right: 1em; text-align: center; vertical-align: top\">1</td>\n",
       "    </tr>\n",
       "    <tr>\n",
       "        <td style=\"padding-left: 1em; padding-right: 1em; text-align: center; vertical-align: top\">1795560</td>\n",
       "        <td style=\"padding-left: 1em; padding-right: 1em; text-align: center; vertical-align: top\">123875</td>\n",
       "        <td style=\"padding-left: 1em; padding-right: 1em; text-align: center; vertical-align: top\">1</td>\n",
       "    </tr>\n",
       "    <tr>\n",
       "        <td style=\"padding-left: 1em; padding-right: 1em; text-align: center; vertical-align: top\">1734426</td>\n",
       "        <td style=\"padding-left: 1em; padding-right: 1em; text-align: center; vertical-align: top\">920081</td>\n",
       "        <td style=\"padding-left: 1em; padding-right: 1em; text-align: center; vertical-align: top\">1</td>\n",
       "    </tr>\n",
       "    <tr>\n",
       "        <td style=\"padding-left: 1em; padding-right: 1em; text-align: center; vertical-align: top\">1735149</td>\n",
       "        <td style=\"padding-left: 1em; padding-right: 1em; text-align: center; vertical-align: top\">920080</td>\n",
       "        <td style=\"padding-left: 1em; padding-right: 1em; text-align: center; vertical-align: top\">1</td>\n",
       "    </tr>\n",
       "    <tr>\n",
       "        <td style=\"padding-left: 1em; padding-right: 1em; text-align: center; vertical-align: top\">1769846</td>\n",
       "        <td style=\"padding-left: 1em; padding-right: 1em; text-align: center; vertical-align: top\">124075</td>\n",
       "        <td style=\"padding-left: 1em; padding-right: 1em; text-align: center; vertical-align: top\">1</td>\n",
       "    </tr>\n",
       "    <tr>\n",
       "        <td style=\"padding-left: 1em; padding-right: 1em; text-align: center; vertical-align: top\">1804781</td>\n",
       "        <td style=\"padding-left: 1em; padding-right: 1em; text-align: center; vertical-align: top\">124107</td>\n",
       "        <td style=\"padding-left: 1em; padding-right: 1em; text-align: center; vertical-align: top\">1</td>\n",
       "    </tr>\n",
       "</table>\n",
       "[4893 rows x 3 columns]<br/>Note: Only the head of the SFrame is printed.<br/>You can use print_rows(num_rows=m, num_columns=n) to print more rows and columns.\n",
       "</div>"
      ],
      "text/plain": [
       "Columns:\n",
       "\tcustomerId\tint\n",
       "\tproductId\tint\n",
       "\tpurchase_count\tint\n",
       "\n",
       "Rows: 4893\n",
       "\n",
       "Data:\n",
       "+------------+-----------+----------------+\n",
       "| customerId | productId | purchase_count |\n",
       "+------------+-----------+----------------+\n",
       "|  1711896   |   123719  |       1        |\n",
       "|  1795942   |   920083  |       3        |\n",
       "|  1807570   |   920086  |       1        |\n",
       "|  1773497   |   124140  |       1        |\n",
       "|  1803407   |   10004   |       1        |\n",
       "|  1795560   |   123875  |       1        |\n",
       "|  1734426   |   920081  |       1        |\n",
       "|  1735149   |   920080  |       1        |\n",
       "|  1769846   |   124075  |       1        |\n",
       "|  1804781   |   124107  |       1        |\n",
       "+------------+-----------+----------------+\n",
       "[4893 rows x 3 columns]\n",
       "Note: Only the head of the SFrame is printed.\n",
       "You can use print_rows(num_rows=m, num_columns=n) to print more rows and columns."
      ]
     },
     "execution_count": 43,
     "metadata": {},
     "output_type": "execute_result"
    }
   ],
   "source": [
    "test_data"
   ]
  },
  {
   "cell_type": "markdown",
   "metadata": {},
   "source": [
    "#### Define a `split_data` function for splitting data to training and test set"
   ]
  },
  {
   "cell_type": "code",
   "execution_count": 45,
   "metadata": {},
   "outputs": [],
   "source": [
    "# We can define a function for this step as follows\n",
    "\n",
    "def split_data(data):\n",
    "    '''\n",
    "    Splits dataset into training and test set.\n",
    "    \n",
    "    Args:\n",
    "        data (pandas.DataFrame)\n",
    "        \n",
    "    Returns\n",
    "        train_data (tc.SFrame)\n",
    "        test_data (tc.SFrame)\n",
    "    '''\n",
    "    train, test = train_test_split(data, test_size = .2)\n",
    "    train_data = tc.SFrame(train)\n",
    "    test_data = tc.SFrame(test)\n",
    "    return train_data, test_data"
   ]
  },
  {
   "cell_type": "code",
   "execution_count": 46,
   "metadata": {},
   "outputs": [],
   "source": [
    "# lets try with both dummy table and scaled/normalized purchase table\n",
    "\n",
    "train_data_dummy, test_data_dummy = split_data(data_dummy)\n",
    "train_data_norm, test_data_norm = split_data(data_norm)"
   ]
  },
  {
   "cell_type": "markdown",
   "metadata": {},
   "source": [
    "## 5. Baseline Model\n",
    "Before running a more complicated approach such as collaborative filtering, we would like to use a baseline model to compare and evaluate models. Since baseline typically uses a very simple approach, techniques used beyond this approach should be chosen if they show relatively better accuracy and complexity.\n",
    "\n",
    "### 5.1. Using a Popularity model as a baseline\n",
    "* The popularity model takes the most popular items for recommendation. These items are products with the highest number of sells across customers.\n",
    "* We use `turicreate` library for running and evaluating both baseline and collaborative filtering models below\n",
    "* Training data is used for model selection\n",
    "\n",
    "#### Using purchase counts"
   ]
  },
  {
   "cell_type": "code",
   "execution_count": 47,
   "metadata": {},
   "outputs": [],
   "source": [
    "# variables to define field names\n",
    "user_id = 'customerId'\n",
    "item_id = 'productId'\n",
    "target = 'purchase_count'\n",
    "users_to_recommend = list(transactions[user_id])\n",
    "n_rec = 10 # number of items to recommend\n",
    "n_display = 30"
   ]
  },
  {
   "cell_type": "code",
   "execution_count": 48,
   "metadata": {},
   "outputs": [
    {
     "data": {
      "text/html": [
       "<pre>Preparing data set.</pre>"
      ],
      "text/plain": [
       "Preparing data set."
      ]
     },
     "metadata": {},
     "output_type": "display_data"
    },
    {
     "data": {
      "text/html": [
       "<pre>    Data has 19570 observations with 7167 users and 701 items.</pre>"
      ],
      "text/plain": [
       "    Data has 19570 observations with 7167 users and 701 items."
      ]
     },
     "metadata": {},
     "output_type": "display_data"
    },
    {
     "data": {
      "text/html": [
       "<pre>    Data prepared in: 0.081831s</pre>"
      ],
      "text/plain": [
       "    Data prepared in: 0.081831s"
      ]
     },
     "metadata": {},
     "output_type": "display_data"
    },
    {
     "data": {
      "text/html": [
       "<pre>19570 observations to process; with 701 unique items.</pre>"
      ],
      "text/plain": [
       "19570 observations to process; with 701 unique items."
      ]
     },
     "metadata": {},
     "output_type": "display_data"
    }
   ],
   "source": [
    "popularity_model = tc.popularity_recommender.create(train_data, \n",
    "                                                    user_id=user_id, \n",
    "                                                    item_id=item_id, \n",
    "                                                    target=target)"
   ]
  },
  {
   "cell_type": "code",
   "execution_count": 49,
   "metadata": {},
   "outputs": [
    {
     "data": {
      "text/html": [
       "<pre>recommendations finished on 1000/7987 queries. users per second: 89718.3</pre>"
      ],
      "text/plain": [
       "recommendations finished on 1000/7987 queries. users per second: 89718.3"
      ]
     },
     "metadata": {},
     "output_type": "display_data"
    },
    {
     "data": {
      "text/html": [
       "<pre>recommendations finished on 2000/7987 queries. users per second: 91349.2</pre>"
      ],
      "text/plain": [
       "recommendations finished on 2000/7987 queries. users per second: 91349.2"
      ]
     },
     "metadata": {},
     "output_type": "display_data"
    },
    {
     "data": {
      "text/html": [
       "<pre>recommendations finished on 3000/7987 queries. users per second: 102169</pre>"
      ],
      "text/plain": [
       "recommendations finished on 3000/7987 queries. users per second: 102169"
      ]
     },
     "metadata": {},
     "output_type": "display_data"
    },
    {
     "data": {
      "text/html": [
       "<pre>recommendations finished on 4000/7987 queries. users per second: 106655</pre>"
      ],
      "text/plain": [
       "recommendations finished on 4000/7987 queries. users per second: 106655"
      ]
     },
     "metadata": {},
     "output_type": "display_data"
    },
    {
     "data": {
      "text/html": [
       "<pre>recommendations finished on 5000/7987 queries. users per second: 111344</pre>"
      ],
      "text/plain": [
       "recommendations finished on 5000/7987 queries. users per second: 111344"
      ]
     },
     "metadata": {},
     "output_type": "display_data"
    },
    {
     "data": {
      "text/html": [
       "<pre>recommendations finished on 6000/7987 queries. users per second: 111609</pre>"
      ],
      "text/plain": [
       "recommendations finished on 6000/7987 queries. users per second: 111609"
      ]
     },
     "metadata": {},
     "output_type": "display_data"
    },
    {
     "data": {
      "text/html": [
       "<pre>recommendations finished on 7000/7987 queries. users per second: 109107</pre>"
      ],
      "text/plain": [
       "recommendations finished on 7000/7987 queries. users per second: 109107"
      ]
     },
     "metadata": {},
     "output_type": "display_data"
    },
    {
     "name": "stdout",
     "output_type": "stream",
     "text": [
      "+------------+-----------+-------+------+\n",
      "| customerId | productId | score | rank |\n",
      "+------------+-----------+-------+------+\n",
      "|  1076254   |   124136  |  2.0  |  1   |\n",
      "|  1076254   |   124838  |  2.0  |  2   |\n",
      "|  1076254   |   124738  |  2.0  |  3   |\n",
      "|  1076254   |   123864  |  2.0  |  4   |\n",
      "|  1076254   |   124517  |  1.5  |  5   |\n",
      "|  1076254   |   123553  |  1.5  |  6   |\n",
      "|  1076254   |   120386  |  1.5  |  7   |\n",
      "|  1076254   |   123123  |  1.5  |  8   |\n",
      "|  1076254   |   124519  |  1.5  |  9   |\n",
      "|  1076254   |   124074  |  1.5  |  10  |\n",
      "|  1268548   |   124136  |  2.0  |  1   |\n",
      "|  1268548   |   124838  |  2.0  |  2   |\n",
      "|  1268548   |   124738  |  2.0  |  3   |\n",
      "|  1268548   |   123864  |  2.0  |  4   |\n",
      "|  1268548   |   124517  |  1.5  |  5   |\n",
      "|  1268548   |   123553  |  1.5  |  6   |\n",
      "|  1268548   |   120386  |  1.5  |  7   |\n",
      "|  1268548   |   123123  |  1.5  |  8   |\n",
      "|  1268548   |   124519  |  1.5  |  9   |\n",
      "|  1268548   |   124074  |  1.5  |  10  |\n",
      "|  1709459   |   124136  |  2.0  |  1   |\n",
      "|  1709459   |   124838  |  2.0  |  2   |\n",
      "|  1709459   |   124738  |  2.0  |  3   |\n",
      "|  1709459   |   123864  |  2.0  |  4   |\n",
      "|  1709459   |   124517  |  1.5  |  5   |\n",
      "|  1709459   |   123553  |  1.5  |  6   |\n",
      "|  1709459   |   120386  |  1.5  |  7   |\n",
      "|  1709459   |   123123  |  1.5  |  8   |\n",
      "|  1709459   |   124519  |  1.5  |  9   |\n",
      "|  1709459   |   124074  |  1.5  |  10  |\n",
      "+------------+-----------+-------+------+\n",
      "[79870 rows x 4 columns]\n",
      "\n"
     ]
    }
   ],
   "source": [
    "# Get recommendations for a list of users to recommend (from customers file)\n",
    "# Printed below is head / top 30 rows for first 3 customers with 10 recommendations each\n",
    "\n",
    "popularity_recomm = popularity_model.recommend(users=users_to_recommend, k=n_rec)\n",
    "popularity_recomm.print_rows(n_display)"
   ]
  },
  {
   "cell_type": "markdown",
   "metadata": {},
   "source": [
    "#### Define a `model` function for model selection"
   ]
  },
  {
   "cell_type": "code",
   "execution_count": 50,
   "metadata": {},
   "outputs": [],
   "source": [
    "# Since turicreate is very accessible library, we can define a model selection function as below\n",
    "\n",
    "def model(train_data, name, user_id, item_id, target, users_to_recommend, n_rec, n_display):\n",
    "    if name == 'popularity':\n",
    "        model = tc.popularity_recommender.create(train_data, \n",
    "                                                    user_id=user_id, \n",
    "                                                    item_id=item_id, \n",
    "                                                    target=target)\n",
    "    elif name == 'cosine':\n",
    "        model = tc.item_similarity_recommender.create(train_data, \n",
    "                                                    user_id=user_id, \n",
    "                                                    item_id=item_id, \n",
    "                                                    target=target, \n",
    "                                                    similarity_type='cosine')\n",
    "    elif name == 'pearson':\n",
    "        model = tc.item_similarity_recommender.create(train_data, \n",
    "                                                    user_id=user_id, \n",
    "                                                    item_id=item_id, \n",
    "                                                    target=target, \n",
    "                                                    similarity_type='pearson')\n",
    "        \n",
    "    recom = model.recommend(users=users_to_recommend, k=n_rec)\n",
    "    recom.print_rows(n_display)\n",
    "    return model"
   ]
  },
  {
   "cell_type": "code",
   "execution_count": 51,
   "metadata": {},
   "outputs": [],
   "source": [
    "# variables to define field names\n",
    "# constant variables include:\n",
    "user_id = 'customerId'\n",
    "item_id = 'productId'\n",
    "users_to_recommend = list(customers[user_id])\n",
    "n_rec = 10 # number of items to recommend\n",
    "n_display = 30 # to print the head / first few rows in a defined dataset"
   ]
  },
  {
   "cell_type": "markdown",
   "metadata": {},
   "source": [
    "#### Using purchase dummy"
   ]
  },
  {
   "cell_type": "code",
   "execution_count": 52,
   "metadata": {},
   "outputs": [
    {
     "data": {
      "text/html": [
       "<pre>Warning: Ignoring columns purchase_count;</pre>"
      ],
      "text/plain": [
       "Warning: Ignoring columns purchase_count;"
      ]
     },
     "metadata": {},
     "output_type": "display_data"
    },
    {
     "data": {
      "text/html": [
       "<pre>    To use these columns in scoring predictions, use a model that allows the use of additional features.</pre>"
      ],
      "text/plain": [
       "    To use these columns in scoring predictions, use a model that allows the use of additional features."
      ]
     },
     "metadata": {},
     "output_type": "display_data"
    },
    {
     "data": {
      "text/html": [
       "<pre>Preparing data set.</pre>"
      ],
      "text/plain": [
       "Preparing data set."
      ]
     },
     "metadata": {},
     "output_type": "display_data"
    },
    {
     "data": {
      "text/html": [
       "<pre>    Data has 19570 observations with 7222 users and 706 items.</pre>"
      ],
      "text/plain": [
       "    Data has 19570 observations with 7222 users and 706 items."
      ]
     },
     "metadata": {},
     "output_type": "display_data"
    },
    {
     "data": {
      "text/html": [
       "<pre>    Data prepared in: 0.065981s</pre>"
      ],
      "text/plain": [
       "    Data prepared in: 0.065981s"
      ]
     },
     "metadata": {},
     "output_type": "display_data"
    },
    {
     "data": {
      "text/html": [
       "<pre>19570 observations to process; with 706 unique items.</pre>"
      ],
      "text/plain": [
       "19570 observations to process; with 706 unique items."
      ]
     },
     "metadata": {},
     "output_type": "display_data"
    },
    {
     "data": {
      "text/html": [
       "<pre>recommendations finished on 1000/7987 queries. users per second: 102020</pre>"
      ],
      "text/plain": [
       "recommendations finished on 1000/7987 queries. users per second: 102020"
      ]
     },
     "metadata": {},
     "output_type": "display_data"
    },
    {
     "data": {
      "text/html": [
       "<pre>recommendations finished on 2000/7987 queries. users per second: 131718</pre>"
      ],
      "text/plain": [
       "recommendations finished on 2000/7987 queries. users per second: 131718"
      ]
     },
     "metadata": {},
     "output_type": "display_data"
    },
    {
     "data": {
      "text/html": [
       "<pre>recommendations finished on 3000/7987 queries. users per second: 35392.4</pre>"
      ],
      "text/plain": [
       "recommendations finished on 3000/7987 queries. users per second: 35392.4"
      ]
     },
     "metadata": {},
     "output_type": "display_data"
    },
    {
     "data": {
      "text/html": [
       "<pre>recommendations finished on 4000/7987 queries. users per second: 42449.8</pre>"
      ],
      "text/plain": [
       "recommendations finished on 4000/7987 queries. users per second: 42449.8"
      ]
     },
     "metadata": {},
     "output_type": "display_data"
    },
    {
     "data": {
      "text/html": [
       "<pre>recommendations finished on 5000/7987 queries. users per second: 48611.7</pre>"
      ],
      "text/plain": [
       "recommendations finished on 5000/7987 queries. users per second: 48611.7"
      ]
     },
     "metadata": {},
     "output_type": "display_data"
    },
    {
     "data": {
      "text/html": [
       "<pre>recommendations finished on 6000/7987 queries. users per second: 53924.3</pre>"
      ],
      "text/plain": [
       "recommendations finished on 6000/7987 queries. users per second: 53924.3"
      ]
     },
     "metadata": {},
     "output_type": "display_data"
    },
    {
     "data": {
      "text/html": [
       "<pre>recommendations finished on 7000/7987 queries. users per second: 53335</pre>"
      ],
      "text/plain": [
       "recommendations finished on 7000/7987 queries. users per second: 53335"
      ]
     },
     "metadata": {},
     "output_type": "display_data"
    },
    {
     "name": "stdout",
     "output_type": "stream",
     "text": [
      "+------------+-----------+-------+------+\n",
      "| customerId | productId | score | rank |\n",
      "+------------+-----------+-------+------+\n",
      "|  1076254   |   920084  |  1.0  |  1   |\n",
      "|  1076254   |   124489  |  1.0  |  2   |\n",
      "|  1076254   |   123507  |  1.0  |  3   |\n",
      "|  1076254   |   123597  |  1.0  |  4   |\n",
      "|  1076254   |   920080  |  1.0  |  5   |\n",
      "|  1076254   |   121413  |  1.0  |  6   |\n",
      "|  1076254   |   920086  |  1.0  |  7   |\n",
      "|  1076254   |   123919  |  1.0  |  8   |\n",
      "|  1076254   |   122181  |  1.0  |  9   |\n",
      "|  1076254   |   920091  |  1.0  |  10  |\n",
      "|  1268548   |   124489  |  1.0  |  1   |\n",
      "|  1268548   |   123507  |  1.0  |  2   |\n",
      "|  1268548   |   123597  |  1.0  |  3   |\n",
      "|  1268548   |   920080  |  1.0  |  4   |\n",
      "|  1268548   |   121413  |  1.0  |  5   |\n",
      "|  1268548   |   920086  |  1.0  |  6   |\n",
      "|  1268548   |   920089  |  1.0  |  7   |\n",
      "|  1268548   |   123919  |  1.0  |  8   |\n",
      "|  1268548   |   122181  |  1.0  |  9   |\n",
      "|  1268548   |   920091  |  1.0  |  10  |\n",
      "|  1709459   |   124489  |  1.0  |  1   |\n",
      "|  1709459   |   123507  |  1.0  |  2   |\n",
      "|  1709459   |   123597  |  1.0  |  3   |\n",
      "|  1709459   |   920080  |  1.0  |  4   |\n",
      "|  1709459   |   121413  |  1.0  |  5   |\n",
      "|  1709459   |   920086  |  1.0  |  6   |\n",
      "|  1709459   |   920089  |  1.0  |  7   |\n",
      "|  1709459   |   123919  |  1.0  |  8   |\n",
      "|  1709459   |   122181  |  1.0  |  9   |\n",
      "|  1709459   |   920091  |  1.0  |  10  |\n",
      "+------------+-----------+-------+------+\n",
      "[79870 rows x 4 columns]\n",
      "\n"
     ]
    }
   ],
   "source": [
    "# these variables will change accordingly\n",
    "name = 'popularity'\n",
    "target = 'purchase_dummy'\n",
    "pop_dummy = model(train_data_dummy, name, user_id, item_id, target, users_to_recommend, n_rec, n_display)"
   ]
  },
  {
   "cell_type": "markdown",
   "metadata": {},
   "source": [
    "#### Using normalized purchase count"
   ]
  },
  {
   "cell_type": "code",
   "execution_count": 53,
   "metadata": {},
   "outputs": [
    {
     "data": {
      "text/html": [
       "<pre>Preparing data set.</pre>"
      ],
      "text/plain": [
       "Preparing data set."
      ]
     },
     "metadata": {},
     "output_type": "display_data"
    },
    {
     "data": {
      "text/html": [
       "<pre>    Data has 16596 observations with 6579 users and 244 items.</pre>"
      ],
      "text/plain": [
       "    Data has 16596 observations with 6579 users and 244 items."
      ]
     },
     "metadata": {},
     "output_type": "display_data"
    },
    {
     "data": {
      "text/html": [
       "<pre>    Data prepared in: 0.040013s</pre>"
      ],
      "text/plain": [
       "    Data prepared in: 0.040013s"
      ]
     },
     "metadata": {},
     "output_type": "display_data"
    },
    {
     "data": {
      "text/html": [
       "<pre>16596 observations to process; with 244 unique items.</pre>"
      ],
      "text/plain": [
       "16596 observations to process; with 244 unique items."
      ]
     },
     "metadata": {},
     "output_type": "display_data"
    },
    {
     "data": {
      "text/html": [
       "<pre>recommendations finished on 1000/7987 queries. users per second: 161786</pre>"
      ],
      "text/plain": [
       "recommendations finished on 1000/7987 queries. users per second: 161786"
      ]
     },
     "metadata": {},
     "output_type": "display_data"
    },
    {
     "data": {
      "text/html": [
       "<pre>recommendations finished on 2000/7987 queries. users per second: 212608</pre>"
      ],
      "text/plain": [
       "recommendations finished on 2000/7987 queries. users per second: 212608"
      ]
     },
     "metadata": {},
     "output_type": "display_data"
    },
    {
     "data": {
      "text/html": [
       "<pre>recommendations finished on 3000/7987 queries. users per second: 219845</pre>"
      ],
      "text/plain": [
       "recommendations finished on 3000/7987 queries. users per second: 219845"
      ]
     },
     "metadata": {},
     "output_type": "display_data"
    },
    {
     "data": {
      "text/html": [
       "<pre>recommendations finished on 4000/7987 queries. users per second: 205634</pre>"
      ],
      "text/plain": [
       "recommendations finished on 4000/7987 queries. users per second: 205634"
      ]
     },
     "metadata": {},
     "output_type": "display_data"
    },
    {
     "data": {
      "text/html": [
       "<pre>recommendations finished on 5000/7987 queries. users per second: 136307</pre>"
      ],
      "text/plain": [
       "recommendations finished on 5000/7987 queries. users per second: 136307"
      ]
     },
     "metadata": {},
     "output_type": "display_data"
    },
    {
     "data": {
      "text/html": [
       "<pre>recommendations finished on 6000/7987 queries. users per second: 80542.3</pre>"
      ],
      "text/plain": [
       "recommendations finished on 6000/7987 queries. users per second: 80542.3"
      ]
     },
     "metadata": {},
     "output_type": "display_data"
    },
    {
     "data": {
      "text/html": [
       "<pre>recommendations finished on 7000/7987 queries. users per second: 72656.3</pre>"
      ],
      "text/plain": [
       "recommendations finished on 7000/7987 queries. users per second: 72656.3"
      ]
     },
     "metadata": {},
     "output_type": "display_data"
    },
    {
     "name": "stdout",
     "output_type": "stream",
     "text": [
      "+------------+-----------+---------------------+------+\n",
      "| customerId | productId |        score        | rank |\n",
      "+------------+-----------+---------------------+------+\n",
      "|  1076254   |   123429  |         1.0         |  1   |\n",
      "|  1076254   |   124533  |         1.0         |  2   |\n",
      "|  1076254   |   124517  |         0.5         |  3   |\n",
      "|  1076254   |   123123  |         0.5         |  4   |\n",
      "|  1076254   |   120386  |         0.5         |  5   |\n",
      "|  1076254   |   124074  |         0.5         |  6   |\n",
      "|  1076254   |   124669  |         0.5         |  7   |\n",
      "|  1076254   |   124697  |         0.5         |  8   |\n",
      "|  1076254   |   124568  |         0.5         |  9   |\n",
      "|  1076254   |   120976  | 0.42857142857142855 |  10  |\n",
      "|  1268548   |   123429  |         1.0         |  1   |\n",
      "|  1268548   |   124533  |         1.0         |  2   |\n",
      "|  1268548   |   124517  |         0.5         |  3   |\n",
      "|  1268548   |   123123  |         0.5         |  4   |\n",
      "|  1268548   |   120386  |         0.5         |  5   |\n",
      "|  1268548   |   124074  |         0.5         |  6   |\n",
      "|  1268548   |   124669  |         0.5         |  7   |\n",
      "|  1268548   |   124697  |         0.5         |  8   |\n",
      "|  1268548   |   124568  |         0.5         |  9   |\n",
      "|  1268548   |   120976  | 0.42857142857142855 |  10  |\n",
      "|  1709459   |   123429  |         1.0         |  1   |\n",
      "|  1709459   |   124533  |         1.0         |  2   |\n",
      "|  1709459   |   124517  |         0.5         |  3   |\n",
      "|  1709459   |   123123  |         0.5         |  4   |\n",
      "|  1709459   |   120386  |         0.5         |  5   |\n",
      "|  1709459   |   124074  |         0.5         |  6   |\n",
      "|  1709459   |   124669  |         0.5         |  7   |\n",
      "|  1709459   |   124697  |         0.5         |  8   |\n",
      "|  1709459   |   124568  |         0.5         |  9   |\n",
      "|  1709459   |   120976  | 0.42857142857142855 |  10  |\n",
      "+------------+-----------+---------------------+------+\n",
      "[79870 rows x 4 columns]\n",
      "\n"
     ]
    }
   ],
   "source": [
    "name = 'popularity'\n",
    "target = 'scaled_purchase_freq'\n",
    "pop_norm = model(train_data_norm, name, user_id, item_id, target, users_to_recommend, n_rec, n_display)"
   ]
  },
  {
   "cell_type": "markdown",
   "metadata": {},
   "source": [
    "#### Notes\n",
    "* Once we created the model, we predicted the recommendation items using scores by popularity. As you can tell for each model results above, the rows show the first 30 records from 1000 users with 10 recommendations. These 30 records include 3 users and their recommended items, along with score and descending ranks. \n",
    "* In the result, although different models have different recommendation list, each user is recommended the same list of 10 items. This is because popularity is calculated by taking the most popular items across all users.\n",
    "* If a grouping example below, products 132, 248, 37, and 34 are the most popular (best-selling) across customers. Using their purchase counts divided by the number of customers, we see that these products are at least bought 3 times on average in the training set of transactions (same as the first popularity measure on `purchase_count` variable)"
   ]
  },
  {
   "cell_type": "code",
   "execution_count": 59,
   "metadata": {},
   "outputs": [
    {
     "data": {
      "text/plain": [
       "productId\n",
       "124136    2.000000\n",
       "124838    2.000000\n",
       "124738    2.000000\n",
       "123864    2.000000\n",
       "124074    1.500000\n",
       "123553    1.500000\n",
       "120386    1.500000\n",
       "123123    1.500000\n",
       "124517    1.500000\n",
       "124519    1.500000\n",
       "124290    1.400000\n",
       "124568    1.333333\n",
       "124366    1.333333\n",
       "124475    1.333333\n",
       "124859    1.333333\n",
       "124659    1.333333\n",
       "120976    1.333333\n",
       "124689    1.333333\n",
       "124697    1.333333\n",
       "123866    1.333333\n",
       "Name: purchase_count, dtype: float64"
      ]
     },
     "execution_count": 59,
     "metadata": {},
     "output_type": "execute_result"
    }
   ],
   "source": [
    "train.groupby(by=item_id)['purchase_count'].mean().sort_values(ascending=False).head(20)"
   ]
  },
  {
   "cell_type": "markdown",
   "metadata": {},
   "source": [
    "## 6. Collaborative Filtering Model\n",
    "\n",
    "* In collaborative filtering, we would recommend items based on how similar users purchase items. For instance, if customer 1 and customer 2 bought similar items, e.g. 1 bought X, Y, Z and 2 bought X, Y, we would recommend an item Z to customer 2.\n",
    "\n",
    "* To define similarity across users, we use the following steps:\n",
    "    1. Create a user-item matrix, where index values represent unique customer IDs and column values represent unique product IDs\n",
    "    \n",
    "    2. Create an item-to-item similarity matrix. The idea is to calculate how similar a product is to another product. There are a number of ways of calculating this. In steps 6.1 and 6.2, we use cosine and pearson similarity measure, respectively.  \n",
    "    \n",
    "        * To calculate similarity between products X and Y, look at all customers who have rated both these items. For example, both X and Y have been rated by customers 1 and 2. \n",
    "        * We then create two item-vectors, v1 for item X and v2 for item Y, in the user-space of (1, 2) and then find the `cosine` or `pearson` angle/distance between these vectors. A zero angle or overlapping vectors with cosine value of 1 means total similarity (or per user, across all items, there is same rating) and an angle of 90 degree would mean cosine of 0 or no similarity.\n",
    "        \n",
    "    3. For each customer, we then predict his likelihood to buy a product (or his purchase counts) for products that he had not bought. \n",
    "    \n",
    "        * For our example, we will calculate rating for user 2 in the case of item Z (target item). To calculate this we weigh the just-calculated similarity-measure between the target item and other items that customer has already bought. The weighing factor is the purchase counts given by the user to items already bought by him. \n",
    "        * We then scale this weighted sum with the sum of similarity-measures so that the calculated rating remains within a predefined limits. Thus, the predicted rating for item Z for user 2 would be calculated using similarity measures.\n",
    "\n",
    "* While I wrote python scripts for all the process including finding similarity using python scripts (which can be found in `scripts` folder, we can use `turicreate` library for now to capture different measures like using `cosine` and `pearson` distance, and evaluate the best model."
   ]
  },
  {
   "cell_type": "markdown",
   "metadata": {},
   "source": [
    "### 6.1. `Cosine` similarity\n",
    "* Similarity is the cosine of the angle between the 2 vectors of the item vectors of A and B\n",
    "* It is defined by the following formula\n",
    "![](https://encrypted-tbn0.gstatic.com/images?q=tbn:ANd9GcTnRHSAx1c084UXF2wIHYwaHJLmq2qKtNk_YIv3RjHUO00xwlkt)\n",
    "* Closer the vectors, smaller will be the angle and larger the cosine"
   ]
  },
  {
   "cell_type": "markdown",
   "metadata": {},
   "source": [
    "#### Using purchase count"
   ]
  },
  {
   "cell_type": "code",
   "execution_count": 60,
   "metadata": {},
   "outputs": [
    {
     "data": {
      "text/html": [
       "<pre>Preparing data set.</pre>"
      ],
      "text/plain": [
       "Preparing data set."
      ]
     },
     "metadata": {},
     "output_type": "display_data"
    },
    {
     "data": {
      "text/html": [
       "<pre>    Data has 19570 observations with 7167 users and 701 items.</pre>"
      ],
      "text/plain": [
       "    Data has 19570 observations with 7167 users and 701 items."
      ]
     },
     "metadata": {},
     "output_type": "display_data"
    },
    {
     "data": {
      "text/html": [
       "<pre>    Data prepared in: 0.062784s</pre>"
      ],
      "text/plain": [
       "    Data prepared in: 0.062784s"
      ]
     },
     "metadata": {},
     "output_type": "display_data"
    },
    {
     "data": {
      "text/html": [
       "<pre>Training model from provided data.</pre>"
      ],
      "text/plain": [
       "Training model from provided data."
      ]
     },
     "metadata": {},
     "output_type": "display_data"
    },
    {
     "data": {
      "text/html": [
       "<pre>Gathering per-item and per-user statistics.</pre>"
      ],
      "text/plain": [
       "Gathering per-item and per-user statistics."
      ]
     },
     "metadata": {},
     "output_type": "display_data"
    },
    {
     "data": {
      "text/html": [
       "<pre>+--------------------------------+------------+</pre>"
      ],
      "text/plain": [
       "+--------------------------------+------------+"
      ]
     },
     "metadata": {},
     "output_type": "display_data"
    },
    {
     "data": {
      "text/html": [
       "<pre>| Elapsed Time (Item Statistics) | % Complete |</pre>"
      ],
      "text/plain": [
       "| Elapsed Time (Item Statistics) | % Complete |"
      ]
     },
     "metadata": {},
     "output_type": "display_data"
    },
    {
     "data": {
      "text/html": [
       "<pre>+--------------------------------+------------+</pre>"
      ],
      "text/plain": [
       "+--------------------------------+------------+"
      ]
     },
     "metadata": {},
     "output_type": "display_data"
    },
    {
     "data": {
      "text/html": [
       "<pre>| 1.57ms                         | 13.75      |</pre>"
      ],
      "text/plain": [
       "| 1.57ms                         | 13.75      |"
      ]
     },
     "metadata": {},
     "output_type": "display_data"
    },
    {
     "data": {
      "text/html": [
       "<pre>| 2.581ms                        | 100        |</pre>"
      ],
      "text/plain": [
       "| 2.581ms                        | 100        |"
      ]
     },
     "metadata": {},
     "output_type": "display_data"
    },
    {
     "data": {
      "text/html": [
       "<pre>+--------------------------------+------------+</pre>"
      ],
      "text/plain": [
       "+--------------------------------+------------+"
      ]
     },
     "metadata": {},
     "output_type": "display_data"
    },
    {
     "data": {
      "text/html": [
       "<pre>Setting up lookup tables.</pre>"
      ],
      "text/plain": [
       "Setting up lookup tables."
      ]
     },
     "metadata": {},
     "output_type": "display_data"
    },
    {
     "data": {
      "text/html": [
       "<pre>Processing data in one pass using dense lookup tables.</pre>"
      ],
      "text/plain": [
       "Processing data in one pass using dense lookup tables."
      ]
     },
     "metadata": {},
     "output_type": "display_data"
    },
    {
     "data": {
      "text/html": [
       "<pre>+-------------------------------------+------------------+-----------------+</pre>"
      ],
      "text/plain": [
       "+-------------------------------------+------------------+-----------------+"
      ]
     },
     "metadata": {},
     "output_type": "display_data"
    },
    {
     "data": {
      "text/html": [
       "<pre>| Elapsed Time (Constructing Lookups) | Total % Complete | Items Processed |</pre>"
      ],
      "text/plain": [
       "| Elapsed Time (Constructing Lookups) | Total % Complete | Items Processed |"
      ]
     },
     "metadata": {},
     "output_type": "display_data"
    },
    {
     "data": {
      "text/html": [
       "<pre>+-------------------------------------+------------------+-----------------+</pre>"
      ],
      "text/plain": [
       "+-------------------------------------+------------------+-----------------+"
      ]
     },
     "metadata": {},
     "output_type": "display_data"
    },
    {
     "data": {
      "text/html": [
       "<pre>| 5.248ms                             | 0                | 0               |</pre>"
      ],
      "text/plain": [
       "| 5.248ms                             | 0                | 0               |"
      ]
     },
     "metadata": {},
     "output_type": "display_data"
    },
    {
     "data": {
      "text/html": [
       "<pre>| 13.356ms                            | 100              | 701             |</pre>"
      ],
      "text/plain": [
       "| 13.356ms                            | 100              | 701             |"
      ]
     },
     "metadata": {},
     "output_type": "display_data"
    },
    {
     "data": {
      "text/html": [
       "<pre>+-------------------------------------+------------------+-----------------+</pre>"
      ],
      "text/plain": [
       "+-------------------------------------+------------------+-----------------+"
      ]
     },
     "metadata": {},
     "output_type": "display_data"
    },
    {
     "data": {
      "text/html": [
       "<pre>Finalizing lookup tables.</pre>"
      ],
      "text/plain": [
       "Finalizing lookup tables."
      ]
     },
     "metadata": {},
     "output_type": "display_data"
    },
    {
     "data": {
      "text/html": [
       "<pre>Generating candidate set for working with new users.</pre>"
      ],
      "text/plain": [
       "Generating candidate set for working with new users."
      ]
     },
     "metadata": {},
     "output_type": "display_data"
    },
    {
     "data": {
      "text/html": [
       "<pre>Finished training in 0.021687s</pre>"
      ],
      "text/plain": [
       "Finished training in 0.021687s"
      ]
     },
     "metadata": {},
     "output_type": "display_data"
    },
    {
     "data": {
      "text/html": [
       "<pre>recommendations finished on 1000/7987 queries. users per second: 62158.1</pre>"
      ],
      "text/plain": [
       "recommendations finished on 1000/7987 queries. users per second: 62158.1"
      ]
     },
     "metadata": {},
     "output_type": "display_data"
    },
    {
     "data": {
      "text/html": [
       "<pre>recommendations finished on 2000/7987 queries. users per second: 20463.9</pre>"
      ],
      "text/plain": [
       "recommendations finished on 2000/7987 queries. users per second: 20463.9"
      ]
     },
     "metadata": {},
     "output_type": "display_data"
    },
    {
     "data": {
      "text/html": [
       "<pre>recommendations finished on 3000/7987 queries. users per second: 25931.8</pre>"
      ],
      "text/plain": [
       "recommendations finished on 3000/7987 queries. users per second: 25931.8"
      ]
     },
     "metadata": {},
     "output_type": "display_data"
    },
    {
     "data": {
      "text/html": [
       "<pre>recommendations finished on 4000/7987 queries. users per second: 29914.8</pre>"
      ],
      "text/plain": [
       "recommendations finished on 4000/7987 queries. users per second: 29914.8"
      ]
     },
     "metadata": {},
     "output_type": "display_data"
    },
    {
     "data": {
      "text/html": [
       "<pre>recommendations finished on 5000/7987 queries. users per second: 32942.9</pre>"
      ],
      "text/plain": [
       "recommendations finished on 5000/7987 queries. users per second: 32942.9"
      ]
     },
     "metadata": {},
     "output_type": "display_data"
    },
    {
     "data": {
      "text/html": [
       "<pre>recommendations finished on 6000/7987 queries. users per second: 34683.1</pre>"
      ],
      "text/plain": [
       "recommendations finished on 6000/7987 queries. users per second: 34683.1"
      ]
     },
     "metadata": {},
     "output_type": "display_data"
    },
    {
     "data": {
      "text/html": [
       "<pre>recommendations finished on 7000/7987 queries. users per second: 37588.1</pre>"
      ],
      "text/plain": [
       "recommendations finished on 7000/7987 queries. users per second: 37588.1"
      ]
     },
     "metadata": {},
     "output_type": "display_data"
    },
    {
     "name": "stdout",
     "output_type": "stream",
     "text": [
      "+------------+-----------+---------------------+------+\n",
      "| customerId | productId |        score        | rank |\n",
      "+------------+-----------+---------------------+------+\n",
      "|  1076254   |   920085  |  0.1562266747156779 |  1   |\n",
      "|  1076254   |   920091  | 0.13717687129974365 |  2   |\n",
      "|  1076254   |   920080  | 0.12824243307113647 |  3   |\n",
      "|  1076254   |   920086  | 0.12363329529762268 |  4   |\n",
      "|  1076254   |   920087  | 0.12290276090304057 |  5   |\n",
      "|  1076254   |   920094  |  0.114462415377299  |  6   |\n",
      "|  1076254   |   920084  | 0.11442903677622478 |  7   |\n",
      "|  1076254   |   920082  | 0.11331175764401753 |  8   |\n",
      "|  1076254   |   920081  | 0.11288970708847046 |  9   |\n",
      "|  1076254   |   920088  | 0.08681364854176839 |  10  |\n",
      "|  1268548   |   123579  | 0.17407765984535217 |  1   |\n",
      "|  1268548   |   123714  | 0.15075567364692688 |  2   |\n",
      "|  1268548   |   124725  | 0.15075567364692688 |  3   |\n",
      "|  1268548   |   124517  | 0.14509525895118713 |  4   |\n",
      "|  1268548   |   123447  |  0.1348399817943573 |  5   |\n",
      "|  1268548   |   124465  | 0.13386809825897217 |  6   |\n",
      "|  1268548   |   124533  | 0.13245323300361633 |  7   |\n",
      "|  1268548   |   124358  | 0.11536487936973572 |  8   |\n",
      "|  1268548   |   123913  | 0.10660034418106079 |  9   |\n",
      "|  1268548   |   122760  | 0.10660034418106079 |  10  |\n",
      "|  1709459   |   920085  | 0.13089358806610107 |  1   |\n",
      "|  1709459   |   920091  | 0.12672642866770426 |  2   |\n",
      "|  1709459   |   920082  | 0.11556295553843181 |  3   |\n",
      "|  1709459   |   920084  | 0.11036936442057292 |  4   |\n",
      "|  1709459   |   920080  | 0.11014127731323242 |  5   |\n",
      "|  1709459   |   920087  | 0.10649687051773071 |  6   |\n",
      "|  1709459   |   124680  | 0.10540926456451416 |  7   |\n",
      "|  1709459   |   920090  | 0.10482706626256307 |  8   |\n",
      "|  1709459   |   124517  | 0.09673017263412476 |  9   |\n",
      "|  1709459   |   920081  | 0.09531720479329427 |  10  |\n",
      "+------------+-----------+---------------------+------+\n",
      "[79870 rows x 4 columns]\n",
      "\n"
     ]
    }
   ],
   "source": [
    "# these variables will change accordingly\n",
    "name = 'cosine'\n",
    "target = 'purchase_count'\n",
    "cos = model(train_data, name, user_id, item_id, target, users_to_recommend, n_rec, n_display)"
   ]
  },
  {
   "cell_type": "markdown",
   "metadata": {},
   "source": [
    "#### Using purchase dummy"
   ]
  },
  {
   "cell_type": "code",
   "execution_count": 61,
   "metadata": {},
   "outputs": [
    {
     "data": {
      "text/html": [
       "<pre>Warning: Ignoring columns purchase_count;</pre>"
      ],
      "text/plain": [
       "Warning: Ignoring columns purchase_count;"
      ]
     },
     "metadata": {},
     "output_type": "display_data"
    },
    {
     "data": {
      "text/html": [
       "<pre>    To use these columns in scoring predictions, use a model that allows the use of additional features.</pre>"
      ],
      "text/plain": [
       "    To use these columns in scoring predictions, use a model that allows the use of additional features."
      ]
     },
     "metadata": {},
     "output_type": "display_data"
    },
    {
     "data": {
      "text/html": [
       "<pre>Preparing data set.</pre>"
      ],
      "text/plain": [
       "Preparing data set."
      ]
     },
     "metadata": {},
     "output_type": "display_data"
    },
    {
     "data": {
      "text/html": [
       "<pre>    Data has 19570 observations with 7222 users and 706 items.</pre>"
      ],
      "text/plain": [
       "    Data has 19570 observations with 7222 users and 706 items."
      ]
     },
     "metadata": {},
     "output_type": "display_data"
    },
    {
     "data": {
      "text/html": [
       "<pre>    Data prepared in: 0.049344s</pre>"
      ],
      "text/plain": [
       "    Data prepared in: 0.049344s"
      ]
     },
     "metadata": {},
     "output_type": "display_data"
    },
    {
     "data": {
      "text/html": [
       "<pre>Training model from provided data.</pre>"
      ],
      "text/plain": [
       "Training model from provided data."
      ]
     },
     "metadata": {},
     "output_type": "display_data"
    },
    {
     "data": {
      "text/html": [
       "<pre>Gathering per-item and per-user statistics.</pre>"
      ],
      "text/plain": [
       "Gathering per-item and per-user statistics."
      ]
     },
     "metadata": {},
     "output_type": "display_data"
    },
    {
     "data": {
      "text/html": [
       "<pre>+--------------------------------+------------+</pre>"
      ],
      "text/plain": [
       "+--------------------------------+------------+"
      ]
     },
     "metadata": {},
     "output_type": "display_data"
    },
    {
     "data": {
      "text/html": [
       "<pre>| Elapsed Time (Item Statistics) | % Complete |</pre>"
      ],
      "text/plain": [
       "| Elapsed Time (Item Statistics) | % Complete |"
      ]
     },
     "metadata": {},
     "output_type": "display_data"
    },
    {
     "data": {
      "text/html": [
       "<pre>+--------------------------------+------------+</pre>"
      ],
      "text/plain": [
       "+--------------------------------+------------+"
      ]
     },
     "metadata": {},
     "output_type": "display_data"
    },
    {
     "data": {
      "text/html": [
       "<pre>| 1.235ms                        | 13.75      |</pre>"
      ],
      "text/plain": [
       "| 1.235ms                        | 13.75      |"
      ]
     },
     "metadata": {},
     "output_type": "display_data"
    },
    {
     "data": {
      "text/html": [
       "<pre>| 2.511ms                        | 100        |</pre>"
      ],
      "text/plain": [
       "| 2.511ms                        | 100        |"
      ]
     },
     "metadata": {},
     "output_type": "display_data"
    },
    {
     "data": {
      "text/html": [
       "<pre>+--------------------------------+------------+</pre>"
      ],
      "text/plain": [
       "+--------------------------------+------------+"
      ]
     },
     "metadata": {},
     "output_type": "display_data"
    },
    {
     "data": {
      "text/html": [
       "<pre>Setting up lookup tables.</pre>"
      ],
      "text/plain": [
       "Setting up lookup tables."
      ]
     },
     "metadata": {},
     "output_type": "display_data"
    },
    {
     "data": {
      "text/html": [
       "<pre>Processing data in one pass using dense lookup tables.</pre>"
      ],
      "text/plain": [
       "Processing data in one pass using dense lookup tables."
      ]
     },
     "metadata": {},
     "output_type": "display_data"
    },
    {
     "data": {
      "text/html": [
       "<pre>+-------------------------------------+------------------+-----------------+</pre>"
      ],
      "text/plain": [
       "+-------------------------------------+------------------+-----------------+"
      ]
     },
     "metadata": {},
     "output_type": "display_data"
    },
    {
     "data": {
      "text/html": [
       "<pre>| Elapsed Time (Constructing Lookups) | Total % Complete | Items Processed |</pre>"
      ],
      "text/plain": [
       "| Elapsed Time (Constructing Lookups) | Total % Complete | Items Processed |"
      ]
     },
     "metadata": {},
     "output_type": "display_data"
    },
    {
     "data": {
      "text/html": [
       "<pre>+-------------------------------------+------------------+-----------------+</pre>"
      ],
      "text/plain": [
       "+-------------------------------------+------------------+-----------------+"
      ]
     },
     "metadata": {},
     "output_type": "display_data"
    },
    {
     "data": {
      "text/html": [
       "<pre>| 6.197ms                             | 0                | 0               |</pre>"
      ],
      "text/plain": [
       "| 6.197ms                             | 0                | 0               |"
      ]
     },
     "metadata": {},
     "output_type": "display_data"
    },
    {
     "data": {
      "text/html": [
       "<pre>| 14.781ms                            | 100              | 706             |</pre>"
      ],
      "text/plain": [
       "| 14.781ms                            | 100              | 706             |"
      ]
     },
     "metadata": {},
     "output_type": "display_data"
    },
    {
     "data": {
      "text/html": [
       "<pre>+-------------------------------------+------------------+-----------------+</pre>"
      ],
      "text/plain": [
       "+-------------------------------------+------------------+-----------------+"
      ]
     },
     "metadata": {},
     "output_type": "display_data"
    },
    {
     "data": {
      "text/html": [
       "<pre>Finalizing lookup tables.</pre>"
      ],
      "text/plain": [
       "Finalizing lookup tables."
      ]
     },
     "metadata": {},
     "output_type": "display_data"
    },
    {
     "data": {
      "text/html": [
       "<pre>Generating candidate set for working with new users.</pre>"
      ],
      "text/plain": [
       "Generating candidate set for working with new users."
      ]
     },
     "metadata": {},
     "output_type": "display_data"
    },
    {
     "data": {
      "text/html": [
       "<pre>Finished training in 0.020245s</pre>"
      ],
      "text/plain": [
       "Finished training in 0.020245s"
      ]
     },
     "metadata": {},
     "output_type": "display_data"
    },
    {
     "data": {
      "text/html": [
       "<pre>recommendations finished on 1000/7987 queries. users per second: 80645.2</pre>"
      ],
      "text/plain": [
       "recommendations finished on 1000/7987 queries. users per second: 80645.2"
      ]
     },
     "metadata": {},
     "output_type": "display_data"
    },
    {
     "data": {
      "text/html": [
       "<pre>recommendations finished on 2000/7987 queries. users per second: 93231.4</pre>"
      ],
      "text/plain": [
       "recommendations finished on 2000/7987 queries. users per second: 93231.4"
      ]
     },
     "metadata": {},
     "output_type": "display_data"
    },
    {
     "data": {
      "text/html": [
       "<pre>recommendations finished on 3000/7987 queries. users per second: 93367.8</pre>"
      ],
      "text/plain": [
       "recommendations finished on 3000/7987 queries. users per second: 93367.8"
      ]
     },
     "metadata": {},
     "output_type": "display_data"
    },
    {
     "data": {
      "text/html": [
       "<pre>recommendations finished on 4000/7987 queries. users per second: 96824.2</pre>"
      ],
      "text/plain": [
       "recommendations finished on 4000/7987 queries. users per second: 96824.2"
      ]
     },
     "metadata": {},
     "output_type": "display_data"
    },
    {
     "data": {
      "text/html": [
       "<pre>recommendations finished on 5000/7987 queries. users per second: 97597.2</pre>"
      ],
      "text/plain": [
       "recommendations finished on 5000/7987 queries. users per second: 97597.2"
      ]
     },
     "metadata": {},
     "output_type": "display_data"
    },
    {
     "data": {
      "text/html": [
       "<pre>recommendations finished on 6000/7987 queries. users per second: 67503</pre>"
      ],
      "text/plain": [
       "recommendations finished on 6000/7987 queries. users per second: 67503"
      ]
     },
     "metadata": {},
     "output_type": "display_data"
    },
    {
     "data": {
      "text/html": [
       "<pre>recommendations finished on 7000/7987 queries. users per second: 53530.3</pre>"
      ],
      "text/plain": [
       "recommendations finished on 7000/7987 queries. users per second: 53530.3"
      ]
     },
     "metadata": {},
     "output_type": "display_data"
    },
    {
     "name": "stdout",
     "output_type": "stream",
     "text": [
      "+------------+-----------+---------------------+------+\n",
      "| customerId | productId |        score        | rank |\n",
      "+------------+-----------+---------------------+------+\n",
      "|  1076254   |   920085  | 0.23366357386112213 |  1   |\n",
      "|  1076254   |   920091  | 0.20642736554145813 |  2   |\n",
      "|  1076254   |   920087  |  0.1817682832479477 |  3   |\n",
      "|  1076254   |   920080  | 0.17993125319480896 |  4   |\n",
      "|  1076254   |   920084  | 0.17666125297546387 |  5   |\n",
      "|  1076254   |   920094  | 0.17522361874580383 |  6   |\n",
      "|  1076254   |   920082  | 0.17520073056221008 |  7   |\n",
      "|  1076254   |   920081  | 0.15613768994808197 |  8   |\n",
      "|  1076254   |   920086  |  0.1528647392988205 |  9   |\n",
      "|  1076254   |   920088  | 0.14629873633384705 |  10  |\n",
      "|  1268548   |   124465  | 0.24650225043296814 |  1   |\n",
      "|  1268548   |   123579  | 0.18257418274879456 |  2   |\n",
      "|  1268548   |   123822  | 0.17430341243743896 |  3   |\n",
      "|  1268548   |   123714  | 0.15811389684677124 |  4   |\n",
      "|  1268548   |   123683  | 0.15811389684677124 |  5   |\n",
      "|  1268548   |   123777  | 0.12325111031532288 |  6   |\n",
      "|  1268548   |   123915  | 0.12325111031532288 |  7   |\n",
      "|  1268548   |   122050  | 0.12325111031532288 |  8   |\n",
      "|  1268548   |   122760  | 0.11952286958694458 |  9   |\n",
      "|  1268548   |   124496  | 0.11840170621871948 |  10  |\n",
      "|  1709459   |   124606  | 0.27735012769699097 |  1   |\n",
      "|  1709459   |   124680  | 0.27735012769699097 |  2   |\n",
      "|  1709459   |   124562  |  0.1961161494255066 |  3   |\n",
      "|  1709459   |   124572  |  0.1386750340461731 |  4   |\n",
      "|  1709459   |   124591  | 0.12403476238250732 |  5   |\n",
      "|  1709459   |   124368  | 0.09805804491043091 |  6   |\n",
      "|  1709459   |   124501  | 0.09245002269744873 |  7   |\n",
      "|  1709459   |   124416  | 0.07692307233810425 |  8   |\n",
      "|  1709459   |   124563  | 0.07161146402359009 |  9   |\n",
      "|  1709459   |   123604  | 0.06933754682540894 |  10  |\n",
      "+------------+-----------+---------------------+------+\n",
      "[79870 rows x 4 columns]\n",
      "\n"
     ]
    }
   ],
   "source": [
    "# these variables will change accordingly\n",
    "name = 'cosine'\n",
    "target = 'purchase_dummy'\n",
    "cos_dummy = model(train_data_dummy, name, user_id, item_id, target, users_to_recommend, n_rec, n_display)"
   ]
  },
  {
   "cell_type": "markdown",
   "metadata": {},
   "source": [
    "#### Using normalized purchase count"
   ]
  },
  {
   "cell_type": "code",
   "execution_count": 62,
   "metadata": {},
   "outputs": [
    {
     "data": {
      "text/html": [
       "<pre>Preparing data set.</pre>"
      ],
      "text/plain": [
       "Preparing data set."
      ]
     },
     "metadata": {},
     "output_type": "display_data"
    },
    {
     "data": {
      "text/html": [
       "<pre>    Data has 16596 observations with 6579 users and 244 items.</pre>"
      ],
      "text/plain": [
       "    Data has 16596 observations with 6579 users and 244 items."
      ]
     },
     "metadata": {},
     "output_type": "display_data"
    },
    {
     "data": {
      "text/html": [
       "<pre>    Data prepared in: 0.041885s</pre>"
      ],
      "text/plain": [
       "    Data prepared in: 0.041885s"
      ]
     },
     "metadata": {},
     "output_type": "display_data"
    },
    {
     "data": {
      "text/html": [
       "<pre>Training model from provided data.</pre>"
      ],
      "text/plain": [
       "Training model from provided data."
      ]
     },
     "metadata": {},
     "output_type": "display_data"
    },
    {
     "data": {
      "text/html": [
       "<pre>Gathering per-item and per-user statistics.</pre>"
      ],
      "text/plain": [
       "Gathering per-item and per-user statistics."
      ]
     },
     "metadata": {},
     "output_type": "display_data"
    },
    {
     "data": {
      "text/html": [
       "<pre>+--------------------------------+------------+</pre>"
      ],
      "text/plain": [
       "+--------------------------------+------------+"
      ]
     },
     "metadata": {},
     "output_type": "display_data"
    },
    {
     "data": {
      "text/html": [
       "<pre>| Elapsed Time (Item Statistics) | % Complete |</pre>"
      ],
      "text/plain": [
       "| Elapsed Time (Item Statistics) | % Complete |"
      ]
     },
     "metadata": {},
     "output_type": "display_data"
    },
    {
     "data": {
      "text/html": [
       "<pre>+--------------------------------+------------+</pre>"
      ],
      "text/plain": [
       "+--------------------------------+------------+"
      ]
     },
     "metadata": {},
     "output_type": "display_data"
    },
    {
     "data": {
      "text/html": [
       "<pre>| 1.01ms                         | 15         |</pre>"
      ],
      "text/plain": [
       "| 1.01ms                         | 15         |"
      ]
     },
     "metadata": {},
     "output_type": "display_data"
    },
    {
     "data": {
      "text/html": [
       "<pre>| 2.972ms                        | 100        |</pre>"
      ],
      "text/plain": [
       "| 2.972ms                        | 100        |"
      ]
     },
     "metadata": {},
     "output_type": "display_data"
    },
    {
     "data": {
      "text/html": [
       "<pre>+--------------------------------+------------+</pre>"
      ],
      "text/plain": [
       "+--------------------------------+------------+"
      ]
     },
     "metadata": {},
     "output_type": "display_data"
    },
    {
     "data": {
      "text/html": [
       "<pre>Setting up lookup tables.</pre>"
      ],
      "text/plain": [
       "Setting up lookup tables."
      ]
     },
     "metadata": {},
     "output_type": "display_data"
    },
    {
     "data": {
      "text/html": [
       "<pre>Processing data in one pass using dense lookup tables.</pre>"
      ],
      "text/plain": [
       "Processing data in one pass using dense lookup tables."
      ]
     },
     "metadata": {},
     "output_type": "display_data"
    },
    {
     "data": {
      "text/html": [
       "<pre>+-------------------------------------+------------------+-----------------+</pre>"
      ],
      "text/plain": [
       "+-------------------------------------+------------------+-----------------+"
      ]
     },
     "metadata": {},
     "output_type": "display_data"
    },
    {
     "data": {
      "text/html": [
       "<pre>| Elapsed Time (Constructing Lookups) | Total % Complete | Items Processed |</pre>"
      ],
      "text/plain": [
       "| Elapsed Time (Constructing Lookups) | Total % Complete | Items Processed |"
      ]
     },
     "metadata": {},
     "output_type": "display_data"
    },
    {
     "data": {
      "text/html": [
       "<pre>+-------------------------------------+------------------+-----------------+</pre>"
      ],
      "text/plain": [
       "+-------------------------------------+------------------+-----------------+"
      ]
     },
     "metadata": {},
     "output_type": "display_data"
    },
    {
     "data": {
      "text/html": [
       "<pre>| 3.842ms                             | 0                | 0               |</pre>"
      ],
      "text/plain": [
       "| 3.842ms                             | 0                | 0               |"
      ]
     },
     "metadata": {},
     "output_type": "display_data"
    },
    {
     "data": {
      "text/html": [
       "<pre>| 11.772ms                            | 100              | 244             |</pre>"
      ],
      "text/plain": [
       "| 11.772ms                            | 100              | 244             |"
      ]
     },
     "metadata": {},
     "output_type": "display_data"
    },
    {
     "data": {
      "text/html": [
       "<pre>+-------------------------------------+------------------+-----------------+</pre>"
      ],
      "text/plain": [
       "+-------------------------------------+------------------+-----------------+"
      ]
     },
     "metadata": {},
     "output_type": "display_data"
    },
    {
     "data": {
      "text/html": [
       "<pre>Finalizing lookup tables.</pre>"
      ],
      "text/plain": [
       "Finalizing lookup tables."
      ]
     },
     "metadata": {},
     "output_type": "display_data"
    },
    {
     "data": {
      "text/html": [
       "<pre>Generating candidate set for working with new users.</pre>"
      ],
      "text/plain": [
       "Generating candidate set for working with new users."
      ]
     },
     "metadata": {},
     "output_type": "display_data"
    },
    {
     "data": {
      "text/html": [
       "<pre>Finished training in 0.020429s</pre>"
      ],
      "text/plain": [
       "Finished training in 0.020429s"
      ]
     },
     "metadata": {},
     "output_type": "display_data"
    },
    {
     "data": {
      "text/html": [
       "<pre>recommendations finished on 1000/7987 queries. users per second: 77700.1</pre>"
      ],
      "text/plain": [
       "recommendations finished on 1000/7987 queries. users per second: 77700.1"
      ]
     },
     "metadata": {},
     "output_type": "display_data"
    },
    {
     "data": {
      "text/html": [
       "<pre>recommendations finished on 2000/7987 queries. users per second: 101518</pre>"
      ],
      "text/plain": [
       "recommendations finished on 2000/7987 queries. users per second: 101518"
      ]
     },
     "metadata": {},
     "output_type": "display_data"
    },
    {
     "data": {
      "text/html": [
       "<pre>recommendations finished on 3000/7987 queries. users per second: 47881.3</pre>"
      ],
      "text/plain": [
       "recommendations finished on 3000/7987 queries. users per second: 47881.3"
      ]
     },
     "metadata": {},
     "output_type": "display_data"
    },
    {
     "data": {
      "text/html": [
       "<pre>recommendations finished on 4000/7987 queries. users per second: 52884.9</pre>"
      ],
      "text/plain": [
       "recommendations finished on 4000/7987 queries. users per second: 52884.9"
      ]
     },
     "metadata": {},
     "output_type": "display_data"
    },
    {
     "data": {
      "text/html": [
       "<pre>recommendations finished on 5000/7987 queries. users per second: 56428.3</pre>"
      ],
      "text/plain": [
       "recommendations finished on 5000/7987 queries. users per second: 56428.3"
      ]
     },
     "metadata": {},
     "output_type": "display_data"
    },
    {
     "data": {
      "text/html": [
       "<pre>recommendations finished on 6000/7987 queries. users per second: 54926.4</pre>"
      ],
      "text/plain": [
       "recommendations finished on 6000/7987 queries. users per second: 54926.4"
      ]
     },
     "metadata": {},
     "output_type": "display_data"
    },
    {
     "data": {
      "text/html": [
       "<pre>recommendations finished on 7000/7987 queries. users per second: 40064.6</pre>"
      ],
      "text/plain": [
       "recommendations finished on 7000/7987 queries. users per second: 40064.6"
      ]
     },
     "metadata": {},
     "output_type": "display_data"
    },
    {
     "name": "stdout",
     "output_type": "stream",
     "text": [
      "+------------+-----------+-------+------+\n",
      "| customerId | productId | score | rank |\n",
      "+------------+-----------+-------+------+\n",
      "|  1076254   |   123584  |  0.0  |  1   |\n",
      "|  1076254   |   920088  |  0.0  |  2   |\n",
      "|  1076254   |   122392  |  0.0  |  3   |\n",
      "|  1076254   |   122180  |  0.0  |  4   |\n",
      "|  1076254   |   124603  |  0.0  |  5   |\n",
      "|  1076254   |   124248  |  0.0  |  6   |\n",
      "|  1076254   |   920080  |  0.0  |  7   |\n",
      "|  1076254   |   920089  |  0.0  |  8   |\n",
      "|  1076254   |   920091  |  0.0  |  9   |\n",
      "|  1076254   |   123086  |  0.0  |  10  |\n",
      "|  1268548   |   920088  |  0.0  |  1   |\n",
      "|  1268548   |   122392  |  0.0  |  2   |\n",
      "|  1268548   |   122180  |  0.0  |  3   |\n",
      "|  1268548   |   124603  |  0.0  |  4   |\n",
      "|  1268548   |   124248  |  0.0  |  5   |\n",
      "|  1268548   |   920080  |  0.0  |  6   |\n",
      "|  1268548   |   920089  |  0.0  |  7   |\n",
      "|  1268548   |   920090  |  0.0  |  8   |\n",
      "|  1268548   |   920091  |  0.0  |  9   |\n",
      "|  1268548   |   123086  |  0.0  |  10  |\n",
      "|  1709459   |   123584  |  0.0  |  1   |\n",
      "|  1709459   |   920088  |  0.0  |  2   |\n",
      "|  1709459   |   122392  |  0.0  |  3   |\n",
      "|  1709459   |   122180  |  0.0  |  4   |\n",
      "|  1709459   |   124603  |  0.0  |  5   |\n",
      "|  1709459   |   124248  |  0.0  |  6   |\n",
      "|  1709459   |   920080  |  0.0  |  7   |\n",
      "|  1709459   |   920090  |  0.0  |  8   |\n",
      "|  1709459   |   920091  |  0.0  |  9   |\n",
      "|  1709459   |   123086  |  0.0  |  10  |\n",
      "+------------+-----------+-------+------+\n",
      "[79870 rows x 4 columns]\n",
      "\n"
     ]
    }
   ],
   "source": [
    "name = 'cosine'\n",
    "target = 'scaled_purchase_freq'\n",
    "cos_norm = model(train_data_norm, name, user_id, item_id, target, users_to_recommend, n_rec, n_display)"
   ]
  },
  {
   "cell_type": "markdown",
   "metadata": {},
   "source": [
    "### 6.2. `Pearson` similarity\n",
    "* Similarity is the pearson coefficient between the two vectors.\n",
    "* It is defined by the following formula\n",
    "![](http://critical-numbers.group.shef.ac.uk/glossary/images/correlationKT1.png)"
   ]
  },
  {
   "cell_type": "markdown",
   "metadata": {},
   "source": [
    "#### Using purchase count"
   ]
  },
  {
   "cell_type": "code",
   "execution_count": 63,
   "metadata": {},
   "outputs": [
    {
     "data": {
      "text/html": [
       "<pre>Preparing data set.</pre>"
      ],
      "text/plain": [
       "Preparing data set."
      ]
     },
     "metadata": {},
     "output_type": "display_data"
    },
    {
     "data": {
      "text/html": [
       "<pre>    Data has 19570 observations with 7167 users and 701 items.</pre>"
      ],
      "text/plain": [
       "    Data has 19570 observations with 7167 users and 701 items."
      ]
     },
     "metadata": {},
     "output_type": "display_data"
    },
    {
     "data": {
      "text/html": [
       "<pre>    Data prepared in: 0.058774s</pre>"
      ],
      "text/plain": [
       "    Data prepared in: 0.058774s"
      ]
     },
     "metadata": {},
     "output_type": "display_data"
    },
    {
     "data": {
      "text/html": [
       "<pre>Training model from provided data.</pre>"
      ],
      "text/plain": [
       "Training model from provided data."
      ]
     },
     "metadata": {},
     "output_type": "display_data"
    },
    {
     "data": {
      "text/html": [
       "<pre>Gathering per-item and per-user statistics.</pre>"
      ],
      "text/plain": [
       "Gathering per-item and per-user statistics."
      ]
     },
     "metadata": {},
     "output_type": "display_data"
    },
    {
     "data": {
      "text/html": [
       "<pre>+--------------------------------+------------+</pre>"
      ],
      "text/plain": [
       "+--------------------------------+------------+"
      ]
     },
     "metadata": {},
     "output_type": "display_data"
    },
    {
     "data": {
      "text/html": [
       "<pre>| Elapsed Time (Item Statistics) | % Complete |</pre>"
      ],
      "text/plain": [
       "| Elapsed Time (Item Statistics) | % Complete |"
      ]
     },
     "metadata": {},
     "output_type": "display_data"
    },
    {
     "data": {
      "text/html": [
       "<pre>+--------------------------------+------------+</pre>"
      ],
      "text/plain": [
       "+--------------------------------+------------+"
      ]
     },
     "metadata": {},
     "output_type": "display_data"
    },
    {
     "data": {
      "text/html": [
       "<pre>| 1.375ms                        | 13.75      |</pre>"
      ],
      "text/plain": [
       "| 1.375ms                        | 13.75      |"
      ]
     },
     "metadata": {},
     "output_type": "display_data"
    },
    {
     "data": {
      "text/html": [
       "<pre>| 16.089ms                       | 100        |</pre>"
      ],
      "text/plain": [
       "| 16.089ms                       | 100        |"
      ]
     },
     "metadata": {},
     "output_type": "display_data"
    },
    {
     "data": {
      "text/html": [
       "<pre>+--------------------------------+------------+</pre>"
      ],
      "text/plain": [
       "+--------------------------------+------------+"
      ]
     },
     "metadata": {},
     "output_type": "display_data"
    },
    {
     "data": {
      "text/html": [
       "<pre>Setting up lookup tables.</pre>"
      ],
      "text/plain": [
       "Setting up lookup tables."
      ]
     },
     "metadata": {},
     "output_type": "display_data"
    },
    {
     "data": {
      "text/html": [
       "<pre>Processing data in one pass using dense lookup tables.</pre>"
      ],
      "text/plain": [
       "Processing data in one pass using dense lookup tables."
      ]
     },
     "metadata": {},
     "output_type": "display_data"
    },
    {
     "data": {
      "text/html": [
       "<pre>+-------------------------------------+------------------+-----------------+</pre>"
      ],
      "text/plain": [
       "+-------------------------------------+------------------+-----------------+"
      ]
     },
     "metadata": {},
     "output_type": "display_data"
    },
    {
     "data": {
      "text/html": [
       "<pre>| Elapsed Time (Constructing Lookups) | Total % Complete | Items Processed |</pre>"
      ],
      "text/plain": [
       "| Elapsed Time (Constructing Lookups) | Total % Complete | Items Processed |"
      ]
     },
     "metadata": {},
     "output_type": "display_data"
    },
    {
     "data": {
      "text/html": [
       "<pre>+-------------------------------------+------------------+-----------------+</pre>"
      ],
      "text/plain": [
       "+-------------------------------------+------------------+-----------------+"
      ]
     },
     "metadata": {},
     "output_type": "display_data"
    },
    {
     "data": {
      "text/html": [
       "<pre>| 20.53ms                             | 0                | 0               |</pre>"
      ],
      "text/plain": [
       "| 20.53ms                             | 0                | 0               |"
      ]
     },
     "metadata": {},
     "output_type": "display_data"
    },
    {
     "data": {
      "text/html": [
       "<pre>| 43.676ms                            | 100              | 701             |</pre>"
      ],
      "text/plain": [
       "| 43.676ms                            | 100              | 701             |"
      ]
     },
     "metadata": {},
     "output_type": "display_data"
    },
    {
     "data": {
      "text/html": [
       "<pre>+-------------------------------------+------------------+-----------------+</pre>"
      ],
      "text/plain": [
       "+-------------------------------------+------------------+-----------------+"
      ]
     },
     "metadata": {},
     "output_type": "display_data"
    },
    {
     "data": {
      "text/html": [
       "<pre>Finalizing lookup tables.</pre>"
      ],
      "text/plain": [
       "Finalizing lookup tables."
      ]
     },
     "metadata": {},
     "output_type": "display_data"
    },
    {
     "data": {
      "text/html": [
       "<pre>Generating candidate set for working with new users.</pre>"
      ],
      "text/plain": [
       "Generating candidate set for working with new users."
      ]
     },
     "metadata": {},
     "output_type": "display_data"
    },
    {
     "data": {
      "text/html": [
       "<pre>Finished training in 0.061537s</pre>"
      ],
      "text/plain": [
       "Finished training in 0.061537s"
      ]
     },
     "metadata": {},
     "output_type": "display_data"
    },
    {
     "data": {
      "text/html": [
       "<pre>recommendations finished on 1000/7987 queries. users per second: 34479.2</pre>"
      ],
      "text/plain": [
       "recommendations finished on 1000/7987 queries. users per second: 34479.2"
      ]
     },
     "metadata": {},
     "output_type": "display_data"
    },
    {
     "data": {
      "text/html": [
       "<pre>recommendations finished on 2000/7987 queries. users per second: 39000.8</pre>"
      ],
      "text/plain": [
       "recommendations finished on 2000/7987 queries. users per second: 39000.8"
      ]
     },
     "metadata": {},
     "output_type": "display_data"
    },
    {
     "data": {
      "text/html": [
       "<pre>recommendations finished on 3000/7987 queries. users per second: 22016.6</pre>"
      ],
      "text/plain": [
       "recommendations finished on 3000/7987 queries. users per second: 22016.6"
      ]
     },
     "metadata": {},
     "output_type": "display_data"
    },
    {
     "data": {
      "text/html": [
       "<pre>recommendations finished on 4000/7987 queries. users per second: 22639.3</pre>"
      ],
      "text/plain": [
       "recommendations finished on 4000/7987 queries. users per second: 22639.3"
      ]
     },
     "metadata": {},
     "output_type": "display_data"
    },
    {
     "data": {
      "text/html": [
       "<pre>recommendations finished on 5000/7987 queries. users per second: 20669.9</pre>"
      ],
      "text/plain": [
       "recommendations finished on 5000/7987 queries. users per second: 20669.9"
      ]
     },
     "metadata": {},
     "output_type": "display_data"
    },
    {
     "data": {
      "text/html": [
       "<pre>recommendations finished on 6000/7987 queries. users per second: 21641.4</pre>"
      ],
      "text/plain": [
       "recommendations finished on 6000/7987 queries. users per second: 21641.4"
      ]
     },
     "metadata": {},
     "output_type": "display_data"
    },
    {
     "data": {
      "text/html": [
       "<pre>recommendations finished on 7000/7987 queries. users per second: 22197.9</pre>"
      ],
      "text/plain": [
       "recommendations finished on 7000/7987 queries. users per second: 22197.9"
      ]
     },
     "metadata": {},
     "output_type": "display_data"
    },
    {
     "name": "stdout",
     "output_type": "stream",
     "text": [
      "+------------+-----------+--------------------+------+\n",
      "| customerId | productId |       score        | rank |\n",
      "+------------+-----------+--------------------+------+\n",
      "|  1076254   |   124136  |        2.0         |  1   |\n",
      "|  1076254   |   124838  |        2.0         |  2   |\n",
      "|  1076254   |   124738  |        2.0         |  3   |\n",
      "|  1076254   |   123864  |        2.0         |  4   |\n",
      "|  1076254   |   123553  |        1.5         |  5   |\n",
      "|  1076254   |   123123  |        1.5         |  6   |\n",
      "|  1076254   |   124519  |        1.5         |  7   |\n",
      "|  1076254   |   124074  |        1.5         |  8   |\n",
      "|  1076254   |   120386  | 1.4998991191387177 |  9   |\n",
      "|  1076254   |   124517  | 1.4976870715618134 |  10  |\n",
      "|  1268548   |   124136  |        2.0         |  1   |\n",
      "|  1268548   |   124838  |        2.0         |  2   |\n",
      "|  1268548   |   124738  |        2.0         |  3   |\n",
      "|  1268548   |   123864  |        2.0         |  4   |\n",
      "|  1268548   |   123553  |        1.5         |  5   |\n",
      "|  1268548   |   120386  |        1.5         |  6   |\n",
      "|  1268548   |   123123  |        1.5         |  7   |\n",
      "|  1268548   |   124519  |        1.5         |  8   |\n",
      "|  1268548   |   124074  |        1.5         |  9   |\n",
      "|  1268548   |   124517  |  1.49306121468544  |  10  |\n",
      "|  1709459   |   124136  |        2.0         |  1   |\n",
      "|  1709459   |   124838  |        2.0         |  2   |\n",
      "|  1709459   |   124738  |        2.0         |  3   |\n",
      "|  1709459   |   123864  |        2.0         |  4   |\n",
      "|  1709459   |   123553  |        1.5         |  5   |\n",
      "|  1709459   |   123123  |        1.5         |  6   |\n",
      "|  1709459   |   124519  |        1.5         |  7   |\n",
      "|  1709459   |   124074  |        1.5         |  8   |\n",
      "|  1709459   |   120386  | 1.4997982382774353 |  9   |\n",
      "|  1709459   |   124517  | 1.4953741431236267 |  10  |\n",
      "+------------+-----------+--------------------+------+\n",
      "[79870 rows x 4 columns]\n",
      "\n"
     ]
    }
   ],
   "source": [
    "# these variables will change accordingly\n",
    "name = 'pearson'\n",
    "target = 'purchase_count'\n",
    "pear = model(train_data, name, user_id, item_id, target, users_to_recommend, n_rec, n_display)"
   ]
  },
  {
   "cell_type": "markdown",
   "metadata": {},
   "source": [
    "#### Using purchase dummy"
   ]
  },
  {
   "cell_type": "code",
   "execution_count": 64,
   "metadata": {},
   "outputs": [
    {
     "data": {
      "text/html": [
       "<pre>Warning: Ignoring columns purchase_count;</pre>"
      ],
      "text/plain": [
       "Warning: Ignoring columns purchase_count;"
      ]
     },
     "metadata": {},
     "output_type": "display_data"
    },
    {
     "data": {
      "text/html": [
       "<pre>    To use these columns in scoring predictions, use a model that allows the use of additional features.</pre>"
      ],
      "text/plain": [
       "    To use these columns in scoring predictions, use a model that allows the use of additional features."
      ]
     },
     "metadata": {},
     "output_type": "display_data"
    },
    {
     "data": {
      "text/html": [
       "<pre>Preparing data set.</pre>"
      ],
      "text/plain": [
       "Preparing data set."
      ]
     },
     "metadata": {},
     "output_type": "display_data"
    },
    {
     "data": {
      "text/html": [
       "<pre>    Data has 19570 observations with 7222 users and 706 items.</pre>"
      ],
      "text/plain": [
       "    Data has 19570 observations with 7222 users and 706 items."
      ]
     },
     "metadata": {},
     "output_type": "display_data"
    },
    {
     "data": {
      "text/html": [
       "<pre>    Data prepared in: 0.055659s</pre>"
      ],
      "text/plain": [
       "    Data prepared in: 0.055659s"
      ]
     },
     "metadata": {},
     "output_type": "display_data"
    },
    {
     "data": {
      "text/html": [
       "<pre>Training model from provided data.</pre>"
      ],
      "text/plain": [
       "Training model from provided data."
      ]
     },
     "metadata": {},
     "output_type": "display_data"
    },
    {
     "data": {
      "text/html": [
       "<pre>Gathering per-item and per-user statistics.</pre>"
      ],
      "text/plain": [
       "Gathering per-item and per-user statistics."
      ]
     },
     "metadata": {},
     "output_type": "display_data"
    },
    {
     "data": {
      "text/html": [
       "<pre>+--------------------------------+------------+</pre>"
      ],
      "text/plain": [
       "+--------------------------------+------------+"
      ]
     },
     "metadata": {},
     "output_type": "display_data"
    },
    {
     "data": {
      "text/html": [
       "<pre>| Elapsed Time (Item Statistics) | % Complete |</pre>"
      ],
      "text/plain": [
       "| Elapsed Time (Item Statistics) | % Complete |"
      ]
     },
     "metadata": {},
     "output_type": "display_data"
    },
    {
     "data": {
      "text/html": [
       "<pre>+--------------------------------+------------+</pre>"
      ],
      "text/plain": [
       "+--------------------------------+------------+"
      ]
     },
     "metadata": {},
     "output_type": "display_data"
    },
    {
     "data": {
      "text/html": [
       "<pre>| 1.334ms                        | 13.75      |</pre>"
      ],
      "text/plain": [
       "| 1.334ms                        | 13.75      |"
      ]
     },
     "metadata": {},
     "output_type": "display_data"
    },
    {
     "data": {
      "text/html": [
       "<pre>| 2.606ms                        | 100        |</pre>"
      ],
      "text/plain": [
       "| 2.606ms                        | 100        |"
      ]
     },
     "metadata": {},
     "output_type": "display_data"
    },
    {
     "data": {
      "text/html": [
       "<pre>+--------------------------------+------------+</pre>"
      ],
      "text/plain": [
       "+--------------------------------+------------+"
      ]
     },
     "metadata": {},
     "output_type": "display_data"
    },
    {
     "data": {
      "text/html": [
       "<pre>Setting up lookup tables.</pre>"
      ],
      "text/plain": [
       "Setting up lookup tables."
      ]
     },
     "metadata": {},
     "output_type": "display_data"
    },
    {
     "data": {
      "text/html": [
       "<pre>Processing data in one pass using dense lookup tables.</pre>"
      ],
      "text/plain": [
       "Processing data in one pass using dense lookup tables."
      ]
     },
     "metadata": {},
     "output_type": "display_data"
    },
    {
     "data": {
      "text/html": [
       "<pre>+-------------------------------------+------------------+-----------------+</pre>"
      ],
      "text/plain": [
       "+-------------------------------------+------------------+-----------------+"
      ]
     },
     "metadata": {},
     "output_type": "display_data"
    },
    {
     "data": {
      "text/html": [
       "<pre>| Elapsed Time (Constructing Lookups) | Total % Complete | Items Processed |</pre>"
      ],
      "text/plain": [
       "| Elapsed Time (Constructing Lookups) | Total % Complete | Items Processed |"
      ]
     },
     "metadata": {},
     "output_type": "display_data"
    },
    {
     "data": {
      "text/html": [
       "<pre>+-------------------------------------+------------------+-----------------+</pre>"
      ],
      "text/plain": [
       "+-------------------------------------+------------------+-----------------+"
      ]
     },
     "metadata": {},
     "output_type": "display_data"
    },
    {
     "data": {
      "text/html": [
       "<pre>| 5.515ms                             | 0                | 0               |</pre>"
      ],
      "text/plain": [
       "| 5.515ms                             | 0                | 0               |"
      ]
     },
     "metadata": {},
     "output_type": "display_data"
    },
    {
     "data": {
      "text/html": [
       "<pre>| 12.802ms                            | 100              | 706             |</pre>"
      ],
      "text/plain": [
       "| 12.802ms                            | 100              | 706             |"
      ]
     },
     "metadata": {},
     "output_type": "display_data"
    },
    {
     "data": {
      "text/html": [
       "<pre>+-------------------------------------+------------------+-----------------+</pre>"
      ],
      "text/plain": [
       "+-------------------------------------+------------------+-----------------+"
      ]
     },
     "metadata": {},
     "output_type": "display_data"
    },
    {
     "data": {
      "text/html": [
       "<pre>Finalizing lookup tables.</pre>"
      ],
      "text/plain": [
       "Finalizing lookup tables."
      ]
     },
     "metadata": {},
     "output_type": "display_data"
    },
    {
     "data": {
      "text/html": [
       "<pre>Generating candidate set for working with new users.</pre>"
      ],
      "text/plain": [
       "Generating candidate set for working with new users."
      ]
     },
     "metadata": {},
     "output_type": "display_data"
    },
    {
     "data": {
      "text/html": [
       "<pre>Finished training in 0.023683s</pre>"
      ],
      "text/plain": [
       "Finished training in 0.023683s"
      ]
     },
     "metadata": {},
     "output_type": "display_data"
    },
    {
     "data": {
      "text/html": [
       "<pre>recommendations finished on 1000/7987 queries. users per second: 64491.2</pre>"
      ],
      "text/plain": [
       "recommendations finished on 1000/7987 queries. users per second: 64491.2"
      ]
     },
     "metadata": {},
     "output_type": "display_data"
    },
    {
     "data": {
      "text/html": [
       "<pre>recommendations finished on 2000/7987 queries. users per second: 76458.4</pre>"
      ],
      "text/plain": [
       "recommendations finished on 2000/7987 queries. users per second: 76458.4"
      ]
     },
     "metadata": {},
     "output_type": "display_data"
    },
    {
     "data": {
      "text/html": [
       "<pre>recommendations finished on 3000/7987 queries. users per second: 82126.5</pre>"
      ],
      "text/plain": [
       "recommendations finished on 3000/7987 queries. users per second: 82126.5"
      ]
     },
     "metadata": {},
     "output_type": "display_data"
    },
    {
     "data": {
      "text/html": [
       "<pre>recommendations finished on 4000/7987 queries. users per second: 85510.3</pre>"
      ],
      "text/plain": [
       "recommendations finished on 4000/7987 queries. users per second: 85510.3"
      ]
     },
     "metadata": {},
     "output_type": "display_data"
    },
    {
     "data": {
      "text/html": [
       "<pre>recommendations finished on 5000/7987 queries. users per second: 89631.4</pre>"
      ],
      "text/plain": [
       "recommendations finished on 5000/7987 queries. users per second: 89631.4"
      ]
     },
     "metadata": {},
     "output_type": "display_data"
    },
    {
     "data": {
      "text/html": [
       "<pre>recommendations finished on 6000/7987 queries. users per second: 90041.4</pre>"
      ],
      "text/plain": [
       "recommendations finished on 6000/7987 queries. users per second: 90041.4"
      ]
     },
     "metadata": {},
     "output_type": "display_data"
    },
    {
     "data": {
      "text/html": [
       "<pre>recommendations finished on 7000/7987 queries. users per second: 86976</pre>"
      ],
      "text/plain": [
       "recommendations finished on 7000/7987 queries. users per second: 86976"
      ]
     },
     "metadata": {},
     "output_type": "display_data"
    },
    {
     "name": "stdout",
     "output_type": "stream",
     "text": [
      "+------------+-----------+-------+------+\n",
      "| customerId | productId | score | rank |\n",
      "+------------+-----------+-------+------+\n",
      "|  1076254   |   920084  |  0.0  |  1   |\n",
      "|  1076254   |   124489  |  0.0  |  2   |\n",
      "|  1076254   |   123507  |  0.0  |  3   |\n",
      "|  1076254   |   123597  |  0.0  |  4   |\n",
      "|  1076254   |   920080  |  0.0  |  5   |\n",
      "|  1076254   |   121413  |  0.0  |  6   |\n",
      "|  1076254   |   920086  |  0.0  |  7   |\n",
      "|  1076254   |   123919  |  0.0  |  8   |\n",
      "|  1076254   |   122181  |  0.0  |  9   |\n",
      "|  1076254   |   920091  |  0.0  |  10  |\n",
      "|  1268548   |   124489  |  0.0  |  1   |\n",
      "|  1268548   |   123507  |  0.0  |  2   |\n",
      "|  1268548   |   123597  |  0.0  |  3   |\n",
      "|  1268548   |   920080  |  0.0  |  4   |\n",
      "|  1268548   |   121413  |  0.0  |  5   |\n",
      "|  1268548   |   920086  |  0.0  |  6   |\n",
      "|  1268548   |   920089  |  0.0  |  7   |\n",
      "|  1268548   |   123919  |  0.0  |  8   |\n",
      "|  1268548   |   122181  |  0.0  |  9   |\n",
      "|  1268548   |   920091  |  0.0  |  10  |\n",
      "|  1709459   |   124489  |  0.0  |  1   |\n",
      "|  1709459   |   123507  |  0.0  |  2   |\n",
      "|  1709459   |   123597  |  0.0  |  3   |\n",
      "|  1709459   |   920080  |  0.0  |  4   |\n",
      "|  1709459   |   121413  |  0.0  |  5   |\n",
      "|  1709459   |   920086  |  0.0  |  6   |\n",
      "|  1709459   |   920089  |  0.0  |  7   |\n",
      "|  1709459   |   123919  |  0.0  |  8   |\n",
      "|  1709459   |   122181  |  0.0  |  9   |\n",
      "|  1709459   |   920091  |  0.0  |  10  |\n",
      "+------------+-----------+-------+------+\n",
      "[79870 rows x 4 columns]\n",
      "\n"
     ]
    }
   ],
   "source": [
    "# these variables will change accordingly\n",
    "name = 'pearson'\n",
    "target = 'purchase_dummy'\n",
    "pear_dummy = model(train_data_dummy, name, user_id, item_id, target, users_to_recommend, n_rec, n_display)"
   ]
  },
  {
   "cell_type": "markdown",
   "metadata": {},
   "source": [
    "#### Using normalized purchase count"
   ]
  },
  {
   "cell_type": "code",
   "execution_count": 65,
   "metadata": {},
   "outputs": [
    {
     "data": {
      "text/html": [
       "<pre>Preparing data set.</pre>"
      ],
      "text/plain": [
       "Preparing data set."
      ]
     },
     "metadata": {},
     "output_type": "display_data"
    },
    {
     "data": {
      "text/html": [
       "<pre>    Data has 16596 observations with 6579 users and 244 items.</pre>"
      ],
      "text/plain": [
       "    Data has 16596 observations with 6579 users and 244 items."
      ]
     },
     "metadata": {},
     "output_type": "display_data"
    },
    {
     "data": {
      "text/html": [
       "<pre>    Data prepared in: 0.047512s</pre>"
      ],
      "text/plain": [
       "    Data prepared in: 0.047512s"
      ]
     },
     "metadata": {},
     "output_type": "display_data"
    },
    {
     "data": {
      "text/html": [
       "<pre>Training model from provided data.</pre>"
      ],
      "text/plain": [
       "Training model from provided data."
      ]
     },
     "metadata": {},
     "output_type": "display_data"
    },
    {
     "data": {
      "text/html": [
       "<pre>Gathering per-item and per-user statistics.</pre>"
      ],
      "text/plain": [
       "Gathering per-item and per-user statistics."
      ]
     },
     "metadata": {},
     "output_type": "display_data"
    },
    {
     "data": {
      "text/html": [
       "<pre>+--------------------------------+------------+</pre>"
      ],
      "text/plain": [
       "+--------------------------------+------------+"
      ]
     },
     "metadata": {},
     "output_type": "display_data"
    },
    {
     "data": {
      "text/html": [
       "<pre>| Elapsed Time (Item Statistics) | % Complete |</pre>"
      ],
      "text/plain": [
       "| Elapsed Time (Item Statistics) | % Complete |"
      ]
     },
     "metadata": {},
     "output_type": "display_data"
    },
    {
     "data": {
      "text/html": [
       "<pre>+--------------------------------+------------+</pre>"
      ],
      "text/plain": [
       "+--------------------------------+------------+"
      ]
     },
     "metadata": {},
     "output_type": "display_data"
    },
    {
     "data": {
      "text/html": [
       "<pre>| 1.092ms                        | 15         |</pre>"
      ],
      "text/plain": [
       "| 1.092ms                        | 15         |"
      ]
     },
     "metadata": {},
     "output_type": "display_data"
    },
    {
     "data": {
      "text/html": [
       "<pre>| 2.941ms                        | 100        |</pre>"
      ],
      "text/plain": [
       "| 2.941ms                        | 100        |"
      ]
     },
     "metadata": {},
     "output_type": "display_data"
    },
    {
     "data": {
      "text/html": [
       "<pre>+--------------------------------+------------+</pre>"
      ],
      "text/plain": [
       "+--------------------------------+------------+"
      ]
     },
     "metadata": {},
     "output_type": "display_data"
    },
    {
     "data": {
      "text/html": [
       "<pre>Setting up lookup tables.</pre>"
      ],
      "text/plain": [
       "Setting up lookup tables."
      ]
     },
     "metadata": {},
     "output_type": "display_data"
    },
    {
     "data": {
      "text/html": [
       "<pre>Processing data in one pass using dense lookup tables.</pre>"
      ],
      "text/plain": [
       "Processing data in one pass using dense lookup tables."
      ]
     },
     "metadata": {},
     "output_type": "display_data"
    },
    {
     "data": {
      "text/html": [
       "<pre>+-------------------------------------+------------------+-----------------+</pre>"
      ],
      "text/plain": [
       "+-------------------------------------+------------------+-----------------+"
      ]
     },
     "metadata": {},
     "output_type": "display_data"
    },
    {
     "data": {
      "text/html": [
       "<pre>| Elapsed Time (Constructing Lookups) | Total % Complete | Items Processed |</pre>"
      ],
      "text/plain": [
       "| Elapsed Time (Constructing Lookups) | Total % Complete | Items Processed |"
      ]
     },
     "metadata": {},
     "output_type": "display_data"
    },
    {
     "data": {
      "text/html": [
       "<pre>+-------------------------------------+------------------+-----------------+</pre>"
      ],
      "text/plain": [
       "+-------------------------------------+------------------+-----------------+"
      ]
     },
     "metadata": {},
     "output_type": "display_data"
    },
    {
     "data": {
      "text/html": [
       "<pre>| 4.048ms                             | 0                | 0               |</pre>"
      ],
      "text/plain": [
       "| 4.048ms                             | 0                | 0               |"
      ]
     },
     "metadata": {},
     "output_type": "display_data"
    },
    {
     "data": {
      "text/html": [
       "<pre>| 8.854ms                             | 100              | 244             |</pre>"
      ],
      "text/plain": [
       "| 8.854ms                             | 100              | 244             |"
      ]
     },
     "metadata": {},
     "output_type": "display_data"
    },
    {
     "data": {
      "text/html": [
       "<pre>+-------------------------------------+------------------+-----------------+</pre>"
      ],
      "text/plain": [
       "+-------------------------------------+------------------+-----------------+"
      ]
     },
     "metadata": {},
     "output_type": "display_data"
    },
    {
     "data": {
      "text/html": [
       "<pre>Finalizing lookup tables.</pre>"
      ],
      "text/plain": [
       "Finalizing lookup tables."
      ]
     },
     "metadata": {},
     "output_type": "display_data"
    },
    {
     "data": {
      "text/html": [
       "<pre>Generating candidate set for working with new users.</pre>"
      ],
      "text/plain": [
       "Generating candidate set for working with new users."
      ]
     },
     "metadata": {},
     "output_type": "display_data"
    },
    {
     "data": {
      "text/html": [
       "<pre>Finished training in 0.011634s</pre>"
      ],
      "text/plain": [
       "Finished training in 0.011634s"
      ]
     },
     "metadata": {},
     "output_type": "display_data"
    },
    {
     "data": {
      "text/html": [
       "<pre>recommendations finished on 1000/7987 queries. users per second: 115300</pre>"
      ],
      "text/plain": [
       "recommendations finished on 1000/7987 queries. users per second: 115300"
      ]
     },
     "metadata": {},
     "output_type": "display_data"
    },
    {
     "data": {
      "text/html": [
       "<pre>recommendations finished on 2000/7987 queries. users per second: 28053.2</pre>"
      ],
      "text/plain": [
       "recommendations finished on 2000/7987 queries. users per second: 28053.2"
      ]
     },
     "metadata": {},
     "output_type": "display_data"
    },
    {
     "data": {
      "text/html": [
       "<pre>recommendations finished on 3000/7987 queries. users per second: 37184.9</pre>"
      ],
      "text/plain": [
       "recommendations finished on 3000/7987 queries. users per second: 37184.9"
      ]
     },
     "metadata": {},
     "output_type": "display_data"
    },
    {
     "data": {
      "text/html": [
       "<pre>recommendations finished on 4000/7987 queries. users per second: 41215</pre>"
      ],
      "text/plain": [
       "recommendations finished on 4000/7987 queries. users per second: 41215"
      ]
     },
     "metadata": {},
     "output_type": "display_data"
    },
    {
     "data": {
      "text/html": [
       "<pre>recommendations finished on 5000/7987 queries. users per second: 44105.3</pre>"
      ],
      "text/plain": [
       "recommendations finished on 5000/7987 queries. users per second: 44105.3"
      ]
     },
     "metadata": {},
     "output_type": "display_data"
    },
    {
     "data": {
      "text/html": [
       "<pre>recommendations finished on 6000/7987 queries. users per second: 46042.3</pre>"
      ],
      "text/plain": [
       "recommendations finished on 6000/7987 queries. users per second: 46042.3"
      ]
     },
     "metadata": {},
     "output_type": "display_data"
    },
    {
     "data": {
      "text/html": [
       "<pre>recommendations finished on 7000/7987 queries. users per second: 47520.8</pre>"
      ],
      "text/plain": [
       "recommendations finished on 7000/7987 queries. users per second: 47520.8"
      ]
     },
     "metadata": {},
     "output_type": "display_data"
    },
    {
     "name": "stdout",
     "output_type": "stream",
     "text": [
      "+------------+-----------+---------------------+------+\n",
      "| customerId | productId |        score        | rank |\n",
      "+------------+-----------+---------------------+------+\n",
      "|  1076254   |   123429  |         1.0         |  1   |\n",
      "|  1076254   |   124533  |         1.0         |  2   |\n",
      "|  1076254   |   123123  |         0.5         |  3   |\n",
      "|  1076254   |   120386  |         0.5         |  4   |\n",
      "|  1076254   |   124074  |         0.5         |  5   |\n",
      "|  1076254   |   124697  |         0.5         |  6   |\n",
      "|  1076254   |   124568  |         0.5         |  7   |\n",
      "|  1076254   |   124517  |  0.4970615267753601 |  8   |\n",
      "|  1076254   |   124669  |  0.4970615267753601 |  9   |\n",
      "|  1076254   |   120976  | 0.42853447369166786 |  10  |\n",
      "|  1268548   |   123429  |         1.0         |  1   |\n",
      "|  1268548   |   124533  |         1.0         |  2   |\n",
      "|  1268548   |   123123  |         0.5         |  3   |\n",
      "|  1268548   |   120386  |         0.5         |  4   |\n",
      "|  1268548   |   124074  |         0.5         |  5   |\n",
      "|  1268548   |   124697  |         0.5         |  6   |\n",
      "|  1268548   |   124568  |         0.5         |  7   |\n",
      "|  1268548   |   124517  | 0.48530763387680054 |  8   |\n",
      "|  1268548   |   124669  | 0.48530763387680054 |  9   |\n",
      "|  1268548   |   120976  |  0.4285714285714286 |  10  |\n",
      "|  1709459   |   123429  |         1.0         |  1   |\n",
      "|  1709459   |   124533  |         1.0         |  2   |\n",
      "|  1709459   |   123123  |         0.5         |  3   |\n",
      "|  1709459   |   124074  |         0.5         |  4   |\n",
      "|  1709459   |   124697  |         0.5         |  5   |\n",
      "|  1709459   |   120386  |  0.4999123513698578 |  6   |\n",
      "|  1709459   |   124568  | 0.49950775504112244 |  7   |\n",
      "|  1709459   |   124517  | 0.49265381693840027 |  8   |\n",
      "|  1709459   |   124669  | 0.49265381693840027 |  9   |\n",
      "|  1709459   |   120976  |  0.4285714285714286 |  10  |\n",
      "+------------+-----------+---------------------+------+\n",
      "[79870 rows x 4 columns]\n",
      "\n"
     ]
    }
   ],
   "source": [
    "name = 'pearson'\n",
    "target = 'scaled_purchase_freq'\n",
    "pear_norm = model(train_data_norm, name, user_id, item_id, target, users_to_recommend, n_rec, n_display)"
   ]
  },
  {
   "cell_type": "markdown",
   "metadata": {},
   "source": [
    "#### Note\n",
    "* In collaborative filtering above, we used two approaches: cosine and pearson distance. We also got to apply them to three training datasets with normal counts, dummy, or normalized counts of items purchase.\n",
    "* We can see that the recommendations are different for each user. This suggests that personalization does exist. \n",
    "* But how good is this model compared to the baseline, and to each other? We need some means of evaluating a recommendation engine. Lets focus on that in the next section."
   ]
  },
  {
   "cell_type": "markdown",
   "metadata": {},
   "source": [
    "## 7. Model Evaluation\n",
    "For evaluating recommendation engines, we can use the concept of precision-recall.\n",
    "\n",
    "* RMSE (Root Mean Squared Errors)\n",
    "    * Measures the error of predicted values\n",
    "    * Lesser the RMSE value, better the recommendations\n",
    "* Recall\n",
    "    * What percentage of products that a user buys are actually recommended?\n",
    "    * If a customer buys 5 products and the recommendation decided to show 3 of them, then the recall is 0.6\n",
    "* Precision\n",
    "    * Out of all the recommended items, how many the user actually liked?\n",
    "    * If 5 products were recommended to the customer out of which he buys 4 of them, then precision is 0.8\n",
    "    \n",
    "* Why are both recall and precision important?\n",
    "    * Consider a case where we recommend all products, so our customers will surely cover the items that they liked and bought. In this case, we have 100% recall! Does this mean our model is good?\n",
    "    * We have to consider precision. If we recommend 300 items but user likes and buys only 3 of them, then precision is 0.1%! This very low precision indicates that the model is not great, despite their excellent recall.\n",
    "    * So our aim has to be optimizing both recall and precision (to be close to 1 as possible).\n",
    "\n",
    "Lets compare all the models we have built based on precision-recall characteristics:"
   ]
  },
  {
   "cell_type": "code",
   "execution_count": 66,
   "metadata": {},
   "outputs": [],
   "source": [
    "# create initial callable variables\n",
    "\n",
    "models_w_counts = [popularity_model, cos, pear]\n",
    "models_w_dummy = [pop_dummy, cos_dummy, pear_dummy]\n",
    "models_w_norm = [pop_norm, cos_norm, pear_norm]\n",
    "\n",
    "names_w_counts = ['Popularity Model on Purchase Counts', 'Cosine Similarity on Purchase Counts', 'Pearson Similarity on Purchase Counts']\n",
    "names_w_dummy = ['Popularity Model on Purchase Dummy', 'Cosine Similarity on Purchase Dummy', 'Pearson Similarity on Purchase Dummy']\n",
    "names_w_norm = ['Popularity Model on Scaled Purchase Counts', 'Cosine Similarity on Scaled Purchase Counts', 'Pearson Similarity on Scaled Purchase Counts']"
   ]
  },
  {
   "cell_type": "markdown",
   "metadata": {},
   "source": [
    "#### Models on purchase counts"
   ]
  },
  {
   "cell_type": "code",
   "execution_count": 89,
   "metadata": {
    "scrolled": false
   },
   "outputs": [
    {
     "name": "stdout",
     "output_type": "stream",
     "text": [
      "PROGRESS: Evaluate model Popularity Model on Purchase Counts\n"
     ]
    },
    {
     "data": {
      "text/html": [
       "<pre>recommendations finished on 1000/13890 queries. users per second: 43512.3</pre>"
      ],
      "text/plain": [
       "recommendations finished on 1000/13890 queries. users per second: 43512.3"
      ]
     },
     "metadata": {},
     "output_type": "display_data"
    },
    {
     "data": {
      "text/html": [
       "<pre>recommendations finished on 2000/13890 queries. users per second: 54665.7</pre>"
      ],
      "text/plain": [
       "recommendations finished on 2000/13890 queries. users per second: 54665.7"
      ]
     },
     "metadata": {},
     "output_type": "display_data"
    },
    {
     "data": {
      "text/html": [
       "<pre>recommendations finished on 3000/13890 queries. users per second: 58828.1</pre>"
      ],
      "text/plain": [
       "recommendations finished on 3000/13890 queries. users per second: 58828.1"
      ]
     },
     "metadata": {},
     "output_type": "display_data"
    },
    {
     "data": {
      "text/html": [
       "<pre>recommendations finished on 4000/13890 queries. users per second: 59864.1</pre>"
      ],
      "text/plain": [
       "recommendations finished on 4000/13890 queries. users per second: 59864.1"
      ]
     },
     "metadata": {},
     "output_type": "display_data"
    },
    {
     "data": {
      "text/html": [
       "<pre>recommendations finished on 5000/13890 queries. users per second: 58179.4</pre>"
      ],
      "text/plain": [
       "recommendations finished on 5000/13890 queries. users per second: 58179.4"
      ]
     },
     "metadata": {},
     "output_type": "display_data"
    },
    {
     "data": {
      "text/html": [
       "<pre>recommendations finished on 6000/13890 queries. users per second: 59434.8</pre>"
      ],
      "text/plain": [
       "recommendations finished on 6000/13890 queries. users per second: 59434.8"
      ]
     },
     "metadata": {},
     "output_type": "display_data"
    },
    {
     "data": {
      "text/html": [
       "<pre>recommendations finished on 7000/13890 queries. users per second: 61126.3</pre>"
      ],
      "text/plain": [
       "recommendations finished on 7000/13890 queries. users per second: 61126.3"
      ]
     },
     "metadata": {},
     "output_type": "display_data"
    },
    {
     "data": {
      "text/html": [
       "<pre>recommendations finished on 8000/13890 queries. users per second: 62199.2</pre>"
      ],
      "text/plain": [
       "recommendations finished on 8000/13890 queries. users per second: 62199.2"
      ]
     },
     "metadata": {},
     "output_type": "display_data"
    },
    {
     "data": {
      "text/html": [
       "<pre>recommendations finished on 9000/13890 queries. users per second: 59719.3</pre>"
      ],
      "text/plain": [
       "recommendations finished on 9000/13890 queries. users per second: 59719.3"
      ]
     },
     "metadata": {},
     "output_type": "display_data"
    },
    {
     "data": {
      "text/html": [
       "<pre>recommendations finished on 10000/13890 queries. users per second: 61775.7</pre>"
      ],
      "text/plain": [
       "recommendations finished on 10000/13890 queries. users per second: 61775.7"
      ]
     },
     "metadata": {},
     "output_type": "display_data"
    },
    {
     "data": {
      "text/html": [
       "<pre>recommendations finished on 11000/13890 queries. users per second: 56748.1</pre>"
      ],
      "text/plain": [
       "recommendations finished on 11000/13890 queries. users per second: 56748.1"
      ]
     },
     "metadata": {},
     "output_type": "display_data"
    },
    {
     "data": {
      "text/html": [
       "<pre>recommendations finished on 12000/13890 queries. users per second: 56597.9</pre>"
      ],
      "text/plain": [
       "recommendations finished on 12000/13890 queries. users per second: 56597.9"
      ]
     },
     "metadata": {},
     "output_type": "display_data"
    },
    {
     "data": {
      "text/html": [
       "<pre>recommendations finished on 13000/13890 queries. users per second: 51507.8</pre>"
      ],
      "text/plain": [
       "recommendations finished on 13000/13890 queries. users per second: 51507.8"
      ]
     },
     "metadata": {},
     "output_type": "display_data"
    },
    {
     "name": "stdout",
     "output_type": "stream",
     "text": [
      "\n",
      "Precision and recall summary statistics by cutoff\n",
      "+--------+-----------------------+------------------------+\n",
      "| cutoff |     mean_precision    |      mean_recall       |\n",
      "+--------+-----------------------+------------------------+\n",
      "|   1    | 0.0007199424046076297 | 0.00029346223730672953 |\n",
      "|   2    |  0.003167746580273574 | 0.0031647468202543752  |\n",
      "|   3    | 0.0034317254619630373 |  0.005225953352303244  |\n",
      "|   4    | 0.0029157667386609147 |  0.005793716226204202  |\n",
      "|   5    |  0.006133909287257029 |  0.01590833513184247   |\n",
      "|   6    |  0.00643148548116152  |  0.020268614880891146  |\n",
      "|   7    | 0.0059035277177825855 |  0.021857490368254646  |\n",
      "|   8    | 0.0055795536357091365 |  0.023666719655885578  |\n",
      "|   9    |  0.005391568674506037 |  0.02583266066631922   |\n",
      "|   10   |  0.005363570914326852 |  0.028737828252912132  |\n",
      "+--------+-----------------------+------------------------+\n",
      "[10 rows x 3 columns]\n",
      "\n",
      "\n",
      "Overall RMSE: 1.1111750034210488\n",
      "\n",
      "Per User RMSE (best)\n",
      "+------------+----------------------+-------+\n",
      "| customerId |         rmse         | count |\n",
      "+------------+----------------------+-------+\n",
      "|   24961    | 0.005494505494505475 |   1   |\n",
      "+------------+----------------------+-------+\n",
      "[1 rows x 3 columns]\n",
      "\n",
      "\n",
      "Per User RMSE (worst)\n",
      "+------------+--------------------+-------+\n",
      "| customerId |        rmse        | count |\n",
      "+------------+--------------------+-------+\n",
      "|    1734    | 31.494913748997938 |   2   |\n",
      "+------------+--------------------+-------+\n",
      "[1 rows x 3 columns]\n",
      "\n",
      "\n",
      "Per Item RMSE (best)\n",
      "+-----------+---------------------+-------+\n",
      "| productId |         rmse        | count |\n",
      "+-----------+---------------------+-------+\n",
      "|    285    | 0.30586091556610745 |   81  |\n",
      "+-----------+---------------------+-------+\n",
      "[1 rows x 3 columns]\n",
      "\n",
      "\n",
      "Per Item RMSE (worst)\n",
      "+-----------+--------------------+-------+\n",
      "| productId |        rmse        | count |\n",
      "+-----------+--------------------+-------+\n",
      "|    173    | 15.625124386107311 |   22  |\n",
      "+-----------+--------------------+-------+\n",
      "[1 rows x 3 columns]\n",
      "\n",
      "PROGRESS: Evaluate model Cosine Similarity on Purchase Counts\n"
     ]
    },
    {
     "data": {
      "text/html": [
       "<pre>recommendations finished on 1000/13890 queries. users per second: 30611.9</pre>"
      ],
      "text/plain": [
       "recommendations finished on 1000/13890 queries. users per second: 30611.9"
      ]
     },
     "metadata": {},
     "output_type": "display_data"
    },
    {
     "data": {
      "text/html": [
       "<pre>recommendations finished on 2000/13890 queries. users per second: 39265.7</pre>"
      ],
      "text/plain": [
       "recommendations finished on 2000/13890 queries. users per second: 39265.7"
      ]
     },
     "metadata": {},
     "output_type": "display_data"
    },
    {
     "data": {
      "text/html": [
       "<pre>recommendations finished on 3000/13890 queries. users per second: 41076.2</pre>"
      ],
      "text/plain": [
       "recommendations finished on 3000/13890 queries. users per second: 41076.2"
      ]
     },
     "metadata": {},
     "output_type": "display_data"
    },
    {
     "data": {
      "text/html": [
       "<pre>recommendations finished on 4000/13890 queries. users per second: 42872</pre>"
      ],
      "text/plain": [
       "recommendations finished on 4000/13890 queries. users per second: 42872"
      ]
     },
     "metadata": {},
     "output_type": "display_data"
    },
    {
     "data": {
      "text/html": [
       "<pre>recommendations finished on 5000/13890 queries. users per second: 45739.4</pre>"
      ],
      "text/plain": [
       "recommendations finished on 5000/13890 queries. users per second: 45739.4"
      ]
     },
     "metadata": {},
     "output_type": "display_data"
    },
    {
     "data": {
      "text/html": [
       "<pre>recommendations finished on 6000/13890 queries. users per second: 48359.4</pre>"
      ],
      "text/plain": [
       "recommendations finished on 6000/13890 queries. users per second: 48359.4"
      ]
     },
     "metadata": {},
     "output_type": "display_data"
    },
    {
     "data": {
      "text/html": [
       "<pre>recommendations finished on 7000/13890 queries. users per second: 46662.3</pre>"
      ],
      "text/plain": [
       "recommendations finished on 7000/13890 queries. users per second: 46662.3"
      ]
     },
     "metadata": {},
     "output_type": "display_data"
    },
    {
     "data": {
      "text/html": [
       "<pre>recommendations finished on 8000/13890 queries. users per second: 45680.1</pre>"
      ],
      "text/plain": [
       "recommendations finished on 8000/13890 queries. users per second: 45680.1"
      ]
     },
     "metadata": {},
     "output_type": "display_data"
    },
    {
     "data": {
      "text/html": [
       "<pre>recommendations finished on 9000/13890 queries. users per second: 45810.2</pre>"
      ],
      "text/plain": [
       "recommendations finished on 9000/13890 queries. users per second: 45810.2"
      ]
     },
     "metadata": {},
     "output_type": "display_data"
    },
    {
     "data": {
      "text/html": [
       "<pre>recommendations finished on 10000/13890 queries. users per second: 46602.7</pre>"
      ],
      "text/plain": [
       "recommendations finished on 10000/13890 queries. users per second: 46602.7"
      ]
     },
     "metadata": {},
     "output_type": "display_data"
    },
    {
     "data": {
      "text/html": [
       "<pre>recommendations finished on 11000/13890 queries. users per second: 46719.6</pre>"
      ],
      "text/plain": [
       "recommendations finished on 11000/13890 queries. users per second: 46719.6"
      ]
     },
     "metadata": {},
     "output_type": "display_data"
    },
    {
     "data": {
      "text/html": [
       "<pre>recommendations finished on 12000/13890 queries. users per second: 46547.4</pre>"
      ],
      "text/plain": [
       "recommendations finished on 12000/13890 queries. users per second: 46547.4"
      ]
     },
     "metadata": {},
     "output_type": "display_data"
    },
    {
     "data": {
      "text/html": [
       "<pre>recommendations finished on 13000/13890 queries. users per second: 46695.7</pre>"
      ],
      "text/plain": [
       "recommendations finished on 13000/13890 queries. users per second: 46695.7"
      ]
     },
     "metadata": {},
     "output_type": "display_data"
    },
    {
     "name": "stdout",
     "output_type": "stream",
     "text": [
      "\n",
      "Precision and recall summary statistics by cutoff\n",
      "+--------+----------------------+---------------------+\n",
      "| cutoff |    mean_precision    |     mean_recall     |\n",
      "+--------+----------------------+---------------------+\n",
      "|   1    | 0.06335493160547198  | 0.03506211424106219 |\n",
      "|   2    | 0.06263498920086356  | 0.07230791509969706 |\n",
      "|   3    | 0.05097192224622066  | 0.08726852084863941 |\n",
      "|   4    | 0.04321454283657309  | 0.09728549302056154 |\n",
      "|   5    | 0.03832973362131041  | 0.10678978981967435 |\n",
      "|   6    | 0.034641228701704024 |  0.1143935243780528 |\n",
      "|   7    | 0.032150570811478006 | 0.12289104457643715 |\n",
      "|   8    | 0.030192584593232753 |  0.1315870411077297 |\n",
      "|   9    | 0.02850971922246227  | 0.13891659760035277 |\n",
      "|   10   | 0.027048236141108645 |  0.1465656410215347 |\n",
      "+--------+----------------------+---------------------+\n",
      "[10 rows x 3 columns]\n",
      "\n",
      "\n",
      "Overall RMSE: 1.9230643981653215\n",
      "\n",
      "Per User RMSE (best)\n",
      "+------------+---------------------+-------+\n",
      "| customerId |         rmse        | count |\n",
      "+------------+---------------------+-------+\n",
      "|   19062    | 0.08789730072021484 |   1   |\n",
      "+------------+---------------------+-------+\n",
      "[1 rows x 3 columns]\n",
      "\n",
      "\n",
      "Per User RMSE (worst)\n",
      "+------------+--------------------+-------+\n",
      "| customerId |        rmse        | count |\n",
      "+------------+--------------------+-------+\n",
      "|    1734    | 32.479967392712155 |   2   |\n",
      "+------------+--------------------+-------+\n",
      "[1 rows x 3 columns]\n",
      "\n",
      "\n",
      "Per Item RMSE (best)\n",
      "+-----------+--------------------+-------+\n",
      "| productId |        rmse        | count |\n",
      "+-----------+--------------------+-------+\n",
      "|    221    | 1.0367742069892645 |   71  |\n",
      "+-----------+--------------------+-------+\n",
      "[1 rows x 3 columns]\n",
      "\n",
      "\n",
      "Per Item RMSE (worst)\n",
      "+-----------+--------------------+-------+\n",
      "| productId |        rmse        | count |\n",
      "+-----------+--------------------+-------+\n",
      "|    173    | 15.908946208920582 |   22  |\n",
      "+-----------+--------------------+-------+\n",
      "[1 rows x 3 columns]\n",
      "\n",
      "PROGRESS: Evaluate model Pearson Similarity on Purchase Counts\n"
     ]
    },
    {
     "data": {
      "text/html": [
       "<pre>recommendations finished on 1000/13890 queries. users per second: 28400.2</pre>"
      ],
      "text/plain": [
       "recommendations finished on 1000/13890 queries. users per second: 28400.2"
      ]
     },
     "metadata": {},
     "output_type": "display_data"
    },
    {
     "data": {
      "text/html": [
       "<pre>recommendations finished on 2000/13890 queries. users per second: 36702.6</pre>"
      ],
      "text/plain": [
       "recommendations finished on 2000/13890 queries. users per second: 36702.6"
      ]
     },
     "metadata": {},
     "output_type": "display_data"
    },
    {
     "data": {
      "text/html": [
       "<pre>recommendations finished on 3000/13890 queries. users per second: 34415.9</pre>"
      ],
      "text/plain": [
       "recommendations finished on 3000/13890 queries. users per second: 34415.9"
      ]
     },
     "metadata": {},
     "output_type": "display_data"
    },
    {
     "data": {
      "text/html": [
       "<pre>recommendations finished on 4000/13890 queries. users per second: 37464.1</pre>"
      ],
      "text/plain": [
       "recommendations finished on 4000/13890 queries. users per second: 37464.1"
      ]
     },
     "metadata": {},
     "output_type": "display_data"
    },
    {
     "data": {
      "text/html": [
       "<pre>recommendations finished on 5000/13890 queries. users per second: 38070.6</pre>"
      ],
      "text/plain": [
       "recommendations finished on 5000/13890 queries. users per second: 38070.6"
      ]
     },
     "metadata": {},
     "output_type": "display_data"
    },
    {
     "data": {
      "text/html": [
       "<pre>recommendations finished on 6000/13890 queries. users per second: 39102</pre>"
      ],
      "text/plain": [
       "recommendations finished on 6000/13890 queries. users per second: 39102"
      ]
     },
     "metadata": {},
     "output_type": "display_data"
    },
    {
     "data": {
      "text/html": [
       "<pre>recommendations finished on 7000/13890 queries. users per second: 41005.2</pre>"
      ],
      "text/plain": [
       "recommendations finished on 7000/13890 queries. users per second: 41005.2"
      ]
     },
     "metadata": {},
     "output_type": "display_data"
    },
    {
     "data": {
      "text/html": [
       "<pre>recommendations finished on 8000/13890 queries. users per second: 42008.6</pre>"
      ],
      "text/plain": [
       "recommendations finished on 8000/13890 queries. users per second: 42008.6"
      ]
     },
     "metadata": {},
     "output_type": "display_data"
    },
    {
     "data": {
      "text/html": [
       "<pre>recommendations finished on 9000/13890 queries. users per second: 43266.1</pre>"
      ],
      "text/plain": [
       "recommendations finished on 9000/13890 queries. users per second: 43266.1"
      ]
     },
     "metadata": {},
     "output_type": "display_data"
    },
    {
     "data": {
      "text/html": [
       "<pre>recommendations finished on 10000/13890 queries. users per second: 40582.4</pre>"
      ],
      "text/plain": [
       "recommendations finished on 10000/13890 queries. users per second: 40582.4"
      ]
     },
     "metadata": {},
     "output_type": "display_data"
    },
    {
     "data": {
      "text/html": [
       "<pre>recommendations finished on 11000/13890 queries. users per second: 40487.5</pre>"
      ],
      "text/plain": [
       "recommendations finished on 11000/13890 queries. users per second: 40487.5"
      ]
     },
     "metadata": {},
     "output_type": "display_data"
    },
    {
     "data": {
      "text/html": [
       "<pre>recommendations finished on 12000/13890 queries. users per second: 40891.7</pre>"
      ],
      "text/plain": [
       "recommendations finished on 12000/13890 queries. users per second: 40891.7"
      ]
     },
     "metadata": {},
     "output_type": "display_data"
    },
    {
     "data": {
      "text/html": [
       "<pre>recommendations finished on 13000/13890 queries. users per second: 41214.9</pre>"
      ],
      "text/plain": [
       "recommendations finished on 13000/13890 queries. users per second: 41214.9"
      ]
     },
     "metadata": {},
     "output_type": "display_data"
    },
    {
     "name": "stdout",
     "output_type": "stream",
     "text": [
      "\n",
      "Precision and recall summary statistics by cutoff\n",
      "+--------+----------------------+----------------------+\n",
      "| cutoff |    mean_precision    |     mean_recall      |\n",
      "+--------+----------------------+----------------------+\n",
      "|   1    | 0.06357091432685413  | 0.035144393373017405 |\n",
      "|   2    |  0.0624910007199426  | 0.07222392181915947  |\n",
      "|   3    | 0.051091912646988306 | 0.08727520602811081  |\n",
      "|   4    | 0.043178545716342755 |  0.0968562746107815  |\n",
      "|   5    | 0.03832973362131065  | 0.10616781100655155  |\n",
      "|   6    | 0.034569234461243395 | 0.11430058895574437  |\n",
      "|   7    | 0.03175974493469068  | 0.12174051064512559  |\n",
      "|   8    | 0.030039596832253546 | 0.13105989027280296  |\n",
      "|   9    | 0.028413726901847833 | 0.13911332731652126  |\n",
      "|   10   | 0.027041036717062584 | 0.14659112729432097  |\n",
      "+--------+----------------------+----------------------+\n",
      "[10 rows x 3 columns]\n",
      "\n",
      "\n",
      "Overall RMSE: 1.9231102838192284\n",
      "\n",
      "Per User RMSE (best)\n",
      "+------------+---------------------+-------+\n",
      "| customerId |         rmse        | count |\n",
      "+------------+---------------------+-------+\n",
      "|   19062    | 0.08789730072021484 |   1   |\n",
      "+------------+---------------------+-------+\n",
      "[1 rows x 3 columns]\n",
      "\n",
      "\n",
      "Per User RMSE (worst)\n",
      "+------------+--------------------+-------+\n",
      "| customerId |        rmse        | count |\n",
      "+------------+--------------------+-------+\n",
      "|    1734    | 32.479967392712155 |   2   |\n",
      "+------------+--------------------+-------+\n",
      "[1 rows x 3 columns]\n",
      "\n",
      "\n",
      "Per Item RMSE (best)\n",
      "+-----------+--------------------+-------+\n",
      "| productId |        rmse        | count |\n",
      "+-----------+--------------------+-------+\n",
      "|    221    | 1.0367742069892645 |   71  |\n",
      "+-----------+--------------------+-------+\n",
      "[1 rows x 3 columns]\n",
      "\n",
      "\n",
      "Per Item RMSE (worst)\n",
      "+-----------+--------------------+-------+\n",
      "| productId |        rmse        | count |\n",
      "+-----------+--------------------+-------+\n",
      "|    173    | 15.909412058124065 |   22  |\n",
      "+-----------+--------------------+-------+\n",
      "[1 rows x 3 columns]\n",
      "\n"
     ]
    }
   ],
   "source": [
    "eval_counts = tc.recommender.util.compare_models(test_data, models_w_counts, model_names=names_w_counts)"
   ]
  },
  {
   "cell_type": "markdown",
   "metadata": {},
   "source": [
    "#### Models on purchase dummy"
   ]
  },
  {
   "cell_type": "code",
   "execution_count": 91,
   "metadata": {
    "scrolled": false
   },
   "outputs": [
    {
     "name": "stdout",
     "output_type": "stream",
     "text": [
      "PROGRESS: Evaluate model Popularity Model on Purchase Dummy\n"
     ]
    },
    {
     "data": {
      "text/html": [
       "<pre>recommendations finished on 1000/13921 queries. users per second: 50289.2</pre>"
      ],
      "text/plain": [
       "recommendations finished on 1000/13921 queries. users per second: 50289.2"
      ]
     },
     "metadata": {},
     "output_type": "display_data"
    },
    {
     "data": {
      "text/html": [
       "<pre>recommendations finished on 2000/13921 queries. users per second: 52588.7</pre>"
      ],
      "text/plain": [
       "recommendations finished on 2000/13921 queries. users per second: 52588.7"
      ]
     },
     "metadata": {},
     "output_type": "display_data"
    },
    {
     "data": {
      "text/html": [
       "<pre>recommendations finished on 3000/13921 queries. users per second: 58364.6</pre>"
      ],
      "text/plain": [
       "recommendations finished on 3000/13921 queries. users per second: 58364.6"
      ]
     },
     "metadata": {},
     "output_type": "display_data"
    },
    {
     "data": {
      "text/html": [
       "<pre>recommendations finished on 4000/13921 queries. users per second: 55436.2</pre>"
      ],
      "text/plain": [
       "recommendations finished on 4000/13921 queries. users per second: 55436.2"
      ]
     },
     "metadata": {},
     "output_type": "display_data"
    },
    {
     "data": {
      "text/html": [
       "<pre>recommendations finished on 5000/13921 queries. users per second: 50708.4</pre>"
      ],
      "text/plain": [
       "recommendations finished on 5000/13921 queries. users per second: 50708.4"
      ]
     },
     "metadata": {},
     "output_type": "display_data"
    },
    {
     "data": {
      "text/html": [
       "<pre>recommendations finished on 6000/13921 queries. users per second: 45501.1</pre>"
      ],
      "text/plain": [
       "recommendations finished on 6000/13921 queries. users per second: 45501.1"
      ]
     },
     "metadata": {},
     "output_type": "display_data"
    },
    {
     "data": {
      "text/html": [
       "<pre>recommendations finished on 7000/13921 queries. users per second: 46072.9</pre>"
      ],
      "text/plain": [
       "recommendations finished on 7000/13921 queries. users per second: 46072.9"
      ]
     },
     "metadata": {},
     "output_type": "display_data"
    },
    {
     "data": {
      "text/html": [
       "<pre>recommendations finished on 8000/13921 queries. users per second: 48406.2</pre>"
      ],
      "text/plain": [
       "recommendations finished on 8000/13921 queries. users per second: 48406.2"
      ]
     },
     "metadata": {},
     "output_type": "display_data"
    },
    {
     "data": {
      "text/html": [
       "<pre>recommendations finished on 9000/13921 queries. users per second: 49760.3</pre>"
      ],
      "text/plain": [
       "recommendations finished on 9000/13921 queries. users per second: 49760.3"
      ]
     },
     "metadata": {},
     "output_type": "display_data"
    },
    {
     "data": {
      "text/html": [
       "<pre>recommendations finished on 10000/13921 queries. users per second: 51320.7</pre>"
      ],
      "text/plain": [
       "recommendations finished on 10000/13921 queries. users per second: 51320.7"
      ]
     },
     "metadata": {},
     "output_type": "display_data"
    },
    {
     "data": {
      "text/html": [
       "<pre>recommendations finished on 11000/13921 queries. users per second: 52507</pre>"
      ],
      "text/plain": [
       "recommendations finished on 11000/13921 queries. users per second: 52507"
      ]
     },
     "metadata": {},
     "output_type": "display_data"
    },
    {
     "data": {
      "text/html": [
       "<pre>recommendations finished on 12000/13921 queries. users per second: 50865.6</pre>"
      ],
      "text/plain": [
       "recommendations finished on 12000/13921 queries. users per second: 50865.6"
      ]
     },
     "metadata": {},
     "output_type": "display_data"
    },
    {
     "data": {
      "text/html": [
       "<pre>recommendations finished on 13000/13921 queries. users per second: 50216.7</pre>"
      ],
      "text/plain": [
       "recommendations finished on 13000/13921 queries. users per second: 50216.7"
      ]
     },
     "metadata": {},
     "output_type": "display_data"
    },
    {
     "name": "stdout",
     "output_type": "stream",
     "text": [
      "\n",
      "Precision and recall summary statistics by cutoff\n",
      "+--------+----------------------+----------------------+\n",
      "| cutoff |    mean_precision    |     mean_recall      |\n",
      "+--------+----------------------+----------------------+\n",
      "|   1    | 0.05430644350262212  | 0.030314648895390185 |\n",
      "|   2    | 0.054521945262552975 | 0.06031738893404705  |\n",
      "|   3    | 0.04575820702535739  | 0.07481887179538214  |\n",
      "|   4    | 0.03837727174771911  | 0.08234835646340455  |\n",
      "|   5    | 0.03409237842109061  |  0.0905290880664835  |\n",
      "|   6    | 0.03139142302995476  | 0.09898045781970626  |\n",
      "|   7    | 0.029534003099120503 |  0.108245485128516   |\n",
      "|   8    | 0.027835643991092555 | 0.11626777864484733  |\n",
      "|   9    | 0.026482771831525472 | 0.12401884389627199  |\n",
      "|   10   | 0.025623159255800585 |  0.1343114499883889  |\n",
      "+--------+----------------------+----------------------+\n",
      "[10 rows x 3 columns]\n",
      "\n",
      "\n",
      "Overall RMSE: 0.9697374361161925\n",
      "\n",
      "Per User RMSE (best)\n",
      "+------------+--------------------+-------+\n",
      "| customerId |        rmse        | count |\n",
      "+------------+--------------------+-------+\n",
      "|   16533    | 0.5217012166976929 |   1   |\n",
      "+------------+--------------------+-------+\n",
      "[1 rows x 3 columns]\n",
      "\n",
      "\n",
      "Per User RMSE (worst)\n",
      "+------------+------+-------+\n",
      "| customerId | rmse | count |\n",
      "+------------+------+-------+\n",
      "|   21855    | 1.0  |   1   |\n",
      "+------------+------+-------+\n",
      "[1 rows x 3 columns]\n",
      "\n",
      "\n",
      "Per Item RMSE (best)\n",
      "+-----------+--------------------+-------+\n",
      "| productId |        rmse        | count |\n",
      "+-----------+--------------------+-------+\n",
      "|     48    | 0.8757537138128805 |  126  |\n",
      "+-----------+--------------------+-------+\n",
      "[1 rows x 3 columns]\n",
      "\n",
      "\n",
      "Per Item RMSE (worst)\n",
      "+-----------+--------------------+-------+\n",
      "| productId |        rmse        | count |\n",
      "+-----------+--------------------+-------+\n",
      "|    125    | 0.9998055760386703 |   30  |\n",
      "+-----------+--------------------+-------+\n",
      "[1 rows x 3 columns]\n",
      "\n",
      "PROGRESS: Evaluate model Cosine Similarity on Purchase Dummy\n"
     ]
    },
    {
     "data": {
      "text/html": [
       "<pre>recommendations finished on 1000/13921 queries. users per second: 24396.2</pre>"
      ],
      "text/plain": [
       "recommendations finished on 1000/13921 queries. users per second: 24396.2"
      ]
     },
     "metadata": {},
     "output_type": "display_data"
    },
    {
     "data": {
      "text/html": [
       "<pre>recommendations finished on 2000/13921 queries. users per second: 31791.4</pre>"
      ],
      "text/plain": [
       "recommendations finished on 2000/13921 queries. users per second: 31791.4"
      ]
     },
     "metadata": {},
     "output_type": "display_data"
    },
    {
     "data": {
      "text/html": [
       "<pre>recommendations finished on 3000/13921 queries. users per second: 38362.7</pre>"
      ],
      "text/plain": [
       "recommendations finished on 3000/13921 queries. users per second: 38362.7"
      ]
     },
     "metadata": {},
     "output_type": "display_data"
    },
    {
     "data": {
      "text/html": [
       "<pre>recommendations finished on 4000/13921 queries. users per second: 41134.9</pre>"
      ],
      "text/plain": [
       "recommendations finished on 4000/13921 queries. users per second: 41134.9"
      ]
     },
     "metadata": {},
     "output_type": "display_data"
    },
    {
     "data": {
      "text/html": [
       "<pre>recommendations finished on 5000/13921 queries. users per second: 43943.3</pre>"
      ],
      "text/plain": [
       "recommendations finished on 5000/13921 queries. users per second: 43943.3"
      ]
     },
     "metadata": {},
     "output_type": "display_data"
    },
    {
     "data": {
      "text/html": [
       "<pre>recommendations finished on 6000/13921 queries. users per second: 45530.8</pre>"
      ],
      "text/plain": [
       "recommendations finished on 6000/13921 queries. users per second: 45530.8"
      ]
     },
     "metadata": {},
     "output_type": "display_data"
    },
    {
     "data": {
      "text/html": [
       "<pre>recommendations finished on 7000/13921 queries. users per second: 46417.6</pre>"
      ],
      "text/plain": [
       "recommendations finished on 7000/13921 queries. users per second: 46417.6"
      ]
     },
     "metadata": {},
     "output_type": "display_data"
    },
    {
     "data": {
      "text/html": [
       "<pre>recommendations finished on 8000/13921 queries. users per second: 47997.9</pre>"
      ],
      "text/plain": [
       "recommendations finished on 8000/13921 queries. users per second: 47997.9"
      ]
     },
     "metadata": {},
     "output_type": "display_data"
    },
    {
     "data": {
      "text/html": [
       "<pre>recommendations finished on 9000/13921 queries. users per second: 49044.7</pre>"
      ],
      "text/plain": [
       "recommendations finished on 9000/13921 queries. users per second: 49044.7"
      ]
     },
     "metadata": {},
     "output_type": "display_data"
    },
    {
     "data": {
      "text/html": [
       "<pre>recommendations finished on 10000/13921 queries. users per second: 49695.9</pre>"
      ],
      "text/plain": [
       "recommendations finished on 10000/13921 queries. users per second: 49695.9"
      ]
     },
     "metadata": {},
     "output_type": "display_data"
    },
    {
     "data": {
      "text/html": [
       "<pre>recommendations finished on 11000/13921 queries. users per second: 48252.6</pre>"
      ],
      "text/plain": [
       "recommendations finished on 11000/13921 queries. users per second: 48252.6"
      ]
     },
     "metadata": {},
     "output_type": "display_data"
    },
    {
     "data": {
      "text/html": [
       "<pre>recommendations finished on 12000/13921 queries. users per second: 49291.8</pre>"
      ],
      "text/plain": [
       "recommendations finished on 12000/13921 queries. users per second: 49291.8"
      ]
     },
     "metadata": {},
     "output_type": "display_data"
    },
    {
     "data": {
      "text/html": [
       "<pre>recommendations finished on 13000/13921 queries. users per second: 50438</pre>"
      ],
      "text/plain": [
       "recommendations finished on 13000/13921 queries. users per second: 50438"
      ]
     },
     "metadata": {},
     "output_type": "display_data"
    },
    {
     "name": "stdout",
     "output_type": "stream",
     "text": [
      "\n",
      "Precision and recall summary statistics by cutoff\n",
      "+--------+----------------------+---------------------+\n",
      "| cutoff |    mean_precision    |     mean_recall     |\n",
      "+--------+----------------------+---------------------+\n",
      "|   1    |  0.0549529487824151  | 0.03061267414672341 |\n",
      "|   2    | 0.05448602830256436  | 0.06034552388603806 |\n",
      "|   3    | 0.045758207025357586 | 0.07498768562309908 |\n",
      "|   4    | 0.037784641907909054 |  0.0815998700808042 |\n",
      "|   5    | 0.03356080741326061  | 0.09043569918636968 |\n",
      "|   6    | 0.03131958910997786  | 0.09997398456210141 |\n",
      "|   7    | 0.029585313041961357 | 0.10916704060613812 |\n",
      "|   8    | 0.02803318727102923  | 0.11750801162579602 |\n",
      "|   9    | 0.026913775351387562 | 0.12632150625478447 |\n",
      "|   10   | 0.025759643703756923 | 0.13419136827664874 |\n",
      "+--------+----------------------+---------------------+\n",
      "[10 rows x 3 columns]\n",
      "\n",
      "\n",
      "Overall RMSE: 0.9697509978436404\n",
      "\n",
      "Per User RMSE (best)\n",
      "+------------+--------------------+-------+\n",
      "| customerId |        rmse        | count |\n",
      "+------------+--------------------+-------+\n",
      "|   16533    | 0.5217012166976929 |   1   |\n",
      "+------------+--------------------+-------+\n",
      "[1 rows x 3 columns]\n",
      "\n",
      "\n",
      "Per User RMSE (worst)\n",
      "+------------+------+-------+\n",
      "| customerId | rmse | count |\n",
      "+------------+------+-------+\n",
      "|   21855    | 1.0  |   1   |\n",
      "+------------+------+-------+\n",
      "[1 rows x 3 columns]\n",
      "\n",
      "\n",
      "Per Item RMSE (best)\n",
      "+-----------+--------------------+-------+\n",
      "| productId |        rmse        | count |\n",
      "+-----------+--------------------+-------+\n",
      "|     48    | 0.8763500764913853 |  126  |\n",
      "+-----------+--------------------+-------+\n",
      "[1 rows x 3 columns]\n",
      "\n",
      "\n",
      "Per Item RMSE (worst)\n",
      "+-----------+-------------------+-------+\n",
      "| productId |        rmse       | count |\n",
      "+-----------+-------------------+-------+\n",
      "|    125    | 0.999784349388279 |   30  |\n",
      "+-----------+-------------------+-------+\n",
      "[1 rows x 3 columns]\n",
      "\n",
      "PROGRESS: Evaluate model Pearson Similarity on Purchase Dummy\n"
     ]
    },
    {
     "data": {
      "text/html": [
       "<pre>recommendations finished on 1000/13921 queries. users per second: 43133.2</pre>"
      ],
      "text/plain": [
       "recommendations finished on 1000/13921 queries. users per second: 43133.2"
      ]
     },
     "metadata": {},
     "output_type": "display_data"
    },
    {
     "data": {
      "text/html": [
       "<pre>recommendations finished on 2000/13921 queries. users per second: 37999</pre>"
      ],
      "text/plain": [
       "recommendations finished on 2000/13921 queries. users per second: 37999"
      ]
     },
     "metadata": {},
     "output_type": "display_data"
    },
    {
     "data": {
      "text/html": [
       "<pre>recommendations finished on 3000/13921 queries. users per second: 41703.2</pre>"
      ],
      "text/plain": [
       "recommendations finished on 3000/13921 queries. users per second: 41703.2"
      ]
     },
     "metadata": {},
     "output_type": "display_data"
    },
    {
     "data": {
      "text/html": [
       "<pre>recommendations finished on 4000/13921 queries. users per second: 44229.2</pre>"
      ],
      "text/plain": [
       "recommendations finished on 4000/13921 queries. users per second: 44229.2"
      ]
     },
     "metadata": {},
     "output_type": "display_data"
    },
    {
     "data": {
      "text/html": [
       "<pre>recommendations finished on 5000/13921 queries. users per second: 40839.7</pre>"
      ],
      "text/plain": [
       "recommendations finished on 5000/13921 queries. users per second: 40839.7"
      ]
     },
     "metadata": {},
     "output_type": "display_data"
    },
    {
     "data": {
      "text/html": [
       "<pre>recommendations finished on 6000/13921 queries. users per second: 39561.4</pre>"
      ],
      "text/plain": [
       "recommendations finished on 6000/13921 queries. users per second: 39561.4"
      ]
     },
     "metadata": {},
     "output_type": "display_data"
    },
    {
     "data": {
      "text/html": [
       "<pre>recommendations finished on 7000/13921 queries. users per second: 41149.4</pre>"
      ],
      "text/plain": [
       "recommendations finished on 7000/13921 queries. users per second: 41149.4"
      ]
     },
     "metadata": {},
     "output_type": "display_data"
    },
    {
     "data": {
      "text/html": [
       "<pre>recommendations finished on 8000/13921 queries. users per second: 43333.4</pre>"
      ],
      "text/plain": [
       "recommendations finished on 8000/13921 queries. users per second: 43333.4"
      ]
     },
     "metadata": {},
     "output_type": "display_data"
    },
    {
     "data": {
      "text/html": [
       "<pre>recommendations finished on 9000/13921 queries. users per second: 44855.1</pre>"
      ],
      "text/plain": [
       "recommendations finished on 9000/13921 queries. users per second: 44855.1"
      ]
     },
     "metadata": {},
     "output_type": "display_data"
    },
    {
     "data": {
      "text/html": [
       "<pre>recommendations finished on 10000/13921 queries. users per second: 45889.5</pre>"
      ],
      "text/plain": [
       "recommendations finished on 10000/13921 queries. users per second: 45889.5"
      ]
     },
     "metadata": {},
     "output_type": "display_data"
    },
    {
     "data": {
      "text/html": [
       "<pre>recommendations finished on 11000/13921 queries. users per second: 45760.7</pre>"
      ],
      "text/plain": [
       "recommendations finished on 11000/13921 queries. users per second: 45760.7"
      ]
     },
     "metadata": {},
     "output_type": "display_data"
    },
    {
     "data": {
      "text/html": [
       "<pre>recommendations finished on 12000/13921 queries. users per second: 45468.3</pre>"
      ],
      "text/plain": [
       "recommendations finished on 12000/13921 queries. users per second: 45468.3"
      ]
     },
     "metadata": {},
     "output_type": "display_data"
    },
    {
     "data": {
      "text/html": [
       "<pre>recommendations finished on 13000/13921 queries. users per second: 45588</pre>"
      ],
      "text/plain": [
       "recommendations finished on 13000/13921 queries. users per second: 45588"
      ]
     },
     "metadata": {},
     "output_type": "display_data"
    },
    {
     "name": "stdout",
     "output_type": "stream",
     "text": [
      "\n",
      "Precision and recall summary statistics by cutoff\n",
      "+--------+----------------------+---------------------+\n",
      "| cutoff |    mean_precision    |     mean_recall     |\n",
      "+--------+----------------------+---------------------+\n",
      "|   1    | 0.054881114862438046 | 0.03059300533530103 |\n",
      "|   2    | 0.054737447022484356 | 0.06055703487263677 |\n",
      "|   3    | 0.04575820702535712  | 0.07499666486309599 |\n",
      "|   4    | 0.03778464190790865  | 0.08163578704079291 |\n",
      "|   5    | 0.03364700811723305  | 0.09059373381031925 |\n",
      "|   6    | 0.03131958910997744  | 0.09999963953352173 |\n",
      "|   7    | 0.029605837019097744 | 0.10925854333753758 |\n",
      "|   8    | 0.028140938150995002 | 0.11805506113304967 |\n",
      "|   9    | 0.026953683084708142 |  0.1265609526547087 |\n",
      "|   10   | 0.025716543351770624 | 0.13383989516818834 |\n",
      "+--------+----------------------+---------------------+\n",
      "[10 rows x 3 columns]\n",
      "\n",
      "\n",
      "Overall RMSE: 0.9697745320187097\n",
      "\n",
      "Per User RMSE (best)\n",
      "+------------+--------------------+-------+\n",
      "| customerId |        rmse        | count |\n",
      "+------------+--------------------+-------+\n",
      "|   16533    | 0.5217012166976929 |   1   |\n",
      "+------------+--------------------+-------+\n",
      "[1 rows x 3 columns]\n",
      "\n",
      "\n",
      "Per User RMSE (worst)\n",
      "+------------+------+-------+\n",
      "| customerId | rmse | count |\n",
      "+------------+------+-------+\n",
      "|   21855    | 1.0  |   1   |\n",
      "+------------+------+-------+\n",
      "[1 rows x 3 columns]\n",
      "\n",
      "\n",
      "Per Item RMSE (best)\n",
      "+-----------+--------------------+-------+\n",
      "| productId |        rmse        | count |\n",
      "+-----------+--------------------+-------+\n",
      "|     48    | 0.8762349122687674 |  126  |\n",
      "+-----------+--------------------+-------+\n",
      "[1 rows x 3 columns]\n",
      "\n",
      "\n",
      "Per Item RMSE (worst)\n",
      "+-----------+-------------------+-------+\n",
      "| productId |        rmse       | count |\n",
      "+-----------+-------------------+-------+\n",
      "|    125    | 0.999784349388279 |   30  |\n",
      "+-----------+-------------------+-------+\n",
      "[1 rows x 3 columns]\n",
      "\n"
     ]
    }
   ],
   "source": [
    "eval_dummy = tc.recommender.util.compare_models(test_data_dummy, models_w_dummy, model_names=names_w_dummy)"
   ]
  },
  {
   "cell_type": "markdown",
   "metadata": {},
   "source": [
    "#### Models on normalized purchase frequency"
   ]
  },
  {
   "cell_type": "code",
   "execution_count": 67,
   "metadata": {
    "scrolled": false
   },
   "outputs": [
    {
     "name": "stdout",
     "output_type": "stream",
     "text": [
      "PROGRESS: Evaluate model Popularity Model on Scaled Purchase Counts\n"
     ]
    },
    {
     "data": {
      "text/html": [
       "<pre>recommendations finished on 1000/2869 queries. users per second: 54451.4</pre>"
      ],
      "text/plain": [
       "recommendations finished on 1000/2869 queries. users per second: 54451.4"
      ]
     },
     "metadata": {},
     "output_type": "display_data"
    },
    {
     "data": {
      "text/html": [
       "<pre>recommendations finished on 2000/2869 queries. users per second: 62674.3</pre>"
      ],
      "text/plain": [
       "recommendations finished on 2000/2869 queries. users per second: 62674.3"
      ]
     },
     "metadata": {},
     "output_type": "display_data"
    },
    {
     "name": "stdout",
     "output_type": "stream",
     "text": [
      "\n",
      "Precision and recall summary statistics by cutoff\n",
      "+--------+------------------------+------------------------+\n",
      "| cutoff |     mean_precision     |      mean_recall       |\n",
      "+--------+------------------------+------------------------+\n",
      "|   1    | 0.00034855350296270483 | 0.00034855350296270483 |\n",
      "|   2    | 0.0006971070059254097  | 0.0007668177065179508  |\n",
      "|   3    | 0.00046473800395027264 | 0.0007668177065179507  |\n",
      "|   4    | 0.0004356918787033807  | 0.0008103868943882889  |\n",
      "|   5    |  0.000348553502962705  | 0.0008103868943882889  |\n",
      "|   6    | 0.0002904612524689207  | 0.0008103868943882887  |\n",
      "|   7    | 0.0002987601453966041  | 0.0009846636458696416  |\n",
      "|   8    | 0.0003049843150923669  |  0.001071802021610318  |\n",
      "|   9    | 0.0002710971689709925  |  0.001071802021610317  |\n",
      "|   10   | 0.00024398745207389325 | 0.0010718020216103174  |\n",
      "+--------+------------------------+------------------------+\n",
      "[10 rows x 3 columns]\n",
      "\n",
      "\n",
      "Overall RMSE: 0.1829517031486069\n",
      "\n",
      "Per User RMSE (best)\n",
      "+------------+------+-------+\n",
      "| customerId | rmse | count |\n",
      "+------------+------+-------+\n",
      "|  1813285   | 0.0  |   1   |\n",
      "+------------+------+-------+\n",
      "[1 rows x 3 columns]\n",
      "\n",
      "\n",
      "Per User RMSE (worst)\n",
      "+------------+------+-------+\n",
      "| customerId | rmse | count |\n",
      "+------------+------+-------+\n",
      "|  1792398   | 1.0  |   2   |\n",
      "+------------+------+-------+\n",
      "[1 rows x 3 columns]\n",
      "\n",
      "\n",
      "Per Item RMSE (best)\n",
      "+-----------+----------------------+-------+\n",
      "| productId |         rmse         | count |\n",
      "+-----------+----------------------+-------+\n",
      "|   123868  | 0.012195121951219513 |   39  |\n",
      "+-----------+----------------------+-------+\n",
      "[1 rows x 3 columns]\n",
      "\n",
      "\n",
      "Per Item RMSE (worst)\n",
      "+-----------+------+-------+\n",
      "| productId | rmse | count |\n",
      "+-----------+------+-------+\n",
      "|   123769  | 1.0  |   1   |\n",
      "+-----------+------+-------+\n",
      "[1 rows x 3 columns]\n",
      "\n",
      "PROGRESS: Evaluate model Cosine Similarity on Scaled Purchase Counts\n"
     ]
    },
    {
     "data": {
      "text/html": [
       "<pre>recommendations finished on 1000/2869 queries. users per second: 48188.1</pre>"
      ],
      "text/plain": [
       "recommendations finished on 1000/2869 queries. users per second: 48188.1"
      ]
     },
     "metadata": {},
     "output_type": "display_data"
    },
    {
     "data": {
      "text/html": [
       "<pre>recommendations finished on 2000/2869 queries. users per second: 48585</pre>"
      ],
      "text/plain": [
       "recommendations finished on 2000/2869 queries. users per second: 48585"
      ]
     },
     "metadata": {},
     "output_type": "display_data"
    },
    {
     "name": "stdout",
     "output_type": "stream",
     "text": [
      "\n",
      "Precision and recall summary statistics by cutoff\n",
      "+--------+----------------------+----------------------+\n",
      "| cutoff |    mean_precision    |     mean_recall      |\n",
      "+--------+----------------------+----------------------+\n",
      "|   1    | 0.03415824329034508  | 0.019168921199245376 |\n",
      "|   2    | 0.06831648658069009  | 0.08458079525524628  |\n",
      "|   3    | 0.06610898106192642  | 0.12268101268624093  |\n",
      "|   4    | 0.06099686301847333  | 0.15334542205403118  |\n",
      "|   5    | 0.05472289996514461  | 0.17187104073649886  |\n",
      "|   6    | 0.04966887417218542  |  0.186859671253188   |\n",
      "|   7    | 0.04556092217298217  | 0.20144760355635213  |\n",
      "|   8    | 0.042479958173579656 |  0.2141388238808943  |\n",
      "|   9    | 0.04163277952054531  | 0.23612882799010368  |\n",
      "|   10   | 0.041930986406413365 | 0.26619156762063734  |\n",
      "+--------+----------------------+----------------------+\n",
      "[10 rows x 3 columns]\n",
      "\n",
      "\n",
      "Overall RMSE: 0.18127024350106974\n",
      "\n",
      "Per User RMSE (best)\n",
      "+------------+------+-------+\n",
      "| customerId | rmse | count |\n",
      "+------------+------+-------+\n",
      "|  1813285   | 0.0  |   1   |\n",
      "+------------+------+-------+\n",
      "[1 rows x 3 columns]\n",
      "\n",
      "\n",
      "Per User RMSE (worst)\n",
      "+------------+------+-------+\n",
      "| customerId | rmse | count |\n",
      "+------------+------+-------+\n",
      "|  1792398   | 1.0  |   2   |\n",
      "+------------+------+-------+\n",
      "[1 rows x 3 columns]\n",
      "\n",
      "\n",
      "Per Item RMSE (best)\n",
      "+-----------+------+-------+\n",
      "| productId | rmse | count |\n",
      "+-----------+------+-------+\n",
      "|   124597  | 0.0  |   4   |\n",
      "+-----------+------+-------+\n",
      "[1 rows x 3 columns]\n",
      "\n",
      "\n",
      "Per Item RMSE (worst)\n",
      "+-----------+------+-------+\n",
      "| productId | rmse | count |\n",
      "+-----------+------+-------+\n",
      "|   123769  | 1.0  |   1   |\n",
      "+-----------+------+-------+\n",
      "[1 rows x 3 columns]\n",
      "\n",
      "PROGRESS: Evaluate model Pearson Similarity on Scaled Purchase Counts\n"
     ]
    },
    {
     "data": {
      "text/html": [
       "<pre>recommendations finished on 1000/2869 queries. users per second: 35360.7</pre>"
      ],
      "text/plain": [
       "recommendations finished on 1000/2869 queries. users per second: 35360.7"
      ]
     },
     "metadata": {},
     "output_type": "display_data"
    },
    {
     "data": {
      "text/html": [
       "<pre>recommendations finished on 2000/2869 queries. users per second: 35615.1</pre>"
      ],
      "text/plain": [
       "recommendations finished on 2000/2869 queries. users per second: 35615.1"
      ]
     },
     "metadata": {},
     "output_type": "display_data"
    },
    {
     "name": "stdout",
     "output_type": "stream",
     "text": [
      "\n",
      "Precision and recall summary statistics by cutoff\n",
      "+--------+------------------------+-----------------------+\n",
      "| cutoff |     mean_precision     |      mean_recall      |\n",
      "+--------+------------------------+-----------------------+\n",
      "|   1    |  0.001394214011850819  | 0.0007668177065179508 |\n",
      "|   2    | 0.0006971070059254102  | 0.0007668177065179504 |\n",
      "|   3    | 0.0004647380039502731  | 0.0007668177065179508 |\n",
      "|   4    | 0.0005228302544440568  | 0.0008975252701289651 |\n",
      "|   5    | 0.0004182642035552457  | 0.0008975252701289664 |\n",
      "|   6    | 0.0003485535029627048  | 0.0008975252701289647 |\n",
      "|   7    | 0.0003485535029627048  | 0.0010718020216103183 |\n",
      "|   8    | 0.00030498431509236654 | 0.0010718020216103168 |\n",
      "|   9    | 0.00027109716897099267 | 0.0010718020216103177 |\n",
      "|   10   | 0.0002439874520738937  | 0.0010718020216103177 |\n",
      "+--------+------------------------+-----------------------+\n",
      "[10 rows x 3 columns]\n",
      "\n",
      "\n",
      "Overall RMSE: 0.18116752092705057\n",
      "\n",
      "Per User RMSE (best)\n",
      "+------------+------+-------+\n",
      "| customerId | rmse | count |\n",
      "+------------+------+-------+\n",
      "|  1813285   | 0.0  |   1   |\n",
      "+------------+------+-------+\n",
      "[1 rows x 3 columns]\n",
      "\n",
      "\n",
      "Per User RMSE (worst)\n",
      "+------------+------+-------+\n",
      "| customerId | rmse | count |\n",
      "+------------+------+-------+\n",
      "|  1792398   | 1.0  |   2   |\n",
      "+------------+------+-------+\n",
      "[1 rows x 3 columns]\n",
      "\n",
      "\n",
      "Per Item RMSE (best)\n",
      "+-----------+----------------------+-------+\n",
      "| productId |         rmse         | count |\n",
      "+-----------+----------------------+-------+\n",
      "|   123868  | 0.012141387678315184 |   39  |\n",
      "+-----------+----------------------+-------+\n",
      "[1 rows x 3 columns]\n",
      "\n",
      "\n",
      "Per Item RMSE (worst)\n",
      "+-----------+------+-------+\n",
      "| productId | rmse | count |\n",
      "+-----------+------+-------+\n",
      "|   123769  | 1.0  |   1   |\n",
      "+-----------+------+-------+\n",
      "[1 rows x 3 columns]\n",
      "\n"
     ]
    }
   ],
   "source": [
    "eval_norm = tc.recommender.util.compare_models(test_data_norm, models_w_norm, model_names=names_w_norm)"
   ]
  },
  {
   "cell_type": "markdown",
   "metadata": {},
   "source": [
    "## 8. Model Selection\n",
    "### 8.1. Evaluation summary\n",
    "* Based on RMSE\n",
    "\n",
    "\n",
    "    1. Popularity on purchase counts: 1.1111750034210488\n",
    "    2. Cosine similarity on purchase counts: 1.9230643981653215\n",
    "    3. Pearson similarity on purchase counts: 1.9231102838192284\n",
    "    \n",
    "    4. Popularity on purchase dummy: 0.9697374361161925\n",
    "    5. Cosine similarity on purchase dummy: 0.9697509978436404\n",
    "    6. Pearson similarity on purchase dummy: 0.9697745320187097\n",
    "    \n",
    "    7. Popularity on scaled purchase counts: 0.16230660626840343\n",
    "    8. Cosine similarity on scaled purchase counts: 0.16229800354111104\n",
    "    9. Pearson similarity on scaled purchase counts: 0.1622982668334026\n",
    "    \n",
    "* Based on Precision and Recall\n",
    "![](../images/model_comparisons.png)\n"
   ]
  },
  {
   "cell_type": "markdown",
   "metadata": {},
   "source": [
    "#### Notes\n",
    "\n",
    "* Popularity v. Collaborative Filtering: We can see that the collaborative filtering algorithms work better than popularity model for purchase counts. Indeed, popularity model doesn’t give any personalizations as it only gives the same list of recommended items to every user.\n",
    "* Precision and recall: Looking at the summary above, we see that the precision and recall for Purchase Counts > Purchase Dummy > Normalized Purchase Counts. However, because the recommendation scores for the normalized purchase data is zero and constant, we choose the dummy. In fact, the RMSE isn’t much different between models on the dummy and those on the normalized data.\n",
    "* RMSE: Since RMSE is higher using pearson distance thancosine, we would choose model the smaller mean squared errors, which in this case would be cosine.\n",
    "Therefore, we select the Cosine similarity on Purchase Dummy approach as our final model."
   ]
  },
  {
   "cell_type": "markdown",
   "metadata": {},
   "source": [
    "## 8. Final Output\n",
    "* In this step, we would like to manipulate format for recommendation output to one we can export to csv, and also a function that will return recommendation list given a customer ID.\n",
    "* We need to first rerun the model using the whole dataset, as we came to a final model using train data and evaluated with test set."
   ]
  },
  {
   "cell_type": "code",
   "execution_count": 68,
   "metadata": {},
   "outputs": [
    {
     "data": {
      "text/html": [
       "<pre>Warning: Ignoring columns purchase_count;</pre>"
      ],
      "text/plain": [
       "Warning: Ignoring columns purchase_count;"
      ]
     },
     "metadata": {},
     "output_type": "display_data"
    },
    {
     "data": {
      "text/html": [
       "<pre>    To use these columns in scoring predictions, use a model that allows the use of additional features.</pre>"
      ],
      "text/plain": [
       "    To use these columns in scoring predictions, use a model that allows the use of additional features."
      ]
     },
     "metadata": {},
     "output_type": "display_data"
    },
    {
     "data": {
      "text/html": [
       "<pre>Preparing data set.</pre>"
      ],
      "text/plain": [
       "Preparing data set."
      ]
     },
     "metadata": {},
     "output_type": "display_data"
    },
    {
     "data": {
      "text/html": [
       "<pre>    Data has 24463 observations with 7987 users and 723 items.</pre>"
      ],
      "text/plain": [
       "    Data has 24463 observations with 7987 users and 723 items."
      ]
     },
     "metadata": {},
     "output_type": "display_data"
    },
    {
     "data": {
      "text/html": [
       "<pre>    Data prepared in: 0.053171s</pre>"
      ],
      "text/plain": [
       "    Data prepared in: 0.053171s"
      ]
     },
     "metadata": {},
     "output_type": "display_data"
    },
    {
     "data": {
      "text/html": [
       "<pre>Training model from provided data.</pre>"
      ],
      "text/plain": [
       "Training model from provided data."
      ]
     },
     "metadata": {},
     "output_type": "display_data"
    },
    {
     "data": {
      "text/html": [
       "<pre>Gathering per-item and per-user statistics.</pre>"
      ],
      "text/plain": [
       "Gathering per-item and per-user statistics."
      ]
     },
     "metadata": {},
     "output_type": "display_data"
    },
    {
     "data": {
      "text/html": [
       "<pre>+--------------------------------+------------+</pre>"
      ],
      "text/plain": [
       "+--------------------------------+------------+"
      ]
     },
     "metadata": {},
     "output_type": "display_data"
    },
    {
     "data": {
      "text/html": [
       "<pre>| Elapsed Time (Item Statistics) | % Complete |</pre>"
      ],
      "text/plain": [
       "| Elapsed Time (Item Statistics) | % Complete |"
      ]
     },
     "metadata": {},
     "output_type": "display_data"
    },
    {
     "data": {
      "text/html": [
       "<pre>+--------------------------------+------------+</pre>"
      ],
      "text/plain": [
       "+--------------------------------+------------+"
      ]
     },
     "metadata": {},
     "output_type": "display_data"
    },
    {
     "data": {
      "text/html": [
       "<pre>| 3.565ms                        | 12.5       |</pre>"
      ],
      "text/plain": [
       "| 3.565ms                        | 12.5       |"
      ]
     },
     "metadata": {},
     "output_type": "display_data"
    },
    {
     "data": {
      "text/html": [
       "<pre>| 29.448ms                       | 100        |</pre>"
      ],
      "text/plain": [
       "| 29.448ms                       | 100        |"
      ]
     },
     "metadata": {},
     "output_type": "display_data"
    },
    {
     "data": {
      "text/html": [
       "<pre>+--------------------------------+------------+</pre>"
      ],
      "text/plain": [
       "+--------------------------------+------------+"
      ]
     },
     "metadata": {},
     "output_type": "display_data"
    },
    {
     "data": {
      "text/html": [
       "<pre>Setting up lookup tables.</pre>"
      ],
      "text/plain": [
       "Setting up lookup tables."
      ]
     },
     "metadata": {},
     "output_type": "display_data"
    },
    {
     "data": {
      "text/html": [
       "<pre>Processing data in one pass using dense lookup tables.</pre>"
      ],
      "text/plain": [
       "Processing data in one pass using dense lookup tables."
      ]
     },
     "metadata": {},
     "output_type": "display_data"
    },
    {
     "data": {
      "text/html": [
       "<pre>+-------------------------------------+------------------+-----------------+</pre>"
      ],
      "text/plain": [
       "+-------------------------------------+------------------+-----------------+"
      ]
     },
     "metadata": {},
     "output_type": "display_data"
    },
    {
     "data": {
      "text/html": [
       "<pre>| Elapsed Time (Constructing Lookups) | Total % Complete | Items Processed |</pre>"
      ],
      "text/plain": [
       "| Elapsed Time (Constructing Lookups) | Total % Complete | Items Processed |"
      ]
     },
     "metadata": {},
     "output_type": "display_data"
    },
    {
     "data": {
      "text/html": [
       "<pre>+-------------------------------------+------------------+-----------------+</pre>"
      ],
      "text/plain": [
       "+-------------------------------------+------------------+-----------------+"
      ]
     },
     "metadata": {},
     "output_type": "display_data"
    },
    {
     "data": {
      "text/html": [
       "<pre>| 73.173ms                            | 0                | 0               |</pre>"
      ],
      "text/plain": [
       "| 73.173ms                            | 0                | 0               |"
      ]
     },
     "metadata": {},
     "output_type": "display_data"
    },
    {
     "data": {
      "text/html": [
       "<pre>| 88.258ms                            | 100              | 723             |</pre>"
      ],
      "text/plain": [
       "| 88.258ms                            | 100              | 723             |"
      ]
     },
     "metadata": {},
     "output_type": "display_data"
    },
    {
     "data": {
      "text/html": [
       "<pre>+-------------------------------------+------------------+-----------------+</pre>"
      ],
      "text/plain": [
       "+-------------------------------------+------------------+-----------------+"
      ]
     },
     "metadata": {},
     "output_type": "display_data"
    },
    {
     "data": {
      "text/html": [
       "<pre>Finalizing lookup tables.</pre>"
      ],
      "text/plain": [
       "Finalizing lookup tables."
      ]
     },
     "metadata": {},
     "output_type": "display_data"
    },
    {
     "data": {
      "text/html": [
       "<pre>Generating candidate set for working with new users.</pre>"
      ],
      "text/plain": [
       "Generating candidate set for working with new users."
      ]
     },
     "metadata": {},
     "output_type": "display_data"
    },
    {
     "data": {
      "text/html": [
       "<pre>Finished training in 0.119476s</pre>"
      ],
      "text/plain": [
       "Finished training in 0.119476s"
      ]
     },
     "metadata": {},
     "output_type": "display_data"
    },
    {
     "data": {
      "text/html": [
       "<pre>recommendations finished on 1000/7987 queries. users per second: 95574.9</pre>"
      ],
      "text/plain": [
       "recommendations finished on 1000/7987 queries. users per second: 95574.9"
      ]
     },
     "metadata": {},
     "output_type": "display_data"
    },
    {
     "data": {
      "text/html": [
       "<pre>recommendations finished on 2000/7987 queries. users per second: 114012</pre>"
      ],
      "text/plain": [
       "recommendations finished on 2000/7987 queries. users per second: 114012"
      ]
     },
     "metadata": {},
     "output_type": "display_data"
    },
    {
     "data": {
      "text/html": [
       "<pre>recommendations finished on 3000/7987 queries. users per second: 113169</pre>"
      ],
      "text/plain": [
       "recommendations finished on 3000/7987 queries. users per second: 113169"
      ]
     },
     "metadata": {},
     "output_type": "display_data"
    },
    {
     "data": {
      "text/html": [
       "<pre>recommendations finished on 4000/7987 queries. users per second: 115644</pre>"
      ],
      "text/plain": [
       "recommendations finished on 4000/7987 queries. users per second: 115644"
      ]
     },
     "metadata": {},
     "output_type": "display_data"
    },
    {
     "data": {
      "text/html": [
       "<pre>recommendations finished on 5000/7987 queries. users per second: 121969</pre>"
      ],
      "text/plain": [
       "recommendations finished on 5000/7987 queries. users per second: 121969"
      ]
     },
     "metadata": {},
     "output_type": "display_data"
    },
    {
     "data": {
      "text/html": [
       "<pre>recommendations finished on 6000/7987 queries. users per second: 122727</pre>"
      ],
      "text/plain": [
       "recommendations finished on 6000/7987 queries. users per second: 122727"
      ]
     },
     "metadata": {},
     "output_type": "display_data"
    },
    {
     "data": {
      "text/html": [
       "<pre>recommendations finished on 7000/7987 queries. users per second: 117849</pre>"
      ],
      "text/plain": [
       "recommendations finished on 7000/7987 queries. users per second: 117849"
      ]
     },
     "metadata": {},
     "output_type": "display_data"
    },
    {
     "name": "stdout",
     "output_type": "stream",
     "text": [
      "+------------+-----------+---------------------+------+\n",
      "| customerId | productId |        score        | rank |\n",
      "+------------+-----------+---------------------+------+\n",
      "|  1076254   |   920085  | 0.18169118960698447 |  1   |\n",
      "|  1076254   |   920091  | 0.16958407560984293 |  2   |\n",
      "|  1076254   |   920080  | 0.16082884867986044 |  3   |\n",
      "|  1076254   |   920087  | 0.15267975131670633 |  4   |\n",
      "|  1076254   |   920086  | 0.15144169330596924 |  5   |\n",
      "|  1076254   |   920084  | 0.14886762698491415 |  6   |\n",
      "|  1076254   |   920082  |  0.1461706260840098 |  7   |\n",
      "|  1076254   |   920094  |  0.1380960444609324 |  8   |\n",
      "|  1076254   |   920081  | 0.13615799943606058 |  9   |\n",
      "|  1076254   |   920092  | 0.12598830461502075 |  10  |\n",
      "|  1268548   |   123579  |  0.1666666567325592 |  1   |\n",
      "|  1268548   |   123822  |  0.1586759388446808 |  2   |\n",
      "|  1268548   |   123547  | 0.14907118678092957 |  3   |\n",
      "|  1268548   |   124725  | 0.14433756470680237 |  4   |\n",
      "|  1268548   |   123714  | 0.14433756470680237 |  5   |\n",
      "|  1268548   |   123683  | 0.14433756470680237 |  6   |\n",
      "|  1268548   |   124465  | 0.12955835461616516 |  7   |\n",
      "|  1268548   |   123447  |  0.1178511381149292 |  8   |\n",
      "|  1268548   |   123915  | 0.11220082640647888 |  9   |\n",
      "|  1268548   |   123913  | 0.10206207633018494 |  10  |\n",
      "|  1709459   |   920085  |  0.148100475470225  |  1   |\n",
      "|  1709459   |   920082  | 0.14502845207850137 |  2   |\n",
      "|  1709459   |   920091  |  0.1386280655860901 |  3   |\n",
      "|  1709459   |   920084  |  0.1369916796684265 |  4   |\n",
      "|  1709459   |   920087  | 0.13568230470021567 |  5   |\n",
      "|  1709459   |   920080  | 0.13205997149149576 |  6   |\n",
      "|  1709459   |   920090  |  0.1296456257502238 |  7   |\n",
      "|  1709459   |   920094  | 0.09237756331761678 |  8   |\n",
      "|  1709459   |   920088  | 0.08818227052688599 |  9   |\n",
      "|  1709459   |   920083  |  0.0868802269299825 |  10  |\n",
      "+------------+-----------+---------------------+------+\n",
      "[79870 rows x 4 columns]\n",
      "\n"
     ]
    }
   ],
   "source": [
    "users_to_recommend = list(customers[user_id])\n",
    "\n",
    "final_model = tc.item_similarity_recommender.create(tc.SFrame(data_dummy), \n",
    "                                            user_id=user_id, \n",
    "                                            item_id=item_id, \n",
    "                                            target='purchase_dummy', \n",
    "                                            similarity_type='cosine')\n",
    "\n",
    "recom = final_model.recommend(users=users_to_recommend, k=n_rec)\n",
    "recom.print_rows(n_display)"
   ]
  },
  {
   "cell_type": "markdown",
   "metadata": {},
   "source": [
    "### 8.1. CSV output file"
   ]
  },
  {
   "cell_type": "code",
   "execution_count": 69,
   "metadata": {},
   "outputs": [
    {
     "name": "stdout",
     "output_type": "stream",
     "text": [
      "(79870, 4)\n"
     ]
    },
    {
     "data": {
      "text/html": [
       "<div>\n",
       "<style scoped>\n",
       "    .dataframe tbody tr th:only-of-type {\n",
       "        vertical-align: middle;\n",
       "    }\n",
       "\n",
       "    .dataframe tbody tr th {\n",
       "        vertical-align: top;\n",
       "    }\n",
       "\n",
       "    .dataframe thead th {\n",
       "        text-align: right;\n",
       "    }\n",
       "</style>\n",
       "<table border=\"1\" class=\"dataframe\">\n",
       "  <thead>\n",
       "    <tr style=\"text-align: right;\">\n",
       "      <th></th>\n",
       "      <th>customerId</th>\n",
       "      <th>productId</th>\n",
       "      <th>score</th>\n",
       "      <th>rank</th>\n",
       "    </tr>\n",
       "  </thead>\n",
       "  <tbody>\n",
       "    <tr>\n",
       "      <th>0</th>\n",
       "      <td>1076254</td>\n",
       "      <td>920085</td>\n",
       "      <td>0.181691</td>\n",
       "      <td>1</td>\n",
       "    </tr>\n",
       "    <tr>\n",
       "      <th>1</th>\n",
       "      <td>1076254</td>\n",
       "      <td>920091</td>\n",
       "      <td>0.169584</td>\n",
       "      <td>2</td>\n",
       "    </tr>\n",
       "    <tr>\n",
       "      <th>2</th>\n",
       "      <td>1076254</td>\n",
       "      <td>920080</td>\n",
       "      <td>0.160829</td>\n",
       "      <td>3</td>\n",
       "    </tr>\n",
       "    <tr>\n",
       "      <th>3</th>\n",
       "      <td>1076254</td>\n",
       "      <td>920087</td>\n",
       "      <td>0.152680</td>\n",
       "      <td>4</td>\n",
       "    </tr>\n",
       "    <tr>\n",
       "      <th>4</th>\n",
       "      <td>1076254</td>\n",
       "      <td>920086</td>\n",
       "      <td>0.151442</td>\n",
       "      <td>5</td>\n",
       "    </tr>\n",
       "  </tbody>\n",
       "</table>\n",
       "</div>"
      ],
      "text/plain": [
       "   customerId  productId     score  rank\n",
       "0     1076254     920085  0.181691     1\n",
       "1     1076254     920091  0.169584     2\n",
       "2     1076254     920080  0.160829     3\n",
       "3     1076254     920087  0.152680     4\n",
       "4     1076254     920086  0.151442     5"
      ]
     },
     "execution_count": 69,
     "metadata": {},
     "output_type": "execute_result"
    }
   ],
   "source": [
    "df_rec = recom.to_dataframe()\n",
    "print(df_rec.shape)\n",
    "df_rec.head()"
   ]
  },
  {
   "cell_type": "code",
   "execution_count": 71,
   "metadata": {},
   "outputs": [],
   "source": [
    "df_rec['recommendedProducts'] = df_rec.groupby([user_id])[item_id].transform(lambda x: '|'.join(x.astype(str)))\n",
    "df_output = df_rec[['customerId', 'recommendedProducts']].drop_duplicates().sort_values('customerId').set_index('customerId')"
   ]
  },
  {
   "cell_type": "markdown",
   "metadata": {},
   "source": [
    "#### Define a function to create a desired output"
   ]
  },
  {
   "cell_type": "code",
   "execution_count": 72,
   "metadata": {},
   "outputs": [],
   "source": [
    "def create_output(model, users_to_recommend, n_rec, print_csv=True):\n",
    "    recomendation = model.recommend(users=users_to_recommend, k=n_rec)\n",
    "    df_rec = recomendation.to_dataframe()\n",
    "    df_rec['recommendedProducts'] = df_rec.groupby([user_id])[item_id] \\\n",
    "        .transform(lambda x: '|'.join(x.astype(str)))\n",
    "    df_output = df_rec[['customerId', 'recommendedProducts']].drop_duplicates() \\\n",
    "        .sort_values('customerId').set_index('customerId')\n",
    "    if print_csv:\n",
    "        df_output.to_csv('../output/option1_recommendation.csv')\n",
    "        print(\"An output file can be found in 'output' folder with name 'option1_recommendation.csv'\")\n",
    "    return df_output"
   ]
  },
  {
   "cell_type": "code",
   "execution_count": 126,
   "metadata": {},
   "outputs": [
    {
     "data": {
      "text/html": [
       "<pre>recommendations finished on 1000/1000 queries. users per second: 38980.3</pre>"
      ],
      "text/plain": [
       "recommendations finished on 1000/1000 queries. users per second: 38980.3"
      ]
     },
     "metadata": {},
     "output_type": "display_data"
    },
    {
     "name": "stdout",
     "output_type": "stream",
     "text": [
      "An output file can be found in 'output' folder with name 'option1_recommendation.csv'\n",
      "(1000, 1)\n"
     ]
    },
    {
     "data": {
      "text/html": [
       "<div>\n",
       "<style>\n",
       "    .dataframe thead tr:only-child th {\n",
       "        text-align: right;\n",
       "    }\n",
       "\n",
       "    .dataframe thead th {\n",
       "        text-align: left;\n",
       "    }\n",
       "\n",
       "    .dataframe tbody tr th {\n",
       "        vertical-align: top;\n",
       "    }\n",
       "</style>\n",
       "<table border=\"1\" class=\"dataframe\">\n",
       "  <thead>\n",
       "    <tr style=\"text-align: right;\">\n",
       "      <th></th>\n",
       "      <th>recommendedProducts</th>\n",
       "    </tr>\n",
       "    <tr>\n",
       "      <th>customerId</th>\n",
       "      <th></th>\n",
       "    </tr>\n",
       "  </thead>\n",
       "  <tbody>\n",
       "    <tr>\n",
       "      <th>4</th>\n",
       "      <td>2|82|249|14|86|215|39|194|111|8</td>\n",
       "    </tr>\n",
       "    <tr>\n",
       "      <th>11</th>\n",
       "      <td>0|51|2|103|31|169|13|226|11|271</td>\n",
       "    </tr>\n",
       "    <tr>\n",
       "      <th>12</th>\n",
       "      <td>44|109|170|1|82|2|19|276|118|47</td>\n",
       "    </tr>\n",
       "    <tr>\n",
       "      <th>16</th>\n",
       "      <td>14|162|1|47|17|105|21|223|118|0</td>\n",
       "    </tr>\n",
       "    <tr>\n",
       "      <th>21</th>\n",
       "      <td>48|38|93|36|79|2|50|144|1|0</td>\n",
       "    </tr>\n",
       "  </tbody>\n",
       "</table>\n",
       "</div>"
      ],
      "text/plain": [
       "                        recommendedProducts\n",
       "customerId                                 \n",
       "4           2|82|249|14|86|215|39|194|111|8\n",
       "11          0|51|2|103|31|169|13|226|11|271\n",
       "12          44|109|170|1|82|2|19|276|118|47\n",
       "16          14|162|1|47|17|105|21|223|118|0\n",
       "21              48|38|93|36|79|2|50|144|1|0"
      ]
     },
     "execution_count": 126,
     "metadata": {},
     "output_type": "execute_result"
    }
   ],
   "source": [
    "df_output = create_output(pear_norm, users_to_recommend, n_rec, print_csv=True)\n",
    "print(df_output.shape)\n",
    "df_output.head()"
   ]
  },
  {
   "cell_type": "markdown",
   "metadata": {},
   "source": [
    "### 8.2. Customer recommendation function"
   ]
  },
  {
   "cell_type": "code",
   "execution_count": 73,
   "metadata": {},
   "outputs": [],
   "source": [
    "def customer_recomendation(customer_id):\n",
    "    if customer_id not in df_output.index:\n",
    "        print('Customer not found.')\n",
    "        return customer_id\n",
    "    return df_output.loc[customer_id]"
   ]
  },
  {
   "cell_type": "code",
   "execution_count": 79,
   "metadata": {},
   "outputs": [
    {
     "data": {
      "text/plain": [
       "recommendedProducts    124213|123784|123770|124358|920091|920089|1241...\n",
       "Name: 1782386, dtype: object"
      ]
     },
     "execution_count": 79,
     "metadata": {},
     "output_type": "execute_result"
    }
   ],
   "source": [
    "customer_recomendation(1782386)"
   ]
  },
  {
   "cell_type": "code",
   "execution_count": 129,
   "metadata": {},
   "outputs": [
    {
     "data": {
      "text/plain": [
       "recommendedProducts    48|38|93|36|79|2|50|144|1|0\n",
       "Name: 21, dtype: object"
      ]
     },
     "execution_count": 129,
     "metadata": {},
     "output_type": "execute_result"
    }
   ],
   "source": [
    "customer_recomendation(21)"
   ]
  },
  {
   "cell_type": "markdown",
   "metadata": {
    "collapsed": true
   },
   "source": [
    "## Summary\n",
    "In this exercise, we were able to traverse a step-by-step process for making recommendations to customers. We used Collaborative Filtering approaches with `cosine` and `pearson` measure and compare the models with our baseline popularity model. We also prepared three sets of data that include regular buying count, buying dummy, as well as normalized purchase frequency as our target variable. Using RMSE, precision and recall, we evaluated our models and observed the impact of personalization. Finally, we selected the Cosine approach in dummy purchase data. "
   ]
  },
  {
   "cell_type": "code",
   "execution_count": null,
   "metadata": {
    "collapsed": true
   },
   "outputs": [],
   "source": []
  }
 ],
 "metadata": {
  "kernelspec": {
   "display_name": "Python 3",
   "language": "python",
   "name": "python3"
  },
  "language_info": {
   "codemirror_mode": {
    "name": "ipython",
    "version": 3
   },
   "file_extension": ".py",
   "mimetype": "text/x-python",
   "name": "python",
   "nbconvert_exporter": "python",
   "pygments_lexer": "ipython3",
   "version": "3.7.6"
  }
 },
 "nbformat": 4,
 "nbformat_minor": 2
}
