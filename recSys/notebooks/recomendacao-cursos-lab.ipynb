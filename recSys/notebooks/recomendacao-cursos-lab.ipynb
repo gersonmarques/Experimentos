{
 "cells": [
  {
   "cell_type": "code",
   "execution_count": 1,
   "metadata": {},
   "outputs": [],
   "source": [
    "import pandas as pd\n",
    "import numpy as np\n",
    "import time\n",
    "import turicreate as tc"
   ]
  },
  {
   "cell_type": "code",
   "execution_count": 2,
   "metadata": {},
   "outputs": [],
   "source": [
    "alunos = pd.read_csv('../data/alunos.csv')\n",
    "matriculas = pd.read_csv('../data/matriculas.csv')"
   ]
  },
  {
   "cell_type": "code",
   "execution_count": 3,
   "metadata": {},
   "outputs": [
    {
     "data": {
      "text/html": [
       "<div>\n",
       "<style scoped>\n",
       "    .dataframe tbody tr th:only-of-type {\n",
       "        vertical-align: middle;\n",
       "    }\n",
       "\n",
       "    .dataframe tbody tr th {\n",
       "        vertical-align: top;\n",
       "    }\n",
       "\n",
       "    .dataframe thead th {\n",
       "        text-align: right;\n",
       "    }\n",
       "</style>\n",
       "<table border=\"1\" class=\"dataframe\">\n",
       "  <thead>\n",
       "    <tr style=\"text-align: right;\">\n",
       "      <th></th>\n",
       "      <th>alunoId</th>\n",
       "      <th>cursoId</th>\n",
       "      <th>matricula_count</th>\n",
       "    </tr>\n",
       "  </thead>\n",
       "  <tbody>\n",
       "    <tr>\n",
       "      <th>0</th>\n",
       "      <td>1076254</td>\n",
       "      <td>123465.0</td>\n",
       "      <td>1</td>\n",
       "    </tr>\n",
       "    <tr>\n",
       "      <th>1</th>\n",
       "      <td>1076254</td>\n",
       "      <td>123507.0</td>\n",
       "      <td>1</td>\n",
       "    </tr>\n",
       "    <tr>\n",
       "      <th>2</th>\n",
       "      <td>1076254</td>\n",
       "      <td>124321.0</td>\n",
       "      <td>1</td>\n",
       "    </tr>\n",
       "    <tr>\n",
       "      <th>3</th>\n",
       "      <td>1076254</td>\n",
       "      <td>920083.0</td>\n",
       "      <td>1</td>\n",
       "    </tr>\n",
       "    <tr>\n",
       "      <th>4</th>\n",
       "      <td>1076254</td>\n",
       "      <td>920089.0</td>\n",
       "      <td>1</td>\n",
       "    </tr>\n",
       "    <tr>\n",
       "      <th>5</th>\n",
       "      <td>1076254</td>\n",
       "      <td>920090.0</td>\n",
       "      <td>1</td>\n",
       "    </tr>\n",
       "    <tr>\n",
       "      <th>6</th>\n",
       "      <td>1268548</td>\n",
       "      <td>122912.0</td>\n",
       "      <td>1</td>\n",
       "    </tr>\n",
       "    <tr>\n",
       "      <th>7</th>\n",
       "      <td>1268548</td>\n",
       "      <td>124321.0</td>\n",
       "      <td>1</td>\n",
       "    </tr>\n",
       "  </tbody>\n",
       "</table>\n",
       "</div>"
      ],
      "text/plain": [
       "   alunoId   cursoId  matricula_count\n",
       "0  1076254  123465.0                1\n",
       "1  1076254  123507.0                1\n",
       "2  1076254  124321.0                1\n",
       "3  1076254  920083.0                1\n",
       "4  1076254  920089.0                1\n",
       "5  1076254  920090.0                1\n",
       "6  1268548  122912.0                1\n",
       "7  1268548  124321.0                1"
      ]
     },
     "execution_count": 3,
     "metadata": {},
     "output_type": "execute_result"
    }
   ],
   "source": [
    "# etapa 1 da organizando dos cursos\n",
    "matriculas['cursos'] = matriculas['cursos'].apply(lambda x: [int(i) for i in x.split('|')])\n",
    "matriculas.head(2).set_index('alunoId')['cursos'].apply(pd.Series).reset_index()\n",
    "\n",
    "# etapa 2: criando um dataframe com os campos alunoId, cursoId, e matricula_count\n",
    "pd.melt(matriculas.head(2).set_index('alunoId')['cursos'].apply(pd.Series).reset_index(), \n",
    "             id_vars=['alunoId'],\n",
    "             value_name='cursos') \\\n",
    "    .dropna().drop(['variable'], axis=1) \\\n",
    "    .groupby(['alunoId', 'cursos']) \\\n",
    "    .agg({'cursos': 'count'}) \\\n",
    "    .rename(columns={'cursos': 'matricula_count'}) \\\n",
    "    .reset_index() \\\n",
    "    .rename(columns={'cursos': 'cursoId'})"
   ]
  },
  {
   "cell_type": "code",
   "execution_count": 4,
   "metadata": {},
   "outputs": [],
   "source": [
    "data = pd.melt(matriculas.set_index('alunoId')['cursos'].apply(pd.Series).reset_index(), \n",
    "             id_vars=['alunoId'],\n",
    "             value_name='cursos') \\\n",
    "    .dropna().drop(['variable'], axis=1) \\\n",
    "    .groupby(['alunoId', 'cursos']) \\\n",
    "    .agg({'cursos': 'count'}) \\\n",
    "    .rename(columns={'cursos': 'matricula_count'}) \\\n",
    "    .reset_index() \\\n",
    "    .rename(columns={'cursos': 'cursoId'})\n",
    "data['cursoId'] = data['cursoId'].astype(np.int64)"
   ]
  },
  {
   "cell_type": "code",
   "execution_count": 5,
   "metadata": {},
   "outputs": [
    {
     "ename": "NameError",
     "evalue": "name 'train_test_split' is not defined",
     "output_type": "error",
     "traceback": [
      "\u001b[0;31m---------------------------------------------------------------------------\u001b[0m",
      "\u001b[0;31mNameError\u001b[0m                                 Traceback (most recent call last)",
      "\u001b[0;32m<ipython-input-5-521acaa62bae>\u001b[0m in \u001b[0;36m<module>\u001b[0;34m\u001b[0m\n\u001b[0;32m----> 1\u001b[0;31m \u001b[0mtrain\u001b[0m\u001b[0;34m,\u001b[0m \u001b[0mtest\u001b[0m \u001b[0;34m=\u001b[0m \u001b[0mtrain_test_split\u001b[0m\u001b[0;34m(\u001b[0m\u001b[0mdata\u001b[0m\u001b[0;34m,\u001b[0m \u001b[0mtest_size\u001b[0m \u001b[0;34m=\u001b[0m \u001b[0;36m.2\u001b[0m\u001b[0;34m)\u001b[0m\u001b[0;34m\u001b[0m\u001b[0;34m\u001b[0m\u001b[0m\n\u001b[0m\u001b[1;32m      2\u001b[0m \u001b[0mprint\u001b[0m\u001b[0;34m(\u001b[0m\u001b[0mtrain\u001b[0m\u001b[0;34m.\u001b[0m\u001b[0mshape\u001b[0m\u001b[0;34m,\u001b[0m \u001b[0mtest\u001b[0m\u001b[0;34m.\u001b[0m\u001b[0mshape\u001b[0m\u001b[0;34m)\u001b[0m\u001b[0;34m\u001b[0m\u001b[0;34m\u001b[0m\u001b[0m\n",
      "\u001b[0;31mNameError\u001b[0m: name 'train_test_split' is not defined"
     ]
    }
   ],
   "source": [
    "train, test = train_test_split(data, test_size = .2)\n",
    "print(train.shape, test.shape)"
   ]
  },
  {
   "cell_type": "code",
   "execution_count": null,
   "metadata": {},
   "outputs": [],
   "source": [
    "train_data = tc.SFrame(train)\n",
    "test_data = tc.SFrame(test)"
   ]
  },
  {
   "cell_type": "code",
   "execution_count": 48,
   "metadata": {},
   "outputs": [
    {
     "data": {
      "text/html": [
       "<div style=\"max-height:1000px;max-width:1500px;overflow:auto;\"><table frame=\"box\" rules=\"cols\">\n",
       "    <tr>\n",
       "        <th style=\"padding-left: 1em; padding-right: 1em; text-align: center\">alunoId</th>\n",
       "        <th style=\"padding-left: 1em; padding-right: 1em; text-align: center\">cursoId</th>\n",
       "        <th style=\"padding-left: 1em; padding-right: 1em; text-align: center\">matricula_count</th>\n",
       "    </tr>\n",
       "    <tr>\n",
       "        <td style=\"padding-left: 1em; padding-right: 1em; text-align: center; vertical-align: top\">1269542</td>\n",
       "        <td style=\"padding-left: 1em; padding-right: 1em; text-align: center; vertical-align: top\">920081</td>\n",
       "        <td style=\"padding-left: 1em; padding-right: 1em; text-align: center; vertical-align: top\">1</td>\n",
       "    </tr>\n",
       "    <tr>\n",
       "        <td style=\"padding-left: 1em; padding-right: 1em; text-align: center; vertical-align: top\">1739070</td>\n",
       "        <td style=\"padding-left: 1em; padding-right: 1em; text-align: center; vertical-align: top\">920086</td>\n",
       "        <td style=\"padding-left: 1em; padding-right: 1em; text-align: center; vertical-align: top\">1</td>\n",
       "    </tr>\n",
       "    <tr>\n",
       "        <td style=\"padding-left: 1em; padding-right: 1em; text-align: center; vertical-align: top\">1702662</td>\n",
       "        <td style=\"padding-left: 1em; padding-right: 1em; text-align: center; vertical-align: top\">125</td>\n",
       "        <td style=\"padding-left: 1em; padding-right: 1em; text-align: center; vertical-align: top\">1</td>\n",
       "    </tr>\n",
       "    <tr>\n",
       "        <td style=\"padding-left: 1em; padding-right: 1em; text-align: center; vertical-align: top\">1714775</td>\n",
       "        <td style=\"padding-left: 1em; padding-right: 1em; text-align: center; vertical-align: top\">92</td>\n",
       "        <td style=\"padding-left: 1em; padding-right: 1em; text-align: center; vertical-align: top\">1</td>\n",
       "    </tr>\n",
       "    <tr>\n",
       "        <td style=\"padding-left: 1em; padding-right: 1em; text-align: center; vertical-align: top\">1827626</td>\n",
       "        <td style=\"padding-left: 1em; padding-right: 1em; text-align: center; vertical-align: top\">92</td>\n",
       "        <td style=\"padding-left: 1em; padding-right: 1em; text-align: center; vertical-align: top\">1</td>\n",
       "    </tr>\n",
       "    <tr>\n",
       "        <td style=\"padding-left: 1em; padding-right: 1em; text-align: center; vertical-align: top\">1786530</td>\n",
       "        <td style=\"padding-left: 1em; padding-right: 1em; text-align: center; vertical-align: top\">920089</td>\n",
       "        <td style=\"padding-left: 1em; padding-right: 1em; text-align: center; vertical-align: top\">1</td>\n",
       "    </tr>\n",
       "    <tr>\n",
       "        <td style=\"padding-left: 1em; padding-right: 1em; text-align: center; vertical-align: top\">1763201</td>\n",
       "        <td style=\"padding-left: 1em; padding-right: 1em; text-align: center; vertical-align: top\">920085</td>\n",
       "        <td style=\"padding-left: 1em; padding-right: 1em; text-align: center; vertical-align: top\">1</td>\n",
       "    </tr>\n",
       "    <tr>\n",
       "        <td style=\"padding-left: 1em; padding-right: 1em; text-align: center; vertical-align: top\">1786647</td>\n",
       "        <td style=\"padding-left: 1em; padding-right: 1em; text-align: center; vertical-align: top\">920089</td>\n",
       "        <td style=\"padding-left: 1em; padding-right: 1em; text-align: center; vertical-align: top\">1</td>\n",
       "    </tr>\n",
       "    <tr>\n",
       "        <td style=\"padding-left: 1em; padding-right: 1em; text-align: center; vertical-align: top\">1732092</td>\n",
       "        <td style=\"padding-left: 1em; padding-right: 1em; text-align: center; vertical-align: top\">920084</td>\n",
       "        <td style=\"padding-left: 1em; padding-right: 1em; text-align: center; vertical-align: top\">1</td>\n",
       "    </tr>\n",
       "    <tr>\n",
       "        <td style=\"padding-left: 1em; padding-right: 1em; text-align: center; vertical-align: top\">1806219</td>\n",
       "        <td style=\"padding-left: 1em; padding-right: 1em; text-align: center; vertical-align: top\">124740</td>\n",
       "        <td style=\"padding-left: 1em; padding-right: 1em; text-align: center; vertical-align: top\">1</td>\n",
       "    </tr>\n",
       "</table>\n",
       "[19570 rows x 3 columns]<br/>Note: Only the head of the SFrame is printed.<br/>You can use print_rows(num_rows=m, num_columns=n) to print more rows and columns.\n",
       "</div>"
      ],
      "text/plain": [
       "Columns:\n",
       "\talunoId\tint\n",
       "\tcursoId\tint\n",
       "\tmatricula_count\tint\n",
       "\n",
       "Rows: 19570\n",
       "\n",
       "Data:\n",
       "+---------+---------+-----------------+\n",
       "| alunoId | cursoId | matricula_count |\n",
       "+---------+---------+-----------------+\n",
       "| 1269542 |  920081 |        1        |\n",
       "| 1739070 |  920086 |        1        |\n",
       "| 1702662 |   125   |        1        |\n",
       "| 1714775 |    92   |        1        |\n",
       "| 1827626 |    92   |        1        |\n",
       "| 1786530 |  920089 |        1        |\n",
       "| 1763201 |  920085 |        1        |\n",
       "| 1786647 |  920089 |        1        |\n",
       "| 1732092 |  920084 |        1        |\n",
       "| 1806219 |  124740 |        1        |\n",
       "+---------+---------+-----------------+\n",
       "[19570 rows x 3 columns]\n",
       "Note: Only the head of the SFrame is printed.\n",
       "You can use print_rows(num_rows=m, num_columns=n) to print more rows and columns."
      ]
     },
     "execution_count": 48,
     "metadata": {},
     "output_type": "execute_result"
    }
   ],
   "source": [
    "train_data"
   ]
  },
  {
   "cell_type": "code",
   "execution_count": null,
   "metadata": {},
   "outputs": [],
   "source": [
    "test_data"
   ]
  },
  {
   "cell_type": "code",
   "execution_count": null,
   "metadata": {},
   "outputs": [],
   "source": [
    "\n",
    "user_id = 'alunoId'\n",
    "item_id = 'cursoId'\n",
    "users_to_recommend = list(matriculas[user_id])\n",
    "n_rec = 10 # múmero de ítens para receomendar\n",
    "n_display = 30 #número de alunos para mostrar\n",
    "\n",
    "cosine_model = tc.item_similarity_recommender.create(train_data, \n",
    "                                                    user_id=user_id, \n",
    "                                                    item_id=item_id, \n",
    "                                                    similarity_type='cosine')\n",
    "\n",
    "pearson_model = tc.item_similarity_recommender.create(train_data, \n",
    "                                                    user_id=user_id, \n",
    "                                                    item_id=item_id, \n",
    "                                                    similarity_type='pearson')\n",
    "\n",
    "cosine_recomm = cosine_model.recommend(users=users_to_recommend, k=n_rec)\n",
    "cosine_recomm.print_rows(n_display)\n",
    "\n",
    "pearson_recomm = pearson_model.recommend(users=users_to_recommend, k=n_rec)\n",
    "pearson_recomm.print_rows(n_display)\n"
   ]
  },
  {
   "cell_type": "code",
   "execution_count": 25,
   "metadata": {},
   "outputs": [
    {
     "data": {
      "text/html": [
       "<pre>recommendations finished on 1000/7987 queries. users per second: 34867.5</pre>"
      ],
      "text/plain": [
       "recommendations finished on 1000/7987 queries. users per second: 34867.5"
      ]
     },
     "metadata": {},
     "output_type": "display_data"
    },
    {
     "data": {
      "text/html": [
       "<pre>recommendations finished on 2000/7987 queries. users per second: 42661.2</pre>"
      ],
      "text/plain": [
       "recommendations finished on 2000/7987 queries. users per second: 42661.2"
      ]
     },
     "metadata": {},
     "output_type": "display_data"
    },
    {
     "data": {
      "text/html": [
       "<pre>recommendations finished on 3000/7987 queries. users per second: 40286.8</pre>"
      ],
      "text/plain": [
       "recommendations finished on 3000/7987 queries. users per second: 40286.8"
      ]
     },
     "metadata": {},
     "output_type": "display_data"
    },
    {
     "data": {
      "text/html": [
       "<pre>recommendations finished on 4000/7987 queries. users per second: 34156.5</pre>"
      ],
      "text/plain": [
       "recommendations finished on 4000/7987 queries. users per second: 34156.5"
      ]
     },
     "metadata": {},
     "output_type": "display_data"
    },
    {
     "data": {
      "text/html": [
       "<pre>recommendations finished on 5000/7987 queries. users per second: 28284.2</pre>"
      ],
      "text/plain": [
       "recommendations finished on 5000/7987 queries. users per second: 28284.2"
      ]
     },
     "metadata": {},
     "output_type": "display_data"
    },
    {
     "data": {
      "text/html": [
       "<pre>recommendations finished on 6000/7987 queries. users per second: 27049.4</pre>"
      ],
      "text/plain": [
       "recommendations finished on 6000/7987 queries. users per second: 27049.4"
      ]
     },
     "metadata": {},
     "output_type": "display_data"
    },
    {
     "data": {
      "text/html": [
       "<pre>recommendations finished on 7000/7987 queries. users per second: 25197.1</pre>"
      ],
      "text/plain": [
       "recommendations finished on 7000/7987 queries. users per second: 25197.1"
      ]
     },
     "metadata": {},
     "output_type": "display_data"
    },
    {
     "name": "stdout",
     "output_type": "stream",
     "text": [
      "+---------+---------+---------------------+------+\n",
      "| alunoId | cursoId |        score        | rank |\n",
      "+---------+---------+---------------------+------+\n",
      "| 1076254 |  920085 | 0.16347451011339822 |  1   |\n",
      "| 1076254 |  920091 | 0.15428065260251364 |  2   |\n",
      "| 1076254 |  920084 | 0.13212081789970398 |  3   |\n",
      "| 1076254 |  920087 | 0.12941795587539673 |  4   |\n",
      "| 1076254 |  920082 | 0.12900487581888834 |  5   |\n",
      "| 1076254 |  920080 |  0.1280336081981659 |  6   |\n",
      "| 1076254 |  920081 | 0.12535054485003153 |  7   |\n",
      "| 1076254 |  920094 | 0.12057096759478252 |  8   |\n",
      "| 1076254 |  920088 | 0.10784764091173808 |  9   |\n",
      "| 1076254 |  920086 | 0.10758921504020691 |  10  |\n",
      "| 1268548 |  123564 | 0.19999998807907104 |  1   |\n",
      "| 1268548 |  124683 | 0.19999998807907104 |  2   |\n",
      "| 1268548 |  124517 | 0.19999998807907104 |  3   |\n",
      "| 1268548 |  124669 |  0.141421377658844  |  4   |\n",
      "| 1268548 |  124496 |  0.141421377658844  |  5   |\n",
      "| 1268548 |  123777 |  0.141421377658844  |  6   |\n",
      "| 1268548 |  124467 |  0.141421377658844  |  7   |\n",
      "| 1268548 |  123822 |  0.141421377658844  |  8   |\n",
      "| 1268548 |  124642 | 0.13333332538604736 |  9   |\n",
      "| 1268548 |  123719 | 0.12792044878005981 |  10  |\n",
      "| 1709459 |  920085 | 0.13563638925552368 |  1   |\n",
      "| 1709459 |  920091 | 0.12760891517003378 |  2   |\n",
      "| 1709459 |  920084 |  0.1273967425028483 |  3   |\n",
      "| 1709459 |  920082 | 0.12647767861684164 |  4   |\n",
      "| 1709459 |  920090 | 0.12202558914820354 |  5   |\n",
      "| 1709459 |  920087 | 0.11814361810684204 |  6   |\n",
      "| 1709459 |  124562 | 0.10050378243128459 |  7   |\n",
      "| 1709459 |  123754 | 0.10050378243128459 |  8   |\n",
      "| 1709459 |  124680 | 0.10050378243128459 |  9   |\n",
      "| 1709459 |  920080 | 0.09913025299708049 |  10  |\n",
      "+---------+---------+---------------------+------+\n",
      "[79870 rows x 4 columns]\n",
      "\n"
     ]
    }
   ],
   "source": [
    "cosine_recomm = cosine_model.recommend(users=users_to_recommend, k=n_rec)\n",
    "cosine_recomm.print_rows(n_display)"
   ]
  },
  {
   "cell_type": "code",
   "execution_count": 51,
   "metadata": {},
   "outputs": [
    {
     "data": {
      "text/html": [
       "<pre>recommendations finished on 1000/7987 queries. users per second: 55732</pre>"
      ],
      "text/plain": [
       "recommendations finished on 1000/7987 queries. users per second: 55732"
      ]
     },
     "metadata": {},
     "output_type": "display_data"
    },
    {
     "data": {
      "text/html": [
       "<pre>recommendations finished on 2000/7987 queries. users per second: 69170.6</pre>"
      ],
      "text/plain": [
       "recommendations finished on 2000/7987 queries. users per second: 69170.6"
      ]
     },
     "metadata": {},
     "output_type": "display_data"
    },
    {
     "data": {
      "text/html": [
       "<pre>recommendations finished on 3000/7987 queries. users per second: 75481.2</pre>"
      ],
      "text/plain": [
       "recommendations finished on 3000/7987 queries. users per second: 75481.2"
      ]
     },
     "metadata": {},
     "output_type": "display_data"
    },
    {
     "data": {
      "text/html": [
       "<pre>recommendations finished on 4000/7987 queries. users per second: 78706.1</pre>"
      ],
      "text/plain": [
       "recommendations finished on 4000/7987 queries. users per second: 78706.1"
      ]
     },
     "metadata": {},
     "output_type": "display_data"
    },
    {
     "data": {
      "text/html": [
       "<pre>recommendations finished on 5000/7987 queries. users per second: 81017.6</pre>"
      ],
      "text/plain": [
       "recommendations finished on 5000/7987 queries. users per second: 81017.6"
      ]
     },
     "metadata": {},
     "output_type": "display_data"
    },
    {
     "data": {
      "text/html": [
       "<pre>recommendations finished on 6000/7987 queries. users per second: 83850.4</pre>"
      ],
      "text/plain": [
       "recommendations finished on 6000/7987 queries. users per second: 83850.4"
      ]
     },
     "metadata": {},
     "output_type": "display_data"
    },
    {
     "name": "stdout",
     "output_type": "stream",
     "text": [
      "+---------+---------+---------------------+------+\n",
      "| alunoId | cursoId |        score        | rank |\n",
      "+---------+---------+---------------------+------+\n",
      "| 1076254 |  920081 |         1.0         |  1   |\n",
      "| 1076254 |  920091 |  0.908485856905158  |  2   |\n",
      "| 1076254 |    92   |  0.9076539101497504 |  3   |\n",
      "| 1076254 |  920085 |  0.6913477537437605 |  4   |\n",
      "| 1076254 |   124   |  0.651414309484193  |  5   |\n",
      "| 1076254 |  920083 |  0.591514143094842  |  6   |\n",
      "| 1076254 |  920080 |  0.5515806988352745 |  7   |\n",
      "| 1076254 |  920082 |  0.5282861896838602 |  8   |\n",
      "| 1076254 |  920084 |  0.5141430948419301 |  9   |\n",
      "| 1076254 |  920087 | 0.48336106489184694 |  10  |\n",
      "| 1268548 |  920081 |         1.0         |  1   |\n",
      "| 1268548 |  920091 |  0.908485856905158  |  2   |\n",
      "| 1268548 |    92   |  0.9076539101497504 |  3   |\n",
      "| 1268548 |  920089 |  0.7579034941763727 |  4   |\n",
      "| 1268548 |  920085 |  0.6913477537437605 |  5   |\n",
      "| 1268548 |   124   |  0.651414309484193  |  6   |\n",
      "| 1268548 |  920083 |  0.591514143094842  |  7   |\n",
      "| 1268548 |  920080 |  0.5515806988352745 |  8   |\n",
      "| 1268548 |  920082 |  0.5282861896838602 |  9   |\n",
      "| 1268548 |  920084 |  0.5141430948419301 |  10  |\n",
      "| 1709459 |  920081 |         1.0         |  1   |\n",
      "| 1709459 |  920091 |  0.908485856905158  |  2   |\n",
      "| 1709459 |    92   |  0.9076539101497504 |  3   |\n",
      "| 1709459 |  920089 |  0.7579034941763727 |  4   |\n",
      "| 1709459 |  920085 |  0.6913477537437605 |  5   |\n",
      "| 1709459 |   124   |  0.651414309484193  |  6   |\n",
      "| 1709459 |  920083 |  0.591514143094842  |  7   |\n",
      "| 1709459 |  920080 |  0.5515806988352745 |  8   |\n",
      "| 1709459 |  920082 |  0.5282861896838602 |  9   |\n",
      "| 1709459 |  920084 |  0.5141430948419301 |  10  |\n",
      "+---------+---------+---------------------+------+\n",
      "[79870 rows x 4 columns]\n",
      "\n"
     ]
    },
    {
     "data": {
      "text/html": [
       "<pre>recommendations finished on 7000/7987 queries. users per second: 84429.9</pre>"
      ],
      "text/plain": [
       "recommendations finished on 7000/7987 queries. users per second: 84429.9"
      ]
     },
     "metadata": {},
     "output_type": "display_data"
    }
   ],
   "source": [
    "pearson_recomm = pearson_model.recommend(users=users_to_recommend, k=n_rec)\n",
    "pearson_recomm.print_rows(n_display)"
   ]
  },
  {
   "cell_type": "code",
   "execution_count": 56,
   "metadata": {},
   "outputs": [
    {
     "name": "stdout",
     "output_type": "stream",
     "text": [
      "PROGRESS: Evaluate model cosine\n"
     ]
    },
    {
     "data": {
      "text/html": [
       "<pre>recommendations finished on 1000/3200 queries. users per second: 39243.4</pre>"
      ],
      "text/plain": [
       "recommendations finished on 1000/3200 queries. users per second: 39243.4"
      ]
     },
     "metadata": {},
     "output_type": "display_data"
    },
    {
     "data": {
      "text/html": [
       "<pre>recommendations finished on 2000/3200 queries. users per second: 37207.9</pre>"
      ],
      "text/plain": [
       "recommendations finished on 2000/3200 queries. users per second: 37207.9"
      ]
     },
     "metadata": {},
     "output_type": "display_data"
    },
    {
     "data": {
      "text/html": [
       "<pre>recommendations finished on 3000/3200 queries. users per second: 38926.7</pre>"
      ],
      "text/plain": [
       "recommendations finished on 3000/3200 queries. users per second: 38926.7"
      ]
     },
     "metadata": {},
     "output_type": "display_data"
    },
    {
     "name": "stderr",
     "output_type": "stream",
     "text": [
      "WARNING:root:Model trained without a target. Skipping RMSE computation.\n"
     ]
    },
    {
     "name": "stdout",
     "output_type": "stream",
     "text": [
      "\n",
      "Precision and recall summary statistics by cutoff\n",
      "+--------+---------------------+---------------------+\n",
      "| cutoff |    mean_precision   |     mean_recall     |\n",
      "+--------+---------------------+---------------------+\n",
      "|   1    |  0.1506250000000002 | 0.09937574404761897 |\n",
      "|   2    | 0.12671875000000005 | 0.16130357142857132 |\n",
      "|   3    |       0.11125       | 0.21140029761904772 |\n",
      "|   4    |     0.102421875     | 0.26102008928571435 |\n",
      "|   5    | 0.09243750000000006 | 0.29290550595238124 |\n",
      "|   6    | 0.08567708333333326 |  0.3234627976190474 |\n",
      "|   7    | 0.07991071428571433 |  0.351202380952381  |\n",
      "|   8    | 0.07468749999999996 |     0.374234375     |\n",
      "|   9    | 0.07013888888888883 |  0.3950364583333334 |\n",
      "|   10   | 0.06593750000000002 |  0.4122247023809523 |\n",
      "+--------+---------------------+---------------------+\n",
      "[10 rows x 3 columns]\n",
      "\n",
      "PROGRESS: Evaluate model pearson\n"
     ]
    },
    {
     "data": {
      "text/html": [
       "<pre>recommendations finished on 1000/3200 queries. users per second: 50563.8</pre>"
      ],
      "text/plain": [
       "recommendations finished on 1000/3200 queries. users per second: 50563.8"
      ]
     },
     "metadata": {},
     "output_type": "display_data"
    },
    {
     "data": {
      "text/html": [
       "<pre>recommendations finished on 2000/3200 queries. users per second: 38797.3</pre>"
      ],
      "text/plain": [
       "recommendations finished on 2000/3200 queries. users per second: 38797.3"
      ]
     },
     "metadata": {},
     "output_type": "display_data"
    },
    {
     "data": {
      "text/html": [
       "<pre>recommendations finished on 3000/3200 queries. users per second: 35000.1</pre>"
      ],
      "text/plain": [
       "recommendations finished on 3000/3200 queries. users per second: 35000.1"
      ]
     },
     "metadata": {},
     "output_type": "display_data"
    },
    {
     "name": "stderr",
     "output_type": "stream",
     "text": [
      "WARNING:root:Model trained without a target. Skipping RMSE computation.\n"
     ]
    },
    {
     "name": "stdout",
     "output_type": "stream",
     "text": [
      "\n",
      "Precision and recall summary statistics by cutoff\n",
      "+--------+---------------------+----------------------+\n",
      "| cutoff |    mean_precision   |     mean_recall      |\n",
      "+--------+---------------------+----------------------+\n",
      "|   1    | 0.08687500000000008 | 0.055248139880952396 |\n",
      "|   2    |      0.08296875     | 0.10381659226190475  |\n",
      "|   3    | 0.08385416666666672 | 0.18944159226190482  |\n",
      "|   4    | 0.07937499999999992 | 0.23306584821428594  |\n",
      "|   5    | 0.07656250000000005 |  0.272502604166667   |\n",
      "|   6    | 0.07354166666666657 |  0.3309401041666669  |\n",
      "|   7    |  0.070982142857143  | 0.36535801091269804  |\n",
      "|   8    | 0.06812499999999994 | 0.39393737599206313  |\n",
      "|   9    |  0.0670138888888889 |  0.4304578373015874  |\n",
      "|   10   | 0.06612500000000004 | 0.46773127480158716  |\n",
      "+--------+---------------------+----------------------+\n",
      "[10 rows x 3 columns]\n",
      "\n"
     ]
    },
    {
     "data": {
      "text/plain": [
       "[{'precision_recall_by_user': Columns:\n",
       "  \talunoId\tint\n",
       "  \tcutoff\tint\n",
       "  \tprecision\tfloat\n",
       "  \trecall\tfloat\n",
       "  \tcount\tint\n",
       "  \n",
       "  Rows: 57600\n",
       "  \n",
       "  Data:\n",
       "  +---------+--------+---------------------+--------+-------+\n",
       "  | alunoId | cutoff |      precision      | recall | count |\n",
       "  +---------+--------+---------------------+--------+-------+\n",
       "  | 1269542 |   1    |         1.0         |  1.0   |   1   |\n",
       "  | 1269542 |   2    |         0.5         |  1.0   |   1   |\n",
       "  | 1269542 |   3    |  0.3333333333333333 |  1.0   |   1   |\n",
       "  | 1269542 |   4    |         0.25        |  1.0   |   1   |\n",
       "  | 1269542 |   5    |         0.2         |  1.0   |   1   |\n",
       "  | 1269542 |   6    | 0.16666666666666666 |  1.0   |   1   |\n",
       "  | 1269542 |   7    | 0.14285714285714285 |  1.0   |   1   |\n",
       "  | 1269542 |   8    |        0.125        |  1.0   |   1   |\n",
       "  | 1269542 |   9    |  0.1111111111111111 |  1.0   |   1   |\n",
       "  | 1269542 |   10   |         0.1         |  1.0   |   1   |\n",
       "  +---------+--------+---------------------+--------+-------+\n",
       "  [57600 rows x 5 columns]\n",
       "  Note: Only the head of the SFrame is printed.\n",
       "  You can use print_rows(num_rows=m, num_columns=n) to print more rows and columns.,\n",
       "  'precision_recall_overall': Columns:\n",
       "  \tcutoff\tint\n",
       "  \tprecision\tfloat\n",
       "  \trecall\tfloat\n",
       "  \n",
       "  Rows: 18\n",
       "  \n",
       "  Data:\n",
       "  +--------+---------------------+---------------------+\n",
       "  | cutoff |      precision      |        recall       |\n",
       "  +--------+---------------------+---------------------+\n",
       "  |   1    | 0.15062499999999987 | 0.09937574404761901 |\n",
       "  |   2    | 0.12671874999999994 |  0.1613035714285713 |\n",
       "  |   3    | 0.11125000000000002 | 0.21140029761904766 |\n",
       "  |   4    |     0.102421875     |  0.2610200892857148 |\n",
       "  |   5    | 0.09243750000000008 |  0.2929055059523811 |\n",
       "  |   6    | 0.08567708333333338 | 0.32346279761904806 |\n",
       "  |   7    |  0.0799107142857142 |  0.351202380952381  |\n",
       "  |   8    | 0.07468749999999998 |  0.3742343750000003 |\n",
       "  |   9    | 0.07013888888888885 |  0.3950364583333334 |\n",
       "  |   10   | 0.06593750000000007 |  0.4122247023809523 |\n",
       "  +--------+---------------------+---------------------+\n",
       "  [18 rows x 3 columns]\n",
       "  Note: Only the head of the SFrame is printed.\n",
       "  You can use print_rows(num_rows=m, num_columns=n) to print more rows and columns.},\n",
       " {'precision_recall_by_user': Columns:\n",
       "  \talunoId\tint\n",
       "  \tcutoff\tint\n",
       "  \tprecision\tfloat\n",
       "  \trecall\tfloat\n",
       "  \tcount\tint\n",
       "  \n",
       "  Rows: 57600\n",
       "  \n",
       "  Data:\n",
       "  +---------+--------+-----------+--------+-------+\n",
       "  | alunoId | cutoff | precision | recall | count |\n",
       "  +---------+--------+-----------+--------+-------+\n",
       "  | 1269542 |   1    |    0.0    |  0.0   |   1   |\n",
       "  | 1269542 |   2    |    0.0    |  0.0   |   1   |\n",
       "  | 1269542 |   3    |    0.0    |  0.0   |   1   |\n",
       "  | 1269542 |   4    |    0.0    |  0.0   |   1   |\n",
       "  | 1269542 |   5    |    0.0    |  0.0   |   1   |\n",
       "  | 1269542 |   6    |    0.0    |  0.0   |   1   |\n",
       "  | 1269542 |   7    |    0.0    |  0.0   |   1   |\n",
       "  | 1269542 |   8    |    0.0    |  0.0   |   1   |\n",
       "  | 1269542 |   9    |    0.0    |  0.0   |   1   |\n",
       "  | 1269542 |   10   |    0.0    |  0.0   |   1   |\n",
       "  +---------+--------+-----------+--------+-------+\n",
       "  [57600 rows x 5 columns]\n",
       "  Note: Only the head of the SFrame is printed.\n",
       "  You can use print_rows(num_rows=m, num_columns=n) to print more rows and columns.,\n",
       "  'precision_recall_overall': Columns:\n",
       "  \tcutoff\tint\n",
       "  \tprecision\tfloat\n",
       "  \trecall\tfloat\n",
       "  \n",
       "  Rows: 18\n",
       "  \n",
       "  Data:\n",
       "  +--------+---------------------+----------------------+\n",
       "  | cutoff |      precision      |        recall        |\n",
       "  +--------+---------------------+----------------------+\n",
       "  |   1    |       0.086875      | 0.055248139880952375 |\n",
       "  |   2    | 0.08296874999999992 | 0.10381659226190477  |\n",
       "  |   3    | 0.08385416666666667 |  0.1894415922619047  |\n",
       "  |   4    | 0.07937499999999996 | 0.23306584821428594  |\n",
       "  |   5    | 0.07656250000000014 |  0.2725026041666667  |\n",
       "  |   6    | 0.07354166666666662 | 0.33094010416666686  |\n",
       "  |   7    | 0.07098214285714277 |  0.3653580109126985  |\n",
       "  |   8    | 0.06812499999999998 |  0.3939373759920637  |\n",
       "  |   9    | 0.06701388888888894 |  0.4304578373015874  |\n",
       "  |   10   | 0.06612499999999999 |  0.4677312748015875  |\n",
       "  +--------+---------------------+----------------------+\n",
       "  [18 rows x 3 columns]\n",
       "  Note: Only the head of the SFrame is printed.\n",
       "  You can use print_rows(num_rows=m, num_columns=n) to print more rows and columns.}]"
      ]
     },
     "execution_count": 56,
     "metadata": {},
     "output_type": "execute_result"
    }
   ],
   "source": [
    "tc.recommender.util.compare_models(test_data, [cosine_model, pearson_model], model_names=[\"cosine\", \"pearson\"], exclude_known_for_precision_recall=False)"
   ]
  },
  {
   "cell_type": "code",
   "execution_count": null,
   "metadata": {},
   "outputs": [],
   "source": []
  }
 ],
 "metadata": {
  "kernelspec": {
   "display_name": "Python 3",
   "language": "python",
   "name": "python3"
  },
  "language_info": {
   "codemirror_mode": {
    "name": "ipython",
    "version": 3
   },
   "file_extension": ".py",
   "mimetype": "text/x-python",
   "name": "python",
   "nbconvert_exporter": "python",
   "pygments_lexer": "ipython3",
   "version": "3.7.6"
  }
 },
 "nbformat": 4,
 "nbformat_minor": 4
}
